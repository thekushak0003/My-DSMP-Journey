{
 "cells": [
  {
   "cell_type": "markdown",
   "id": "38f9184e",
   "metadata": {},
   "source": [
    "#### Numpy"
   ]
  },
  {
   "cell_type": "code",
   "execution_count": 12,
   "id": "9d01754f",
   "metadata": {},
   "outputs": [],
   "source": [
    "import numpy as np"
   ]
  },
  {
   "cell_type": "code",
   "execution_count": 13,
   "id": "5818c15e",
   "metadata": {},
   "outputs": [
    {
     "name": "stdout",
     "output_type": "stream",
     "text": [
      "Before:- \n",
      "[[ 0  1  2  3  4]\n",
      " [ 5  6  7  8  9]\n",
      " [10 11 12 13 14]]\n",
      "After:- \n",
      "[[ 0  3  2  1  4]\n",
      " [ 5  8  7  6  9]\n",
      " [10 13 12 11 14]]\n"
     ]
    }
   ],
   "source": [
    "my_arr=np.arange(15).reshape(3,5)\n",
    "print('Before:- ')\n",
    "print(my_arr)\n",
    "\n",
    "def swap(arr,start_index,end_index):\n",
    "    arr[:,[start_index,end_index]]=arr[:,[end_index,start_index]]\n",
    "swap(my_arr,1,3)    \n",
    "print('After:- ')\n",
    "print(my_arr)    "
   ]
  },
  {
   "cell_type": "code",
   "execution_count": 14,
   "id": "5fc25c47",
   "metadata": {},
   "outputs": [
    {
     "name": "stdout",
     "output_type": "stream",
     "text": [
      "(5, 5)\n"
     ]
    },
    {
     "data": {
      "text/plain": [
       "(1, 1, 5, 5, 1, 1)"
      ]
     },
     "execution_count": 14,
     "metadata": {},
     "output_type": "execute_result"
    }
   ],
   "source": [
    "my_arr=np.arange(5*5).reshape(5,5)\n",
    "print(my_arr.shape)\n",
    "arr_5d=my_arr[np.newaxis,np.newaxis,...,np.newaxis,np.newaxis]\n",
    "arr_5d.shape"
   ]
  },
  {
   "cell_type": "code",
   "execution_count": 15,
   "id": "797c8253",
   "metadata": {},
   "outputs": [
    {
     "data": {
      "text/plain": [
       "array([[ 1,  2,  3,  7,  8,  9],\n",
       "       [ 4,  5,  6, 10, 11, 12]])"
      ]
     },
     "execution_count": 15,
     "metadata": {},
     "output_type": "execute_result"
    }
   ],
   "source": [
    "arr1=np.array([[1,2,3],[4,5,6]])\n",
    "arr2=np.array([[7,8,9],[10,11,12]])\n",
    "my_arr=np.hstack((arr1,arr2))\n",
    "my_arr"
   ]
  },
  {
   "cell_type": "code",
   "execution_count": 16,
   "id": "09e03317",
   "metadata": {},
   "outputs": [
    {
     "data": {
      "text/plain": [
       "array([[ 1,  2,  3],\n",
       "       [ 4,  5,  6],\n",
       "       [ 7,  8,  9],\n",
       "       [10, 11, 12]])"
      ]
     },
     "execution_count": 16,
     "metadata": {},
     "output_type": "execute_result"
    }
   ],
   "source": [
    "arr1=np.array([[1,2,3],[4,5,6]])\n",
    "arr2=np.array([[7,8,9],[10,11,12]])\n",
    "my_arr=np.vstack((arr1,arr2))\n",
    "my_arr"
   ]
  },
  {
   "cell_type": "code",
   "execution_count": 17,
   "id": "509267b5",
   "metadata": {},
   "outputs": [
    {
     "data": {
      "text/plain": [
       "array([[ 1. ,  2. ,  3. ,  7.2,  8. ,  9. ],\n",
       "       [ 4. ,  5. ,  6. , 10. , 11.3, 12. ]])"
      ]
     },
     "execution_count": 17,
     "metadata": {},
     "output_type": "execute_result"
    }
   ],
   "source": [
    "arr1=np.array([[1,2,3],[4,5,6]])\n",
    "arr2=np.array([[7.2,8,9],[10,11.3,12]])\n",
    "my_arr=np.concatenate((arr1,arr2),axis=1)\n",
    "my_arr"
   ]
  },
  {
   "cell_type": "code",
   "execution_count": 18,
   "id": "ee855edd",
   "metadata": {},
   "outputs": [
    {
     "name": "stdout",
     "output_type": "stream",
     "text": [
      "[[[ 1  2  3]\n",
      "  [ 4  5  6]]\n",
      "\n",
      " [[ 7  8  9]\n",
      "  [10 11 12]]]\n",
      "[[[ 1  2  3]\n",
      "  [ 7  8  9]]\n",
      "\n",
      " [[ 4  5  6]\n",
      "  [10 11 12]]]\n",
      "[[[ 1  7]\n",
      "  [ 2  8]\n",
      "  [ 3  9]]\n",
      "\n",
      " [[ 4 10]\n",
      "  [ 5 11]\n",
      "  [ 6 12]]]\n"
     ]
    }
   ],
   "source": [
    "arr1=np.array([[1,2,3],[4,5,6]])\n",
    "arr2=np.array([[7,8,9],[10,11,12]])\n",
    "my_arr0=np.stack((arr1,arr2),axis=0)\n",
    "my_arr1=np.stack((arr1,arr2),axis=1)\n",
    "my_arr2=np.stack((arr1,arr2),axis=2)\n",
    "print(my_arr0)\n",
    "print(my_arr1)\n",
    "print(my_arr2)"
   ]
  },
  {
   "cell_type": "code",
   "execution_count": 19,
   "id": "3943ac98",
   "metadata": {},
   "outputs": [
    {
     "name": "stdout",
     "output_type": "stream",
     "text": [
      "[[[10 41]]\n",
      "\n",
      " [[ 2 55]]\n",
      "\n",
      " [[13  6]]]\n",
      "\n",
      "[[[10]\n",
      "  [ 2]\n",
      "  [13]]\n",
      "\n",
      " [[41]\n",
      "  [55]\n",
      "  [ 6]]]\n"
     ]
    }
   ],
   "source": [
    "# import numpy \n",
    "import numpy as np \n",
    "\n",
    "gfg1 = np.array([[10], [2], [13]]) \n",
    "gfg2 = np.array([[41], [55], [6]]) \n",
    "\n",
    "# using numpy.dstack() method \n",
    "print(np.dstack((gfg1, gfg2))) \n",
    "print()\n",
    "print(np.stack((gfg1, gfg2)))\n"
   ]
  },
  {
   "cell_type": "code",
   "execution_count": 20,
   "id": "c2c79ae4",
   "metadata": {},
   "outputs": [
    {
     "name": "stdout",
     "output_type": "stream",
     "text": [
      "Array:\n",
      "[0 1 2 3 4 5]\n",
      "\n",
      "Result after numpy.split():\n",
      "[array([0, 1]), array([2, 3]), array([4, 5])]\n"
     ]
    }
   ],
   "source": [
    "import numpy as np\n",
    "# Creating an example array\n",
    "array = np.arange(6)\n",
    "# Splitting the array into 2 equal parts along the first axis (axis=0)\n",
    "result = np.split(array, 3,axis=0)\n",
    "print(\"Array:\")\n",
    "print(array)\n",
    "print(\"\\nResult after numpy.split():\")\n",
    "print(result)\n"
   ]
  },
  {
   "cell_type": "code",
   "execution_count": 21,
   "id": "1d9e7177",
   "metadata": {},
   "outputs": [
    {
     "name": "stdout",
     "output_type": "stream",
     "text": [
      "Original 3D Array:\n",
      "[[[ 0  1  2  3]\n",
      "  [ 4  5  6  7]\n",
      "  [ 8  9 10 11]]\n",
      "\n",
      " [[12 13 14 15]\n",
      "  [16 17 18 19]\n",
      "  [20 21 22 23]]]\n",
      "\n",
      "Result after numpy.dsplit():\n",
      "[array([[[ 0,  1],\n",
      "        [ 4,  5],\n",
      "        [ 8,  9]],\n",
      "\n",
      "       [[12, 13],\n",
      "        [16, 17],\n",
      "        [20, 21]]]), array([[[ 2,  3],\n",
      "        [ 6,  7],\n",
      "        [10, 11]],\n",
      "\n",
      "       [[14, 15],\n",
      "        [18, 19],\n",
      "        [22, 23]]])]\n"
     ]
    }
   ],
   "source": [
    "import numpy as np\n",
    "my_arr = np.arange(24).reshape((2, 3, 4))\n",
    "result = np.dsplit(my_arr, 2)\n",
    "print(\"Original 3D Array:\")\n",
    "print(my_arr)\n",
    "print(\"\\nResult after numpy.dsplit():\")\n",
    "print(result)"
   ]
  },
  {
   "cell_type": "code",
   "execution_count": 22,
   "id": "04487ce7",
   "metadata": {},
   "outputs": [
    {
     "name": "stdout",
     "output_type": "stream",
     "text": [
      "Array a : [101  99  87]\n",
      "Array b : [897  97 111]\n",
      "a > b\n",
      "[False  True False]\n",
      "a >= b\n",
      "[False  True False]\n",
      "a < b\n",
      "[ True False  True]\n",
      "a <= b\n",
      "[ True False  True]\n"
     ]
    }
   ],
   "source": [
    "a = np.array([101, 99, 87])\n",
    "b = np.array([897, 97, 111])\n",
    "print(\"Array a :\", a)\n",
    "print(\"Array b :\", b)\n",
    "print(\"a > b\")\n",
    "print(np.greater(a, b))\n",
    "print(\"a >= b\")\n",
    "print(np.greater_equal(a, b))\n",
    "print(\"a < b\")\n",
    "print(np.less(a, b))\n",
    "print(\"a <= b\")\n",
    "print(np.less_equal(a, b))\n"
   ]
  },
  {
   "cell_type": "code",
   "execution_count": null,
   "id": "53477333",
   "metadata": {},
   "outputs": [],
   "source": []
  }
 ],
 "metadata": {
  "kernelspec": {
   "display_name": "Python 3",
   "language": "python",
   "name": "python3"
  },
  "language_info": {
   "codemirror_mode": {
    "name": "ipython",
    "version": 3
   },
   "file_extension": ".py",
   "mimetype": "text/x-python",
   "name": "python",
   "nbconvert_exporter": "python",
   "pygments_lexer": "ipython3",
   "version": "3.12.4"
  }
 },
 "nbformat": 4,
 "nbformat_minor": 5
}

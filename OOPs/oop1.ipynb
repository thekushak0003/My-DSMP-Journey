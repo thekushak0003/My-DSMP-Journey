{
 "cells": [
  {
   "cell_type": "code",
   "execution_count": 2,
   "metadata": {},
   "outputs": [],
   "source": [
    "class Atm:\n",
    "    # Constructer(special function) --> Superpower --> to execute no need to call explicitely\n",
    "    def __init__(self):\n",
    "        self.pin = ''\n",
    "        self.balance = 0\n",
    "        self.menu()\n",
    "    def menu(self):\n",
    "        user_input = input(\"\"\"\n",
    "        Hi how can I help you ?\n",
    "        1. Press 1 to create PIN\n",
    "        2. Press 2 to change PIN\n",
    "        3. Press 3 to check balance\n",
    "        4. Press 4 to withdraw\n",
    "        5. Press 5 to Exit      \n",
    "              \"\"\")  \n",
    "        \n",
    "        if user_input == '1':\n",
    "            # Create PIN\n",
    "            self.create_pin()\n",
    "        elif user_input == '2':\n",
    "            # Change PIN\n",
    "            self.change_pin()            \n",
    "        elif user_input == '3':\n",
    "            # Check balance\n",
    "            self.check_balance()          \n",
    "        elif user_input == '4':\n",
    "             # Withdraw\n",
    "             self.withdraw()         \n",
    "        else :\n",
    "            exit()\n",
    "    def create_pin(self):\n",
    "        user_pin = int(input(\"Enter your PIN:- \"))\n",
    "        self.pin = user_pin\n",
    "    \n",
    "        user_balance = int(input('enter balance'))\n",
    "        self.balance = user_balance\n",
    "        \n",
    "        print(\"PIN created successfully\")  \n",
    "        # self.menu()                \n",
    "    \n",
    "    def change_pin(self):\n",
    "        old_pin = int(input(\"Enter your old PIN:- \"))\n",
    "        if old_pin == self.pin:\n",
    "            # Let him change the PIN\n",
    "            new_pin = int(input(\"Enter your new PIN:- \"))\n",
    "            self.pin = new_pin\n",
    "            print(\"PIN has been changed\")\n",
    "            self.menu()\n",
    "        else:\n",
    "            print(\"chal nikal...\")\n",
    "            self.menu()\n",
    "            \n",
    "    def check_balance(self):\n",
    "        user_pin = input('Enter your PIN')\n",
    "        if user_pin == self.pin:\n",
    "          print('Your balance is:- ',self.balance)\n",
    "        else:\n",
    "          print('chal nikal...')\n",
    "        self.menu()\n",
    "    def withdraw(self):\n",
    "        user_pin = input('Enter your PIN')\n",
    "        if user_pin == self.pin:\n",
    "           # Allow to withdraw\n",
    "           amount = int(input(\"Enter your amount:- \"))\n",
    "           if amount <= self.balance:\n",
    "               self.balance = self.balance - amount\n",
    "               print(\"Withdrawal successful. Money left:- \",self.balance)\n",
    "           else:\n",
    "               print(\"Abe gareeb!\")    \n",
    "        else:\n",
    "            print(\"Chal nikal...\") \n",
    "        self.menu()      \n",
    "           \n",
    "              \n",
    "                                                "
   ]
  },
  {
   "cell_type": "code",
   "execution_count": 3,
   "metadata": {},
   "outputs": [
    {
     "name": "stdout",
     "output_type": "stream",
     "text": [
      "PIN created successfully\n"
     ]
    }
   ],
   "source": [
    "obj = Atm()"
   ]
  },
  {
   "cell_type": "code",
   "execution_count": 4,
   "metadata": {},
   "outputs": [
    {
     "name": "stdout",
     "output_type": "stream",
     "text": [
      "<class '__main__.Atm'>\n"
     ]
    }
   ],
   "source": [
    "print(type(obj))"
   ]
  },
  {
   "cell_type": "code",
   "execution_count": 5,
   "metadata": {},
   "outputs": [],
   "source": [
    "list = [1,2,3,4]\n",
    "len(list) # Function --> bcz it is outside the list class\n",
    "\n",
    "list.append(5) # Method --> bcz it is inside the list class"
   ]
  },
  {
   "cell_type": "code",
   "execution_count": 20,
   "metadata": {},
   "outputs": [],
   "source": [
    "class Fraction:\n",
    "    # Parametized constructer\n",
    "    def __init__(self,x,y):\n",
    "        self.num = x\n",
    "        self.den = y\n",
    "        \n",
    "    def __str__(self): # Python ko btayega how your object looks\n",
    "        return '{}/{}'.format(self.num,self.den)\n",
    "        \n",
    "    def __add__(self,other):\n",
    "        new_num = self.num*other.den + other.num*self.den\n",
    "        new_den = self.den*other.den\n",
    "        return '{}/{}'.format(new_num,new_den)    \n",
    "    \n",
    "    def __sub__(self,other):\n",
    "        new_num = self.num*other.den - other.num*self.den\n",
    "        new_den = self.den*other.den\n",
    "        return '{}/{}'.format(new_num,new_den)\n",
    "    \n",
    "    def __mul__(self,other):\n",
    "        new_num = self.num*other.num\n",
    "        new_den = self.den*other.den\n",
    "        return '{}/{}'.format(new_num,new_den)\n",
    "    \n",
    "    def __truediv__(self,other):\n",
    "        new_num = self.num*other.den\n",
    "        new_den = self.den*other.num\n",
    "        return '{}/{}'.format(new_num,new_den) \n",
    "    \n",
    "    def convert_to_decimal(self):\n",
    "        return self.num/self.den   "
   ]
  },
  {
   "cell_type": "code",
   "execution_count": 21,
   "metadata": {},
   "outputs": [],
   "source": [
    "fr1 = Fraction(2,5)\n",
    "fr2 = Fraction(3,7)"
   ]
  },
  {
   "cell_type": "code",
   "execution_count": 22,
   "metadata": {},
   "outputs": [
    {
     "name": "stdout",
     "output_type": "stream",
     "text": [
      "2/5\n",
      "3/7\n"
     ]
    }
   ],
   "source": [
    "print(fr1)\n",
    "print(fr2)"
   ]
  },
  {
   "cell_type": "code",
   "execution_count": 23,
   "metadata": {},
   "outputs": [
    {
     "name": "stdout",
     "output_type": "stream",
     "text": [
      "29/35\n",
      "-1/35\n",
      "6/35\n",
      "14/15\n"
     ]
    }
   ],
   "source": [
    "print(fr1 + fr2)\n",
    "print(fr1 - fr2)\n",
    "print(fr1 * fr2)\n",
    "print(fr1 / fr2)"
   ]
  },
  {
   "cell_type": "code",
   "execution_count": null,
   "metadata": {},
   "outputs": [],
   "source": []
  }
 ],
 "metadata": {
  "kernelspec": {
   "display_name": "Python 3",
   "language": "python",
   "name": "python3"
  },
  "language_info": {
   "codemirror_mode": {
    "name": "ipython",
    "version": 3
   },
   "file_extension": ".py",
   "mimetype": "text/x-python",
   "name": "python",
   "nbconvert_exporter": "python",
   "pygments_lexer": "ipython3",
   "version": "3.12.4"
  }
 },
 "nbformat": 4,
 "nbformat_minor": 2
}

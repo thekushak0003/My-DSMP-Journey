{
 "cells": [
  {
   "cell_type": "markdown",
   "metadata": {},
   "source": [
    "### Session-1"
   ]
  },
  {
   "cell_type": "code",
   "execution_count": 59,
   "metadata": {},
   "outputs": [
    {
     "name": "stdout",
     "output_type": "stream",
     "text": [
      "0.09999999999999998\n"
     ]
    }
   ],
   "source": [
    "a = 0.3\n",
    "b = 0.2\n",
    "print(a-b)"
   ]
  },
  {
   "cell_type": "code",
   "execution_count": 60,
   "metadata": {},
   "outputs": [],
   "source": [
    "import this"
   ]
  },
  {
   "cell_type": "code",
   "execution_count": 61,
   "metadata": {},
   "outputs": [
    {
     "name": "stdout",
     "output_type": "stream",
     "text": [
      "1 bytes = 8 bits which has 255 possible values.\n",
      "2 bytes = 16 bits which has 65535 possible values.\n",
      "4 bytes = 32 bits which has 4294967295 possible values.\n",
      "8 bytes = 64 bits which has 18446744073709551615 possible values.\n",
      "16 bytes = 128 bits which has 340282366920938463463374607431768211455 possible values.\n",
      "32 bytes = 256 bits which has 115792089237316195423570985008687907853269984665640564039457584007913129639935 possible values.\n",
      "64 bytes = 512 bits which has 13407807929942597099574024998205846127479365820592393377723561443721764030073546976801874298166903427690031858186486050853753882811946569946433649006084095 possible values.\n",
      "128 bytes = 1024 bits which has 179769313486231590772930519078902473361797697894230657273430081157732675805500963132708477322407536021120113879871393357658789768814416622492847430639474124377767893424865485276302219601246094119453082952085005768838150682342462881473913110540827237163350510684586298239947245938479716304835356329624224137215 possible values.\n"
     ]
    }
   ],
   "source": [
    "print('\\n'.join(\"%i bytes = %i bits which has %i possible values.\" % (j, j*8, 256**j-1) for j in (1 << i for i in range(8))))"
   ]
  },
  {
   "cell_type": "markdown",
   "metadata": {},
   "source": [
    "### Arrays"
   ]
  },
  {
   "cell_type": "markdown",
   "metadata": {},
   "source": [
    "##### Maximum sum subarray"
   ]
  },
  {
   "cell_type": "code",
   "execution_count": 62,
   "metadata": {},
   "outputs": [
    {
     "name": "stdout",
     "output_type": "stream",
     "text": [
      "[4, 7, -1, 6, -11, 14, 3, -1, -6]\n"
     ]
    }
   ],
   "source": [
    "L = [-2,4,7,-1,6,-11,14,3,-1,-6]\n",
    "\n",
    "d = {}\n",
    "\n",
    "for i in range(0,len(L)):\n",
    "  subarray = []\n",
    "  for j in range(i,len(L)):\n",
    "    subarray.append(L[j])\n",
    "    d[sum(subarray)] = subarray\n",
    "\n",
    "max_val = max(d.keys())\n",
    "\n",
    "for i in d:\n",
    "  if i == max_val:\n",
    "    print(d[i])"
   ]
  },
  {
   "cell_type": "markdown",
   "metadata": {},
   "source": [
    "#### To improve the efficiency of code we will use Kadane's Algorithm "
   ]
  },
  {
   "cell_type": "code",
   "execution_count": 63,
   "metadata": {},
   "outputs": [
    {
     "name": "stdout",
     "output_type": "stream",
     "text": [
      "[-2] -2\n",
      "[4] 4\n",
      "[4, 7] 11\n",
      "[4, 7, -1] 10\n",
      "[4, 7, -1, 6] 16\n",
      "[4, 7, -1, 6, -11] 5\n",
      "[4, 7, -1, 6, -11, 14] 19\n",
      "[4, 7, -1, 6, -11, 14, 3] 22\n",
      "[4, 7, -1, 6, -11, 14, 3, -1] 21\n",
      "[4, 7, -1, 6, -11, 14, 3, -1, -6] 15\n",
      "\n",
      "22 [4, 7, -1, 6, -11, 14, 3, -1, -6]\n"
     ]
    }
   ],
   "source": [
    "L = [-2,4,7,-1,6,-11,14,3,-1,-6]\n",
    "\n",
    "curr_sum = 0\n",
    "curr_seq = []\n",
    "best_sum = L[0]\n",
    "best_seq = []\n",
    "for i in L:\n",
    "    if i+curr_sum>i:        \n",
    "        curr_sum = curr_sum+i\n",
    "        curr_seq.append(i)\n",
    "    else:\n",
    "        curr_sum = i\n",
    "        curr_seq.clear()\n",
    "        curr_seq.append(i)\n",
    "    \n",
    "    if curr_sum>best_sum:\n",
    "        best_sum = curr_sum\n",
    "        best_seq = curr_seq\n",
    "    print(curr_seq,curr_sum)                  \n",
    "print()\n",
    "print(best_sum,best_seq)    "
   ]
  },
  {
   "cell_type": "markdown",
   "metadata": {},
   "source": [
    "##### Find element with left side smaller/right side greater in an array"
   ]
  },
  {
   "cell_type": "code",
   "execution_count": 73,
   "metadata": {},
   "outputs": [
    {
     "name": "stdout",
     "output_type": "stream",
     "text": [
      "6\n"
     ]
    }
   ],
   "source": [
    "# Time Complexity --> n2\n",
    "L = [5, 1, 4, 3, 6, 8, 10, 7, 9]\n",
    "\n",
    "for i in range(1,len(L)-1):\n",
    "    flag = True\n",
    "    \n",
    "    for j in range(0,i):\n",
    "        if L[j]>L[i]:\n",
    "            flag = False\n",
    "    \n",
    "    for k in range(i+1,len(L)):\n",
    "        if L[k]<L[i]:\n",
    "            flag = False \n",
    "    if flag:\n",
    "        print(L[i])                   "
   ]
  },
  {
   "cell_type": "code",
   "execution_count": 72,
   "metadata": {},
   "outputs": [
    {
     "name": "stdout",
     "output_type": "stream",
     "text": [
      "6\n"
     ]
    }
   ],
   "source": [
    "# Time Complexity --> n2\n",
    "L = [5, 1, 4, 3, 6, 8, 10, 7, 9]\n",
    "for i in range(1,len(L)-1):\n",
    "    if max(L[:i])<L[i]<min(L[i+1:]):\n",
    "        print(L[i])"
   ]
  },
  {
   "cell_type": "code",
   "execution_count": 78,
   "metadata": {},
   "outputs": [
    {
     "name": "stdout",
     "output_type": "stream",
     "text": [
      "[5, 5, 5, 5, 6, 8, 10, 10, 10]\n",
      "[1, 1, 3, 3, 6, 7, 7, 7, 9]\n",
      "6\n"
     ]
    }
   ],
   "source": [
    "# Time Complexity --> n\n",
    "L = [5, 1, 4, 3, 6, 8, 10, 7, 9]\n",
    "\n",
    "max_arr = []\n",
    "min_arr = []\n",
    "max_val=L[0]\n",
    "min_val=L[-1]\n",
    "for i in L:\n",
    "    if i>max_val:\n",
    "        max_val=i\n",
    "    max_arr.append(max_val)\n",
    "print(max_arr) \n",
    "\n",
    "for i in range(len(L)-1,-1,-1):\n",
    "    if L[i]<min_val:\n",
    "        min_val=L[i]\n",
    "    min_arr.insert(0,min_val)    \n",
    "print(min_arr)  \n",
    "\n",
    "for i in range(1,len(L)-1):\n",
    "    if max_arr[i-1]<L[i]<min_arr[i+1]:\n",
    "        print(L[i])                     "
   ]
  },
  {
   "cell_type": "code",
   "execution_count": null,
   "metadata": {},
   "outputs": [],
   "source": []
  }
 ],
 "metadata": {
  "kernelspec": {
   "display_name": "Python 3",
   "language": "python",
   "name": "python3"
  },
  "language_info": {
   "codemirror_mode": {
    "name": "ipython",
    "version": 3
   },
   "file_extension": ".py",
   "mimetype": "text/x-python",
   "name": "python",
   "nbconvert_exporter": "python",
   "pygments_lexer": "ipython3",
   "version": "3.12.4"
  }
 },
 "nbformat": 4,
 "nbformat_minor": 2
}

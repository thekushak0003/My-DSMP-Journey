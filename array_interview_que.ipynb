{
 "cells": [
  {
   "cell_type": "code",
   "execution_count": null,
   "metadata": {},
   "outputs": [],
   "source": [
    "# 10. Maximum sum subarray\n",
    "L = [-2,4,7,-1,6,-11,14,3,-1,-6]\n",
    "\n",
    "d = {}\n",
    "\n",
    "for i in range(0,len(L)):\n",
    "  subarray = []\n",
    "  for j in range(i,len(L)):\n",
    "    subarray.append(L[j])\n",
    "    d[sum(subarray)] = subarray\n",
    "\n",
    "max_val = max(d.keys())\n",
    "\n",
    "for i in d:\n",
    "  if i == max_val:\n",
    "    print(d[i])"
   ]
  },
  {
   "cell_type": "code",
   "execution_count": 1,
   "metadata": {},
   "outputs": [
    {
     "name": "stdout",
     "output_type": "stream",
     "text": [
      "22 [4, 7, -1, 6, -11, 14, 3, -1, -6]\n"
     ]
    }
   ],
   "source": [
    "L = [-2,4,7,-1,6,-11,14,3,-1,-6]\n",
    "\n",
    "\n",
    "curr_sum = 0\n",
    "curr_seq = []\n",
    "best_sum = L[0]\n",
    "best_seq = []\n",
    "\n",
    "for i in L:\n",
    "  if i + curr_sum > i:\n",
    "    curr_sum = curr_sum + i\n",
    "    curr_seq.append(i)\n",
    "  else:\n",
    "    curr_sum = i\n",
    "    curr_seq.clear()\n",
    "    curr_seq.append(i)\n",
    "\n",
    "  if curr_sum > best_sum:\n",
    "    best_sum = curr_sum\n",
    "    best_seq = curr_seq\n",
    "\n",
    "print(best_sum,best_seq)"
   ]
  },
  {
   "cell_type": "code",
   "execution_count": null,
   "metadata": {},
   "outputs": [],
   "source": []
  }
 ],
 "metadata": {
  "kernelspec": {
   "display_name": "Python 3",
   "language": "python",
   "name": "python3"
  },
  "language_info": {
   "codemirror_mode": {
    "name": "ipython",
    "version": 3
   },
   "file_extension": ".py",
   "mimetype": "text/x-python",
   "name": "python",
   "nbconvert_exporter": "python",
   "pygments_lexer": "ipython3",
   "version": "3.12.4"
  }
 },
 "nbformat": 4,
 "nbformat_minor": 2
}

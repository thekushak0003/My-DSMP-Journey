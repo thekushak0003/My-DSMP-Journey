{
 "cells": [
  {
   "cell_type": "code",
   "execution_count": 110,
   "id": "49dc71d1",
   "metadata": {},
   "outputs": [],
   "source": [
    "import pandas as pd\n",
    "import numpy as np\n",
    "import matplotlib.pyplot as plt\n",
    "import seaborn as sns"
   ]
  },
  {
   "cell_type": "code",
   "execution_count": 111,
   "id": "e35b8321",
   "metadata": {},
   "outputs": [],
   "source": [
    "pd.set_option('display.max_columns',None)\n",
    "pd.set_option('display.max_rows',None)"
   ]
  },
  {
   "cell_type": "code",
   "execution_count": 112,
   "id": "0072e982",
   "metadata": {},
   "outputs": [],
   "source": [
    "df=pd.read_csv('smartphone_cleaned_v3.csv')"
   ]
  },
  {
   "cell_type": "code",
   "execution_count": 113,
   "id": "dd70c856",
   "metadata": {},
   "outputs": [
    {
     "data": {
      "application/vnd.microsoft.datawrangler.viewer.v0+json": {
       "columns": [
        {
         "name": "index",
         "rawType": "int64",
         "type": "integer"
        },
        {
         "name": "brand_name",
         "rawType": "object",
         "type": "string"
        },
        {
         "name": "model",
         "rawType": "object",
         "type": "string"
        },
        {
         "name": "price",
         "rawType": "int64",
         "type": "integer"
        },
        {
         "name": "rating",
         "rawType": "float64",
         "type": "float"
        },
        {
         "name": "has_5g",
         "rawType": "bool",
         "type": "boolean"
        },
        {
         "name": "has_nfc",
         "rawType": "bool",
         "type": "boolean"
        },
        {
         "name": "has_ir_blaster",
         "rawType": "bool",
         "type": "boolean"
        },
        {
         "name": "processor_name",
         "rawType": "object",
         "type": "string"
        },
        {
         "name": "processor_brand",
         "rawType": "object",
         "type": "string"
        },
        {
         "name": "num_cores",
         "rawType": "object",
         "type": "string"
        },
        {
         "name": "processor_speed",
         "rawType": "float64",
         "type": "float"
        },
        {
         "name": "battery_capacity",
         "rawType": "float64",
         "type": "float"
        },
        {
         "name": "fast_charging",
         "rawType": "int64",
         "type": "integer"
        },
        {
         "name": "ram_capacity",
         "rawType": "float64",
         "type": "float"
        },
        {
         "name": "internal_memory",
         "rawType": "float64",
         "type": "float"
        },
        {
         "name": "screen_size",
         "rawType": "float64",
         "type": "float"
        },
        {
         "name": "refresh_rate",
         "rawType": "int64",
         "type": "integer"
        },
        {
         "name": "resolution",
         "rawType": "object",
         "type": "string"
        },
        {
         "name": "num_rear_cameras",
         "rawType": "int64",
         "type": "integer"
        },
        {
         "name": "num_front_cameras",
         "rawType": "object",
         "type": "string"
        },
        {
         "name": "os",
         "rawType": "object",
         "type": "string"
        },
        {
         "name": "primary_camera_rear",
         "rawType": "float64",
         "type": "float"
        },
        {
         "name": "primary_camera_front",
         "rawType": "object",
         "type": "string"
        },
        {
         "name": "extended_memory",
         "rawType": "object",
         "type": "string"
        }
       ],
       "ref": "d69ee60c-27a1-4885-990f-2e98b29fe6ed",
       "rows": [
        [
         "926",
         "nokia",
         "Nokia X60 5G",
         "39990",
         "87.0",
         "True",
         "False",
         "False",
         "Snapdragon  870",
         "snapdragon",
         "Octa Core",
         "3.2",
         "6000.0",
         "33",
         "6.0",
         "128.0",
         "6.51",
         "144",
         "1080 x 2400 ",
         "4",
         "1",
         "Harmony v2.0",
         "200.0",
         "16",
         "Not Specified"
        ],
        [
         "476",
         "itel",
         "Itel A24 Pro",
         "5990",
         null,
         "False",
         "False",
         "False",
         "Unisoc  SC9832E",
         "unisoc",
         "Quad Core",
         "1.4",
         "3020.0",
         "-1",
         "2.0",
         "32.0",
         "5.0",
         "60",
         "854 x 480 ",
         "1",
         "1",
         "android",
         "2.0",
         "0.3",
         "Not Specified"
        ],
        [
         "9",
         "oneplus",
         "OnePlus Nord 2T 5G",
         "28999",
         "84.0",
         "True",
         "True",
         "False",
         "Dimensity  1300",
         "dimensity",
         "Octa Core",
         "3.0",
         "4500.0",
         "80",
         "8.0",
         "128.0",
         "6.43",
         "90",
         "1080 x 2400 ",
         "3",
         "1",
         "android",
         "50.0",
         "32",
         "0"
        ],
        [
         "266",
         "oneplus",
         "OnePlus Ace 2",
         "34999",
         "84.0",
         "True",
         "True",
         "False",
         "Snapdragon 8+ Gen1",
         "snapdragon",
         "Octa Core",
         "3.2",
         "5000.0",
         "100",
         "8.0",
         "128.0",
         "6.7",
         "120",
         "1080 x 2412 ",
         "3",
         "1",
         "android",
         "50.0",
         "16",
         "0"
        ],
        [
         "71",
         "vivo",
         "Vivo V23 5G (12GB RAM + 256GB)",
         "27994",
         "86.0",
         "True",
         "False",
         "False",
         "Dimensity  920 5G",
         "dimensity",
         "Octa Core",
         "2.5",
         "4200.0",
         "44",
         "12.0",
         "256.0",
         "6.44",
         "90",
         "1080 x 2400 ",
         "3",
         "2",
         "android",
         "64.0",
         "50",
         "Not Specified"
        ],
        [
         "338",
         "xiaomi",
         "Xiaomi Redmi Note 11S",
         "14590",
         "80.0",
         "False",
         "False",
         "True",
         "Helio  G96",
         "helio",
         "Octa Core",
         "2.05",
         "5000.0",
         "33",
         "6.0",
         "64.0",
         "6.43",
         "90",
         "1080 x 2400 ",
         "4",
         "1",
         "android",
         "108.0",
         "16",
         "512 GB"
        ],
        [
         "812",
         "xiaomi",
         "Xiaomi Redmi Note 10 Lite (4GB RAM + 128GB)",
         "12499",
         "77.0",
         "False",
         "False",
         "True",
         "Snapdragon 720G",
         "snapdragon",
         "Octa Core",
         "2.3",
         "5020.0",
         "18",
         "4.0",
         "128.0",
         "6.67",
         "60",
         "1080 x 2400 ",
         "4",
         "1",
         "android",
         "48.0",
         "16",
         "512 GB"
        ],
        [
         "470",
         "samsung",
         "Samsung Galaxy A82 5G",
         "39990",
         "86.0",
         "True",
         "True",
         "False",
         "Snapdragon 855+",
         "snapdragon",
         "Octa Core",
         "2.96",
         "4500.0",
         "25",
         "6.0",
         "128.0",
         "6.71",
         "120",
         "1440 x 3200 ",
         "3",
         "1",
         "android",
         "64.0",
         "10",
         "1 TB"
        ],
        [
         "696",
         "vivo",
         "Vivo S1 Pro",
         "29999",
         "82.0",
         "False",
         "False",
         "False",
         "Snapdragon  665",
         "snapdragon",
         "Octa Core",
         "2.0",
         "4500.0",
         "18",
         "8.0",
         "128.0",
         "6.38",
         "60",
         "1080 x 2340 ",
         "4",
         "1",
         "android",
         "48.0",
         "32",
         "256 GB"
        ],
        [
         "630",
         "vivo",
         "Vivo Y33s",
         "16685",
         "80.0",
         "False",
         "False",
         "False",
         "Helio G80",
         "helio",
         "Octa Core",
         "2.0",
         "5000.0",
         "18",
         "8.0",
         "128.0",
         "6.58",
         "60",
         "1080 x 2408 ",
         "3",
         "1",
         "android",
         "50.0",
         "16",
         "1 TB"
        ]
       ],
       "shape": {
        "columns": 24,
        "rows": 10
       }
      },
      "text/html": [
       "<div>\n",
       "<style scoped>\n",
       "    .dataframe tbody tr th:only-of-type {\n",
       "        vertical-align: middle;\n",
       "    }\n",
       "\n",
       "    .dataframe tbody tr th {\n",
       "        vertical-align: top;\n",
       "    }\n",
       "\n",
       "    .dataframe thead th {\n",
       "        text-align: right;\n",
       "    }\n",
       "</style>\n",
       "<table border=\"1\" class=\"dataframe\">\n",
       "  <thead>\n",
       "    <tr style=\"text-align: right;\">\n",
       "      <th></th>\n",
       "      <th>brand_name</th>\n",
       "      <th>model</th>\n",
       "      <th>price</th>\n",
       "      <th>rating</th>\n",
       "      <th>has_5g</th>\n",
       "      <th>has_nfc</th>\n",
       "      <th>has_ir_blaster</th>\n",
       "      <th>processor_name</th>\n",
       "      <th>processor_brand</th>\n",
       "      <th>num_cores</th>\n",
       "      <th>processor_speed</th>\n",
       "      <th>battery_capacity</th>\n",
       "      <th>fast_charging</th>\n",
       "      <th>ram_capacity</th>\n",
       "      <th>internal_memory</th>\n",
       "      <th>screen_size</th>\n",
       "      <th>refresh_rate</th>\n",
       "      <th>resolution</th>\n",
       "      <th>num_rear_cameras</th>\n",
       "      <th>num_front_cameras</th>\n",
       "      <th>os</th>\n",
       "      <th>primary_camera_rear</th>\n",
       "      <th>primary_camera_front</th>\n",
       "      <th>extended_memory</th>\n",
       "    </tr>\n",
       "  </thead>\n",
       "  <tbody>\n",
       "    <tr>\n",
       "      <th>926</th>\n",
       "      <td>nokia</td>\n",
       "      <td>Nokia X60 5G</td>\n",
       "      <td>39990</td>\n",
       "      <td>87.0</td>\n",
       "      <td>True</td>\n",
       "      <td>False</td>\n",
       "      <td>False</td>\n",
       "      <td>Snapdragon  870</td>\n",
       "      <td>snapdragon</td>\n",
       "      <td>Octa Core</td>\n",
       "      <td>3.20</td>\n",
       "      <td>6000.0</td>\n",
       "      <td>33</td>\n",
       "      <td>6.0</td>\n",
       "      <td>128.0</td>\n",
       "      <td>6.51</td>\n",
       "      <td>144</td>\n",
       "      <td>1080 x 2400</td>\n",
       "      <td>4</td>\n",
       "      <td>1</td>\n",
       "      <td>Harmony v2.0</td>\n",
       "      <td>200.0</td>\n",
       "      <td>16</td>\n",
       "      <td>Not Specified</td>\n",
       "    </tr>\n",
       "    <tr>\n",
       "      <th>476</th>\n",
       "      <td>itel</td>\n",
       "      <td>Itel A24 Pro</td>\n",
       "      <td>5990</td>\n",
       "      <td>NaN</td>\n",
       "      <td>False</td>\n",
       "      <td>False</td>\n",
       "      <td>False</td>\n",
       "      <td>Unisoc  SC9832E</td>\n",
       "      <td>unisoc</td>\n",
       "      <td>Quad Core</td>\n",
       "      <td>1.40</td>\n",
       "      <td>3020.0</td>\n",
       "      <td>-1</td>\n",
       "      <td>2.0</td>\n",
       "      <td>32.0</td>\n",
       "      <td>5.00</td>\n",
       "      <td>60</td>\n",
       "      <td>854 x 480</td>\n",
       "      <td>1</td>\n",
       "      <td>1</td>\n",
       "      <td>android</td>\n",
       "      <td>2.0</td>\n",
       "      <td>0.3</td>\n",
       "      <td>Not Specified</td>\n",
       "    </tr>\n",
       "    <tr>\n",
       "      <th>9</th>\n",
       "      <td>oneplus</td>\n",
       "      <td>OnePlus Nord 2T 5G</td>\n",
       "      <td>28999</td>\n",
       "      <td>84.0</td>\n",
       "      <td>True</td>\n",
       "      <td>True</td>\n",
       "      <td>False</td>\n",
       "      <td>Dimensity  1300</td>\n",
       "      <td>dimensity</td>\n",
       "      <td>Octa Core</td>\n",
       "      <td>3.00</td>\n",
       "      <td>4500.0</td>\n",
       "      <td>80</td>\n",
       "      <td>8.0</td>\n",
       "      <td>128.0</td>\n",
       "      <td>6.43</td>\n",
       "      <td>90</td>\n",
       "      <td>1080 x 2400</td>\n",
       "      <td>3</td>\n",
       "      <td>1</td>\n",
       "      <td>android</td>\n",
       "      <td>50.0</td>\n",
       "      <td>32</td>\n",
       "      <td>0</td>\n",
       "    </tr>\n",
       "    <tr>\n",
       "      <th>266</th>\n",
       "      <td>oneplus</td>\n",
       "      <td>OnePlus Ace 2</td>\n",
       "      <td>34999</td>\n",
       "      <td>84.0</td>\n",
       "      <td>True</td>\n",
       "      <td>True</td>\n",
       "      <td>False</td>\n",
       "      <td>Snapdragon 8+ Gen1</td>\n",
       "      <td>snapdragon</td>\n",
       "      <td>Octa Core</td>\n",
       "      <td>3.20</td>\n",
       "      <td>5000.0</td>\n",
       "      <td>100</td>\n",
       "      <td>8.0</td>\n",
       "      <td>128.0</td>\n",
       "      <td>6.70</td>\n",
       "      <td>120</td>\n",
       "      <td>1080 x 2412</td>\n",
       "      <td>3</td>\n",
       "      <td>1</td>\n",
       "      <td>android</td>\n",
       "      <td>50.0</td>\n",
       "      <td>16</td>\n",
       "      <td>0</td>\n",
       "    </tr>\n",
       "    <tr>\n",
       "      <th>71</th>\n",
       "      <td>vivo</td>\n",
       "      <td>Vivo V23 5G (12GB RAM + 256GB)</td>\n",
       "      <td>27994</td>\n",
       "      <td>86.0</td>\n",
       "      <td>True</td>\n",
       "      <td>False</td>\n",
       "      <td>False</td>\n",
       "      <td>Dimensity  920 5G</td>\n",
       "      <td>dimensity</td>\n",
       "      <td>Octa Core</td>\n",
       "      <td>2.50</td>\n",
       "      <td>4200.0</td>\n",
       "      <td>44</td>\n",
       "      <td>12.0</td>\n",
       "      <td>256.0</td>\n",
       "      <td>6.44</td>\n",
       "      <td>90</td>\n",
       "      <td>1080 x 2400</td>\n",
       "      <td>3</td>\n",
       "      <td>2</td>\n",
       "      <td>android</td>\n",
       "      <td>64.0</td>\n",
       "      <td>50</td>\n",
       "      <td>Not Specified</td>\n",
       "    </tr>\n",
       "    <tr>\n",
       "      <th>338</th>\n",
       "      <td>xiaomi</td>\n",
       "      <td>Xiaomi Redmi Note 11S</td>\n",
       "      <td>14590</td>\n",
       "      <td>80.0</td>\n",
       "      <td>False</td>\n",
       "      <td>False</td>\n",
       "      <td>True</td>\n",
       "      <td>Helio  G96</td>\n",
       "      <td>helio</td>\n",
       "      <td>Octa Core</td>\n",
       "      <td>2.05</td>\n",
       "      <td>5000.0</td>\n",
       "      <td>33</td>\n",
       "      <td>6.0</td>\n",
       "      <td>64.0</td>\n",
       "      <td>6.43</td>\n",
       "      <td>90</td>\n",
       "      <td>1080 x 2400</td>\n",
       "      <td>4</td>\n",
       "      <td>1</td>\n",
       "      <td>android</td>\n",
       "      <td>108.0</td>\n",
       "      <td>16</td>\n",
       "      <td>512 GB</td>\n",
       "    </tr>\n",
       "    <tr>\n",
       "      <th>812</th>\n",
       "      <td>xiaomi</td>\n",
       "      <td>Xiaomi Redmi Note 10 Lite (4GB RAM + 128GB)</td>\n",
       "      <td>12499</td>\n",
       "      <td>77.0</td>\n",
       "      <td>False</td>\n",
       "      <td>False</td>\n",
       "      <td>True</td>\n",
       "      <td>Snapdragon 720G</td>\n",
       "      <td>snapdragon</td>\n",
       "      <td>Octa Core</td>\n",
       "      <td>2.30</td>\n",
       "      <td>5020.0</td>\n",
       "      <td>18</td>\n",
       "      <td>4.0</td>\n",
       "      <td>128.0</td>\n",
       "      <td>6.67</td>\n",
       "      <td>60</td>\n",
       "      <td>1080 x 2400</td>\n",
       "      <td>4</td>\n",
       "      <td>1</td>\n",
       "      <td>android</td>\n",
       "      <td>48.0</td>\n",
       "      <td>16</td>\n",
       "      <td>512 GB</td>\n",
       "    </tr>\n",
       "    <tr>\n",
       "      <th>470</th>\n",
       "      <td>samsung</td>\n",
       "      <td>Samsung Galaxy A82 5G</td>\n",
       "      <td>39990</td>\n",
       "      <td>86.0</td>\n",
       "      <td>True</td>\n",
       "      <td>True</td>\n",
       "      <td>False</td>\n",
       "      <td>Snapdragon 855+</td>\n",
       "      <td>snapdragon</td>\n",
       "      <td>Octa Core</td>\n",
       "      <td>2.96</td>\n",
       "      <td>4500.0</td>\n",
       "      <td>25</td>\n",
       "      <td>6.0</td>\n",
       "      <td>128.0</td>\n",
       "      <td>6.71</td>\n",
       "      <td>120</td>\n",
       "      <td>1440 x 3200</td>\n",
       "      <td>3</td>\n",
       "      <td>1</td>\n",
       "      <td>android</td>\n",
       "      <td>64.0</td>\n",
       "      <td>10</td>\n",
       "      <td>1 TB</td>\n",
       "    </tr>\n",
       "    <tr>\n",
       "      <th>696</th>\n",
       "      <td>vivo</td>\n",
       "      <td>Vivo S1 Pro</td>\n",
       "      <td>29999</td>\n",
       "      <td>82.0</td>\n",
       "      <td>False</td>\n",
       "      <td>False</td>\n",
       "      <td>False</td>\n",
       "      <td>Snapdragon  665</td>\n",
       "      <td>snapdragon</td>\n",
       "      <td>Octa Core</td>\n",
       "      <td>2.00</td>\n",
       "      <td>4500.0</td>\n",
       "      <td>18</td>\n",
       "      <td>8.0</td>\n",
       "      <td>128.0</td>\n",
       "      <td>6.38</td>\n",
       "      <td>60</td>\n",
       "      <td>1080 x 2340</td>\n",
       "      <td>4</td>\n",
       "      <td>1</td>\n",
       "      <td>android</td>\n",
       "      <td>48.0</td>\n",
       "      <td>32</td>\n",
       "      <td>256 GB</td>\n",
       "    </tr>\n",
       "    <tr>\n",
       "      <th>630</th>\n",
       "      <td>vivo</td>\n",
       "      <td>Vivo Y33s</td>\n",
       "      <td>16685</td>\n",
       "      <td>80.0</td>\n",
       "      <td>False</td>\n",
       "      <td>False</td>\n",
       "      <td>False</td>\n",
       "      <td>Helio G80</td>\n",
       "      <td>helio</td>\n",
       "      <td>Octa Core</td>\n",
       "      <td>2.00</td>\n",
       "      <td>5000.0</td>\n",
       "      <td>18</td>\n",
       "      <td>8.0</td>\n",
       "      <td>128.0</td>\n",
       "      <td>6.58</td>\n",
       "      <td>60</td>\n",
       "      <td>1080 x 2408</td>\n",
       "      <td>3</td>\n",
       "      <td>1</td>\n",
       "      <td>android</td>\n",
       "      <td>50.0</td>\n",
       "      <td>16</td>\n",
       "      <td>1 TB</td>\n",
       "    </tr>\n",
       "  </tbody>\n",
       "</table>\n",
       "</div>"
      ],
      "text/plain": [
       "    brand_name                                        model  price  rating  \\\n",
       "926      nokia                                 Nokia X60 5G  39990    87.0   \n",
       "476       itel                                 Itel A24 Pro   5990     NaN   \n",
       "9      oneplus                           OnePlus Nord 2T 5G  28999    84.0   \n",
       "266    oneplus                                OnePlus Ace 2  34999    84.0   \n",
       "71        vivo               Vivo V23 5G (12GB RAM + 256GB)  27994    86.0   \n",
       "338     xiaomi                        Xiaomi Redmi Note 11S  14590    80.0   \n",
       "812     xiaomi  Xiaomi Redmi Note 10 Lite (4GB RAM + 128GB)  12499    77.0   \n",
       "470    samsung                        Samsung Galaxy A82 5G  39990    86.0   \n",
       "696       vivo                                  Vivo S1 Pro  29999    82.0   \n",
       "630       vivo                                    Vivo Y33s  16685    80.0   \n",
       "\n",
       "     has_5g  has_nfc  has_ir_blaster      processor_name processor_brand  \\\n",
       "926    True    False           False     Snapdragon  870      snapdragon   \n",
       "476   False    False           False     Unisoc  SC9832E          unisoc   \n",
       "9      True     True           False     Dimensity  1300       dimensity   \n",
       "266    True     True           False  Snapdragon 8+ Gen1      snapdragon   \n",
       "71     True    False           False   Dimensity  920 5G       dimensity   \n",
       "338   False    False            True          Helio  G96           helio   \n",
       "812   False    False            True     Snapdragon 720G      snapdragon   \n",
       "470    True     True           False     Snapdragon 855+      snapdragon   \n",
       "696   False    False           False     Snapdragon  665      snapdragon   \n",
       "630   False    False           False           Helio G80           helio   \n",
       "\n",
       "     num_cores  processor_speed  battery_capacity  fast_charging  \\\n",
       "926  Octa Core             3.20            6000.0             33   \n",
       "476  Quad Core             1.40            3020.0             -1   \n",
       "9    Octa Core             3.00            4500.0             80   \n",
       "266  Octa Core             3.20            5000.0            100   \n",
       "71   Octa Core             2.50            4200.0             44   \n",
       "338  Octa Core             2.05            5000.0             33   \n",
       "812  Octa Core             2.30            5020.0             18   \n",
       "470  Octa Core             2.96            4500.0             25   \n",
       "696  Octa Core             2.00            4500.0             18   \n",
       "630  Octa Core             2.00            5000.0             18   \n",
       "\n",
       "     ram_capacity  internal_memory  screen_size  refresh_rate    resolution  \\\n",
       "926           6.0            128.0         6.51           144  1080 x 2400    \n",
       "476           2.0             32.0         5.00            60    854 x 480    \n",
       "9             8.0            128.0         6.43            90  1080 x 2400    \n",
       "266           8.0            128.0         6.70           120  1080 x 2412    \n",
       "71           12.0            256.0         6.44            90  1080 x 2400    \n",
       "338           6.0             64.0         6.43            90  1080 x 2400    \n",
       "812           4.0            128.0         6.67            60  1080 x 2400    \n",
       "470           6.0            128.0         6.71           120  1440 x 3200    \n",
       "696           8.0            128.0         6.38            60  1080 x 2340    \n",
       "630           8.0            128.0         6.58            60  1080 x 2408    \n",
       "\n",
       "     num_rear_cameras num_front_cameras            os  primary_camera_rear  \\\n",
       "926                 4                 1  Harmony v2.0                200.0   \n",
       "476                 1                 1       android                  2.0   \n",
       "9                   3                 1       android                 50.0   \n",
       "266                 3                 1       android                 50.0   \n",
       "71                  3                 2       android                 64.0   \n",
       "338                 4                 1       android                108.0   \n",
       "812                 4                 1       android                 48.0   \n",
       "470                 3                 1       android                 64.0   \n",
       "696                 4                 1       android                 48.0   \n",
       "630                 3                 1       android                 50.0   \n",
       "\n",
       "    primary_camera_front extended_memory  \n",
       "926                   16   Not Specified  \n",
       "476                  0.3   Not Specified  \n",
       "9                     32               0  \n",
       "266                   16               0  \n",
       "71                    50   Not Specified  \n",
       "338                   16          512 GB  \n",
       "812                   16          512 GB  \n",
       "470                   10            1 TB  \n",
       "696                   32          256 GB  \n",
       "630                   16            1 TB  "
      ]
     },
     "execution_count": 113,
     "metadata": {},
     "output_type": "execute_result"
    }
   ],
   "source": [
    "df.sample(10)"
   ]
  },
  {
   "cell_type": "code",
   "execution_count": 114,
   "id": "52d19cc3",
   "metadata": {},
   "outputs": [
    {
     "data": {
      "text/plain": [
       "(980, 24)"
      ]
     },
     "execution_count": 114,
     "metadata": {},
     "output_type": "execute_result"
    }
   ],
   "source": [
    "df.shape"
   ]
  },
  {
   "cell_type": "code",
   "execution_count": 115,
   "id": "042c000c",
   "metadata": {},
   "outputs": [
    {
     "name": "stdout",
     "output_type": "stream",
     "text": [
      "<class 'pandas.core.frame.DataFrame'>\n",
      "RangeIndex: 980 entries, 0 to 979\n",
      "Data columns (total 24 columns):\n",
      " #   Column                Non-Null Count  Dtype  \n",
      "---  ------                --------------  -----  \n",
      " 0   brand_name            980 non-null    object \n",
      " 1   model                 980 non-null    object \n",
      " 2   price                 980 non-null    int64  \n",
      " 3   rating                879 non-null    float64\n",
      " 4   has_5g                980 non-null    bool   \n",
      " 5   has_nfc               980 non-null    bool   \n",
      " 6   has_ir_blaster        980 non-null    bool   \n",
      " 7   processor_name        960 non-null    object \n",
      " 8   processor_brand       960 non-null    object \n",
      " 9   num_cores             974 non-null    object \n",
      " 10  processor_speed       938 non-null    float64\n",
      " 11  battery_capacity      969 non-null    float64\n",
      " 12  fast_charging         980 non-null    int64  \n",
      " 13  ram_capacity          980 non-null    float64\n",
      " 14  internal_memory       978 non-null    float64\n",
      " 15  screen_size           980 non-null    float64\n",
      " 16  refresh_rate          980 non-null    int64  \n",
      " 17  resolution            980 non-null    object \n",
      " 18  num_rear_cameras      980 non-null    int64  \n",
      " 19  num_front_cameras     980 non-null    object \n",
      " 20  os                    980 non-null    object \n",
      " 21  primary_camera_rear   980 non-null    float64\n",
      " 22  primary_camera_front  976 non-null    object \n",
      " 23  extended_memory       980 non-null    object \n",
      "dtypes: bool(3), float64(7), int64(4), object(10)\n",
      "memory usage: 163.8+ KB\n"
     ]
    }
   ],
   "source": [
    "df.info()"
   ]
  },
  {
   "cell_type": "code",
   "execution_count": 116,
   "id": "a47cf80a",
   "metadata": {},
   "outputs": [
    {
     "data": {
      "application/vnd.microsoft.datawrangler.viewer.v0+json": {
       "columns": [
        {
         "name": "index",
         "rawType": "object",
         "type": "string"
        },
        {
         "name": "price",
         "rawType": "float64",
         "type": "float"
        },
        {
         "name": "rating",
         "rawType": "float64",
         "type": "float"
        },
        {
         "name": "processor_speed",
         "rawType": "float64",
         "type": "float"
        },
        {
         "name": "battery_capacity",
         "rawType": "float64",
         "type": "float"
        },
        {
         "name": "fast_charging",
         "rawType": "float64",
         "type": "float"
        },
        {
         "name": "ram_capacity",
         "rawType": "float64",
         "type": "float"
        },
        {
         "name": "internal_memory",
         "rawType": "float64",
         "type": "float"
        },
        {
         "name": "screen_size",
         "rawType": "float64",
         "type": "float"
        },
        {
         "name": "refresh_rate",
         "rawType": "float64",
         "type": "float"
        },
        {
         "name": "num_rear_cameras",
         "rawType": "float64",
         "type": "float"
        },
        {
         "name": "primary_camera_rear",
         "rawType": "float64",
         "type": "float"
        }
       ],
       "ref": "b7fa3b78-dcd6-43e5-b898-cf472612f32f",
       "rows": [
        [
         "count",
         "980.0",
         "879.0",
         "938.0",
         "969.0",
         "980.0",
         "980.0",
         "978.0",
         "980.0",
         "980.0",
         "980.0",
         "980.0"
        ],
        [
         "mean",
         "32520.504081632655",
         "78.25824800910125",
         "2.427217484008529",
         "4817.748194014448",
         "36.04897959183673",
         "6.68265306122449",
         "141.19427402862985",
         "6.53676530612245",
         "92.2561224489796",
         "2.8142857142857145",
         "50.319285714285705"
        ],
        [
         "std",
         "39531.81266885672",
         "7.402854348688586",
         "0.4640895628439926",
         "1009.540053892138",
         "35.9480337816648",
         "3.774045158184674",
         "107.18734537782383",
         "0.3491616195814946",
         "28.988052085351832",
         "0.7764406360353814",
         "33.000968282138835"
        ],
        [
         "min",
         "3499.0",
         "60.0",
         "1.2",
         "1821.0",
         "-1.0",
         "1.0",
         "8.0",
         "3.54",
         "60.0",
         "1.0",
         "2.0"
        ],
        [
         "25%",
         "12999.0",
         "74.0",
         "2.05",
         "4500.0",
         "15.0",
         "4.0",
         "64.0",
         "6.5",
         "60.0",
         "2.0",
         "24.0"
        ],
        [
         "50%",
         "19994.5",
         "80.0",
         "2.3",
         "5000.0",
         "30.0",
         "6.0",
         "128.0",
         "6.58",
         "90.0",
         "3.0",
         "50.0"
        ],
        [
         "75%",
         "35491.5",
         "84.0",
         "2.84",
         "5000.0",
         "65.0",
         "8.0",
         "128.0",
         "6.67",
         "120.0",
         "3.0",
         "64.0"
        ],
        [
         "max",
         "650000.0",
         "89.0",
         "3.22",
         "22000.0",
         "240.0",
         "64.0",
         "1024.0",
         "8.03",
         "240.0",
         "4.0",
         "200.0"
        ]
       ],
       "shape": {
        "columns": 11,
        "rows": 8
       }
      },
      "text/html": [
       "<div>\n",
       "<style scoped>\n",
       "    .dataframe tbody tr th:only-of-type {\n",
       "        vertical-align: middle;\n",
       "    }\n",
       "\n",
       "    .dataframe tbody tr th {\n",
       "        vertical-align: top;\n",
       "    }\n",
       "\n",
       "    .dataframe thead th {\n",
       "        text-align: right;\n",
       "    }\n",
       "</style>\n",
       "<table border=\"1\" class=\"dataframe\">\n",
       "  <thead>\n",
       "    <tr style=\"text-align: right;\">\n",
       "      <th></th>\n",
       "      <th>price</th>\n",
       "      <th>rating</th>\n",
       "      <th>processor_speed</th>\n",
       "      <th>battery_capacity</th>\n",
       "      <th>fast_charging</th>\n",
       "      <th>ram_capacity</th>\n",
       "      <th>internal_memory</th>\n",
       "      <th>screen_size</th>\n",
       "      <th>refresh_rate</th>\n",
       "      <th>num_rear_cameras</th>\n",
       "      <th>primary_camera_rear</th>\n",
       "    </tr>\n",
       "  </thead>\n",
       "  <tbody>\n",
       "    <tr>\n",
       "      <th>count</th>\n",
       "      <td>980.000000</td>\n",
       "      <td>879.000000</td>\n",
       "      <td>938.000000</td>\n",
       "      <td>969.000000</td>\n",
       "      <td>980.000000</td>\n",
       "      <td>980.000000</td>\n",
       "      <td>978.000000</td>\n",
       "      <td>980.000000</td>\n",
       "      <td>980.000000</td>\n",
       "      <td>980.000000</td>\n",
       "      <td>980.000000</td>\n",
       "    </tr>\n",
       "    <tr>\n",
       "      <th>mean</th>\n",
       "      <td>32520.504082</td>\n",
       "      <td>78.258248</td>\n",
       "      <td>2.427217</td>\n",
       "      <td>4817.748194</td>\n",
       "      <td>36.048980</td>\n",
       "      <td>6.682653</td>\n",
       "      <td>141.194274</td>\n",
       "      <td>6.536765</td>\n",
       "      <td>92.256122</td>\n",
       "      <td>2.814286</td>\n",
       "      <td>50.319286</td>\n",
       "    </tr>\n",
       "    <tr>\n",
       "      <th>std</th>\n",
       "      <td>39531.812669</td>\n",
       "      <td>7.402854</td>\n",
       "      <td>0.464090</td>\n",
       "      <td>1009.540054</td>\n",
       "      <td>35.948034</td>\n",
       "      <td>3.774045</td>\n",
       "      <td>107.187345</td>\n",
       "      <td>0.349162</td>\n",
       "      <td>28.988052</td>\n",
       "      <td>0.776441</td>\n",
       "      <td>33.000968</td>\n",
       "    </tr>\n",
       "    <tr>\n",
       "      <th>min</th>\n",
       "      <td>3499.000000</td>\n",
       "      <td>60.000000</td>\n",
       "      <td>1.200000</td>\n",
       "      <td>1821.000000</td>\n",
       "      <td>-1.000000</td>\n",
       "      <td>1.000000</td>\n",
       "      <td>8.000000</td>\n",
       "      <td>3.540000</td>\n",
       "      <td>60.000000</td>\n",
       "      <td>1.000000</td>\n",
       "      <td>2.000000</td>\n",
       "    </tr>\n",
       "    <tr>\n",
       "      <th>25%</th>\n",
       "      <td>12999.000000</td>\n",
       "      <td>74.000000</td>\n",
       "      <td>2.050000</td>\n",
       "      <td>4500.000000</td>\n",
       "      <td>15.000000</td>\n",
       "      <td>4.000000</td>\n",
       "      <td>64.000000</td>\n",
       "      <td>6.500000</td>\n",
       "      <td>60.000000</td>\n",
       "      <td>2.000000</td>\n",
       "      <td>24.000000</td>\n",
       "    </tr>\n",
       "    <tr>\n",
       "      <th>50%</th>\n",
       "      <td>19994.500000</td>\n",
       "      <td>80.000000</td>\n",
       "      <td>2.300000</td>\n",
       "      <td>5000.000000</td>\n",
       "      <td>30.000000</td>\n",
       "      <td>6.000000</td>\n",
       "      <td>128.000000</td>\n",
       "      <td>6.580000</td>\n",
       "      <td>90.000000</td>\n",
       "      <td>3.000000</td>\n",
       "      <td>50.000000</td>\n",
       "    </tr>\n",
       "    <tr>\n",
       "      <th>75%</th>\n",
       "      <td>35491.500000</td>\n",
       "      <td>84.000000</td>\n",
       "      <td>2.840000</td>\n",
       "      <td>5000.000000</td>\n",
       "      <td>65.000000</td>\n",
       "      <td>8.000000</td>\n",
       "      <td>128.000000</td>\n",
       "      <td>6.670000</td>\n",
       "      <td>120.000000</td>\n",
       "      <td>3.000000</td>\n",
       "      <td>64.000000</td>\n",
       "    </tr>\n",
       "    <tr>\n",
       "      <th>max</th>\n",
       "      <td>650000.000000</td>\n",
       "      <td>89.000000</td>\n",
       "      <td>3.220000</td>\n",
       "      <td>22000.000000</td>\n",
       "      <td>240.000000</td>\n",
       "      <td>64.000000</td>\n",
       "      <td>1024.000000</td>\n",
       "      <td>8.030000</td>\n",
       "      <td>240.000000</td>\n",
       "      <td>4.000000</td>\n",
       "      <td>200.000000</td>\n",
       "    </tr>\n",
       "  </tbody>\n",
       "</table>\n",
       "</div>"
      ],
      "text/plain": [
       "               price      rating  processor_speed  battery_capacity  \\\n",
       "count     980.000000  879.000000       938.000000        969.000000   \n",
       "mean    32520.504082   78.258248         2.427217       4817.748194   \n",
       "std     39531.812669    7.402854         0.464090       1009.540054   \n",
       "min      3499.000000   60.000000         1.200000       1821.000000   \n",
       "25%     12999.000000   74.000000         2.050000       4500.000000   \n",
       "50%     19994.500000   80.000000         2.300000       5000.000000   \n",
       "75%     35491.500000   84.000000         2.840000       5000.000000   \n",
       "max    650000.000000   89.000000         3.220000      22000.000000   \n",
       "\n",
       "       fast_charging  ram_capacity  internal_memory  screen_size  \\\n",
       "count     980.000000    980.000000       978.000000   980.000000   \n",
       "mean       36.048980      6.682653       141.194274     6.536765   \n",
       "std        35.948034      3.774045       107.187345     0.349162   \n",
       "min        -1.000000      1.000000         8.000000     3.540000   \n",
       "25%        15.000000      4.000000        64.000000     6.500000   \n",
       "50%        30.000000      6.000000       128.000000     6.580000   \n",
       "75%        65.000000      8.000000       128.000000     6.670000   \n",
       "max       240.000000     64.000000      1024.000000     8.030000   \n",
       "\n",
       "       refresh_rate  num_rear_cameras  primary_camera_rear  \n",
       "count    980.000000        980.000000           980.000000  \n",
       "mean      92.256122          2.814286            50.319286  \n",
       "std       28.988052          0.776441            33.000968  \n",
       "min       60.000000          1.000000             2.000000  \n",
       "25%       60.000000          2.000000            24.000000  \n",
       "50%       90.000000          3.000000            50.000000  \n",
       "75%      120.000000          3.000000            64.000000  \n",
       "max      240.000000          4.000000           200.000000  "
      ]
     },
     "execution_count": 116,
     "metadata": {},
     "output_type": "execute_result"
    }
   ],
   "source": [
    "df.describe()"
   ]
  },
  {
   "cell_type": "code",
   "execution_count": 117,
   "id": "cf5b1c2f",
   "metadata": {},
   "outputs": [
    {
     "data": {
      "application/vnd.microsoft.datawrangler.viewer.v0+json": {
       "columns": [
        {
         "name": "index",
         "rawType": "object",
         "type": "string"
        },
        {
         "name": "0",
         "rawType": "int64",
         "type": "integer"
        }
       ],
       "ref": "74c06399-2b96-496f-9627-7297a8ae24fb",
       "rows": [
        [
         "brand_name",
         "0"
        ],
        [
         "model",
         "0"
        ],
        [
         "price",
         "0"
        ],
        [
         "rating",
         "101"
        ],
        [
         "has_5g",
         "0"
        ],
        [
         "has_nfc",
         "0"
        ],
        [
         "has_ir_blaster",
         "0"
        ],
        [
         "processor_name",
         "20"
        ],
        [
         "processor_brand",
         "20"
        ],
        [
         "num_cores",
         "6"
        ],
        [
         "processor_speed",
         "42"
        ],
        [
         "battery_capacity",
         "11"
        ],
        [
         "fast_charging",
         "0"
        ],
        [
         "ram_capacity",
         "0"
        ],
        [
         "internal_memory",
         "2"
        ],
        [
         "screen_size",
         "0"
        ],
        [
         "refresh_rate",
         "0"
        ],
        [
         "resolution",
         "0"
        ],
        [
         "num_rear_cameras",
         "0"
        ],
        [
         "num_front_cameras",
         "0"
        ],
        [
         "os",
         "0"
        ],
        [
         "primary_camera_rear",
         "0"
        ],
        [
         "primary_camera_front",
         "4"
        ],
        [
         "extended_memory",
         "0"
        ]
       ],
       "shape": {
        "columns": 1,
        "rows": 24
       }
      },
      "text/plain": [
       "brand_name                0\n",
       "model                     0\n",
       "price                     0\n",
       "rating                  101\n",
       "has_5g                    0\n",
       "has_nfc                   0\n",
       "has_ir_blaster            0\n",
       "processor_name           20\n",
       "processor_brand          20\n",
       "num_cores                 6\n",
       "processor_speed          42\n",
       "battery_capacity         11\n",
       "fast_charging             0\n",
       "ram_capacity              0\n",
       "internal_memory           2\n",
       "screen_size               0\n",
       "refresh_rate              0\n",
       "resolution                0\n",
       "num_rear_cameras          0\n",
       "num_front_cameras         0\n",
       "os                        0\n",
       "primary_camera_rear       0\n",
       "primary_camera_front      4\n",
       "extended_memory           0\n",
       "dtype: int64"
      ]
     },
     "execution_count": 117,
     "metadata": {},
     "output_type": "execute_result"
    }
   ],
   "source": [
    "df.isnull().sum()"
   ]
  },
  {
   "cell_type": "code",
   "execution_count": 118,
   "id": "08863bd6",
   "metadata": {},
   "outputs": [
    {
     "data": {
      "application/vnd.microsoft.datawrangler.viewer.v0+json": {
       "columns": [
        {
         "name": "brand_name",
         "rawType": "object",
         "type": "string"
        },
        {
         "name": "count",
         "rawType": "int64",
         "type": "integer"
        }
       ],
       "ref": "27f40991-31d9-4656-92ad-d3e153d68318",
       "rows": [
        [
         "xiaomi",
         "134"
        ],
        [
         "samsung",
         "132"
        ],
        [
         "vivo",
         "111"
        ],
        [
         "realme",
         "97"
        ],
        [
         "oppo",
         "88"
        ],
        [
         "motorola",
         "52"
        ],
        [
         "apple",
         "46"
        ],
        [
         "oneplus",
         "42"
        ],
        [
         "poco",
         "41"
        ],
        [
         "tecno",
         "33"
        ],
        [
         "iqoo",
         "32"
        ],
        [
         "infinix",
         "29"
        ],
        [
         "huawei",
         "16"
        ],
        [
         "google",
         "14"
        ],
        [
         "nokia",
         "13"
        ],
        [
         "honor",
         "13"
        ],
        [
         "itel",
         "10"
        ],
        [
         "sony",
         "9"
        ],
        [
         "asus",
         "7"
        ],
        [
         "nubia",
         "6"
        ],
        [
         "nothing",
         "5"
        ],
        [
         "lava",
         "4"
        ],
        [
         "jio",
         "4"
        ],
        [
         "gionee",
         "3"
        ],
        [
         "micromax",
         "3"
        ],
        [
         "oukitel",
         "3"
        ],
        [
         "lg",
         "3"
        ],
        [
         "redmi",
         "3"
        ],
        [
         "letv",
         "3"
        ],
        [
         "ikall",
         "3"
        ],
        [
         "royole",
         "2"
        ],
        [
         "doogee",
         "2"
        ],
        [
         "zte",
         "2"
        ],
        [
         "lenovo",
         "2"
        ],
        [
         "lyf",
         "2"
        ],
        [
         "sharp",
         "1"
        ],
        [
         "tcl",
         "1"
        ],
        [
         "cat",
         "1"
        ],
        [
         "leitz",
         "1"
        ],
        [
         "duoqin",
         "1"
        ],
        [
         "leeco",
         "1"
        ],
        [
         "blu",
         "1"
        ],
        [
         "vertu",
         "1"
        ],
        [
         "tesla",
         "1"
        ],
        [
         "cola",
         "1"
        ],
        [
         "blackview",
         "1"
        ]
       ],
       "shape": {
        "columns": 1,
        "rows": 46
       }
      },
      "text/plain": [
       "brand_name\n",
       "xiaomi       134\n",
       "samsung      132\n",
       "vivo         111\n",
       "realme        97\n",
       "oppo          88\n",
       "motorola      52\n",
       "apple         46\n",
       "oneplus       42\n",
       "poco          41\n",
       "tecno         33\n",
       "iqoo          32\n",
       "infinix       29\n",
       "huawei        16\n",
       "google        14\n",
       "nokia         13\n",
       "honor         13\n",
       "itel          10\n",
       "sony           9\n",
       "asus           7\n",
       "nubia          6\n",
       "nothing        5\n",
       "lava           4\n",
       "jio            4\n",
       "gionee         3\n",
       "micromax       3\n",
       "oukitel        3\n",
       "lg             3\n",
       "redmi          3\n",
       "letv           3\n",
       "ikall          3\n",
       "royole         2\n",
       "doogee         2\n",
       "zte            2\n",
       "lenovo         2\n",
       "lyf            2\n",
       "sharp          1\n",
       "tcl            1\n",
       "cat            1\n",
       "leitz          1\n",
       "duoqin         1\n",
       "leeco          1\n",
       "blu            1\n",
       "vertu          1\n",
       "tesla          1\n",
       "cola           1\n",
       "blackview      1\n",
       "Name: count, dtype: int64"
      ]
     },
     "execution_count": 118,
     "metadata": {},
     "output_type": "execute_result"
    }
   ],
   "source": [
    "# Brand Name\n",
    "df['brand_name'].value_counts()"
   ]
  },
  {
   "cell_type": "code",
   "execution_count": 119,
   "id": "4386ff1e",
   "metadata": {},
   "outputs": [
    {
     "data": {
      "text/plain": [
       "<Axes: xlabel='brand_name'>"
      ]
     },
     "execution_count": 119,
     "metadata": {},
     "output_type": "execute_result"
    },
    {
     "data": {
      "image/png": "[encoded data removed]",
      "text/plain": [
       "<Figure size 640x480 with 1 Axes>"
      ]
     },
     "metadata": {},
     "output_type": "display_data"
    }
   ],
   "source": [
    "# Top 10 brands\n",
    "df['brand_name'].value_counts().head(10).plot(kind='bar')"
   ]
  },
  {
   "cell_type": "markdown",
   "id": "060f26a7",
   "metadata": {},
   "source": [
    "##### Price column"
   ]
  },
  {
   "cell_type": "code",
   "execution_count": 120,
   "id": "66dc0c80",
   "metadata": {},
   "outputs": [
    {
     "data": {
      "application/vnd.microsoft.datawrangler.viewer.v0+json": {
       "columns": [
        {
         "name": "index",
         "rawType": "object",
         "type": "string"
        },
        {
         "name": "price",
         "rawType": "float64",
         "type": "float"
        }
       ],
       "ref": "6b6fc772-7348-4a5d-b8bb-b486c221685a",
       "rows": [
        [
         "count",
         "980.0"
        ],
        [
         "mean",
         "32520.504081632655"
        ],
        [
         "std",
         "39531.81266885672"
        ],
        [
         "min",
         "3499.0"
        ],
        [
         "25%",
         "12999.0"
        ],
        [
         "50%",
         "19994.5"
        ],
        [
         "75%",
         "35491.5"
        ],
        [
         "max",
         "650000.0"
        ]
       ],
       "shape": {
        "columns": 1,
        "rows": 8
       }
      },
      "text/plain": [
       "count       980.000000\n",
       "mean      32520.504082\n",
       "std       39531.812669\n",
       "min        3499.000000\n",
       "25%       12999.000000\n",
       "50%       19994.500000\n",
       "75%       35491.500000\n",
       "max      650000.000000\n",
       "Name: price, dtype: float64"
      ]
     },
     "execution_count": 120,
     "metadata": {},
     "output_type": "execute_result"
    }
   ],
   "source": [
    "df['price'].describe()"
   ]
  },
  {
   "cell_type": "code",
   "execution_count": 121,
   "id": "c70ad20f",
   "metadata": {},
   "outputs": [
    {
     "data": {
      "text/plain": [
       "<Axes: xlabel='price', ylabel='Count'>"
      ]
     },
     "execution_count": 121,
     "metadata": {},
     "output_type": "execute_result"
    },
    {
     "data": {
      "image/png": "[encoded data removed]",
      "text/plain": [
       "<Figure size 640x480 with 1 Axes>"
      ]
     },
     "metadata": {},
     "output_type": "display_data"
    }
   ],
   "source": [
    "sns.histplot(data=df['price'],kde=True)"
   ]
  },
  {
   "cell_type": "code",
   "execution_count": 122,
   "id": "9e9de483",
   "metadata": {},
   "outputs": [
    {
     "data": {
      "text/plain": [
       "6.591790999665567"
      ]
     },
     "execution_count": 122,
     "metadata": {},
     "output_type": "execute_result"
    }
   ],
   "source": [
    "df['price'].skew()"
   ]
  },
  {
   "cell_type": "code",
   "execution_count": 123,
   "id": "afe4c2c7",
   "metadata": {},
   "outputs": [
    {
     "data": {
      "text/plain": [
       "<Axes: ylabel='price'>"
      ]
     },
     "execution_count": 123,
     "metadata": {},
     "output_type": "execute_result"
    },
    {
     "data": {
      "image/png": "[encoded data removed]",
      "text/plain": [
       "<Figure size 640x480 with 1 Axes>"
      ]
     },
     "metadata": {},
     "output_type": "display_data"
    }
   ],
   "source": [
    "sns.boxplot(df[df['price']<200000]['price'])"
   ]
  },
  {
   "cell_type": "code",
   "execution_count": 124,
   "id": "959bb11b",
   "metadata": {},
   "outputs": [
    {
     "data": {
      "application/vnd.microsoft.datawrangler.viewer.v0+json": {
       "columns": [
        {
         "name": "index",
         "rawType": "int64",
         "type": "integer"
        },
        {
         "name": "brand_name",
         "rawType": "object",
         "type": "string"
        },
        {
         "name": "model",
         "rawType": "object",
         "type": "string"
        },
        {
         "name": "price",
         "rawType": "int64",
         "type": "integer"
        },
        {
         "name": "rating",
         "rawType": "float64",
         "type": "float"
        },
        {
         "name": "has_5g",
         "rawType": "bool",
         "type": "boolean"
        },
        {
         "name": "has_nfc",
         "rawType": "bool",
         "type": "boolean"
        },
        {
         "name": "has_ir_blaster",
         "rawType": "bool",
         "type": "boolean"
        },
        {
         "name": "processor_name",
         "rawType": "object",
         "type": "string"
        },
        {
         "name": "processor_brand",
         "rawType": "object",
         "type": "string"
        },
        {
         "name": "num_cores",
         "rawType": "object",
         "type": "string"
        },
        {
         "name": "processor_speed",
         "rawType": "float64",
         "type": "float"
        },
        {
         "name": "battery_capacity",
         "rawType": "float64",
         "type": "float"
        },
        {
         "name": "fast_charging",
         "rawType": "int64",
         "type": "integer"
        },
        {
         "name": "ram_capacity",
         "rawType": "float64",
         "type": "float"
        },
        {
         "name": "internal_memory",
         "rawType": "float64",
         "type": "float"
        },
        {
         "name": "screen_size",
         "rawType": "float64",
         "type": "float"
        },
        {
         "name": "refresh_rate",
         "rawType": "int64",
         "type": "integer"
        },
        {
         "name": "resolution",
         "rawType": "object",
         "type": "string"
        },
        {
         "name": "num_rear_cameras",
         "rawType": "int64",
         "type": "integer"
        },
        {
         "name": "num_front_cameras",
         "rawType": "object",
         "type": "string"
        },
        {
         "name": "os",
         "rawType": "object",
         "type": "string"
        },
        {
         "name": "primary_camera_rear",
         "rawType": "float64",
         "type": "float"
        },
        {
         "name": "primary_camera_front",
         "rawType": "object",
         "type": "string"
        },
        {
         "name": "extended_memory",
         "rawType": "object",
         "type": "string"
        }
       ],
       "ref": "2e593229-73d0-4d2d-9b51-289064b36d25",
       "rows": [
        [
         "427",
         "vertu",
         "Vertu Signature Touch",
         "650000",
         "62.0",
         "False",
         "True",
         "False",
         "Snapdragon 801",
         "snapdragon",
         "Octa Core",
         "1.5",
         "2275.0",
         "-1",
         "2.0",
         "64.0",
         "4.7",
         "60",
         "1080 x 1920 ",
         "1",
         "1",
         "android",
         "13.0",
         "2.1",
         "0"
        ],
        [
         "478",
         "huawei",
         "Huawei Mate 50 RS Porsche Design",
         "239999",
         "81.0",
         "False",
         "True",
         "True",
         "Snapdragon 8+ Gen1",
         "snapdragon",
         "Octa Core",
         "3.2",
         "4700.0",
         "66",
         "12.0",
         "512.0",
         "6.74",
         "120",
         "1212 x 2616 ",
         "3",
         "1",
         "Hongmeng OS v3.0",
         "50.0",
         "13",
         "256 GB"
        ],
        [
         "887",
         "xiaomi",
         "Xiaomi Redmi K20 Pro Signature Edition",
         "480000",
         "88.0",
         "False",
         "True",
         "False",
         "Snapdragon  855",
         "snapdragon",
         "Octa Core",
         "2.8",
         "4000.0",
         "27",
         "8.0",
         "256.0",
         "6.39",
         "60",
         "1080 x 2340 ",
         "3",
         "1",
         "android",
         "48.0",
         "20",
         "0"
        ],
        [
         "951",
         "huawei",
         "Huawei Mate 30 RS Porsche Design",
         "214990",
         null,
         "True",
         "True",
         "True",
         "Kirin  990",
         "kirin",
         "Octa Core",
         "2.86",
         "4500.0",
         "0",
         "12.0",
         "512.0",
         "6.53",
         "60",
         "1176 x 2400 ",
         "4",
         "2",
         "android",
         "40.0",
         "32",
         "256 GB"
        ]
       ],
       "shape": {
        "columns": 24,
        "rows": 4
       }
      },
      "text/html": [
       "<div>\n",
       "<style scoped>\n",
       "    .dataframe tbody tr th:only-of-type {\n",
       "        vertical-align: middle;\n",
       "    }\n",
       "\n",
       "    .dataframe tbody tr th {\n",
       "        vertical-align: top;\n",
       "    }\n",
       "\n",
       "    .dataframe thead th {\n",
       "        text-align: right;\n",
       "    }\n",
       "</style>\n",
       "<table border=\"1\" class=\"dataframe\">\n",
       "  <thead>\n",
       "    <tr style=\"text-align: right;\">\n",
       "      <th></th>\n",
       "      <th>brand_name</th>\n",
       "      <th>model</th>\n",
       "      <th>price</th>\n",
       "      <th>rating</th>\n",
       "      <th>has_5g</th>\n",
       "      <th>has_nfc</th>\n",
       "      <th>has_ir_blaster</th>\n",
       "      <th>processor_name</th>\n",
       "      <th>processor_brand</th>\n",
       "      <th>num_cores</th>\n",
       "      <th>processor_speed</th>\n",
       "      <th>battery_capacity</th>\n",
       "      <th>fast_charging</th>\n",
       "      <th>ram_capacity</th>\n",
       "      <th>internal_memory</th>\n",
       "      <th>screen_size</th>\n",
       "      <th>refresh_rate</th>\n",
       "      <th>resolution</th>\n",
       "      <th>num_rear_cameras</th>\n",
       "      <th>num_front_cameras</th>\n",
       "      <th>os</th>\n",
       "      <th>primary_camera_rear</th>\n",
       "      <th>primary_camera_front</th>\n",
       "      <th>extended_memory</th>\n",
       "    </tr>\n",
       "  </thead>\n",
       "  <tbody>\n",
       "    <tr>\n",
       "      <th>427</th>\n",
       "      <td>vertu</td>\n",
       "      <td>Vertu Signature Touch</td>\n",
       "      <td>650000</td>\n",
       "      <td>62.0</td>\n",
       "      <td>False</td>\n",
       "      <td>True</td>\n",
       "      <td>False</td>\n",
       "      <td>Snapdragon 801</td>\n",
       "      <td>snapdragon</td>\n",
       "      <td>Octa Core</td>\n",
       "      <td>1.50</td>\n",
       "      <td>2275.0</td>\n",
       "      <td>-1</td>\n",
       "      <td>2.0</td>\n",
       "      <td>64.0</td>\n",
       "      <td>4.70</td>\n",
       "      <td>60</td>\n",
       "      <td>1080 x 1920</td>\n",
       "      <td>1</td>\n",
       "      <td>1</td>\n",
       "      <td>android</td>\n",
       "      <td>13.0</td>\n",
       "      <td>2.1</td>\n",
       "      <td>0</td>\n",
       "    </tr>\n",
       "    <tr>\n",
       "      <th>478</th>\n",
       "      <td>huawei</td>\n",
       "      <td>Huawei Mate 50 RS Porsche Design</td>\n",
       "      <td>239999</td>\n",
       "      <td>81.0</td>\n",
       "      <td>False</td>\n",
       "      <td>True</td>\n",
       "      <td>True</td>\n",
       "      <td>Snapdragon 8+ Gen1</td>\n",
       "      <td>snapdragon</td>\n",
       "      <td>Octa Core</td>\n",
       "      <td>3.20</td>\n",
       "      <td>4700.0</td>\n",
       "      <td>66</td>\n",
       "      <td>12.0</td>\n",
       "      <td>512.0</td>\n",
       "      <td>6.74</td>\n",
       "      <td>120</td>\n",
       "      <td>1212 x 2616</td>\n",
       "      <td>3</td>\n",
       "      <td>1</td>\n",
       "      <td>Hongmeng OS v3.0</td>\n",
       "      <td>50.0</td>\n",
       "      <td>13</td>\n",
       "      <td>256 GB</td>\n",
       "    </tr>\n",
       "    <tr>\n",
       "      <th>887</th>\n",
       "      <td>xiaomi</td>\n",
       "      <td>Xiaomi Redmi K20 Pro Signature Edition</td>\n",
       "      <td>480000</td>\n",
       "      <td>88.0</td>\n",
       "      <td>False</td>\n",
       "      <td>True</td>\n",
       "      <td>False</td>\n",
       "      <td>Snapdragon  855</td>\n",
       "      <td>snapdragon</td>\n",
       "      <td>Octa Core</td>\n",
       "      <td>2.80</td>\n",
       "      <td>4000.0</td>\n",
       "      <td>27</td>\n",
       "      <td>8.0</td>\n",
       "      <td>256.0</td>\n",
       "      <td>6.39</td>\n",
       "      <td>60</td>\n",
       "      <td>1080 x 2340</td>\n",
       "      <td>3</td>\n",
       "      <td>1</td>\n",
       "      <td>android</td>\n",
       "      <td>48.0</td>\n",
       "      <td>20</td>\n",
       "      <td>0</td>\n",
       "    </tr>\n",
       "    <tr>\n",
       "      <th>951</th>\n",
       "      <td>huawei</td>\n",
       "      <td>Huawei Mate 30 RS Porsche Design</td>\n",
       "      <td>214990</td>\n",
       "      <td>NaN</td>\n",
       "      <td>True</td>\n",
       "      <td>True</td>\n",
       "      <td>True</td>\n",
       "      <td>Kirin  990</td>\n",
       "      <td>kirin</td>\n",
       "      <td>Octa Core</td>\n",
       "      <td>2.86</td>\n",
       "      <td>4500.0</td>\n",
       "      <td>0</td>\n",
       "      <td>12.0</td>\n",
       "      <td>512.0</td>\n",
       "      <td>6.53</td>\n",
       "      <td>60</td>\n",
       "      <td>1176 x 2400</td>\n",
       "      <td>4</td>\n",
       "      <td>2</td>\n",
       "      <td>android</td>\n",
       "      <td>40.0</td>\n",
       "      <td>32</td>\n",
       "      <td>256 GB</td>\n",
       "    </tr>\n",
       "  </tbody>\n",
       "</table>\n",
       "</div>"
      ],
      "text/plain": [
       "    brand_name                                   model   price  rating  \\\n",
       "427      vertu                   Vertu Signature Touch  650000    62.0   \n",
       "478     huawei        Huawei Mate 50 RS Porsche Design  239999    81.0   \n",
       "887     xiaomi  Xiaomi Redmi K20 Pro Signature Edition  480000    88.0   \n",
       "951     huawei        Huawei Mate 30 RS Porsche Design  214990     NaN   \n",
       "\n",
       "     has_5g  has_nfc  has_ir_blaster      processor_name processor_brand  \\\n",
       "427   False     True           False      Snapdragon 801      snapdragon   \n",
       "478   False     True            True  Snapdragon 8+ Gen1      snapdragon   \n",
       "887   False     True           False     Snapdragon  855      snapdragon   \n",
       "951    True     True            True          Kirin  990           kirin   \n",
       "\n",
       "     num_cores  processor_speed  battery_capacity  fast_charging  \\\n",
       "427  Octa Core             1.50            2275.0             -1   \n",
       "478  Octa Core             3.20            4700.0             66   \n",
       "887  Octa Core             2.80            4000.0             27   \n",
       "951  Octa Core             2.86            4500.0              0   \n",
       "\n",
       "     ram_capacity  internal_memory  screen_size  refresh_rate    resolution  \\\n",
       "427           2.0             64.0         4.70            60  1080 x 1920    \n",
       "478          12.0            512.0         6.74           120  1212 x 2616    \n",
       "887           8.0            256.0         6.39            60  1080 x 2340    \n",
       "951          12.0            512.0         6.53            60  1176 x 2400    \n",
       "\n",
       "     num_rear_cameras num_front_cameras                os  \\\n",
       "427                 1                 1           android   \n",
       "478                 3                 1  Hongmeng OS v3.0   \n",
       "887                 3                 1           android   \n",
       "951                 4                 2           android   \n",
       "\n",
       "     primary_camera_rear primary_camera_front extended_memory  \n",
       "427                 13.0                  2.1               0  \n",
       "478                 50.0                   13          256 GB  \n",
       "887                 48.0                   20               0  \n",
       "951                 40.0                   32          256 GB  "
      ]
     },
     "execution_count": 124,
     "metadata": {},
     "output_type": "execute_result"
    }
   ],
   "source": [
    "df[df['price']>200000]"
   ]
  },
  {
   "cell_type": "markdown",
   "id": "9034177a",
   "metadata": {},
   "source": [
    "##### Rating Column"
   ]
  },
  {
   "cell_type": "code",
   "execution_count": 125,
   "id": "b348d2fd",
   "metadata": {},
   "outputs": [
    {
     "data": {
      "application/vnd.microsoft.datawrangler.viewer.v0+json": {
       "columns": [
        {
         "name": "index",
         "rawType": "object",
         "type": "string"
        },
        {
         "name": "rating",
         "rawType": "float64",
         "type": "float"
        }
       ],
       "ref": "d0d9fd7e-6410-4be3-a9f9-1e1305ab619a",
       "rows": [
        [
         "count",
         "879.0"
        ],
        [
         "mean",
         "78.25824800910125"
        ],
        [
         "std",
         "7.402854348688586"
        ],
        [
         "min",
         "60.0"
        ],
        [
         "25%",
         "74.0"
        ],
        [
         "50%",
         "80.0"
        ],
        [
         "75%",
         "84.0"
        ],
        [
         "max",
         "89.0"
        ]
       ],
       "shape": {
        "columns": 1,
        "rows": 8
       }
      },
      "text/plain": [
       "count    879.000000\n",
       "mean      78.258248\n",
       "std        7.402854\n",
       "min       60.000000\n",
       "25%       74.000000\n",
       "50%       80.000000\n",
       "75%       84.000000\n",
       "max       89.000000\n",
       "Name: rating, dtype: float64"
      ]
     },
     "execution_count": 125,
     "metadata": {},
     "output_type": "execute_result"
    }
   ],
   "source": [
    "df['rating'].describe()"
   ]
  },
  {
   "cell_type": "code",
   "execution_count": 126,
   "id": "afdff9ca",
   "metadata": {},
   "outputs": [
    {
     "data": {
      "text/plain": [
       "<Axes: xlabel='rating', ylabel='Count'>"
      ]
     },
     "execution_count": 126,
     "metadata": {},
     "output_type": "execute_result"
    },
    {
     "data": {
      "image/png": "[encoded data removed]",
      "text/plain": [
       "<Figure size 640x480 with 1 Axes>"
      ]
     },
     "metadata": {},
     "output_type": "display_data"
    }
   ],
   "source": [
    "sns.histplot(data=df['rating'],kde=True)"
   ]
  },
  {
   "cell_type": "code",
   "execution_count": 127,
   "id": "6d17895b",
   "metadata": {},
   "outputs": [
    {
     "data": {
      "text/plain": [
       "-0.6989993034105535"
      ]
     },
     "execution_count": 127,
     "metadata": {},
     "output_type": "execute_result"
    }
   ],
   "source": [
    "df['rating'].skew()"
   ]
  },
  {
   "cell_type": "code",
   "execution_count": 128,
   "id": "73603350",
   "metadata": {},
   "outputs": [
    {
     "data": {
      "text/plain": [
       "<Axes: ylabel='rating'>"
      ]
     },
     "execution_count": 128,
     "metadata": {},
     "output_type": "execute_result"
    },
    {
     "data": {
      "image/png": "[encoded data removed]",
      "text/plain": [
       "<Figure size 640x480 with 1 Axes>"
      ]
     },
     "metadata": {},
     "output_type": "display_data"
    }
   ],
   "source": [
    "sns.boxplot(df['rating'])"
   ]
  },
  {
   "cell_type": "code",
   "execution_count": 129,
   "id": "255cf731",
   "metadata": {},
   "outputs": [
    {
     "data": {
      "text/plain": [
       "101"
      ]
     },
     "execution_count": 129,
     "metadata": {},
     "output_type": "execute_result"
    }
   ],
   "source": [
    "df['rating'].isnull().sum()"
   ]
  },
  {
   "cell_type": "markdown",
   "id": "1f7adb47",
   "metadata": {},
   "source": [
    "##### Sim Card Specifications"
   ]
  },
  {
   "cell_type": "code",
   "execution_count": 130,
   "id": "b95f9c82",
   "metadata": {},
   "outputs": [
    {
     "data": {
      "application/vnd.microsoft.datawrangler.viewer.v0+json": {
       "columns": [
        {
         "name": "has_5g",
         "rawType": "bool",
         "type": "boolean"
        },
        {
         "name": "count",
         "rawType": "int64",
         "type": "integer"
        }
       ],
       "ref": "4303675a-64fa-4a7e-ba85-c4c264b085e0",
       "rows": [
        [
         "True",
         "549"
        ],
        [
         "False",
         "431"
        ]
       ],
       "shape": {
        "columns": 1,
        "rows": 2
       }
      },
      "text/plain": [
       "has_5g\n",
       "True     549\n",
       "False    431\n",
       "Name: count, dtype: int64"
      ]
     },
     "execution_count": 130,
     "metadata": {},
     "output_type": "execute_result"
    }
   ],
   "source": [
    "df['has_5g'].value_counts()"
   ]
  },
  {
   "cell_type": "code",
   "execution_count": 131,
   "id": "d93a199f",
   "metadata": {},
   "outputs": [
    {
     "data": {
      "application/vnd.microsoft.datawrangler.viewer.v0+json": {
       "columns": [
        {
         "name": "has_nfc",
         "rawType": "bool",
         "type": "boolean"
        },
        {
         "name": "count",
         "rawType": "int64",
         "type": "integer"
        }
       ],
       "ref": "dc6c6f98-8303-4529-994d-73b68933dacb",
       "rows": [
        [
         "False",
         "587"
        ],
        [
         "True",
         "393"
        ]
       ],
       "shape": {
        "columns": 1,
        "rows": 2
       }
      },
      "text/plain": [
       "has_nfc\n",
       "False    587\n",
       "True     393\n",
       "Name: count, dtype: int64"
      ]
     },
     "execution_count": 131,
     "metadata": {},
     "output_type": "execute_result"
    }
   ],
   "source": [
    "df['has_nfc'].value_counts()"
   ]
  },
  {
   "cell_type": "code",
   "execution_count": 132,
   "id": "f7953799",
   "metadata": {},
   "outputs": [
    {
     "data": {
      "application/vnd.microsoft.datawrangler.viewer.v0+json": {
       "columns": [
        {
         "name": "has_ir_blaster",
         "rawType": "bool",
         "type": "boolean"
        },
        {
         "name": "count",
         "rawType": "int64",
         "type": "integer"
        }
       ],
       "ref": "2bb67d9e-7ea3-4218-b330-362c9a8a30b6",
       "rows": [
        [
         "False",
         "821"
        ],
        [
         "True",
         "159"
        ]
       ],
       "shape": {
        "columns": 1,
        "rows": 2
       }
      },
      "text/plain": [
       "has_ir_blaster\n",
       "False    821\n",
       "True     159\n",
       "Name: count, dtype: int64"
      ]
     },
     "execution_count": 132,
     "metadata": {},
     "output_type": "execute_result"
    }
   ],
   "source": [
    "df['has_ir_blaster'].value_counts()"
   ]
  },
  {
   "cell_type": "markdown",
   "id": "2eab514d",
   "metadata": {},
   "source": [
    "##### Processor"
   ]
  },
  {
   "cell_type": "code",
   "execution_count": 133,
   "id": "8068d15b",
   "metadata": {},
   "outputs": [],
   "source": [
    "df['processor_brand']=df['processor_brand'].str.replace('sanpdragon','snapdragon')\n",
    "df['processor_brand']=df['processor_brand'].str.replace('apple','bionic')\n",
    "df['processor_brand']=df['processor_brand'].str.replace('samsung','exynos')"
   ]
  },
  {
   "cell_type": "code",
   "execution_count": 134,
   "id": "8004b778",
   "metadata": {},
   "outputs": [],
   "source": [
    "temp_df=df[df['processor_brand']=='qualcomm']"
   ]
  },
  {
   "cell_type": "code",
   "execution_count": 135,
   "id": "50f55c5e",
   "metadata": {},
   "outputs": [],
   "source": [
    "df.loc[temp_df.index, 'processor_brand'] = 'snapdragon'"
   ]
  },
  {
   "cell_type": "code",
   "execution_count": 136,
   "id": "e8e9d253",
   "metadata": {},
   "outputs": [],
   "source": [
    "temp_df = df[df['processor_brand'] == 'a13']"
   ]
  },
  {
   "cell_type": "code",
   "execution_count": 137,
   "id": "6274ee02",
   "metadata": {},
   "outputs": [],
   "source": [
    "df.loc[temp_df.index, 'processor_brand'] = 'bionic'"
   ]
  },
  {
   "cell_type": "code",
   "execution_count": 138,
   "id": "92e4d4b3",
   "metadata": {},
   "outputs": [
    {
     "data": {
      "application/vnd.microsoft.datawrangler.viewer.v0+json": {
       "columns": [
        {
         "name": "processor_brand",
         "rawType": "object",
         "type": "string"
        },
        {
         "name": "count",
         "rawType": "int64",
         "type": "integer"
        }
       ],
       "ref": "6a3dc495-2be1-4a06-9d81-4b54decfe40e",
       "rows": [
        [
         "snapdragon",
         "413"
        ],
        [
         "helio",
         "201"
        ],
        [
         "dimensity",
         "177"
        ],
        [
         "exynos",
         "50"
        ],
        [
         "bionic",
         "45"
        ],
        [
         "unisoc",
         "26"
        ],
        [
         "tiger",
         "24"
        ],
        [
         "google",
         "9"
        ],
        [
         "kirin",
         "7"
        ],
        [
         "spreadtrum",
         "4"
        ],
        [
         "sc9863a",
         "2"
        ],
        [
         "fusion",
         "1"
        ],
        [
         "mediatek",
         "1"
        ]
       ],
       "shape": {
        "columns": 1,
        "rows": 13
       }
      },
      "text/plain": [
       "processor_brand\n",
       "snapdragon    413\n",
       "helio         201\n",
       "dimensity     177\n",
       "exynos         50\n",
       "bionic         45\n",
       "unisoc         26\n",
       "tiger          24\n",
       "google          9\n",
       "kirin           7\n",
       "spreadtrum      4\n",
       "sc9863a         2\n",
       "fusion          1\n",
       "mediatek        1\n",
       "Name: count, dtype: int64"
      ]
     },
     "execution_count": 138,
     "metadata": {},
     "output_type": "execute_result"
    }
   ],
   "source": [
    "df['processor_brand'].value_counts()"
   ]
  },
  {
   "cell_type": "code",
   "execution_count": 139,
   "id": "af19a4d3",
   "metadata": {},
   "outputs": [
    {
     "data": {
      "application/vnd.microsoft.datawrangler.viewer.v0+json": {
       "columns": [
        {
         "name": "index",
         "rawType": "int64",
         "type": "integer"
        },
        {
         "name": "brand_name",
         "rawType": "object",
         "type": "string"
        },
        {
         "name": "model",
         "rawType": "object",
         "type": "string"
        },
        {
         "name": "price",
         "rawType": "int64",
         "type": "integer"
        },
        {
         "name": "rating",
         "rawType": "float64",
         "type": "float"
        },
        {
         "name": "has_5g",
         "rawType": "bool",
         "type": "boolean"
        },
        {
         "name": "has_nfc",
         "rawType": "bool",
         "type": "boolean"
        },
        {
         "name": "has_ir_blaster",
         "rawType": "bool",
         "type": "boolean"
        },
        {
         "name": "processor_name",
         "rawType": "object",
         "type": "unknown"
        },
        {
         "name": "processor_brand",
         "rawType": "object",
         "type": "unknown"
        },
        {
         "name": "num_cores",
         "rawType": "object",
         "type": "string"
        },
        {
         "name": "processor_speed",
         "rawType": "float64",
         "type": "float"
        },
        {
         "name": "battery_capacity",
         "rawType": "float64",
         "type": "float"
        },
        {
         "name": "fast_charging",
         "rawType": "int64",
         "type": "integer"
        },
        {
         "name": "ram_capacity",
         "rawType": "float64",
         "type": "float"
        },
        {
         "name": "internal_memory",
         "rawType": "float64",
         "type": "float"
        },
        {
         "name": "screen_size",
         "rawType": "float64",
         "type": "float"
        },
        {
         "name": "refresh_rate",
         "rawType": "int64",
         "type": "integer"
        },
        {
         "name": "resolution",
         "rawType": "object",
         "type": "string"
        },
        {
         "name": "num_rear_cameras",
         "rawType": "int64",
         "type": "integer"
        },
        {
         "name": "num_front_cameras",
         "rawType": "object",
         "type": "string"
        },
        {
         "name": "os",
         "rawType": "object",
         "type": "string"
        },
        {
         "name": "primary_camera_rear",
         "rawType": "float64",
         "type": "float"
        },
        {
         "name": "primary_camera_front",
         "rawType": "object",
         "type": "string"
        },
        {
         "name": "extended_memory",
         "rawType": "object",
         "type": "string"
        }
       ],
       "ref": "69a2b075-50ae-4ed4-b6c8-d2d4e3f9ff99",
       "rows": [
        [
         "118",
         "tesla",
         "Tesla Pi Phone",
         "69999",
         "83.0",
         "True",
         "True",
         "False",
         null,
         null,
         "Octa Core",
         null,
         "5000.0",
         "120",
         "16.0",
         "512.0",
         "6.73",
         "165",
         "1080 x 2448 ",
         "3",
         "1",
         "android",
         "50.0",
         "32",
         "0"
        ],
        [
         "143",
         "jio",
         "Jio Phone 3",
         "4499",
         null,
         "False",
         "False",
         "False",
         null,
         null,
         "Quad Core",
         "1.4",
         "2800.0",
         "-1",
         "2.0",
         "64.0",
         "5.0",
         "60",
         "720 x 1280 ",
         "1",
         "1",
         "android",
         "5.0",
         "2",
         "128 GB"
        ],
        [
         "187",
         "ikall",
         "iKall Z19 Pro",
         "8099",
         "60.0",
         "False",
         "False",
         "False",
         null,
         null,
         "Quad Core",
         "1.6",
         "5000.0",
         "-1",
         "4.0",
         "64.0",
         "6.5",
         "60",
         "720 x 1600 ",
         "1",
         "1",
         "android",
         "13.0",
         "8",
         "128 GB"
        ],
        [
         "200",
         "samsung",
         "Samsung Galaxy A13",
         "14450",
         "75.0",
         "False",
         "False",
         "False",
         null,
         null,
         "Octa Core",
         "2.0",
         "5000.0",
         "25",
         "4.0",
         "64.0",
         "6.6",
         "60",
         "1080 x 2408 ",
         "4",
         "1",
         "android",
         "50.0",
         "8",
         "1 TB"
        ],
        [
         "307",
         "samsung",
         "Samsung Galaxy A13 (4GB RAM + 128GB)",
         "14999",
         "75.0",
         "False",
         "False",
         "False",
         null,
         null,
         "Octa Core",
         "2.0",
         "5000.0",
         "25",
         "4.0",
         "128.0",
         "6.6",
         "60",
         "1080 x 2408 ",
         "4",
         "1",
         "android",
         "50.0",
         "8",
         "1 TB"
        ],
        [
         "313",
         "itel",
         "itel S16 Pro",
         "6990",
         null,
         "False",
         "False",
         "False",
         null,
         null,
         "Quad Core",
         "1.3",
         "4000.0",
         "-1",
         "2.0",
         "32.0",
         "6.6",
         "60",
         "1600 x 720 ",
         "3",
         "1",
         "android",
         "8.0",
         "8",
         "32 GB"
        ],
        [
         "490",
         "samsung",
         "Samsung Galaxy A15",
         "15990",
         "63.0",
         "False",
         "False",
         "False",
         null,
         null,
         "Octa Core",
         null,
         "5000.0",
         "0",
         "6.0",
         "64.0",
         "6.5",
         "60",
         "720 x 1600 ",
         "3",
         "1",
         "android",
         "48.0",
         "8",
         "1 TB"
        ],
        [
         "523",
         "samsung",
         "Samsung Galaxy F14",
         "14990",
         "67.0",
         "False",
         "True",
         "False",
         null,
         null,
         "Octa Core",
         null,
         "5000.0",
         "25",
         "4.0",
         "64.0",
         "6.62",
         "60",
         "2408 x 1080 ",
         "3",
         "1",
         "android",
         "50.0",
         "16",
         "1 TB"
        ],
        [
         "575",
         "samsung",
         "Samsung Galaxy A13 (6GB RAM + 128GB)",
         "16499",
         "78.0",
         "False",
         "False",
         "False",
         null,
         null,
         "Octa Core",
         "2.0",
         "5000.0",
         "25",
         "6.0",
         "128.0",
         "6.6",
         "60",
         "1080 x 2408 ",
         "4",
         "1",
         "android",
         "50.0",
         "8",
         "1 TB"
        ],
        [
         "733",
         "ikall",
         "iKall Z19",
         "7999",
         "61.0",
         "False",
         "False",
         "False",
         null,
         null,
         "Quad Core",
         "1.6",
         "5000.0",
         "-1",
         "4.0",
         "32.0",
         "6.5",
         "60",
         "720 x 1600 ",
         "1",
         "1",
         "android",
         "20.0",
         "13",
         "128 GB"
        ],
        [
         "753",
         "tecno",
         "Tecno Spark Go 2022",
         "6249",
         "61.0",
         "False",
         "False",
         "False",
         null,
         null,
         "Octa Core",
         "2.2",
         "5000.0",
         "-1",
         "2.0",
         "32.0",
         "6.51",
         "60",
         "720 x 1600 ",
         "2",
         "1",
         "android",
         "13.0",
         "8",
         "256 GB"
        ],
        [
         "769",
         "itel",
         "itel A56",
         "5490",
         null,
         "False",
         "False",
         "False",
         null,
         null,
         "Quad Core",
         "1.3",
         "4000.0",
         "-1",
         "1.0",
         "16.0",
         "6.0",
         "60",
         "720 x 1600 ",
         "2",
         "1",
         "android",
         "8.0",
         "5",
         "32 GB"
        ],
        [
         "799",
         "samsung",
         "Samsung Galaxy S23 FE 5G",
         "54999",
         "77.0",
         "True",
         "True",
         "False",
         null,
         null,
         "Octa Core",
         null,
         "4500.0",
         "0",
         "8.0",
         "128.0",
         "6.5",
         "60",
         "1080 x 2400 ",
         "4",
         "1",
         "android",
         "64.0",
         "32",
         "0"
        ],
        [
         "800",
         "samsung",
         "Samsung Galaxy M51s 5G",
         "24990",
         "72.0",
         "True",
         "False",
         "False",
         null,
         null,
         "Octa Core",
         null,
         "6000.0",
         "0",
         "6.0",
         "128.0",
         "6.7",
         "60",
         "1080 x 2400 ",
         "3",
         "1",
         "android",
         "64.0",
         "32",
         "1 TB"
        ],
        [
         "844",
         "huawei",
         "Huawei Nova Y61",
         "21990",
         "63.0",
         "False",
         "False",
         "False",
         null,
         null,
         "Octa Core",
         null,
         "5000.0",
         "22",
         "4.0",
         "64.0",
         "6.52",
         "60",
         "720 x 1600 ",
         "3",
         "1",
         "EMUI v12",
         "50.0",
         "5",
         "Memory Card (Hybrid)"
        ],
        [
         "910",
         "samsung",
         "Samsung Galaxy M35",
         "22999",
         "74.0",
         "False",
         "True",
         "False",
         null,
         null,
         "Octa Core",
         null,
         "6000.0",
         "0",
         "8.0",
         "128.0",
         "6.5",
         "60",
         "1080 x 2400 ",
         "3",
         "1",
         "android",
         "64.0",
         "32",
         "1 TB"
        ],
        [
         "911",
         "samsung",
         "Samsung Galaxy A05",
         "12990",
         "63.0",
         "False",
         "False",
         "False",
         null,
         null,
         "Octa Core",
         null,
         "5000.0",
         "18",
         "4.0",
         "64.0",
         "6.5",
         "60",
         "720 x 1560 ",
         "2",
         "1",
         "android",
         "48.0",
         "5",
         "1 TB"
        ],
        [
         "952",
         "samsung",
         "Samsung Galaxy A11",
         "9990",
         "63.0",
         "False",
         "False",
         "False",
         null,
         null,
         "Octa Core",
         "1.8",
         "4000.0",
         "15",
         "2.0",
         "32.0",
         "6.4",
         "60",
         "720 x 1560 ",
         "3",
         "1",
         "android",
         "13.0",
         "8",
         "512 GB"
        ],
        [
         "965",
         "ikall",
         "iKall Z18",
         "6799",
         "61.0",
         "False",
         "False",
         "False",
         null,
         null,
         "Quad Core",
         "1.3",
         "5000.0",
         "-1",
         "4.0",
         "64.0",
         "6.82",
         "60",
         "720 x 1560 ",
         "1",
         "1",
         "android",
         "20.0",
         "13",
         "64 GB"
        ],
        [
         "979",
         "samsung",
         "Samsung Galaxy M52s 5G",
         "24990",
         "74.0",
         "True",
         "False",
         "False",
         null,
         null,
         "Octa Core",
         null,
         "5000.0",
         "0",
         "8.0",
         "128.0",
         "6.5",
         "60",
         "1080 x 2400 ",
         "3",
         "1",
         "android",
         "64.0",
         "32",
         "1 TB"
        ]
       ],
       "shape": {
        "columns": 24,
        "rows": 20
       }
      },
      "text/html": [
       "<div>\n",
       "<style scoped>\n",
       "    .dataframe tbody tr th:only-of-type {\n",
       "        vertical-align: middle;\n",
       "    }\n",
       "\n",
       "    .dataframe tbody tr th {\n",
       "        vertical-align: top;\n",
       "    }\n",
       "\n",
       "    .dataframe thead th {\n",
       "        text-align: right;\n",
       "    }\n",
       "</style>\n",
       "<table border=\"1\" class=\"dataframe\">\n",
       "  <thead>\n",
       "    <tr style=\"text-align: right;\">\n",
       "      <th></th>\n",
       "      <th>brand_name</th>\n",
       "      <th>model</th>\n",
       "      <th>price</th>\n",
       "      <th>rating</th>\n",
       "      <th>has_5g</th>\n",
       "      <th>has_nfc</th>\n",
       "      <th>has_ir_blaster</th>\n",
       "      <th>processor_name</th>\n",
       "      <th>processor_brand</th>\n",
       "      <th>num_cores</th>\n",
       "      <th>processor_speed</th>\n",
       "      <th>battery_capacity</th>\n",
       "      <th>fast_charging</th>\n",
       "      <th>ram_capacity</th>\n",
       "      <th>internal_memory</th>\n",
       "      <th>screen_size</th>\n",
       "      <th>refresh_rate</th>\n",
       "      <th>resolution</th>\n",
       "      <th>num_rear_cameras</th>\n",
       "      <th>num_front_cameras</th>\n",
       "      <th>os</th>\n",
       "      <th>primary_camera_rear</th>\n",
       "      <th>primary_camera_front</th>\n",
       "      <th>extended_memory</th>\n",
       "    </tr>\n",
       "  </thead>\n",
       "  <tbody>\n",
       "    <tr>\n",
       "      <th>118</th>\n",
       "      <td>tesla</td>\n",
       "      <td>Tesla Pi Phone</td>\n",
       "      <td>69999</td>\n",
       "      <td>83.0</td>\n",
       "      <td>True</td>\n",
       "      <td>True</td>\n",
       "      <td>False</td>\n",
       "      <td>NaN</td>\n",
       "      <td>NaN</td>\n",
       "      <td>Octa Core</td>\n",
       "      <td>NaN</td>\n",
       "      <td>5000.0</td>\n",
       "      <td>120</td>\n",
       "      <td>16.0</td>\n",
       "      <td>512.0</td>\n",
       "      <td>6.73</td>\n",
       "      <td>165</td>\n",
       "      <td>1080 x 2448</td>\n",
       "      <td>3</td>\n",
       "      <td>1</td>\n",
       "      <td>android</td>\n",
       "      <td>50.0</td>\n",
       "      <td>32</td>\n",
       "      <td>0</td>\n",
       "    </tr>\n",
       "    <tr>\n",
       "      <th>143</th>\n",
       "      <td>jio</td>\n",
       "      <td>Jio Phone 3</td>\n",
       "      <td>4499</td>\n",
       "      <td>NaN</td>\n",
       "      <td>False</td>\n",
       "      <td>False</td>\n",
       "      <td>False</td>\n",
       "      <td>NaN</td>\n",
       "      <td>NaN</td>\n",
       "      <td>Quad Core</td>\n",
       "      <td>1.4</td>\n",
       "      <td>2800.0</td>\n",
       "      <td>-1</td>\n",
       "      <td>2.0</td>\n",
       "      <td>64.0</td>\n",
       "      <td>5.00</td>\n",
       "      <td>60</td>\n",
       "      <td>720 x 1280</td>\n",
       "      <td>1</td>\n",
       "      <td>1</td>\n",
       "      <td>android</td>\n",
       "      <td>5.0</td>\n",
       "      <td>2</td>\n",
       "      <td>128 GB</td>\n",
       "    </tr>\n",
       "    <tr>\n",
       "      <th>187</th>\n",
       "      <td>ikall</td>\n",
       "      <td>iKall Z19 Pro</td>\n",
       "      <td>8099</td>\n",
       "      <td>60.0</td>\n",
       "      <td>False</td>\n",
       "      <td>False</td>\n",
       "      <td>False</td>\n",
       "      <td>NaN</td>\n",
       "      <td>NaN</td>\n",
       "      <td>Quad Core</td>\n",
       "      <td>1.6</td>\n",
       "      <td>5000.0</td>\n",
       "      <td>-1</td>\n",
       "      <td>4.0</td>\n",
       "      <td>64.0</td>\n",
       "      <td>6.50</td>\n",
       "      <td>60</td>\n",
       "      <td>720 x 1600</td>\n",
       "      <td>1</td>\n",
       "      <td>1</td>\n",
       "      <td>android</td>\n",
       "      <td>13.0</td>\n",
       "      <td>8</td>\n",
       "      <td>128 GB</td>\n",
       "    </tr>\n",
       "    <tr>\n",
       "      <th>200</th>\n",
       "      <td>samsung</td>\n",
       "      <td>Samsung Galaxy A13</td>\n",
       "      <td>14450</td>\n",
       "      <td>75.0</td>\n",
       "      <td>False</td>\n",
       "      <td>False</td>\n",
       "      <td>False</td>\n",
       "      <td>NaN</td>\n",
       "      <td>NaN</td>\n",
       "      <td>Octa Core</td>\n",
       "      <td>2.0</td>\n",
       "      <td>5000.0</td>\n",
       "      <td>25</td>\n",
       "      <td>4.0</td>\n",
       "      <td>64.0</td>\n",
       "      <td>6.60</td>\n",
       "      <td>60</td>\n",
       "      <td>1080 x 2408</td>\n",
       "      <td>4</td>\n",
       "      <td>1</td>\n",
       "      <td>android</td>\n",
       "      <td>50.0</td>\n",
       "      <td>8</td>\n",
       "      <td>1 TB</td>\n",
       "    </tr>\n",
       "    <tr>\n",
       "      <th>307</th>\n",
       "      <td>samsung</td>\n",
       "      <td>Samsung Galaxy A13 (4GB RAM + 128GB)</td>\n",
       "      <td>14999</td>\n",
       "      <td>75.0</td>\n",
       "      <td>False</td>\n",
       "      <td>False</td>\n",
       "      <td>False</td>\n",
       "      <td>NaN</td>\n",
       "      <td>NaN</td>\n",
       "      <td>Octa Core</td>\n",
       "      <td>2.0</td>\n",
       "      <td>5000.0</td>\n",
       "      <td>25</td>\n",
       "      <td>4.0</td>\n",
       "      <td>128.0</td>\n",
       "      <td>6.60</td>\n",
       "      <td>60</td>\n",
       "      <td>1080 x 2408</td>\n",
       "      <td>4</td>\n",
       "      <td>1</td>\n",
       "      <td>android</td>\n",
       "      <td>50.0</td>\n",
       "      <td>8</td>\n",
       "      <td>1 TB</td>\n",
       "    </tr>\n",
       "    <tr>\n",
       "      <th>313</th>\n",
       "      <td>itel</td>\n",
       "      <td>itel S16 Pro</td>\n",
       "      <td>6990</td>\n",
       "      <td>NaN</td>\n",
       "      <td>False</td>\n",
       "      <td>False</td>\n",
       "      <td>False</td>\n",
       "      <td>NaN</td>\n",
       "      <td>NaN</td>\n",
       "      <td>Quad Core</td>\n",
       "      <td>1.3</td>\n",
       "      <td>4000.0</td>\n",
       "      <td>-1</td>\n",
       "      <td>2.0</td>\n",
       "      <td>32.0</td>\n",
       "      <td>6.60</td>\n",
       "      <td>60</td>\n",
       "      <td>1600 x 720</td>\n",
       "      <td>3</td>\n",
       "      <td>1</td>\n",
       "      <td>android</td>\n",
       "      <td>8.0</td>\n",
       "      <td>8</td>\n",
       "      <td>32 GB</td>\n",
       "    </tr>\n",
       "    <tr>\n",
       "      <th>490</th>\n",
       "      <td>samsung</td>\n",
       "      <td>Samsung Galaxy A15</td>\n",
       "      <td>15990</td>\n",
       "      <td>63.0</td>\n",
       "      <td>False</td>\n",
       "      <td>False</td>\n",
       "      <td>False</td>\n",
       "      <td>NaN</td>\n",
       "      <td>NaN</td>\n",
       "      <td>Octa Core</td>\n",
       "      <td>NaN</td>\n",
       "      <td>5000.0</td>\n",
       "      <td>0</td>\n",
       "      <td>6.0</td>\n",
       "      <td>64.0</td>\n",
       "      <td>6.50</td>\n",
       "      <td>60</td>\n",
       "      <td>720 x 1600</td>\n",
       "      <td>3</td>\n",
       "      <td>1</td>\n",
       "      <td>android</td>\n",
       "      <td>48.0</td>\n",
       "      <td>8</td>\n",
       "      <td>1 TB</td>\n",
       "    </tr>\n",
       "    <tr>\n",
       "      <th>523</th>\n",
       "      <td>samsung</td>\n",
       "      <td>Samsung Galaxy F14</td>\n",
       "      <td>14990</td>\n",
       "      <td>67.0</td>\n",
       "      <td>False</td>\n",
       "      <td>True</td>\n",
       "      <td>False</td>\n",
       "      <td>NaN</td>\n",
       "      <td>NaN</td>\n",
       "      <td>Octa Core</td>\n",
       "      <td>NaN</td>\n",
       "      <td>5000.0</td>\n",
       "      <td>25</td>\n",
       "      <td>4.0</td>\n",
       "      <td>64.0</td>\n",
       "      <td>6.62</td>\n",
       "      <td>60</td>\n",
       "      <td>2408 x 1080</td>\n",
       "      <td>3</td>\n",
       "      <td>1</td>\n",
       "      <td>android</td>\n",
       "      <td>50.0</td>\n",
       "      <td>16</td>\n",
       "      <td>1 TB</td>\n",
       "    </tr>\n",
       "    <tr>\n",
       "      <th>575</th>\n",
       "      <td>samsung</td>\n",
       "      <td>Samsung Galaxy A13 (6GB RAM + 128GB)</td>\n",
       "      <td>16499</td>\n",
       "      <td>78.0</td>\n",
       "      <td>False</td>\n",
       "      <td>False</td>\n",
       "      <td>False</td>\n",
       "      <td>NaN</td>\n",
       "      <td>NaN</td>\n",
       "      <td>Octa Core</td>\n",
       "      <td>2.0</td>\n",
       "      <td>5000.0</td>\n",
       "      <td>25</td>\n",
       "      <td>6.0</td>\n",
       "      <td>128.0</td>\n",
       "      <td>6.60</td>\n",
       "      <td>60</td>\n",
       "      <td>1080 x 2408</td>\n",
       "      <td>4</td>\n",
       "      <td>1</td>\n",
       "      <td>android</td>\n",
       "      <td>50.0</td>\n",
       "      <td>8</td>\n",
       "      <td>1 TB</td>\n",
       "    </tr>\n",
       "    <tr>\n",
       "      <th>733</th>\n",
       "      <td>ikall</td>\n",
       "      <td>iKall Z19</td>\n",
       "      <td>7999</td>\n",
       "      <td>61.0</td>\n",
       "      <td>False</td>\n",
       "      <td>False</td>\n",
       "      <td>False</td>\n",
       "      <td>NaN</td>\n",
       "      <td>NaN</td>\n",
       "      <td>Quad Core</td>\n",
       "      <td>1.6</td>\n",
       "      <td>5000.0</td>\n",
       "      <td>-1</td>\n",
       "      <td>4.0</td>\n",
       "      <td>32.0</td>\n",
       "      <td>6.50</td>\n",
       "      <td>60</td>\n",
       "      <td>720 x 1600</td>\n",
       "      <td>1</td>\n",
       "      <td>1</td>\n",
       "      <td>android</td>\n",
       "      <td>20.0</td>\n",
       "      <td>13</td>\n",
       "      <td>128 GB</td>\n",
       "    </tr>\n",
       "    <tr>\n",
       "      <th>753</th>\n",
       "      <td>tecno</td>\n",
       "      <td>Tecno Spark Go 2022</td>\n",
       "      <td>6249</td>\n",
       "      <td>61.0</td>\n",
       "      <td>False</td>\n",
       "      <td>False</td>\n",
       "      <td>False</td>\n",
       "      <td>NaN</td>\n",
       "      <td>NaN</td>\n",
       "      <td>Octa Core</td>\n",
       "      <td>2.2</td>\n",
       "      <td>5000.0</td>\n",
       "      <td>-1</td>\n",
       "      <td>2.0</td>\n",
       "      <td>32.0</td>\n",
       "      <td>6.51</td>\n",
       "      <td>60</td>\n",
       "      <td>720 x 1600</td>\n",
       "      <td>2</td>\n",
       "      <td>1</td>\n",
       "      <td>android</td>\n",
       "      <td>13.0</td>\n",
       "      <td>8</td>\n",
       "      <td>256 GB</td>\n",
       "    </tr>\n",
       "    <tr>\n",
       "      <th>769</th>\n",
       "      <td>itel</td>\n",
       "      <td>itel A56</td>\n",
       "      <td>5490</td>\n",
       "      <td>NaN</td>\n",
       "      <td>False</td>\n",
       "      <td>False</td>\n",
       "      <td>False</td>\n",
       "      <td>NaN</td>\n",
       "      <td>NaN</td>\n",
       "      <td>Quad Core</td>\n",
       "      <td>1.3</td>\n",
       "      <td>4000.0</td>\n",
       "      <td>-1</td>\n",
       "      <td>1.0</td>\n",
       "      <td>16.0</td>\n",
       "      <td>6.00</td>\n",
       "      <td>60</td>\n",
       "      <td>720 x 1600</td>\n",
       "      <td>2</td>\n",
       "      <td>1</td>\n",
       "      <td>android</td>\n",
       "      <td>8.0</td>\n",
       "      <td>5</td>\n",
       "      <td>32 GB</td>\n",
       "    </tr>\n",
       "    <tr>\n",
       "      <th>799</th>\n",
       "      <td>samsung</td>\n",
       "      <td>Samsung Galaxy S23 FE 5G</td>\n",
       "      <td>54999</td>\n",
       "      <td>77.0</td>\n",
       "      <td>True</td>\n",
       "      <td>True</td>\n",
       "      <td>False</td>\n",
       "      <td>NaN</td>\n",
       "      <td>NaN</td>\n",
       "      <td>Octa Core</td>\n",
       "      <td>NaN</td>\n",
       "      <td>4500.0</td>\n",
       "      <td>0</td>\n",
       "      <td>8.0</td>\n",
       "      <td>128.0</td>\n",
       "      <td>6.50</td>\n",
       "      <td>60</td>\n",
       "      <td>1080 x 2400</td>\n",
       "      <td>4</td>\n",
       "      <td>1</td>\n",
       "      <td>android</td>\n",
       "      <td>64.0</td>\n",
       "      <td>32</td>\n",
       "      <td>0</td>\n",
       "    </tr>\n",
       "    <tr>\n",
       "      <th>800</th>\n",
       "      <td>samsung</td>\n",
       "      <td>Samsung Galaxy M51s 5G</td>\n",
       "      <td>24990</td>\n",
       "      <td>72.0</td>\n",
       "      <td>True</td>\n",
       "      <td>False</td>\n",
       "      <td>False</td>\n",
       "      <td>NaN</td>\n",
       "      <td>NaN</td>\n",
       "      <td>Octa Core</td>\n",
       "      <td>NaN</td>\n",
       "      <td>6000.0</td>\n",
       "      <td>0</td>\n",
       "      <td>6.0</td>\n",
       "      <td>128.0</td>\n",
       "      <td>6.70</td>\n",
       "      <td>60</td>\n",
       "      <td>1080 x 2400</td>\n",
       "      <td>3</td>\n",
       "      <td>1</td>\n",
       "      <td>android</td>\n",
       "      <td>64.0</td>\n",
       "      <td>32</td>\n",
       "      <td>1 TB</td>\n",
       "    </tr>\n",
       "    <tr>\n",
       "      <th>844</th>\n",
       "      <td>huawei</td>\n",
       "      <td>Huawei Nova Y61</td>\n",
       "      <td>21990</td>\n",
       "      <td>63.0</td>\n",
       "      <td>False</td>\n",
       "      <td>False</td>\n",
       "      <td>False</td>\n",
       "      <td>NaN</td>\n",
       "      <td>NaN</td>\n",
       "      <td>Octa Core</td>\n",
       "      <td>NaN</td>\n",
       "      <td>5000.0</td>\n",
       "      <td>22</td>\n",
       "      <td>4.0</td>\n",
       "      <td>64.0</td>\n",
       "      <td>6.52</td>\n",
       "      <td>60</td>\n",
       "      <td>720 x 1600</td>\n",
       "      <td>3</td>\n",
       "      <td>1</td>\n",
       "      <td>EMUI v12</td>\n",
       "      <td>50.0</td>\n",
       "      <td>5</td>\n",
       "      <td>Memory Card (Hybrid)</td>\n",
       "    </tr>\n",
       "    <tr>\n",
       "      <th>910</th>\n",
       "      <td>samsung</td>\n",
       "      <td>Samsung Galaxy M35</td>\n",
       "      <td>22999</td>\n",
       "      <td>74.0</td>\n",
       "      <td>False</td>\n",
       "      <td>True</td>\n",
       "      <td>False</td>\n",
       "      <td>NaN</td>\n",
       "      <td>NaN</td>\n",
       "      <td>Octa Core</td>\n",
       "      <td>NaN</td>\n",
       "      <td>6000.0</td>\n",
       "      <td>0</td>\n",
       "      <td>8.0</td>\n",
       "      <td>128.0</td>\n",
       "      <td>6.50</td>\n",
       "      <td>60</td>\n",
       "      <td>1080 x 2400</td>\n",
       "      <td>3</td>\n",
       "      <td>1</td>\n",
       "      <td>android</td>\n",
       "      <td>64.0</td>\n",
       "      <td>32</td>\n",
       "      <td>1 TB</td>\n",
       "    </tr>\n",
       "    <tr>\n",
       "      <th>911</th>\n",
       "      <td>samsung</td>\n",
       "      <td>Samsung Galaxy A05</td>\n",
       "      <td>12990</td>\n",
       "      <td>63.0</td>\n",
       "      <td>False</td>\n",
       "      <td>False</td>\n",
       "      <td>False</td>\n",
       "      <td>NaN</td>\n",
       "      <td>NaN</td>\n",
       "      <td>Octa Core</td>\n",
       "      <td>NaN</td>\n",
       "      <td>5000.0</td>\n",
       "      <td>18</td>\n",
       "      <td>4.0</td>\n",
       "      <td>64.0</td>\n",
       "      <td>6.50</td>\n",
       "      <td>60</td>\n",
       "      <td>720 x 1560</td>\n",
       "      <td>2</td>\n",
       "      <td>1</td>\n",
       "      <td>android</td>\n",
       "      <td>48.0</td>\n",
       "      <td>5</td>\n",
       "      <td>1 TB</td>\n",
       "    </tr>\n",
       "    <tr>\n",
       "      <th>952</th>\n",
       "      <td>samsung</td>\n",
       "      <td>Samsung Galaxy A11</td>\n",
       "      <td>9990</td>\n",
       "      <td>63.0</td>\n",
       "      <td>False</td>\n",
       "      <td>False</td>\n",
       "      <td>False</td>\n",
       "      <td>NaN</td>\n",
       "      <td>NaN</td>\n",
       "      <td>Octa Core</td>\n",
       "      <td>1.8</td>\n",
       "      <td>4000.0</td>\n",
       "      <td>15</td>\n",
       "      <td>2.0</td>\n",
       "      <td>32.0</td>\n",
       "      <td>6.40</td>\n",
       "      <td>60</td>\n",
       "      <td>720 x 1560</td>\n",
       "      <td>3</td>\n",
       "      <td>1</td>\n",
       "      <td>android</td>\n",
       "      <td>13.0</td>\n",
       "      <td>8</td>\n",
       "      <td>512 GB</td>\n",
       "    </tr>\n",
       "    <tr>\n",
       "      <th>965</th>\n",
       "      <td>ikall</td>\n",
       "      <td>iKall Z18</td>\n",
       "      <td>6799</td>\n",
       "      <td>61.0</td>\n",
       "      <td>False</td>\n",
       "      <td>False</td>\n",
       "      <td>False</td>\n",
       "      <td>NaN</td>\n",
       "      <td>NaN</td>\n",
       "      <td>Quad Core</td>\n",
       "      <td>1.3</td>\n",
       "      <td>5000.0</td>\n",
       "      <td>-1</td>\n",
       "      <td>4.0</td>\n",
       "      <td>64.0</td>\n",
       "      <td>6.82</td>\n",
       "      <td>60</td>\n",
       "      <td>720 x 1560</td>\n",
       "      <td>1</td>\n",
       "      <td>1</td>\n",
       "      <td>android</td>\n",
       "      <td>20.0</td>\n",
       "      <td>13</td>\n",
       "      <td>64 GB</td>\n",
       "    </tr>\n",
       "    <tr>\n",
       "      <th>979</th>\n",
       "      <td>samsung</td>\n",
       "      <td>Samsung Galaxy M52s 5G</td>\n",
       "      <td>24990</td>\n",
       "      <td>74.0</td>\n",
       "      <td>True</td>\n",
       "      <td>False</td>\n",
       "      <td>False</td>\n",
       "      <td>NaN</td>\n",
       "      <td>NaN</td>\n",
       "      <td>Octa Core</td>\n",
       "      <td>NaN</td>\n",
       "      <td>5000.0</td>\n",
       "      <td>0</td>\n",
       "      <td>8.0</td>\n",
       "      <td>128.0</td>\n",
       "      <td>6.50</td>\n",
       "      <td>60</td>\n",
       "      <td>1080 x 2400</td>\n",
       "      <td>3</td>\n",
       "      <td>1</td>\n",
       "      <td>android</td>\n",
       "      <td>64.0</td>\n",
       "      <td>32</td>\n",
       "      <td>1 TB</td>\n",
       "    </tr>\n",
       "  </tbody>\n",
       "</table>\n",
       "</div>"
      ],
      "text/plain": [
       "    brand_name                                 model  price  rating  has_5g  \\\n",
       "118      tesla                        Tesla Pi Phone  69999    83.0    True   \n",
       "143        jio                           Jio Phone 3   4499     NaN   False   \n",
       "187      ikall                         iKall Z19 Pro   8099    60.0   False   \n",
       "200    samsung                    Samsung Galaxy A13  14450    75.0   False   \n",
       "307    samsung  Samsung Galaxy A13 (4GB RAM + 128GB)  14999    75.0   False   \n",
       "313       itel                          itel S16 Pro   6990     NaN   False   \n",
       "490    samsung                    Samsung Galaxy A15  15990    63.0   False   \n",
       "523    samsung                    Samsung Galaxy F14  14990    67.0   False   \n",
       "575    samsung  Samsung Galaxy A13 (6GB RAM + 128GB)  16499    78.0   False   \n",
       "733      ikall                             iKall Z19   7999    61.0   False   \n",
       "753      tecno                   Tecno Spark Go 2022   6249    61.0   False   \n",
       "769       itel                              itel A56   5490     NaN   False   \n",
       "799    samsung              Samsung Galaxy S23 FE 5G  54999    77.0    True   \n",
       "800    samsung                Samsung Galaxy M51s 5G  24990    72.0    True   \n",
       "844     huawei                       Huawei Nova Y61  21990    63.0   False   \n",
       "910    samsung                    Samsung Galaxy M35  22999    74.0   False   \n",
       "911    samsung                    Samsung Galaxy A05  12990    63.0   False   \n",
       "952    samsung                    Samsung Galaxy A11   9990    63.0   False   \n",
       "965      ikall                             iKall Z18   6799    61.0   False   \n",
       "979    samsung                Samsung Galaxy M52s 5G  24990    74.0    True   \n",
       "\n",
       "     has_nfc  has_ir_blaster processor_name processor_brand  num_cores  \\\n",
       "118     True           False            NaN             NaN  Octa Core   \n",
       "143    False           False            NaN             NaN  Quad Core   \n",
       "187    False           False            NaN             NaN  Quad Core   \n",
       "200    False           False            NaN             NaN  Octa Core   \n",
       "307    False           False            NaN             NaN  Octa Core   \n",
       "313    False           False            NaN             NaN  Quad Core   \n",
       "490    False           False            NaN             NaN  Octa Core   \n",
       "523     True           False            NaN             NaN  Octa Core   \n",
       "575    False           False            NaN             NaN  Octa Core   \n",
       "733    False           False            NaN             NaN  Quad Core   \n",
       "753    False           False            NaN             NaN  Octa Core   \n",
       "769    False           False            NaN             NaN  Quad Core   \n",
       "799     True           False            NaN             NaN  Octa Core   \n",
       "800    False           False            NaN             NaN  Octa Core   \n",
       "844    False           False            NaN             NaN  Octa Core   \n",
       "910     True           False            NaN             NaN  Octa Core   \n",
       "911    False           False            NaN             NaN  Octa Core   \n",
       "952    False           False            NaN             NaN  Octa Core   \n",
       "965    False           False            NaN             NaN  Quad Core   \n",
       "979    False           False            NaN             NaN  Octa Core   \n",
       "\n",
       "     processor_speed  battery_capacity  fast_charging  ram_capacity  \\\n",
       "118              NaN            5000.0            120          16.0   \n",
       "143              1.4            2800.0             -1           2.0   \n",
       "187              1.6            5000.0             -1           4.0   \n",
       "200              2.0            5000.0             25           4.0   \n",
       "307              2.0            5000.0             25           4.0   \n",
       "313              1.3            4000.0             -1           2.0   \n",
       "490              NaN            5000.0              0           6.0   \n",
       "523              NaN            5000.0             25           4.0   \n",
       "575              2.0            5000.0             25           6.0   \n",
       "733              1.6            5000.0             -1           4.0   \n",
       "753              2.2            5000.0             -1           2.0   \n",
       "769              1.3            4000.0             -1           1.0   \n",
       "799              NaN            4500.0              0           8.0   \n",
       "800              NaN            6000.0              0           6.0   \n",
       "844              NaN            5000.0             22           4.0   \n",
       "910              NaN            6000.0              0           8.0   \n",
       "911              NaN            5000.0             18           4.0   \n",
       "952              1.8            4000.0             15           2.0   \n",
       "965              1.3            5000.0             -1           4.0   \n",
       "979              NaN            5000.0              0           8.0   \n",
       "\n",
       "     internal_memory  screen_size  refresh_rate    resolution  \\\n",
       "118            512.0         6.73           165  1080 x 2448    \n",
       "143             64.0         5.00            60   720 x 1280    \n",
       "187             64.0         6.50            60   720 x 1600    \n",
       "200             64.0         6.60            60  1080 x 2408    \n",
       "307            128.0         6.60            60  1080 x 2408    \n",
       "313             32.0         6.60            60   1600 x 720    \n",
       "490             64.0         6.50            60   720 x 1600    \n",
       "523             64.0         6.62            60  2408 x 1080    \n",
       "575            128.0         6.60            60  1080 x 2408    \n",
       "733             32.0         6.50            60   720 x 1600    \n",
       "753             32.0         6.51            60   720 x 1600    \n",
       "769             16.0         6.00            60   720 x 1600    \n",
       "799            128.0         6.50            60  1080 x 2400    \n",
       "800            128.0         6.70            60  1080 x 2400    \n",
       "844             64.0         6.52            60   720 x 1600    \n",
       "910            128.0         6.50            60  1080 x 2400    \n",
       "911             64.0         6.50            60   720 x 1560    \n",
       "952             32.0         6.40            60   720 x 1560    \n",
       "965             64.0         6.82            60   720 x 1560    \n",
       "979            128.0         6.50            60  1080 x 2400    \n",
       "\n",
       "     num_rear_cameras num_front_cameras        os  primary_camera_rear  \\\n",
       "118                 3                 1   android                 50.0   \n",
       "143                 1                 1   android                  5.0   \n",
       "187                 1                 1   android                 13.0   \n",
       "200                 4                 1   android                 50.0   \n",
       "307                 4                 1   android                 50.0   \n",
       "313                 3                 1   android                  8.0   \n",
       "490                 3                 1   android                 48.0   \n",
       "523                 3                 1   android                 50.0   \n",
       "575                 4                 1   android                 50.0   \n",
       "733                 1                 1   android                 20.0   \n",
       "753                 2                 1   android                 13.0   \n",
       "769                 2                 1   android                  8.0   \n",
       "799                 4                 1   android                 64.0   \n",
       "800                 3                 1   android                 64.0   \n",
       "844                 3                 1  EMUI v12                 50.0   \n",
       "910                 3                 1   android                 64.0   \n",
       "911                 2                 1   android                 48.0   \n",
       "952                 3                 1   android                 13.0   \n",
       "965                 1                 1   android                 20.0   \n",
       "979                 3                 1   android                 64.0   \n",
       "\n",
       "    primary_camera_front       extended_memory  \n",
       "118                   32                     0  \n",
       "143                    2                128 GB  \n",
       "187                    8                128 GB  \n",
       "200                    8                  1 TB  \n",
       "307                    8                  1 TB  \n",
       "313                    8                 32 GB  \n",
       "490                    8                  1 TB  \n",
       "523                   16                  1 TB  \n",
       "575                    8                  1 TB  \n",
       "733                   13                128 GB  \n",
       "753                    8                256 GB  \n",
       "769                    5                 32 GB  \n",
       "799                   32                     0  \n",
       "800                   32                  1 TB  \n",
       "844                    5  Memory Card (Hybrid)  \n",
       "910                   32                  1 TB  \n",
       "911                    5                  1 TB  \n",
       "952                    8                512 GB  \n",
       "965                   13                 64 GB  \n",
       "979                   32                  1 TB  "
      ]
     },
     "execution_count": 139,
     "metadata": {},
     "output_type": "execute_result"
    }
   ],
   "source": [
    "df[df['processor_brand'].isnull()]"
   ]
  },
  {
   "cell_type": "code",
   "execution_count": 140,
   "id": "1b02b03c",
   "metadata": {},
   "outputs": [
    {
     "data": {
      "application/vnd.microsoft.datawrangler.viewer.v0+json": {
       "columns": [
        {
         "name": "num_cores",
         "rawType": "object",
         "type": "string"
        },
        {
         "name": "count",
         "rawType": "int64",
         "type": "integer"
        }
       ],
       "ref": "90994c7a-18d1-4e4f-bca1-fbca2b60e0b2",
       "rows": [
        [
         "Octa Core",
         "899"
        ],
        [
         "Hexa Core",
         "39"
        ],
        [
         "Quad Core",
         "36"
        ]
       ],
       "shape": {
        "columns": 1,
        "rows": 3
       }
      },
      "text/plain": [
       "num_cores\n",
       "Octa Core    899\n",
       "Hexa Core     39\n",
       "Quad Core     36\n",
       "Name: count, dtype: int64"
      ]
     },
     "execution_count": 140,
     "metadata": {},
     "output_type": "execute_result"
    }
   ],
   "source": [
    "df['num_cores'].value_counts()"
   ]
  },
  {
   "cell_type": "code",
   "execution_count": 141,
   "id": "09e89928",
   "metadata": {},
   "outputs": [
    {
     "data": {
      "application/vnd.microsoft.datawrangler.viewer.v0+json": {
       "columns": [
        {
         "name": "processor_speed",
         "rawType": "float64",
         "type": "float"
        },
        {
         "name": "count",
         "rawType": "int64",
         "type": "integer"
        }
       ],
       "ref": "06f71fba-1377-4242-a1ca-30ec1ad6ab53",
       "rows": [
        [
         "2.0",
         "146"
        ],
        [
         "2.2",
         "135"
        ],
        [
         "2.4",
         "128"
        ],
        [
         "3.2",
         "94"
        ],
        [
         "2.3",
         "86"
        ],
        [
         "3.0",
         "53"
        ],
        [
         "2.84",
         "36"
        ],
        [
         "2.05",
         "28"
        ],
        [
         "2.5",
         "23"
        ],
        [
         "1.8",
         "23"
        ],
        [
         "1.6",
         "20"
        ],
        [
         "2.85",
         "19"
        ],
        [
         "3.22",
         "18"
        ],
        [
         "3.1",
         "15"
        ],
        [
         "2.6",
         "14"
        ],
        [
         "2.9",
         "13"
        ],
        [
         "1.3",
         "10"
        ],
        [
         "1.82",
         "10"
        ],
        [
         "2.73",
         "9"
        ],
        [
         "2.8",
         "9"
        ],
        [
         "3.05",
         "8"
        ],
        [
         "2.36",
         "8"
        ],
        [
         "1.4",
         "5"
        ],
        [
         "2.65",
         "5"
        ],
        [
         "2.7",
         "5"
        ],
        [
         "1.5",
         "4"
        ],
        [
         "2.96",
         "3"
        ],
        [
         "2.86",
         "3"
        ],
        [
         "3.13",
         "2"
        ],
        [
         "2.35",
         "1"
        ],
        [
         "2.37",
         "1"
        ],
        [
         "1.99",
         "1"
        ],
        [
         "1.95",
         "1"
        ],
        [
         "2.1",
         "1"
        ],
        [
         "1.2",
         "1"
        ]
       ],
       "shape": {
        "columns": 1,
        "rows": 35
       }
      },
      "text/plain": [
       "processor_speed\n",
       "2.00    146\n",
       "2.20    135\n",
       "2.40    128\n",
       "3.20     94\n",
       "2.30     86\n",
       "3.00     53\n",
       "2.84     36\n",
       "2.05     28\n",
       "2.50     23\n",
       "1.80     23\n",
       "1.60     20\n",
       "2.85     19\n",
       "3.22     18\n",
       "3.10     15\n",
       "2.60     14\n",
       "2.90     13\n",
       "1.30     10\n",
       "1.82     10\n",
       "2.73      9\n",
       "2.80      9\n",
       "3.05      8\n",
       "2.36      8\n",
       "1.40      5\n",
       "2.65      5\n",
       "2.70      5\n",
       "1.50      4\n",
       "2.96      3\n",
       "2.86      3\n",
       "3.13      2\n",
       "2.35      1\n",
       "2.37      1\n",
       "1.99      1\n",
       "1.95      1\n",
       "2.10      1\n",
       "1.20      1\n",
       "Name: count, dtype: int64"
      ]
     },
     "execution_count": 141,
     "metadata": {},
     "output_type": "execute_result"
    }
   ],
   "source": [
    "df['processor_speed'].value_counts()"
   ]
  },
  {
   "cell_type": "code",
   "execution_count": 142,
   "id": "0a42d316",
   "metadata": {},
   "outputs": [
    {
     "data": {
      "application/vnd.microsoft.datawrangler.viewer.v0+json": {
       "columns": [
        {
         "name": "index",
         "rawType": "object",
         "type": "string"
        },
        {
         "name": "processor_speed",
         "rawType": "float64",
         "type": "float"
        }
       ],
       "ref": "8bd8321a-4241-4405-999b-05118462b651",
       "rows": [
        [
         "count",
         "938.0"
        ],
        [
         "mean",
         "2.427217484008529"
        ],
        [
         "std",
         "0.4640895628439926"
        ],
        [
         "min",
         "1.2"
        ],
        [
         "25%",
         "2.05"
        ],
        [
         "50%",
         "2.3"
        ],
        [
         "75%",
         "2.84"
        ],
        [
         "max",
         "3.22"
        ]
       ],
       "shape": {
        "columns": 1,
        "rows": 8
       }
      },
      "text/plain": [
       "count    938.000000\n",
       "mean       2.427217\n",
       "std        0.464090\n",
       "min        1.200000\n",
       "25%        2.050000\n",
       "50%        2.300000\n",
       "75%        2.840000\n",
       "max        3.220000\n",
       "Name: processor_speed, dtype: float64"
      ]
     },
     "execution_count": 142,
     "metadata": {},
     "output_type": "execute_result"
    }
   ],
   "source": [
    "df['processor_speed'].describe()"
   ]
  },
  {
   "cell_type": "code",
   "execution_count": 143,
   "id": "6e49ad86",
   "metadata": {},
   "outputs": [
    {
     "data": {
      "text/plain": [
       "<seaborn.axisgrid.FacetGrid at 0x241138c3560>"
      ]
     },
     "execution_count": 143,
     "metadata": {},
     "output_type": "execute_result"
    },
    {
     "data": {
      "image/png": "[encoded data removed]",
      "text/plain": [
       "<Figure size 500x500 with 1 Axes>"
      ]
     },
     "metadata": {},
     "output_type": "display_data"
    }
   ],
   "source": [
    "sns.displot(data=df, x='processor_speed', kind='kde')"
   ]
  },
  {
   "cell_type": "code",
   "execution_count": 144,
   "id": "07e89975",
   "metadata": {},
   "outputs": [
    {
     "data": {
      "text/plain": [
       "0.18833557463624606"
      ]
     },
     "execution_count": 144,
     "metadata": {},
     "output_type": "execute_result"
    }
   ],
   "source": [
    "df['processor_speed'].skew()"
   ]
  },
  {
   "cell_type": "markdown",
   "id": "1026774c",
   "metadata": {},
   "source": [
    "##### Battery Capacity"
   ]
  },
  {
   "cell_type": "code",
   "execution_count": 145,
   "id": "9c70704a",
   "metadata": {},
   "outputs": [
    {
     "data": {
      "application/vnd.microsoft.datawrangler.viewer.v0+json": {
       "columns": [
        {
         "name": "index",
         "rawType": "object",
         "type": "string"
        },
        {
         "name": "battery_capacity",
         "rawType": "float64",
         "type": "float"
        }
       ],
       "ref": "b667c73b-3132-45bb-ba5e-d85da65546f8",
       "rows": [
        [
         "count",
         "969.0"
        ],
        [
         "mean",
         "4817.748194014448"
        ],
        [
         "std",
         "1009.540053892138"
        ],
        [
         "min",
         "1821.0"
        ],
        [
         "25%",
         "4500.0"
        ],
        [
         "50%",
         "5000.0"
        ],
        [
         "75%",
         "5000.0"
        ],
        [
         "max",
         "22000.0"
        ]
       ],
       "shape": {
        "columns": 1,
        "rows": 8
       }
      },
      "text/plain": [
       "count      969.000000\n",
       "mean      4817.748194\n",
       "std       1009.540054\n",
       "min       1821.000000\n",
       "25%       4500.000000\n",
       "50%       5000.000000\n",
       "75%       5000.000000\n",
       "max      22000.000000\n",
       "Name: battery_capacity, dtype: float64"
      ]
     },
     "execution_count": 145,
     "metadata": {},
     "output_type": "execute_result"
    }
   ],
   "source": [
    "df['battery_capacity'].describe()"
   ]
  },
  {
   "cell_type": "code",
   "execution_count": 146,
   "id": "19a3b0ec",
   "metadata": {},
   "outputs": [
    {
     "data": {
      "text/plain": [
       "<seaborn.axisgrid.FacetGrid at 0x2411193d040>"
      ]
     },
     "execution_count": 146,
     "metadata": {},
     "output_type": "execute_result"
    },
    {
     "data": {
      "image/png": "[encoded data removed]",
      "text/plain": [
       "<Figure size 500x500 with 1 Axes>"
      ]
     },
     "metadata": {},
     "output_type": "display_data"
    }
   ],
   "source": [
    "sns.displot(data=df,x='battery_capacity',kind='kde',)"
   ]
  },
  {
   "cell_type": "code",
   "execution_count": 147,
   "id": "8194c31d",
   "metadata": {},
   "outputs": [
    {
     "data": {
      "application/vnd.microsoft.datawrangler.viewer.v0+json": {
       "columns": [
        {
         "name": "index",
         "rawType": "int64",
         "type": "integer"
        },
        {
         "name": "brand_name",
         "rawType": "object",
         "type": "string"
        },
        {
         "name": "model",
         "rawType": "object",
         "type": "string"
        },
        {
         "name": "price",
         "rawType": "int64",
         "type": "integer"
        },
        {
         "name": "rating",
         "rawType": "float64",
         "type": "float"
        },
        {
         "name": "has_5g",
         "rawType": "bool",
         "type": "boolean"
        },
        {
         "name": "has_nfc",
         "rawType": "bool",
         "type": "boolean"
        },
        {
         "name": "has_ir_blaster",
         "rawType": "bool",
         "type": "boolean"
        },
        {
         "name": "processor_name",
         "rawType": "object",
         "type": "string"
        },
        {
         "name": "processor_brand",
         "rawType": "object",
         "type": "string"
        },
        {
         "name": "num_cores",
         "rawType": "object",
         "type": "string"
        },
        {
         "name": "processor_speed",
         "rawType": "float64",
         "type": "float"
        },
        {
         "name": "battery_capacity",
         "rawType": "float64",
         "type": "float"
        },
        {
         "name": "fast_charging",
         "rawType": "int64",
         "type": "integer"
        },
        {
         "name": "ram_capacity",
         "rawType": "float64",
         "type": "float"
        },
        {
         "name": "internal_memory",
         "rawType": "float64",
         "type": "float"
        },
        {
         "name": "screen_size",
         "rawType": "float64",
         "type": "float"
        },
        {
         "name": "refresh_rate",
         "rawType": "int64",
         "type": "integer"
        },
        {
         "name": "resolution",
         "rawType": "object",
         "type": "string"
        },
        {
         "name": "num_rear_cameras",
         "rawType": "int64",
         "type": "integer"
        },
        {
         "name": "num_front_cameras",
         "rawType": "object",
         "type": "string"
        },
        {
         "name": "os",
         "rawType": "object",
         "type": "string"
        },
        {
         "name": "primary_camera_rear",
         "rawType": "float64",
         "type": "float"
        },
        {
         "name": "primary_camera_front",
         "rawType": "object",
         "type": "string"
        },
        {
         "name": "extended_memory",
         "rawType": "object",
         "type": "string"
        }
       ],
       "ref": "0dea285a-56d5-4a53-9a64-8a79e75fdb59",
       "rows": [
        [
         "391",
         "oukitel",
         "Oukitel WP19",
         "29990",
         "84.0",
         "False",
         "True",
         "False",
         "Helio G95",
         "helio",
         "Octa Core",
         "2.0",
         "21000.0",
         "33",
         "8.0",
         "256.0",
         "6.78",
         "60",
         "1080 x 2400 ",
         "3",
         "1",
         "android",
         "64.0",
         "16",
         "Not Specified"
        ],
        [
         "599",
         "oukitel",
         "Oukitel WP21",
         "22990",
         "82.0",
         "False",
         "False",
         "False",
         "Helio G99",
         "helio",
         "Octa Core",
         "2.2",
         "9800.0",
         "66",
         "12.0",
         "256.0",
         "6.78",
         "120",
         "1080 x 2400 ",
         "3",
         "1",
         "Memory Card (Hybrid)",
         "64.0",
         "Main",
         "0"
        ],
        [
         "843",
         "doogee",
         "Doogee V Max",
         "45999",
         "88.0",
         "True",
         "False",
         "False",
         "Dimensity 1080",
         "dimensity",
         "Octa Core",
         "2.6",
         "22000.0",
         "33",
         "12.0",
         "256.0",
         "6.58",
         "120",
         "1080 x 2408 ",
         "3",
         "1",
         "android",
         "108.0",
         "32",
         "2 TB"
        ],
        [
         "966",
         "oukitel",
         "Oukitel WP9",
         "25899",
         "72.0",
         "False",
         "True",
         "False",
         "Helio P60",
         "helio",
         "Octa Core",
         "2.0",
         "8000.0",
         "-1",
         "6.0",
         "128.0",
         "5.86",
         "60",
         "720 x 1520 ",
         "3",
         "1",
         "android",
         "16.0",
         "8",
         "Not Specified"
        ]
       ],
       "shape": {
        "columns": 24,
        "rows": 4
       }
      },
      "text/html": [
       "<div>\n",
       "<style scoped>\n",
       "    .dataframe tbody tr th:only-of-type {\n",
       "        vertical-align: middle;\n",
       "    }\n",
       "\n",
       "    .dataframe tbody tr th {\n",
       "        vertical-align: top;\n",
       "    }\n",
       "\n",
       "    .dataframe thead th {\n",
       "        text-align: right;\n",
       "    }\n",
       "</style>\n",
       "<table border=\"1\" class=\"dataframe\">\n",
       "  <thead>\n",
       "    <tr style=\"text-align: right;\">\n",
       "      <th></th>\n",
       "      <th>brand_name</th>\n",
       "      <th>model</th>\n",
       "      <th>price</th>\n",
       "      <th>rating</th>\n",
       "      <th>has_5g</th>\n",
       "      <th>has_nfc</th>\n",
       "      <th>has_ir_blaster</th>\n",
       "      <th>processor_name</th>\n",
       "      <th>processor_brand</th>\n",
       "      <th>num_cores</th>\n",
       "      <th>processor_speed</th>\n",
       "      <th>battery_capacity</th>\n",
       "      <th>fast_charging</th>\n",
       "      <th>ram_capacity</th>\n",
       "      <th>internal_memory</th>\n",
       "      <th>screen_size</th>\n",
       "      <th>refresh_rate</th>\n",
       "      <th>resolution</th>\n",
       "      <th>num_rear_cameras</th>\n",
       "      <th>num_front_cameras</th>\n",
       "      <th>os</th>\n",
       "      <th>primary_camera_rear</th>\n",
       "      <th>primary_camera_front</th>\n",
       "      <th>extended_memory</th>\n",
       "    </tr>\n",
       "  </thead>\n",
       "  <tbody>\n",
       "    <tr>\n",
       "      <th>391</th>\n",
       "      <td>oukitel</td>\n",
       "      <td>Oukitel WP19</td>\n",
       "      <td>29990</td>\n",
       "      <td>84.0</td>\n",
       "      <td>False</td>\n",
       "      <td>True</td>\n",
       "      <td>False</td>\n",
       "      <td>Helio G95</td>\n",
       "      <td>helio</td>\n",
       "      <td>Octa Core</td>\n",
       "      <td>2.0</td>\n",
       "      <td>21000.0</td>\n",
       "      <td>33</td>\n",
       "      <td>8.0</td>\n",
       "      <td>256.0</td>\n",
       "      <td>6.78</td>\n",
       "      <td>60</td>\n",
       "      <td>1080 x 2400</td>\n",
       "      <td>3</td>\n",
       "      <td>1</td>\n",
       "      <td>android</td>\n",
       "      <td>64.0</td>\n",
       "      <td>16</td>\n",
       "      <td>Not Specified</td>\n",
       "    </tr>\n",
       "    <tr>\n",
       "      <th>599</th>\n",
       "      <td>oukitel</td>\n",
       "      <td>Oukitel WP21</td>\n",
       "      <td>22990</td>\n",
       "      <td>82.0</td>\n",
       "      <td>False</td>\n",
       "      <td>False</td>\n",
       "      <td>False</td>\n",
       "      <td>Helio G99</td>\n",
       "      <td>helio</td>\n",
       "      <td>Octa Core</td>\n",
       "      <td>2.2</td>\n",
       "      <td>9800.0</td>\n",
       "      <td>66</td>\n",
       "      <td>12.0</td>\n",
       "      <td>256.0</td>\n",
       "      <td>6.78</td>\n",
       "      <td>120</td>\n",
       "      <td>1080 x 2400</td>\n",
       "      <td>3</td>\n",
       "      <td>1</td>\n",
       "      <td>Memory Card (Hybrid)</td>\n",
       "      <td>64.0</td>\n",
       "      <td>Main</td>\n",
       "      <td>0</td>\n",
       "    </tr>\n",
       "    <tr>\n",
       "      <th>843</th>\n",
       "      <td>doogee</td>\n",
       "      <td>Doogee V Max</td>\n",
       "      <td>45999</td>\n",
       "      <td>88.0</td>\n",
       "      <td>True</td>\n",
       "      <td>False</td>\n",
       "      <td>False</td>\n",
       "      <td>Dimensity 1080</td>\n",
       "      <td>dimensity</td>\n",
       "      <td>Octa Core</td>\n",
       "      <td>2.6</td>\n",
       "      <td>22000.0</td>\n",
       "      <td>33</td>\n",
       "      <td>12.0</td>\n",
       "      <td>256.0</td>\n",
       "      <td>6.58</td>\n",
       "      <td>120</td>\n",
       "      <td>1080 x 2408</td>\n",
       "      <td>3</td>\n",
       "      <td>1</td>\n",
       "      <td>android</td>\n",
       "      <td>108.0</td>\n",
       "      <td>32</td>\n",
       "      <td>2 TB</td>\n",
       "    </tr>\n",
       "    <tr>\n",
       "      <th>966</th>\n",
       "      <td>oukitel</td>\n",
       "      <td>Oukitel WP9</td>\n",
       "      <td>25899</td>\n",
       "      <td>72.0</td>\n",
       "      <td>False</td>\n",
       "      <td>True</td>\n",
       "      <td>False</td>\n",
       "      <td>Helio P60</td>\n",
       "      <td>helio</td>\n",
       "      <td>Octa Core</td>\n",
       "      <td>2.0</td>\n",
       "      <td>8000.0</td>\n",
       "      <td>-1</td>\n",
       "      <td>6.0</td>\n",
       "      <td>128.0</td>\n",
       "      <td>5.86</td>\n",
       "      <td>60</td>\n",
       "      <td>720 x 1520</td>\n",
       "      <td>3</td>\n",
       "      <td>1</td>\n",
       "      <td>android</td>\n",
       "      <td>16.0</td>\n",
       "      <td>8</td>\n",
       "      <td>Not Specified</td>\n",
       "    </tr>\n",
       "  </tbody>\n",
       "</table>\n",
       "</div>"
      ],
      "text/plain": [
       "    brand_name         model  price  rating  has_5g  has_nfc  has_ir_blaster  \\\n",
       "391    oukitel  Oukitel WP19  29990    84.0   False     True           False   \n",
       "599    oukitel  Oukitel WP21  22990    82.0   False    False           False   \n",
       "843     doogee  Doogee V Max  45999    88.0    True    False           False   \n",
       "966    oukitel   Oukitel WP9  25899    72.0   False     True           False   \n",
       "\n",
       "     processor_name processor_brand  num_cores  processor_speed  \\\n",
       "391       Helio G95           helio  Octa Core              2.0   \n",
       "599       Helio G99           helio  Octa Core              2.2   \n",
       "843  Dimensity 1080       dimensity  Octa Core              2.6   \n",
       "966       Helio P60           helio  Octa Core              2.0   \n",
       "\n",
       "     battery_capacity  fast_charging  ram_capacity  internal_memory  \\\n",
       "391           21000.0             33           8.0            256.0   \n",
       "599            9800.0             66          12.0            256.0   \n",
       "843           22000.0             33          12.0            256.0   \n",
       "966            8000.0             -1           6.0            128.0   \n",
       "\n",
       "     screen_size  refresh_rate    resolution  num_rear_cameras  \\\n",
       "391         6.78            60  1080 x 2400                  3   \n",
       "599         6.78           120  1080 x 2400                  3   \n",
       "843         6.58           120  1080 x 2408                  3   \n",
       "966         5.86            60   720 x 1520                  3   \n",
       "\n",
       "    num_front_cameras                    os  primary_camera_rear  \\\n",
       "391                 1               android                 64.0   \n",
       "599                 1  Memory Card (Hybrid)                 64.0   \n",
       "843                 1               android                108.0   \n",
       "966                 1               android                 16.0   \n",
       "\n",
       "    primary_camera_front extended_memory  \n",
       "391                   16   Not Specified  \n",
       "599                 Main               0  \n",
       "843                   32            2 TB  \n",
       "966                    8   Not Specified  "
      ]
     },
     "execution_count": 147,
     "metadata": {},
     "output_type": "execute_result"
    }
   ],
   "source": [
    "df[df['battery_capacity']>7000]"
   ]
  },
  {
   "cell_type": "markdown",
   "id": "34ba2fe1",
   "metadata": {},
   "source": [
    "##### Charging"
   ]
  },
  {
   "cell_type": "code",
   "execution_count": 148,
   "id": "29aa843f",
   "metadata": {},
   "outputs": [
    {
     "data": {
      "application/vnd.microsoft.datawrangler.viewer.v0+json": {
       "columns": [
        {
         "name": "fast_charging",
         "rawType": "int64",
         "type": "integer"
        },
        {
         "name": "count",
         "rawType": "int64",
         "type": "integer"
        }
       ],
       "ref": "1f085e01-6179-4312-984d-99d8e98be8bc",
       "rows": [
        [
         "33",
         "152"
        ],
        [
         "-1",
         "143"
        ],
        [
         "18",
         "128"
        ],
        [
         "0",
         "68"
        ],
        [
         "67",
         "65"
        ],
        [
         "25",
         "53"
        ],
        [
         "120",
         "46"
        ],
        [
         "15",
         "43"
        ],
        [
         "80",
         "42"
        ],
        [
         "66",
         "37"
        ],
        [
         "10",
         "33"
        ],
        [
         "30",
         "32"
        ],
        [
         "65",
         "30"
        ],
        [
         "44",
         "23"
        ],
        [
         "45",
         "17"
        ],
        [
         "20",
         "10"
        ],
        [
         "68",
         "8"
        ],
        [
         "100",
         "7"
        ],
        [
         "150",
         "7"
        ],
        [
         "125",
         "6"
        ],
        [
         "40",
         "5"
        ],
        [
         "22",
         "5"
        ],
        [
         "60",
         "4"
        ],
        [
         "55",
         "3"
        ],
        [
         "50",
         "2"
        ],
        [
         "210",
         "2"
        ],
        [
         "21",
         "2"
        ],
        [
         "180",
         "1"
        ],
        [
         "200",
         "1"
        ],
        [
         "240",
         "1"
        ],
        [
         "19",
         "1"
        ],
        [
         "135",
         "1"
        ],
        [
         "165",
         "1"
        ],
        [
         "27",
         "1"
        ]
       ],
       "shape": {
        "columns": 1,
        "rows": 34
       }
      },
      "text/plain": [
       "fast_charging\n",
       " 33     152\n",
       "-1      143\n",
       " 18     128\n",
       " 0       68\n",
       " 67      65\n",
       " 25      53\n",
       " 120     46\n",
       " 15      43\n",
       " 80      42\n",
       " 66      37\n",
       " 10      33\n",
       " 30      32\n",
       " 65      30\n",
       " 44      23\n",
       " 45      17\n",
       " 20      10\n",
       " 68       8\n",
       " 100      7\n",
       " 150      7\n",
       " 125      6\n",
       " 40       5\n",
       " 22       5\n",
       " 60       4\n",
       " 55       3\n",
       " 50       2\n",
       " 210      2\n",
       " 21       2\n",
       " 180      1\n",
       " 200      1\n",
       " 240      1\n",
       " 19       1\n",
       " 135      1\n",
       " 165      1\n",
       " 27       1\n",
       "Name: count, dtype: int64"
      ]
     },
     "execution_count": 148,
     "metadata": {},
     "output_type": "execute_result"
    }
   ],
   "source": [
    "df['fast_charging'].value_counts()"
   ]
  },
  {
   "cell_type": "code",
   "execution_count": 149,
   "id": "989fa012",
   "metadata": {},
   "outputs": [
    {
     "data": {
      "text/plain": [
       "0"
      ]
     },
     "execution_count": 149,
     "metadata": {},
     "output_type": "execute_result"
    }
   ],
   "source": [
    "df['fast_charging'].isnull().sum()"
   ]
  },
  {
   "cell_type": "code",
   "execution_count": 150,
   "id": "5a8c8d52",
   "metadata": {},
   "outputs": [],
   "source": [
    "def fast(row):\n",
    "    if row['fast_charging'] == -1:\n",
    "        return 0\n",
    "    else:\n",
    "        return 1"
   ]
  },
  {
   "cell_type": "code",
   "execution_count": 151,
   "id": "1b1bd0ea",
   "metadata": {},
   "outputs": [
    {
     "data": {
      "text/plain": [
       "Index(['brand_name', 'model', 'price', 'rating', 'has_5g', 'has_nfc',\n",
       "       'has_ir_blaster', 'processor_name', 'processor_brand', 'num_cores',\n",
       "       'processor_speed', 'battery_capacity', 'fast_charging', 'ram_capacity',\n",
       "       'internal_memory', 'screen_size', 'refresh_rate', 'resolution',\n",
       "       'num_rear_cameras', 'num_front_cameras', 'os', 'primary_camera_rear',\n",
       "       'primary_camera_front', 'extended_memory'],\n",
       "      dtype='object')"
      ]
     },
     "execution_count": 151,
     "metadata": {},
     "output_type": "execute_result"
    }
   ],
   "source": [
    "df.columns"
   ]
  },
  {
   "cell_type": "code",
   "execution_count": 152,
   "id": "4ce5ded2",
   "metadata": {},
   "outputs": [],
   "source": [
    "x=df.apply(fast,axis=1)\n",
    "df.insert(12,'fast_charging_available',x)"
   ]
  },
  {
   "cell_type": "code",
   "execution_count": 153,
   "id": "5ab53ef1",
   "metadata": {},
   "outputs": [],
   "source": [
    "df['fast_charging']=df['fast_charging'].apply(lambda x:np.nan if x==0 or x==-1 else x)"
   ]
  },
  {
   "cell_type": "code",
   "execution_count": 154,
   "id": "b17a72b0",
   "metadata": {},
   "outputs": [
    {
     "data": {
      "application/vnd.microsoft.datawrangler.viewer.v0+json": {
       "columns": [
        {
         "name": "index",
         "rawType": "int64",
         "type": "integer"
        },
        {
         "name": "brand_name",
         "rawType": "object",
         "type": "string"
        },
        {
         "name": "model",
         "rawType": "object",
         "type": "string"
        },
        {
         "name": "price",
         "rawType": "int64",
         "type": "integer"
        },
        {
         "name": "rating",
         "rawType": "float64",
         "type": "float"
        },
        {
         "name": "has_5g",
         "rawType": "bool",
         "type": "boolean"
        },
        {
         "name": "has_nfc",
         "rawType": "bool",
         "type": "boolean"
        },
        {
         "name": "has_ir_blaster",
         "rawType": "bool",
         "type": "boolean"
        },
        {
         "name": "processor_name",
         "rawType": "object",
         "type": "string"
        },
        {
         "name": "processor_brand",
         "rawType": "object",
         "type": "string"
        },
        {
         "name": "num_cores",
         "rawType": "object",
         "type": "string"
        },
        {
         "name": "processor_speed",
         "rawType": "float64",
         "type": "float"
        },
        {
         "name": "battery_capacity",
         "rawType": "float64",
         "type": "float"
        },
        {
         "name": "fast_charging_available",
         "rawType": "int64",
         "type": "integer"
        },
        {
         "name": "fast_charging",
         "rawType": "float64",
         "type": "float"
        },
        {
         "name": "ram_capacity",
         "rawType": "float64",
         "type": "float"
        },
        {
         "name": "internal_memory",
         "rawType": "float64",
         "type": "float"
        },
        {
         "name": "screen_size",
         "rawType": "float64",
         "type": "float"
        },
        {
         "name": "refresh_rate",
         "rawType": "int64",
         "type": "integer"
        },
        {
         "name": "resolution",
         "rawType": "object",
         "type": "string"
        },
        {
         "name": "num_rear_cameras",
         "rawType": "int64",
         "type": "integer"
        },
        {
         "name": "num_front_cameras",
         "rawType": "object",
         "type": "string"
        },
        {
         "name": "os",
         "rawType": "object",
         "type": "string"
        },
        {
         "name": "primary_camera_rear",
         "rawType": "float64",
         "type": "float"
        },
        {
         "name": "primary_camera_front",
         "rawType": "object",
         "type": "string"
        },
        {
         "name": "extended_memory",
         "rawType": "object",
         "type": "string"
        }
       ],
       "ref": "67ffc45c-740e-4466-8e18-727897e10198",
       "rows": [
        [
         "555",
         "realme",
         "Realme Narzo 50A",
         "11499",
         "71.0",
         "False",
         "False",
         "False",
         "Helio  G85",
         "helio",
         "Octa Core",
         "2.0",
         "6000.0",
         "1",
         "18.0",
         "4.0",
         "64.0",
         "6.5",
         "60",
         "720 x 1600 ",
         "3",
         "1",
         "android",
         "50.0",
         "8",
         "256 GB"
        ],
        [
         "267",
         "redmi",
         "Redmi Note 11 Pro 2023",
         "18999",
         "81.0",
         "False",
         "False",
         "True",
         "Snapdragon 712",
         "snapdragon",
         "Octa Core",
         "2.3",
         "5000.0",
         "1",
         "67.0",
         "6.0",
         "128.0",
         "6.67",
         "120",
         "1080 x 2400 ",
         "4",
         "1",
         "android",
         "108.0",
         "16",
         "1 TB"
        ],
        [
         "308",
         "oppo",
         "OPPO Reno7 5G",
         "25994",
         "85.0",
         "True",
         "True",
         "False",
         "Dimensity 900",
         "dimensity",
         "Octa Core",
         "2.0",
         "4500.0",
         "1",
         "65.0",
         "8.0",
         "256.0",
         "6.43",
         "90",
         "1080 x 2400 ",
         "3",
         "1",
         "android",
         "64.0",
         "32",
         "1 TB"
        ],
        [
         "866",
         "sony",
         "Sony Xperia 10 III Lite 5G",
         "30990",
         "78.0",
         "True",
         "True",
         "False",
         "Snapdragon  690",
         "snapdragon",
         "Octa Core",
         "2.0",
         "4500.0",
         "1",
         "30.0",
         "6.0",
         "64.0",
         "6.0",
         "60",
         "1080 x 2520 ",
         "3",
         "1",
         "android",
         "12.0",
         "8",
         "Not Specified"
        ],
        [
         "812",
         "xiaomi",
         "Xiaomi Redmi Note 10 Lite (4GB RAM + 128GB)",
         "12499",
         "77.0",
         "False",
         "False",
         "True",
         "Snapdragon 720G",
         "snapdragon",
         "Octa Core",
         "2.3",
         "5020.0",
         "1",
         "18.0",
         "4.0",
         "128.0",
         "6.67",
         "60",
         "1080 x 2400 ",
         "4",
         "1",
         "android",
         "48.0",
         "16",
         "512 GB"
        ],
        [
         "221",
         "realme",
         "Realme 9i 5G (6GB RAM + 128GB)",
         "16999",
         "78.0",
         "True",
         "False",
         "False",
         "Dimensity 810 5G",
         "dimensity",
         "Octa Core",
         "2.4",
         "5000.0",
         "1",
         "18.0",
         "6.0",
         "128.0",
         "6.6",
         "90",
         "1080 x 2408 ",
         "3",
         "1",
         "android",
         "50.0",
         "8",
         "1 TB"
        ],
        [
         "669",
         "itel",
         "itel Vision 3 (2GB RAM + 32GB)",
         "5785",
         null,
         "False",
         "False",
         "False",
         "Unisoc  SC9863a",
         "unisoc",
         "Octa Core",
         "1.6",
         "5000.0",
         "1",
         "18.0",
         "2.0",
         "32.0",
         "6.6",
         "60",
         "1612 x 720 ",
         "2",
         "1",
         "android",
         "8.0",
         "5",
         "128 GB"
        ],
        [
         "75",
         "gionee",
         "Gionee G13 Pro",
         "6190",
         null,
         "False",
         "False",
         "False",
         "Tiger  T310",
         "tiger",
         "Quad Core",
         "2.0",
         "3500.0",
         "0",
         null,
         "4.0",
         "32.0",
         "6.26",
         "60",
         "720 x 1600 ",
         "2",
         "1",
         "HarmonyOS v2",
         "13.0",
         "5",
         "Not Specified"
        ],
        [
         "783",
         "samsung",
         "Samsung Galaxy A04 (4GB RAM + 128GB)",
         "12999",
         "72.0",
         "False",
         "False",
         "False",
         "Helio P35",
         "helio",
         "Octa Core",
         "2.3",
         "5000.0",
         "1",
         null,
         "4.0",
         "128.0",
         "6.5",
         "60",
         "720 x 1600 ",
         "2",
         "1",
         "android",
         "50.0",
         "5",
         "1 TB"
        ],
        [
         "734",
         "xiaomi",
         "Xiaomi Redmi K60 Gaming Edition",
         "54990",
         "86.0",
         "True",
         "True",
         "True",
         "Snapdragon 8 Gen2",
         "snapdragon",
         "Octa Core",
         "3.2",
         "5000.0",
         "1",
         "67.0",
         "8.0",
         "128.0",
         "6.73",
         "120",
         "1440 x 3200 ",
         "3",
         "1",
         "android",
         "50.0",
         "20",
         "0"
        ]
       ],
       "shape": {
        "columns": 25,
        "rows": 10
       }
      },
      "text/html": [
       "<div>\n",
       "<style scoped>\n",
       "    .dataframe tbody tr th:only-of-type {\n",
       "        vertical-align: middle;\n",
       "    }\n",
       "\n",
       "    .dataframe tbody tr th {\n",
       "        vertical-align: top;\n",
       "    }\n",
       "\n",
       "    .dataframe thead th {\n",
       "        text-align: right;\n",
       "    }\n",
       "</style>\n",
       "<table border=\"1\" class=\"dataframe\">\n",
       "  <thead>\n",
       "    <tr style=\"text-align: right;\">\n",
       "      <th></th>\n",
       "      <th>brand_name</th>\n",
       "      <th>model</th>\n",
       "      <th>price</th>\n",
       "      <th>rating</th>\n",
       "      <th>has_5g</th>\n",
       "      <th>has_nfc</th>\n",
       "      <th>has_ir_blaster</th>\n",
       "      <th>processor_name</th>\n",
       "      <th>processor_brand</th>\n",
       "      <th>num_cores</th>\n",
       "      <th>processor_speed</th>\n",
       "      <th>battery_capacity</th>\n",
       "      <th>fast_charging_available</th>\n",
       "      <th>fast_charging</th>\n",
       "      <th>ram_capacity</th>\n",
       "      <th>internal_memory</th>\n",
       "      <th>screen_size</th>\n",
       "      <th>refresh_rate</th>\n",
       "      <th>resolution</th>\n",
       "      <th>num_rear_cameras</th>\n",
       "      <th>num_front_cameras</th>\n",
       "      <th>os</th>\n",
       "      <th>primary_camera_rear</th>\n",
       "      <th>primary_camera_front</th>\n",
       "      <th>extended_memory</th>\n",
       "    </tr>\n",
       "  </thead>\n",
       "  <tbody>\n",
       "    <tr>\n",
       "      <th>555</th>\n",
       "      <td>realme</td>\n",
       "      <td>Realme Narzo 50A</td>\n",
       "      <td>11499</td>\n",
       "      <td>71.0</td>\n",
       "      <td>False</td>\n",
       "      <td>False</td>\n",
       "      <td>False</td>\n",
       "      <td>Helio  G85</td>\n",
       "      <td>helio</td>\n",
       "      <td>Octa Core</td>\n",
       "      <td>2.0</td>\n",
       "      <td>6000.0</td>\n",
       "      <td>1</td>\n",
       "      <td>18.0</td>\n",
       "      <td>4.0</td>\n",
       "      <td>64.0</td>\n",
       "      <td>6.50</td>\n",
       "      <td>60</td>\n",
       "      <td>720 x 1600</td>\n",
       "      <td>3</td>\n",
       "      <td>1</td>\n",
       "      <td>android</td>\n",
       "      <td>50.0</td>\n",
       "      <td>8</td>\n",
       "      <td>256 GB</td>\n",
       "    </tr>\n",
       "    <tr>\n",
       "      <th>267</th>\n",
       "      <td>redmi</td>\n",
       "      <td>Redmi Note 11 Pro 2023</td>\n",
       "      <td>18999</td>\n",
       "      <td>81.0</td>\n",
       "      <td>False</td>\n",
       "      <td>False</td>\n",
       "      <td>True</td>\n",
       "      <td>Snapdragon 712</td>\n",
       "      <td>snapdragon</td>\n",
       "      <td>Octa Core</td>\n",
       "      <td>2.3</td>\n",
       "      <td>5000.0</td>\n",
       "      <td>1</td>\n",
       "      <td>67.0</td>\n",
       "      <td>6.0</td>\n",
       "      <td>128.0</td>\n",
       "      <td>6.67</td>\n",
       "      <td>120</td>\n",
       "      <td>1080 x 2400</td>\n",
       "      <td>4</td>\n",
       "      <td>1</td>\n",
       "      <td>android</td>\n",
       "      <td>108.0</td>\n",
       "      <td>16</td>\n",
       "      <td>1 TB</td>\n",
       "    </tr>\n",
       "    <tr>\n",
       "      <th>308</th>\n",
       "      <td>oppo</td>\n",
       "      <td>OPPO Reno7 5G</td>\n",
       "      <td>25994</td>\n",
       "      <td>85.0</td>\n",
       "      <td>True</td>\n",
       "      <td>True</td>\n",
       "      <td>False</td>\n",
       "      <td>Dimensity 900</td>\n",
       "      <td>dimensity</td>\n",
       "      <td>Octa Core</td>\n",
       "      <td>2.0</td>\n",
       "      <td>4500.0</td>\n",
       "      <td>1</td>\n",
       "      <td>65.0</td>\n",
       "      <td>8.0</td>\n",
       "      <td>256.0</td>\n",
       "      <td>6.43</td>\n",
       "      <td>90</td>\n",
       "      <td>1080 x 2400</td>\n",
       "      <td>3</td>\n",
       "      <td>1</td>\n",
       "      <td>android</td>\n",
       "      <td>64.0</td>\n",
       "      <td>32</td>\n",
       "      <td>1 TB</td>\n",
       "    </tr>\n",
       "    <tr>\n",
       "      <th>866</th>\n",
       "      <td>sony</td>\n",
       "      <td>Sony Xperia 10 III Lite 5G</td>\n",
       "      <td>30990</td>\n",
       "      <td>78.0</td>\n",
       "      <td>True</td>\n",
       "      <td>True</td>\n",
       "      <td>False</td>\n",
       "      <td>Snapdragon  690</td>\n",
       "      <td>snapdragon</td>\n",
       "      <td>Octa Core</td>\n",
       "      <td>2.0</td>\n",
       "      <td>4500.0</td>\n",
       "      <td>1</td>\n",
       "      <td>30.0</td>\n",
       "      <td>6.0</td>\n",
       "      <td>64.0</td>\n",
       "      <td>6.00</td>\n",
       "      <td>60</td>\n",
       "      <td>1080 x 2520</td>\n",
       "      <td>3</td>\n",
       "      <td>1</td>\n",
       "      <td>android</td>\n",
       "      <td>12.0</td>\n",
       "      <td>8</td>\n",
       "      <td>Not Specified</td>\n",
       "    </tr>\n",
       "    <tr>\n",
       "      <th>812</th>\n",
       "      <td>xiaomi</td>\n",
       "      <td>Xiaomi Redmi Note 10 Lite (4GB RAM + 128GB)</td>\n",
       "      <td>12499</td>\n",
       "      <td>77.0</td>\n",
       "      <td>False</td>\n",
       "      <td>False</td>\n",
       "      <td>True</td>\n",
       "      <td>Snapdragon 720G</td>\n",
       "      <td>snapdragon</td>\n",
       "      <td>Octa Core</td>\n",
       "      <td>2.3</td>\n",
       "      <td>5020.0</td>\n",
       "      <td>1</td>\n",
       "      <td>18.0</td>\n",
       "      <td>4.0</td>\n",
       "      <td>128.0</td>\n",
       "      <td>6.67</td>\n",
       "      <td>60</td>\n",
       "      <td>1080 x 2400</td>\n",
       "      <td>4</td>\n",
       "      <td>1</td>\n",
       "      <td>android</td>\n",
       "      <td>48.0</td>\n",
       "      <td>16</td>\n",
       "      <td>512 GB</td>\n",
       "    </tr>\n",
       "    <tr>\n",
       "      <th>221</th>\n",
       "      <td>realme</td>\n",
       "      <td>Realme 9i 5G (6GB RAM + 128GB)</td>\n",
       "      <td>16999</td>\n",
       "      <td>78.0</td>\n",
       "      <td>True</td>\n",
       "      <td>False</td>\n",
       "      <td>False</td>\n",
       "      <td>Dimensity 810 5G</td>\n",
       "      <td>dimensity</td>\n",
       "      <td>Octa Core</td>\n",
       "      <td>2.4</td>\n",
       "      <td>5000.0</td>\n",
       "      <td>1</td>\n",
       "      <td>18.0</td>\n",
       "      <td>6.0</td>\n",
       "      <td>128.0</td>\n",
       "      <td>6.60</td>\n",
       "      <td>90</td>\n",
       "      <td>1080 x 2408</td>\n",
       "      <td>3</td>\n",
       "      <td>1</td>\n",
       "      <td>android</td>\n",
       "      <td>50.0</td>\n",
       "      <td>8</td>\n",
       "      <td>1 TB</td>\n",
       "    </tr>\n",
       "    <tr>\n",
       "      <th>669</th>\n",
       "      <td>itel</td>\n",
       "      <td>itel Vision 3 (2GB RAM + 32GB)</td>\n",
       "      <td>5785</td>\n",
       "      <td>NaN</td>\n",
       "      <td>False</td>\n",
       "      <td>False</td>\n",
       "      <td>False</td>\n",
       "      <td>Unisoc  SC9863a</td>\n",
       "      <td>unisoc</td>\n",
       "      <td>Octa Core</td>\n",
       "      <td>1.6</td>\n",
       "      <td>5000.0</td>\n",
       "      <td>1</td>\n",
       "      <td>18.0</td>\n",
       "      <td>2.0</td>\n",
       "      <td>32.0</td>\n",
       "      <td>6.60</td>\n",
       "      <td>60</td>\n",
       "      <td>1612 x 720</td>\n",
       "      <td>2</td>\n",
       "      <td>1</td>\n",
       "      <td>android</td>\n",
       "      <td>8.0</td>\n",
       "      <td>5</td>\n",
       "      <td>128 GB</td>\n",
       "    </tr>\n",
       "    <tr>\n",
       "      <th>75</th>\n",
       "      <td>gionee</td>\n",
       "      <td>Gionee G13 Pro</td>\n",
       "      <td>6190</td>\n",
       "      <td>NaN</td>\n",
       "      <td>False</td>\n",
       "      <td>False</td>\n",
       "      <td>False</td>\n",
       "      <td>Tiger  T310</td>\n",
       "      <td>tiger</td>\n",
       "      <td>Quad Core</td>\n",
       "      <td>2.0</td>\n",
       "      <td>3500.0</td>\n",
       "      <td>0</td>\n",
       "      <td>NaN</td>\n",
       "      <td>4.0</td>\n",
       "      <td>32.0</td>\n",
       "      <td>6.26</td>\n",
       "      <td>60</td>\n",
       "      <td>720 x 1600</td>\n",
       "      <td>2</td>\n",
       "      <td>1</td>\n",
       "      <td>HarmonyOS v2</td>\n",
       "      <td>13.0</td>\n",
       "      <td>5</td>\n",
       "      <td>Not Specified</td>\n",
       "    </tr>\n",
       "    <tr>\n",
       "      <th>783</th>\n",
       "      <td>samsung</td>\n",
       "      <td>Samsung Galaxy A04 (4GB RAM + 128GB)</td>\n",
       "      <td>12999</td>\n",
       "      <td>72.0</td>\n",
       "      <td>False</td>\n",
       "      <td>False</td>\n",
       "      <td>False</td>\n",
       "      <td>Helio P35</td>\n",
       "      <td>helio</td>\n",
       "      <td>Octa Core</td>\n",
       "      <td>2.3</td>\n",
       "      <td>5000.0</td>\n",
       "      <td>1</td>\n",
       "      <td>NaN</td>\n",
       "      <td>4.0</td>\n",
       "      <td>128.0</td>\n",
       "      <td>6.50</td>\n",
       "      <td>60</td>\n",
       "      <td>720 x 1600</td>\n",
       "      <td>2</td>\n",
       "      <td>1</td>\n",
       "      <td>android</td>\n",
       "      <td>50.0</td>\n",
       "      <td>5</td>\n",
       "      <td>1 TB</td>\n",
       "    </tr>\n",
       "    <tr>\n",
       "      <th>734</th>\n",
       "      <td>xiaomi</td>\n",
       "      <td>Xiaomi Redmi K60 Gaming Edition</td>\n",
       "      <td>54990</td>\n",
       "      <td>86.0</td>\n",
       "      <td>True</td>\n",
       "      <td>True</td>\n",
       "      <td>True</td>\n",
       "      <td>Snapdragon 8 Gen2</td>\n",
       "      <td>snapdragon</td>\n",
       "      <td>Octa Core</td>\n",
       "      <td>3.2</td>\n",
       "      <td>5000.0</td>\n",
       "      <td>1</td>\n",
       "      <td>67.0</td>\n",
       "      <td>8.0</td>\n",
       "      <td>128.0</td>\n",
       "      <td>6.73</td>\n",
       "      <td>120</td>\n",
       "      <td>1440 x 3200</td>\n",
       "      <td>3</td>\n",
       "      <td>1</td>\n",
       "      <td>android</td>\n",
       "      <td>50.0</td>\n",
       "      <td>20</td>\n",
       "      <td>0</td>\n",
       "    </tr>\n",
       "  </tbody>\n",
       "</table>\n",
       "</div>"
      ],
      "text/plain": [
       "    brand_name                                        model  price  rating  \\\n",
       "555     realme                             Realme Narzo 50A  11499    71.0   \n",
       "267      redmi                       Redmi Note 11 Pro 2023  18999    81.0   \n",
       "308       oppo                                OPPO Reno7 5G  25994    85.0   \n",
       "866       sony                   Sony Xperia 10 III Lite 5G  30990    78.0   \n",
       "812     xiaomi  Xiaomi Redmi Note 10 Lite (4GB RAM + 128GB)  12499    77.0   \n",
       "221     realme               Realme 9i 5G (6GB RAM + 128GB)  16999    78.0   \n",
       "669       itel               itel Vision 3 (2GB RAM + 32GB)   5785     NaN   \n",
       "75      gionee                               Gionee G13 Pro   6190     NaN   \n",
       "783    samsung         Samsung Galaxy A04 (4GB RAM + 128GB)  12999    72.0   \n",
       "734     xiaomi              Xiaomi Redmi K60 Gaming Edition  54990    86.0   \n",
       "\n",
       "     has_5g  has_nfc  has_ir_blaster     processor_name processor_brand  \\\n",
       "555   False    False           False         Helio  G85           helio   \n",
       "267   False    False            True     Snapdragon 712      snapdragon   \n",
       "308    True     True           False      Dimensity 900       dimensity   \n",
       "866    True     True           False    Snapdragon  690      snapdragon   \n",
       "812   False    False            True    Snapdragon 720G      snapdragon   \n",
       "221    True    False           False   Dimensity 810 5G       dimensity   \n",
       "669   False    False           False    Unisoc  SC9863a          unisoc   \n",
       "75    False    False           False        Tiger  T310           tiger   \n",
       "783   False    False           False          Helio P35           helio   \n",
       "734    True     True            True  Snapdragon 8 Gen2      snapdragon   \n",
       "\n",
       "     num_cores  processor_speed  battery_capacity  fast_charging_available  \\\n",
       "555  Octa Core              2.0            6000.0                        1   \n",
       "267  Octa Core              2.3            5000.0                        1   \n",
       "308  Octa Core              2.0            4500.0                        1   \n",
       "866  Octa Core              2.0            4500.0                        1   \n",
       "812  Octa Core              2.3            5020.0                        1   \n",
       "221  Octa Core              2.4            5000.0                        1   \n",
       "669  Octa Core              1.6            5000.0                        1   \n",
       "75   Quad Core              2.0            3500.0                        0   \n",
       "783  Octa Core              2.3            5000.0                        1   \n",
       "734  Octa Core              3.2            5000.0                        1   \n",
       "\n",
       "     fast_charging  ram_capacity  internal_memory  screen_size  refresh_rate  \\\n",
       "555           18.0           4.0             64.0         6.50            60   \n",
       "267           67.0           6.0            128.0         6.67           120   \n",
       "308           65.0           8.0            256.0         6.43            90   \n",
       "866           30.0           6.0             64.0         6.00            60   \n",
       "812           18.0           4.0            128.0         6.67            60   \n",
       "221           18.0           6.0            128.0         6.60            90   \n",
       "669           18.0           2.0             32.0         6.60            60   \n",
       "75             NaN           4.0             32.0         6.26            60   \n",
       "783            NaN           4.0            128.0         6.50            60   \n",
       "734           67.0           8.0            128.0         6.73           120   \n",
       "\n",
       "       resolution  num_rear_cameras num_front_cameras            os  \\\n",
       "555   720 x 1600                  3                 1       android   \n",
       "267  1080 x 2400                  4                 1       android   \n",
       "308  1080 x 2400                  3                 1       android   \n",
       "866  1080 x 2520                  3                 1       android   \n",
       "812  1080 x 2400                  4                 1       android   \n",
       "221  1080 x 2408                  3                 1       android   \n",
       "669   1612 x 720                  2                 1       android   \n",
       "75    720 x 1600                  2                 1  HarmonyOS v2   \n",
       "783   720 x 1600                  2                 1       android   \n",
       "734  1440 x 3200                  3                 1       android   \n",
       "\n",
       "     primary_camera_rear primary_camera_front extended_memory  \n",
       "555                 50.0                    8          256 GB  \n",
       "267                108.0                   16            1 TB  \n",
       "308                 64.0                   32            1 TB  \n",
       "866                 12.0                    8   Not Specified  \n",
       "812                 48.0                   16          512 GB  \n",
       "221                 50.0                    8            1 TB  \n",
       "669                  8.0                    5          128 GB  \n",
       "75                  13.0                    5   Not Specified  \n",
       "783                 50.0                    5            1 TB  \n",
       "734                 50.0                   20               0  "
      ]
     },
     "execution_count": 154,
     "metadata": {},
     "output_type": "execute_result"
    }
   ],
   "source": [
    "df.sample(10)"
   ]
  },
  {
   "cell_type": "code",
   "execution_count": 155,
   "id": "c0b854a7",
   "metadata": {},
   "outputs": [
    {
     "data": {
      "application/vnd.microsoft.datawrangler.viewer.v0+json": {
       "columns": [
        {
         "name": "fast_charging_available",
         "rawType": "int64",
         "type": "integer"
        },
        {
         "name": "count",
         "rawType": "int64",
         "type": "integer"
        }
       ],
       "ref": "79d83cd7-3001-4f9c-aa6c-e1349d45ffbe",
       "rows": [
        [
         "1",
         "837"
        ],
        [
         "0",
         "143"
        ]
       ],
       "shape": {
        "columns": 1,
        "rows": 2
       }
      },
      "text/plain": [
       "fast_charging_available\n",
       "1    837\n",
       "0    143\n",
       "Name: count, dtype: int64"
      ]
     },
     "execution_count": 155,
     "metadata": {},
     "output_type": "execute_result"
    }
   ],
   "source": [
    "df['fast_charging_available'].value_counts()"
   ]
  },
  {
   "cell_type": "markdown",
   "id": "9f202170",
   "metadata": {},
   "source": [
    "##### Memory Capacity"
   ]
  },
  {
   "cell_type": "code",
   "execution_count": 156,
   "id": "dcf4029b",
   "metadata": {},
   "outputs": [
    {
     "data": {
      "application/vnd.microsoft.datawrangler.viewer.v0+json": {
       "columns": [
        {
         "name": "ram_capacity",
         "rawType": "float64",
         "type": "float"
        },
        {
         "name": "count",
         "rawType": "int64",
         "type": "integer"
        }
       ],
       "ref": "d573d18f-8070-4177-85e5-42c7dda0e6cf",
       "rows": [
        [
         "8.0",
         "339"
        ],
        [
         "6.0",
         "234"
        ],
        [
         "4.0",
         "215"
        ],
        [
         "12.0",
         "86"
        ],
        [
         "3.0",
         "54"
        ],
        [
         "2.0",
         "32"
        ],
        [
         "16.0",
         "9"
        ],
        [
         "1.0",
         "7"
        ],
        [
         "18.0",
         "2"
        ],
        [
         "64.0",
         "2"
        ]
       ],
       "shape": {
        "columns": 1,
        "rows": 10
       }
      },
      "text/plain": [
       "ram_capacity\n",
       "8.0     339\n",
       "6.0     234\n",
       "4.0     215\n",
       "12.0     86\n",
       "3.0      54\n",
       "2.0      32\n",
       "16.0      9\n",
       "1.0       7\n",
       "18.0      2\n",
       "64.0      2\n",
       "Name: count, dtype: int64"
      ]
     },
     "execution_count": 156,
     "metadata": {},
     "output_type": "execute_result"
    }
   ],
   "source": [
    "df['ram_capacity'].value_counts()"
   ]
  },
  {
   "cell_type": "code",
   "execution_count": 157,
   "id": "1a833f90",
   "metadata": {},
   "outputs": [
    {
     "data": {
      "text/plain": [
       "0"
      ]
     },
     "execution_count": 157,
     "metadata": {},
     "output_type": "execute_result"
    }
   ],
   "source": [
    "df['ram_capacity'].isnull().sum()"
   ]
  },
  {
   "cell_type": "code",
   "execution_count": 158,
   "id": "05f55e7d",
   "metadata": {},
   "outputs": [],
   "source": [
    "temp_df=df[df['internal_memory'].isnull()]"
   ]
  },
  {
   "cell_type": "code",
   "execution_count": 159,
   "id": "55d5f040",
   "metadata": {},
   "outputs": [],
   "source": [
    "df.loc[temp_df.index,['ram_capacity','internal_memory']] = [[4,64],[4,64]]"
   ]
  },
  {
   "cell_type": "code",
   "execution_count": 160,
   "id": "627d7f5f",
   "metadata": {},
   "outputs": [
    {
     "data": {
      "application/vnd.microsoft.datawrangler.viewer.v0+json": {
       "columns": [
        {
         "name": "internal_memory",
         "rawType": "float64",
         "type": "float"
        },
        {
         "name": "count",
         "rawType": "int64",
         "type": "integer"
        }
       ],
       "ref": "ad998518-9854-4b3a-8d87-24fce56d48f5",
       "rows": [
        [
         "128.0",
         "523"
        ],
        [
         "64.0",
         "193"
        ],
        [
         "256.0",
         "157"
        ],
        [
         "32.0",
         "67"
        ],
        [
         "512.0",
         "22"
        ],
        [
         "16.0",
         "12"
        ],
        [
         "1024.0",
         "5"
        ],
        [
         "8.0",
         "1"
        ]
       ],
       "shape": {
        "columns": 1,
        "rows": 8
       }
      },
      "text/plain": [
       "internal_memory\n",
       "128.0     523\n",
       "64.0      193\n",
       "256.0     157\n",
       "32.0       67\n",
       "512.0      22\n",
       "16.0       12\n",
       "1024.0      5\n",
       "8.0         1\n",
       "Name: count, dtype: int64"
      ]
     },
     "execution_count": 160,
     "metadata": {},
     "output_type": "execute_result"
    }
   ],
   "source": [
    "df['internal_memory'].value_counts()"
   ]
  },
  {
   "cell_type": "markdown",
   "id": "0182f31c",
   "metadata": {},
   "source": [
    "##### Screen Size"
   ]
  },
  {
   "cell_type": "code",
   "execution_count": 161,
   "id": "6b0321b1",
   "metadata": {},
   "outputs": [
    {
     "data": {
      "text/plain": [
       "<seaborn.axisgrid.FacetGrid at 0x241139ef9e0>"
      ]
     },
     "execution_count": 161,
     "metadata": {},
     "output_type": "execute_result"
    },
    {
     "data": {
      "image/png": "[encoded data removed]",
      "text/plain": [
       "<Figure size 500x500 with 1 Axes>"
      ]
     },
     "metadata": {},
     "output_type": "display_data"
    }
   ],
   "source": [
    "sns.displot(kind='kde',data=df,x='screen_size')"
   ]
  },
  {
   "cell_type": "code",
   "execution_count": 162,
   "id": "f7c7d4ea",
   "metadata": {},
   "outputs": [
    {
     "data": {
      "text/plain": [
       "-2.11619902968816"
      ]
     },
     "execution_count": 162,
     "metadata": {},
     "output_type": "execute_result"
    }
   ],
   "source": [
    "df['screen_size'].skew()"
   ]
  },
  {
   "cell_type": "markdown",
   "id": "460351df",
   "metadata": {},
   "source": [
    "##### Extended Memory"
   ]
  },
  {
   "cell_type": "code",
   "execution_count": 163,
   "id": "188d2352",
   "metadata": {},
   "outputs": [
    {
     "data": {
      "application/vnd.microsoft.datawrangler.viewer.v0+json": {
       "columns": [
        {
         "name": "extended_memory",
         "rawType": "object",
         "type": "string"
        },
        {
         "name": "count",
         "rawType": "int64",
         "type": "integer"
        }
       ],
       "ref": "d7326266-178b-4bc3-ba8d-a8a4a22e20a2",
       "rows": [
        [
         "0",
         "362"
        ],
        [
         "1 TB",
         "262"
        ],
        [
         "512 GB",
         "116"
        ],
        [
         "256 GB",
         "100"
        ],
        [
         "Not Specified",
         "88"
        ],
        [
         "Memory Card (Hybrid)",
         "30"
        ],
        [
         "128 GB",
         "9"
        ],
        [
         "2 TB",
         "6"
        ],
        [
         "32 GB",
         "3"
        ],
        [
         "64 GB",
         "3"
        ],
        [
         "1000 GB",
         "1"
        ]
       ],
       "shape": {
        "columns": 1,
        "rows": 11
       }
      },
      "text/plain": [
       "extended_memory\n",
       "0                       362\n",
       "1 TB                    262\n",
       "512 GB                  116\n",
       "256 GB                  100\n",
       "Not Specified            88\n",
       "Memory Card (Hybrid)     30\n",
       "128 GB                    9\n",
       "2 TB                      6\n",
       "32 GB                     3\n",
       "64 GB                     3\n",
       "1000 GB                   1\n",
       "Name: count, dtype: int64"
      ]
     },
     "execution_count": 163,
     "metadata": {},
     "output_type": "execute_result"
    }
   ],
   "source": [
    "df['extended_memory'].value_counts()"
   ]
  },
  {
   "cell_type": "code",
   "execution_count": 164,
   "id": "8e061e5b",
   "metadata": {},
   "outputs": [],
   "source": [
    "df['extended_memory_available']=df['extended_memory'].apply(lambda x:0 if x=='0' else 1)"
   ]
  },
  {
   "cell_type": "code",
   "execution_count": 165,
   "id": "3e6a43da",
   "metadata": {},
   "outputs": [],
   "source": [
    "def extended_extractor(row):\n",
    "  if row['extended_memory_available'] == 0:\n",
    "    return np.nan\n",
    "  else:\n",
    "    if row['extended_memory'] == '1 TB':\n",
    "      return 1024\n",
    "    elif row['extended_memory'] == '512 GB':\n",
    "      return 512\n",
    "    elif row['extended_memory'] == '256 GB':\n",
    "      return 256\n",
    "    elif row['extended_memory'] == 'Not Specified':\n",
    "      return np.nan\n",
    "    elif row['extended_memory'] == 'Memory Card (Hybrid)':\n",
    "      return np.nan\n",
    "    elif row['extended_memory'] == '128 GB':\n",
    "      return 128\n",
    "    elif row['extended_memory'] == '2 TB':\n",
    "      return 2048\n",
    "    elif row['extended_memory'] == '32 GB':\n",
    "      return 32\n",
    "    elif row['extended_memory'] == '64 GB':\n",
    "      return 64\n",
    "    elif row['extended_memory'] == '1000 GB':\n",
    "      return 1000\n",
    "    "
   ]
  },
  {
   "cell_type": "code",
   "execution_count": 166,
   "id": "ea049ca0",
   "metadata": {},
   "outputs": [],
   "source": [
    "def extended_extractor(row):\n",
    "  if row['extended_memory_available'] == 0:\n",
    "    return np.nan\n",
    "  else:\n",
    "    if row['extended_memory'] == 'Not Specified':\n",
    "      return np.nan\n",
    "    elif row['extended_memory'] == 'Memory Card (Hybrid)':\n",
    "      return np.nan\n",
    "    else:\n",
    "      return row['extended_memory']\n"
   ]
  },
  {
   "cell_type": "code",
   "execution_count": 167,
   "id": "1ead5339",
   "metadata": {},
   "outputs": [
    {
     "data": {
      "application/vnd.microsoft.datawrangler.viewer.v0+json": {
       "columns": [
        {
         "name": "extended_memory",
         "rawType": "object",
         "type": "string"
        },
        {
         "name": "count",
         "rawType": "int64",
         "type": "integer"
        }
       ],
       "ref": "2aa5c121-93ed-4fb3-994a-98f4577df400",
       "rows": [
        [
         "0",
         "362"
        ],
        [
         "1 TB",
         "262"
        ],
        [
         "512 GB",
         "116"
        ],
        [
         "256 GB",
         "100"
        ],
        [
         "Not Specified",
         "88"
        ],
        [
         "Memory Card (Hybrid)",
         "30"
        ],
        [
         "128 GB",
         "9"
        ],
        [
         "2 TB",
         "6"
        ],
        [
         "32 GB",
         "3"
        ],
        [
         "64 GB",
         "3"
        ],
        [
         "1000 GB",
         "1"
        ]
       ],
       "shape": {
        "columns": 1,
        "rows": 11
       }
      },
      "text/plain": [
       "extended_memory\n",
       "0                       362\n",
       "1 TB                    262\n",
       "512 GB                  116\n",
       "256 GB                  100\n",
       "Not Specified            88\n",
       "Memory Card (Hybrid)     30\n",
       "128 GB                    9\n",
       "2 TB                      6\n",
       "32 GB                     3\n",
       "64 GB                     3\n",
       "1000 GB                   1\n",
       "Name: count, dtype: int64"
      ]
     },
     "execution_count": 167,
     "metadata": {},
     "output_type": "execute_result"
    }
   ],
   "source": [
    "df['extended_memory'].value_counts()"
   ]
  },
  {
   "cell_type": "code",
   "execution_count": 168,
   "id": "12ced320",
   "metadata": {},
   "outputs": [],
   "source": [
    "x = df.apply(extended_extractor,axis=1).str.replace('\\u2009',' ').str.split(' ').str.get(0)"
   ]
  },
  {
   "cell_type": "code",
   "execution_count": 169,
   "id": "ac82b13e",
   "metadata": {},
   "outputs": [],
   "source": [
    "df['extended_upto'] = x"
   ]
  },
  {
   "cell_type": "code",
   "execution_count": 170,
   "id": "e615e2d6",
   "metadata": {},
   "outputs": [
    {
     "data": {
      "application/vnd.microsoft.datawrangler.viewer.v0+json": {
       "columns": [
        {
         "name": "extended_upto",
         "rawType": "object",
         "type": "string"
        },
        {
         "name": "count",
         "rawType": "int64",
         "type": "integer"
        }
       ],
       "ref": "05c1a640-9e18-435f-8589-f12e51d04f9d",
       "rows": [
        [
         "1",
         "262"
        ],
        [
         "512",
         "116"
        ],
        [
         "256",
         "100"
        ],
        [
         "128",
         "9"
        ],
        [
         "2",
         "6"
        ],
        [
         "32",
         "3"
        ],
        [
         "64",
         "3"
        ],
        [
         "1000",
         "1"
        ]
       ],
       "shape": {
        "columns": 1,
        "rows": 8
       }
      },
      "text/plain": [
       "extended_upto\n",
       "1       262\n",
       "512     116\n",
       "256     100\n",
       "128       9\n",
       "2         6\n",
       "32        3\n",
       "64        3\n",
       "1000      1\n",
       "Name: count, dtype: int64"
      ]
     },
     "execution_count": 170,
     "metadata": {},
     "output_type": "execute_result"
    }
   ],
   "source": [
    "df['extended_upto'].value_counts()"
   ]
  },
  {
   "cell_type": "code",
   "execution_count": 171,
   "id": "b7fc982d",
   "metadata": {},
   "outputs": [],
   "source": [
    "def transform(text):\n",
    "  if text == '1':    # 1TB = 1024GB\n",
    "    return '1024'\n",
    "  elif text == '2':\n",
    "    return '2048'\n",
    "  elif text == '1000': \n",
    "    return '1024'\n",
    "  else:\n",
    "    return text"
   ]
  },
  {
   "cell_type": "code",
   "execution_count": 172,
   "id": "af77d4d3",
   "metadata": {},
   "outputs": [],
   "source": [
    "df['extended_upto']=df['extended_upto'].apply(transform)"
   ]
  },
  {
   "cell_type": "markdown",
   "id": "b99c231f",
   "metadata": {},
   "source": [
    "##### OS"
   ]
  },
  {
   "cell_type": "code",
   "execution_count": 173,
   "id": "ed492cc5",
   "metadata": {},
   "outputs": [
    {
     "data": {
      "application/vnd.microsoft.datawrangler.viewer.v0+json": {
       "columns": [
        {
         "name": "os",
         "rawType": "object",
         "type": "string"
        },
        {
         "name": "count",
         "rawType": "int64",
         "type": "integer"
        }
       ],
       "ref": "6579dd1c-2909-42a1-a9c7-1d50e7f9d497",
       "rows": [
        [
         "android",
         "909"
        ],
        [
         "ios",
         "46"
        ],
        [
         "Memory Card Not Supported",
         "6"
        ],
        [
         "Memory Card Supported, upto 256 GB",
         "2"
        ],
        [
         "Memory Card (Hybrid), upto 2 TB",
         "2"
        ],
        [
         "Harmony v2.0",
         "2"
        ],
        [
         "Memory Card (Hybrid), upto 256 GB",
         "2"
        ],
        [
         "HarmonyOS v2.0",
         "2"
        ],
        [
         "EMUI v12",
         "2"
        ],
        [
         "Not Specified",
         "1"
        ],
        [
         "HarmonyOS v2",
         "1"
        ],
        [
         "Hongmeng OS v3.0",
         "1"
        ],
        [
         "Memory Card (Hybrid)",
         "1"
        ],
        [
         "Hongmeng OS v4.0",
         "1"
        ],
        [
         "Memory Card Supported, upto 128 GB",
         "1"
        ],
        [
         "HarmonyOS",
         "1"
        ]
       ],
       "shape": {
        "columns": 1,
        "rows": 16
       }
      },
      "text/plain": [
       "os\n",
       "android                               909\n",
       "ios                                    46\n",
       "Memory Card Not Supported               6\n",
       "Memory Card Supported, upto 256 GB      2\n",
       "Memory Card (Hybrid), upto 2 TB         2\n",
       "Harmony v2.0                            2\n",
       "Memory Card (Hybrid), upto 256 GB       2\n",
       "HarmonyOS v2.0                          2\n",
       "EMUI v12                                2\n",
       "Not Specified                           1\n",
       "HarmonyOS v2                            1\n",
       "Hongmeng OS v3.0                        1\n",
       "Memory Card (Hybrid)                    1\n",
       "Hongmeng OS v4.0                        1\n",
       "Memory Card Supported, upto 128 GB      1\n",
       "HarmonyOS                               1\n",
       "Name: count, dtype: int64"
      ]
     },
     "execution_count": 173,
     "metadata": {},
     "output_type": "execute_result"
    }
   ],
   "source": [
    "df['os'].value_counts()"
   ]
  },
  {
   "cell_type": "code",
   "execution_count": 174,
   "id": "e3bab481",
   "metadata": {},
   "outputs": [],
   "source": [
    "def os_transform(text):\n",
    "  if 'Memory' in text:\n",
    "    return np.nan\n",
    "  elif 'android' in text:\n",
    "    return text\n",
    "  elif 'ios' in text:\n",
    "    return text\n",
    "  else:\n",
    "    return 'other'"
   ]
  },
  {
   "cell_type": "code",
   "execution_count": 175,
   "id": "37ac987b",
   "metadata": {},
   "outputs": [],
   "source": [
    "df['os']=df['os'].apply(os_transform)"
   ]
  },
  {
   "cell_type": "code",
   "execution_count": 176,
   "id": "547dcf12",
   "metadata": {},
   "outputs": [
    {
     "data": {
      "application/vnd.microsoft.datawrangler.viewer.v0+json": {
       "columns": [
        {
         "name": "os",
         "rawType": "object",
         "type": "string"
        },
        {
         "name": "count",
         "rawType": "int64",
         "type": "integer"
        }
       ],
       "ref": "69ef491a-5a42-4a20-b709-8db9a6350d24",
       "rows": [
        [
         "android",
         "909"
        ],
        [
         "ios",
         "46"
        ],
        [
         "other",
         "11"
        ]
       ],
       "shape": {
        "columns": 1,
        "rows": 3
       }
      },
      "text/plain": [
       "os\n",
       "android    909\n",
       "ios         46\n",
       "other       11\n",
       "Name: count, dtype: int64"
      ]
     },
     "execution_count": 176,
     "metadata": {},
     "output_type": "execute_result"
    }
   ],
   "source": [
    "df['os'].value_counts()"
   ]
  },
  {
   "cell_type": "code",
   "execution_count": 177,
   "id": "fce3d609",
   "metadata": {},
   "outputs": [
    {
     "data": {
      "application/vnd.microsoft.datawrangler.viewer.v0+json": {
       "columns": [
        {
         "name": "extended_upto",
         "rawType": "object",
         "type": "string"
        },
        {
         "name": "count",
         "rawType": "int64",
         "type": "integer"
        }
       ],
       "ref": "a661193d-a4fa-4558-80e9-5ebc5fcca1aa",
       "rows": [
        [
         "1024",
         "263"
        ],
        [
         "512",
         "116"
        ],
        [
         "256",
         "100"
        ],
        [
         "128",
         "9"
        ],
        [
         "2048",
         "6"
        ],
        [
         "32",
         "3"
        ],
        [
         "64",
         "3"
        ]
       ],
       "shape": {
        "columns": 1,
        "rows": 7
       }
      },
      "text/plain": [
       "extended_upto\n",
       "1024    263\n",
       "512     116\n",
       "256     100\n",
       "128       9\n",
       "2048      6\n",
       "32        3\n",
       "64        3\n",
       "Name: count, dtype: int64"
      ]
     },
     "execution_count": 177,
     "metadata": {},
     "output_type": "execute_result"
    }
   ],
   "source": [
    "df['extended_upto'].value_counts()"
   ]
  },
  {
   "cell_type": "code",
   "execution_count": 178,
   "id": "000fdc30",
   "metadata": {},
   "outputs": [],
   "source": [
    "df.drop(columns=['processor_name','extended_memory'],inplace=True)"
   ]
  },
  {
   "cell_type": "code",
   "execution_count": 180,
   "id": "0bbbd79e",
   "metadata": {},
   "outputs": [
    {
     "data": {
      "application/vnd.microsoft.datawrangler.viewer.v0+json": {
       "columns": [
        {
         "name": "index",
         "rawType": "object",
         "type": "string"
        },
        {
         "name": "rating",
         "rawType": "float64",
         "type": "float"
        }
       ],
       "ref": "610699d0-39e7-4033-9a5f-56c11a91b22c",
       "rows": [
        [
         "price",
         "0.2835039332088962"
        ],
        [
         "rating",
         "1.0"
        ],
        [
         "processor_speed",
         "0.6284460261093382"
        ],
        [
         "battery_capacity",
         "-0.01558144058453887"
        ],
        [
         "fast_charging_available",
         "0.5428144717060827"
        ],
        [
         "fast_charging",
         "0.5276128633576573"
        ],
        [
         "ram_capacity",
         "0.7576131519648824"
        ],
        [
         "internal_memory",
         "0.48106996245758576"
        ],
        [
         "screen_size",
         "0.29827209476309074"
        ],
        [
         "refresh_rate",
         "0.6107950159643791"
        ],
        [
         "num_rear_cameras",
         "0.5155314533182201"
        ],
        [
         "primary_camera_rear",
         "0.5620457343344637"
        ],
        [
         "extended_memory_available",
         "-0.41526504192311753"
        ]
       ],
       "shape": {
        "columns": 1,
        "rows": 13
       }
      },
      "text/plain": [
       "price                        0.283504\n",
       "rating                       1.000000\n",
       "processor_speed              0.628446\n",
       "battery_capacity            -0.015581\n",
       "fast_charging_available      0.542814\n",
       "fast_charging                0.527613\n",
       "ram_capacity                 0.757613\n",
       "internal_memory              0.481070\n",
       "screen_size                  0.298272\n",
       "refresh_rate                 0.610795\n",
       "num_rear_cameras             0.515531\n",
       "primary_camera_rear          0.562046\n",
       "extended_memory_available   -0.415265\n",
       "Name: rating, dtype: float64"
      ]
     },
     "execution_count": 180,
     "metadata": {},
     "output_type": "execute_result"
    }
   ],
   "source": [
    "df.select_dtypes(include=[np.number]).corr()['rating']"
   ]
  },
  {
   "cell_type": "markdown",
   "id": "e763450c",
   "metadata": {},
   "source": [
    "##### Misceleneous"
   ]
  },
  {
   "cell_type": "code",
   "execution_count": 181,
   "id": "29f2709d",
   "metadata": {},
   "outputs": [
    {
     "data": {
      "application/vnd.microsoft.datawrangler.viewer.v0+json": {
       "columns": [
        {
         "name": "primary_camera_front",
         "rawType": "object",
         "type": "string"
        },
        {
         "name": "count",
         "rawType": "int64",
         "type": "integer"
        }
       ],
       "ref": "9d681c3e-145c-4ae4-8a50-e3932c85d14b",
       "rows": [
        [
         "16",
         "307"
        ],
        [
         "8",
         "178"
        ],
        [
         "32",
         "155"
        ],
        [
         "5",
         "119"
        ],
        [
         "12",
         "50"
        ],
        [
         "13",
         "41"
        ],
        [
         "20",
         "37"
        ],
        [
         "10",
         "24"
        ],
        [
         "50",
         "12"
        ],
        [
         "60",
         "10"
        ],
        [
         "44",
         "8"
        ],
        [
         "40",
         "6"
        ],
        [
         "2",
         "5"
        ],
        [
         "7",
         "5"
        ],
        [
         "24",
         "3"
        ],
        [
         "25",
         "3"
        ],
        [
         "10.8",
         "3"
        ],
        [
         "48",
         "2"
        ],
        [
         "11.1",
         "2"
        ],
        [
         "0.3",
         "1"
        ],
        [
         "2.1",
         "1"
        ],
        [
         "Main",
         "1"
        ],
        [
         "10.7",
         "1"
        ],
        [
         "10.1",
         "1"
        ],
        [
         "12.6",
         "1"
        ]
       ],
       "shape": {
        "columns": 1,
        "rows": 25
       }
      },
      "text/plain": [
       "primary_camera_front\n",
       "16      307\n",
       "8       178\n",
       "32      155\n",
       "5       119\n",
       "12       50\n",
       "13       41\n",
       "20       37\n",
       "10       24\n",
       "50       12\n",
       "60       10\n",
       "44        8\n",
       "40        6\n",
       "2         5\n",
       "7         5\n",
       "24        3\n",
       "25        3\n",
       "10.8      3\n",
       "48        2\n",
       "11.1      2\n",
       "0.3       1\n",
       "2.1       1\n",
       "Main      1\n",
       "10.7      1\n",
       "10.1      1\n",
       "12.6      1\n",
       "Name: count, dtype: int64"
      ]
     },
     "execution_count": 181,
     "metadata": {},
     "output_type": "execute_result"
    }
   ],
   "source": [
    "df['primary_camera_front'].value_counts()"
   ]
  },
  {
   "cell_type": "code",
   "execution_count": 182,
   "id": "e801891d",
   "metadata": {},
   "outputs": [],
   "source": [
    "df['primary_camera_front'] = df['primary_camera_front'].apply(lambda x: np.nan if x == 'Main' else x).astype(float)"
   ]
  },
  {
   "cell_type": "code",
   "execution_count": 183,
   "id": "8b1112ba",
   "metadata": {},
   "outputs": [
    {
     "data": {
      "application/vnd.microsoft.datawrangler.viewer.v0+json": {
       "columns": [
        {
         "name": "num_cores",
         "rawType": "object",
         "type": "string"
        },
        {
         "name": "count",
         "rawType": "int64",
         "type": "integer"
        }
       ],
       "ref": "d041efad-e43f-49bb-8e77-caaebccd278d",
       "rows": [
        [
         "Octa Core",
         "899"
        ],
        [
         "Hexa Core",
         "39"
        ],
        [
         "Quad Core",
         "36"
        ]
       ],
       "shape": {
        "columns": 1,
        "rows": 3
       }
      },
      "text/plain": [
       "num_cores\n",
       "Octa Core    899\n",
       "Hexa Core     39\n",
       "Quad Core     36\n",
       "Name: count, dtype: int64"
      ]
     },
     "execution_count": 183,
     "metadata": {},
     "output_type": "execute_result"
    }
   ],
   "source": [
    "df['num_cores'].value_counts()"
   ]
  },
  {
   "cell_type": "code",
   "execution_count": 184,
   "id": "cded9345",
   "metadata": {},
   "outputs": [],
   "source": [
    "df['num_cores'] = df['num_cores'].str.replace('Octa Core','8')\n",
    "df['num_cores'] = df['num_cores'].str.replace('Hexa Core','6')\n",
    "df['num_cores'] = df['num_cores'].str.replace('Quad Core','4')"
   ]
  },
  {
   "cell_type": "code",
   "execution_count": 185,
   "id": "e74f0098",
   "metadata": {},
   "outputs": [
    {
     "data": {
      "application/vnd.microsoft.datawrangler.viewer.v0+json": {
       "columns": [
        {
         "name": "num_cores",
         "rawType": "object",
         "type": "string"
        },
        {
         "name": "count",
         "rawType": "int64",
         "type": "integer"
        }
       ],
       "ref": "e5d9095e-141e-4ca8-adff-cd9874246f7c",
       "rows": [
        [
         "8",
         "899"
        ],
        [
         "6",
         "39"
        ],
        [
         "4",
         "36"
        ]
       ],
       "shape": {
        "columns": 1,
        "rows": 3
       }
      },
      "text/plain": [
       "num_cores\n",
       "8    899\n",
       "6     39\n",
       "4     36\n",
       "Name: count, dtype: int64"
      ]
     },
     "execution_count": 185,
     "metadata": {},
     "output_type": "execute_result"
    }
   ],
   "source": [
    "df['num_cores'].value_counts()"
   ]
  },
  {
   "cell_type": "code",
   "execution_count": 186,
   "id": "5006717e",
   "metadata": {},
   "outputs": [],
   "source": [
    "df['num_cores'] = df['num_cores'].astype(float)"
   ]
  },
  {
   "cell_type": "code",
   "execution_count": 187,
   "id": "655bcba7",
   "metadata": {},
   "outputs": [
    {
     "data": {
      "application/vnd.microsoft.datawrangler.viewer.v0+json": {
       "columns": [
        {
         "name": "index",
         "rawType": "object",
         "type": "string"
        },
        {
         "name": "0",
         "rawType": "int64",
         "type": "integer"
        }
       ],
       "ref": "16a6b2c3-037d-468e-9093-91d5123877bd",
       "rows": [
        [
         "brand_name",
         "0"
        ],
        [
         "model",
         "0"
        ],
        [
         "price",
         "0"
        ],
        [
         "rating",
         "101"
        ],
        [
         "has_5g",
         "0"
        ],
        [
         "has_nfc",
         "0"
        ],
        [
         "has_ir_blaster",
         "0"
        ],
        [
         "processor_brand",
         "20"
        ],
        [
         "num_cores",
         "6"
        ],
        [
         "processor_speed",
         "42"
        ],
        [
         "battery_capacity",
         "11"
        ],
        [
         "fast_charging_available",
         "0"
        ],
        [
         "fast_charging",
         "211"
        ],
        [
         "ram_capacity",
         "0"
        ],
        [
         "internal_memory",
         "0"
        ],
        [
         "screen_size",
         "0"
        ],
        [
         "refresh_rate",
         "0"
        ],
        [
         "resolution",
         "0"
        ],
        [
         "num_rear_cameras",
         "0"
        ],
        [
         "num_front_cameras",
         "0"
        ],
        [
         "os",
         "14"
        ],
        [
         "primary_camera_rear",
         "0"
        ],
        [
         "primary_camera_front",
         "5"
        ],
        [
         "extended_memory_available",
         "0"
        ],
        [
         "extended_upto",
         "480"
        ]
       ],
       "shape": {
        "columns": 1,
        "rows": 25
       }
      },
      "text/plain": [
       "brand_name                     0\n",
       "model                          0\n",
       "price                          0\n",
       "rating                       101\n",
       "has_5g                         0\n",
       "has_nfc                        0\n",
       "has_ir_blaster                 0\n",
       "processor_brand               20\n",
       "num_cores                      6\n",
       "processor_speed               42\n",
       "battery_capacity              11\n",
       "fast_charging_available        0\n",
       "fast_charging                211\n",
       "ram_capacity                   0\n",
       "internal_memory                0\n",
       "screen_size                    0\n",
       "refresh_rate                   0\n",
       "resolution                     0\n",
       "num_rear_cameras               0\n",
       "num_front_cameras              0\n",
       "os                            14\n",
       "primary_camera_rear            0\n",
       "primary_camera_front           5\n",
       "extended_memory_available      0\n",
       "extended_upto                480\n",
       "dtype: int64"
      ]
     },
     "execution_count": 187,
     "metadata": {},
     "output_type": "execute_result"
    }
   ],
   "source": [
    "df.isnull().sum()"
   ]
  },
  {
   "cell_type": "code",
   "execution_count": 190,
   "id": "0c847b78",
   "metadata": {},
   "outputs": [],
   "source": [
    "df.to_csv('smartphone_cleaned_v5.csv',index=False)"
   ]
  },
  {
   "cell_type": "code",
   "execution_count": null,
   "id": "882d025f",
   "metadata": {},
   "outputs": [],
   "source": []
  }
 ],
 "metadata": {
  "kernelspec": {
   "display_name": "Python 3",
   "language": "python",
   "name": "python3"
  },
  "language_info": {
   "codemirror_mode": {
    "name": "ipython",
    "version": 3
   },
   "file_extension": ".py",
   "mimetype": "text/x-python",
   "name": "python",
   "nbconvert_exporter": "python",
   "pygments_lexer": "ipython3",
   "version": "3.12.4"
  }
 },
 "nbformat": 4,
 "nbformat_minor": 5
}

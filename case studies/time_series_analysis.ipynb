{
 "cells": [
  {
   "cell_type": "code",
   "execution_count": 152,
   "metadata": {},
   "outputs": [],
   "source": [
    "import pandas as pd\n",
    "import numpy as np"
   ]
  },
  {
   "cell_type": "markdown",
   "metadata": {},
   "source": [
    "##### Time series"
   ]
  },
  {
   "cell_type": "code",
   "execution_count": 153,
   "metadata": {},
   "outputs": [
    {
     "data": {
      "text/plain": [
       "Timestamp('2025-03-27 21:39:00')"
      ]
     },
     "execution_count": 153,
     "metadata": {},
     "output_type": "execute_result"
    }
   ],
   "source": [
    "pd.Timestamp('27th March 2025 9:39PM')"
   ]
  },
  {
   "cell_type": "code",
   "execution_count": 154,
   "metadata": {},
   "outputs": [
    {
     "data": {
      "text/plain": [
       "Timestamp('2025-03-27 21:39:00')"
      ]
     },
     "execution_count": 154,
     "metadata": {},
     "output_type": "execute_result"
    }
   ],
   "source": [
    "# DatetimeIndex -> df and series index\n",
    "pd.DatetimeIndex([pd.Timestamp('27th March 2025 9:39PM'),pd.Timestamp('28th March 2025 9:39PM'),pd.Timestamp('29th March 2025 9:39PM')])[0]"
   ]
  },
  {
   "cell_type": "code",
   "execution_count": 155,
   "metadata": {},
   "outputs": [
    {
     "data": {
      "text/plain": [
       "DatetimeIndex(['2025-03-27', '2025-03-28', '2025-03-29', '2025-03-30',\n",
       "               '2025-03-31', '2025-04-01', '2025-04-02'],\n",
       "              dtype='datetime64[ns]', freq='D')"
      ]
     },
     "execution_count": 155,
     "metadata": {},
     "output_type": "execute_result"
    }
   ],
   "source": [
    "# date_range()\n",
    "pd.date_range(start='2025-03-27',end='2nd April 2025',freq='D')"
   ]
  },
  {
   "cell_type": "code",
   "execution_count": 156,
   "metadata": {},
   "outputs": [
    {
     "data": {
      "text/plain": [
       "0    Thursday\n",
       "1      Friday\n",
       "2    Saturday\n",
       "dtype: object"
      ]
     },
     "execution_count": 156,
     "metadata": {},
     "output_type": "execute_result"
    }
   ],
   "source": [
    "# to_datetime()\n",
    "s = pd.Series(['2025/03/27','2025/3/28','2025/03/29'])\n",
    "pd.to_datetime(s).dt.day_name()"
   ]
  },
  {
   "cell_type": "markdown",
   "metadata": {},
   "source": [
    "##### Timedelta Object\n",
    "\n",
    "Represents a duration, the difference between two dates or times."
   ]
  },
  {
   "cell_type": "code",
   "execution_count": 157,
   "metadata": {},
   "outputs": [
    {
     "data": {
      "text/plain": [
       "Timedelta('2 days 13:40:42')"
      ]
     },
     "execution_count": 157,
     "metadata": {},
     "output_type": "execute_result"
    }
   ],
   "source": [
    "# create using Timestamp objects\n",
    "t1 = pd.Timestamp('27th March 2025 21:54:14')\n",
    "t2 = pd.Timestamp('30th March 2025 11:34:56')\n",
    "t2 - t1"
   ]
  },
  {
   "cell_type": "code",
   "execution_count": 158,
   "metadata": {},
   "outputs": [
    {
     "data": {
      "text/plain": [
       "Timedelta('2 days 13:40:42')"
      ]
     },
     "execution_count": 158,
     "metadata": {},
     "output_type": "execute_result"
    }
   ],
   "source": [
    "# standalone creation\n",
    "pd.Timedelta(days=2,hours=13,minutes=40,seconds=42)"
   ]
  },
  {
   "cell_type": "code",
   "execution_count": 159,
   "metadata": {},
   "outputs": [
    {
     "data": {
      "text/plain": [
       "Timestamp('2025-03-29 08:29:14')"
      ]
     },
     "execution_count": 159,
     "metadata": {},
     "output_type": "execute_result"
    }
   ],
   "source": [
    "# Arithmetic Operations\n",
    "pd.Timestamp('26th March 2025 21:54:14') + pd.Timedelta(days=2,hours=10,minutes=35)"
   ]
  },
  {
   "cell_type": "code",
   "execution_count": 160,
   "metadata": {},
   "outputs": [
    {
     "data": {
      "text/plain": [
       "DatetimeIndex(['2025-03-23 13:25:00', '2025-03-24 13:25:00',\n",
       "               '2025-03-25 13:25:00', '2025-03-26 13:25:00',\n",
       "               '2025-03-27 13:25:00', '2025-03-28 13:25:00'],\n",
       "              dtype='datetime64[ns]', freq='D')"
      ]
     },
     "execution_count": 160,
     "metadata": {},
     "output_type": "execute_result"
    }
   ],
   "source": [
    "pd.date_range(start='2025-03-26',end='2025-03-31',freq='D') - pd.Timedelta(days=2,hours=10,minutes=35)"
   ]
  },
  {
   "cell_type": "code",
   "execution_count": 161,
   "metadata": {},
   "outputs": [
    {
     "data": {
      "application/vnd.microsoft.datawrangler.viewer.v0+json": {
       "columns": [
        {
         "name": "index",
         "rawType": "int64",
         "type": "integer"
        },
        {
         "name": "order_date",
         "rawType": "object",
         "type": "string"
        },
        {
         "name": "delivery_date",
         "rawType": "object",
         "type": "string"
        }
       ],
       "conversionMethod": "pd.DataFrame",
       "ref": "07ee3f98-8432-49de-aa34-c45b45cb43d4",
       "rows": [
        [
         "0",
         "5/24/98",
         "2/5/99"
        ],
        [
         "1",
         "4/22/92",
         "3/6/98"
        ],
        [
         "2",
         "2/10/91",
         "8/26/92"
        ],
        [
         "3",
         "7/21/92",
         "11/20/97"
        ],
        [
         "4",
         "9/2/93",
         "6/10/98"
        ]
       ],
       "shape": {
        "columns": 2,
        "rows": 5
       }
      },
      "text/html": [
       "<div>\n",
       "<style scoped>\n",
       "    .dataframe tbody tr th:only-of-type {\n",
       "        vertical-align: middle;\n",
       "    }\n",
       "\n",
       "    .dataframe tbody tr th {\n",
       "        vertical-align: top;\n",
       "    }\n",
       "\n",
       "    .dataframe thead th {\n",
       "        text-align: right;\n",
       "    }\n",
       "</style>\n",
       "<table border=\"1\" class=\"dataframe\">\n",
       "  <thead>\n",
       "    <tr style=\"text-align: right;\">\n",
       "      <th></th>\n",
       "      <th>order_date</th>\n",
       "      <th>delivery_date</th>\n",
       "    </tr>\n",
       "  </thead>\n",
       "  <tbody>\n",
       "    <tr>\n",
       "      <th>0</th>\n",
       "      <td>5/24/98</td>\n",
       "      <td>2/5/99</td>\n",
       "    </tr>\n",
       "    <tr>\n",
       "      <th>1</th>\n",
       "      <td>4/22/92</td>\n",
       "      <td>3/6/98</td>\n",
       "    </tr>\n",
       "    <tr>\n",
       "      <th>2</th>\n",
       "      <td>2/10/91</td>\n",
       "      <td>8/26/92</td>\n",
       "    </tr>\n",
       "    <tr>\n",
       "      <th>3</th>\n",
       "      <td>7/21/92</td>\n",
       "      <td>11/20/97</td>\n",
       "    </tr>\n",
       "    <tr>\n",
       "      <th>4</th>\n",
       "      <td>9/2/93</td>\n",
       "      <td>6/10/98</td>\n",
       "    </tr>\n",
       "  </tbody>\n",
       "</table>\n",
       "</div>"
      ],
      "text/plain": [
       "  order_date delivery_date\n",
       "0    5/24/98        2/5/99\n",
       "1    4/22/92        3/6/98\n",
       "2    2/10/91       8/26/92\n",
       "3    7/21/92      11/20/97\n",
       "4     9/2/93       6/10/98"
      ]
     },
     "execution_count": 161,
     "metadata": {},
     "output_type": "execute_result"
    }
   ],
   "source": [
    "# real life example\n",
    "df = pd.read_csv('deliveries.csv')\n",
    "df.head()"
   ]
  },
  {
   "cell_type": "code",
   "execution_count": 162,
   "metadata": {},
   "outputs": [],
   "source": [
    "# Specify the correct date format or infer it automatically\n",
    "df['order_date'] = pd.to_datetime(df['order_date'], format='%m/%d/%y')\n",
    "df['delivery_date'] = pd.to_datetime(df['delivery_date'], format='%m/%d/%y')"
   ]
  },
  {
   "cell_type": "code",
   "execution_count": 163,
   "metadata": {},
   "outputs": [
    {
     "data": {
      "text/plain": [
       "Timedelta('1217 days 22:53:53.532934128')"
      ]
     },
     "execution_count": 163,
     "metadata": {},
     "output_type": "execute_result"
    }
   ],
   "source": [
    "df['delivery_time_period'] = df['delivery_date'] - df['order_date']\n",
    "df['delivery_time_period'].mean()"
   ]
  },
  {
   "cell_type": "markdown",
   "metadata": {},
   "source": [
    "##### Time series\n",
    "\n",
    "A time series is a data set that tracks a sample over time. In particular, a time series allows one to see what factors influence certain variables from period to period. Time series analysis can be useful to see how a given asset, security, or economic variable changes over time.\n",
    "\n",
    "Examples\n",
    "\n",
    "- Financial Data (Company stocks)\n",
    "- Natural Data (Rainfall measurement)\n",
    "- Event Data (Covid)\n",
    "- Medical Data (Heart rate monitoring)\n",
    "\n",
    "Types of Operations done on Time Series\n",
    "\n",
    "- Time Series Analysis\n",
    "- Time Series Forecasting"
   ]
  },
  {
   "cell_type": "code",
   "execution_count": 164,
   "metadata": {},
   "outputs": [
    {
     "data": {
      "application/vnd.microsoft.datawrangler.viewer.v0+json": {
       "columns": [
        {
         "name": "index",
         "rawType": "int64",
         "type": "integer"
        },
        {
         "name": "Date",
         "rawType": "object",
         "type": "string"
        },
        {
         "name": "Open",
         "rawType": "float64",
         "type": "float"
        },
        {
         "name": "High",
         "rawType": "float64",
         "type": "float"
        },
        {
         "name": "Low",
         "rawType": "float64",
         "type": "float"
        },
        {
         "name": "Close",
         "rawType": "float64",
         "type": "float"
        },
        {
         "name": "Adj Close",
         "rawType": "float64",
         "type": "float"
        },
        {
         "name": "Volume",
         "rawType": "int64",
         "type": "integer"
        }
       ],
       "conversionMethod": "pd.DataFrame",
       "ref": "efbfd0d6-80d3-4d2b-a74c-0063ba5c3888",
       "rows": [
        [
         "2732",
         "2015-06-26",
         "26.863001",
         "26.888",
         "26.567499",
         "26.584499",
         "26.584499",
         "42182000"
        ],
        [
         "1347",
         "2009-12-23",
         "15.03116",
         "15.264535",
         "15.01497",
         "15.234896",
         "15.234896",
         "83218760"
        ],
        [
         "2736",
         "2015-07-02",
         "26.054001",
         "26.2325",
         "26.054001",
         "26.17",
         "26.17",
         "24718000"
        ],
        [
         "3696",
         "2019-04-26",
         "63.450001",
         "63.6535",
         "63.015999",
         "63.609001",
         "63.609001",
         "24828000"
        ],
        [
         "3919",
         "2020-03-16",
         "54.799999",
         "57.61335",
         "53.722",
         "54.216499",
         "54.216499",
         "85048000"
        ],
        [
         "1003",
         "2008-08-13",
         "12.493173",
         "12.541491",
         "12.300893",
         "12.454069",
         "12.454069",
         "145563571"
        ],
        [
         "4006",
         "2020-07-20",
         "75.763",
         "78.514503",
         "75.18",
         "78.286003",
         "78.286003",
         "31146000"
        ],
        [
         "3860",
         "2019-12-18",
         "67.830002",
         "68.023499",
         "67.550003",
         "67.630997",
         "67.630997",
         "30452000"
        ],
        [
         "246",
         "2005-08-10",
         "7.255305",
         "7.280959",
         "7.095405",
         "7.11533",
         "7.11533",
         "276191367"
        ],
        [
         "4845",
         "2023-11-16",
         "136.960007",
         "138.880005",
         "136.080002",
         "138.699997",
         "138.699997",
         "17615100"
        ]
       ],
       "shape": {
        "columns": 7,
        "rows": 10
       }
      },
      "text/html": [
       "<div>\n",
       "<style scoped>\n",
       "    .dataframe tbody tr th:only-of-type {\n",
       "        vertical-align: middle;\n",
       "    }\n",
       "\n",
       "    .dataframe tbody tr th {\n",
       "        vertical-align: top;\n",
       "    }\n",
       "\n",
       "    .dataframe thead th {\n",
       "        text-align: right;\n",
       "    }\n",
       "</style>\n",
       "<table border=\"1\" class=\"dataframe\">\n",
       "  <thead>\n",
       "    <tr style=\"text-align: right;\">\n",
       "      <th></th>\n",
       "      <th>Date</th>\n",
       "      <th>Open</th>\n",
       "      <th>High</th>\n",
       "      <th>Low</th>\n",
       "      <th>Close</th>\n",
       "      <th>Adj Close</th>\n",
       "      <th>Volume</th>\n",
       "    </tr>\n",
       "  </thead>\n",
       "  <tbody>\n",
       "    <tr>\n",
       "      <th>2732</th>\n",
       "      <td>2015-06-26</td>\n",
       "      <td>26.863001</td>\n",
       "      <td>26.888000</td>\n",
       "      <td>26.567499</td>\n",
       "      <td>26.584499</td>\n",
       "      <td>26.584499</td>\n",
       "      <td>42182000</td>\n",
       "    </tr>\n",
       "    <tr>\n",
       "      <th>1347</th>\n",
       "      <td>2009-12-23</td>\n",
       "      <td>15.031160</td>\n",
       "      <td>15.264535</td>\n",
       "      <td>15.014970</td>\n",
       "      <td>15.234896</td>\n",
       "      <td>15.234896</td>\n",
       "      <td>83218760</td>\n",
       "    </tr>\n",
       "    <tr>\n",
       "      <th>2736</th>\n",
       "      <td>2015-07-02</td>\n",
       "      <td>26.054001</td>\n",
       "      <td>26.232500</td>\n",
       "      <td>26.054001</td>\n",
       "      <td>26.170000</td>\n",
       "      <td>26.170000</td>\n",
       "      <td>24718000</td>\n",
       "    </tr>\n",
       "    <tr>\n",
       "      <th>3696</th>\n",
       "      <td>2019-04-26</td>\n",
       "      <td>63.450001</td>\n",
       "      <td>63.653500</td>\n",
       "      <td>63.015999</td>\n",
       "      <td>63.609001</td>\n",
       "      <td>63.609001</td>\n",
       "      <td>24828000</td>\n",
       "    </tr>\n",
       "    <tr>\n",
       "      <th>3919</th>\n",
       "      <td>2020-03-16</td>\n",
       "      <td>54.799999</td>\n",
       "      <td>57.613350</td>\n",
       "      <td>53.722000</td>\n",
       "      <td>54.216499</td>\n",
       "      <td>54.216499</td>\n",
       "      <td>85048000</td>\n",
       "    </tr>\n",
       "    <tr>\n",
       "      <th>1003</th>\n",
       "      <td>2008-08-13</td>\n",
       "      <td>12.493173</td>\n",
       "      <td>12.541491</td>\n",
       "      <td>12.300893</td>\n",
       "      <td>12.454069</td>\n",
       "      <td>12.454069</td>\n",
       "      <td>145563571</td>\n",
       "    </tr>\n",
       "    <tr>\n",
       "      <th>4006</th>\n",
       "      <td>2020-07-20</td>\n",
       "      <td>75.763000</td>\n",
       "      <td>78.514503</td>\n",
       "      <td>75.180000</td>\n",
       "      <td>78.286003</td>\n",
       "      <td>78.286003</td>\n",
       "      <td>31146000</td>\n",
       "    </tr>\n",
       "    <tr>\n",
       "      <th>3860</th>\n",
       "      <td>2019-12-18</td>\n",
       "      <td>67.830002</td>\n",
       "      <td>68.023499</td>\n",
       "      <td>67.550003</td>\n",
       "      <td>67.630997</td>\n",
       "      <td>67.630997</td>\n",
       "      <td>30452000</td>\n",
       "    </tr>\n",
       "    <tr>\n",
       "      <th>246</th>\n",
       "      <td>2005-08-10</td>\n",
       "      <td>7.255305</td>\n",
       "      <td>7.280959</td>\n",
       "      <td>7.095405</td>\n",
       "      <td>7.115330</td>\n",
       "      <td>7.115330</td>\n",
       "      <td>276191367</td>\n",
       "    </tr>\n",
       "    <tr>\n",
       "      <th>4845</th>\n",
       "      <td>2023-11-16</td>\n",
       "      <td>136.960007</td>\n",
       "      <td>138.880005</td>\n",
       "      <td>136.080002</td>\n",
       "      <td>138.699997</td>\n",
       "      <td>138.699997</td>\n",
       "      <td>17615100</td>\n",
       "    </tr>\n",
       "  </tbody>\n",
       "</table>\n",
       "</div>"
      ],
      "text/plain": [
       "            Date        Open        High         Low       Close   Adj Close  \\\n",
       "2732  2015-06-26   26.863001   26.888000   26.567499   26.584499   26.584499   \n",
       "1347  2009-12-23   15.031160   15.264535   15.014970   15.234896   15.234896   \n",
       "2736  2015-07-02   26.054001   26.232500   26.054001   26.170000   26.170000   \n",
       "3696  2019-04-26   63.450001   63.653500   63.015999   63.609001   63.609001   \n",
       "3919  2020-03-16   54.799999   57.613350   53.722000   54.216499   54.216499   \n",
       "1003  2008-08-13   12.493173   12.541491   12.300893   12.454069   12.454069   \n",
       "4006  2020-07-20   75.763000   78.514503   75.180000   78.286003   78.286003   \n",
       "3860  2019-12-18   67.830002   68.023499   67.550003   67.630997   67.630997   \n",
       "246   2005-08-10    7.255305    7.280959    7.095405    7.115330    7.115330   \n",
       "4845  2023-11-16  136.960007  138.880005  136.080002  138.699997  138.699997   \n",
       "\n",
       "         Volume  \n",
       "2732   42182000  \n",
       "1347   83218760  \n",
       "2736   24718000  \n",
       "3696   24828000  \n",
       "3919   85048000  \n",
       "1003  145563571  \n",
       "4006   31146000  \n",
       "3860   30452000  \n",
       "246   276191367  \n",
       "4845   17615100  "
      ]
     },
     "execution_count": 164,
     "metadata": {},
     "output_type": "execute_result"
    }
   ],
   "source": [
    "df=pd.read_csv('google.csv')\n",
    "df.sample(10)"
   ]
  },
  {
   "cell_type": "code",
   "execution_count": 165,
   "metadata": {},
   "outputs": [
    {
     "data": {
      "text/plain": [
       "(4858, 7)"
      ]
     },
     "execution_count": 165,
     "metadata": {},
     "output_type": "execute_result"
    }
   ],
   "source": [
    "df.shape"
   ]
  },
  {
   "cell_type": "code",
   "execution_count": 166,
   "metadata": {},
   "outputs": [
    {
     "name": "stdout",
     "output_type": "stream",
     "text": [
      "<class 'pandas.core.frame.DataFrame'>\n",
      "RangeIndex: 4858 entries, 0 to 4857\n",
      "Data columns (total 7 columns):\n",
      " #   Column     Non-Null Count  Dtype  \n",
      "---  ------     --------------  -----  \n",
      " 0   Date       4858 non-null   object \n",
      " 1   Open       4858 non-null   float64\n",
      " 2   High       4858 non-null   float64\n",
      " 3   Low        4858 non-null   float64\n",
      " 4   Close      4858 non-null   float64\n",
      " 5   Adj Close  4858 non-null   float64\n",
      " 6   Volume     4858 non-null   int64  \n",
      "dtypes: float64(5), int64(1), object(1)\n",
      "memory usage: 265.8+ KB\n"
     ]
    }
   ],
   "source": [
    "df.info()"
   ]
  },
  {
   "cell_type": "code",
   "execution_count": 167,
   "metadata": {},
   "outputs": [],
   "source": [
    "df['Date']=pd.to_datetime(df['Date'])"
   ]
  },
  {
   "cell_type": "code",
   "execution_count": 168,
   "metadata": {},
   "outputs": [
    {
     "name": "stdout",
     "output_type": "stream",
     "text": [
      "<class 'pandas.core.frame.DataFrame'>\n",
      "RangeIndex: 4858 entries, 0 to 4857\n",
      "Data columns (total 7 columns):\n",
      " #   Column     Non-Null Count  Dtype         \n",
      "---  ------     --------------  -----         \n",
      " 0   Date       4858 non-null   datetime64[ns]\n",
      " 1   Open       4858 non-null   float64       \n",
      " 2   High       4858 non-null   float64       \n",
      " 3   Low        4858 non-null   float64       \n",
      " 4   Close      4858 non-null   float64       \n",
      " 5   Adj Close  4858 non-null   float64       \n",
      " 6   Volume     4858 non-null   int64         \n",
      "dtypes: datetime64[ns](1), float64(5), int64(1)\n",
      "memory usage: 265.8 KB\n"
     ]
    }
   ],
   "source": [
    "df.info()"
   ]
  },
  {
   "cell_type": "code",
   "execution_count": 169,
   "metadata": {},
   "outputs": [],
   "source": [
    "# Suggesion --> Make Date column as Index\n",
    "df.set_index('Date',inplace=True)"
   ]
  },
  {
   "cell_type": "code",
   "execution_count": 170,
   "metadata": {},
   "outputs": [
    {
     "data": {
      "application/vnd.microsoft.datawrangler.viewer.v0+json": {
       "columns": [
        {
         "name": "Date",
         "rawType": "datetime64[ns]",
         "type": "datetime"
        },
        {
         "name": "Open",
         "rawType": "float64",
         "type": "float"
        },
        {
         "name": "High",
         "rawType": "float64",
         "type": "float"
        },
        {
         "name": "Low",
         "rawType": "float64",
         "type": "float"
        },
        {
         "name": "Close",
         "rawType": "float64",
         "type": "float"
        },
        {
         "name": "Adj Close",
         "rawType": "float64",
         "type": "float"
        },
        {
         "name": "Volume",
         "rawType": "int64",
         "type": "integer"
        }
       ],
       "conversionMethod": "pd.DataFrame",
       "ref": "a070b550-1a3d-4fe7-bcdb-0f66da8d74d7",
       "rows": [
        [
         "2013-09-04 00:00:00",
         "21.428431",
         "21.755953",
         "21.299416",
         "21.709377",
         "21.709377",
         "81954037"
        ],
        [
         "2017-09-25 00:00:00",
         "46.272499",
         "46.32",
         "45.485001",
         "46.0485",
         "46.0485",
         "37136000"
        ],
        [
         "2012-11-12 00:00:00",
         "16.531784",
         "16.68247",
         "16.460054",
         "16.585335",
         "16.585335",
         "56446786"
        ],
        [
         "2021-02-09 00:00:00",
         "103.927002",
         "105.2565",
         "103.927002",
         "104.175499",
         "104.175499",
         "17798000"
        ],
        [
         "2018-07-30 00:00:00",
         "61.400501",
         "61.7458",
         "60.573502",
         "60.987",
         "60.987",
         "36998000"
        ]
       ],
       "shape": {
        "columns": 6,
        "rows": 5
       }
      },
      "text/html": [
       "<div>\n",
       "<style scoped>\n",
       "    .dataframe tbody tr th:only-of-type {\n",
       "        vertical-align: middle;\n",
       "    }\n",
       "\n",
       "    .dataframe tbody tr th {\n",
       "        vertical-align: top;\n",
       "    }\n",
       "\n",
       "    .dataframe thead th {\n",
       "        text-align: right;\n",
       "    }\n",
       "</style>\n",
       "<table border=\"1\" class=\"dataframe\">\n",
       "  <thead>\n",
       "    <tr style=\"text-align: right;\">\n",
       "      <th></th>\n",
       "      <th>Open</th>\n",
       "      <th>High</th>\n",
       "      <th>Low</th>\n",
       "      <th>Close</th>\n",
       "      <th>Adj Close</th>\n",
       "      <th>Volume</th>\n",
       "    </tr>\n",
       "    <tr>\n",
       "      <th>Date</th>\n",
       "      <th></th>\n",
       "      <th></th>\n",
       "      <th></th>\n",
       "      <th></th>\n",
       "      <th></th>\n",
       "      <th></th>\n",
       "    </tr>\n",
       "  </thead>\n",
       "  <tbody>\n",
       "    <tr>\n",
       "      <th>2013-09-04</th>\n",
       "      <td>21.428431</td>\n",
       "      <td>21.755953</td>\n",
       "      <td>21.299416</td>\n",
       "      <td>21.709377</td>\n",
       "      <td>21.709377</td>\n",
       "      <td>81954037</td>\n",
       "    </tr>\n",
       "    <tr>\n",
       "      <th>2017-09-25</th>\n",
       "      <td>46.272499</td>\n",
       "      <td>46.320000</td>\n",
       "      <td>45.485001</td>\n",
       "      <td>46.048500</td>\n",
       "      <td>46.048500</td>\n",
       "      <td>37136000</td>\n",
       "    </tr>\n",
       "    <tr>\n",
       "      <th>2012-11-12</th>\n",
       "      <td>16.531784</td>\n",
       "      <td>16.682470</td>\n",
       "      <td>16.460054</td>\n",
       "      <td>16.585335</td>\n",
       "      <td>16.585335</td>\n",
       "      <td>56446786</td>\n",
       "    </tr>\n",
       "    <tr>\n",
       "      <th>2021-02-09</th>\n",
       "      <td>103.927002</td>\n",
       "      <td>105.256500</td>\n",
       "      <td>103.927002</td>\n",
       "      <td>104.175499</td>\n",
       "      <td>104.175499</td>\n",
       "      <td>17798000</td>\n",
       "    </tr>\n",
       "    <tr>\n",
       "      <th>2018-07-30</th>\n",
       "      <td>61.400501</td>\n",
       "      <td>61.745800</td>\n",
       "      <td>60.573502</td>\n",
       "      <td>60.987000</td>\n",
       "      <td>60.987000</td>\n",
       "      <td>36998000</td>\n",
       "    </tr>\n",
       "  </tbody>\n",
       "</table>\n",
       "</div>"
      ],
      "text/plain": [
       "                  Open        High         Low       Close   Adj Close  \\\n",
       "Date                                                                     \n",
       "2013-09-04   21.428431   21.755953   21.299416   21.709377   21.709377   \n",
       "2017-09-25   46.272499   46.320000   45.485001   46.048500   46.048500   \n",
       "2012-11-12   16.531784   16.682470   16.460054   16.585335   16.585335   \n",
       "2021-02-09  103.927002  105.256500  103.927002  104.175499  104.175499   \n",
       "2018-07-30   61.400501   61.745800   60.573502   60.987000   60.987000   \n",
       "\n",
       "              Volume  \n",
       "Date                  \n",
       "2013-09-04  81954037  \n",
       "2017-09-25  37136000  \n",
       "2012-11-12  56446786  \n",
       "2021-02-09  17798000  \n",
       "2018-07-30  36998000  "
      ]
     },
     "execution_count": 170,
     "metadata": {},
     "output_type": "execute_result"
    }
   ],
   "source": [
    "df.sample(5)"
   ]
  },
  {
   "cell_type": "code",
   "execution_count": 171,
   "metadata": {},
   "outputs": [
    {
     "data": {
      "text/plain": [
       "Open               87.03\n",
       "High               89.36\n",
       "Low                86.99\n",
       "Close              88.95\n",
       "Adj Close          88.95\n",
       "Volume       18280700.00\n",
       "Name: 2022-12-29 00:00:00, dtype: float64"
      ]
     },
     "execution_count": 171,
     "metadata": {},
     "output_type": "execute_result"
    }
   ],
   "source": [
    "# fetch a specific date\n",
    "df.loc['2022-12-29'].round(2)"
   ]
  },
  {
   "cell_type": "code",
   "execution_count": 172,
   "metadata": {},
   "outputs": [
    {
     "data": {
      "application/vnd.microsoft.datawrangler.viewer.v0+json": {
       "columns": [
        {
         "name": "Date",
         "rawType": "datetime64[ns]",
         "type": "datetime"
        },
        {
         "name": "Open",
         "rawType": "float64",
         "type": "float"
        },
        {
         "name": "High",
         "rawType": "float64",
         "type": "float"
        },
        {
         "name": "Low",
         "rawType": "float64",
         "type": "float"
        },
        {
         "name": "Close",
         "rawType": "float64",
         "type": "float"
        },
        {
         "name": "Adj Close",
         "rawType": "float64",
         "type": "float"
        },
        {
         "name": "Volume",
         "rawType": "int64",
         "type": "integer"
        }
       ],
       "conversionMethod": "pd.DataFrame",
       "ref": "7a8c309b-9755-48da-89a5-755f5f498e36",
       "rows": [
        [
         "2022-12-01 00:00:00",
         "101.400002",
         "102.589996",
         "100.669998",
         "101.279999",
         "101.279999",
         "21771500"
        ],
        [
         "2022-12-02 00:00:00",
         "99.370003",
         "101.150002",
         "99.169998",
         "100.830002",
         "100.830002",
         "18821500"
        ],
        [
         "2022-12-05 00:00:00",
         "99.815002",
         "101.75",
         "99.355003",
         "99.870003",
         "99.870003",
         "19955500"
        ],
        [
         "2022-12-06 00:00:00",
         "99.669998",
         "100.209999",
         "96.760002",
         "97.309998",
         "97.309998",
         "20877600"
        ],
        [
         "2022-12-07 00:00:00",
         "96.769997",
         "97.309998",
         "95.025002",
         "95.150002",
         "95.150002",
         "26647900"
        ],
        [
         "2022-12-08 00:00:00",
         "95.690002",
         "95.870003",
         "93.800003",
         "93.949997",
         "93.949997",
         "25593200"
        ],
        [
         "2022-12-09 00:00:00",
         "93.900002",
         "94.489998",
         "93.019997",
         "93.07",
         "93.07",
         "21885300"
        ],
        [
         "2022-12-12 00:00:00",
         "93.089996",
         "93.875",
         "91.900002",
         "93.559998",
         "93.559998",
         "27380900"
        ],
        [
         "2022-12-13 00:00:00",
         "98.07",
         "99.800003",
         "95.379997",
         "95.849998",
         "95.849998",
         "34788500"
        ],
        [
         "2022-12-14 00:00:00",
         "95.540001",
         "97.220001",
         "93.940002",
         "95.309998",
         "95.309998",
         "26452900"
        ],
        [
         "2022-12-15 00:00:00",
         "93.540001",
         "94.029999",
         "90.43",
         "91.199997",
         "91.199997",
         "28298800"
        ],
        [
         "2022-12-16 00:00:00",
         "91.199997",
         "91.75",
         "90.010002",
         "90.860001",
         "90.860001",
         "48485500"
        ],
        [
         "2022-12-19 00:00:00",
         "90.879997",
         "91.199997",
         "88.925003",
         "89.150002",
         "89.150002",
         "23020500"
        ],
        [
         "2022-12-20 00:00:00",
         "88.730003",
         "89.779999",
         "88.040001",
         "89.629997",
         "89.629997",
         "21976800"
        ],
        [
         "2022-12-21 00:00:00",
         "89.730003",
         "90.915001",
         "88.910004",
         "90.25",
         "90.25",
         "20336400"
        ],
        [
         "2022-12-22 00:00:00",
         "88.93",
         "89.18",
         "86.940002",
         "88.260002",
         "88.260002",
         "23656100"
        ],
        [
         "2022-12-23 00:00:00",
         "87.620003",
         "90.099998",
         "87.620003",
         "89.809998",
         "89.809998",
         "17815000"
        ],
        [
         "2022-12-27 00:00:00",
         "89.309998",
         "89.5",
         "87.535004",
         "87.93",
         "87.93",
         "15470900"
        ],
        [
         "2022-12-28 00:00:00",
         "87.5",
         "88.519997",
         "86.370003",
         "86.459999",
         "86.459999",
         "17879600"
        ],
        [
         "2022-12-29 00:00:00",
         "87.029999",
         "89.364998",
         "86.989998",
         "88.949997",
         "88.949997",
         "18280700"
        ],
        [
         "2022-12-30 00:00:00",
         "87.364998",
         "88.830002",
         "87.029999",
         "88.730003",
         "88.730003",
         "19190300"
        ]
       ],
       "shape": {
        "columns": 6,
        "rows": 21
       }
      },
      "text/html": [
       "<div>\n",
       "<style scoped>\n",
       "    .dataframe tbody tr th:only-of-type {\n",
       "        vertical-align: middle;\n",
       "    }\n",
       "\n",
       "    .dataframe tbody tr th {\n",
       "        vertical-align: top;\n",
       "    }\n",
       "\n",
       "    .dataframe thead th {\n",
       "        text-align: right;\n",
       "    }\n",
       "</style>\n",
       "<table border=\"1\" class=\"dataframe\">\n",
       "  <thead>\n",
       "    <tr style=\"text-align: right;\">\n",
       "      <th></th>\n",
       "      <th>Open</th>\n",
       "      <th>High</th>\n",
       "      <th>Low</th>\n",
       "      <th>Close</th>\n",
       "      <th>Adj Close</th>\n",
       "      <th>Volume</th>\n",
       "    </tr>\n",
       "    <tr>\n",
       "      <th>Date</th>\n",
       "      <th></th>\n",
       "      <th></th>\n",
       "      <th></th>\n",
       "      <th></th>\n",
       "      <th></th>\n",
       "      <th></th>\n",
       "    </tr>\n",
       "  </thead>\n",
       "  <tbody>\n",
       "    <tr>\n",
       "      <th>2022-12-01</th>\n",
       "      <td>101.400002</td>\n",
       "      <td>102.589996</td>\n",
       "      <td>100.669998</td>\n",
       "      <td>101.279999</td>\n",
       "      <td>101.279999</td>\n",
       "      <td>21771500</td>\n",
       "    </tr>\n",
       "    <tr>\n",
       "      <th>2022-12-02</th>\n",
       "      <td>99.370003</td>\n",
       "      <td>101.150002</td>\n",
       "      <td>99.169998</td>\n",
       "      <td>100.830002</td>\n",
       "      <td>100.830002</td>\n",
       "      <td>18821500</td>\n",
       "    </tr>\n",
       "    <tr>\n",
       "      <th>2022-12-05</th>\n",
       "      <td>99.815002</td>\n",
       "      <td>101.750000</td>\n",
       "      <td>99.355003</td>\n",
       "      <td>99.870003</td>\n",
       "      <td>99.870003</td>\n",
       "      <td>19955500</td>\n",
       "    </tr>\n",
       "    <tr>\n",
       "      <th>2022-12-06</th>\n",
       "      <td>99.669998</td>\n",
       "      <td>100.209999</td>\n",
       "      <td>96.760002</td>\n",
       "      <td>97.309998</td>\n",
       "      <td>97.309998</td>\n",
       "      <td>20877600</td>\n",
       "    </tr>\n",
       "    <tr>\n",
       "      <th>2022-12-07</th>\n",
       "      <td>96.769997</td>\n",
       "      <td>97.309998</td>\n",
       "      <td>95.025002</td>\n",
       "      <td>95.150002</td>\n",
       "      <td>95.150002</td>\n",
       "      <td>26647900</td>\n",
       "    </tr>\n",
       "    <tr>\n",
       "      <th>2022-12-08</th>\n",
       "      <td>95.690002</td>\n",
       "      <td>95.870003</td>\n",
       "      <td>93.800003</td>\n",
       "      <td>93.949997</td>\n",
       "      <td>93.949997</td>\n",
       "      <td>25593200</td>\n",
       "    </tr>\n",
       "    <tr>\n",
       "      <th>2022-12-09</th>\n",
       "      <td>93.900002</td>\n",
       "      <td>94.489998</td>\n",
       "      <td>93.019997</td>\n",
       "      <td>93.070000</td>\n",
       "      <td>93.070000</td>\n",
       "      <td>21885300</td>\n",
       "    </tr>\n",
       "    <tr>\n",
       "      <th>2022-12-12</th>\n",
       "      <td>93.089996</td>\n",
       "      <td>93.875000</td>\n",
       "      <td>91.900002</td>\n",
       "      <td>93.559998</td>\n",
       "      <td>93.559998</td>\n",
       "      <td>27380900</td>\n",
       "    </tr>\n",
       "    <tr>\n",
       "      <th>2022-12-13</th>\n",
       "      <td>98.070000</td>\n",
       "      <td>99.800003</td>\n",
       "      <td>95.379997</td>\n",
       "      <td>95.849998</td>\n",
       "      <td>95.849998</td>\n",
       "      <td>34788500</td>\n",
       "    </tr>\n",
       "    <tr>\n",
       "      <th>2022-12-14</th>\n",
       "      <td>95.540001</td>\n",
       "      <td>97.220001</td>\n",
       "      <td>93.940002</td>\n",
       "      <td>95.309998</td>\n",
       "      <td>95.309998</td>\n",
       "      <td>26452900</td>\n",
       "    </tr>\n",
       "    <tr>\n",
       "      <th>2022-12-15</th>\n",
       "      <td>93.540001</td>\n",
       "      <td>94.029999</td>\n",
       "      <td>90.430000</td>\n",
       "      <td>91.199997</td>\n",
       "      <td>91.199997</td>\n",
       "      <td>28298800</td>\n",
       "    </tr>\n",
       "    <tr>\n",
       "      <th>2022-12-16</th>\n",
       "      <td>91.199997</td>\n",
       "      <td>91.750000</td>\n",
       "      <td>90.010002</td>\n",
       "      <td>90.860001</td>\n",
       "      <td>90.860001</td>\n",
       "      <td>48485500</td>\n",
       "    </tr>\n",
       "    <tr>\n",
       "      <th>2022-12-19</th>\n",
       "      <td>90.879997</td>\n",
       "      <td>91.199997</td>\n",
       "      <td>88.925003</td>\n",
       "      <td>89.150002</td>\n",
       "      <td>89.150002</td>\n",
       "      <td>23020500</td>\n",
       "    </tr>\n",
       "    <tr>\n",
       "      <th>2022-12-20</th>\n",
       "      <td>88.730003</td>\n",
       "      <td>89.779999</td>\n",
       "      <td>88.040001</td>\n",
       "      <td>89.629997</td>\n",
       "      <td>89.629997</td>\n",
       "      <td>21976800</td>\n",
       "    </tr>\n",
       "    <tr>\n",
       "      <th>2022-12-21</th>\n",
       "      <td>89.730003</td>\n",
       "      <td>90.915001</td>\n",
       "      <td>88.910004</td>\n",
       "      <td>90.250000</td>\n",
       "      <td>90.250000</td>\n",
       "      <td>20336400</td>\n",
       "    </tr>\n",
       "    <tr>\n",
       "      <th>2022-12-22</th>\n",
       "      <td>88.930000</td>\n",
       "      <td>89.180000</td>\n",
       "      <td>86.940002</td>\n",
       "      <td>88.260002</td>\n",
       "      <td>88.260002</td>\n",
       "      <td>23656100</td>\n",
       "    </tr>\n",
       "    <tr>\n",
       "      <th>2022-12-23</th>\n",
       "      <td>87.620003</td>\n",
       "      <td>90.099998</td>\n",
       "      <td>87.620003</td>\n",
       "      <td>89.809998</td>\n",
       "      <td>89.809998</td>\n",
       "      <td>17815000</td>\n",
       "    </tr>\n",
       "    <tr>\n",
       "      <th>2022-12-27</th>\n",
       "      <td>89.309998</td>\n",
       "      <td>89.500000</td>\n",
       "      <td>87.535004</td>\n",
       "      <td>87.930000</td>\n",
       "      <td>87.930000</td>\n",
       "      <td>15470900</td>\n",
       "    </tr>\n",
       "    <tr>\n",
       "      <th>2022-12-28</th>\n",
       "      <td>87.500000</td>\n",
       "      <td>88.519997</td>\n",
       "      <td>86.370003</td>\n",
       "      <td>86.459999</td>\n",
       "      <td>86.459999</td>\n",
       "      <td>17879600</td>\n",
       "    </tr>\n",
       "    <tr>\n",
       "      <th>2022-12-29</th>\n",
       "      <td>87.029999</td>\n",
       "      <td>89.364998</td>\n",
       "      <td>86.989998</td>\n",
       "      <td>88.949997</td>\n",
       "      <td>88.949997</td>\n",
       "      <td>18280700</td>\n",
       "    </tr>\n",
       "    <tr>\n",
       "      <th>2022-12-30</th>\n",
       "      <td>87.364998</td>\n",
       "      <td>88.830002</td>\n",
       "      <td>87.029999</td>\n",
       "      <td>88.730003</td>\n",
       "      <td>88.730003</td>\n",
       "      <td>19190300</td>\n",
       "    </tr>\n",
       "  </tbody>\n",
       "</table>\n",
       "</div>"
      ],
      "text/plain": [
       "                  Open        High         Low       Close   Adj Close  \\\n",
       "Date                                                                     \n",
       "2022-12-01  101.400002  102.589996  100.669998  101.279999  101.279999   \n",
       "2022-12-02   99.370003  101.150002   99.169998  100.830002  100.830002   \n",
       "2022-12-05   99.815002  101.750000   99.355003   99.870003   99.870003   \n",
       "2022-12-06   99.669998  100.209999   96.760002   97.309998   97.309998   \n",
       "2022-12-07   96.769997   97.309998   95.025002   95.150002   95.150002   \n",
       "2022-12-08   95.690002   95.870003   93.800003   93.949997   93.949997   \n",
       "2022-12-09   93.900002   94.489998   93.019997   93.070000   93.070000   \n",
       "2022-12-12   93.089996   93.875000   91.900002   93.559998   93.559998   \n",
       "2022-12-13   98.070000   99.800003   95.379997   95.849998   95.849998   \n",
       "2022-12-14   95.540001   97.220001   93.940002   95.309998   95.309998   \n",
       "2022-12-15   93.540001   94.029999   90.430000   91.199997   91.199997   \n",
       "2022-12-16   91.199997   91.750000   90.010002   90.860001   90.860001   \n",
       "2022-12-19   90.879997   91.199997   88.925003   89.150002   89.150002   \n",
       "2022-12-20   88.730003   89.779999   88.040001   89.629997   89.629997   \n",
       "2022-12-21   89.730003   90.915001   88.910004   90.250000   90.250000   \n",
       "2022-12-22   88.930000   89.180000   86.940002   88.260002   88.260002   \n",
       "2022-12-23   87.620003   90.099998   87.620003   89.809998   89.809998   \n",
       "2022-12-27   89.309998   89.500000   87.535004   87.930000   87.930000   \n",
       "2022-12-28   87.500000   88.519997   86.370003   86.459999   86.459999   \n",
       "2022-12-29   87.029999   89.364998   86.989998   88.949997   88.949997   \n",
       "2022-12-30   87.364998   88.830002   87.029999   88.730003   88.730003   \n",
       "\n",
       "              Volume  \n",
       "Date                  \n",
       "2022-12-01  21771500  \n",
       "2022-12-02  18821500  \n",
       "2022-12-05  19955500  \n",
       "2022-12-06  20877600  \n",
       "2022-12-07  26647900  \n",
       "2022-12-08  25593200  \n",
       "2022-12-09  21885300  \n",
       "2022-12-12  27380900  \n",
       "2022-12-13  34788500  \n",
       "2022-12-14  26452900  \n",
       "2022-12-15  28298800  \n",
       "2022-12-16  48485500  \n",
       "2022-12-19  23020500  \n",
       "2022-12-20  21976800  \n",
       "2022-12-21  20336400  \n",
       "2022-12-22  23656100  \n",
       "2022-12-23  17815000  \n",
       "2022-12-27  15470900  \n",
       "2022-12-28  17879600  \n",
       "2022-12-29  18280700  \n",
       "2022-12-30  19190300  "
      ]
     },
     "execution_count": 172,
     "metadata": {},
     "output_type": "execute_result"
    }
   ],
   "source": [
    "# partial indexing -> select a particular year/month\n",
    "df.loc['2022-12']"
   ]
  },
  {
   "cell_type": "code",
   "execution_count": 173,
   "metadata": {},
   "outputs": [
    {
     "data": {
      "application/vnd.microsoft.datawrangler.viewer.v0+json": {
       "columns": [
        {
         "name": "Date",
         "rawType": "datetime64[ns]",
         "type": "datetime"
        },
        {
         "name": "Open",
         "rawType": "float64",
         "type": "float"
        },
        {
         "name": "High",
         "rawType": "float64",
         "type": "float"
        },
        {
         "name": "Low",
         "rawType": "float64",
         "type": "float"
        },
        {
         "name": "Close",
         "rawType": "float64",
         "type": "float"
        },
        {
         "name": "Adj Close",
         "rawType": "float64",
         "type": "float"
        },
        {
         "name": "Volume",
         "rawType": "int64",
         "type": "integer"
        },
        {
         "name": "month_name",
         "rawType": "object",
         "type": "string"
        },
        {
         "name": "day_name",
         "rawType": "object",
         "type": "string"
        },
        {
         "name": "quarter",
         "rawType": "int32",
         "type": "integer"
        }
       ],
       "conversionMethod": "pd.DataFrame",
       "ref": "678c2a80-a9c7-428a-a700-038978d7eb56",
       "rows": [
        [
         "2011-12-07 00:00:00",
         "15.483962",
         "15.583091",
         "15.394797",
         "15.526553",
         "15.526553",
         "90630437",
         "December",
         "Wednesday",
         "4"
        ],
        [
         "2016-04-13 00:00:00",
         "37.458",
         "37.719002",
         "37.213051",
         "37.585999",
         "37.585999",
         "34142000",
         "April",
         "Wednesday",
         "2"
        ],
        [
         "2015-11-02 00:00:00",
         "35.553001",
         "36.081001",
         "35.2925",
         "36.0555",
         "36.0555",
         "37726000",
         "November",
         "Monday",
         "4"
        ],
        [
         "2023-05-25 00:00:00",
         "125.209999",
         "125.980003",
         "122.900002",
         "124.349998",
         "124.349998",
         "33812700",
         "May",
         "Thursday",
         "2"
        ],
        [
         "2017-05-18 00:00:00",
         "46.049999",
         "46.658501",
         "45.9375",
         "46.512001",
         "46.512001",
         "31938000",
         "May",
         "Thursday",
         "2"
        ]
       ],
       "shape": {
        "columns": 9,
        "rows": 5
       }
      },
      "text/html": [
       "<div>\n",
       "<style scoped>\n",
       "    .dataframe tbody tr th:only-of-type {\n",
       "        vertical-align: middle;\n",
       "    }\n",
       "\n",
       "    .dataframe tbody tr th {\n",
       "        vertical-align: top;\n",
       "    }\n",
       "\n",
       "    .dataframe thead th {\n",
       "        text-align: right;\n",
       "    }\n",
       "</style>\n",
       "<table border=\"1\" class=\"dataframe\">\n",
       "  <thead>\n",
       "    <tr style=\"text-align: right;\">\n",
       "      <th></th>\n",
       "      <th>Open</th>\n",
       "      <th>High</th>\n",
       "      <th>Low</th>\n",
       "      <th>Close</th>\n",
       "      <th>Adj Close</th>\n",
       "      <th>Volume</th>\n",
       "      <th>month_name</th>\n",
       "      <th>day_name</th>\n",
       "      <th>quarter</th>\n",
       "    </tr>\n",
       "    <tr>\n",
       "      <th>Date</th>\n",
       "      <th></th>\n",
       "      <th></th>\n",
       "      <th></th>\n",
       "      <th></th>\n",
       "      <th></th>\n",
       "      <th></th>\n",
       "      <th></th>\n",
       "      <th></th>\n",
       "      <th></th>\n",
       "    </tr>\n",
       "  </thead>\n",
       "  <tbody>\n",
       "    <tr>\n",
       "      <th>2011-12-07</th>\n",
       "      <td>15.483962</td>\n",
       "      <td>15.583091</td>\n",
       "      <td>15.394797</td>\n",
       "      <td>15.526553</td>\n",
       "      <td>15.526553</td>\n",
       "      <td>90630437</td>\n",
       "      <td>December</td>\n",
       "      <td>Wednesday</td>\n",
       "      <td>4</td>\n",
       "    </tr>\n",
       "    <tr>\n",
       "      <th>2016-04-13</th>\n",
       "      <td>37.458000</td>\n",
       "      <td>37.719002</td>\n",
       "      <td>37.213051</td>\n",
       "      <td>37.585999</td>\n",
       "      <td>37.585999</td>\n",
       "      <td>34142000</td>\n",
       "      <td>April</td>\n",
       "      <td>Wednesday</td>\n",
       "      <td>2</td>\n",
       "    </tr>\n",
       "    <tr>\n",
       "      <th>2015-11-02</th>\n",
       "      <td>35.553001</td>\n",
       "      <td>36.081001</td>\n",
       "      <td>35.292500</td>\n",
       "      <td>36.055500</td>\n",
       "      <td>36.055500</td>\n",
       "      <td>37726000</td>\n",
       "      <td>November</td>\n",
       "      <td>Monday</td>\n",
       "      <td>4</td>\n",
       "    </tr>\n",
       "    <tr>\n",
       "      <th>2023-05-25</th>\n",
       "      <td>125.209999</td>\n",
       "      <td>125.980003</td>\n",
       "      <td>122.900002</td>\n",
       "      <td>124.349998</td>\n",
       "      <td>124.349998</td>\n",
       "      <td>33812700</td>\n",
       "      <td>May</td>\n",
       "      <td>Thursday</td>\n",
       "      <td>2</td>\n",
       "    </tr>\n",
       "    <tr>\n",
       "      <th>2017-05-18</th>\n",
       "      <td>46.049999</td>\n",
       "      <td>46.658501</td>\n",
       "      <td>45.937500</td>\n",
       "      <td>46.512001</td>\n",
       "      <td>46.512001</td>\n",
       "      <td>31938000</td>\n",
       "      <td>May</td>\n",
       "      <td>Thursday</td>\n",
       "      <td>2</td>\n",
       "    </tr>\n",
       "  </tbody>\n",
       "</table>\n",
       "</div>"
      ],
      "text/plain": [
       "                  Open        High         Low       Close   Adj Close  \\\n",
       "Date                                                                     \n",
       "2011-12-07   15.483962   15.583091   15.394797   15.526553   15.526553   \n",
       "2016-04-13   37.458000   37.719002   37.213051   37.585999   37.585999   \n",
       "2015-11-02   35.553001   36.081001   35.292500   36.055500   36.055500   \n",
       "2023-05-25  125.209999  125.980003  122.900002  124.349998  124.349998   \n",
       "2017-05-18   46.049999   46.658501   45.937500   46.512001   46.512001   \n",
       "\n",
       "              Volume month_name   day_name  quarter  \n",
       "Date                                                 \n",
       "2011-12-07  90630437   December  Wednesday        4  \n",
       "2016-04-13  34142000      April  Wednesday        2  \n",
       "2015-11-02  37726000   November     Monday        4  \n",
       "2023-05-25  33812700        May   Thursday        2  \n",
       "2017-05-18  31938000        May   Thursday        2  "
      ]
     },
     "execution_count": 173,
     "metadata": {},
     "output_type": "execute_result"
    }
   ],
   "source": [
    "df['month_name']=df.index.month_name()\n",
    "df['day_name']=df.index.day_name()\n",
    "df['quarter']=df.index.quarter\n",
    "df.sample(5)"
   ]
  },
  {
   "cell_type": "code",
   "execution_count": 174,
   "metadata": {},
   "outputs": [
    {
     "data": {
      "application/vnd.microsoft.datawrangler.viewer.v0+json": {
       "columns": [
        {
         "name": "Date",
         "rawType": "datetime64[ns]",
         "type": "datetime"
        },
        {
         "name": "Open",
         "rawType": "float64",
         "type": "float"
        },
        {
         "name": "High",
         "rawType": "float64",
         "type": "float"
        },
        {
         "name": "Low",
         "rawType": "float64",
         "type": "float"
        },
        {
         "name": "Close",
         "rawType": "float64",
         "type": "float"
        },
        {
         "name": "Adj Close",
         "rawType": "float64",
         "type": "float"
        },
        {
         "name": "Volume",
         "rawType": "int64",
         "type": "integer"
        },
        {
         "name": "month_name",
         "rawType": "object",
         "type": "string"
        },
        {
         "name": "day_name",
         "rawType": "object",
         "type": "string"
        },
        {
         "name": "quarter",
         "rawType": "int32",
         "type": "integer"
        }
       ],
       "conversionMethod": "pd.DataFrame",
       "ref": "22b7f8c4-f4f0-4475-b88c-50b9e9528dcd",
       "rows": [
        [
         "2022-12-15 00:00:00",
         "93.54",
         "94.03",
         "90.43",
         "91.2",
         "91.2",
         "28298800",
         "December",
         "Thursday",
         "4"
        ],
        [
         "2022-12-19 00:00:00",
         "90.88",
         "91.2",
         "88.925",
         "89.15",
         "89.15",
         "23020500",
         "December",
         "Monday",
         "4"
        ],
        [
         "2022-12-21 00:00:00",
         "89.73",
         "90.915",
         "88.91",
         "90.25",
         "90.25",
         "20336400",
         "December",
         "Wednesday",
         "4"
        ],
        [
         "2022-12-23 00:00:00",
         "87.62",
         "90.1",
         "87.62",
         "89.81",
         "89.81",
         "17815000",
         "December",
         "Friday",
         "4"
        ],
        [
         "2022-12-28 00:00:00",
         "87.5",
         "88.52",
         "86.37",
         "86.46",
         "86.46",
         "17879600",
         "December",
         "Wednesday",
         "4"
        ],
        [
         "2022-12-30 00:00:00",
         "87.365",
         "88.83",
         "87.03",
         "88.73",
         "88.73",
         "19190300",
         "December",
         "Friday",
         "4"
        ]
       ],
       "shape": {
        "columns": 9,
        "rows": 6
       }
      },
      "text/html": [
       "<div>\n",
       "<style scoped>\n",
       "    .dataframe tbody tr th:only-of-type {\n",
       "        vertical-align: middle;\n",
       "    }\n",
       "\n",
       "    .dataframe tbody tr th {\n",
       "        vertical-align: top;\n",
       "    }\n",
       "\n",
       "    .dataframe thead th {\n",
       "        text-align: right;\n",
       "    }\n",
       "</style>\n",
       "<table border=\"1\" class=\"dataframe\">\n",
       "  <thead>\n",
       "    <tr style=\"text-align: right;\">\n",
       "      <th></th>\n",
       "      <th>Open</th>\n",
       "      <th>High</th>\n",
       "      <th>Low</th>\n",
       "      <th>Close</th>\n",
       "      <th>Adj Close</th>\n",
       "      <th>Volume</th>\n",
       "      <th>month_name</th>\n",
       "      <th>day_name</th>\n",
       "      <th>quarter</th>\n",
       "    </tr>\n",
       "    <tr>\n",
       "      <th>Date</th>\n",
       "      <th></th>\n",
       "      <th></th>\n",
       "      <th></th>\n",
       "      <th></th>\n",
       "      <th></th>\n",
       "      <th></th>\n",
       "      <th></th>\n",
       "      <th></th>\n",
       "      <th></th>\n",
       "    </tr>\n",
       "  </thead>\n",
       "  <tbody>\n",
       "    <tr>\n",
       "      <th>2022-12-15</th>\n",
       "      <td>93.540</td>\n",
       "      <td>94.030</td>\n",
       "      <td>90.430</td>\n",
       "      <td>91.20</td>\n",
       "      <td>91.20</td>\n",
       "      <td>28298800</td>\n",
       "      <td>December</td>\n",
       "      <td>Thursday</td>\n",
       "      <td>4</td>\n",
       "    </tr>\n",
       "    <tr>\n",
       "      <th>2022-12-19</th>\n",
       "      <td>90.880</td>\n",
       "      <td>91.200</td>\n",
       "      <td>88.925</td>\n",
       "      <td>89.15</td>\n",
       "      <td>89.15</td>\n",
       "      <td>23020500</td>\n",
       "      <td>December</td>\n",
       "      <td>Monday</td>\n",
       "      <td>4</td>\n",
       "    </tr>\n",
       "    <tr>\n",
       "      <th>2022-12-21</th>\n",
       "      <td>89.730</td>\n",
       "      <td>90.915</td>\n",
       "      <td>88.910</td>\n",
       "      <td>90.25</td>\n",
       "      <td>90.25</td>\n",
       "      <td>20336400</td>\n",
       "      <td>December</td>\n",
       "      <td>Wednesday</td>\n",
       "      <td>4</td>\n",
       "    </tr>\n",
       "    <tr>\n",
       "      <th>2022-12-23</th>\n",
       "      <td>87.620</td>\n",
       "      <td>90.100</td>\n",
       "      <td>87.620</td>\n",
       "      <td>89.81</td>\n",
       "      <td>89.81</td>\n",
       "      <td>17815000</td>\n",
       "      <td>December</td>\n",
       "      <td>Friday</td>\n",
       "      <td>4</td>\n",
       "    </tr>\n",
       "    <tr>\n",
       "      <th>2022-12-28</th>\n",
       "      <td>87.500</td>\n",
       "      <td>88.520</td>\n",
       "      <td>86.370</td>\n",
       "      <td>86.46</td>\n",
       "      <td>86.46</td>\n",
       "      <td>17879600</td>\n",
       "      <td>December</td>\n",
       "      <td>Wednesday</td>\n",
       "      <td>4</td>\n",
       "    </tr>\n",
       "    <tr>\n",
       "      <th>2022-12-30</th>\n",
       "      <td>87.365</td>\n",
       "      <td>88.830</td>\n",
       "      <td>87.030</td>\n",
       "      <td>88.73</td>\n",
       "      <td>88.73</td>\n",
       "      <td>19190300</td>\n",
       "      <td>December</td>\n",
       "      <td>Friday</td>\n",
       "      <td>4</td>\n",
       "    </tr>\n",
       "  </tbody>\n",
       "</table>\n",
       "</div>"
      ],
      "text/plain": [
       "              Open    High     Low  Close  Adj Close    Volume month_name  \\\n",
       "Date                                                                        \n",
       "2022-12-15  93.540  94.030  90.430  91.20      91.20  28298800   December   \n",
       "2022-12-19  90.880  91.200  88.925  89.15      89.15  23020500   December   \n",
       "2022-12-21  89.730  90.915  88.910  90.25      90.25  20336400   December   \n",
       "2022-12-23  87.620  90.100  87.620  89.81      89.81  17815000   December   \n",
       "2022-12-28  87.500  88.520  86.370  86.46      86.46  17879600   December   \n",
       "2022-12-30  87.365  88.830  87.030  88.73      88.73  19190300   December   \n",
       "\n",
       "             day_name  quarter  \n",
       "Date                            \n",
       "2022-12-15   Thursday        4  \n",
       "2022-12-19     Monday        4  \n",
       "2022-12-21  Wednesday        4  \n",
       "2022-12-23     Friday        4  \n",
       "2022-12-28  Wednesday        4  \n",
       "2022-12-30     Friday        4  "
      ]
     },
     "execution_count": 174,
     "metadata": {},
     "output_type": "execute_result"
    }
   ],
   "source": [
    "# slicing\n",
    "df.loc['2022-12-15':'2023-1-1':2].round(3)"
   ]
  },
  {
   "cell_type": "code",
   "execution_count": 175,
   "metadata": {},
   "outputs": [
    {
     "data": {
      "application/vnd.microsoft.datawrangler.viewer.v0+json": {
       "columns": [
        {
         "name": "day_name",
         "rawType": "object",
         "type": "string"
        },
        {
         "name": "Open",
         "rawType": "int64",
         "type": "integer"
        },
        {
         "name": "High",
         "rawType": "int64",
         "type": "integer"
        },
        {
         "name": "Low",
         "rawType": "int64",
         "type": "integer"
        },
        {
         "name": "Close",
         "rawType": "int64",
         "type": "integer"
        },
        {
         "name": "Adj Close",
         "rawType": "int64",
         "type": "integer"
        },
        {
         "name": "Volume",
         "rawType": "int64",
         "type": "integer"
        },
        {
         "name": "month_name",
         "rawType": "int64",
         "type": "integer"
        },
        {
         "name": "quarter",
         "rawType": "int64",
         "type": "integer"
        }
       ],
       "conversionMethod": "pd.DataFrame",
       "ref": "2dc0ba55-8ebf-4473-b1df-2ba23133acf3",
       "rows": [
        [
         "Friday",
         "974",
         "974",
         "974",
         "974",
         "974",
         "974",
         "974",
         "974"
        ],
        [
         "Monday",
         "909",
         "909",
         "909",
         "909",
         "909",
         "909",
         "909",
         "909"
        ],
        [
         "Thursday",
         "981",
         "981",
         "981",
         "981",
         "981",
         "981",
         "981",
         "981"
        ],
        [
         "Tuesday",
         "996",
         "996",
         "996",
         "996",
         "996",
         "996",
         "996",
         "996"
        ],
        [
         "Wednesday",
         "998",
         "998",
         "998",
         "998",
         "998",
         "998",
         "998",
         "998"
        ]
       ],
       "shape": {
        "columns": 8,
        "rows": 5
       }
      },
      "text/html": [
       "<div>\n",
       "<style scoped>\n",
       "    .dataframe tbody tr th:only-of-type {\n",
       "        vertical-align: middle;\n",
       "    }\n",
       "\n",
       "    .dataframe tbody tr th {\n",
       "        vertical-align: top;\n",
       "    }\n",
       "\n",
       "    .dataframe thead th {\n",
       "        text-align: right;\n",
       "    }\n",
       "</style>\n",
       "<table border=\"1\" class=\"dataframe\">\n",
       "  <thead>\n",
       "    <tr style=\"text-align: right;\">\n",
       "      <th></th>\n",
       "      <th>Open</th>\n",
       "      <th>High</th>\n",
       "      <th>Low</th>\n",
       "      <th>Close</th>\n",
       "      <th>Adj Close</th>\n",
       "      <th>Volume</th>\n",
       "      <th>month_name</th>\n",
       "      <th>quarter</th>\n",
       "    </tr>\n",
       "    <tr>\n",
       "      <th>day_name</th>\n",
       "      <th></th>\n",
       "      <th></th>\n",
       "      <th></th>\n",
       "      <th></th>\n",
       "      <th></th>\n",
       "      <th></th>\n",
       "      <th></th>\n",
       "      <th></th>\n",
       "    </tr>\n",
       "  </thead>\n",
       "  <tbody>\n",
       "    <tr>\n",
       "      <th>Friday</th>\n",
       "      <td>974</td>\n",
       "      <td>974</td>\n",
       "      <td>974</td>\n",
       "      <td>974</td>\n",
       "      <td>974</td>\n",
       "      <td>974</td>\n",
       "      <td>974</td>\n",
       "      <td>974</td>\n",
       "    </tr>\n",
       "    <tr>\n",
       "      <th>Monday</th>\n",
       "      <td>909</td>\n",
       "      <td>909</td>\n",
       "      <td>909</td>\n",
       "      <td>909</td>\n",
       "      <td>909</td>\n",
       "      <td>909</td>\n",
       "      <td>909</td>\n",
       "      <td>909</td>\n",
       "    </tr>\n",
       "    <tr>\n",
       "      <th>Thursday</th>\n",
       "      <td>981</td>\n",
       "      <td>981</td>\n",
       "      <td>981</td>\n",
       "      <td>981</td>\n",
       "      <td>981</td>\n",
       "      <td>981</td>\n",
       "      <td>981</td>\n",
       "      <td>981</td>\n",
       "    </tr>\n",
       "    <tr>\n",
       "      <th>Tuesday</th>\n",
       "      <td>996</td>\n",
       "      <td>996</td>\n",
       "      <td>996</td>\n",
       "      <td>996</td>\n",
       "      <td>996</td>\n",
       "      <td>996</td>\n",
       "      <td>996</td>\n",
       "      <td>996</td>\n",
       "    </tr>\n",
       "    <tr>\n",
       "      <th>Wednesday</th>\n",
       "      <td>998</td>\n",
       "      <td>998</td>\n",
       "      <td>998</td>\n",
       "      <td>998</td>\n",
       "      <td>998</td>\n",
       "      <td>998</td>\n",
       "      <td>998</td>\n",
       "      <td>998</td>\n",
       "    </tr>\n",
       "  </tbody>\n",
       "</table>\n",
       "</div>"
      ],
      "text/plain": [
       "           Open  High  Low  Close  Adj Close  Volume  month_name  quarter\n",
       "day_name                                                                 \n",
       "Friday      974   974  974    974        974     974         974      974\n",
       "Monday      909   909  909    909        909     909         909      909\n",
       "Thursday    981   981  981    981        981     981         981      981\n",
       "Tuesday     996   996  996    996        996     996         996      996\n",
       "Wednesday   998   998  998    998        998     998         998      998"
      ]
     },
     "execution_count": 175,
     "metadata": {},
     "output_type": "execute_result"
    }
   ],
   "source": [
    "df.groupby(['day_name']).count()"
   ]
  },
  {
   "cell_type": "code",
   "execution_count": 176,
   "metadata": {},
   "outputs": [
    {
     "data": {
      "application/vnd.microsoft.datawrangler.viewer.v0+json": {
       "columns": [
        {
         "name": "month_name",
         "rawType": "object",
         "type": "string"
        },
        {
         "name": "Open",
         "rawType": "int64",
         "type": "integer"
        },
        {
         "name": "High",
         "rawType": "int64",
         "type": "integer"
        },
        {
         "name": "Low",
         "rawType": "int64",
         "type": "integer"
        },
        {
         "name": "Close",
         "rawType": "int64",
         "type": "integer"
        },
        {
         "name": "Adj Close",
         "rawType": "int64",
         "type": "integer"
        },
        {
         "name": "Volume",
         "rawType": "int64",
         "type": "integer"
        },
        {
         "name": "day_name",
         "rawType": "int64",
         "type": "integer"
        },
        {
         "name": "quarter",
         "rawType": "int64",
         "type": "integer"
        }
       ],
       "conversionMethod": "pd.DataFrame",
       "ref": "3304e783-b1ed-4deb-86bf-96e5c7d39477",
       "rows": [
        [
         "April",
         "391",
         "391",
         "391",
         "391",
         "391",
         "391",
         "391",
         "391"
        ],
        [
         "August",
         "432",
         "432",
         "432",
         "432",
         "432",
         "432",
         "432",
         "432"
        ],
        [
         "December",
         "404",
         "404",
         "404",
         "404",
         "404",
         "404",
         "404",
         "404"
        ],
        [
         "February",
         "364",
         "364",
         "364",
         "364",
         "364",
         "364",
         "364",
         "364"
        ],
        [
         "January",
         "383",
         "383",
         "383",
         "383",
         "383",
         "383",
         "383",
         "383"
        ],
        [
         "July",
         "399",
         "399",
         "399",
         "399",
         "399",
         "399",
         "399",
         "399"
        ],
        [
         "June",
         "407",
         "407",
         "407",
         "407",
         "407",
         "407",
         "407",
         "407"
        ],
        [
         "March",
         "418",
         "418",
         "418",
         "418",
         "418",
         "418",
         "418",
         "418"
        ],
        [
         "May",
         "402",
         "402",
         "402",
         "402",
         "402",
         "402",
         "402",
         "402"
        ],
        [
         "November",
         "411",
         "411",
         "411",
         "411",
         "411",
         "411",
         "411",
         "411"
        ],
        [
         "October",
         "438",
         "438",
         "438",
         "438",
         "438",
         "438",
         "438",
         "438"
        ],
        [
         "September",
         "409",
         "409",
         "409",
         "409",
         "409",
         "409",
         "409",
         "409"
        ]
       ],
       "shape": {
        "columns": 8,
        "rows": 12
       }
      },
      "text/html": [
       "<div>\n",
       "<style scoped>\n",
       "    .dataframe tbody tr th:only-of-type {\n",
       "        vertical-align: middle;\n",
       "    }\n",
       "\n",
       "    .dataframe tbody tr th {\n",
       "        vertical-align: top;\n",
       "    }\n",
       "\n",
       "    .dataframe thead th {\n",
       "        text-align: right;\n",
       "    }\n",
       "</style>\n",
       "<table border=\"1\" class=\"dataframe\">\n",
       "  <thead>\n",
       "    <tr style=\"text-align: right;\">\n",
       "      <th></th>\n",
       "      <th>Open</th>\n",
       "      <th>High</th>\n",
       "      <th>Low</th>\n",
       "      <th>Close</th>\n",
       "      <th>Adj Close</th>\n",
       "      <th>Volume</th>\n",
       "      <th>day_name</th>\n",
       "      <th>quarter</th>\n",
       "    </tr>\n",
       "    <tr>\n",
       "      <th>month_name</th>\n",
       "      <th></th>\n",
       "      <th></th>\n",
       "      <th></th>\n",
       "      <th></th>\n",
       "      <th></th>\n",
       "      <th></th>\n",
       "      <th></th>\n",
       "      <th></th>\n",
       "    </tr>\n",
       "  </thead>\n",
       "  <tbody>\n",
       "    <tr>\n",
       "      <th>April</th>\n",
       "      <td>391</td>\n",
       "      <td>391</td>\n",
       "      <td>391</td>\n",
       "      <td>391</td>\n",
       "      <td>391</td>\n",
       "      <td>391</td>\n",
       "      <td>391</td>\n",
       "      <td>391</td>\n",
       "    </tr>\n",
       "    <tr>\n",
       "      <th>August</th>\n",
       "      <td>432</td>\n",
       "      <td>432</td>\n",
       "      <td>432</td>\n",
       "      <td>432</td>\n",
       "      <td>432</td>\n",
       "      <td>432</td>\n",
       "      <td>432</td>\n",
       "      <td>432</td>\n",
       "    </tr>\n",
       "    <tr>\n",
       "      <th>December</th>\n",
       "      <td>404</td>\n",
       "      <td>404</td>\n",
       "      <td>404</td>\n",
       "      <td>404</td>\n",
       "      <td>404</td>\n",
       "      <td>404</td>\n",
       "      <td>404</td>\n",
       "      <td>404</td>\n",
       "    </tr>\n",
       "    <tr>\n",
       "      <th>February</th>\n",
       "      <td>364</td>\n",
       "      <td>364</td>\n",
       "      <td>364</td>\n",
       "      <td>364</td>\n",
       "      <td>364</td>\n",
       "      <td>364</td>\n",
       "      <td>364</td>\n",
       "      <td>364</td>\n",
       "    </tr>\n",
       "    <tr>\n",
       "      <th>January</th>\n",
       "      <td>383</td>\n",
       "      <td>383</td>\n",
       "      <td>383</td>\n",
       "      <td>383</td>\n",
       "      <td>383</td>\n",
       "      <td>383</td>\n",
       "      <td>383</td>\n",
       "      <td>383</td>\n",
       "    </tr>\n",
       "    <tr>\n",
       "      <th>July</th>\n",
       "      <td>399</td>\n",
       "      <td>399</td>\n",
       "      <td>399</td>\n",
       "      <td>399</td>\n",
       "      <td>399</td>\n",
       "      <td>399</td>\n",
       "      <td>399</td>\n",
       "      <td>399</td>\n",
       "    </tr>\n",
       "    <tr>\n",
       "      <th>June</th>\n",
       "      <td>407</td>\n",
       "      <td>407</td>\n",
       "      <td>407</td>\n",
       "      <td>407</td>\n",
       "      <td>407</td>\n",
       "      <td>407</td>\n",
       "      <td>407</td>\n",
       "      <td>407</td>\n",
       "    </tr>\n",
       "    <tr>\n",
       "      <th>March</th>\n",
       "      <td>418</td>\n",
       "      <td>418</td>\n",
       "      <td>418</td>\n",
       "      <td>418</td>\n",
       "      <td>418</td>\n",
       "      <td>418</td>\n",
       "      <td>418</td>\n",
       "      <td>418</td>\n",
       "    </tr>\n",
       "    <tr>\n",
       "      <th>May</th>\n",
       "      <td>402</td>\n",
       "      <td>402</td>\n",
       "      <td>402</td>\n",
       "      <td>402</td>\n",
       "      <td>402</td>\n",
       "      <td>402</td>\n",
       "      <td>402</td>\n",
       "      <td>402</td>\n",
       "    </tr>\n",
       "    <tr>\n",
       "      <th>November</th>\n",
       "      <td>411</td>\n",
       "      <td>411</td>\n",
       "      <td>411</td>\n",
       "      <td>411</td>\n",
       "      <td>411</td>\n",
       "      <td>411</td>\n",
       "      <td>411</td>\n",
       "      <td>411</td>\n",
       "    </tr>\n",
       "    <tr>\n",
       "      <th>October</th>\n",
       "      <td>438</td>\n",
       "      <td>438</td>\n",
       "      <td>438</td>\n",
       "      <td>438</td>\n",
       "      <td>438</td>\n",
       "      <td>438</td>\n",
       "      <td>438</td>\n",
       "      <td>438</td>\n",
       "    </tr>\n",
       "    <tr>\n",
       "      <th>September</th>\n",
       "      <td>409</td>\n",
       "      <td>409</td>\n",
       "      <td>409</td>\n",
       "      <td>409</td>\n",
       "      <td>409</td>\n",
       "      <td>409</td>\n",
       "      <td>409</td>\n",
       "      <td>409</td>\n",
       "    </tr>\n",
       "  </tbody>\n",
       "</table>\n",
       "</div>"
      ],
      "text/plain": [
       "            Open  High  Low  Close  Adj Close  Volume  day_name  quarter\n",
       "month_name                                                              \n",
       "April        391   391  391    391        391     391       391      391\n",
       "August       432   432  432    432        432     432       432      432\n",
       "December     404   404  404    404        404     404       404      404\n",
       "February     364   364  364    364        364     364       364      364\n",
       "January      383   383  383    383        383     383       383      383\n",
       "July         399   399  399    399        399     399       399      399\n",
       "June         407   407  407    407        407     407       407      407\n",
       "March        418   418  418    418        418     418       418      418\n",
       "May          402   402  402    402        402     402       402      402\n",
       "November     411   411  411    411        411     411       411      411\n",
       "October      438   438  438    438        438     438       438      438\n",
       "September    409   409  409    409        409     409       409      409"
      ]
     },
     "execution_count": 176,
     "metadata": {},
     "output_type": "execute_result"
    }
   ],
   "source": [
    "df.groupby(['month_name'],).count()"
   ]
  },
  {
   "cell_type": "code",
   "execution_count": 177,
   "metadata": {},
   "outputs": [
    {
     "data": {
      "application/vnd.microsoft.datawrangler.viewer.v0+json": {
       "columns": [
        {
         "name": "Date",
         "rawType": "datetime64[ns]",
         "type": "datetime"
        },
        {
         "name": "Open",
         "rawType": "float64",
         "type": "float"
        },
        {
         "name": "High",
         "rawType": "float64",
         "type": "float"
        },
        {
         "name": "Low",
         "rawType": "float64",
         "type": "float"
        },
        {
         "name": "Close",
         "rawType": "float64",
         "type": "float"
        },
        {
         "name": "Adj Close",
         "rawType": "float64",
         "type": "float"
        },
        {
         "name": "Volume",
         "rawType": "int64",
         "type": "integer"
        },
        {
         "name": "month_name",
         "rawType": "object",
         "type": "string"
        },
        {
         "name": "day_name",
         "rawType": "object",
         "type": "string"
        },
        {
         "name": "quarter",
         "rawType": "int32",
         "type": "integer"
        }
       ],
       "conversionMethod": "pd.DataFrame",
       "ref": "ae5b88e1-b37f-4f4d-8a79-2d8831248cf0",
       "rows": [
        [
         "2005-01-06 00:00:00",
         "4.858788",
         "4.879212",
         "4.675475",
         "4.696148",
         "4.696148",
         "417041336",
         "January",
         "Thursday",
         "1"
        ],
        [
         "2006-01-06 00:00:00",
         "11.379098",
         "11.718576",
         "11.288687",
         "11.598028",
         "11.598028",
         "712938289",
         "January",
         "Friday",
         "1"
        ],
        [
         "2009-01-06 00:00:00",
         "8.293414",
         "8.488184",
         "8.129279",
         "8.320313",
         "8.320313",
         "257971329",
         "January",
         "Tuesday",
         "1"
        ],
        [
         "2010-01-06 00:00:00",
         "15.588072",
         "15.588072",
         "15.102393",
         "15.149715",
         "15.149715",
         "159744526",
         "January",
         "Wednesday",
         "1"
        ],
        [
         "2011-01-06 00:00:00",
         "15.209989",
         "15.403016",
         "15.194298",
         "15.280226",
         "15.280226",
         "82620526",
         "January",
         "Thursday",
         "1"
        ],
        [
         "2012-01-06 00:00:00",
         "16.417213",
         "16.438385",
         "16.184088",
         "16.189817",
         "16.189817",
         "108119746",
         "January",
         "Friday",
         "1"
        ],
        [
         "2014-01-06 00:00:00",
         "27.721344",
         "27.867046",
         "27.557707",
         "27.828691",
         "27.828691",
         "71037271",
         "January",
         "Monday",
         "1"
        ],
        [
         "2015-01-06 00:00:00",
         "25.679497",
         "25.738087",
         "24.983908",
         "25.029282",
         "25.029282",
         "57998800",
         "January",
         "Tuesday",
         "1"
        ],
        [
         "2016-01-06 00:00:00",
         "36.5",
         "37.359001",
         "36.445999",
         "37.181",
         "37.181",
         "38940000",
         "January",
         "Wednesday",
         "1"
        ],
        [
         "2017-01-06 00:00:00",
         "39.763",
         "40.395",
         "39.610199",
         "40.307499",
         "40.307499",
         "32804000",
         "January",
         "Friday",
         "1"
        ],
        [
         "2020-01-06 00:00:00",
         "67.5",
         "69.824997",
         "67.5",
         "69.710503",
         "69.710503",
         "34646000",
         "January",
         "Monday",
         "1"
        ],
        [
         "2021-01-06 00:00:00",
         "85.1315",
         "87.400002",
         "84.949997",
         "86.764503",
         "86.764503",
         "52042000",
         "January",
         "Wednesday",
         "1"
        ],
        [
         "2022-01-06 00:00:00",
         "137.497498",
         "139.686005",
         "136.763504",
         "137.550995",
         "137.550995",
         "29050000",
         "January",
         "Thursday",
         "1"
        ],
        [
         "2023-01-06 00:00:00",
         "87.360001",
         "88.470001",
         "85.57",
         "88.160004",
         "88.160004",
         "26612600",
         "January",
         "Friday",
         "1"
        ]
       ],
       "shape": {
        "columns": 9,
        "rows": 14
       }
      },
      "text/html": [
       "<div>\n",
       "<style scoped>\n",
       "    .dataframe tbody tr th:only-of-type {\n",
       "        vertical-align: middle;\n",
       "    }\n",
       "\n",
       "    .dataframe tbody tr th {\n",
       "        vertical-align: top;\n",
       "    }\n",
       "\n",
       "    .dataframe thead th {\n",
       "        text-align: right;\n",
       "    }\n",
       "</style>\n",
       "<table border=\"1\" class=\"dataframe\">\n",
       "  <thead>\n",
       "    <tr style=\"text-align: right;\">\n",
       "      <th></th>\n",
       "      <th>Open</th>\n",
       "      <th>High</th>\n",
       "      <th>Low</th>\n",
       "      <th>Close</th>\n",
       "      <th>Adj Close</th>\n",
       "      <th>Volume</th>\n",
       "      <th>month_name</th>\n",
       "      <th>day_name</th>\n",
       "      <th>quarter</th>\n",
       "    </tr>\n",
       "    <tr>\n",
       "      <th>Date</th>\n",
       "      <th></th>\n",
       "      <th></th>\n",
       "      <th></th>\n",
       "      <th></th>\n",
       "      <th></th>\n",
       "      <th></th>\n",
       "      <th></th>\n",
       "      <th></th>\n",
       "      <th></th>\n",
       "    </tr>\n",
       "  </thead>\n",
       "  <tbody>\n",
       "    <tr>\n",
       "      <th>2005-01-06</th>\n",
       "      <td>4.858788</td>\n",
       "      <td>4.879212</td>\n",
       "      <td>4.675475</td>\n",
       "      <td>4.696148</td>\n",
       "      <td>4.696148</td>\n",
       "      <td>417041336</td>\n",
       "      <td>January</td>\n",
       "      <td>Thursday</td>\n",
       "      <td>1</td>\n",
       "    </tr>\n",
       "    <tr>\n",
       "      <th>2006-01-06</th>\n",
       "      <td>11.379098</td>\n",
       "      <td>11.718576</td>\n",
       "      <td>11.288687</td>\n",
       "      <td>11.598028</td>\n",
       "      <td>11.598028</td>\n",
       "      <td>712938289</td>\n",
       "      <td>January</td>\n",
       "      <td>Friday</td>\n",
       "      <td>1</td>\n",
       "    </tr>\n",
       "    <tr>\n",
       "      <th>2009-01-06</th>\n",
       "      <td>8.293414</td>\n",
       "      <td>8.488184</td>\n",
       "      <td>8.129279</td>\n",
       "      <td>8.320313</td>\n",
       "      <td>8.320313</td>\n",
       "      <td>257971329</td>\n",
       "      <td>January</td>\n",
       "      <td>Tuesday</td>\n",
       "      <td>1</td>\n",
       "    </tr>\n",
       "    <tr>\n",
       "      <th>2010-01-06</th>\n",
       "      <td>15.588072</td>\n",
       "      <td>15.588072</td>\n",
       "      <td>15.102393</td>\n",
       "      <td>15.149715</td>\n",
       "      <td>15.149715</td>\n",
       "      <td>159744526</td>\n",
       "      <td>January</td>\n",
       "      <td>Wednesday</td>\n",
       "      <td>1</td>\n",
       "    </tr>\n",
       "    <tr>\n",
       "      <th>2011-01-06</th>\n",
       "      <td>15.209989</td>\n",
       "      <td>15.403016</td>\n",
       "      <td>15.194298</td>\n",
       "      <td>15.280226</td>\n",
       "      <td>15.280226</td>\n",
       "      <td>82620526</td>\n",
       "      <td>January</td>\n",
       "      <td>Thursday</td>\n",
       "      <td>1</td>\n",
       "    </tr>\n",
       "    <tr>\n",
       "      <th>2012-01-06</th>\n",
       "      <td>16.417213</td>\n",
       "      <td>16.438385</td>\n",
       "      <td>16.184088</td>\n",
       "      <td>16.189817</td>\n",
       "      <td>16.189817</td>\n",
       "      <td>108119746</td>\n",
       "      <td>January</td>\n",
       "      <td>Friday</td>\n",
       "      <td>1</td>\n",
       "    </tr>\n",
       "    <tr>\n",
       "      <th>2014-01-06</th>\n",
       "      <td>27.721344</td>\n",
       "      <td>27.867046</td>\n",
       "      <td>27.557707</td>\n",
       "      <td>27.828691</td>\n",
       "      <td>27.828691</td>\n",
       "      <td>71037271</td>\n",
       "      <td>January</td>\n",
       "      <td>Monday</td>\n",
       "      <td>1</td>\n",
       "    </tr>\n",
       "    <tr>\n",
       "      <th>2015-01-06</th>\n",
       "      <td>25.679497</td>\n",
       "      <td>25.738087</td>\n",
       "      <td>24.983908</td>\n",
       "      <td>25.029282</td>\n",
       "      <td>25.029282</td>\n",
       "      <td>57998800</td>\n",
       "      <td>January</td>\n",
       "      <td>Tuesday</td>\n",
       "      <td>1</td>\n",
       "    </tr>\n",
       "    <tr>\n",
       "      <th>2016-01-06</th>\n",
       "      <td>36.500000</td>\n",
       "      <td>37.359001</td>\n",
       "      <td>36.445999</td>\n",
       "      <td>37.181000</td>\n",
       "      <td>37.181000</td>\n",
       "      <td>38940000</td>\n",
       "      <td>January</td>\n",
       "      <td>Wednesday</td>\n",
       "      <td>1</td>\n",
       "    </tr>\n",
       "    <tr>\n",
       "      <th>2017-01-06</th>\n",
       "      <td>39.763000</td>\n",
       "      <td>40.395000</td>\n",
       "      <td>39.610199</td>\n",
       "      <td>40.307499</td>\n",
       "      <td>40.307499</td>\n",
       "      <td>32804000</td>\n",
       "      <td>January</td>\n",
       "      <td>Friday</td>\n",
       "      <td>1</td>\n",
       "    </tr>\n",
       "    <tr>\n",
       "      <th>2020-01-06</th>\n",
       "      <td>67.500000</td>\n",
       "      <td>69.824997</td>\n",
       "      <td>67.500000</td>\n",
       "      <td>69.710503</td>\n",
       "      <td>69.710503</td>\n",
       "      <td>34646000</td>\n",
       "      <td>January</td>\n",
       "      <td>Monday</td>\n",
       "      <td>1</td>\n",
       "    </tr>\n",
       "    <tr>\n",
       "      <th>2021-01-06</th>\n",
       "      <td>85.131500</td>\n",
       "      <td>87.400002</td>\n",
       "      <td>84.949997</td>\n",
       "      <td>86.764503</td>\n",
       "      <td>86.764503</td>\n",
       "      <td>52042000</td>\n",
       "      <td>January</td>\n",
       "      <td>Wednesday</td>\n",
       "      <td>1</td>\n",
       "    </tr>\n",
       "    <tr>\n",
       "      <th>2022-01-06</th>\n",
       "      <td>137.497498</td>\n",
       "      <td>139.686005</td>\n",
       "      <td>136.763504</td>\n",
       "      <td>137.550995</td>\n",
       "      <td>137.550995</td>\n",
       "      <td>29050000</td>\n",
       "      <td>January</td>\n",
       "      <td>Thursday</td>\n",
       "      <td>1</td>\n",
       "    </tr>\n",
       "    <tr>\n",
       "      <th>2023-01-06</th>\n",
       "      <td>87.360001</td>\n",
       "      <td>88.470001</td>\n",
       "      <td>85.570000</td>\n",
       "      <td>88.160004</td>\n",
       "      <td>88.160004</td>\n",
       "      <td>26612600</td>\n",
       "      <td>January</td>\n",
       "      <td>Friday</td>\n",
       "      <td>1</td>\n",
       "    </tr>\n",
       "  </tbody>\n",
       "</table>\n",
       "</div>"
      ],
      "text/plain": [
       "                  Open        High         Low       Close   Adj Close  \\\n",
       "Date                                                                     \n",
       "2005-01-06    4.858788    4.879212    4.675475    4.696148    4.696148   \n",
       "2006-01-06   11.379098   11.718576   11.288687   11.598028   11.598028   \n",
       "2009-01-06    8.293414    8.488184    8.129279    8.320313    8.320313   \n",
       "2010-01-06   15.588072   15.588072   15.102393   15.149715   15.149715   \n",
       "2011-01-06   15.209989   15.403016   15.194298   15.280226   15.280226   \n",
       "2012-01-06   16.417213   16.438385   16.184088   16.189817   16.189817   \n",
       "2014-01-06   27.721344   27.867046   27.557707   27.828691   27.828691   \n",
       "2015-01-06   25.679497   25.738087   24.983908   25.029282   25.029282   \n",
       "2016-01-06   36.500000   37.359001   36.445999   37.181000   37.181000   \n",
       "2017-01-06   39.763000   40.395000   39.610199   40.307499   40.307499   \n",
       "2020-01-06   67.500000   69.824997   67.500000   69.710503   69.710503   \n",
       "2021-01-06   85.131500   87.400002   84.949997   86.764503   86.764503   \n",
       "2022-01-06  137.497498  139.686005  136.763504  137.550995  137.550995   \n",
       "2023-01-06   87.360001   88.470001   85.570000   88.160004   88.160004   \n",
       "\n",
       "               Volume month_name   day_name  quarter  \n",
       "Date                                                  \n",
       "2005-01-06  417041336    January   Thursday        1  \n",
       "2006-01-06  712938289    January     Friday        1  \n",
       "2009-01-06  257971329    January    Tuesday        1  \n",
       "2010-01-06  159744526    January  Wednesday        1  \n",
       "2011-01-06   82620526    January   Thursday        1  \n",
       "2012-01-06  108119746    January     Friday        1  \n",
       "2014-01-06   71037271    January     Monday        1  \n",
       "2015-01-06   57998800    January    Tuesday        1  \n",
       "2016-01-06   38940000    January  Wednesday        1  \n",
       "2017-01-06   32804000    January     Friday        1  \n",
       "2020-01-06   34646000    January     Monday        1  \n",
       "2021-01-06   52042000    January  Wednesday        1  \n",
       "2022-01-06   29050000    January   Thursday        1  \n",
       "2023-01-06   26612600    January     Friday        1  "
      ]
     },
     "execution_count": 177,
     "metadata": {},
     "output_type": "execute_result"
    }
   ],
   "source": [
    "# challenge -> fetch info for a particular date every year -> limitation of timedelta\n",
    "df[df.index.isin(pd.date_range(start='2005-1-6',end='2024-1-6',freq=pd.DateOffset(years=1)))]"
   ]
  },
  {
   "cell_type": "code",
   "execution_count": 178,
   "metadata": {},
   "outputs": [
    {
     "data": {
      "text/plain": [
       "<Axes: xlabel='Date'>"
      ]
     },
     "execution_count": 178,
     "metadata": {},
     "output_type": "execute_result"
    },
    {
     "data": {
      "image/png": "[encoded data removed]",
      "text/plain": [
       "<Figure size 640x480 with 1 Axes>"
      ]
     },
     "metadata": {},
     "output_type": "display_data"
    }
   ],
   "source": [
    "# viz a single col\n",
    "df['High'].plot()"
   ]
  },
  {
   "cell_type": "code",
   "execution_count": 179,
   "metadata": {},
   "outputs": [
    {
     "data": {
      "text/plain": [
       "<Axes: xlabel='Date'>"
      ]
     },
     "execution_count": 179,
     "metadata": {},
     "output_type": "execute_result"
    },
    {
     "data": {
      "image/png": "[encoded data removed]",
      "text/plain": [
       "<Figure size 640x480 with 1 Axes>"
      ]
     },
     "metadata": {},
     "output_type": "display_data"
    }
   ],
   "source": [
    "df['Low'].plot()"
   ]
  },
  {
   "cell_type": "code",
   "execution_count": 180,
   "metadata": {},
   "outputs": [
    {
     "data": {
      "text/plain": [
       "<Axes: xlabel='Date'>"
      ]
     },
     "execution_count": 180,
     "metadata": {},
     "output_type": "execute_result"
    },
    {
     "data": {
      "image/png": "[encoded data removed]",
      "text/plain": [
       "<Figure size 640x480 with 1 Axes>"
      ]
     },
     "metadata": {},
     "output_type": "display_data"
    }
   ],
   "source": [
    "# viz a single col\n",
    "df['Volume'].plot()"
   ]
  },
  {
   "cell_type": "code",
   "execution_count": 181,
   "metadata": {},
   "outputs": [
    {
     "name": "stdout",
     "output_type": "stream",
     "text": [
      "<class 'pandas.core.frame.DataFrame'>\n",
      "DatetimeIndex: 4858 entries, 2004-08-19 to 2023-12-05\n",
      "Data columns (total 9 columns):\n",
      " #   Column      Non-Null Count  Dtype  \n",
      "---  ------      --------------  -----  \n",
      " 0   Open        4858 non-null   float64\n",
      " 1   High        4858 non-null   float64\n",
      " 2   Low         4858 non-null   float64\n",
      " 3   Close       4858 non-null   float64\n",
      " 4   Adj Close   4858 non-null   float64\n",
      " 5   Volume      4858 non-null   int64  \n",
      " 6   month_name  4858 non-null   object \n",
      " 7   day_name    4858 non-null   object \n",
      " 8   quarter     4858 non-null   int32  \n",
      "dtypes: float64(5), int32(1), int64(1), object(2)\n",
      "memory usage: 489.6+ KB\n"
     ]
    }
   ],
   "source": [
    "df.info()"
   ]
  },
  {
   "cell_type": "code",
   "execution_count": 182,
   "metadata": {},
   "outputs": [
    {
     "data": {
      "image/png": "[encoded data removed]",
      "text/plain": [
       "<Figure size 2000x1000 with 6 Axes>"
      ]
     },
     "metadata": {},
     "output_type": "display_data"
    }
   ],
   "source": [
    "# viz all cols together\n",
    "temp_df = df[['Open', 'High', 'Low', 'Close','Volume']]\n",
    "ax = temp_df.plot(subplots=True,\n",
    "                    layout=(2, 3),\n",
    "                     sharex=False,\n",
    "                     sharey=False,\n",
    "                     linewidth=0.7,\n",
    "                     fontsize=10,\n",
    "                     legend=False,\n",
    "                      figsize=(20,10),\n",
    "                      title=['Open', 'High', 'Low', 'Close','Volume'])"
   ]
  },
  {
   "cell_type": "code",
   "execution_count": 183,
   "metadata": {},
   "outputs": [
    {
     "data": {
      "text/plain": [
       "<Axes: xlabel='Date'>"
      ]
     },
     "execution_count": 183,
     "metadata": {},
     "output_type": "execute_result"
    },
    {
     "data": {
      "image/png": "[encoded data removed]",
      "text/plain": [
       "<Figure size 640x480 with 1 Axes>"
      ]
     },
     "metadata": {},
     "output_type": "display_data"
    }
   ],
   "source": [
    "# plot for a particular year/month/week\n",
    "df.loc['2022-12']['High'].plot()"
   ]
  },
  {
   "cell_type": "code",
   "execution_count": 184,
   "metadata": {},
   "outputs": [
    {
     "data": {
      "text/plain": [
       "<Axes: xlabel='month_name'>"
      ]
     },
     "execution_count": 184,
     "metadata": {},
     "output_type": "execute_result"
    },
    {
     "data": {
      "image/png": "[encoded data removed]",
      "text/plain": [
       "<Figure size 640x480 with 1 Axes>"
      ]
     },
     "metadata": {},
     "output_type": "display_data"
    }
   ],
   "source": [
    "# monthly trend\n",
    "df.groupby('month_name')['High'].mean().plot(kind='bar')"
   ]
  },
  {
   "cell_type": "code",
   "execution_count": 185,
   "metadata": {},
   "outputs": [
    {
     "data": {
      "text/plain": [
       "<Axes: xlabel='quarter'>"
      ]
     },
     "execution_count": 185,
     "metadata": {},
     "output_type": "execute_result"
    },
    {
     "data": {
      "image/png": "[encoded data removed]",
      "text/plain": [
       "<Figure size 640x480 with 1 Axes>"
      ]
     },
     "metadata": {},
     "output_type": "display_data"
    }
   ],
   "source": [
    "# quaterly trend\n",
    "df.groupby('quarter')['Close'].mean().plot(kind='bar')"
   ]
  },
  {
   "cell_type": "code",
   "execution_count": 189,
   "metadata": {},
   "outputs": [
    {
     "data": {
      "text/plain": [
       "DatetimeIndex(['2004-08-19', '2004-08-20', '2004-08-23', '2004-08-24',\n",
       "               '2004-08-25', '2004-08-26', '2004-08-27', '2004-08-30',\n",
       "               '2004-08-31', '2004-09-01',\n",
       "               ...\n",
       "               '2023-11-21', '2023-11-22', '2023-11-24', '2023-11-27',\n",
       "               '2023-11-28', '2023-11-29', '2023-11-30', '2023-12-01',\n",
       "               '2023-12-04', '2023-12-05'],\n",
       "              dtype='datetime64[ns]', name='Date', length=4858, freq=None)"
      ]
     },
     "execution_count": 189,
     "metadata": {},
     "output_type": "execute_result"
    }
   ],
   "source": [
    "# frequency\n",
    "df.index"
   ]
  },
  {
   "cell_type": "code",
   "execution_count": 188,
   "metadata": {},
   "outputs": [
    {
     "data": {
      "application/vnd.microsoft.datawrangler.viewer.v0+json": {
       "columns": [
        {
         "name": "Date",
         "rawType": "datetime64[ns]",
         "type": "datetime"
        },
        {
         "name": "Open",
         "rawType": "float64",
         "type": "float"
        },
        {
         "name": "High",
         "rawType": "float64",
         "type": "float"
        },
        {
         "name": "Low",
         "rawType": "float64",
         "type": "float"
        },
        {
         "name": "Close",
         "rawType": "float64",
         "type": "float"
        },
        {
         "name": "Adj Close",
         "rawType": "float64",
         "type": "float"
        },
        {
         "name": "Volume",
         "rawType": "int64",
         "type": "integer"
        },
        {
         "name": "month_name",
         "rawType": "object",
         "type": "string"
        },
        {
         "name": "day_name",
         "rawType": "object",
         "type": "string"
        },
        {
         "name": "quarter",
         "rawType": "int32",
         "type": "integer"
        }
       ],
       "conversionMethod": "pd.DataFrame",
       "ref": "ce31782c-7574-424c-b334-cb400ac35e4a",
       "rows": [
        [
         "2004-08-19 00:00:00",
         "2.490664",
         "2.591785",
         "2.390042",
         "2.499133",
         "2.499133",
         "897427216",
         "August",
         "Thursday",
         "3"
        ],
        [
         "2004-08-19 06:00:00",
         "2.51582",
         "2.716817",
         "2.503118",
         "2.697639",
         "2.697639",
         "458857488",
         "August",
         "Friday",
         "3"
        ],
        [
         "2004-08-19 12:00:00",
         "2.51582",
         "2.716817",
         "2.503118",
         "2.697639",
         "2.697639",
         "458857488",
         "August",
         "Friday",
         "3"
        ],
        [
         "2004-08-19 18:00:00",
         "2.51582",
         "2.716817",
         "2.503118",
         "2.697639",
         "2.697639",
         "458857488",
         "August",
         "Friday",
         "3"
        ],
        [
         "2004-08-20 00:00:00",
         "2.51582",
         "2.716817",
         "2.503118",
         "2.697639",
         "2.697639",
         "458857488",
         "August",
         "Friday",
         "3"
        ],
        [
         "2004-08-20 06:00:00",
         "2.758411",
         "2.826406",
         "2.71607",
         "2.724787",
         "2.724787",
         "366857939",
         "August",
         "Monday",
         "3"
        ],
        [
         "2004-08-20 12:00:00",
         "2.758411",
         "2.826406",
         "2.71607",
         "2.724787",
         "2.724787",
         "366857939",
         "August",
         "Monday",
         "3"
        ],
        [
         "2004-08-20 18:00:00",
         "2.758411",
         "2.826406",
         "2.71607",
         "2.724787",
         "2.724787",
         "366857939",
         "August",
         "Monday",
         "3"
        ],
        [
         "2004-08-21 00:00:00",
         "2.758411",
         "2.826406",
         "2.71607",
         "2.724787",
         "2.724787",
         "366857939",
         "August",
         "Monday",
         "3"
        ],
        [
         "2004-08-21 06:00:00",
         "2.758411",
         "2.826406",
         "2.71607",
         "2.724787",
         "2.724787",
         "366857939",
         "August",
         "Monday",
         "3"
        ],
        [
         "2004-08-21 12:00:00",
         "2.758411",
         "2.826406",
         "2.71607",
         "2.724787",
         "2.724787",
         "366857939",
         "August",
         "Monday",
         "3"
        ],
        [
         "2004-08-21 18:00:00",
         "2.758411",
         "2.826406",
         "2.71607",
         "2.724787",
         "2.724787",
         "366857939",
         "August",
         "Monday",
         "3"
        ],
        [
         "2004-08-22 00:00:00",
         "2.758411",
         "2.826406",
         "2.71607",
         "2.724787",
         "2.724787",
         "366857939",
         "August",
         "Monday",
         "3"
        ],
        [
         "2004-08-22 06:00:00",
         "2.758411",
         "2.826406",
         "2.71607",
         "2.724787",
         "2.724787",
         "366857939",
         "August",
         "Monday",
         "3"
        ],
        [
         "2004-08-22 12:00:00",
         "2.758411",
         "2.826406",
         "2.71607",
         "2.724787",
         "2.724787",
         "366857939",
         "August",
         "Monday",
         "3"
        ],
        [
         "2004-08-22 18:00:00",
         "2.758411",
         "2.826406",
         "2.71607",
         "2.724787",
         "2.724787",
         "366857939",
         "August",
         "Monday",
         "3"
        ],
        [
         "2004-08-23 00:00:00",
         "2.758411",
         "2.826406",
         "2.71607",
         "2.724787",
         "2.724787",
         "366857939",
         "August",
         "Monday",
         "3"
        ],
        [
         "2004-08-23 06:00:00",
         "2.770615",
         "2.779581",
         "2.579581",
         "2.61196",
         "2.61196",
         "306396159",
         "August",
         "Tuesday",
         "3"
        ],
        [
         "2004-08-23 12:00:00",
         "2.770615",
         "2.779581",
         "2.579581",
         "2.61196",
         "2.61196",
         "306396159",
         "August",
         "Tuesday",
         "3"
        ],
        [
         "2004-08-23 18:00:00",
         "2.770615",
         "2.779581",
         "2.579581",
         "2.61196",
         "2.61196",
         "306396159",
         "August",
         "Tuesday",
         "3"
        ],
        [
         "2004-08-24 00:00:00",
         "2.770615",
         "2.779581",
         "2.579581",
         "2.61196",
         "2.61196",
         "306396159",
         "August",
         "Tuesday",
         "3"
        ],
        [
         "2004-08-24 06:00:00",
         "2.614201",
         "2.689918",
         "2.587302",
         "2.640104",
         "2.640104",
         "184645512",
         "August",
         "Wednesday",
         "3"
        ],
        [
         "2004-08-24 12:00:00",
         "2.614201",
         "2.689918",
         "2.587302",
         "2.640104",
         "2.640104",
         "184645512",
         "August",
         "Wednesday",
         "3"
        ],
        [
         "2004-08-24 18:00:00",
         "2.614201",
         "2.689918",
         "2.587302",
         "2.640104",
         "2.640104",
         "184645512",
         "August",
         "Wednesday",
         "3"
        ],
        [
         "2004-08-25 00:00:00",
         "2.614201",
         "2.689918",
         "2.587302",
         "2.640104",
         "2.640104",
         "184645512",
         "August",
         "Wednesday",
         "3"
        ],
        [
         "2004-08-25 06:00:00",
         "2.613952",
         "2.688672",
         "2.606729",
         "2.687676",
         "2.687676",
         "142572401",
         "August",
         "Thursday",
         "3"
        ],
        [
         "2004-08-25 12:00:00",
         "2.613952",
         "2.688672",
         "2.606729",
         "2.687676",
         "2.687676",
         "142572401",
         "August",
         "Thursday",
         "3"
        ],
        [
         "2004-08-25 18:00:00",
         "2.613952",
         "2.688672",
         "2.606729",
         "2.687676",
         "2.687676",
         "142572401",
         "August",
         "Thursday",
         "3"
        ],
        [
         "2004-08-26 00:00:00",
         "2.613952",
         "2.688672",
         "2.606729",
         "2.687676",
         "2.687676",
         "142572401",
         "August",
         "Thursday",
         "3"
        ],
        [
         "2004-08-26 06:00:00",
         "2.692408",
         "2.70536",
         "2.632383",
         "2.64384",
         "2.64384",
         "124826132",
         "August",
         "Friday",
         "3"
        ],
        [
         "2004-08-26 12:00:00",
         "2.692408",
         "2.70536",
         "2.632383",
         "2.64384",
         "2.64384",
         "124826132",
         "August",
         "Friday",
         "3"
        ],
        [
         "2004-08-26 18:00:00",
         "2.692408",
         "2.70536",
         "2.632383",
         "2.64384",
         "2.64384",
         "124826132",
         "August",
         "Friday",
         "3"
        ],
        [
         "2004-08-27 00:00:00",
         "2.692408",
         "2.70536",
         "2.632383",
         "2.64384",
         "2.64384",
         "124826132",
         "August",
         "Friday",
         "3"
        ],
        [
         "2004-08-27 06:00:00",
         "2.622171",
         "2.627402",
         "2.540727",
         "2.540727",
         "2.540727",
         "104429967",
         "August",
         "Monday",
         "3"
        ],
        [
         "2004-08-27 12:00:00",
         "2.622171",
         "2.627402",
         "2.540727",
         "2.540727",
         "2.540727",
         "104429967",
         "August",
         "Monday",
         "3"
        ],
        [
         "2004-08-27 18:00:00",
         "2.622171",
         "2.627402",
         "2.540727",
         "2.540727",
         "2.540727",
         "104429967",
         "August",
         "Monday",
         "3"
        ],
        [
         "2004-08-28 00:00:00",
         "2.622171",
         "2.627402",
         "2.540727",
         "2.540727",
         "2.540727",
         "104429967",
         "August",
         "Monday",
         "3"
        ],
        [
         "2004-08-28 06:00:00",
         "2.622171",
         "2.627402",
         "2.540727",
         "2.540727",
         "2.540727",
         "104429967",
         "August",
         "Monday",
         "3"
        ],
        [
         "2004-08-28 12:00:00",
         "2.622171",
         "2.627402",
         "2.540727",
         "2.540727",
         "2.540727",
         "104429967",
         "August",
         "Monday",
         "3"
        ],
        [
         "2004-08-28 18:00:00",
         "2.622171",
         "2.627402",
         "2.540727",
         "2.540727",
         "2.540727",
         "104429967",
         "August",
         "Monday",
         "3"
        ],
        [
         "2004-08-29 00:00:00",
         "2.622171",
         "2.627402",
         "2.540727",
         "2.540727",
         "2.540727",
         "104429967",
         "August",
         "Monday",
         "3"
        ],
        [
         "2004-08-29 06:00:00",
         "2.622171",
         "2.627402",
         "2.540727",
         "2.540727",
         "2.540727",
         "104429967",
         "August",
         "Monday",
         "3"
        ],
        [
         "2004-08-29 12:00:00",
         "2.622171",
         "2.627402",
         "2.540727",
         "2.540727",
         "2.540727",
         "104429967",
         "August",
         "Monday",
         "3"
        ],
        [
         "2004-08-29 18:00:00",
         "2.622171",
         "2.627402",
         "2.540727",
         "2.540727",
         "2.540727",
         "104429967",
         "August",
         "Monday",
         "3"
        ],
        [
         "2004-08-30 00:00:00",
         "2.622171",
         "2.627402",
         "2.540727",
         "2.540727",
         "2.540727",
         "104429967",
         "August",
         "Monday",
         "3"
        ],
        [
         "2004-08-30 06:00:00",
         "2.54795",
         "2.583068",
         "2.544463",
         "2.549693",
         "2.549693",
         "98825037",
         "August",
         "Tuesday",
         "3"
        ],
        [
         "2004-08-30 12:00:00",
         "2.54795",
         "2.583068",
         "2.544463",
         "2.549693",
         "2.549693",
         "98825037",
         "August",
         "Tuesday",
         "3"
        ],
        [
         "2004-08-30 18:00:00",
         "2.54795",
         "2.583068",
         "2.544463",
         "2.549693",
         "2.549693",
         "98825037",
         "August",
         "Tuesday",
         "3"
        ],
        [
         "2004-08-31 00:00:00",
         "2.54795",
         "2.583068",
         "2.544463",
         "2.549693",
         "2.549693",
         "98825037",
         "August",
         "Tuesday",
         "3"
        ],
        [
         "2004-08-31 06:00:00",
         "2.557912",
         "2.564637",
         "2.482445",
         "2.496891",
         "2.496891",
         "183633734",
         "September",
         "Wednesday",
         "3"
        ]
       ],
       "shape": {
        "columns": 9,
        "rows": 28189
       }
      },
      "text/html": [
       "<div>\n",
       "<style scoped>\n",
       "    .dataframe tbody tr th:only-of-type {\n",
       "        vertical-align: middle;\n",
       "    }\n",
       "\n",
       "    .dataframe tbody tr th {\n",
       "        vertical-align: top;\n",
       "    }\n",
       "\n",
       "    .dataframe thead th {\n",
       "        text-align: right;\n",
       "    }\n",
       "</style>\n",
       "<table border=\"1\" class=\"dataframe\">\n",
       "  <thead>\n",
       "    <tr style=\"text-align: right;\">\n",
       "      <th></th>\n",
       "      <th>Open</th>\n",
       "      <th>High</th>\n",
       "      <th>Low</th>\n",
       "      <th>Close</th>\n",
       "      <th>Adj Close</th>\n",
       "      <th>Volume</th>\n",
       "      <th>month_name</th>\n",
       "      <th>day_name</th>\n",
       "      <th>quarter</th>\n",
       "    </tr>\n",
       "    <tr>\n",
       "      <th>Date</th>\n",
       "      <th></th>\n",
       "      <th></th>\n",
       "      <th></th>\n",
       "      <th></th>\n",
       "      <th></th>\n",
       "      <th></th>\n",
       "      <th></th>\n",
       "      <th></th>\n",
       "      <th></th>\n",
       "    </tr>\n",
       "  </thead>\n",
       "  <tbody>\n",
       "    <tr>\n",
       "      <th>2004-08-19 00:00:00</th>\n",
       "      <td>2.490664</td>\n",
       "      <td>2.591785</td>\n",
       "      <td>2.390042</td>\n",
       "      <td>2.499133</td>\n",
       "      <td>2.499133</td>\n",
       "      <td>897427216</td>\n",
       "      <td>August</td>\n",
       "      <td>Thursday</td>\n",
       "      <td>3</td>\n",
       "    </tr>\n",
       "    <tr>\n",
       "      <th>2004-08-19 06:00:00</th>\n",
       "      <td>2.515820</td>\n",
       "      <td>2.716817</td>\n",
       "      <td>2.503118</td>\n",
       "      <td>2.697639</td>\n",
       "      <td>2.697639</td>\n",
       "      <td>458857488</td>\n",
       "      <td>August</td>\n",
       "      <td>Friday</td>\n",
       "      <td>3</td>\n",
       "    </tr>\n",
       "    <tr>\n",
       "      <th>2004-08-19 12:00:00</th>\n",
       "      <td>2.515820</td>\n",
       "      <td>2.716817</td>\n",
       "      <td>2.503118</td>\n",
       "      <td>2.697639</td>\n",
       "      <td>2.697639</td>\n",
       "      <td>458857488</td>\n",
       "      <td>August</td>\n",
       "      <td>Friday</td>\n",
       "      <td>3</td>\n",
       "    </tr>\n",
       "    <tr>\n",
       "      <th>2004-08-19 18:00:00</th>\n",
       "      <td>2.515820</td>\n",
       "      <td>2.716817</td>\n",
       "      <td>2.503118</td>\n",
       "      <td>2.697639</td>\n",
       "      <td>2.697639</td>\n",
       "      <td>458857488</td>\n",
       "      <td>August</td>\n",
       "      <td>Friday</td>\n",
       "      <td>3</td>\n",
       "    </tr>\n",
       "    <tr>\n",
       "      <th>2004-08-20 00:00:00</th>\n",
       "      <td>2.515820</td>\n",
       "      <td>2.716817</td>\n",
       "      <td>2.503118</td>\n",
       "      <td>2.697639</td>\n",
       "      <td>2.697639</td>\n",
       "      <td>458857488</td>\n",
       "      <td>August</td>\n",
       "      <td>Friday</td>\n",
       "      <td>3</td>\n",
       "    </tr>\n",
       "    <tr>\n",
       "      <th>...</th>\n",
       "      <td>...</td>\n",
       "      <td>...</td>\n",
       "      <td>...</td>\n",
       "      <td>...</td>\n",
       "      <td>...</td>\n",
       "      <td>...</td>\n",
       "      <td>...</td>\n",
       "      <td>...</td>\n",
       "      <td>...</td>\n",
       "    </tr>\n",
       "    <tr>\n",
       "      <th>2023-12-04 00:00:00</th>\n",
       "      <td>131.294006</td>\n",
       "      <td>131.449997</td>\n",
       "      <td>129.399994</td>\n",
       "      <td>130.630005</td>\n",
       "      <td>130.630005</td>\n",
       "      <td>24117100</td>\n",
       "      <td>December</td>\n",
       "      <td>Monday</td>\n",
       "      <td>4</td>\n",
       "    </tr>\n",
       "    <tr>\n",
       "      <th>2023-12-04 06:00:00</th>\n",
       "      <td>130.369995</td>\n",
       "      <td>133.539993</td>\n",
       "      <td>129.729996</td>\n",
       "      <td>132.389999</td>\n",
       "      <td>132.389999</td>\n",
       "      <td>19216500</td>\n",
       "      <td>December</td>\n",
       "      <td>Tuesday</td>\n",
       "      <td>4</td>\n",
       "    </tr>\n",
       "    <tr>\n",
       "      <th>2023-12-04 12:00:00</th>\n",
       "      <td>130.369995</td>\n",
       "      <td>133.539993</td>\n",
       "      <td>129.729996</td>\n",
       "      <td>132.389999</td>\n",
       "      <td>132.389999</td>\n",
       "      <td>19216500</td>\n",
       "      <td>December</td>\n",
       "      <td>Tuesday</td>\n",
       "      <td>4</td>\n",
       "    </tr>\n",
       "    <tr>\n",
       "      <th>2023-12-04 18:00:00</th>\n",
       "      <td>130.369995</td>\n",
       "      <td>133.539993</td>\n",
       "      <td>129.729996</td>\n",
       "      <td>132.389999</td>\n",
       "      <td>132.389999</td>\n",
       "      <td>19216500</td>\n",
       "      <td>December</td>\n",
       "      <td>Tuesday</td>\n",
       "      <td>4</td>\n",
       "    </tr>\n",
       "    <tr>\n",
       "      <th>2023-12-05 00:00:00</th>\n",
       "      <td>130.369995</td>\n",
       "      <td>133.539993</td>\n",
       "      <td>129.729996</td>\n",
       "      <td>132.389999</td>\n",
       "      <td>132.389999</td>\n",
       "      <td>19216500</td>\n",
       "      <td>December</td>\n",
       "      <td>Tuesday</td>\n",
       "      <td>4</td>\n",
       "    </tr>\n",
       "  </tbody>\n",
       "</table>\n",
       "<p>28189 rows × 9 columns</p>\n",
       "</div>"
      ],
      "text/plain": [
       "                           Open        High         Low       Close  \\\n",
       "Date                                                                  \n",
       "2004-08-19 00:00:00    2.490664    2.591785    2.390042    2.499133   \n",
       "2004-08-19 06:00:00    2.515820    2.716817    2.503118    2.697639   \n",
       "2004-08-19 12:00:00    2.515820    2.716817    2.503118    2.697639   \n",
       "2004-08-19 18:00:00    2.515820    2.716817    2.503118    2.697639   \n",
       "2004-08-20 00:00:00    2.515820    2.716817    2.503118    2.697639   \n",
       "...                         ...         ...         ...         ...   \n",
       "2023-12-04 00:00:00  131.294006  131.449997  129.399994  130.630005   \n",
       "2023-12-04 06:00:00  130.369995  133.539993  129.729996  132.389999   \n",
       "2023-12-04 12:00:00  130.369995  133.539993  129.729996  132.389999   \n",
       "2023-12-04 18:00:00  130.369995  133.539993  129.729996  132.389999   \n",
       "2023-12-05 00:00:00  130.369995  133.539993  129.729996  132.389999   \n",
       "\n",
       "                      Adj Close     Volume month_name  day_name  quarter  \n",
       "Date                                                                      \n",
       "2004-08-19 00:00:00    2.499133  897427216     August  Thursday        3  \n",
       "2004-08-19 06:00:00    2.697639  458857488     August    Friday        3  \n",
       "2004-08-19 12:00:00    2.697639  458857488     August    Friday        3  \n",
       "2004-08-19 18:00:00    2.697639  458857488     August    Friday        3  \n",
       "2004-08-20 00:00:00    2.697639  458857488     August    Friday        3  \n",
       "...                         ...        ...        ...       ...      ...  \n",
       "2023-12-04 00:00:00  130.630005   24117100   December    Monday        4  \n",
       "2023-12-04 06:00:00  132.389999   19216500   December   Tuesday        4  \n",
       "2023-12-04 12:00:00  132.389999   19216500   December   Tuesday        4  \n",
       "2023-12-04 18:00:00  132.389999   19216500   December   Tuesday        4  \n",
       "2023-12-05 00:00:00  132.389999   19216500   December   Tuesday        4  \n",
       "\n",
       "[28189 rows x 9 columns]"
      ]
     },
     "execution_count": 188,
     "metadata": {},
     "output_type": "execute_result"
    }
   ],
   "source": [
    "# asfreq\n",
    "df.asfreq('6h',method='bfill')"
   ]
  },
  {
   "cell_type": "markdown",
   "metadata": {},
   "source": [
    "##### Resampling\n",
    "\n",
    "Resampling involves changing the frequency of your time series observations.\n",
    "\n",
    "Two types of resampling are:\n",
    "\n",
    "**Upsampling**: Where you increase the frequency of the samples, such as from minutes to seconds.<br>\n",
    "**Downsampling**: Where you decrease the frequency of the samples, such as from days to months."
   ]
  },
  {
   "cell_type": "code",
   "execution_count": 191,
   "metadata": {},
   "outputs": [
    {
     "data": {
      "text/plain": [
       "<Axes: xlabel='Date'>"
      ]
     },
     "execution_count": 191,
     "metadata": {},
     "output_type": "execute_result"
    },
    {
     "data": {
      "image/png": "[encoded data removed]",
      "text/plain": [
       "<Figure size 640x480 with 1 Axes>"
      ]
     },
     "metadata": {},
     "output_type": "display_data"
    }
   ],
   "source": [
    "# Downsampling\n",
    "df['Close'].plot()\n",
    "df['Close'].resample('ME').mean().plot()"
   ]
  },
  {
   "cell_type": "code",
   "execution_count": 193,
   "metadata": {},
   "outputs": [
    {
     "data": {
      "text/plain": [
       "<Axes: xlabel='Date'>"
      ]
     },
     "execution_count": 193,
     "metadata": {},
     "output_type": "execute_result"
    },
    {
     "data": {
      "image/png": "[encoded data removed]",
      "text/plain": [
       "<Figure size 640x480 with 1 Axes>"
      ]
     },
     "metadata": {},
     "output_type": "display_data"
    }
   ],
   "source": [
    "# Upsampling\n",
    "df['Close'].resample('12h').interpolate(method='spline',order=2).plot()"
   ]
  },
  {
   "cell_type": "markdown",
   "metadata": {},
   "source": [
    "##### Rolling Window(Smoothing)\n",
    "Time series data in original format can be quite volatile, especially on smaller aggregation levels. The concept of rolling, or moving averages is a useful technique for smoothing time series data. "
   ]
  },
  {
   "cell_type": "code",
   "execution_count": 197,
   "metadata": {},
   "outputs": [
    {
     "data": {
      "text/plain": [
       "<Axes: title={'center': 'EWM'}, xlabel='Date'>"
      ]
     },
     "execution_count": 197,
     "metadata": {},
     "output_type": "execute_result"
    },
    {
     "data": {
      "image/png": "[encoded data removed]",
      "text/plain": [
       "<Figure size 640x480 with 1 Axes>"
      ]
     },
     "metadata": {},
     "output_type": "display_data"
    }
   ],
   "source": [
    "# Rolling window\n",
    "df['Close'].rolling(15).mean().plot(title='Rolling')\n",
    "df['Close'].ewm(20).mean().plot(title='EWM')"
   ]
  },
  {
   "cell_type": "markdown",
   "metadata": {},
   "source": [
    "##### Shifting\n",
    "\n",
    "The shift() function is Pandas is used to, well, shift the entire series up or down by the desired number of periods."
   ]
  },
  {
   "cell_type": "code",
   "execution_count": 198,
   "metadata": {},
   "outputs": [
    {
     "data": {
      "application/vnd.microsoft.datawrangler.viewer.v0+json": {
       "columns": [
        {
         "name": "index",
         "rawType": "int64",
         "type": "integer"
        },
        {
         "name": "user_id",
         "rawType": "int64",
         "type": "integer"
        },
        {
         "name": "login_time",
         "rawType": "object",
         "type": "string"
        }
       ],
       "conversionMethod": "pd.DataFrame",
       "ref": "5ad94921-8a04-4602-bcd7-4f7bfef182df",
       "rows": [
        [
         "0",
         "466",
         "2017-01-07 18:24:07"
        ],
        [
         "1",
         "466",
         "2017-01-07 18:24:55"
        ],
        [
         "2",
         "458",
         "2017-01-07 18:25:18"
        ],
        [
         "3",
         "458",
         "2017-01-07 18:26:21"
        ],
        [
         "4",
         "592",
         "2017-01-07 19:09:59"
        ]
       ],
       "shape": {
        "columns": 2,
        "rows": 5
       }
      },
      "text/html": [
       "<div>\n",
       "<style scoped>\n",
       "    .dataframe tbody tr th:only-of-type {\n",
       "        vertical-align: middle;\n",
       "    }\n",
       "\n",
       "    .dataframe tbody tr th {\n",
       "        vertical-align: top;\n",
       "    }\n",
       "\n",
       "    .dataframe thead th {\n",
       "        text-align: right;\n",
       "    }\n",
       "</style>\n",
       "<table border=\"1\" class=\"dataframe\">\n",
       "  <thead>\n",
       "    <tr style=\"text-align: right;\">\n",
       "      <th></th>\n",
       "      <th>user_id</th>\n",
       "      <th>login_time</th>\n",
       "    </tr>\n",
       "  </thead>\n",
       "  <tbody>\n",
       "    <tr>\n",
       "      <th>0</th>\n",
       "      <td>466</td>\n",
       "      <td>2017-01-07 18:24:07</td>\n",
       "    </tr>\n",
       "    <tr>\n",
       "      <th>1</th>\n",
       "      <td>466</td>\n",
       "      <td>2017-01-07 18:24:55</td>\n",
       "    </tr>\n",
       "    <tr>\n",
       "      <th>2</th>\n",
       "      <td>458</td>\n",
       "      <td>2017-01-07 18:25:18</td>\n",
       "    </tr>\n",
       "    <tr>\n",
       "      <th>3</th>\n",
       "      <td>458</td>\n",
       "      <td>2017-01-07 18:26:21</td>\n",
       "    </tr>\n",
       "    <tr>\n",
       "      <th>4</th>\n",
       "      <td>592</td>\n",
       "      <td>2017-01-07 19:09:59</td>\n",
       "    </tr>\n",
       "  </tbody>\n",
       "</table>\n",
       "</div>"
      ],
      "text/plain": [
       "   user_id           login_time\n",
       "0      466  2017-01-07 18:24:07\n",
       "1      466  2017-01-07 18:24:55\n",
       "2      458  2017-01-07 18:25:18\n",
       "3      458  2017-01-07 18:26:21\n",
       "4      592  2017-01-07 19:09:59"
      ]
     },
     "execution_count": 198,
     "metadata": {},
     "output_type": "execute_result"
    }
   ],
   "source": [
    "# shift example\n",
    "df = pd.read_csv('login.csv',header=None)\n",
    "df = df[[1,2]]\n",
    "df.head()\n",
    "df.rename(columns={1:'user_id',2:'login_time'},inplace=True)\n",
    "df.head()"
   ]
  },
  {
   "cell_type": "code",
   "execution_count": 201,
   "metadata": {},
   "outputs": [
    {
     "data": {
      "application/vnd.microsoft.datawrangler.viewer.v0+json": {
       "columns": [
        {
         "name": "index",
         "rawType": "int64",
         "type": "integer"
        },
        {
         "name": "user_id",
         "rawType": "int64",
         "type": "integer"
        },
        {
         "name": "login_time",
         "rawType": "object",
         "type": "string"
        }
       ],
       "conversionMethod": "pd.DataFrame",
       "ref": "9fb42d41-35de-4f3b-9c12-cd6e98f93adb",
       "rows": [
        [
         "11",
         "413",
         "2017-01-09 12:29:25"
        ],
        [
         "12",
         "413",
         "2017-01-09 12:40:39"
        ],
        [
         "14",
         "413",
         "2017-01-09 14:08:04"
        ],
        [
         "33",
         "413",
         "2017-01-10 14:36:23"
        ],
        [
         "35",
         "413",
         "2017-01-10 15:22:45"
        ],
        [
         "60",
         "413",
         "2017-01-11 15:40:45"
        ],
        [
         "94",
         "413",
         "2017-01-14 11:57:18"
        ],
        [
         "105",
         "413",
         "2017-01-16 11:57:55"
        ],
        [
         "168",
         "413",
         "2017-01-23 11:40:25"
        ],
        [
         "170",
         "413",
         "2017-01-23 11:49:30"
        ],
        [
         "175",
         "413",
         "2017-01-23 15:51:06"
        ],
        [
         "198",
         "413",
         "2017-01-26 00:46:00"
        ],
        [
         "341",
         "413",
         "2017-02-09 22:10:15"
        ],
        [
         "398",
         "413",
         "2017-02-17 10:37:04"
        ],
        [
         "404",
         "413",
         "2017-02-17 11:28:00"
        ],
        [
         "445",
         "413",
         "2017-02-22 10:49:13"
        ],
        [
         "635",
         "413",
         "2017-03-16 15:27:47"
        ],
        [
         "657",
         "413",
         "2017-03-18 18:22:50"
        ],
        [
         "674",
         "413",
         "2017-03-22 17:06:12"
        ],
        [
         "676",
         "413",
         "2017-03-22 19:52:22"
        ],
        [
         "691",
         "413",
         "2017-03-25 15:57:33"
        ],
        [
         "725",
         "413",
         "2017-04-01 16:32:07"
        ],
        [
         "745",
         "413",
         "2017-04-04 17:05:13"
        ],
        [
         "749",
         "413",
         "2017-04-05 17:11:00"
        ],
        [
         "802",
         "413",
         "2017-04-14 14:04:05"
        ],
        [
         "807",
         "413",
         "2017-04-14 23:39:23"
        ],
        [
         "841",
         "413",
         "2017-04-24 13:02:27"
        ],
        [
         "842",
         "413",
         "2017-04-24 13:09:37"
        ],
        [
         "908",
         "413",
         "2017-05-04 16:51:07"
        ],
        [
         "927",
         "413",
         "2017-05-06 17:54:16"
        ],
        [
         "937",
         "413",
         "2017-05-10 11:05:48"
        ],
        [
         "952",
         "413",
         "2017-05-15 12:09:34"
        ],
        [
         "959",
         "413",
         "2017-05-16 16:17:28"
        ],
        [
         "973",
         "413",
         "2017-05-19 15:23:02"
        ],
        [
         "982",
         "413",
         "2017-05-25 14:54:57"
        ],
        [
         "983",
         "413",
         "2017-05-25 15:42:35"
        ],
        [
         "990",
         "413",
         "2017-06-01 11:33:45"
        ],
        [
         "991",
         "413",
         "2017-06-01 11:45:07"
        ],
        [
         "1000",
         "413",
         "2017-06-05 12:33:14"
        ],
        [
         "1001",
         "413",
         "2017-06-05 13:31:19"
        ],
        [
         "1003",
         "413",
         "2017-06-05 16:43:23"
        ],
        [
         "1004",
         "413",
         "2017-06-05 16:43:46"
        ],
        [
         "1012",
         "413",
         "2017-06-06 15:31:48"
        ],
        [
         "1048",
         "413",
         "2017-06-12 13:04:37"
        ],
        [
         "1124",
         "413",
         "2017-06-22 12:36:30"
        ],
        [
         "1154",
         "413",
         "2017-06-24 14:54:02"
        ],
        [
         "1164",
         "413",
         "2017-06-26 10:57:16"
        ],
        [
         "1260",
         "413",
         "2017-07-04 18:05:04"
        ],
        [
         "1321",
         "413",
         "2017-07-10 14:39:36"
        ],
        [
         "1360",
         "413",
         "2017-07-13 11:58:45"
        ]
       ],
       "shape": {
        "columns": 2,
        "rows": 222
       }
      },
      "text/html": [
       "<div>\n",
       "<style scoped>\n",
       "    .dataframe tbody tr th:only-of-type {\n",
       "        vertical-align: middle;\n",
       "    }\n",
       "\n",
       "    .dataframe tbody tr th {\n",
       "        vertical-align: top;\n",
       "    }\n",
       "\n",
       "    .dataframe thead th {\n",
       "        text-align: right;\n",
       "    }\n",
       "</style>\n",
       "<table border=\"1\" class=\"dataframe\">\n",
       "  <thead>\n",
       "    <tr style=\"text-align: right;\">\n",
       "      <th></th>\n",
       "      <th>user_id</th>\n",
       "      <th>login_time</th>\n",
       "    </tr>\n",
       "  </thead>\n",
       "  <tbody>\n",
       "    <tr>\n",
       "      <th>11</th>\n",
       "      <td>413</td>\n",
       "      <td>2017-01-09 12:29:25</td>\n",
       "    </tr>\n",
       "    <tr>\n",
       "      <th>12</th>\n",
       "      <td>413</td>\n",
       "      <td>2017-01-09 12:40:39</td>\n",
       "    </tr>\n",
       "    <tr>\n",
       "      <th>14</th>\n",
       "      <td>413</td>\n",
       "      <td>2017-01-09 14:08:04</td>\n",
       "    </tr>\n",
       "    <tr>\n",
       "      <th>33</th>\n",
       "      <td>413</td>\n",
       "      <td>2017-01-10 14:36:23</td>\n",
       "    </tr>\n",
       "    <tr>\n",
       "      <th>35</th>\n",
       "      <td>413</td>\n",
       "      <td>2017-01-10 15:22:45</td>\n",
       "    </tr>\n",
       "    <tr>\n",
       "      <th>...</th>\n",
       "      <td>...</td>\n",
       "      <td>...</td>\n",
       "    </tr>\n",
       "    <tr>\n",
       "      <th>2958</th>\n",
       "      <td>413</td>\n",
       "      <td>2017-12-29 18:20:32</td>\n",
       "    </tr>\n",
       "    <tr>\n",
       "      <th>2963</th>\n",
       "      <td>413</td>\n",
       "      <td>2017-12-30 13:41:21</td>\n",
       "    </tr>\n",
       "    <tr>\n",
       "      <th>2974</th>\n",
       "      <td>413</td>\n",
       "      <td>2018-01-01 15:16:25</td>\n",
       "    </tr>\n",
       "    <tr>\n",
       "      <th>2982</th>\n",
       "      <td>413</td>\n",
       "      <td>2018-01-02 18:15:45</td>\n",
       "    </tr>\n",
       "    <tr>\n",
       "      <th>2997</th>\n",
       "      <td>413</td>\n",
       "      <td>2018-01-04 10:43:43</td>\n",
       "    </tr>\n",
       "  </tbody>\n",
       "</table>\n",
       "<p>222 rows × 2 columns</p>\n",
       "</div>"
      ],
      "text/plain": [
       "      user_id           login_time\n",
       "11        413  2017-01-09 12:29:25\n",
       "12        413  2017-01-09 12:40:39\n",
       "14        413  2017-01-09 14:08:04\n",
       "33        413  2017-01-10 14:36:23\n",
       "35        413  2017-01-10 15:22:45\n",
       "...       ...                  ...\n",
       "2958      413  2017-12-29 18:20:32\n",
       "2963      413  2017-12-30 13:41:21\n",
       "2974      413  2018-01-01 15:16:25\n",
       "2982      413  2018-01-02 18:15:45\n",
       "2997      413  2018-01-04 10:43:43\n",
       "\n",
       "[222 rows x 2 columns]"
      ]
     },
     "execution_count": 201,
     "metadata": {},
     "output_type": "execute_result"
    }
   ],
   "source": [
    "user_df = df[df['user_id'] == 413]\n",
    "user_df"
   ]
  },
  {
   "cell_type": "code",
   "execution_count": 204,
   "metadata": {},
   "outputs": [
    {
     "name": "stdout",
     "output_type": "stream",
     "text": [
      "<class 'pandas.core.frame.DataFrame'>\n",
      "Index: 222 entries, 11 to 2997\n",
      "Data columns (total 3 columns):\n",
      " #   Column      Non-Null Count  Dtype         \n",
      "---  ------      --------------  -----         \n",
      " 0   user_id     222 non-null    int64         \n",
      " 1   login_time  222 non-null    datetime64[ns]\n",
      " 2   shifted     221 non-null    datetime64[ns]\n",
      "dtypes: datetime64[ns](2), int64(1)\n",
      "memory usage: 6.9 KB\n"
     ]
    },
    {
     "name": "stderr",
     "output_type": "stream",
     "text": [
      "C:\\Users\\mahes\\AppData\\Local\\Temp\\ipykernel_25648\\897488481.py:1: SettingWithCopyWarning: \n",
      "A value is trying to be set on a copy of a slice from a DataFrame.\n",
      "Try using .loc[row_indexer,col_indexer] = value instead\n",
      "\n",
      "See the caveats in the documentation: https://pandas.pydata.org/pandas-docs/stable/user_guide/indexing.html#returning-a-view-versus-a-copy\n",
      "  user_df['login_time'] = pd.to_datetime(user_df['login_time'])\n"
     ]
    }
   ],
   "source": [
    "user_df['login_time'] = pd.to_datetime(user_df['login_time'])\n",
    "user_df.info()"
   ]
  },
  {
   "cell_type": "code",
   "execution_count": 205,
   "metadata": {},
   "outputs": [
    {
     "name": "stderr",
     "output_type": "stream",
     "text": [
      "C:\\Users\\mahes\\AppData\\Local\\Temp\\ipykernel_25648\\4028882259.py:1: SettingWithCopyWarning: \n",
      "A value is trying to be set on a copy of a slice from a DataFrame.\n",
      "Try using .loc[row_indexer,col_indexer] = value instead\n",
      "\n",
      "See the caveats in the documentation: https://pandas.pydata.org/pandas-docs/stable/user_guide/indexing.html#returning-a-view-versus-a-copy\n",
      "  user_df['shifted'] = user_df['login_time'].shift(1)\n"
     ]
    },
    {
     "data": {
      "text/plain": [
       "Timedelta('1 days 15:05:13.384615384')"
      ]
     },
     "execution_count": 205,
     "metadata": {},
     "output_type": "execute_result"
    }
   ],
   "source": [
    "user_df['shifted'] = user_df['login_time'].shift(1)\n",
    "(user_df['login_time'] - user_df['shifted']).mean()"
   ]
  },
  {
   "cell_type": "code",
   "execution_count": 207,
   "metadata": {},
   "outputs": [
    {
     "data": {
      "image/png": "[encoded data removed]",
      "text/plain": [
       "<Figure size 2000x1500 with 1 Axes>"
      ]
     },
     "metadata": {},
     "output_type": "display_data"
    }
   ],
   "source": [
    "# Adjust the title list to match the number of columns in df\n",
    "ax = df.plot(subplots=True,\n",
    "                    layout=(1, 1),\n",
    "                     sharex=False,\n",
    "                     sharey=False,\n",
    "                     linewidth=0.7,\n",
    "                     fontsize=10,\n",
    "                     legend=False,\n",
    "                      figsize=(20, 15),\n",
    "                      title=['Login Time'])"
   ]
  },
  {
   "cell_type": "code",
   "execution_count": null,
   "metadata": {},
   "outputs": [],
   "source": []
  }
 ],
 "metadata": {
  "kernelspec": {
   "display_name": "Python 3",
   "language": "python",
   "name": "python3"
  },
  "language_info": {
   "codemirror_mode": {
    "name": "ipython",
    "version": 3
   },
   "file_extension": ".py",
   "mimetype": "text/x-python",
   "name": "python",
   "nbconvert_exporter": "python",
   "pygments_lexer": "ipython3",
   "version": "3.12.4"
  }
 },
 "nbformat": 4,
 "nbformat_minor": 2
}

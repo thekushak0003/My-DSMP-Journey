{
 "cells": [
  {
   "cell_type": "markdown",
   "metadata": {},
   "source": [
    "### Most of the codes has been uploated on Kaggle"
   ]
  },
  {
   "cell_type": "markdown",
   "metadata": {},
   "source": [
    "##### Process involved in working with texual datasets\n",
    "- Cleaning\n",
    "   - lowercasing\n",
    "   - removing leading and trailing spaces\n",
    "   - removing HTML tags\n",
    "   - removing URLs\n",
    "   - Expanding abbreviations\n",
    "   - spelling corrections\n",
    "   - punctuations\n",
    "   - remove special characters\n",
    "- Preprocessing\n",
    "   - tokanization\n",
    "   - stopward removal\n",
    "   - stemming\n",
    "- EDA\n",
    "- Make extra features\n",
    "- Vectorization\n",
    "   - BoW\n",
    "   - TFIDF\n",
    "   - word2vec\n",
    "- Modeling\n",
    "- Evaluation\n",
    "- Deploy\n",
    "- Monitoring    "
   ]
  },
  {
   "cell_type": "code",
   "execution_count": null,
   "metadata": {},
   "outputs": [],
   "source": []
  }
 ],
 "metadata": {
  "kernelspec": {
   "display_name": "Python 3",
   "language": "python",
   "name": "python3"
  },
  "language_info": {
   "codemirror_mode": {
    "name": "ipython",
    "version": 3
   },
   "file_extension": ".py",
   "mimetype": "text/x-python",
   "name": "python",
   "nbconvert_exporter": "python",
   "pygments_lexer": "ipython3",
   "version": "3.12.4"
  }
 },
 "nbformat": 4,
 "nbformat_minor": 2
}

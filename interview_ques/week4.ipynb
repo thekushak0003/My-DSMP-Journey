{
 "cells": [
  {
   "cell_type": "markdown",
   "metadata": {},
   "source": [
    "##### What is a module?\n",
    "\n",
    "Any file with an extention of .py is called a module in python.\n",
    "\n",
    "Whenever we execute a program it's module name is `__main__` and this name is stored in `__name__` variable"
   ]
  },
  {
   "cell_type": "code",
   "execution_count": 1,
   "metadata": {},
   "outputs": [
    {
     "name": "stdout",
     "output_type": "stream",
     "text": [
      "hello\n",
      "__main__\n"
     ]
    }
   ],
   "source": [
    "def display():\n",
    "  print('hello')\n",
    "\n",
    "display()\n",
    "print(__name__)"
   ]
  },
  {
   "cell_type": "code",
   "execution_count": 2,
   "metadata": {},
   "outputs": [
    {
     "name": "stdout",
     "output_type": "stream",
     "text": [
      "c:\\Python38-32\\python312.zip\n",
      "c:\\Python38-32\\DLLs\n",
      "c:\\Python38-32\\Lib\n",
      "c:\\Python38-32\n",
      "\n",
      "c:\\Python38-32\\Lib\\site-packages\n",
      "c:\\Python38-32\\Lib\\site-packages\\win32\n",
      "c:\\Python38-32\\Lib\\site-packages\\win32\\lib\n",
      "c:\\Python38-32\\Lib\\site-packages\\Pythonwin\n"
     ]
    }
   ],
   "source": [
    "import sys\n",
    "for p in sys.path:\n",
    "  print(p)"
   ]
  },
  {
   "cell_type": "code",
   "execution_count": null,
   "metadata": {},
   "outputs": [],
   "source": []
  }
 ],
 "metadata": {
  "kernelspec": {
   "display_name": "Python 3",
   "language": "python",
   "name": "python3"
  },
  "language_info": {
   "codemirror_mode": {
    "name": "ipython",
    "version": 3
   },
   "file_extension": ".py",
   "mimetype": "text/x-python",
   "name": "python",
   "nbconvert_exporter": "python",
   "pygments_lexer": "ipython3",
   "version": "3.12.4"
  }
 },
 "nbformat": 4,
 "nbformat_minor": 2
}

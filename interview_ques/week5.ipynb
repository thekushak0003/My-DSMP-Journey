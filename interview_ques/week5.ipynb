{
 "cells": [
  {
   "cell_type": "code",
   "execution_count": 43,
   "metadata": {},
   "outputs": [],
   "source": [
    "import pandas as pd\n",
    "import numpy as np"
   ]
  },
  {
   "cell_type": "code",
   "execution_count": 44,
   "metadata": {},
   "outputs": [
    {
     "data": {
      "text/plain": [
       "array([-10.,  -9.,  -8.,  -7.,  -6.,  -5.,  -4.,  -3.,  -2.,  -1.,   0.,\n",
       "         1.,   2.,   3.,   4.,   5.,   6.,   7.,   8.,   9.])"
      ]
     },
     "execution_count": 44,
     "metadata": {},
     "output_type": "execute_result"
    }
   ],
   "source": [
    "a = np.linspace(-10,9,20)\n",
    "b = np.linspace(-10,9,20)\n",
    "b"
   ]
  },
  {
   "cell_type": "code",
   "execution_count": 45,
   "metadata": {},
   "outputs": [
    {
     "data": {
      "text/plain": [
       "array([[-10., -10., -10., -10., -10., -10., -10., -10., -10., -10., -10.,\n",
       "        -10., -10., -10., -10., -10., -10., -10., -10., -10.],\n",
       "       [ -9.,  -9.,  -9.,  -9.,  -9.,  -9.,  -9.,  -9.,  -9.,  -9.,  -9.,\n",
       "         -9.,  -9.,  -9.,  -9.,  -9.,  -9.,  -9.,  -9.,  -9.],\n",
       "       [ -8.,  -8.,  -8.,  -8.,  -8.,  -8.,  -8.,  -8.,  -8.,  -8.,  -8.,\n",
       "         -8.,  -8.,  -8.,  -8.,  -8.,  -8.,  -8.,  -8.,  -8.],\n",
       "       [ -7.,  -7.,  -7.,  -7.,  -7.,  -7.,  -7.,  -7.,  -7.,  -7.,  -7.,\n",
       "         -7.,  -7.,  -7.,  -7.,  -7.,  -7.,  -7.,  -7.,  -7.],\n",
       "       [ -6.,  -6.,  -6.,  -6.,  -6.,  -6.,  -6.,  -6.,  -6.,  -6.,  -6.,\n",
       "         -6.,  -6.,  -6.,  -6.,  -6.,  -6.,  -6.,  -6.,  -6.],\n",
       "       [ -5.,  -5.,  -5.,  -5.,  -5.,  -5.,  -5.,  -5.,  -5.,  -5.,  -5.,\n",
       "         -5.,  -5.,  -5.,  -5.,  -5.,  -5.,  -5.,  -5.,  -5.],\n",
       "       [ -4.,  -4.,  -4.,  -4.,  -4.,  -4.,  -4.,  -4.,  -4.,  -4.,  -4.,\n",
       "         -4.,  -4.,  -4.,  -4.,  -4.,  -4.,  -4.,  -4.,  -4.],\n",
       "       [ -3.,  -3.,  -3.,  -3.,  -3.,  -3.,  -3.,  -3.,  -3.,  -3.,  -3.,\n",
       "         -3.,  -3.,  -3.,  -3.,  -3.,  -3.,  -3.,  -3.,  -3.],\n",
       "       [ -2.,  -2.,  -2.,  -2.,  -2.,  -2.,  -2.,  -2.,  -2.,  -2.,  -2.,\n",
       "         -2.,  -2.,  -2.,  -2.,  -2.,  -2.,  -2.,  -2.,  -2.],\n",
       "       [ -1.,  -1.,  -1.,  -1.,  -1.,  -1.,  -1.,  -1.,  -1.,  -1.,  -1.,\n",
       "         -1.,  -1.,  -1.,  -1.,  -1.,  -1.,  -1.,  -1.,  -1.],\n",
       "       [  0.,   0.,   0.,   0.,   0.,   0.,   0.,   0.,   0.,   0.,   0.,\n",
       "          0.,   0.,   0.,   0.,   0.,   0.,   0.,   0.,   0.],\n",
       "       [  1.,   1.,   1.,   1.,   1.,   1.,   1.,   1.,   1.,   1.,   1.,\n",
       "          1.,   1.,   1.,   1.,   1.,   1.,   1.,   1.,   1.],\n",
       "       [  2.,   2.,   2.,   2.,   2.,   2.,   2.,   2.,   2.,   2.,   2.,\n",
       "          2.,   2.,   2.,   2.,   2.,   2.,   2.,   2.,   2.],\n",
       "       [  3.,   3.,   3.,   3.,   3.,   3.,   3.,   3.,   3.,   3.,   3.,\n",
       "          3.,   3.,   3.,   3.,   3.,   3.,   3.,   3.,   3.],\n",
       "       [  4.,   4.,   4.,   4.,   4.,   4.,   4.,   4.,   4.,   4.,   4.,\n",
       "          4.,   4.,   4.,   4.,   4.,   4.,   4.,   4.,   4.],\n",
       "       [  5.,   5.,   5.,   5.,   5.,   5.,   5.,   5.,   5.,   5.,   5.,\n",
       "          5.,   5.,   5.,   5.,   5.,   5.,   5.,   5.,   5.],\n",
       "       [  6.,   6.,   6.,   6.,   6.,   6.,   6.,   6.,   6.,   6.,   6.,\n",
       "          6.,   6.,   6.,   6.,   6.,   6.,   6.,   6.,   6.],\n",
       "       [  7.,   7.,   7.,   7.,   7.,   7.,   7.,   7.,   7.,   7.,   7.,\n",
       "          7.,   7.,   7.,   7.,   7.,   7.,   7.,   7.,   7.],\n",
       "       [  8.,   8.,   8.,   8.,   8.,   8.,   8.,   8.,   8.,   8.,   8.,\n",
       "          8.,   8.,   8.,   8.,   8.,   8.,   8.,   8.,   8.],\n",
       "       [  9.,   9.,   9.,   9.,   9.,   9.,   9.,   9.,   9.,   9.,   9.,\n",
       "          9.,   9.,   9.,   9.,   9.,   9.,   9.,   9.,   9.]])"
      ]
     },
     "execution_count": 45,
     "metadata": {},
     "output_type": "execute_result"
    }
   ],
   "source": [
    "xx,yy = np.meshgrid(a,b)\n",
    "yy"
   ]
  },
  {
   "cell_type": "code",
   "execution_count": 46,
   "metadata": {},
   "outputs": [
    {
     "data": {
      "text/plain": [
       "<matplotlib.collections.PathCollection at 0x1c2164c13d0>"
      ]
     },
     "execution_count": 46,
     "metadata": {},
     "output_type": "execute_result"
    },
    {
     "data": {
      "image/png": "[encoded data removed]",
      "text/plain": [
       "<Figure size 640x480 with 1 Axes>"
      ]
     },
     "metadata": {},
     "output_type": "display_data"
    }
   ],
   "source": [
    "import matplotlib.pyplot as plt\n",
    "plt.scatter(xx,yy)"
   ]
  },
  {
   "cell_type": "code",
   "execution_count": 47,
   "metadata": {},
   "outputs": [
    {
     "data": {
      "text/plain": [
       "array([[200., 181., 164., 149., 136., 125., 116., 109., 104., 101., 100.,\n",
       "        101., 104., 109., 116., 125., 136., 149., 164., 181.],\n",
       "       [181., 162., 145., 130., 117., 106.,  97.,  90.,  85.,  82.,  81.,\n",
       "         82.,  85.,  90.,  97., 106., 117., 130., 145., 162.],\n",
       "       [164., 145., 128., 113., 100.,  89.,  80.,  73.,  68.,  65.,  64.,\n",
       "         65.,  68.,  73.,  80.,  89., 100., 113., 128., 145.],\n",
       "       [149., 130., 113.,  98.,  85.,  74.,  65.,  58.,  53.,  50.,  49.,\n",
       "         50.,  53.,  58.,  65.,  74.,  85.,  98., 113., 130.],\n",
       "       [136., 117., 100.,  85.,  72.,  61.,  52.,  45.,  40.,  37.,  36.,\n",
       "         37.,  40.,  45.,  52.,  61.,  72.,  85., 100., 117.],\n",
       "       [125., 106.,  89.,  74.,  61.,  50.,  41.,  34.,  29.,  26.,  25.,\n",
       "         26.,  29.,  34.,  41.,  50.,  61.,  74.,  89., 106.],\n",
       "       [116.,  97.,  80.,  65.,  52.,  41.,  32.,  25.,  20.,  17.,  16.,\n",
       "         17.,  20.,  25.,  32.,  41.,  52.,  65.,  80.,  97.],\n",
       "       [109.,  90.,  73.,  58.,  45.,  34.,  25.,  18.,  13.,  10.,   9.,\n",
       "         10.,  13.,  18.,  25.,  34.,  45.,  58.,  73.,  90.],\n",
       "       [104.,  85.,  68.,  53.,  40.,  29.,  20.,  13.,   8.,   5.,   4.,\n",
       "          5.,   8.,  13.,  20.,  29.,  40.,  53.,  68.,  85.],\n",
       "       [101.,  82.,  65.,  50.,  37.,  26.,  17.,  10.,   5.,   2.,   1.,\n",
       "          2.,   5.,  10.,  17.,  26.,  37.,  50.,  65.,  82.],\n",
       "       [100.,  81.,  64.,  49.,  36.,  25.,  16.,   9.,   4.,   1.,   0.,\n",
       "          1.,   4.,   9.,  16.,  25.,  36.,  49.,  64.,  81.],\n",
       "       [101.,  82.,  65.,  50.,  37.,  26.,  17.,  10.,   5.,   2.,   1.,\n",
       "          2.,   5.,  10.,  17.,  26.,  37.,  50.,  65.,  82.],\n",
       "       [104.,  85.,  68.,  53.,  40.,  29.,  20.,  13.,   8.,   5.,   4.,\n",
       "          5.,   8.,  13.,  20.,  29.,  40.,  53.,  68.,  85.],\n",
       "       [109.,  90.,  73.,  58.,  45.,  34.,  25.,  18.,  13.,  10.,   9.,\n",
       "         10.,  13.,  18.,  25.,  34.,  45.,  58.,  73.,  90.],\n",
       "       [116.,  97.,  80.,  65.,  52.,  41.,  32.,  25.,  20.,  17.,  16.,\n",
       "         17.,  20.,  25.,  32.,  41.,  52.,  65.,  80.,  97.],\n",
       "       [125., 106.,  89.,  74.,  61.,  50.,  41.,  34.,  29.,  26.,  25.,\n",
       "         26.,  29.,  34.,  41.,  50.,  61.,  74.,  89., 106.],\n",
       "       [136., 117., 100.,  85.,  72.,  61.,  52.,  45.,  40.,  37.,  36.,\n",
       "         37.,  40.,  45.,  52.,  61.,  72.,  85., 100., 117.],\n",
       "       [149., 130., 113.,  98.,  85.,  74.,  65.,  58.,  53.,  50.,  49.,\n",
       "         50.,  53.,  58.,  65.,  74.,  85.,  98., 113., 130.],\n",
       "       [164., 145., 128., 113., 100.,  89.,  80.,  73.,  68.,  65.,  64.,\n",
       "         65.,  68.,  73.,  80.,  89., 100., 113., 128., 145.],\n",
       "       [181., 162., 145., 130., 117., 106.,  97.,  90.,  85.,  82.,  81.,\n",
       "         82.,  85.,  90.,  97., 106., 117., 130., 145., 162.]])"
      ]
     },
     "execution_count": 47,
     "metadata": {},
     "output_type": "execute_result"
    }
   ],
   "source": [
    "def func(x,y):\n",
    "  return x**2 + y**2\n",
    "zz = func(xx,yy) \n",
    "zz"
   ]
  },
  {
   "cell_type": "code",
   "execution_count": 48,
   "metadata": {},
   "outputs": [
    {
     "data": {
      "application/vnd.plotly.v1+json": {
       "config": {
        "plotlyServerURL": "https://plot.ly"
       },
       "data": [
        {
         "hovertemplate": "<extra></extra>",
         "legendgroup": "",
         "marker": {
          "color": "#636efa",
          "symbol": "circle"
         },
         "mode": "markers",
         "name": "",
         "scene": "scene",
         "showlegend": false,
         "type": "scatter3d"
        },
        {
         "type": "surface",
         "x": [
          [
           -10,
           -9,
           -8,
           -7,
           -6,
           -5,
           -4,
           -3,
           -2,
           -1,
           0,
           1,
           2,
           3,
           4,
           5,
           6,
           7,
           8,
           9
          ],
          [
           -10,
           -9,
           -8,
           -7,
           -6,
           -5,
           -4,
           -3,
           -2,
           -1,
           0,
           1,
           2,
           3,
           4,
           5,
           6,
           7,
           8,
           9
          ],
          [
           -10,
           -9,
           -8,
           -7,
           -6,
           -5,
           -4,
           -3,
           -2,
           -1,
           0,
           1,
           2,
           3,
           4,
           5,
           6,
           7,
           8,
           9
          ],
          [
           -10,
           -9,
           -8,
           -7,
           -6,
           -5,
           -4,
           -3,
           -2,
           -1,
           0,
           1,
           2,
           3,
           4,
           5,
           6,
           7,
           8,
           9
          ],
          [
           -10,
           -9,
           -8,
           -7,
           -6,
           -5,
           -4,
           -3,
           -2,
           -1,
           0,
           1,
           2,
           3,
           4,
           5,
           6,
           7,
           8,
           9
          ],
          [
           -10,
           -9,
           -8,
           -7,
           -6,
           -5,
           -4,
           -3,
           -2,
           -1,
           0,
           1,
           2,
           3,
           4,
           5,
           6,
           7,
           8,
           9
          ],
          [
           -10,
           -9,
           -8,
           -7,
           -6,
           -5,
           -4,
           -3,
           -2,
           -1,
           0,
           1,
           2,
           3,
           4,
           5,
           6,
           7,
           8,
           9
          ],
          [
           -10,
           -9,
           -8,
           -7,
           -6,
           -5,
           -4,
           -3,
           -2,
           -1,
           0,
           1,
           2,
           3,
           4,
           5,
           6,
           7,
           8,
           9
          ],
          [
           -10,
           -9,
           -8,
           -7,
           -6,
           -5,
           -4,
           -3,
           -2,
           -1,
           0,
           1,
           2,
           3,
           4,
           5,
           6,
           7,
           8,
           9
          ],
          [
           -10,
           -9,
           -8,
           -7,
           -6,
           -5,
           -4,
           -3,
           -2,
           -1,
           0,
           1,
           2,
           3,
           4,
           5,
           6,
           7,
           8,
           9
          ],
          [
           -10,
           -9,
           -8,
           -7,
           -6,
           -5,
           -4,
           -3,
           -2,
           -1,
           0,
           1,
           2,
           3,
           4,
           5,
           6,
           7,
           8,
           9
          ],
          [
           -10,
           -9,
           -8,
           -7,
           -6,
           -5,
           -4,
           -3,
           -2,
           -1,
           0,
           1,
           2,
           3,
           4,
           5,
           6,
           7,
           8,
           9
          ],
          [
           -10,
           -9,
           -8,
           -7,
           -6,
           -5,
           -4,
           -3,
           -2,
           -1,
           0,
           1,
           2,
           3,
           4,
           5,
           6,
           7,
           8,
           9
          ],
          [
           -10,
           -9,
           -8,
           -7,
           -6,
           -5,
           -4,
           -3,
           -2,
           -1,
           0,
           1,
           2,
           3,
           4,
           5,
           6,
           7,
           8,
           9
          ],
          [
           -10,
           -9,
           -8,
           -7,
           -6,
           -5,
           -4,
           -3,
           -2,
           -1,
           0,
           1,
           2,
           3,
           4,
           5,
           6,
           7,
           8,
           9
          ],
          [
           -10,
           -9,
           -8,
           -7,
           -6,
           -5,
           -4,
           -3,
           -2,
           -1,
           0,
           1,
           2,
           3,
           4,
           5,
           6,
           7,
           8,
           9
          ],
          [
           -10,
           -9,
           -8,
           -7,
           -6,
           -5,
           -4,
           -3,
           -2,
           -1,
           0,
           1,
           2,
           3,
           4,
           5,
           6,
           7,
           8,
           9
          ],
          [
           -10,
           -9,
           -8,
           -7,
           -6,
           -5,
           -4,
           -3,
           -2,
           -1,
           0,
           1,
           2,
           3,
           4,
           5,
           6,
           7,
           8,
           9
          ],
          [
           -10,
           -9,
           -8,
           -7,
           -6,
           -5,
           -4,
           -3,
           -2,
           -1,
           0,
           1,
           2,
           3,
           4,
           5,
           6,
           7,
           8,
           9
          ],
          [
           -10,
           -9,
           -8,
           -7,
           -6,
           -5,
           -4,
           -3,
           -2,
           -1,
           0,
           1,
           2,
           3,
           4,
           5,
           6,
           7,
           8,
           9
          ]
         ],
         "y": [
          [
           -10,
           -10,
           -10,
           -10,
           -10,
           -10,
           -10,
           -10,
           -10,
           -10,
           -10,
           -10,
           -10,
           -10,
           -10,
           -10,
           -10,
           -10,
           -10,
           -10
          ],
          [
           -9,
           -9,
           -9,
           -9,
           -9,
           -9,
           -9,
           -9,
           -9,
           -9,
           -9,
           -9,
           -9,
           -9,
           -9,
           -9,
           -9,
           -9,
           -9,
           -9
          ],
          [
           -8,
           -8,
           -8,
           -8,
           -8,
           -8,
           -8,
           -8,
           -8,
           -8,
           -8,
           -8,
           -8,
           -8,
           -8,
           -8,
           -8,
           -8,
           -8,
           -8
          ],
          [
           -7,
           -7,
           -7,
           -7,
           -7,
           -7,
           -7,
           -7,
           -7,
           -7,
           -7,
           -7,
           -7,
           -7,
           -7,
           -7,
           -7,
           -7,
           -7,
           -7
          ],
          [
           -6,
           -6,
           -6,
           -6,
           -6,
           -6,
           -6,
           -6,
           -6,
           -6,
           -6,
           -6,
           -6,
           -6,
           -6,
           -6,
           -6,
           -6,
           -6,
           -6
          ],
          [
           -5,
           -5,
           -5,
           -5,
           -5,
           -5,
           -5,
           -5,
           -5,
           -5,
           -5,
           -5,
           -5,
           -5,
           -5,
           -5,
           -5,
           -5,
           -5,
           -5
          ],
          [
           -4,
           -4,
           -4,
           -4,
           -4,
           -4,
           -4,
           -4,
           -4,
           -4,
           -4,
           -4,
           -4,
           -4,
           -4,
           -4,
           -4,
           -4,
           -4,
           -4
          ],
          [
           -3,
           -3,
           -3,
           -3,
           -3,
           -3,
           -3,
           -3,
           -3,
           -3,
           -3,
           -3,
           -3,
           -3,
           -3,
           -3,
           -3,
           -3,
           -3,
           -3
          ],
          [
           -2,
           -2,
           -2,
           -2,
           -2,
           -2,
           -2,
           -2,
           -2,
           -2,
           -2,
           -2,
           -2,
           -2,
           -2,
           -2,
           -2,
           -2,
           -2,
           -2
          ],
          [
           -1,
           -1,
           -1,
           -1,
           -1,
           -1,
           -1,
           -1,
           -1,
           -1,
           -1,
           -1,
           -1,
           -1,
           -1,
           -1,
           -1,
           -1,
           -1,
           -1
          ],
          [
           0,
           0,
           0,
           0,
           0,
           0,
           0,
           0,
           0,
           0,
           0,
           0,
           0,
           0,
           0,
           0,
           0,
           0,
           0,
           0
          ],
          [
           1,
           1,
           1,
           1,
           1,
           1,
           1,
           1,
           1,
           1,
           1,
           1,
           1,
           1,
           1,
           1,
           1,
           1,
           1,
           1
          ],
          [
           2,
           2,
           2,
           2,
           2,
           2,
           2,
           2,
           2,
           2,
           2,
           2,
           2,
           2,
           2,
           2,
           2,
           2,
           2,
           2
          ],
          [
           3,
           3,
           3,
           3,
           3,
           3,
           3,
           3,
           3,
           3,
           3,
           3,
           3,
           3,
           3,
           3,
           3,
           3,
           3,
           3
          ],
          [
           4,
           4,
           4,
           4,
           4,
           4,
           4,
           4,
           4,
           4,
           4,
           4,
           4,
           4,
           4,
           4,
           4,
           4,
           4,
           4
          ],
          [
           5,
           5,
           5,
           5,
           5,
           5,
           5,
           5,
           5,
           5,
           5,
           5,
           5,
           5,
           5,
           5,
           5,
           5,
           5,
           5
          ],
          [
           6,
           6,
           6,
           6,
           6,
           6,
           6,
           6,
           6,
           6,
           6,
           6,
           6,
           6,
           6,
           6,
           6,
           6,
           6,
           6
          ],
          [
           7,
           7,
           7,
           7,
           7,
           7,
           7,
           7,
           7,
           7,
           7,
           7,
           7,
           7,
           7,
           7,
           7,
           7,
           7,
           7
          ],
          [
           8,
           8,
           8,
           8,
           8,
           8,
           8,
           8,
           8,
           8,
           8,
           8,
           8,
           8,
           8,
           8,
           8,
           8,
           8,
           8
          ],
          [
           9,
           9,
           9,
           9,
           9,
           9,
           9,
           9,
           9,
           9,
           9,
           9,
           9,
           9,
           9,
           9,
           9,
           9,
           9,
           9
          ]
         ],
         "z": [
          [
           200,
           181,
           164,
           149,
           136,
           125,
           116,
           109,
           104,
           101,
           100,
           101,
           104,
           109,
           116,
           125,
           136,
           149,
           164,
           181
          ],
          [
           181,
           162,
           145,
           130,
           117,
           106,
           97,
           90,
           85,
           82,
           81,
           82,
           85,
           90,
           97,
           106,
           117,
           130,
           145,
           162
          ],
          [
           164,
           145,
           128,
           113,
           100,
           89,
           80,
           73,
           68,
           65,
           64,
           65,
           68,
           73,
           80,
           89,
           100,
           113,
           128,
           145
          ],
          [
           149,
           130,
           113,
           98,
           85,
           74,
           65,
           58,
           53,
           50,
           49,
           50,
           53,
           58,
           65,
           74,
           85,
           98,
           113,
           130
          ],
          [
           136,
           117,
           100,
           85,
           72,
           61,
           52,
           45,
           40,
           37,
           36,
           37,
           40,
           45,
           52,
           61,
           72,
           85,
           100,
           117
          ],
          [
           125,
           106,
           89,
           74,
           61,
           50,
           41,
           34,
           29,
           26,
           25,
           26,
           29,
           34,
           41,
           50,
           61,
           74,
           89,
           106
          ],
          [
           116,
           97,
           80,
           65,
           52,
           41,
           32,
           25,
           20,
           17,
           16,
           17,
           20,
           25,
           32,
           41,
           52,
           65,
           80,
           97
          ],
          [
           109,
           90,
           73,
           58,
           45,
           34,
           25,
           18,
           13,
           10,
           9,
           10,
           13,
           18,
           25,
           34,
           45,
           58,
           73,
           90
          ],
          [
           104,
           85,
           68,
           53,
           40,
           29,
           20,
           13,
           8,
           5,
           4,
           5,
           8,
           13,
           20,
           29,
           40,
           53,
           68,
           85
          ],
          [
           101,
           82,
           65,
           50,
           37,
           26,
           17,
           10,
           5,
           2,
           1,
           2,
           5,
           10,
           17,
           26,
           37,
           50,
           65,
           82
          ],
          [
           100,
           81,
           64,
           49,
           36,
           25,
           16,
           9,
           4,
           1,
           0,
           1,
           4,
           9,
           16,
           25,
           36,
           49,
           64,
           81
          ],
          [
           101,
           82,
           65,
           50,
           37,
           26,
           17,
           10,
           5,
           2,
           1,
           2,
           5,
           10,
           17,
           26,
           37,
           50,
           65,
           82
          ],
          [
           104,
           85,
           68,
           53,
           40,
           29,
           20,
           13,
           8,
           5,
           4,
           5,
           8,
           13,
           20,
           29,
           40,
           53,
           68,
           85
          ],
          [
           109,
           90,
           73,
           58,
           45,
           34,
           25,
           18,
           13,
           10,
           9,
           10,
           13,
           18,
           25,
           34,
           45,
           58,
           73,
           90
          ],
          [
           116,
           97,
           80,
           65,
           52,
           41,
           32,
           25,
           20,
           17,
           16,
           17,
           20,
           25,
           32,
           41,
           52,
           65,
           80,
           97
          ],
          [
           125,
           106,
           89,
           74,
           61,
           50,
           41,
           34,
           29,
           26,
           25,
           26,
           29,
           34,
           41,
           50,
           61,
           74,
           89,
           106
          ],
          [
           136,
           117,
           100,
           85,
           72,
           61,
           52,
           45,
           40,
           37,
           36,
           37,
           40,
           45,
           52,
           61,
           72,
           85,
           100,
           117
          ],
          [
           149,
           130,
           113,
           98,
           85,
           74,
           65,
           58,
           53,
           50,
           49,
           50,
           53,
           58,
           65,
           74,
           85,
           98,
           113,
           130
          ],
          [
           164,
           145,
           128,
           113,
           100,
           89,
           80,
           73,
           68,
           65,
           64,
           65,
           68,
           73,
           80,
           89,
           100,
           113,
           128,
           145
          ],
          [
           181,
           162,
           145,
           130,
           117,
           106,
           97,
           90,
           85,
           82,
           81,
           82,
           85,
           90,
           97,
           106,
           117,
           130,
           145,
           162
          ]
         ]
        }
       ],
       "layout": {
        "legend": {
         "tracegroupgap": 0
        },
        "margin": {
         "t": 60
        },
        "scene": {
         "domain": {
          "x": [
           0,
           1
          ],
          "y": [
           0,
           1
          ]
         }
        },
        "template": {
         "data": {
          "bar": [
           {
            "error_x": {
             "color": "#2a3f5f"
            },
            "error_y": {
             "color": "#2a3f5f"
            },
            "marker": {
             "line": {
              "color": "#E5ECF6",
              "width": 0.5
             },
             "pattern": {
              "fillmode": "overlay",
              "size": 10,
              "solidity": 0.2
             }
            },
            "type": "bar"
           }
          ],
          "barpolar": [
           {
            "marker": {
             "line": {
              "color": "#E5ECF6",
              "width": 0.5
             },
             "pattern": {
              "fillmode": "overlay",
              "size": 10,
              "solidity": 0.2
             }
            },
            "type": "barpolar"
           }
          ],
          "carpet": [
           {
            "aaxis": {
             "endlinecolor": "#2a3f5f",
             "gridcolor": "white",
             "linecolor": "white",
             "minorgridcolor": "white",
             "startlinecolor": "#2a3f5f"
            },
            "baxis": {
             "endlinecolor": "#2a3f5f",
             "gridcolor": "white",
             "linecolor": "white",
             "minorgridcolor": "white",
             "startlinecolor": "#2a3f5f"
            },
            "type": "carpet"
           }
          ],
          "choropleth": [
           {
            "colorbar": {
             "outlinewidth": 0,
             "ticks": ""
            },
            "type": "choropleth"
           }
          ],
          "contour": [
           {
            "colorbar": {
             "outlinewidth": 0,
             "ticks": ""
            },
            "colorscale": [
             [
              0,
              "#0d0887"
             ],
             [
              0.1111111111111111,
              "#46039f"
             ],
             [
              0.2222222222222222,
              "#7201a8"
             ],
             [
              0.3333333333333333,
              "#9c179e"
             ],
             [
              0.4444444444444444,
              "#bd3786"
             ],
             [
              0.5555555555555556,
              "#d8576b"
             ],
             [
              0.6666666666666666,
              "#ed7953"
             ],
             [
              0.7777777777777778,
              "#fb9f3a"
             ],
             [
              0.8888888888888888,
              "#fdca26"
             ],
             [
              1,
              "#f0f921"
             ]
            ],
            "type": "contour"
           }
          ],
          "contourcarpet": [
           {
            "colorbar": {
             "outlinewidth": 0,
             "ticks": ""
            },
            "type": "contourcarpet"
           }
          ],
          "heatmap": [
           {
            "colorbar": {
             "outlinewidth": 0,
             "ticks": ""
            },
            "colorscale": [
             [
              0,
              "#0d0887"
             ],
             [
              0.1111111111111111,
              "#46039f"
             ],
             [
              0.2222222222222222,
              "#7201a8"
             ],
             [
              0.3333333333333333,
              "#9c179e"
             ],
             [
              0.4444444444444444,
              "#bd3786"
             ],
             [
              0.5555555555555556,
              "#d8576b"
             ],
             [
              0.6666666666666666,
              "#ed7953"
             ],
             [
              0.7777777777777778,
              "#fb9f3a"
             ],
             [
              0.8888888888888888,
              "#fdca26"
             ],
             [
              1,
              "#f0f921"
             ]
            ],
            "type": "heatmap"
           }
          ],
          "heatmapgl": [
           {
            "colorbar": {
             "outlinewidth": 0,
             "ticks": ""
            },
            "colorscale": [
             [
              0,
              "#0d0887"
             ],
             [
              0.1111111111111111,
              "#46039f"
             ],
             [
              0.2222222222222222,
              "#7201a8"
             ],
             [
              0.3333333333333333,
              "#9c179e"
             ],
             [
              0.4444444444444444,
              "#bd3786"
             ],
             [
              0.5555555555555556,
              "#d8576b"
             ],
             [
              0.6666666666666666,
              "#ed7953"
             ],
             [
              0.7777777777777778,
              "#fb9f3a"
             ],
             [
              0.8888888888888888,
              "#fdca26"
             ],
             [
              1,
              "#f0f921"
             ]
            ],
            "type": "heatmapgl"
           }
          ],
          "histogram": [
           {
            "marker": {
             "pattern": {
              "fillmode": "overlay",
              "size": 10,
              "solidity": 0.2
             }
            },
            "type": "histogram"
           }
          ],
          "histogram2d": [
           {
            "colorbar": {
             "outlinewidth": 0,
             "ticks": ""
            },
            "colorscale": [
             [
              0,
              "#0d0887"
             ],
             [
              0.1111111111111111,
              "#46039f"
             ],
             [
              0.2222222222222222,
              "#7201a8"
             ],
             [
              0.3333333333333333,
              "#9c179e"
             ],
             [
              0.4444444444444444,
              "#bd3786"
             ],
             [
              0.5555555555555556,
              "#d8576b"
             ],
             [
              0.6666666666666666,
              "#ed7953"
             ],
             [
              0.7777777777777778,
              "#fb9f3a"
             ],
             [
              0.8888888888888888,
              "#fdca26"
             ],
             [
              1,
              "#f0f921"
             ]
            ],
            "type": "histogram2d"
           }
          ],
          "histogram2dcontour": [
           {
            "colorbar": {
             "outlinewidth": 0,
             "ticks": ""
            },
            "colorscale": [
             [
              0,
              "#0d0887"
             ],
             [
              0.1111111111111111,
              "#46039f"
             ],
             [
              0.2222222222222222,
              "#7201a8"
             ],
             [
              0.3333333333333333,
              "#9c179e"
             ],
             [
              0.4444444444444444,
              "#bd3786"
             ],
             [
              0.5555555555555556,
              "#d8576b"
             ],
             [
              0.6666666666666666,
              "#ed7953"
             ],
             [
              0.7777777777777778,
              "#fb9f3a"
             ],
             [
              0.8888888888888888,
              "#fdca26"
             ],
             [
              1,
              "#f0f921"
             ]
            ],
            "type": "histogram2dcontour"
           }
          ],
          "mesh3d": [
           {
            "colorbar": {
             "outlinewidth": 0,
             "ticks": ""
            },
            "type": "mesh3d"
           }
          ],
          "parcoords": [
           {
            "line": {
             "colorbar": {
              "outlinewidth": 0,
              "ticks": ""
             }
            },
            "type": "parcoords"
           }
          ],
          "pie": [
           {
            "automargin": true,
            "type": "pie"
           }
          ],
          "scatter": [
           {
            "fillpattern": {
             "fillmode": "overlay",
             "size": 10,
             "solidity": 0.2
            },
            "type": "scatter"
           }
          ],
          "scatter3d": [
           {
            "line": {
             "colorbar": {
              "outlinewidth": 0,
              "ticks": ""
             }
            },
            "marker": {
             "colorbar": {
              "outlinewidth": 0,
              "ticks": ""
             }
            },
            "type": "scatter3d"
           }
          ],
          "scattercarpet": [
           {
            "marker": {
             "colorbar": {
              "outlinewidth": 0,
              "ticks": ""
             }
            },
            "type": "scattercarpet"
           }
          ],
          "scattergeo": [
           {
            "marker": {
             "colorbar": {
              "outlinewidth": 0,
              "ticks": ""
             }
            },
            "type": "scattergeo"
           }
          ],
          "scattergl": [
           {
            "marker": {
             "colorbar": {
              "outlinewidth": 0,
              "ticks": ""
             }
            },
            "type": "scattergl"
           }
          ],
          "scattermapbox": [
           {
            "marker": {
             "colorbar": {
              "outlinewidth": 0,
              "ticks": ""
             }
            },
            "type": "scattermapbox"
           }
          ],
          "scatterpolar": [
           {
            "marker": {
             "colorbar": {
              "outlinewidth": 0,
              "ticks": ""
             }
            },
            "type": "scatterpolar"
           }
          ],
          "scatterpolargl": [
           {
            "marker": {
             "colorbar": {
              "outlinewidth": 0,
              "ticks": ""
             }
            },
            "type": "scatterpolargl"
           }
          ],
          "scatterternary": [
           {
            "marker": {
             "colorbar": {
              "outlinewidth": 0,
              "ticks": ""
             }
            },
            "type": "scatterternary"
           }
          ],
          "surface": [
           {
            "colorbar": {
             "outlinewidth": 0,
             "ticks": ""
            },
            "colorscale": [
             [
              0,
              "#0d0887"
             ],
             [
              0.1111111111111111,
              "#46039f"
             ],
             [
              0.2222222222222222,
              "#7201a8"
             ],
             [
              0.3333333333333333,
              "#9c179e"
             ],
             [
              0.4444444444444444,
              "#bd3786"
             ],
             [
              0.5555555555555556,
              "#d8576b"
             ],
             [
              0.6666666666666666,
              "#ed7953"
             ],
             [
              0.7777777777777778,
              "#fb9f3a"
             ],
             [
              0.8888888888888888,
              "#fdca26"
             ],
             [
              1,
              "#f0f921"
             ]
            ],
            "type": "surface"
           }
          ],
          "table": [
           {
            "cells": {
             "fill": {
              "color": "#EBF0F8"
             },
             "line": {
              "color": "white"
             }
            },
            "header": {
             "fill": {
              "color": "#C8D4E3"
             },
             "line": {
              "color": "white"
             }
            },
            "type": "table"
           }
          ]
         },
         "layout": {
          "annotationdefaults": {
           "arrowcolor": "#2a3f5f",
           "arrowhead": 0,
           "arrowwidth": 1
          },
          "autotypenumbers": "strict",
          "coloraxis": {
           "colorbar": {
            "outlinewidth": 0,
            "ticks": ""
           }
          },
          "colorscale": {
           "diverging": [
            [
             0,
             "#8e0152"
            ],
            [
             0.1,
             "#c51b7d"
            ],
            [
             0.2,
             "#de77ae"
            ],
            [
             0.3,
             "#f1b6da"
            ],
            [
             0.4,
             "#fde0ef"
            ],
            [
             0.5,
             "#f7f7f7"
            ],
            [
             0.6,
             "#e6f5d0"
            ],
            [
             0.7,
             "#b8e186"
            ],
            [
             0.8,
             "#7fbc41"
            ],
            [
             0.9,
             "#4d9221"
            ],
            [
             1,
             "#276419"
            ]
           ],
           "sequential": [
            [
             0,
             "#0d0887"
            ],
            [
             0.1111111111111111,
             "#46039f"
            ],
            [
             0.2222222222222222,
             "#7201a8"
            ],
            [
             0.3333333333333333,
             "#9c179e"
            ],
            [
             0.4444444444444444,
             "#bd3786"
            ],
            [
             0.5555555555555556,
             "#d8576b"
            ],
            [
             0.6666666666666666,
             "#ed7953"
            ],
            [
             0.7777777777777778,
             "#fb9f3a"
            ],
            [
             0.8888888888888888,
             "#fdca26"
            ],
            [
             1,
             "#f0f921"
            ]
           ],
           "sequentialminus": [
            [
             0,
             "#0d0887"
            ],
            [
             0.1111111111111111,
             "#46039f"
            ],
            [
             0.2222222222222222,
             "#7201a8"
            ],
            [
             0.3333333333333333,
             "#9c179e"
            ],
            [
             0.4444444444444444,
             "#bd3786"
            ],
            [
             0.5555555555555556,
             "#d8576b"
            ],
            [
             0.6666666666666666,
             "#ed7953"
            ],
            [
             0.7777777777777778,
             "#fb9f3a"
            ],
            [
             0.8888888888888888,
             "#fdca26"
            ],
            [
             1,
             "#f0f921"
            ]
           ]
          },
          "colorway": [
           "#636efa",
           "#EF553B",
           "#00cc96",
           "#ab63fa",
           "#FFA15A",
           "#19d3f3",
           "#FF6692",
           "#B6E880",
           "#FF97FF",
           "#FECB52"
          ],
          "font": {
           "color": "#2a3f5f"
          },
          "geo": {
           "bgcolor": "white",
           "lakecolor": "white",
           "landcolor": "#E5ECF6",
           "showlakes": true,
           "showland": true,
           "subunitcolor": "white"
          },
          "hoverlabel": {
           "align": "left"
          },
          "hovermode": "closest",
          "mapbox": {
           "style": "light"
          },
          "paper_bgcolor": "white",
          "plot_bgcolor": "#E5ECF6",
          "polar": {
           "angularaxis": {
            "gridcolor": "white",
            "linecolor": "white",
            "ticks": ""
           },
           "bgcolor": "#E5ECF6",
           "radialaxis": {
            "gridcolor": "white",
            "linecolor": "white",
            "ticks": ""
           }
          },
          "scene": {
           "xaxis": {
            "backgroundcolor": "#E5ECF6",
            "gridcolor": "white",
            "gridwidth": 2,
            "linecolor": "white",
            "showbackground": true,
            "ticks": "",
            "zerolinecolor": "white"
           },
           "yaxis": {
            "backgroundcolor": "#E5ECF6",
            "gridcolor": "white",
            "gridwidth": 2,
            "linecolor": "white",
            "showbackground": true,
            "ticks": "",
            "zerolinecolor": "white"
           },
           "zaxis": {
            "backgroundcolor": "#E5ECF6",
            "gridcolor": "white",
            "gridwidth": 2,
            "linecolor": "white",
            "showbackground": true,
            "ticks": "",
            "zerolinecolor": "white"
           }
          },
          "shapedefaults": {
           "line": {
            "color": "#2a3f5f"
           }
          },
          "ternary": {
           "aaxis": {
            "gridcolor": "white",
            "linecolor": "white",
            "ticks": ""
           },
           "baxis": {
            "gridcolor": "white",
            "linecolor": "white",
            "ticks": ""
           },
           "bgcolor": "#E5ECF6",
           "caxis": {
            "gridcolor": "white",
            "linecolor": "white",
            "ticks": ""
           }
          },
          "title": {
           "x": 0.05
          },
          "xaxis": {
           "automargin": true,
           "gridcolor": "white",
           "linecolor": "white",
           "ticks": "",
           "title": {
            "standoff": 15
           },
           "zerolinecolor": "white",
           "zerolinewidth": 2
          },
          "yaxis": {
           "automargin": true,
           "gridcolor": "white",
           "linecolor": "white",
           "ticks": "",
           "title": {
            "standoff": 15
           },
           "zerolinecolor": "white",
           "zerolinewidth": 2
          }
         }
        }
       }
      }
     },
     "metadata": {},
     "output_type": "display_data"
    }
   ],
   "source": [
    "import plotly.express as px\n",
    "import plotly.graph_objects as go\n",
    "\n",
    "fig = px.scatter_3d()\n",
    "fig.add_trace(go.Surface(x=xx,y=yy,z=zz))\n",
    "fig.show()"
   ]
  },
  {
   "cell_type": "code",
   "execution_count": 49,
   "metadata": {},
   "outputs": [
    {
     "data": {
      "text/plain": [
       "array([[45, 48, 65, 68],\n",
       "       [68, 10, 84, 22],\n",
       "       [37, 88, 71, 89]])"
      ]
     },
     "execution_count": 49,
     "metadata": {},
     "output_type": "execute_result"
    }
   ],
   "source": [
    "np.random.seed(0)\n",
    "np.random.randint(1,100,12).reshape(3,4)"
   ]
  },
  {
   "cell_type": "code",
   "execution_count": 50,
   "metadata": {},
   "outputs": [
    {
     "data": {
      "text/plain": [
       "array([[38, 13, 73, 10],\n",
       "       [76,  6, 80, 65],\n",
       "       [17,  2, 77, 72]])"
      ]
     },
     "execution_count": 50,
     "metadata": {},
     "output_type": "execute_result"
    }
   ],
   "source": [
    "np.random.seed(1)\n",
    "np.random.randint(1,100,12).reshape(3,4)"
   ]
  },
  {
   "cell_type": "code",
   "execution_count": 51,
   "metadata": {},
   "outputs": [
    {
     "data": {
      "text/plain": [
       "array([  9.,   7.,  -7.,   6.,  -2., -10.,   8.,  -1.,  -9.,   4.,  -3.,\n",
       "        -6.,  -8.,   5.,   0.,   2.,   1.,  -5.,  -4.,   3.])"
      ]
     },
     "execution_count": 51,
     "metadata": {},
     "output_type": "execute_result"
    }
   ],
   "source": [
    "np.random.shuffle(a)\n",
    "a"
   ]
  },
  {
   "cell_type": "code",
   "execution_count": 52,
   "metadata": {},
   "outputs": [
    {
     "data": {
      "text/plain": [
       "array([-2., -7., -4.])"
      ]
     },
     "execution_count": 52,
     "metadata": {},
     "output_type": "execute_result"
    }
   ],
   "source": [
    "np.random.choice(a,3,replace=False)"
   ]
  },
  {
   "cell_type": "code",
   "execution_count": null,
   "metadata": {},
   "outputs": [
    {
     "data": {
      "text/plain": [
       "array(['1', 'Hello', 'True', '1.5', 'Abhay', 'False', '24'], dtype='<U32')"
      ]
     },
     "execution_count": 66,
     "metadata": {},
     "output_type": "execute_result"
    }
   ],
   "source": [
    "a = np.array([1,'Hello',True,1.5,'Abhay',False,24]) \n",
    "a # This is a homogeneous array"
   ]
  },
  {
   "cell_type": "code",
   "execution_count": 67,
   "metadata": {},
   "outputs": [],
   "source": [
    "# How to make heterogeneous array\n",
    "dt = np.dtype(\n",
    "    [\n",
    "        ('name','U20'),\n",
    "        ('iq',np.int32),\n",
    "        ('cgpa',np.float64),\n",
    "        ('placed','U20')\n",
    "    ]\n",
    ")"
   ]
  },
  {
   "cell_type": "code",
   "execution_count": 68,
   "metadata": {},
   "outputs": [
    {
     "data": {
      "text/plain": [
       "dtype([('name', '<U20'), ('iq', '<i4'), ('cgpa', '<f8'), ('placed', '<U20')])"
      ]
     },
     "execution_count": 68,
     "metadata": {},
     "output_type": "execute_result"
    }
   ],
   "source": [
    "dt"
   ]
  },
  {
   "cell_type": "code",
   "execution_count": 70,
   "metadata": {},
   "outputs": [
    {
     "data": {
      "text/plain": [
       "array([('Abhay', 100, 6.66, 'Yes'), ('Rohit', 120, 8.9 , 'Yes'),\n",
       "       ('Tarun',  80, 7.3 , 'Yes')],\n",
       "      dtype=[('name', '<U20'), ('iq', '<i4'), ('cgpa', '<f8'), ('placed', '<U20')])"
      ]
     },
     "execution_count": 70,
     "metadata": {},
     "output_type": "execute_result"
    }
   ],
   "source": [
    "stu = np.array(\n",
    "    [\n",
    "        ('Abhay',100,6.66,'Yes'),\n",
    "        ('Rohit',120,8.9,'Yes'),\n",
    "        ('Tarun',80,7.3,'Yes')\n",
    "    ],dtype=dt\n",
    ")\n",
    "stu"
   ]
  },
  {
   "cell_type": "code",
   "execution_count": 71,
   "metadata": {},
   "outputs": [
    {
     "data": {
      "text/plain": [
       "array(['Yes', 'Yes', 'Yes'], dtype='<U20')"
      ]
     },
     "execution_count": 71,
     "metadata": {},
     "output_type": "execute_result"
    }
   ],
   "source": [
    "stu['placed']"
   ]
  },
  {
   "cell_type": "code",
   "execution_count": null,
   "metadata": {},
   "outputs": [],
   "source": []
  }
 ],
 "metadata": {
  "kernelspec": {
   "display_name": "Python 3",
   "language": "python",
   "name": "python3"
  },
  "language_info": {
   "codemirror_mode": {
    "name": "ipython",
    "version": 3
   },
   "file_extension": ".py",
   "mimetype": "text/x-python",
   "name": "python",
   "nbconvert_exporter": "python",
   "pygments_lexer": "ipython3",
   "version": "3.12.4"
  }
 },
 "nbformat": 4,
 "nbformat_minor": 2
}

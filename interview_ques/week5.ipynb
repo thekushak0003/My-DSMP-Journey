{
 "cells": [
  {
   "cell_type": "code",
   "execution_count": 2,
   "metadata": {},
   "outputs": [],
   "source": [
    "import pandas as pd\n",
    "import numpy as np"
   ]
  },
  {
   "cell_type": "code",
   "execution_count": 3,
   "metadata": {},
   "outputs": [
    {
     "data": {
      "text/plain": [
       "array([-10.,  -9.,  -8.,  -7.,  -6.,  -5.,  -4.,  -3.,  -2.,  -1.,   0.,\n",
       "         1.,   2.,   3.,   4.,   5.,   6.,   7.,   8.,   9.])"
      ]
     },
     "execution_count": 3,
     "metadata": {},
     "output_type": "execute_result"
    }
   ],
   "source": [
    "a = np.linspace(-10,9,20)\n",
    "b = np.linspace(-10,9,20)\n",
    "b"
   ]
  },
  {
   "cell_type": "code",
   "execution_count": 4,
   "metadata": {},
   "outputs": [
    {
     "data": {
      "text/plain": [
       "array([[-10., -10., -10., -10., -10., -10., -10., -10., -10., -10., -10.,\n",
       "        -10., -10., -10., -10., -10., -10., -10., -10., -10.],\n",
       "       [ -9.,  -9.,  -9.,  -9.,  -9.,  -9.,  -9.,  -9.,  -9.,  -9.,  -9.,\n",
       "         -9.,  -9.,  -9.,  -9.,  -9.,  -9.,  -9.,  -9.,  -9.],\n",
       "       [ -8.,  -8.,  -8.,  -8.,  -8.,  -8.,  -8.,  -8.,  -8.,  -8.,  -8.,\n",
       "         -8.,  -8.,  -8.,  -8.,  -8.,  -8.,  -8.,  -8.,  -8.],\n",
       "       [ -7.,  -7.,  -7.,  -7.,  -7.,  -7.,  -7.,  -7.,  -7.,  -7.,  -7.,\n",
       "         -7.,  -7.,  -7.,  -7.,  -7.,  -7.,  -7.,  -7.,  -7.],\n",
       "       [ -6.,  -6.,  -6.,  -6.,  -6.,  -6.,  -6.,  -6.,  -6.,  -6.,  -6.,\n",
       "         -6.,  -6.,  -6.,  -6.,  -6.,  -6.,  -6.,  -6.,  -6.],\n",
       "       [ -5.,  -5.,  -5.,  -5.,  -5.,  -5.,  -5.,  -5.,  -5.,  -5.,  -5.,\n",
       "         -5.,  -5.,  -5.,  -5.,  -5.,  -5.,  -5.,  -5.,  -5.],\n",
       "       [ -4.,  -4.,  -4.,  -4.,  -4.,  -4.,  -4.,  -4.,  -4.,  -4.,  -4.,\n",
       "         -4.,  -4.,  -4.,  -4.,  -4.,  -4.,  -4.,  -4.,  -4.],\n",
       "       [ -3.,  -3.,  -3.,  -3.,  -3.,  -3.,  -3.,  -3.,  -3.,  -3.,  -3.,\n",
       "         -3.,  -3.,  -3.,  -3.,  -3.,  -3.,  -3.,  -3.,  -3.],\n",
       "       [ -2.,  -2.,  -2.,  -2.,  -2.,  -2.,  -2.,  -2.,  -2.,  -2.,  -2.,\n",
       "         -2.,  -2.,  -2.,  -2.,  -2.,  -2.,  -2.,  -2.,  -2.],\n",
       "       [ -1.,  -1.,  -1.,  -1.,  -1.,  -1.,  -1.,  -1.,  -1.,  -1.,  -1.,\n",
       "         -1.,  -1.,  -1.,  -1.,  -1.,  -1.,  -1.,  -1.,  -1.],\n",
       "       [  0.,   0.,   0.,   0.,   0.,   0.,   0.,   0.,   0.,   0.,   0.,\n",
       "          0.,   0.,   0.,   0.,   0.,   0.,   0.,   0.,   0.],\n",
       "       [  1.,   1.,   1.,   1.,   1.,   1.,   1.,   1.,   1.,   1.,   1.,\n",
       "          1.,   1.,   1.,   1.,   1.,   1.,   1.,   1.,   1.],\n",
       "       [  2.,   2.,   2.,   2.,   2.,   2.,   2.,   2.,   2.,   2.,   2.,\n",
       "          2.,   2.,   2.,   2.,   2.,   2.,   2.,   2.,   2.],\n",
       "       [  3.,   3.,   3.,   3.,   3.,   3.,   3.,   3.,   3.,   3.,   3.,\n",
       "          3.,   3.,   3.,   3.,   3.,   3.,   3.,   3.,   3.],\n",
       "       [  4.,   4.,   4.,   4.,   4.,   4.,   4.,   4.,   4.,   4.,   4.,\n",
       "          4.,   4.,   4.,   4.,   4.,   4.,   4.,   4.,   4.],\n",
       "       [  5.,   5.,   5.,   5.,   5.,   5.,   5.,   5.,   5.,   5.,   5.,\n",
       "          5.,   5.,   5.,   5.,   5.,   5.,   5.,   5.,   5.],\n",
       "       [  6.,   6.,   6.,   6.,   6.,   6.,   6.,   6.,   6.,   6.,   6.,\n",
       "          6.,   6.,   6.,   6.,   6.,   6.,   6.,   6.,   6.],\n",
       "       [  7.,   7.,   7.,   7.,   7.,   7.,   7.,   7.,   7.,   7.,   7.,\n",
       "          7.,   7.,   7.,   7.,   7.,   7.,   7.,   7.,   7.],\n",
       "       [  8.,   8.,   8.,   8.,   8.,   8.,   8.,   8.,   8.,   8.,   8.,\n",
       "          8.,   8.,   8.,   8.,   8.,   8.,   8.,   8.,   8.],\n",
       "       [  9.,   9.,   9.,   9.,   9.,   9.,   9.,   9.,   9.,   9.,   9.,\n",
       "          9.,   9.,   9.,   9.,   9.,   9.,   9.,   9.,   9.]])"
      ]
     },
     "execution_count": 4,
     "metadata": {},
     "output_type": "execute_result"
    }
   ],
   "source": [
    "xx,yy = np.meshgrid(a,b)\n",
    "yy"
   ]
  },
  {
   "cell_type": "code",
   "execution_count": 5,
   "metadata": {},
   "outputs": [
    {
     "data": {
      "text/plain": [
       "<matplotlib.collections.PathCollection at 0x2a3f261dca0>"
      ]
     },
     "execution_count": 5,
     "metadata": {},
     "output_type": "execute_result"
    },
    {
     "data": {
      "image/png": "[encoded data removed]",
      "text/plain": [
       "<Figure size 640x480 with 1 Axes>"
      ]
     },
     "metadata": {},
     "output_type": "display_data"
    }
   ],
   "source": [
    "import matplotlib.pyplot as plt\n",
    "plt.scatter(xx,yy)"
   ]
  },
  {
   "cell_type": "code",
   "execution_count": 6,
   "metadata": {},
   "outputs": [
    {
     "name": "stderr",
     "output_type": "stream",
     "text": [
      "C:\\Users\\mahes\\AppData\\Local\\Temp\\ipykernel_36184\\76457953.py:2: RuntimeWarning: divide by zero encountered in log\n",
      "  return 3*np.log(x) + 2*y\n",
      "C:\\Users\\mahes\\AppData\\Local\\Temp\\ipykernel_36184\\76457953.py:2: RuntimeWarning: invalid value encountered in log\n",
      "  return 3*np.log(x) + 2*y\n"
     ]
    },
    {
     "data": {
      "text/plain": [
       "array([[         nan,          nan,          nan,          nan,\n",
       "                 nan,          nan,          nan,          nan,\n",
       "                 nan,          nan,         -inf, -20.        ,\n",
       "        -17.92055846, -16.70416313, -15.84111692, -15.17168626,\n",
       "        -14.62472159, -14.16226955, -13.76167537, -13.40832627],\n",
       "       [         nan,          nan,          nan,          nan,\n",
       "                 nan,          nan,          nan,          nan,\n",
       "                 nan,          nan,         -inf, -18.        ,\n",
       "        -15.92055846, -14.70416313, -13.84111692, -13.17168626,\n",
       "        -12.62472159, -12.16226955, -11.76167537, -11.40832627],\n",
       "       [         nan,          nan,          nan,          nan,\n",
       "                 nan,          nan,          nan,          nan,\n",
       "                 nan,          nan,         -inf, -16.        ,\n",
       "        -13.92055846, -12.70416313, -11.84111692, -11.17168626,\n",
       "        -10.62472159, -10.16226955,  -9.76167537,  -9.40832627],\n",
       "       [         nan,          nan,          nan,          nan,\n",
       "                 nan,          nan,          nan,          nan,\n",
       "                 nan,          nan,         -inf, -14.        ,\n",
       "        -11.92055846, -10.70416313,  -9.84111692,  -9.17168626,\n",
       "         -8.62472159,  -8.16226955,  -7.76167537,  -7.40832627],\n",
       "       [         nan,          nan,          nan,          nan,\n",
       "                 nan,          nan,          nan,          nan,\n",
       "                 nan,          nan,         -inf, -12.        ,\n",
       "         -9.92055846,  -8.70416313,  -7.84111692,  -7.17168626,\n",
       "         -6.62472159,  -6.16226955,  -5.76167537,  -5.40832627],\n",
       "       [         nan,          nan,          nan,          nan,\n",
       "                 nan,          nan,          nan,          nan,\n",
       "                 nan,          nan,         -inf, -10.        ,\n",
       "         -7.92055846,  -6.70416313,  -5.84111692,  -5.17168626,\n",
       "         -4.62472159,  -4.16226955,  -3.76167537,  -3.40832627],\n",
       "       [         nan,          nan,          nan,          nan,\n",
       "                 nan,          nan,          nan,          nan,\n",
       "                 nan,          nan,         -inf,  -8.        ,\n",
       "         -5.92055846,  -4.70416313,  -3.84111692,  -3.17168626,\n",
       "         -2.62472159,  -2.16226955,  -1.76167537,  -1.40832627],\n",
       "       [         nan,          nan,          nan,          nan,\n",
       "                 nan,          nan,          nan,          nan,\n",
       "                 nan,          nan,         -inf,  -6.        ,\n",
       "         -3.92055846,  -2.70416313,  -1.84111692,  -1.17168626,\n",
       "         -0.62472159,  -0.16226955,   0.23832463,   0.59167373],\n",
       "       [         nan,          nan,          nan,          nan,\n",
       "                 nan,          nan,          nan,          nan,\n",
       "                 nan,          nan,         -inf,  -4.        ,\n",
       "         -1.92055846,  -0.70416313,   0.15888308,   0.82831374,\n",
       "          1.37527841,   1.83773045,   2.23832463,   2.59167373],\n",
       "       [         nan,          nan,          nan,          nan,\n",
       "                 nan,          nan,          nan,          nan,\n",
       "                 nan,          nan,         -inf,  -2.        ,\n",
       "          0.07944154,   1.29583687,   2.15888308,   2.82831374,\n",
       "          3.37527841,   3.83773045,   4.23832463,   4.59167373],\n",
       "       [         nan,          nan,          nan,          nan,\n",
       "                 nan,          nan,          nan,          nan,\n",
       "                 nan,          nan,         -inf,   0.        ,\n",
       "          2.07944154,   3.29583687,   4.15888308,   4.82831374,\n",
       "          5.37527841,   5.83773045,   6.23832463,   6.59167373],\n",
       "       [         nan,          nan,          nan,          nan,\n",
       "                 nan,          nan,          nan,          nan,\n",
       "                 nan,          nan,         -inf,   2.        ,\n",
       "          4.07944154,   5.29583687,   6.15888308,   6.82831374,\n",
       "          7.37527841,   7.83773045,   8.23832463,   8.59167373],\n",
       "       [         nan,          nan,          nan,          nan,\n",
       "                 nan,          nan,          nan,          nan,\n",
       "                 nan,          nan,         -inf,   4.        ,\n",
       "          6.07944154,   7.29583687,   8.15888308,   8.82831374,\n",
       "          9.37527841,   9.83773045,  10.23832463,  10.59167373],\n",
       "       [         nan,          nan,          nan,          nan,\n",
       "                 nan,          nan,          nan,          nan,\n",
       "                 nan,          nan,         -inf,   6.        ,\n",
       "          8.07944154,   9.29583687,  10.15888308,  10.82831374,\n",
       "         11.37527841,  11.83773045,  12.23832463,  12.59167373],\n",
       "       [         nan,          nan,          nan,          nan,\n",
       "                 nan,          nan,          nan,          nan,\n",
       "                 nan,          nan,         -inf,   8.        ,\n",
       "         10.07944154,  11.29583687,  12.15888308,  12.82831374,\n",
       "         13.37527841,  13.83773045,  14.23832463,  14.59167373],\n",
       "       [         nan,          nan,          nan,          nan,\n",
       "                 nan,          nan,          nan,          nan,\n",
       "                 nan,          nan,         -inf,  10.        ,\n",
       "         12.07944154,  13.29583687,  14.15888308,  14.82831374,\n",
       "         15.37527841,  15.83773045,  16.23832463,  16.59167373],\n",
       "       [         nan,          nan,          nan,          nan,\n",
       "                 nan,          nan,          nan,          nan,\n",
       "                 nan,          nan,         -inf,  12.        ,\n",
       "         14.07944154,  15.29583687,  16.15888308,  16.82831374,\n",
       "         17.37527841,  17.83773045,  18.23832463,  18.59167373],\n",
       "       [         nan,          nan,          nan,          nan,\n",
       "                 nan,          nan,          nan,          nan,\n",
       "                 nan,          nan,         -inf,  14.        ,\n",
       "         16.07944154,  17.29583687,  18.15888308,  18.82831374,\n",
       "         19.37527841,  19.83773045,  20.23832463,  20.59167373],\n",
       "       [         nan,          nan,          nan,          nan,\n",
       "                 nan,          nan,          nan,          nan,\n",
       "                 nan,          nan,         -inf,  16.        ,\n",
       "         18.07944154,  19.29583687,  20.15888308,  20.82831374,\n",
       "         21.37527841,  21.83773045,  22.23832463,  22.59167373],\n",
       "       [         nan,          nan,          nan,          nan,\n",
       "                 nan,          nan,          nan,          nan,\n",
       "                 nan,          nan,         -inf,  18.        ,\n",
       "         20.07944154,  21.29583687,  22.15888308,  22.82831374,\n",
       "         23.37527841,  23.83773045,  24.23832463,  24.59167373]])"
      ]
     },
     "execution_count": 6,
     "metadata": {},
     "output_type": "execute_result"
    }
   ],
   "source": [
    "def func(x,y):\n",
    "  return 3*np.log(x) + 2*y\n",
    "zz = func(xx,yy) \n",
    "zz"
   ]
  },
  {
   "cell_type": "code",
   "execution_count": 7,
   "metadata": {},
   "outputs": [
    {
     "data": {
      "application/vnd.plotly.v1+json": {
       "config": {
        "plotlyServerURL": "https://plot.ly"
       },
       "data": [
        {
         "hovertemplate": "<extra></extra>",
         "legendgroup": "",
         "marker": {
          "color": "#636efa",
          "symbol": "circle"
         },
         "mode": "markers",
         "name": "",
         "scene": "scene",
         "showlegend": false,
         "type": "scatter3d"
        },
        {
         "type": "surface",
         "x": [
          [
           -10,
           -9,
           -8,
           -7,
           -6,
           -5,
           -4,
           -3,
           -2,
           -1,
           0,
           1,
           2,
           3,
           4,
           5,
           6,
           7,
           8,
           9
          ],
          [
           -10,
           -9,
           -8,
           -7,
           -6,
           -5,
           -4,
           -3,
           -2,
           -1,
           0,
           1,
           2,
           3,
           4,
           5,
           6,
           7,
           8,
           9
          ],
          [
           -10,
           -9,
           -8,
           -7,
           -6,
           -5,
           -4,
           -3,
           -2,
           -1,
           0,
           1,
           2,
           3,
           4,
           5,
           6,
           7,
           8,
           9
          ],
          [
           -10,
           -9,
           -8,
           -7,
           -6,
           -5,
           -4,
           -3,
           -2,
           -1,
           0,
           1,
           2,
           3,
           4,
           5,
           6,
           7,
           8,
           9
          ],
          [
           -10,
           -9,
           -8,
           -7,
           -6,
           -5,
           -4,
           -3,
           -2,
           -1,
           0,
           1,
           2,
           3,
           4,
           5,
           6,
           7,
           8,
           9
          ],
          [
           -10,
           -9,
           -8,
           -7,
           -6,
           -5,
           -4,
           -3,
           -2,
           -1,
           0,
           1,
           2,
           3,
           4,
           5,
           6,
           7,
           8,
           9
          ],
          [
           -10,
           -9,
           -8,
           -7,
           -6,
           -5,
           -4,
           -3,
           -2,
           -1,
           0,
           1,
           2,
           3,
           4,
           5,
           6,
           7,
           8,
           9
          ],
          [
           -10,
           -9,
           -8,
           -7,
           -6,
           -5,
           -4,
           -3,
           -2,
           -1,
           0,
           1,
           2,
           3,
           4,
           5,
           6,
           7,
           8,
           9
          ],
          [
           -10,
           -9,
           -8,
           -7,
           -6,
           -5,
           -4,
           -3,
           -2,
           -1,
           0,
           1,
           2,
           3,
           4,
           5,
           6,
           7,
           8,
           9
          ],
          [
           -10,
           -9,
           -8,
           -7,
           -6,
           -5,
           -4,
           -3,
           -2,
           -1,
           0,
           1,
           2,
           3,
           4,
           5,
           6,
           7,
           8,
           9
          ],
          [
           -10,
           -9,
           -8,
           -7,
           -6,
           -5,
           -4,
           -3,
           -2,
           -1,
           0,
           1,
           2,
           3,
           4,
           5,
           6,
           7,
           8,
           9
          ],
          [
           -10,
           -9,
           -8,
           -7,
           -6,
           -5,
           -4,
           -3,
           -2,
           -1,
           0,
           1,
           2,
           3,
           4,
           5,
           6,
           7,
           8,
           9
          ],
          [
           -10,
           -9,
           -8,
           -7,
           -6,
           -5,
           -4,
           -3,
           -2,
           -1,
           0,
           1,
           2,
           3,
           4,
           5,
           6,
           7,
           8,
           9
          ],
          [
           -10,
           -9,
           -8,
           -7,
           -6,
           -5,
           -4,
           -3,
           -2,
           -1,
           0,
           1,
           2,
           3,
           4,
           5,
           6,
           7,
           8,
           9
          ],
          [
           -10,
           -9,
           -8,
           -7,
           -6,
           -5,
           -4,
           -3,
           -2,
           -1,
           0,
           1,
           2,
           3,
           4,
           5,
           6,
           7,
           8,
           9
          ],
          [
           -10,
           -9,
           -8,
           -7,
           -6,
           -5,
           -4,
           -3,
           -2,
           -1,
           0,
           1,
           2,
           3,
           4,
           5,
           6,
           7,
           8,
           9
          ],
          [
           -10,
           -9,
           -8,
           -7,
           -6,
           -5,
           -4,
           -3,
           -2,
           -1,
           0,
           1,
           2,
           3,
           4,
           5,
           6,
           7,
           8,
           9
          ],
          [
           -10,
           -9,
           -8,
           -7,
           -6,
           -5,
           -4,
           -3,
           -2,
           -1,
           0,
           1,
           2,
           3,
           4,
           5,
           6,
           7,
           8,
           9
          ],
          [
           -10,
           -9,
           -8,
           -7,
           -6,
           -5,
           -4,
           -3,
           -2,
           -1,
           0,
           1,
           2,
           3,
           4,
           5,
           6,
           7,
           8,
           9
          ],
          [
           -10,
           -9,
           -8,
           -7,
           -6,
           -5,
           -4,
           -3,
           -2,
           -1,
           0,
           1,
           2,
           3,
           4,
           5,
           6,
           7,
           8,
           9
          ]
         ],
         "y": [
          [
           -10,
           -10,
           -10,
           -10,
           -10,
           -10,
           -10,
           -10,
           -10,
           -10,
           -10,
           -10,
           -10,
           -10,
           -10,
           -10,
           -10,
           -10,
           -10,
           -10
          ],
          [
           -9,
           -9,
           -9,
           -9,
           -9,
           -9,
           -9,
           -9,
           -9,
           -9,
           -9,
           -9,
           -9,
           -9,
           -9,
           -9,
           -9,
           -9,
           -9,
           -9
          ],
          [
           -8,
           -8,
           -8,
           -8,
           -8,
           -8,
           -8,
           -8,
           -8,
           -8,
           -8,
           -8,
           -8,
           -8,
           -8,
           -8,
           -8,
           -8,
           -8,
           -8
          ],
          [
           -7,
           -7,
           -7,
           -7,
           -7,
           -7,
           -7,
           -7,
           -7,
           -7,
           -7,
           -7,
           -7,
           -7,
           -7,
           -7,
           -7,
           -7,
           -7,
           -7
          ],
          [
           -6,
           -6,
           -6,
           -6,
           -6,
           -6,
           -6,
           -6,
           -6,
           -6,
           -6,
           -6,
           -6,
           -6,
           -6,
           -6,
           -6,
           -6,
           -6,
           -6
          ],
          [
           -5,
           -5,
           -5,
           -5,
           -5,
           -5,
           -5,
           -5,
           -5,
           -5,
           -5,
           -5,
           -5,
           -5,
           -5,
           -5,
           -5,
           -5,
           -5,
           -5
          ],
          [
           -4,
           -4,
           -4,
           -4,
           -4,
           -4,
           -4,
           -4,
           -4,
           -4,
           -4,
           -4,
           -4,
           -4,
           -4,
           -4,
           -4,
           -4,
           -4,
           -4
          ],
          [
           -3,
           -3,
           -3,
           -3,
           -3,
           -3,
           -3,
           -3,
           -3,
           -3,
           -3,
           -3,
           -3,
           -3,
           -3,
           -3,
           -3,
           -3,
           -3,
           -3
          ],
          [
           -2,
           -2,
           -2,
           -2,
           -2,
           -2,
           -2,
           -2,
           -2,
           -2,
           -2,
           -2,
           -2,
           -2,
           -2,
           -2,
           -2,
           -2,
           -2,
           -2
          ],
          [
           -1,
           -1,
           -1,
           -1,
           -1,
           -1,
           -1,
           -1,
           -1,
           -1,
           -1,
           -1,
           -1,
           -1,
           -1,
           -1,
           -1,
           -1,
           -1,
           -1
          ],
          [
           0,
           0,
           0,
           0,
           0,
           0,
           0,
           0,
           0,
           0,
           0,
           0,
           0,
           0,
           0,
           0,
           0,
           0,
           0,
           0
          ],
          [
           1,
           1,
           1,
           1,
           1,
           1,
           1,
           1,
           1,
           1,
           1,
           1,
           1,
           1,
           1,
           1,
           1,
           1,
           1,
           1
          ],
          [
           2,
           2,
           2,
           2,
           2,
           2,
           2,
           2,
           2,
           2,
           2,
           2,
           2,
           2,
           2,
           2,
           2,
           2,
           2,
           2
          ],
          [
           3,
           3,
           3,
           3,
           3,
           3,
           3,
           3,
           3,
           3,
           3,
           3,
           3,
           3,
           3,
           3,
           3,
           3,
           3,
           3
          ],
          [
           4,
           4,
           4,
           4,
           4,
           4,
           4,
           4,
           4,
           4,
           4,
           4,
           4,
           4,
           4,
           4,
           4,
           4,
           4,
           4
          ],
          [
           5,
           5,
           5,
           5,
           5,
           5,
           5,
           5,
           5,
           5,
           5,
           5,
           5,
           5,
           5,
           5,
           5,
           5,
           5,
           5
          ],
          [
           6,
           6,
           6,
           6,
           6,
           6,
           6,
           6,
           6,
           6,
           6,
           6,
           6,
           6,
           6,
           6,
           6,
           6,
           6,
           6
          ],
          [
           7,
           7,
           7,
           7,
           7,
           7,
           7,
           7,
           7,
           7,
           7,
           7,
           7,
           7,
           7,
           7,
           7,
           7,
           7,
           7
          ],
          [
           8,
           8,
           8,
           8,
           8,
           8,
           8,
           8,
           8,
           8,
           8,
           8,
           8,
           8,
           8,
           8,
           8,
           8,
           8,
           8
          ],
          [
           9,
           9,
           9,
           9,
           9,
           9,
           9,
           9,
           9,
           9,
           9,
           9,
           9,
           9,
           9,
           9,
           9,
           9,
           9,
           9
          ]
         ],
         "z": [
          [
           null,
           null,
           null,
           null,
           null,
           null,
           null,
           null,
           null,
           null,
           null,
           -20,
           -17.920558458320166,
           -16.70416313399567,
           -15.841116916640328,
           -15.1716862626977,
           -14.624721592315835,
           -14.162269552834061,
           -13.761675374960493,
           -13.408326267991342
          ],
          [
           null,
           null,
           null,
           null,
           null,
           null,
           null,
           null,
           null,
           null,
           null,
           -18,
           -15.920558458320164,
           -14.70416313399567,
           -13.841116916640328,
           -13.1716862626977,
           -12.624721592315835,
           -12.162269552834061,
           -11.761675374960493,
           -11.408326267991342
          ],
          [
           null,
           null,
           null,
           null,
           null,
           null,
           null,
           null,
           null,
           null,
           null,
           -16,
           -13.920558458320164,
           -12.70416313399567,
           -11.841116916640328,
           -11.1716862626977,
           -10.624721592315835,
           -10.162269552834061,
           -9.761675374960493,
           -9.408326267991342
          ],
          [
           null,
           null,
           null,
           null,
           null,
           null,
           null,
           null,
           null,
           null,
           null,
           -14,
           -11.920558458320164,
           -10.70416313399567,
           -9.841116916640328,
           -9.1716862626977,
           -8.624721592315835,
           -8.162269552834061,
           -7.761675374960493,
           -7.408326267991342
          ],
          [
           null,
           null,
           null,
           null,
           null,
           null,
           null,
           null,
           null,
           null,
           null,
           -12,
           -9.920558458320164,
           -8.70416313399567,
           -7.8411169166403285,
           -7.171686262697699,
           -6.624721592315835,
           -6.1622695528340605,
           -5.761675374960493,
           -5.408326267991342
          ],
          [
           null,
           null,
           null,
           null,
           null,
           null,
           null,
           null,
           null,
           null,
           null,
           -10,
           -7.920558458320164,
           -6.704163133995671,
           -5.8411169166403285,
           -5.171686262697699,
           -4.624721592315835,
           -4.1622695528340605,
           -3.761675374960493,
           -3.4083262679913418
          ],
          [
           null,
           null,
           null,
           null,
           null,
           null,
           null,
           null,
           null,
           null,
           null,
           -8,
           -5.920558458320164,
           -4.704163133995671,
           -3.8411169166403285,
           -3.1716862626976994,
           -2.6247215923158347,
           -2.1622695528340605,
           -1.7616753749604932,
           -1.4083262679913418
          ],
          [
           null,
           null,
           null,
           null,
           null,
           null,
           null,
           null,
           null,
           null,
           null,
           -6,
           -3.9205584583201643,
           -2.704163133995671,
           -1.8411169166403285,
           -1.1716862626976994,
           -0.6247215923158347,
           -0.16226955283406053,
           0.2383246250395068,
           0.5916737320086582
          ],
          [
           null,
           null,
           null,
           null,
           null,
           null,
           null,
           null,
           null,
           null,
           null,
           -4,
           -1.9205584583201643,
           -0.7041631339956709,
           0.1588830833596715,
           0.8283137373023006,
           1.3752784076841653,
           1.8377304471659395,
           2.238324625039507,
           2.5916737320086582
          ],
          [
           null,
           null,
           null,
           null,
           null,
           null,
           null,
           null,
           null,
           null,
           null,
           -2,
           0.07944154167983575,
           1.2958368660043291,
           2.1588830833596715,
           2.8283137373023006,
           3.3752784076841653,
           3.8377304471659395,
           4.238324625039507,
           4.591673732008658
          ],
          [
           null,
           null,
           null,
           null,
           null,
           null,
           null,
           null,
           null,
           null,
           null,
           0,
           2.0794415416798357,
           3.295836866004329,
           4.1588830833596715,
           4.828313737302301,
           5.375278407684165,
           5.8377304471659395,
           6.238324625039507,
           6.591673732008658
          ],
          [
           null,
           null,
           null,
           null,
           null,
           null,
           null,
           null,
           null,
           null,
           null,
           2,
           4.079441541679836,
           5.295836866004329,
           6.1588830833596715,
           6.828313737302301,
           7.375278407684165,
           7.8377304471659395,
           8.238324625039507,
           8.591673732008658
          ],
          [
           null,
           null,
           null,
           null,
           null,
           null,
           null,
           null,
           null,
           null,
           null,
           4,
           6.079441541679836,
           7.295836866004329,
           8.158883083359672,
           8.8283137373023,
           9.375278407684165,
           9.837730447165939,
           10.238324625039507,
           10.591673732008658
          ],
          [
           null,
           null,
           null,
           null,
           null,
           null,
           null,
           null,
           null,
           null,
           null,
           6,
           8.079441541679836,
           9.29583686600433,
           10.158883083359672,
           10.8283137373023,
           11.375278407684165,
           11.837730447165939,
           12.238324625039507,
           12.591673732008658
          ],
          [
           null,
           null,
           null,
           null,
           null,
           null,
           null,
           null,
           null,
           null,
           null,
           8,
           10.079441541679836,
           11.29583686600433,
           12.158883083359672,
           12.8283137373023,
           13.375278407684165,
           13.837730447165939,
           14.238324625039507,
           14.591673732008658
          ],
          [
           null,
           null,
           null,
           null,
           null,
           null,
           null,
           null,
           null,
           null,
           null,
           10,
           12.079441541679836,
           13.29583686600433,
           14.158883083359672,
           14.8283137373023,
           15.375278407684165,
           15.837730447165939,
           16.238324625039507,
           16.59167373200866
          ],
          [
           null,
           null,
           null,
           null,
           null,
           null,
           null,
           null,
           null,
           null,
           null,
           12,
           14.079441541679836,
           15.29583686600433,
           16.158883083359672,
           16.828313737302302,
           17.375278407684164,
           17.83773044716594,
           18.238324625039507,
           18.59167373200866
          ],
          [
           null,
           null,
           null,
           null,
           null,
           null,
           null,
           null,
           null,
           null,
           null,
           14,
           16.079441541679834,
           17.29583686600433,
           18.158883083359672,
           18.828313737302302,
           19.375278407684164,
           19.83773044716594,
           20.238324625039507,
           20.59167373200866
          ],
          [
           null,
           null,
           null,
           null,
           null,
           null,
           null,
           null,
           null,
           null,
           null,
           16,
           18.079441541679834,
           19.29583686600433,
           20.158883083359672,
           20.828313737302302,
           21.375278407684164,
           21.83773044716594,
           22.238324625039507,
           22.59167373200866
          ],
          [
           null,
           null,
           null,
           null,
           null,
           null,
           null,
           null,
           null,
           null,
           null,
           18,
           20.079441541679834,
           21.29583686600433,
           22.158883083359672,
           22.828313737302302,
           23.375278407684164,
           23.83773044716594,
           24.238324625039507,
           24.59167373200866
          ]
         ]
        }
       ],
       "layout": {
        "legend": {
         "tracegroupgap": 0
        },
        "margin": {
         "t": 60
        },
        "scene": {
         "domain": {
          "x": [
           0,
           1
          ],
          "y": [
           0,
           1
          ]
         }
        },
        "template": {
         "data": {
          "bar": [
           {
            "error_x": {
             "color": "#2a3f5f"
            },
            "error_y": {
             "color": "#2a3f5f"
            },
            "marker": {
             "line": {
              "color": "#E5ECF6",
              "width": 0.5
             },
             "pattern": {
              "fillmode": "overlay",
              "size": 10,
              "solidity": 0.2
             }
            },
            "type": "bar"
           }
          ],
          "barpolar": [
           {
            "marker": {
             "line": {
              "color": "#E5ECF6",
              "width": 0.5
             },
             "pattern": {
              "fillmode": "overlay",
              "size": 10,
              "solidity": 0.2
             }
            },
            "type": "barpolar"
           }
          ],
          "carpet": [
           {
            "aaxis": {
             "endlinecolor": "#2a3f5f",
             "gridcolor": "white",
             "linecolor": "white",
             "minorgridcolor": "white",
             "startlinecolor": "#2a3f5f"
            },
            "baxis": {
             "endlinecolor": "#2a3f5f",
             "gridcolor": "white",
             "linecolor": "white",
             "minorgridcolor": "white",
             "startlinecolor": "#2a3f5f"
            },
            "type": "carpet"
           }
          ],
          "choropleth": [
           {
            "colorbar": {
             "outlinewidth": 0,
             "ticks": ""
            },
            "type": "choropleth"
           }
          ],
          "contour": [
           {
            "colorbar": {
             "outlinewidth": 0,
             "ticks": ""
            },
            "colorscale": [
             [
              0,
              "#0d0887"
             ],
             [
              0.1111111111111111,
              "#46039f"
             ],
             [
              0.2222222222222222,
              "#7201a8"
             ],
             [
              0.3333333333333333,
              "#9c179e"
             ],
             [
              0.4444444444444444,
              "#bd3786"
             ],
             [
              0.5555555555555556,
              "#d8576b"
             ],
             [
              0.6666666666666666,
              "#ed7953"
             ],
             [
              0.7777777777777778,
              "#fb9f3a"
             ],
             [
              0.8888888888888888,
              "#fdca26"
             ],
             [
              1,
              "#f0f921"
             ]
            ],
            "type": "contour"
           }
          ],
          "contourcarpet": [
           {
            "colorbar": {
             "outlinewidth": 0,
             "ticks": ""
            },
            "type": "contourcarpet"
           }
          ],
          "heatmap": [
           {
            "colorbar": {
             "outlinewidth": 0,
             "ticks": ""
            },
            "colorscale": [
             [
              0,
              "#0d0887"
             ],
             [
              0.1111111111111111,
              "#46039f"
             ],
             [
              0.2222222222222222,
              "#7201a8"
             ],
             [
              0.3333333333333333,
              "#9c179e"
             ],
             [
              0.4444444444444444,
              "#bd3786"
             ],
             [
              0.5555555555555556,
              "#d8576b"
             ],
             [
              0.6666666666666666,
              "#ed7953"
             ],
             [
              0.7777777777777778,
              "#fb9f3a"
             ],
             [
              0.8888888888888888,
              "#fdca26"
             ],
             [
              1,
              "#f0f921"
             ]
            ],
            "type": "heatmap"
           }
          ],
          "heatmapgl": [
           {
            "colorbar": {
             "outlinewidth": 0,
             "ticks": ""
            },
            "colorscale": [
             [
              0,
              "#0d0887"
             ],
             [
              0.1111111111111111,
              "#46039f"
             ],
             [
              0.2222222222222222,
              "#7201a8"
             ],
             [
              0.3333333333333333,
              "#9c179e"
             ],
             [
              0.4444444444444444,
              "#bd3786"
             ],
             [
              0.5555555555555556,
              "#d8576b"
             ],
             [
              0.6666666666666666,
              "#ed7953"
             ],
             [
              0.7777777777777778,
              "#fb9f3a"
             ],
             [
              0.8888888888888888,
              "#fdca26"
             ],
             [
              1,
              "#f0f921"
             ]
            ],
            "type": "heatmapgl"
           }
          ],
          "histogram": [
           {
            "marker": {
             "pattern": {
              "fillmode": "overlay",
              "size": 10,
              "solidity": 0.2
             }
            },
            "type": "histogram"
           }
          ],
          "histogram2d": [
           {
            "colorbar": {
             "outlinewidth": 0,
             "ticks": ""
            },
            "colorscale": [
             [
              0,
              "#0d0887"
             ],
             [
              0.1111111111111111,
              "#46039f"
             ],
             [
              0.2222222222222222,
              "#7201a8"
             ],
             [
              0.3333333333333333,
              "#9c179e"
             ],
             [
              0.4444444444444444,
              "#bd3786"
             ],
             [
              0.5555555555555556,
              "#d8576b"
             ],
             [
              0.6666666666666666,
              "#ed7953"
             ],
             [
              0.7777777777777778,
              "#fb9f3a"
             ],
             [
              0.8888888888888888,
              "#fdca26"
             ],
             [
              1,
              "#f0f921"
             ]
            ],
            "type": "histogram2d"
           }
          ],
          "histogram2dcontour": [
           {
            "colorbar": {
             "outlinewidth": 0,
             "ticks": ""
            },
            "colorscale": [
             [
              0,
              "#0d0887"
             ],
             [
              0.1111111111111111,
              "#46039f"
             ],
             [
              0.2222222222222222,
              "#7201a8"
             ],
             [
              0.3333333333333333,
              "#9c179e"
             ],
             [
              0.4444444444444444,
              "#bd3786"
             ],
             [
              0.5555555555555556,
              "#d8576b"
             ],
             [
              0.6666666666666666,
              "#ed7953"
             ],
             [
              0.7777777777777778,
              "#fb9f3a"
             ],
             [
              0.8888888888888888,
              "#fdca26"
             ],
             [
              1,
              "#f0f921"
             ]
            ],
            "type": "histogram2dcontour"
           }
          ],
          "mesh3d": [
           {
            "colorbar": {
             "outlinewidth": 0,
             "ticks": ""
            },
            "type": "mesh3d"
           }
          ],
          "parcoords": [
           {
            "line": {
             "colorbar": {
              "outlinewidth": 0,
              "ticks": ""
             }
            },
            "type": "parcoords"
           }
          ],
          "pie": [
           {
            "automargin": true,
            "type": "pie"
           }
          ],
          "scatter": [
           {
            "fillpattern": {
             "fillmode": "overlay",
             "size": 10,
             "solidity": 0.2
            },
            "type": "scatter"
           }
          ],
          "scatter3d": [
           {
            "line": {
             "colorbar": {
              "outlinewidth": 0,
              "ticks": ""
             }
            },
            "marker": {
             "colorbar": {
              "outlinewidth": 0,
              "ticks": ""
             }
            },
            "type": "scatter3d"
           }
          ],
          "scattercarpet": [
           {
            "marker": {
             "colorbar": {
              "outlinewidth": 0,
              "ticks": ""
             }
            },
            "type": "scattercarpet"
           }
          ],
          "scattergeo": [
           {
            "marker": {
             "colorbar": {
              "outlinewidth": 0,
              "ticks": ""
             }
            },
            "type": "scattergeo"
           }
          ],
          "scattergl": [
           {
            "marker": {
             "colorbar": {
              "outlinewidth": 0,
              "ticks": ""
             }
            },
            "type": "scattergl"
           }
          ],
          "scattermapbox": [
           {
            "marker": {
             "colorbar": {
              "outlinewidth": 0,
              "ticks": ""
             }
            },
            "type": "scattermapbox"
           }
          ],
          "scatterpolar": [
           {
            "marker": {
             "colorbar": {
              "outlinewidth": 0,
              "ticks": ""
             }
            },
            "type": "scatterpolar"
           }
          ],
          "scatterpolargl": [
           {
            "marker": {
             "colorbar": {
              "outlinewidth": 0,
              "ticks": ""
             }
            },
            "type": "scatterpolargl"
           }
          ],
          "scatterternary": [
           {
            "marker": {
             "colorbar": {
              "outlinewidth": 0,
              "ticks": ""
             }
            },
            "type": "scatterternary"
           }
          ],
          "surface": [
           {
            "colorbar": {
             "outlinewidth": 0,
             "ticks": ""
            },
            "colorscale": [
             [
              0,
              "#0d0887"
             ],
             [
              0.1111111111111111,
              "#46039f"
             ],
             [
              0.2222222222222222,
              "#7201a8"
             ],
             [
              0.3333333333333333,
              "#9c179e"
             ],
             [
              0.4444444444444444,
              "#bd3786"
             ],
             [
              0.5555555555555556,
              "#d8576b"
             ],
             [
              0.6666666666666666,
              "#ed7953"
             ],
             [
              0.7777777777777778,
              "#fb9f3a"
             ],
             [
              0.8888888888888888,
              "#fdca26"
             ],
             [
              1,
              "#f0f921"
             ]
            ],
            "type": "surface"
           }
          ],
          "table": [
           {
            "cells": {
             "fill": {
              "color": "#EBF0F8"
             },
             "line": {
              "color": "white"
             }
            },
            "header": {
             "fill": {
              "color": "#C8D4E3"
             },
             "line": {
              "color": "white"
             }
            },
            "type": "table"
           }
          ]
         },
         "layout": {
          "annotationdefaults": {
           "arrowcolor": "#2a3f5f",
           "arrowhead": 0,
           "arrowwidth": 1
          },
          "autotypenumbers": "strict",
          "coloraxis": {
           "colorbar": {
            "outlinewidth": 0,
            "ticks": ""
           }
          },
          "colorscale": {
           "diverging": [
            [
             0,
             "#8e0152"
            ],
            [
             0.1,
             "#c51b7d"
            ],
            [
             0.2,
             "#de77ae"
            ],
            [
             0.3,
             "#f1b6da"
            ],
            [
             0.4,
             "#fde0ef"
            ],
            [
             0.5,
             "#f7f7f7"
            ],
            [
             0.6,
             "#e6f5d0"
            ],
            [
             0.7,
             "#b8e186"
            ],
            [
             0.8,
             "#7fbc41"
            ],
            [
             0.9,
             "#4d9221"
            ],
            [
             1,
             "#276419"
            ]
           ],
           "sequential": [
            [
             0,
             "#0d0887"
            ],
            [
             0.1111111111111111,
             "#46039f"
            ],
            [
             0.2222222222222222,
             "#7201a8"
            ],
            [
             0.3333333333333333,
             "#9c179e"
            ],
            [
             0.4444444444444444,
             "#bd3786"
            ],
            [
             0.5555555555555556,
             "#d8576b"
            ],
            [
             0.6666666666666666,
             "#ed7953"
            ],
            [
             0.7777777777777778,
             "#fb9f3a"
            ],
            [
             0.8888888888888888,
             "#fdca26"
            ],
            [
             1,
             "#f0f921"
            ]
           ],
           "sequentialminus": [
            [
             0,
             "#0d0887"
            ],
            [
             0.1111111111111111,
             "#46039f"
            ],
            [
             0.2222222222222222,
             "#7201a8"
            ],
            [
             0.3333333333333333,
             "#9c179e"
            ],
            [
             0.4444444444444444,
             "#bd3786"
            ],
            [
             0.5555555555555556,
             "#d8576b"
            ],
            [
             0.6666666666666666,
             "#ed7953"
            ],
            [
             0.7777777777777778,
             "#fb9f3a"
            ],
            [
             0.8888888888888888,
             "#fdca26"
            ],
            [
             1,
             "#f0f921"
            ]
           ]
          },
          "colorway": [
           "#636efa",
           "#EF553B",
           "#00cc96",
           "#ab63fa",
           "#FFA15A",
           "#19d3f3",
           "#FF6692",
           "#B6E880",
           "#FF97FF",
           "#FECB52"
          ],
          "font": {
           "color": "#2a3f5f"
          },
          "geo": {
           "bgcolor": "white",
           "lakecolor": "white",
           "landcolor": "#E5ECF6",
           "showlakes": true,
           "showland": true,
           "subunitcolor": "white"
          },
          "hoverlabel": {
           "align": "left"
          },
          "hovermode": "closest",
          "mapbox": {
           "style": "light"
          },
          "paper_bgcolor": "white",
          "plot_bgcolor": "#E5ECF6",
          "polar": {
           "angularaxis": {
            "gridcolor": "white",
            "linecolor": "white",
            "ticks": ""
           },
           "bgcolor": "#E5ECF6",
           "radialaxis": {
            "gridcolor": "white",
            "linecolor": "white",
            "ticks": ""
           }
          },
          "scene": {
           "xaxis": {
            "backgroundcolor": "#E5ECF6",
            "gridcolor": "white",
            "gridwidth": 2,
            "linecolor": "white",
            "showbackground": true,
            "ticks": "",
            "zerolinecolor": "white"
           },
           "yaxis": {
            "backgroundcolor": "#E5ECF6",
            "gridcolor": "white",
            "gridwidth": 2,
            "linecolor": "white",
            "showbackground": true,
            "ticks": "",
            "zerolinecolor": "white"
           },
           "zaxis": {
            "backgroundcolor": "#E5ECF6",
            "gridcolor": "white",
            "gridwidth": 2,
            "linecolor": "white",
            "showbackground": true,
            "ticks": "",
            "zerolinecolor": "white"
           }
          },
          "shapedefaults": {
           "line": {
            "color": "#2a3f5f"
           }
          },
          "ternary": {
           "aaxis": {
            "gridcolor": "white",
            "linecolor": "white",
            "ticks": ""
           },
           "baxis": {
            "gridcolor": "white",
            "linecolor": "white",
            "ticks": ""
           },
           "bgcolor": "#E5ECF6",
           "caxis": {
            "gridcolor": "white",
            "linecolor": "white",
            "ticks": ""
           }
          },
          "title": {
           "x": 0.05
          },
          "xaxis": {
           "automargin": true,
           "gridcolor": "white",
           "linecolor": "white",
           "ticks": "",
           "title": {
            "standoff": 15
           },
           "zerolinecolor": "white",
           "zerolinewidth": 2
          },
          "yaxis": {
           "automargin": true,
           "gridcolor": "white",
           "linecolor": "white",
           "ticks": "",
           "title": {
            "standoff": 15
           },
           "zerolinecolor": "white",
           "zerolinewidth": 2
          }
         }
        }
       }
      }
     },
     "metadata": {},
     "output_type": "display_data"
    }
   ],
   "source": [
    "import plotly.express as px\n",
    "import plotly.graph_objects as go\n",
    "\n",
    "fig = px.scatter_3d()\n",
    "fig.add_trace(go.Surface(x=xx,y=yy,z=zz))\n",
    "fig.show()"
   ]
  },
  {
   "cell_type": "code",
   "execution_count": null,
   "metadata": {},
   "outputs": [],
   "source": []
  }
 ],
 "metadata": {
  "kernelspec": {
   "display_name": "Python 3",
   "language": "python",
   "name": "python3"
  },
  "language_info": {
   "codemirror_mode": {
    "name": "ipython",
    "version": 3
   },
   "file_extension": ".py",
   "mimetype": "text/x-python",
   "name": "python",
   "nbconvert_exporter": "python",
   "pygments_lexer": "ipython3",
   "version": "3.12.4"
  }
 },
 "nbformat": 4,
 "nbformat_minor": 2
}

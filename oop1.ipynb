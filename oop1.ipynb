{
 "cells": [
  {
   "cell_type": "code",
   "execution_count": 1,
   "metadata": {},
   "outputs": [],
   "source": [
    "class Atm:\n",
    "    # Constructer(special function) --> Superpower --> to execute no need to call explicitely\n",
    "    def __init__(self):\n",
    "        self.pin = ''\n",
    "        self.balance = 0\n",
    "        self.menu()\n",
    "    def menu(self):\n",
    "        user_input = input(\"\"\"\n",
    "        Hi how can I help you ?\n",
    "        1. Press 1 to create PIN\n",
    "        2. Press 2 to change PIN\n",
    "        3. Press 3 to check balance\n",
    "        4. Press 4 to withdraw\n",
    "        5. Press 5 to Exit      \n",
    "              \"\"\")  \n",
    "        \n",
    "        if user_input == '1':\n",
    "            # Create PIN\n",
    "            self.create_pin()\n",
    "        elif user_input == '2':\n",
    "            # Change PIN\n",
    "            self.change_pin()\n",
    "            pass \n",
    "        elif user_input == '3':\n",
    "            # Check balance\n",
    "            self.check_balance()\n",
    "            pass\n",
    "        elif user_input == '4':\n",
    "             # Withdraw\n",
    "             pass\n",
    "        else :\n",
    "            exit()\n",
    "    def create_pin(self):\n",
    "        user_pin = int(input(\"Enter your PIN:- \"))\n",
    "        self.pin = user_pin\n",
    "        \n",
    "        print(\"PIN created successfully\")  \n",
    "        # self.menu()                \n",
    "    \n",
    "    def change_pin(self):\n",
    "        old_pin = int(input(\"Enter your old PIN:- \"))\n",
    "        if old_pin == self.pin:\n",
    "            # Let him change the PIN\n",
    "            new_pin = int(input(\"Enter your new PIN:- \"))\n",
    "            self.pin = new_pin\n",
    "            print(\"PIN has been changed\")\n",
    "            self.menu()\n",
    "        else:\n",
    "            print(\"chal nikal...\")\n",
    "            self.menu()\n",
    "            \n",
    "    def check_balance(self):\n",
    "        user_pin = input('enter your pin')\n",
    "        if user_pin == self.pin:\n",
    "          print('your balance is ',self.balance)\n",
    "        else:\n",
    "          print('chal nikal yahan se')\n",
    "                \n",
    "                          \n",
    "        "
   ]
  },
  {
   "cell_type": "code",
   "execution_count": 2,
   "metadata": {},
   "outputs": [
    {
     "name": "stdout",
     "output_type": "stream",
     "text": [
      "PIN created successfully\n"
     ]
    }
   ],
   "source": [
    "obj = Atm()"
   ]
  },
  {
   "cell_type": "code",
   "execution_count": 3,
   "metadata": {},
   "outputs": [
    {
     "name": "stdout",
     "output_type": "stream",
     "text": [
      "<class '__main__.Atm'>\n"
     ]
    }
   ],
   "source": [
    "print(type(obj))"
   ]
  },
  {
   "cell_type": "code",
   "execution_count": null,
   "metadata": {},
   "outputs": [],
   "source": [
    "\n"
   ]
  }
 ],
 "metadata": {
  "kernelspec": {
   "display_name": "Python 3",
   "language": "python",
   "name": "python3"
  },
  "language_info": {
   "codemirror_mode": {
    "name": "ipython",
    "version": 3
   },
   "file_extension": ".py",
   "mimetype": "text/x-python",
   "name": "python",
   "nbconvert_exporter": "python",
   "pygments_lexer": "ipython3",
   "version": "3.12.4"
  }
 },
 "nbformat": 4,
 "nbformat_minor": 2
}

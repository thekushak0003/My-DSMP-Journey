{
 "cells": [
  {
   "cell_type": "code",
   "execution_count": 1,
   "metadata": {},
   "outputs": [
    {
     "name": "stdout",
     "output_type": "stream",
     "text": [
      "Hello World\n"
     ]
    }
   ],
   "source": [
    "print(\"Hello World\")"
   ]
  },
  {
   "cell_type": "markdown",
   "metadata": {},
   "source": [
    "### Operators in Python"
   ]
  },
  {
   "cell_type": "code",
   "execution_count": 14,
   "metadata": {},
   "outputs": [
    {
     "name": "stdout",
     "output_type": "stream",
     "text": [
      "324\n",
      "9\n"
     ]
    }
   ],
   "source": [
    "num = int(input(\"Enter a 3 digit number: \"))\n",
    "print(num)\n",
    "\n",
    "a = num%10\n",
    "num = num // 10\n",
    "b = num%10\n",
    "num = num // 10\n",
    "c = num%10\n",
    "\n",
    "\n",
    "print(a+b+c)"
   ]
  },
  {
   "cell_type": "code",
   "execution_count": 16,
   "metadata": {},
   "outputs": [
    {
     "name": "stdout",
     "output_type": "stream",
     "text": [
      "10 is smallest no.\n"
     ]
    }
   ],
   "source": [
    "a = int(input(\"Enter 1st number\"))\n",
    "b = int(input(\"Enter 2nd number\"))\n",
    "c = int(input(\"Enter 3rd number\"))\n",
    "\n",
    "if a < b and a < c:\n",
    "    print(a, \"is smallest no.\")\n",
    "elif b < c:\n",
    "    print(b, \"is smallest no.\")\n",
    "else:\n",
    "    print(c, \"is smallest no.\")    \n",
    "        "
   ]
  },
  {
   "cell_type": "code",
   "execution_count": 21,
   "metadata": {},
   "outputs": [
    {
     "name": "stdout",
     "output_type": "stream",
     "text": [
      "['_', 'case', 'match', 'type']\n"
     ]
    }
   ],
   "source": [
    "import keyword\n",
    "print(keyword.softkwlist)"
   ]
  },
  {
   "cell_type": "code",
   "execution_count": null,
   "metadata": {},
   "outputs": [],
   "source": [
    "help('modules')"
   ]
  },
  {
   "cell_type": "code",
   "execution_count": 26,
   "metadata": {},
   "outputs": [
    {
     "name": "stdout",
     "output_type": "stream",
     "text": [
      "Guess a higher no.\n",
      "Guess a higher no.\n",
      "Guess a lower no.\n",
      "Guess a lower no.\n",
      "Guess a higher no.\n",
      "Guess a higher no.\n",
      "Congrats! You Won.\n",
      "Attempts:  7\n"
     ]
    }
   ],
   "source": [
    "# Guess game\n",
    "import random\n",
    "\n",
    "jackpot = random.randint(1,100)\n",
    "guess = int(input(\"Guess the no.\"))\n",
    "counter = 1\n",
    "while guess != jackpot:\n",
    "    if guess < jackpot:\n",
    "        print(\"Guess a higher no.\")\n",
    "    else:\n",
    "        print(\"Guess a lower no.\")\n",
    "    guess = int(input(\"Guess the no.\"))\n",
    "    counter += 1\n",
    "else:\n",
    "    print(\"Congrats! You Won.\")  \n",
    "    print(\"Attempts: \", counter)          "
   ]
  },
  {
   "cell_type": "code",
   "execution_count": 27,
   "metadata": {},
   "outputs": [
    {
     "name": "stdout",
     "output_type": "stream",
     "text": [
      "geeks\n",
      "for\n",
      "geeks\n"
     ]
    }
   ],
   "source": [
    "list = [\"geeks\", \"for\", \"geeks\"]\n",
    "for index in range(len(list)):\n",
    "    print(list[index])"
   ]
  },
  {
   "cell_type": "code",
   "execution_count": 31,
   "metadata": {},
   "outputs": [
    {
     "name": "stdout",
     "output_type": "stream",
     "text": [
      "1\n",
      "4\n",
      "7\n",
      "10\n"
     ]
    }
   ],
   "source": [
    "for index in range(1,11,3):\n",
    "    print(index)"
   ]
  },
  {
   "cell_type": "code",
   "execution_count": 3,
   "metadata": {},
   "outputs": [
    {
     "name": "stdout",
     "output_type": "stream",
     "text": [
      "10 10000\n",
      "9 9090.91\n",
      "8 8264.46\n",
      "7 7513.15\n",
      "6 6830.13\n",
      "5 6209.21\n",
      "4 5644.74\n",
      "3 5131.58\n",
      "2 4665.07\n",
      "1 4240.98\n"
     ]
    }
   ],
   "source": [
    "curr_pop = 10000\n",
    "for i in range(10,0,-1):\n",
    "    print(i,round(curr_pop,2))\n",
    "    curr_pop = curr_pop/1.1"
   ]
  },
  {
   "cell_type": "code",
   "execution_count": 6,
   "metadata": {},
   "outputs": [
    {
     "name": "stdout",
     "output_type": "stream",
     "text": [
      "2.7182818284590455\n"
     ]
    }
   ],
   "source": [
    "# Series problem\n",
    "n = int(input(\"Enter n:- \"))\n",
    "\n",
    "result = 0\n",
    "fact = 1\n",
    "\n",
    "for i in range(1,n+1):\n",
    "    fact = fact*i\n",
    "    result = result + i/fact\n",
    "print(result)    \n",
    "    \n"
   ]
  },
  {
   "cell_type": "markdown",
   "metadata": {},
   "source": [
    "### Nested Loops"
   ]
  },
  {
   "cell_type": "code",
   "execution_count": 7,
   "metadata": {},
   "outputs": [
    {
     "name": "stdout",
     "output_type": "stream",
     "text": [
      "1 1\n",
      "1 2\n",
      "1 3\n",
      "2 1\n",
      "2 2\n",
      "2 3\n",
      "3 1\n",
      "3 2\n",
      "3 3\n"
     ]
    }
   ],
   "source": [
    "for i in range(1,4):\n",
    "    for j in range(1,4):\n",
    "        print(i,j)"
   ]
  },
  {
   "cell_type": "code",
   "execution_count": 14,
   "metadata": {},
   "outputs": [
    {
     "name": "stdout",
     "output_type": "stream",
     "text": [
      "*\n",
      "**\n",
      "***\n",
      "****\n",
      "*****\n",
      "******\n",
      "*******\n",
      "********\n",
      "*********\n",
      "**********\n"
     ]
    }
   ],
   "source": [
    "## Pattern Problems\n",
    "rows = int(input(\"Enter no. of rows: \"))\n",
    "for i in range(1,rows+1):\n",
    "    for j in range(1,i+1):\n",
    "        print(\"*\",end=\"\")        \n",
    "    print()"
   ]
  },
  {
   "cell_type": "code",
   "execution_count": 33,
   "metadata": {},
   "outputs": [
    {
     "name": "stdout",
     "output_type": "stream",
     "text": [
      "1\n",
      "121\n",
      "12321\n",
      "1234321\n",
      "123454321\n",
      "12345654321\n",
      "1234567654321\n",
      "123456787654321\n",
      "12345678987654321\n",
      "12345678910987654321\n"
     ]
    }
   ],
   "source": [
    "rows = int(input(\"Enter no. of rows: \"))\n",
    "for i in range(1,rows+1):\n",
    "    for j in range(1,i+1):\n",
    "        print(j,end=\"\")\n",
    "    for k in range(j-1,0,-1):\n",
    "        print(k,end=\"\")    \n",
    "    print()    "
   ]
  },
  {
   "cell_type": "code",
   "execution_count": 36,
   "metadata": {},
   "outputs": [
    {
     "name": "stdout",
     "output_type": "stream",
     "text": [
      "11\n",
      "13\n",
      "17\n",
      "19\n",
      "23\n",
      "29\n"
     ]
    }
   ],
   "source": [
    "lower = int(input(\"Give your lower range: \"))\n",
    "upper = int(input(\"Give your upper range: \"))\n",
    "\n",
    "for i in range(lower,upper+1):\n",
    "    for j in range(2,i):\n",
    "        if i%j == 0:\n",
    "            break\n",
    "    else:\n",
    "        print(i)    \n",
    "    "
   ]
  },
  {
   "cell_type": "markdown",
   "metadata": {},
   "source": [
    "### Practice Problems"
   ]
  },
  {
   "cell_type": "code",
   "execution_count": 18,
   "metadata": {},
   "outputs": [
    {
     "name": "stdout",
     "output_type": "stream",
     "text": [
      "Datascience-Mentorship-Program-Started-by-Datalicious\n"
     ]
    }
   ],
   "source": [
    "# \"Datascience\" \"Mentorship\" \"Program\"\n",
    "# \"by\" \"Datalicious\"\n",
    "\n",
    "print(\"Datascience\", \"Mentorship\" ,\"Program\",end=\"-Started-\",sep=\"-\")\n",
    "print(\"by\",\"Datalicious\",sep=\"-\")\n"
   ]
  },
  {
   "cell_type": "code",
   "execution_count": 20,
   "metadata": {},
   "outputs": [
    {
     "name": "stdout",
     "output_type": "stream",
     "text": [
      "3,5\n"
     ]
    }
   ],
   "source": [
    "a = 5\n",
    "b = 3\n",
    "\n",
    "temp = a\n",
    "a = b\n",
    "b = temp\n",
    "\n",
    "print(a,b,sep=\",\")"
   ]
  },
  {
   "cell_type": "code",
   "execution_count": 24,
   "metadata": {},
   "outputs": [
    {
     "name": "stdout",
     "output_type": "stream",
     "text": [
      "Dogs: 1, Chickens: 3\n"
     ]
    }
   ],
   "source": [
    "def count_legs_and_heads(heads,legs):\n",
    "    chickens = ((4*heads) - legs)/2\n",
    "    dogs = heads - chickens\n",
    "    \n",
    "    if dogs >= 0 and chickens >= 0 and dogs == int(dogs) and chickens == int(chickens):\n",
    "        return int(dogs), int(chickens)\n",
    "    else:\n",
    "        return \"No valid solution\"\n",
    "    \n",
    "    \n",
    "heads = int(input(\"Enter no. of heads:-\"))\n",
    "legs = int(input(\"Enter no. of legs:-\")) \n",
    "\n",
    "result = count_legs_and_heads(heads,legs)\n",
    "\n",
    "# Output the result\n",
    "if isinstance(result, tuple):\n",
    "    print(f\"Dogs: {result[0]}, Chickens: {result[1]}\")\n",
    "else:\n",
    "    print(result)"
   ]
  },
  {
   "cell_type": "code",
   "execution_count": 27,
   "metadata": {},
   "outputs": [
    {
     "name": "stdout",
     "output_type": "stream",
     "text": [
      "Your 6 term is:- 17\n"
     ]
    }
   ],
   "source": [
    "a = int(input(\"Enter your 1st term:-\"))\n",
    "b = int(input(\"Enter your 2nd term:-\"))\n",
    "n = int(input(\"Enter your term no.:-\"))\n",
    "\n",
    "d = b-a\n",
    "\n",
    "term = (a + (n-1)*d) \n",
    "print(\"Your\",n,\"term is:-\",term)  "
   ]
  },
  {
   "cell_type": "code",
   "execution_count": 28,
   "metadata": {},
   "outputs": [
    {
     "name": "stdout",
     "output_type": "stream",
     "text": [
      "0\n",
      "1\n",
      "1\n",
      "2\n",
      "3\n",
      "5\n",
      "8\n",
      "13\n",
      "21\n",
      "34\n"
     ]
    }
   ],
   "source": [
    "num1,num2 =0,1\n",
    "\n",
    "for i in range(10):\n",
    "    print(num1)\n",
    "    \n",
    "    next = num1 + num2\n",
    "    \n",
    "    num1 = num2\n",
    "    num2 = next"
   ]
  },
  {
   "cell_type": "code",
   "execution_count": 29,
   "metadata": {},
   "outputs": [
    {
     "name": "stdout",
     "output_type": "stream",
     "text": [
      "3628800\n"
     ]
    }
   ],
   "source": [
    "num = int(input(\"Enter your no. \"))\n",
    "\n",
    "fact = 1\n",
    "for i in range(1, num+1):\n",
    "    fact = fact*i\n",
    "    \n",
    "print(fact)    "
   ]
  },
  {
   "cell_type": "code",
   "execution_count": 31,
   "metadata": {},
   "outputs": [
    {
     "name": "stdout",
     "output_type": "stream",
     "text": [
      "654321\n"
     ]
    }
   ],
   "source": [
    "num = int(input(\"Enter your no. \"))\n",
    "\n",
    "rev = 0\n",
    "while num > 0:\n",
    "    last = num%10\n",
    "    rev = rev*10 + last\n",
    "    num = num//10\n",
    "print(rev)    \n"
   ]
  },
  {
   "cell_type": "code",
   "execution_count": null,
   "metadata": {},
   "outputs": [],
   "source": []
  }
 ],
 "metadata": {
  "kernelspec": {
   "display_name": "Python 3",
   "language": "python",
   "name": "python3"
  },
  "language_info": {
   "codemirror_mode": {
    "name": "ipython",
    "version": 3
   },
   "file_extension": ".py",
   "mimetype": "text/x-python",
   "name": "python",
   "nbconvert_exporter": "python",
   "pygments_lexer": "ipython3",
   "version": "3.12.4"
  }
 },
 "nbformat": 4,
 "nbformat_minor": 2
}

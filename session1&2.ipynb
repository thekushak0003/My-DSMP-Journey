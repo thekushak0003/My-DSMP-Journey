{
 "cells": [
  {
   "cell_type": "code",
   "execution_count": 1,
   "metadata": {},
   "outputs": [
    {
     "name": "stdout",
     "output_type": "stream",
     "text": [
      "Hello World\n"
     ]
    }
   ],
   "source": [
    "print(\"Hello World\")"
   ]
  },
  {
   "cell_type": "markdown",
   "metadata": {},
   "source": [
    "### Operators in Python"
   ]
  },
  {
   "cell_type": "code",
   "execution_count": 14,
   "metadata": {},
   "outputs": [
    {
     "name": "stdout",
     "output_type": "stream",
     "text": [
      "324\n",
      "9\n"
     ]
    }
   ],
   "source": [
    "num = int(input(\"Enter a 3 digit number: \"))\n",
    "print(num)\n",
    "\n",
    "a = num%10\n",
    "num = num // 10\n",
    "b = num%10\n",
    "num = num // 10\n",
    "c = num%10\n",
    "\n",
    "\n",
    "print(a+b+c)"
   ]
  },
  {
   "cell_type": "code",
   "execution_count": 16,
   "metadata": {},
   "outputs": [
    {
     "name": "stdout",
     "output_type": "stream",
     "text": [
      "10 is smallest no.\n"
     ]
    }
   ],
   "source": [
    "a = int(input(\"Enter 1st number\"))\n",
    "b = int(input(\"Enter 2nd number\"))\n",
    "c = int(input(\"Enter 3rd number\"))\n",
    "\n",
    "if a < b and a < c:\n",
    "    print(a, \"is smallest no.\")\n",
    "elif b < c:\n",
    "    print(b, \"is smallest no.\")\n",
    "else:\n",
    "    print(c, \"is smallest no.\")    \n",
    "        "
   ]
  },
  {
   "cell_type": "code",
   "execution_count": 21,
   "metadata": {},
   "outputs": [
    {
     "name": "stdout",
     "output_type": "stream",
     "text": [
      "['_', 'case', 'match', 'type']\n"
     ]
    }
   ],
   "source": [
    "import keyword\n",
    "print(keyword.softkwlist)"
   ]
  },
  {
   "cell_type": "code",
   "execution_count": 22,
   "metadata": {},
   "outputs": [
    {
     "name": "stdout",
     "output_type": "stream",
     "text": [
      "\n",
      "Please wait a moment while I gather a list of all available modules...\n",
      "\n",
      "test_sqlite3: testing with SQLite version 3.45.3\n"
     ]
    },
    {
     "name": "stderr",
     "output_type": "stream",
     "text": [
      "c:\\Python38-32\\Lib\\site-packages\\dask\\dataframe\\__init__.py:49: FutureWarning: \n",
      "Dask dataframe query planning is disabled because dask-expr is not installed.\n",
      "\n",
      "You can install it with `pip install dask[dataframe]` or `conda install dask`.\n",
      "This will raise in a future version.\n",
      "\n",
      "  warnings.warn(msg, FutureWarning)\n",
      "c:\\Python38-32\\Lib\\pkgutil.py:78: UserWarning: The numpy.array_api submodule is still experimental. See NEP 47.\n",
      "  __import__(info.name)\n"
     ]
    },
    {
     "name": "stdout",
     "output_type": "stream",
     "text": [
      "IPython             bz2                 marshal             stringprep\n",
      "PIL                 cProfile            math                struct\n",
      "__future__          cachetools          matplotlib          subprocess\n",
      "__hello__           calendar            matplotlib_inline   sunau\n",
      "__phello__          certifi             mdurl               symtable\n",
      "_abc                cgi                 mimetypes           sys\n",
      "_aix_support        cgitb               mmap                sysconfig\n",
      "_ast                charset_normalizer  mmapfile            tabnanny\n",
      "_asyncio            chunk               mmsystem            tarfile\n",
      "_bisect             click               modulefinder        telnetlib\n",
      "_blake2             cloudpickle         msilib              tempfile\n",
      "_bz2                cmath               msvcrt              tenacity\n",
      "_codecs             cmd                 multiprocessing     test\n",
      "_codecs_cn          code                narwhals            textwrap\n",
      "_codecs_hk          codecs              nbformat            this\n",
      "_codecs_iso2022     codeop              nest_asyncio        threading\n",
      "_codecs_jp          collections         netbios             threadpoolctl\n",
      "_codecs_kr          colorama            netrc               time\n",
      "_codecs_tw          colorsys            nntplib             timeit\n",
      "_collections        comm                nt                  timer\n",
      "_collections_abc    commctrl            ntpath              tkinter\n",
      "_compat_pickle      compileall          ntsecuritycon       tlz\n",
      "_compression        concurrent          nturl2path          token\n",
      "_contextvars        configparser        numbers             tokenize\n",
      "_csv                contextlib          numpy               toml\n",
      "_ctypes             contextvars         odbc                tomllib\n",
      "_ctypes_test        contourpy           opcode              toolz\n",
      "_datetime           copy                openpyxl            tornado\n",
      "_decimal            copyreg             operator            trace\n",
      "_elementtree        crypt               optparse            traceback\n",
      "_functools          csv                 os                  tracemalloc\n",
      "_hashlib            ctypes              packaging           traitlets\n",
      "_heapq              curses              pandas              tty\n",
      "_imp                cv2                 parso               turtle\n",
      "_io                 cycler              partd               turtledemo\n",
      "_json               dask                pathlib             types\n",
      "_locale             dataclasses         pdb                 typing\n",
      "_lsprof             datetime            perfmon             typing_extensions\n",
      "_lzma               dateutil            pickle              tzdata\n",
      "_markupbase         dbi                 pickletools         unicodedata\n",
      "_md5                dbm                 pip                 unittest\n",
      "_msi                dde                 pipes               urllib\n",
      "_multibytecodec     debugpy             pkgutil             urllib3\n",
      "_multiprocessing    decimal             platform            uu\n",
      "_opcode             decorator           platformdirs        uuid\n",
      "_operator           difflib             plistlib            venv\n",
      "_osx_support        dis                 plotly              warnings\n",
      "_overlapped         doctest             poplib              watchdog\n",
      "_pickle             email               posixpath           wave\n",
      "_plotly_future_     encodings           pprint              wcwidth\n",
      "_plotly_utils       ensurepip           profile             weakref\n",
      "_py_abc             enum                prompt_toolkit      webbrowser\n",
      "_pydatetime         errno               pstats              werkzeug\n",
      "_pydecimal          et_xmlfile          psutil              win2kras\n",
      "_pyio               executing           pty                 win32api\n",
      "_pylong             fastjsonschema      pure_eval           win32clipboard\n",
      "_queue              faulthandler        py_compile          win32com\n",
      "_random             filecmp             pyarrow             win32con\n",
      "_sha1               fileinput           pyclbr              win32console\n",
      "_sha2               flask               pydeck              win32cred\n",
      "_sha3               flask_login         pydoc               win32crypt\n",
      "_signal             flask_sqlalchemy    pydoc_data          win32cryptcon\n",
      "_sitebuiltins       fnmatch             pyexpat             win32event\n",
      "_socket             fontTools           pygments            win32evtlog\n",
      "_sqlite3            fractions           pylab               win32evtlogutil\n",
      "_sre                fsspec              pyparsing           win32file\n",
      "_ssl                ftplib              pythoncom           win32gui\n",
      "_stat               functools           pytz                win32gui_struct\n",
      "_statistics         gc                  pywin               win32help\n",
      "_string             genericpath         pywin32_bootstrap   win32inet\n",
      "_strptime           getopt              pywin32_testutil    win32inetcon\n",
      "_struct             getpass             pywintypes          win32job\n",
      "_symtable           gettext             queue               win32lz\n",
      "_testbuffer         git                 quopri              win32net\n",
      "_testcapi           gitdb               random              win32netcon\n",
      "_testclinic         glob                rasutil             win32pdh\n",
      "_testconsole        graphlib            re                  win32pdhquery\n",
      "_testimportmultiple greenlet            referencing         win32pdhutil\n",
      "_testinternalcapi   gzip                regcheck            win32pipe\n",
      "_testmultiphase     hashlib             regutil             win32print\n",
      "_testsinglephase    heapq               reprlib             win32process\n",
      "_thread             hmac                requests            win32profile\n",
      "_threading_local    html                rich                win32ras\n",
      "_tkinter            http                rlcompleter         win32rcparser\n",
      "_tokenize           idlelib             rpds                win32security\n",
      "_tracemalloc        idna                runpy               win32service\n",
      "_typing             imaplib             sched               win32serviceutil\n",
      "_uuid               imblearn            scipy               win32timezone\n",
      "_warnings           imghdr              seaborn             win32trace\n",
      "_weakref            importlib           secrets             win32traceutil\n",
      "_weakrefset         inspect             select              win32transaction\n",
      "_win32sysloader     io                  selectors           win32ts\n",
      "_winapi             ipaddress           servicemanager      win32ui\n",
      "_winxptheme         ipykernel           shelve              win32uiole\n",
      "_wmi                ipykernel_launcher  shlex               win32verstamp\n",
      "_xxinterpchannels   isapi               shutil              win32wnet\n",
      "_xxsubinterpreters  itertools           signal              winerror\n",
      "_yaml               itsdangerous        site                winioctlcon\n",
      "_zoneinfo           jedi                six                 winnt\n",
      "abc                 jinja2              sklearn             winperf\n",
      "adodbapi            joblib              sklearn_compat      winreg\n",
      "afxres              json                smmap               winsound\n",
      "aifc                jsonschema          smtplib             winxpgui\n",
      "altair              jsonschema_specifications sndhdr              winxptheme\n",
      "antigravity         jupyter             socket              wsgiref\n",
      "argparse            jupyter_client      socketserver        xdrlib\n",
      "array               jupyter_core        sqlalchemy          xgboost\n",
      "ast                 jupyterlab_plotly   sqlite3             xml\n",
      "asttokens           keyword             sre_compile         xmlrpc\n",
      "asyncio             kiwisolver          sre_constants       xxsubtype\n",
      "atexit              lib2to3             sre_parse           yaml\n",
      "attr                linecache           ssl                 zipapp\n",
      "attrs               locale              sspi                zipfile\n",
      "audioop             locket              sspicon             zipimport\n",
      "base64              logging             stack_data          zlib\n",
      "bdb                 lzma                start_pythonwin     zmq\n",
      "binascii            mailbox             stat                zoneinfo\n",
      "bisect              mailcap             statistics          \n",
      "blinker             markdown_it         streamlit           \n",
      "builtins            markupsafe          string              \n",
      "\n",
      "Enter any module name to get more help.  Or, type \"modules spam\" to search\n",
      "for modules whose name or summary contain the string \"spam\".\n",
      "\n"
     ]
    }
   ],
   "source": [
    "help('modules')"
   ]
  },
  {
   "cell_type": "code",
   "execution_count": 26,
   "metadata": {},
   "outputs": [
    {
     "name": "stdout",
     "output_type": "stream",
     "text": [
      "Guess a higher no.\n",
      "Guess a higher no.\n",
      "Guess a lower no.\n",
      "Guess a lower no.\n",
      "Guess a higher no.\n",
      "Guess a higher no.\n",
      "Congrats! You Won.\n",
      "Attempts:  7\n"
     ]
    }
   ],
   "source": [
    "# Guess game\n",
    "import random\n",
    "\n",
    "jackpot = random.randint(1,100)\n",
    "guess = int(input(\"Guess the no.\"))\n",
    "counter = 1\n",
    "while guess != jackpot:\n",
    "    if guess < jackpot:\n",
    "        print(\"Guess a higher no.\")\n",
    "    else:\n",
    "        print(\"Guess a lower no.\")\n",
    "    guess = int(input(\"Guess the no.\"))\n",
    "    counter += 1\n",
    "else:\n",
    "    print(\"Congrats! You Won.\")  \n",
    "    print(\"Attempts: \", counter)          "
   ]
  },
  {
   "cell_type": "code",
   "execution_count": 27,
   "metadata": {},
   "outputs": [
    {
     "name": "stdout",
     "output_type": "stream",
     "text": [
      "geeks\n",
      "for\n",
      "geeks\n"
     ]
    }
   ],
   "source": [
    "list = [\"geeks\", \"for\", \"geeks\"]\n",
    "for index in range(len(list)):\n",
    "    print(list[index])"
   ]
  },
  {
   "cell_type": "code",
   "execution_count": 31,
   "metadata": {},
   "outputs": [
    {
     "name": "stdout",
     "output_type": "stream",
     "text": [
      "1\n",
      "4\n",
      "7\n",
      "10\n"
     ]
    }
   ],
   "source": [
    "for index in range(1,11,3):\n",
    "    print(index)"
   ]
  },
  {
   "cell_type": "code",
   "execution_count": null,
   "metadata": {},
   "outputs": [],
   "source": []
  }
 ],
 "metadata": {
  "kernelspec": {
   "display_name": "Python 3",
   "language": "python",
   "name": "python3"
  },
  "language_info": {
   "codemirror_mode": {
    "name": "ipython",
    "version": 3
   },
   "file_extension": ".py",
   "mimetype": "text/x-python",
   "name": "python",
   "nbconvert_exporter": "python",
   "pygments_lexer": "ipython3",
   "version": "3.12.4"
  }
 },
 "nbformat": 4,
 "nbformat_minor": 2
}

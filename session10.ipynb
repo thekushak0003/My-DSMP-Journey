{
 "cells": [
  {
   "cell_type": "markdown",
   "metadata": {},
   "source": [
    "### File Handling"
   ]
  },
  {
   "cell_type": "code",
   "execution_count": 122,
   "metadata": {},
   "outputs": [
    {
     "data": {
      "text/plain": [
       "5"
      ]
     },
     "execution_count": 122,
     "metadata": {},
     "output_type": "execute_result"
    }
   ],
   "source": [
    "# case 1 - if the file is not present\n",
    "f = open('sample.txt','w')\n",
    "f.write('Hello world')\n",
    "f.write('hello')"
   ]
  },
  {
   "cell_type": "code",
   "execution_count": 123,
   "metadata": {},
   "outputs": [],
   "source": [
    "# write multiline strings\n",
    "f = open('sample.txt','w')\n",
    "f.write('Hello world')\n",
    "f.write('\\nHow are you?')\n",
    "f.close()"
   ]
  },
  {
   "cell_type": "code",
   "execution_count": 124,
   "metadata": {},
   "outputs": [],
   "source": [
    "# case 2 - if the file is already present\n",
    "f = open('sample.txt','w')\n",
    "f.write('This is content after case:2')\n",
    "f.close()"
   ]
  },
  {
   "cell_type": "code",
   "execution_count": 125,
   "metadata": {},
   "outputs": [],
   "source": [
    "# Problem with w mode\n",
    "# Introducing append mode\n",
    "f = open('sample.txt','a')\n",
    "f.write('\\nThis is content after append')\n",
    "f.close()"
   ]
  },
  {
   "cell_type": "code",
   "execution_count": 126,
   "metadata": {},
   "outputs": [],
   "source": [
    "# write lines\n",
    "L = ['Hello\\n','Hi\\n','How are you\\n','I am fine']\n",
    "\n",
    "f = open('sample1.txt','w')\n",
    "f.writelines(L)\n",
    "f.close()"
   ]
  },
  {
   "cell_type": "code",
   "execution_count": 127,
   "metadata": {},
   "outputs": [
    {
     "name": "stdout",
     "output_type": "stream",
     "text": [
      "Hello\n",
      "Hi\n",
      "How are you\n",
      "I am fine\n"
     ]
    }
   ],
   "source": [
    "# reading from files\n",
    "# -> using read()\n",
    "f = open('sample1.txt','r')\n",
    "s = f.read()\n",
    "print(s)\n",
    "f.close()"
   ]
  },
  {
   "cell_type": "code",
   "execution_count": 128,
   "metadata": {},
   "outputs": [
    {
     "name": "stdout",
     "output_type": "stream",
     "text": [
      "Hello\n",
      "Hi\n",
      "H\n"
     ]
    }
   ],
   "source": [
    "# reading upto n chars\n",
    "f = open('sample1.txt','r')\n",
    "s = f.read(10)\n",
    "print(s)\n",
    "f.close()"
   ]
  },
  {
   "cell_type": "code",
   "execution_count": 129,
   "metadata": {},
   "outputs": [
    {
     "name": "stdout",
     "output_type": "stream",
     "text": [
      "Hello\n",
      "Hi\n"
     ]
    }
   ],
   "source": [
    "# readline() -> to read line by line\n",
    "f = open('sample1.txt','r')\n",
    "print(f.readline(),end='')\n",
    "print(f.readline(),end='')\n",
    "f.close()"
   ]
  },
  {
   "cell_type": "code",
   "execution_count": 130,
   "metadata": {},
   "outputs": [
    {
     "name": "stdout",
     "output_type": "stream",
     "text": [
      "Hello\n",
      "Hi\n",
      "How are you\n",
      "I am fine"
     ]
    }
   ],
   "source": [
    "# reading entire using readline\n",
    "f = open('sample1.txt','r')\n",
    "\n",
    "while True:\n",
    "\n",
    "  data = f.readline()\n",
    "\n",
    "  if data == '':\n",
    "    break\n",
    "  else:\n",
    "    print(data,end='')\n",
    "\n",
    "f.close()"
   ]
  },
  {
   "cell_type": "markdown",
   "metadata": {},
   "source": [
    "### Using Context Manager (With)\n",
    "\n",
    "- It's a good idea to close a file after usage as it will free up the resources\n",
    "- If we dont close it, garbage collector would close it\n",
    "- with keyword closes the file as soon as the usage is over"
   ]
  },
  {
   "cell_type": "code",
   "execution_count": 131,
   "metadata": {},
   "outputs": [],
   "source": [
    "# with\n",
    "with open('sample1.txt','w') as f:\n",
    "  f.write(\"Text after using 'with' keyword\")"
   ]
  },
  {
   "cell_type": "code",
   "execution_count": 132,
   "metadata": {},
   "outputs": [
    {
     "name": "stdout",
     "output_type": "stream",
     "text": [
      "This is co\n",
      "ntent afte\n",
      "r case:2\n",
      "T\n",
      "his is con\n"
     ]
    }
   ],
   "source": [
    "# moving within a file -> 10 char then 10 char\n",
    "with open('sample.txt','r') as f:\n",
    "  print(f.read(10))\n",
    "  print(f.read(10))\n",
    "  print(f.read(10))\n",
    "  print(f.read(10))"
   ]
  },
  {
   "cell_type": "code",
   "execution_count": 133,
   "metadata": {},
   "outputs": [],
   "source": [
    "# benefit? -> to load a big file in memory\n",
    "big_L = ['hello world ' for i in range(1000)]\n",
    "\n",
    "with open('big.txt','w') as f:\n",
    "  f.writelines(big_L)\n"
   ]
  },
  {
   "cell_type": "code",
   "execution_count": 134,
   "metadata": {},
   "outputs": [
    {
     "name": "stdout",
     "output_type": "stream",
     "text": [
      "d hello wo*o world he*d hello wo*o world he*d hello wo*o world he*d hello wo*o world he*d hello wo*o world he*d hello wo*o world he*d hello wo*o world he*d hello wo*o world he*d hello wo*o world he*d hello wo*o world he*d hello wo*o world he*d hello wo*o world he*d hello wo*o world he*d hello wo*o world he*d hello wo*o world he*d hello wo*o world he*d hello wo*o world he*d hello wo*o world he*d hello wo*o world he*d hello wo*o world he*d hello wo*o world he*d hello wo*o world he*d hello wo*o world he*d hello wo*o world he*d hello wo*o world he*d hello wo*o world he*d hello wo*o world he*d hello wo*o world he*d hello wo*o world he*d hello wo*o world he*d hello wo*o world he*d hello wo*o world he*d hello wo*o world he*d hello wo*o world he*d hello wo*o world he*d hello wo*o world he*d hello wo*o world he*d hello wo*o world he*d hello wo*o world he*d hello wo*o world he*d hello wo*o world he*d hello wo*o world he*d hello wo*o world he*d hello wo*o world he*d hello wo*o world he*d hello wo*o world he*d hello wo*o world he*d hello wo*o world he*d hello wo*o world he*d hello wo*o world he*d hello wo*o world he*d hello wo*o world he*d hello wo*o world he*d hello wo*o world he*d hello wo*o world he*d hello wo*o world he*d hello wo*o world he*d hello wo*o world he*d hello wo*o world he*d hello wo*o world he*d hello wo*o world he*d hello wo*o world he*d hello wo*o world he*d hello wo*o world he*d hello wo*o world he*d hello wo*o world he*d hello wo*o world he*d hello wo*o world he*d hello wo*o world he*d hello wo*o world he*d hello wo*o world he*d hello wo*o world he*d hello wo*o world he*d hello wo*o world he*d hello wo*o world he*d hello wo*o world he*d hello wo*o world he*d hello wo*o world he*d hello wo*o world he*d hello wo*o world he*d hello wo*o world he*d hello wo*o world he*d hello wo*o world he*d hello wo*o world he*d hello wo*o world he*d hello wo*o world he*d hello wo*o world he*d hello wo*o world he*d hello wo*o world he*d hello wo*o world he*d hello wo*o world he*d hello wo*o world he*d hello wo*o world he*d hello wo*o world he*d hello wo*o world he*d hello wo*o world he*d hello wo*o world he*d hello wo*o world he*d hello wo*o world he*d hello wo*o world he*d hello wo*o world he*d hello wo*o world he*d hello wo*o world he*d hello wo*o world he*d hello wo*o world he*d hello wo*o world he*d hello wo*o world he*d hello wo*o world he*d hello wo*o world he*d hello wo*o world he*d hello wo*o world he*d hello wo*o world he*d hello wo*o world he*d hello wo*o world he*d hello wo*o world he*d hello wo*o world he*d hello wo*o world he*d hello wo*o world he*d hello wo*o world he*d hello wo*o world he*d hello wo*o world he*d hello wo*o world he*d hello wo*o world he*d hello wo*o world he*d hello wo*o world he*d hello wo*o world he*d hello wo*o world he*d hello wo*o world he*d hello wo*o world he*d hello wo*o world he*d hello wo*o world he*d hello wo*o world he*d hello wo*o world he*d hello wo*o world he*d hello wo*o world he*d hello wo*o world he*d hello wo*o world he*d hello wo*o world he*d hello wo*o world he*d hello wo*o world he*d hello wo*o world he*d hello wo*o world he*d hello wo*o world he*d hello wo*o world he*d hello wo*o world he*d hello wo*o world he*d hello wo*o world he*d hello wo*o world he*d hello wo*o world he*d hello wo*o world he*d hello wo*o world he*d hello wo*o world he*d hello wo*o world he*d hello wo*o world he*d hello wo*o world he*d hello wo*o world he*d hello wo*o world he*d hello wo*o world he*d hello wo*o world he*d hello wo*o world he*d hello wo*o world he*d hello wo*o world he*d hello wo*o world he*d hello wo*o world he*d hello wo*o world he*d hello wo*o world he*d hello wo*o world he*d hello wo*o world he*d hello wo*o world he*d hello wo*o world he*d hello wo*o world he*d hello wo*o world he*d hello wo*o world he*d hello wo*o world he*d hello wo*o world he*d hello wo*o world he*d hello wo*o world he*d hello wo*o world he*d hello wo*o world he*d hello wo*o world he*d hello wo*o world he*d hello wo*o world he*d hello wo*o world he*d hello wo*o world he*d hello wo*o world he*d hello wo*o world he*d hello wo*o world he*d hello wo*o world he*d hello wo*o world he*d hello wo*o world he*d hello wo*o world he*d hello wo*o world he*d hello wo*o world he*d hello wo*o world he*d hello wo*o world he*d hello wo*o world he*d hello wo*o world he*d hello wo*o world he*d hello wo*o world he*d hello wo*o world he*"
     ]
    }
   ],
   "source": [
    "with open('big.txt','r') as f:\n",
    "\n",
    "  chunk_size = 10\n",
    "\n",
    "  while len(f.read(chunk_size)) > 0:\n",
    "    print(f.read(chunk_size),end='*')\n",
    "    f.read(chunk_size)"
   ]
  },
  {
   "cell_type": "code",
   "execution_count": 135,
   "metadata": {},
   "outputs": [
    {
     "name": "stdout",
     "output_type": "stream",
     "text": [
      "tent after\n",
      "21\n",
      " case:2\n",
      "Th\n",
      "32\n"
     ]
    }
   ],
   "source": [
    "# seek and tell function\n",
    "with open('sample.txt','r') as f:\n",
    "  f.seek(11)\n",
    "  print(f.read(10))\n",
    "  print(f.tell())\n",
    "  \n",
    "  print(f.read(10))\n",
    "  print(f.tell())"
   ]
  },
  {
   "cell_type": "code",
   "execution_count": 136,
   "metadata": {},
   "outputs": [],
   "source": [
    "# Seek during write\n",
    "with open('sample.txt','w') as f:\n",
    "    f.write('Hello')\n",
    "    f.seek(0)\n",
    "    f.write('X')"
   ]
  },
  {
   "cell_type": "markdown",
   "metadata": {},
   "source": [
    "### Problems with working in text mode\n",
    "\n",
    "- can't work with binary files like images\n",
    "- not good for other data types like int/float/list/tuples"
   ]
  },
  {
   "cell_type": "code",
   "execution_count": 137,
   "metadata": {},
   "outputs": [],
   "source": [
    "# Working with binary file\n",
    "with open('tensor_titans.jpeg','rb') as f:\n",
    "  with open('tensor_titans_copy.jpeg','wb') as wf:\n",
    "    wf.write(f.read())"
   ]
  },
  {
   "cell_type": "code",
   "execution_count": 138,
   "metadata": {},
   "outputs": [],
   "source": [
    "# Working with complex data\n",
    "d = {\n",
    "    'name':'Abhay',\n",
    "     'age':19,\n",
    "     'gender':'male'\n",
    "}\n",
    "\n",
    "with open('sample.txt','w') as f:\n",
    "  f.write(str(d))\n"
   ]
  },
  {
   "cell_type": "code",
   "execution_count": 139,
   "metadata": {},
   "outputs": [
    {
     "name": "stdout",
     "output_type": "stream",
     "text": [
      "{'name': 'Abhay', 'age': 19, 'gender': 'male'}\n"
     ]
    }
   ],
   "source": [
    "with open('sample.txt','r') as f:\n",
    "  print((f.read()))"
   ]
  },
  {
   "cell_type": "code",
   "execution_count": null,
   "metadata": {},
   "outputs": [],
   "source": []
  }
 ],
 "metadata": {
  "kernelspec": {
   "display_name": "Python 3",
   "language": "python",
   "name": "python3"
  },
  "language_info": {
   "codemirror_mode": {
    "name": "ipython",
    "version": 3
   },
   "file_extension": ".py",
   "mimetype": "text/x-python",
   "name": "python",
   "nbconvert_exporter": "python",
   "pygments_lexer": "ipython3",
   "version": "3.12.4"
  }
 },
 "nbformat": 4,
 "nbformat_minor": 2
}

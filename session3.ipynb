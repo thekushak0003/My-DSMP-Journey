{
 "cells": [
  {
   "cell_type": "code",
   "execution_count": 12,
   "metadata": {},
   "outputs": [
    {
     "name": "stdout",
     "output_type": "stream",
     "text": [
      "The Arcade \n",
      "yraun\n",
      "B edacrA e\n",
      "yraunaJ pmaC es\n",
      "he Arcade Base \n"
     ]
    }
   ],
   "source": [
    "str = \"The Arcade Base Camp January\"\n",
    "\n",
    "print(str[0:11])\n",
    "print(str[-1:-6:-1])\n",
    "print(str[11:1:-1])\n",
    "print(str[-1:-16:-1])\n",
    "print(str[1:16:1])"
   ]
  },
  {
   "cell_type": "code",
   "execution_count": 13,
   "metadata": {},
   "outputs": [
    {
     "name": "stdout",
     "output_type": "stream",
     "text": [
      "Length is:  28\n"
     ]
    }
   ],
   "source": [
    "str = input(\"Enter your string: \")\n",
    "\n",
    "counter = 0\n",
    "\n",
    "for i in str:\n",
    "    counter +=1\n",
    "print(\"Length is: \",counter)    "
   ]
  },
  {
   "cell_type": "code",
   "execution_count": 14,
   "metadata": {},
   "outputs": [
    {
     "name": "stdout",
     "output_type": "stream",
     "text": [
      "Enter\n"
     ]
    }
   ],
   "source": [
    "str = input(\"Enter your email: \")\n",
    "\n",
    "pos = str.index(\"@\")\n",
    "print(s[0:pos])"
   ]
  },
  {
   "cell_type": "code",
   "execution_count": 15,
   "metadata": {},
   "outputs": [
    {
     "name": "stdout",
     "output_type": "stream",
     "text": [
      "Frequency:  5\n"
     ]
    }
   ],
   "source": [
    "str = input(\"Enter your word: \")\n",
    "term = input(\"What would u like to find? \")\n",
    "counter = 0\n",
    "for i in str:\n",
    "   if i == term:\n",
    "       counter+=1\n",
    "print(\"Frequency: \",counter)  "
   ]
  },
  {
   "cell_type": "code",
   "execution_count": 16,
   "metadata": {},
   "outputs": [
    {
     "name": "stdout",
     "output_type": "stream",
     "text": [
      "The Arcade Base Camp January\n",
      "a\n",
      "The Arcde Bse Cmp Jnury\n"
     ]
    }
   ],
   "source": [
    "str = input(\"Enter your word: \")\n",
    "term = input(\"What would u like to remove? \")\n",
    "\n",
    "result = ''\n",
    "for i in str:\n",
    "    if i != term:\n",
    "        result = result + i\n",
    "        \n",
    "print(str)\n",
    "print(term)\n",
    "print(result)        "
   ]
  },
  {
   "cell_type": "code",
   "execution_count": 17,
   "metadata": {},
   "outputs": [
    {
     "ename": "SyntaxError",
     "evalue": "incomplete input (2202622821.py, line 6)",
     "output_type": "error",
     "traceback": [
      "\u001b[1;36m  Cell \u001b[1;32mIn[17], line 6\u001b[1;36m\u001b[0m\n\u001b[1;33m    \u001b[0m\n\u001b[1;37m    ^\u001b[0m\n\u001b[1;31mSyntaxError\u001b[0m\u001b[1;31m:\u001b[0m incomplete input\n"
     ]
    }
   ],
   "source": [
    "# Palindrome Problems\n",
    "str = input(\"Enter your word: \")\n",
    "\n",
    "for i in range(0,len(str)//2):\n",
    "    if str[i] != str[len(str)-i-1]:\n",
    "        "
   ]
  }
 ],
 "metadata": {
  "kernelspec": {
   "display_name": "Python 3",
   "language": "python",
   "name": "python3"
  },
  "language_info": {
   "codemirror_mode": {
    "name": "ipython",
    "version": 3
   },
   "file_extension": ".py",
   "mimetype": "text/x-python",
   "name": "python",
   "nbconvert_exporter": "python",
   "pygments_lexer": "ipython3",
   "version": "3.12.4"
  }
 },
 "nbformat": 4,
 "nbformat_minor": 2
}

{
 "cells": [
  {
   "cell_type": "code",
   "execution_count": 16,
   "metadata": {},
   "outputs": [
    {
     "name": "stdout",
     "output_type": "stream",
     "text": [
      "The Arcade \n",
      "yraun\n",
      "B edacrA e\n",
      "yraunaJ pmaC es\n",
      "he Arcade Base \n"
     ]
    }
   ],
   "source": [
    "s = \"The Arcade Base Camp January\"\n",
    "\n",
    "print(s[0:11])\n",
    "print(s[-1:-6:-1])\n",
    "print(s[11:1:-1])\n",
    "print(s[-1:-16:-1])\n",
    "print(s[1:16:1])"
   ]
  },
  {
   "cell_type": "code",
   "execution_count": null,
   "metadata": {},
   "outputs": [],
   "source": []
  }
 ],
 "metadata": {
  "kernelspec": {
   "display_name": "Python 3",
   "language": "python",
   "name": "python3"
  },
  "language_info": {
   "codemirror_mode": {
    "name": "ipython",
    "version": 3
   },
   "file_extension": ".py",
   "mimetype": "text/x-python",
   "name": "python",
   "nbconvert_exporter": "python",
   "pygments_lexer": "ipython3",
   "version": "3.12.4"
  }
 },
 "nbformat": 4,
 "nbformat_minor": 2
}

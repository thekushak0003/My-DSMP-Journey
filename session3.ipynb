{
 "cells": [
  {
   "cell_type": "code",
   "execution_count": 16,
   "metadata": {},
   "outputs": [
    {
     "name": "stdout",
     "output_type": "stream",
     "text": [
      "The Arcade \n",
      "yraun\n",
      "B edacrA e\n",
      "yraunaJ pmaC es\n",
      "he Arcade Base \n"
     ]
    }
   ],
   "source": [
    "s = \"The Arcade Base Camp January\"\n",
    "\n",
    "print(s[0:11])\n",
    "print(s[-1:-6:-1])\n",
    "print(s[11:1:-1])\n",
    "print(s[-1:-16:-1])\n",
    "print(s[1:16:1])"
   ]
  },
  {
   "cell_type": "code",
   "execution_count": 2,
   "metadata": {},
   "outputs": [
    {
     "name": "stdout",
     "output_type": "stream",
     "text": [
      "Length is:  12\n"
     ]
    }
   ],
   "source": [
    "s = input(\"Enter your string: \")\n",
    "\n",
    "counter = 0\n",
    "\n",
    "for i in s:\n",
    "    counter +=1\n",
    "print(\"Length is: \",counter)    "
   ]
  },
  {
   "cell_type": "code",
   "execution_count": 4,
   "metadata": {},
   "outputs": [
    {
     "name": "stdout",
     "output_type": "stream",
     "text": [
      "abhay\n"
     ]
    }
   ],
   "source": [
    "s = input(\"Enter your email: \")\n",
    "\n",
    "pos = s.index(\"@\")\n",
    "print(s[0:pos])"
   ]
  },
  {
   "cell_type": "code",
   "execution_count": 7,
   "metadata": {},
   "outputs": [
    {
     "name": "stdout",
     "output_type": "stream",
     "text": [
      "Frequency:  1\n"
     ]
    }
   ],
   "source": [
    "s = input(\"Enter your word: \")\n",
    "term = input(\"What would u like to find? \")\n",
    "counter = 0\n",
    "for i in s:\n",
    "   if i == term:\n",
    "       counter+=1\n",
    "print(\"Frequency: \",counter)  "
   ]
  },
  {
   "cell_type": "code",
   "execution_count": 10,
   "metadata": {},
   "outputs": [
    {
     "name": "stdout",
     "output_type": "stream",
     "text": [
      "What wold  like to remove?\n"
     ]
    }
   ],
   "source": [
    "str = input(\"Enter your word: \")\n",
    "term = input(\"What would u like to remove? \")\n",
    "\n",
    "result = ''\n",
    "for i in str:\n",
    "    if i != term:\n",
    "        result = result + i\n",
    "        \n",
    "print(result)        "
   ]
  },
  {
   "cell_type": "code",
   "execution_count": null,
   "metadata": {},
   "outputs": [],
   "source": []
  }
 ],
 "metadata": {
  "kernelspec": {
   "display_name": "Python 3",
   "language": "python",
   "name": "python3"
  },
  "language_info": {
   "codemirror_mode": {
    "name": "ipython",
    "version": 3
   },
   "file_extension": ".py",
   "mimetype": "text/x-python",
   "name": "python",
   "nbconvert_exporter": "python",
   "pygments_lexer": "ipython3",
   "version": "3.12.4"
  }
 },
 "nbformat": 4,
 "nbformat_minor": 2
}

{
 "cells": [
  {
   "cell_type": "code",
   "execution_count": 3,
   "id": "8c379c4a",
   "metadata": {},
   "outputs": [
    {
     "data": {
      "text/plain": [
       "3.500417"
      ]
     },
     "execution_count": 3,
     "metadata": {},
     "output_type": "execute_result"
    }
   ],
   "source": [
    "import random \n",
    "import numpy as np \n",
    "import pandas as pd\n",
    "outcome=[]\n",
    "for i in range(1000000):\n",
    "    outcome.append(random.randint(1,6))\n",
    "np.array(outcome).mean()\n"
   ]
  },
  {
   "cell_type": "markdown",
   "id": "672ce637",
   "metadata": {},
   "source": [
    "##### Note:-\n",
    "- Expected Values E[X] = Population mean"
   ]
  },
  {
   "cell_type": "code",
   "execution_count": 4,
   "id": "87fb8945",
   "metadata": {},
   "outputs": [],
   "source": [
    "from mlxtend.evaluate import bias_variance_decomp\n",
    "from sklearn.tree import DecisionTreeRegressor\n",
    "from sklearn.linear_model import LinearRegression\n",
    "from mlxtend.data import boston_housing_data\n",
    "from sklearn.model_selection import train_test_split\n",
    "\n",
    "X, y = boston_housing_data()\n",
    "X_train, X_test, y_train, y_test = train_test_split(X, y,test_size=0.3,random_state=123,shuffle=True)"
   ]
  },
  {
   "cell_type": "code",
   "execution_count": 6,
   "id": "f04a6ee3",
   "metadata": {},
   "outputs": [
    {
     "name": "stdout",
     "output_type": "stream",
     "text": [
      "Average expected loss:- 29.891\n",
      "Average bias :- 28.609\n",
      "Average variance:- 1.282\n"
     ]
    }
   ],
   "source": [
    "lr= LinearRegression()\n",
    "avg_expected_loss, avg_bias, avg_var = bias_variance_decomp(\n",
    "    lr, X_train, y_train, X_test, y_test,\n",
    "    loss='mse',\n",
    "    random_seed=123\n",
    ")\n",
    "print('Average expected loss:- %.3f' % avg_expected_loss)\n",
    "print('Average bias :- %.3f'% avg_bias)\n",
    "print('Average variance:- %.3f' % avg_var)"
   ]
  },
  {
   "cell_type": "code",
   "execution_count": 7,
   "id": "fe833821",
   "metadata": {},
   "outputs": [
    {
     "name": "stdout",
     "output_type": "stream",
     "text": [
      "Average expected loss: 31.536\n",
      "Average bias: 14.096\n",
      "Average variance: 17.440\n"
     ]
    }
   ],
   "source": [
    "dt=DecisionTreeRegressor(random_state=123)\n",
    "avg_expected_loss, avg_bias, avg_var = bias_variance_decomp(\n",
    "    dt, X_train, y_train, X_test, y_test, \n",
    "    loss='mse',\n",
    "    random_seed=123\n",
    ")\n",
    "print('Average expected loss: %.3f' % avg_expected_loss)\n",
    "print('Average bias: %.3f' % avg_bias)\n",
    "print('Average variance: %.3f' % avg_var)"
   ]
  },
  {
   "cell_type": "code",
   "execution_count": null,
   "id": "b422f7b7",
   "metadata": {},
   "outputs": [],
   "source": []
  }
 ],
 "metadata": {
  "kernelspec": {
   "display_name": "Python 3",
   "language": "python",
   "name": "python3"
  },
  "language_info": {
   "codemirror_mode": {
    "name": "ipython",
    "version": 3
   },
   "file_extension": ".py",
   "mimetype": "text/x-python",
   "name": "python",
   "nbconvert_exporter": "python",
   "pygments_lexer": "ipython3",
   "version": "3.12.4"
  }
 },
 "nbformat": 4,
 "nbformat_minor": 5
}

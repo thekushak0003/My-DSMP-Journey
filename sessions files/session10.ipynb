{
 "cells": [
  {
   "cell_type": "markdown",
   "metadata": {},
   "source": [
    "### File Handling"
   ]
  },
  {
   "cell_type": "code",
   "execution_count": 32,
   "metadata": {},
   "outputs": [
    {
     "data": {
      "text/plain": [
       "5"
      ]
     },
     "execution_count": 32,
     "metadata": {},
     "output_type": "execute_result"
    }
   ],
   "source": [
    "# case 1 - if the file is not present\n",
    "f = open('sample.txt','w')\n",
    "f.write('Hello world')\n",
    "f.write('hello')"
   ]
  },
  {
   "cell_type": "code",
   "execution_count": 33,
   "metadata": {},
   "outputs": [],
   "source": [
    "# write multiline strings\n",
    "f = open('sample.txt','w')\n",
    "f.write('Hello world')\n",
    "f.write('\\nHow are you?')\n",
    "f.close()"
   ]
  },
  {
   "cell_type": "code",
   "execution_count": 34,
   "metadata": {},
   "outputs": [],
   "source": [
    "# case 2 - if the file is already present\n",
    "f = open('sample.txt','w')\n",
    "f.write('This is content after case:2')\n",
    "f.close()"
   ]
  },
  {
   "cell_type": "code",
   "execution_count": 35,
   "metadata": {},
   "outputs": [],
   "source": [
    "# Problem with w mode\n",
    "# Introducing append mode\n",
    "f = open('sample.txt','a')\n",
    "f.write('\\nThis is content after append')\n",
    "f.close()"
   ]
  },
  {
   "cell_type": "code",
   "execution_count": 36,
   "metadata": {},
   "outputs": [],
   "source": [
    "# write lines\n",
    "L = ['Hello\\n','Hi\\n','How are you\\n','I am fine']\n",
    "\n",
    "f = open('sample1.txt','w')\n",
    "f.writelines(L)\n",
    "f.close()"
   ]
  },
  {
   "cell_type": "code",
   "execution_count": 37,
   "metadata": {},
   "outputs": [
    {
     "name": "stdout",
     "output_type": "stream",
     "text": [
      "Hello\n",
      "Hi\n",
      "How are you\n",
      "I am fine\n"
     ]
    }
   ],
   "source": [
    "# reading from files\n",
    "# -> using read()\n",
    "f = open('sample1.txt','r')\n",
    "s = f.read()\n",
    "print(s)\n",
    "f.close()"
   ]
  },
  {
   "cell_type": "code",
   "execution_count": 38,
   "metadata": {},
   "outputs": [
    {
     "name": "stdout",
     "output_type": "stream",
     "text": [
      "Hello\n",
      "Hi\n",
      "H\n"
     ]
    }
   ],
   "source": [
    "# reading upto n chars\n",
    "f = open('sample1.txt','r')\n",
    "s = f.read(10)\n",
    "print(s)\n",
    "f.close()"
   ]
  },
  {
   "cell_type": "code",
   "execution_count": 39,
   "metadata": {},
   "outputs": [
    {
     "name": "stdout",
     "output_type": "stream",
     "text": [
      "Hello\n",
      "Hi\n"
     ]
    }
   ],
   "source": [
    "# readline() -> to read line by line\n",
    "f = open('sample1.txt','r')\n",
    "print(f.readline(),end='')\n",
    "print(f.readline(),end='')\n",
    "f.close()"
   ]
  },
  {
   "cell_type": "code",
   "execution_count": 40,
   "metadata": {},
   "outputs": [
    {
     "name": "stdout",
     "output_type": "stream",
     "text": [
      "Hello\n",
      "Hi\n",
      "How are you\n",
      "I am fine"
     ]
    }
   ],
   "source": [
    "# reading entire using readline\n",
    "f = open('sample1.txt','r')\n",
    "\n",
    "while True:\n",
    "\n",
    "  data = f.readline()\n",
    "\n",
    "  if data == '':\n",
    "    break\n",
    "  else:\n",
    "    print(data,end='')\n",
    "\n",
    "f.close()"
   ]
  },
  {
   "cell_type": "markdown",
   "metadata": {},
   "source": [
    "### Using Context Manager (With)\n",
    "\n",
    "- It's a good idea to close a file after usage as it will free up the resources\n",
    "- If we dont close it, garbage collector would close it\n",
    "- with keyword closes the file as soon as the usage is over"
   ]
  },
  {
   "cell_type": "code",
   "execution_count": 41,
   "metadata": {},
   "outputs": [],
   "source": [
    "# with\n",
    "with open('sample1.txt','w') as f:\n",
    "  f.write(\"Text after using 'with' keyword\")"
   ]
  },
  {
   "cell_type": "code",
   "execution_count": 42,
   "metadata": {},
   "outputs": [
    {
     "name": "stdout",
     "output_type": "stream",
     "text": [
      "This is co\n",
      "ntent afte\n",
      "r case:2\n",
      "T\n",
      "his is con\n"
     ]
    }
   ],
   "source": [
    "# moving within a file -> 10 char then 10 char\n",
    "with open('sample.txt','r') as f:\n",
    "  print(f.read(10))\n",
    "  print(f.read(10))\n",
    "  print(f.read(10))\n",
    "  print(f.read(10))"
   ]
  },
  {
   "cell_type": "code",
   "execution_count": 43,
   "metadata": {},
   "outputs": [],
   "source": [
    "# benefit? -> to load a big file in memory\n",
    "big_L = ['hello world ' for i in range(1000)]\n",
    "\n",
    "with open('big.txt','w') as f:\n",
    "  f.writelines(big_L)\n"
   ]
  },
  {
   "cell_type": "code",
   "execution_count": 44,
   "metadata": {},
   "outputs": [
    {
     "name": "stdout",
     "output_type": "stream",
     "text": [
      "d hello wo*o world he*d hello wo*o world he*d hello wo*o world he*d hello wo*o world he*d hello wo*o world he*d hello wo*o world he*d hello wo*o world he*d hello wo*o world he*d hello wo*o world he*d hello wo*o world he*d hello wo*o world he*d hello wo*o world he*d hello wo*o world he*d hello wo*o world he*d hello wo*o world he*d hello wo*o world he*d hello wo*o world he*d hello wo*o world he*d hello wo*o world he*d hello wo*o world he*d hello wo*o world he*d hello wo*o world he*d hello wo*o world he*d hello wo*o world he*d hello wo*o world he*d hello wo*o world he*d hello wo*o world he*d hello wo*o world he*d hello wo*o world he*d hello wo*o world he*d hello wo*o world he*d hello wo*o world he*d hello wo*o world he*d hello wo*o world he*d hello wo*o world he*d hello wo*o world he*d hello wo*o world he*d hello wo*o world he*d hello wo*o world he*d hello wo*o world he*d hello wo*o world he*d hello wo*o world he*d hello wo*o world he*d hello wo*o world he*d hello wo*o world he*d hello wo*o world he*d hello wo*o world he*d hello wo*o world he*d hello wo*o world he*d hello wo*o world he*d hello wo*o world he*d hello wo*o world he*d hello wo*o world he*d hello wo*o world he*d hello wo*o world he*d hello wo*o world he*d hello wo*o world he*d hello wo*o world he*d hello wo*o world he*d hello wo*o world he*d hello wo*o world he*d hello wo*o world he*d hello wo*o world he*d hello wo*o world he*d hello wo*o world he*d hello wo*o world he*d hello wo*o world he*d hello wo*o world he*d hello wo*o world he*d hello wo*o world he*d hello wo*o world he*d hello wo*o world he*d hello wo*o world he*d hello wo*o world he*d hello wo*o world he*d hello wo*o world he*d hello wo*o world he*d hello wo*o world he*d hello wo*o world he*d hello wo*o world he*d hello wo*o world he*d hello wo*o world he*d hello wo*o world he*d hello wo*o world he*d hello wo*o world he*d hello wo*o world he*d hello wo*o world he*d hello wo*o world he*d hello wo*o world he*d hello wo*o world he*d hello wo*o world he*d hello wo*o world he*d hello wo*o world he*d hello wo*o world he*d hello wo*o world he*d hello wo*o world he*d hello wo*o world he*d hello wo*o world he*d hello wo*o world he*d hello wo*o world he*d hello wo*o world he*d hello wo*o world he*d hello wo*o world he*d hello wo*o world he*d hello wo*o world he*d hello wo*o world he*d hello wo*o world he*d hello wo*o world he*d hello wo*o world he*d hello wo*o world he*d hello wo*o world he*d hello wo*o world he*d hello wo*o world he*d hello wo*o world he*d hello wo*o world he*d hello wo*o world he*d hello wo*o world he*d hello wo*o world he*d hello wo*o world he*d hello wo*o world he*d hello wo*o world he*d hello wo*o world he*d hello wo*o world he*d hello wo*o world he*d hello wo*o world he*d hello wo*o world he*d hello wo*o world he*d hello wo*o world he*d hello wo*o world he*d hello wo*o world he*d hello wo*o world he*d hello wo*o world he*d hello wo*o world he*d hello wo*o world he*d hello wo*o world he*d hello wo*o world he*d hello wo*o world he*d hello wo*o world he*d hello wo*o world he*d hello wo*o world he*d hello wo*o world he*d hello wo*o world he*d hello wo*o world he*d hello wo*o world he*d hello wo*o world he*d hello wo*o world he*d hello wo*o world he*d hello wo*o world he*d hello wo*o world he*d hello wo*o world he*d hello wo*o world he*d hello wo*o world he*d hello wo*o world he*d hello wo*o world he*d hello wo*o world he*d hello wo*o world he*d hello wo*o world he*d hello wo*o world he*d hello wo*o world he*d hello wo*o world he*d hello wo*o world he*d hello wo*o world he*d hello wo*o world he*d hello wo*o world he*d hello wo*o world he*d hello wo*o world he*d hello wo*o world he*d hello wo*o world he*d hello wo*o world he*d hello wo*o world he*d hello wo*o world he*d hello wo*o world he*d hello wo*o world he*d hello wo*o world he*d hello wo*o world he*d hello wo*o world he*d hello wo*o world he*d hello wo*o world he*d hello wo*o world he*d hello wo*o world he*d hello wo*o world he*d hello wo*o world he*d hello wo*o world he*d hello wo*o world he*d hello wo*o world he*d hello wo*o world he*d hello wo*o world he*d hello wo*o world he*d hello wo*o world he*d hello wo*o world he*d hello wo*o world he*d hello wo*o world he*d hello wo*o world he*d hello wo*o world he*d hello wo*o world he*d hello wo*o world he*d hello wo*o world he*d hello wo*o world he*d hello wo*o world he*d hello wo*o world he*"
     ]
    }
   ],
   "source": [
    "with open('big.txt','r') as f:\n",
    "\n",
    "  chunk_size = 10\n",
    "\n",
    "  while len(f.read(chunk_size)) > 0:\n",
    "    print(f.read(chunk_size),end='*')\n",
    "    f.read(chunk_size)"
   ]
  },
  {
   "cell_type": "code",
   "execution_count": 45,
   "metadata": {},
   "outputs": [
    {
     "name": "stdout",
     "output_type": "stream",
     "text": [
      "tent after\n",
      "21\n",
      " case:2\n",
      "Th\n",
      "32\n"
     ]
    }
   ],
   "source": [
    "# seek and tell function\n",
    "with open('sample.txt','r') as f:\n",
    "  f.seek(11)\n",
    "  print(f.read(10))\n",
    "  print(f.tell())\n",
    "  \n",
    "  print(f.read(10))\n",
    "  print(f.tell())"
   ]
  },
  {
   "cell_type": "code",
   "execution_count": 46,
   "metadata": {},
   "outputs": [],
   "source": [
    "# Seek during write\n",
    "with open('sample.txt','w') as f:\n",
    "    f.write('Hello')\n",
    "    f.seek(0)\n",
    "    f.write('X')"
   ]
  },
  {
   "cell_type": "markdown",
   "metadata": {},
   "source": [
    "### Problems with working in text mode\n",
    "\n",
    "- can't work with binary files like images\n",
    "- not good for other data types like int/float/list/tuples"
   ]
  },
  {
   "cell_type": "code",
   "execution_count": 47,
   "metadata": {},
   "outputs": [],
   "source": [
    "# Working with binary file\n",
    "with open('tensor_titans.jpeg','rb') as f:\n",
    "  with open('tensor_titans_copy.jpeg','wb') as wf:\n",
    "    wf.write(f.read())"
   ]
  },
  {
   "cell_type": "code",
   "execution_count": 48,
   "metadata": {},
   "outputs": [],
   "source": [
    "# Working with complex data\n",
    "d = {\n",
    "    'name':'Abhay',\n",
    "     'age':19,\n",
    "     'gender':'male'\n",
    "}\n",
    "\n",
    "with open('sample.txt','w') as f:\n",
    "  f.write(str(d))\n"
   ]
  },
  {
   "cell_type": "code",
   "execution_count": 49,
   "metadata": {},
   "outputs": [
    {
     "name": "stdout",
     "output_type": "stream",
     "text": [
      "{'name': 'Abhay', 'age': 19, 'gender': 'male'}\n"
     ]
    }
   ],
   "source": [
    "with open('sample.txt','r') as f:\n",
    "  print((f.read()))"
   ]
  },
  {
   "cell_type": "markdown",
   "metadata": {},
   "source": [
    "### Serialization and Deserialization\n",
    "\n",
    "- **Serialization** - process of converting python data types to JSON format\n",
    "- **Deserialization** - process of converting JSON to python data types"
   ]
  },
  {
   "cell_type": "code",
   "execution_count": 50,
   "metadata": {},
   "outputs": [],
   "source": [
    "# Serialization using json module\n",
    "# 1. List\n",
    "import json\n",
    "\n",
    "L=[1,2,3,4,5]\n",
    "with open('demo1.json','w') as f:\n",
    "    json.dump(L,f)"
   ]
  },
  {
   "cell_type": "code",
   "execution_count": 51,
   "metadata": {},
   "outputs": [],
   "source": [
    "# 2. Dict\n",
    "d = {\n",
    "    'name':'Abhay Tiwari',\n",
    "     'age':19,\n",
    "     'gender':'male'\n",
    "}\n",
    "\n",
    "with open('demo2.json','w') as f:\n",
    "  json.dump(d,f,indent=4)"
   ]
  },
  {
   "cell_type": "code",
   "execution_count": 52,
   "metadata": {},
   "outputs": [
    {
     "name": "stdout",
     "output_type": "stream",
     "text": [
      "{'name': 'Abhay Tiwari', 'age': 19, 'gender': 'male'}\n",
      "<class 'dict'>\n"
     ]
    }
   ],
   "source": [
    "# Deserialization\n",
    "\n",
    "import json\n",
    "with open('demo2.json','r') as f:\n",
    "    d=json.load(f)\n",
    "    print(d)\n",
    "    print(type(d))"
   ]
  },
  {
   "cell_type": "code",
   "execution_count": 53,
   "metadata": {},
   "outputs": [],
   "source": [
    "# Serialize and Deserialize tuple\n",
    "import json\n",
    "\n",
    "t = (1,2,3,4,5)\n",
    "\n",
    "with open('demo1.json','w') as f:\n",
    "  json.dump(t,f)"
   ]
  },
  {
   "cell_type": "code",
   "execution_count": 54,
   "metadata": {},
   "outputs": [],
   "source": [
    "# serialize and deserialize a nested dict\n",
    "\n",
    "d = {\n",
    "    'student':'Abhay Tiwari',\n",
    "     'marks':[23,14,34,45,56]\n",
    "}\n",
    "\n",
    "with open('demo2.json','w') as f:\n",
    "  json.dump(d,f)"
   ]
  },
  {
   "cell_type": "markdown",
   "metadata": {},
   "source": [
    "### Serializing and Deserializing custom objects"
   ]
  },
  {
   "cell_type": "code",
   "execution_count": 55,
   "metadata": {},
   "outputs": [],
   "source": [
    "class Person:\n",
    "\n",
    "  def __init__(self,fname,lname,age,gender):\n",
    "    self.fname = fname\n",
    "    self.lname = lname\n",
    "    self.age = age\n",
    "    self.gender = gender\n",
    "\n",
    "# format to printed in\n",
    "# -> Abhay Tiwari age -> 19 gender -> male"
   ]
  },
  {
   "cell_type": "code",
   "execution_count": 56,
   "metadata": {},
   "outputs": [],
   "source": [
    "person = Person('Abhay','Tiwari',19,'male')"
   ]
  },
  {
   "cell_type": "code",
   "execution_count": 57,
   "metadata": {},
   "outputs": [],
   "source": [
    "# As a string\n",
    "import json\n",
    "\n",
    "def show_object(person):\n",
    "  if isinstance(person,Person):\n",
    "    return \"{} {} age -> {} gender -> {}\".format(person.fname,person.lname,person.age,person.gender)\n",
    "\n",
    "with open('demo.json','w') as f:\n",
    "  json.dump(person,f,default=show_object)"
   ]
  },
  {
   "cell_type": "code",
   "execution_count": 58,
   "metadata": {},
   "outputs": [],
   "source": [
    "# As a dict\n",
    "import json\n",
    "\n",
    "def show_object(person):\n",
    "  if isinstance(person,Person):\n",
    "    return {'name':person.fname + ' ' + person.lname,'age':person.age,'gender':person.gender}\n",
    "\n",
    "with open('demo.json','w') as f:\n",
    "  json.dump(person,f,default=show_object,indent=4)"
   ]
  },
  {
   "cell_type": "markdown",
   "metadata": {},
   "source": [
    "### Pickling\n",
    "`Pickling` is the process whereby a Python object hierarchy is converted into a byte stream, and `unpickling` is the inverse operation, whereby a byte stream (from a binary file or bytes-like object) is converted back into an object hierarchy."
   ]
  },
  {
   "cell_type": "code",
   "execution_count": 59,
   "metadata": {},
   "outputs": [],
   "source": [
    "class Person:\n",
    "\n",
    "  def __init__(self,name,age):\n",
    "    self.name = name\n",
    "    self.age = age\n",
    "\n",
    "  def display_info(self):\n",
    "    print('Hi my name is',self.name,'and I am ',self.age,'years old')"
   ]
  },
  {
   "cell_type": "code",
   "execution_count": 60,
   "metadata": {},
   "outputs": [],
   "source": [
    "p = Person('Abhay',19)"
   ]
  },
  {
   "cell_type": "code",
   "execution_count": 61,
   "metadata": {},
   "outputs": [],
   "source": [
    "# Pickle dump\n",
    "import pickle\n",
    "with open('person.pkl','wb') as f:\n",
    "  pickle.dump(p,f)"
   ]
  },
  {
   "cell_type": "code",
   "execution_count": 62,
   "metadata": {},
   "outputs": [
    {
     "name": "stdout",
     "output_type": "stream",
     "text": [
      "Hi my name is Abhay and I am  19 years old\n"
     ]
    }
   ],
   "source": [
    "# Pickle load\n",
    "import pickle\n",
    "with open('person.pkl','rb') as f:\n",
    "  p = pickle.load(f)\n",
    "\n",
    "p.display_info()"
   ]
  },
  {
   "cell_type": "code",
   "execution_count": null,
   "metadata": {},
   "outputs": [],
   "source": []
  }
 ],
 "metadata": {
  "kernelspec": {
   "display_name": "Python 3",
   "language": "python",
   "name": "python3"
  },
  "language_info": {
   "codemirror_mode": {
    "name": "ipython",
    "version": 3
   },
   "file_extension": ".py",
   "mimetype": "text/x-python",
   "name": "python",
   "nbconvert_exporter": "python",
   "pygments_lexer": "ipython3",
   "version": "3.12.4"
  }
 },
 "nbformat": 4,
 "nbformat_minor": 2
}

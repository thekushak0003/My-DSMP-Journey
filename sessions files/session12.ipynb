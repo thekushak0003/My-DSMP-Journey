{
 "cells": [
  {
   "cell_type": "markdown",
   "metadata": {},
   "source": [
    "### Namespaces\n",
    "\n",
    "A namespace is a space that holds names(identifiers).Programmatically speaking, namespaces are dictionary of identifiers(keys) and their objects(values)\n",
    "\n",
    "There are 4 types of namespaces:\n",
    "- Builtin Namespace\n",
    "- Global Namespace\n",
    "- Enclosing Namespace\n",
    "- Local Namespace"
   ]
  },
  {
   "cell_type": "markdown",
   "metadata": {},
   "source": [
    "#### Scope and LEGB Rule\n",
    "\n",
    "A scope is a textual region of a Python program where a namespace is directly accessible.\n",
    "\n",
    "The interpreter searches for a name from the inside out, looking in the local, enclosing, global, and finally the built-in scope. If the interpreter doesn’t find the name in any of these locations, then Python raises a NameError exception."
   ]
  },
  {
   "cell_type": "code",
   "execution_count": 1,
   "metadata": {},
   "outputs": [
    {
     "name": "stdout",
     "output_type": "stream",
     "text": [
      "3\n",
      "2\n"
     ]
    }
   ],
   "source": [
    "# local and global\n",
    "# global var\n",
    "a = 2\n",
    "\n",
    "def temp():\n",
    "  # local var\n",
    "  b = 3\n",
    "  print(b)\n",
    "\n",
    "temp()\n",
    "print(a)"
   ]
  },
  {
   "cell_type": "code",
   "execution_count": 2,
   "metadata": {},
   "outputs": [
    {
     "name": "stdout",
     "output_type": "stream",
     "text": [
      "3\n",
      "3\n"
     ]
    }
   ],
   "source": [
    "a=2\n",
    "def temp():\n",
    "    global a\n",
    "    a+=1\n",
    "    print(a)\n",
    "    \n",
    "temp()\n",
    "print(a)    "
   ]
  },
  {
   "cell_type": "code",
   "execution_count": 3,
   "metadata": {},
   "outputs": [
    {
     "name": "stdout",
     "output_type": "stream",
     "text": [
      "1\n",
      "1\n"
     ]
    }
   ],
   "source": [
    "# local and global -> global created inside local\n",
    "def temp():\n",
    "    global a\n",
    "    a=1\n",
    "    print(a)\n",
    "    \n",
    "temp()\n",
    "print(a)    "
   ]
  },
  {
   "cell_type": "code",
   "execution_count": 4,
   "metadata": {},
   "outputs": [
    {
     "name": "stdout",
     "output_type": "stream",
     "text": [
      "7\n",
      "5\n"
     ]
    }
   ],
   "source": [
    "# local and global -> function parameter is local\n",
    "def temp(z):\n",
    "    # local var\n",
    "    print(z)\n",
    "a=5\n",
    "temp(7)\n",
    "print(a)    "
   ]
  },
  {
   "cell_type": "code",
   "execution_count": 5,
   "metadata": {},
   "outputs": [
    {
     "name": "stdout",
     "output_type": "stream",
     "text": [
      "['ArithmeticError', 'AssertionError', 'AttributeError', 'BaseException', 'BaseExceptionGroup', 'BlockingIOError', 'BrokenPipeError', 'BufferError', 'BytesWarning', 'ChildProcessError', 'ConnectionAbortedError', 'ConnectionError', 'ConnectionRefusedError', 'ConnectionResetError', 'DeprecationWarning', 'EOFError', 'Ellipsis', 'EncodingWarning', 'EnvironmentError', 'Exception', 'ExceptionGroup', 'False', 'FileExistsError', 'FileNotFoundError', 'FloatingPointError', 'FutureWarning', 'GeneratorExit', 'IOError', 'ImportError', 'ImportWarning', 'IndentationError', 'IndexError', 'InterruptedError', 'IsADirectoryError', 'KeyError', 'KeyboardInterrupt', 'LookupError', 'MemoryError', 'ModuleNotFoundError', 'NameError', 'None', 'NotADirectoryError', 'NotImplemented', 'NotImplementedError', 'OSError', 'OverflowError', 'PendingDeprecationWarning', 'PermissionError', 'ProcessLookupError', 'RecursionError', 'ReferenceError', 'ResourceWarning', 'RuntimeError', 'RuntimeWarning', 'StopAsyncIteration', 'StopIteration', 'SyntaxError', 'SyntaxWarning', 'SystemError', 'SystemExit', 'TabError', 'TimeoutError', 'True', 'TypeError', 'UnboundLocalError', 'UnicodeDecodeError', 'UnicodeEncodeError', 'UnicodeError', 'UnicodeTranslateError', 'UnicodeWarning', 'UserWarning', 'ValueError', 'Warning', 'WindowsError', 'ZeroDivisionError', '__IPYTHON__', '__build_class__', '__debug__', '__doc__', '__import__', '__loader__', '__name__', '__package__', '__spec__', 'abs', 'aiter', 'all', 'anext', 'any', 'ascii', 'bin', 'bool', 'breakpoint', 'bytearray', 'bytes', 'callable', 'chr', 'classmethod', 'compile', 'complex', 'copyright', 'credits', 'delattr', 'dict', 'dir', 'display', 'divmod', 'enumerate', 'eval', 'exec', 'execfile', 'filter', 'float', 'format', 'frozenset', 'get_ipython', 'getattr', 'globals', 'hasattr', 'hash', 'help', 'hex', 'id', 'input', 'int', 'isinstance', 'issubclass', 'iter', 'len', 'license', 'list', 'locals', 'map', 'max', 'memoryview', 'min', 'next', 'object', 'oct', 'open', 'ord', 'pow', 'print', 'property', 'range', 'repr', 'reversed', 'round', 'runfile', 'set', 'setattr', 'slice', 'sorted', 'staticmethod', 'str', 'sum', 'super', 'tuple', 'type', 'vars', 'zip']\n"
     ]
    }
   ],
   "source": [
    "# Built-in Scope\n",
    "import builtins\n",
    "print(dir(builtins))"
   ]
  },
  {
   "cell_type": "code",
   "execution_count": 6,
   "metadata": {},
   "outputs": [
    {
     "name": "stdout",
     "output_type": "stream",
     "text": [
      "5\n",
      "Outer function\n",
      "Main program\n"
     ]
    }
   ],
   "source": [
    "# Enclosing Scope\n",
    "def outer():\n",
    "  def inner():\n",
    "    print(a)\n",
    "  inner()\n",
    "  print('Outer function')\n",
    "outer()\n",
    "print('Main program')"
   ]
  },
  {
   "cell_type": "code",
   "execution_count": 7,
   "metadata": {},
   "outputs": [
    {
     "name": "stdout",
     "output_type": "stream",
     "text": [
      "inner 2\n",
      "outer 2\n",
      "main program\n"
     ]
    }
   ],
   "source": [
    "# nonlocal keyword\n",
    "def outer():\n",
    "  a = 1\n",
    "  def inner():\n",
    "    nonlocal a\n",
    "    a += 1\n",
    "    print('inner',a)\n",
    "  inner()\n",
    "  print('outer',a)\n",
    "\n",
    "outer()\n",
    "print('main program')"
   ]
  },
  {
   "cell_type": "code",
   "execution_count": null,
   "metadata": {},
   "outputs": [],
   "source": []
  },
  {
   "cell_type": "markdown",
   "metadata": {},
   "source": [
    "### Decorators\n",
    "\n",
    "A decorator in python is a function that receives another function as input and adds some functionality(decoration) to and it and returns it.\n",
    "\n",
    "This can happen only because python functions are 1st class citizens.\n",
    "\n",
    "There are 2 types of decorators available in python\n",
    "- `Built in decorators` like `@staticmethod`, `@classmethod`, `@abstractmethod` and `@property` etc\n",
    "- `User defined decorators` that we programmers can create according to our needs"
   ]
  },
  {
   "cell_type": "code",
   "execution_count": 8,
   "metadata": {},
   "outputs": [
    {
     "data": {
      "text/plain": [
       "4"
      ]
     },
     "execution_count": 8,
     "metadata": {},
     "output_type": "execute_result"
    }
   ],
   "source": [
    "# Python are 1st class function\n",
    "# Fxn can take another fxn as input\n",
    "def modify(func,num):\n",
    "  return func(num)\n",
    "def square(num):\n",
    "  return num**2\n",
    "modify(square,2)"
   ]
  },
  {
   "cell_type": "code",
   "execution_count": 9,
   "metadata": {},
   "outputs": [
    {
     "name": "stdout",
     "output_type": "stream",
     "text": [
      "***** *****\n",
      "   Hello\n",
      "***** *****\n",
      "***** *****\n",
      "Hello Tiwari\n",
      "***** *****\n"
     ]
    }
   ],
   "source": [
    "# Simple example\n",
    "def my_decorator(func):\n",
    "    def wrapper():\n",
    "        print('***** *****')\n",
    "        func()\n",
    "        print('***** *****')\n",
    "    return wrapper\n",
    "def hello():\n",
    "    print('   Hello')   \n",
    "def display():\n",
    "    print(\"Hello Tiwari\")   \n",
    "a=my_decorator(hello)\n",
    "a()\n",
    "b=my_decorator(display)\n",
    "b()          "
   ]
  },
  {
   "cell_type": "code",
   "execution_count": 10,
   "metadata": {},
   "outputs": [
    {
     "name": "stdout",
     "output_type": "stream",
     "text": [
      "5\n"
     ]
    }
   ],
   "source": [
    "# Closure prop --> inner fxn parent fxn ke mrne ke baad bhi uske cheezo ko access kr skta hai\n",
    "def outer():\n",
    "    a=5\n",
    "    def inner():\n",
    "        print(a)\n",
    "    return inner\n",
    "b=outer()\n",
    "b()    "
   ]
  },
  {
   "cell_type": "code",
   "execution_count": 11,
   "metadata": {},
   "outputs": [
    {
     "name": "stdout",
     "output_type": "stream",
     "text": [
      "***** *****\n",
      "   Hello\n",
      "***** *****\n",
      "***** *****\n",
      "Hello Tiwari\n",
      "***** *****\n"
     ]
    }
   ],
   "source": [
    "# Better Syntax\n",
    "def my_decorator(func):\n",
    "    def wrapper():\n",
    "        print('***** *****')\n",
    "        func()\n",
    "        print('***** *****')\n",
    "    return wrapper\n",
    "@my_decorator\n",
    "def hello():\n",
    "    print('   Hello')  \n",
    "@my_decorator     \n",
    "def display():\n",
    "    print(\"Hello Tiwari\")   \n",
    "hello()\n",
    "display() "
   ]
  },
  {
   "cell_type": "code",
   "execution_count": 12,
   "metadata": {},
   "outputs": [
    {
     "name": "stdout",
     "output_type": "stream",
     "text": [
      "Hellow Abhay jii\n"
     ]
    },
    {
     "name": "stdout",
     "output_type": "stream",
     "text": [
      "Time taken by hello fxn is 1.0011060237884521 secs\n",
      "16\n",
      "Time taken by square fxn is 1.001211404800415 secs\n",
      "1024\n",
      "Time taken by power fxn is 1.0007734298706055 secs\n"
     ]
    }
   ],
   "source": [
    "# Creating a meaningful decorator\n",
    "import time\n",
    "def timer(func):\n",
    "    def wrapper(*args):\n",
    "        start=time.time()\n",
    "        func(*args)\n",
    "        print(\"Time taken by\",func.__name__,\"fxn is\",time.time()-start,\"secs\")\n",
    "    return wrapper\n",
    "@timer\n",
    "def hello():\n",
    "    print(\"Hellow Abhay jii\")\n",
    "    time.sleep(1) \n",
    "\n",
    "@timer\n",
    "def square(num):\n",
    "        time.sleep(1)\n",
    "        print(num**2)\n",
    "\n",
    "@timer\n",
    "def power(a,b):\n",
    "    time.sleep(1)\n",
    "    print(a**b)        \n",
    "hello()  \n",
    "square(4) \n",
    "power(4,5)    "
   ]
  },
  {
   "cell_type": "code",
   "execution_count": 13,
   "metadata": {},
   "outputs": [
    {
     "name": "stdout",
     "output_type": "stream",
     "text": [
      "4\n"
     ]
    }
   ],
   "source": [
    "def sanity_check(data_type):\n",
    "    def outer_wrapper(func):\n",
    "        def inner_wrapper(*args):\n",
    "            if type(args[0])==data_type:\n",
    "                func(*args)\n",
    "            else:\n",
    "                raise TypeError(\"A datatype nhi chlega\")\n",
    "        return inner_wrapper\n",
    "    return outer_wrapper\n",
    "@sanity_check(int)\n",
    "def square(num):\n",
    "    print(num**2)\n",
    "square(2)                "
   ]
  },
  {
   "cell_type": "code",
   "execution_count": null,
   "metadata": {},
   "outputs": [],
   "source": []
  }
 ],
 "metadata": {
  "kernelspec": {
   "display_name": "Python 3",
   "language": "python",
   "name": "python3"
  },
  "language_info": {
   "codemirror_mode": {
    "name": "ipython",
    "version": 3
   },
   "file_extension": ".py",
   "mimetype": "text/x-python",
   "name": "python",
   "nbconvert_exporter": "python",
   "pygments_lexer": "ipython3",
   "version": "3.12.4"
  }
 },
 "nbformat": 4,
 "nbformat_minor": 2
}

{
 "cells": [
  {
   "cell_type": "markdown",
   "metadata": {},
   "source": [
    "### Series Methods\n",
    "- Pandas is a fast, powerful, flexible and easy to use open source data analysis and manipulation tool, built on top of the Python programming language."
   ]
  },
  {
   "cell_type": "code",
   "execution_count": 59,
   "metadata": {},
   "outputs": [],
   "source": [
    "import pandas as pd \n",
    "import numpy as np "
   ]
  },
  {
   "cell_type": "code",
   "execution_count": 60,
   "metadata": {},
   "outputs": [
    {
     "data": {
      "text/plain": [
       "Maths       67\n",
       "English     57\n",
       "Science     89\n",
       "Hindi      100\n",
       "dtype: int64"
      ]
     },
     "execution_count": 60,
     "metadata": {},
     "output_type": "execute_result"
    }
   ],
   "source": [
    "# custom index\n",
    "marks = [67,57,89,100]\n",
    "subjects = ['Maths','English','Science','Hindi']\n",
    "\n",
    "pd.Series(marks,index=subjects)"
   ]
  },
  {
   "cell_type": "code",
   "execution_count": 61,
   "metadata": {},
   "outputs": [
    {
     "data": {
      "text/plain": [
       "Maths       67\n",
       "English     57\n",
       "Science     89\n",
       "Hindi      100\n",
       "Name: Abhay ke marks, dtype: int64"
      ]
     },
     "execution_count": 61,
     "metadata": {},
     "output_type": "execute_result"
    }
   ],
   "source": [
    "marks = {\n",
    "    'Maths':67,\n",
    "    'English':57,\n",
    "    'Science':89,\n",
    "    'Hindi':100\n",
    "}\n",
    "marks_series = pd.Series(marks,name='Abhay ke marks')\n",
    "marks_series"
   ]
  },
  {
   "cell_type": "code",
   "execution_count": 62,
   "metadata": {},
   "outputs": [
    {
     "data": {
      "application/vnd.microsoft.datawrangler.viewer.v0+json": {
       "columns": [
        {
         "name": "movie",
         "rawType": "object",
         "type": "string"
        },
        {
         "name": "lead",
         "rawType": "object",
         "type": "string"
        }
       ],
       "conversionMethod": "pd.DataFrame",
       "ref": "788980a0-267b-4a46-9cdb-788b15a5e865",
       "rows": [
        [
         "Uri: The Surgical Strike",
         "Vicky Kaushal"
        ],
        [
         "Battalion 609",
         "Vicky Ahuja"
        ],
        [
         "The Accidental Prime Minister (film)",
         "Anupam Kher"
        ],
        [
         "Why Cheat India",
         "Emraan Hashmi"
        ],
        [
         "Evening Shadows",
         "Mona Ambegaonkar"
        ],
        [
         "Soni (film)",
         "Geetika Vidya Ohlyan"
        ],
        [
         "Fraud Saiyaan",
         "Arshad Warsi"
        ],
        [
         "Bombairiya",
         "Radhika Apte"
        ],
        [
         "Manikarnika: The Queen of Jhansi",
         "Kangana Ranaut"
        ],
        [
         "Thackeray (film)",
         "Nawazuddin Siddiqui"
        ],
        [
         "Amavas",
         "Ali Asgar"
        ],
        [
         "Gully Boy",
         "Ranveer Singh"
        ],
        [
         "Hum Chaar",
         "Prit Kamani"
        ],
        [
         "Total Dhamaal",
         "Ajay Devgn"
        ],
        [
         "Sonchiriya",
         "Sushant Singh Rajput"
        ],
        [
         "Badla (2019 film)",
         "Amitabh Bachchan"
        ],
        [
         "Mard Ko Dard Nahi Hota",
         "Abhimanyu Dasani"
        ],
        [
         "Hamid (film)",
         "Talha Arshad Reshi"
        ],
        [
         "Photograph (film)",
         "Nawazuddin Siddiqui"
        ],
        [
         "Risknamaa",
         "Garima Agarwal"
        ],
        [
         "Mere Pyare Prime Minister",
         "Rasika Agashe"
        ],
        [
         "22 Yards",
         "Barun Sobti"
        ],
        [
         "Kesari (film)",
         "Akshay Kumar"
        ],
        [
         "Notebook (2019 film)",
         "Zaheer Iqbal"
        ],
        [
         "Junglee (2019 film)",
         "Vidyut Jammwal"
        ],
        [
         "Gone Kesh",
         "Deepika Amin"
        ],
        [
         "Albert Pinto Ko Gussa Kyun Aata Hai?",
         "Manav Kaul"
        ],
        [
         "The Tashkent Files",
         "Naseeruddin Shah"
        ],
        [
         "Kalank",
         "Varun Dhawan"
        ],
        [
         "Setters (film)",
         "Shreyas Talpade"
        ],
        [
         "Student of the Year 2",
         "Tiger Shroff"
        ],
        [
         "PM Narendra Modi",
         "Boman Irani"
        ],
        [
         "De De Pyaar De",
         "Ajay Devgn"
        ],
        [
         "India's Most Wanted (film)",
         "Arjun Kapoor"
        ],
        [
         "Yeh Hai India",
         "Gavie Chahal"
        ],
        [
         "Khamoshi (2019 film)",
         "Prabhu Deva"
        ],
        [
         "Kabir Singh",
         "Shahid Kapoor"
        ],
        [
         "Article 15 (film)",
         "Ayushmann Khurrana"
        ],
        [
         "One Day: Justice Delivered",
         "Anupam Kher"
        ],
        [
         "Hume Tumse Pyaar Kitna",
         "Karanvir Bohra"
        ],
        [
         "Super 30 (film)",
         "Hrithik Roshan"
        ],
        [
         "Family of Thakurganj",
         "Jimmy Sheirgill"
        ],
        [
         "Batla House",
         "John Abraham"
        ],
        [
         "Jhootha Kahin Ka",
         "Rishi Kapoor"
        ],
        [
         "Judgementall Hai Kya",
         "Kangana Ranaut"
        ],
        [
         "Chicken Curry Law",
         "Natalia Janoszek"
        ],
        [
         "Arjun Patiala",
         "Diljit Dosanjh"
        ],
        [
         "Jabariya Jodi",
         "Sidharth Malhotra"
        ],
        [
         "Pranaam",
         "Rajeev Khandelwal"
        ],
        [
         "The Sky Is Pink",
         "Zaira Wasim"
        ]
       ],
       "shape": {
        "columns": 1,
        "rows": 1500
       }
      },
      "text/html": [
       "<div>\n",
       "<style scoped>\n",
       "    .dataframe tbody tr th:only-of-type {\n",
       "        vertical-align: middle;\n",
       "    }\n",
       "\n",
       "    .dataframe tbody tr th {\n",
       "        vertical-align: top;\n",
       "    }\n",
       "\n",
       "    .dataframe thead th {\n",
       "        text-align: right;\n",
       "    }\n",
       "</style>\n",
       "<table border=\"1\" class=\"dataframe\">\n",
       "  <thead>\n",
       "    <tr style=\"text-align: right;\">\n",
       "      <th></th>\n",
       "      <th>lead</th>\n",
       "    </tr>\n",
       "    <tr>\n",
       "      <th>movie</th>\n",
       "      <th></th>\n",
       "    </tr>\n",
       "  </thead>\n",
       "  <tbody>\n",
       "    <tr>\n",
       "      <th>Uri: The Surgical Strike</th>\n",
       "      <td>Vicky Kaushal</td>\n",
       "    </tr>\n",
       "    <tr>\n",
       "      <th>Battalion 609</th>\n",
       "      <td>Vicky Ahuja</td>\n",
       "    </tr>\n",
       "    <tr>\n",
       "      <th>The Accidental Prime Minister (film)</th>\n",
       "      <td>Anupam Kher</td>\n",
       "    </tr>\n",
       "    <tr>\n",
       "      <th>Why Cheat India</th>\n",
       "      <td>Emraan Hashmi</td>\n",
       "    </tr>\n",
       "    <tr>\n",
       "      <th>Evening Shadows</th>\n",
       "      <td>Mona Ambegaonkar</td>\n",
       "    </tr>\n",
       "    <tr>\n",
       "      <th>...</th>\n",
       "      <td>...</td>\n",
       "    </tr>\n",
       "    <tr>\n",
       "      <th>Hum Tumhare Hain Sanam</th>\n",
       "      <td>Shah Rukh Khan</td>\n",
       "    </tr>\n",
       "    <tr>\n",
       "      <th>Aankhen (2002 film)</th>\n",
       "      <td>Amitabh Bachchan</td>\n",
       "    </tr>\n",
       "    <tr>\n",
       "      <th>Saathiya (film)</th>\n",
       "      <td>Vivek Oberoi</td>\n",
       "    </tr>\n",
       "    <tr>\n",
       "      <th>Company (film)</th>\n",
       "      <td>Ajay Devgn</td>\n",
       "    </tr>\n",
       "    <tr>\n",
       "      <th>Awara Paagal Deewana</th>\n",
       "      <td>Akshay Kumar</td>\n",
       "    </tr>\n",
       "  </tbody>\n",
       "</table>\n",
       "<p>1500 rows × 1 columns</p>\n",
       "</div>"
      ],
      "text/plain": [
       "                                                  lead\n",
       "movie                                                 \n",
       "Uri: The Surgical Strike                 Vicky Kaushal\n",
       "Battalion 609                              Vicky Ahuja\n",
       "The Accidental Prime Minister (film)       Anupam Kher\n",
       "Why Cheat India                          Emraan Hashmi\n",
       "Evening Shadows                       Mona Ambegaonkar\n",
       "...                                                ...\n",
       "Hum Tumhare Hain Sanam                  Shah Rukh Khan\n",
       "Aankhen (2002 film)                   Amitabh Bachchan\n",
       "Saathiya (film)                           Vivek Oberoi\n",
       "Company (film)                              Ajay Devgn\n",
       "Awara Paagal Deewana                      Akshay Kumar\n",
       "\n",
       "[1500 rows x 1 columns]"
      ]
     },
     "execution_count": 62,
     "metadata": {},
     "output_type": "execute_result"
    }
   ],
   "source": [
    "movies = pd.read_csv('bollywood.csv',index_col='movie')\n",
    "movies"
   ]
  },
  {
   "cell_type": "code",
   "execution_count": 63,
   "metadata": {},
   "outputs": [
    {
     "data": {
      "text/plain": [
       "lead            \n",
       "Akshay Kumar        48\n",
       "Amitabh Bachchan    45\n",
       "Ajay Devgn          38\n",
       "Salman Khan         31\n",
       "Sanjay Dutt         26\n",
       "                    ..\n",
       "Kashmira Shah        1\n",
       "Kartik Elangovan     1\n",
       "Karisma Kapoor       1\n",
       "Karan Sharma         1\n",
       "Zulfi Sayed          1\n",
       "Name: count, Length: 566, dtype: int64"
      ]
     },
     "execution_count": 63,
     "metadata": {},
     "output_type": "execute_result"
    }
   ],
   "source": [
    "movies.value_counts()"
   ]
  },
  {
   "cell_type": "code",
   "execution_count": 64,
   "metadata": {},
   "outputs": [
    {
     "data": {
      "application/vnd.microsoft.datawrangler.viewer.v0+json": {
       "columns": [
        {
         "name": "movie",
         "rawType": "object",
         "type": "string"
        },
        {
         "name": "lead",
         "rawType": "object",
         "type": "string"
        }
       ],
       "conversionMethod": "pd.DataFrame",
       "ref": "a20b3294-754c-4bb2-8a15-27d54aba9c5e",
       "rows": [
        [
         "Zor Lagaa Ke...Haiya!",
         "Meghan Jadhav"
        ],
        [
         "Zokkomon",
         "Darsheel Safary"
        ],
        [
         "Zindagi Tere Naam",
         "Mithun Chakraborty"
        ],
        [
         "Zindagi Na Milegi Dobara",
         "Hrithik Roshan"
        ],
        [
         "Zindagi 50-50",
         "Veena Malik"
        ],
        [
         "Zindaggi Rocks",
         "Sushmita Sen"
        ],
        [
         "Zinda (film)",
         "Sanjay Dutt"
        ],
        [
         "Zila Ghaziabad",
         "Vivek Oberoi"
        ],
        [
         "Zid (2014 film)",
         "Mannara Chopra"
        ],
        [
         "Zero (2018 film)",
         "Shah Rukh Khan"
        ],
        [
         "Zeher",
         "Emraan Hashmi"
        ],
        [
         "Zed Plus",
         "Vinod Acharya"
        ],
        [
         "Zameer: The Fire Within",
         "Ajay Devgn"
        ],
        [
         "Zameen (2003 film)",
         "Ajay Devgn"
        ],
        [
         "Zamaanat",
         "Jeetendra"
        ],
        [
         "Yuvvraaj",
         "Salman Khan"
        ],
        [
         "Yuva",
         "Ajay Devgn"
        ],
        [
         "Yun Hota Toh Kya Hota",
         "Paresh Rawal"
        ],
        [
         "Youngistaan",
         "Jackky Bhagnani"
        ],
        [
         "Yeh Saali Aashiqui",
         "Vardhan Puri"
        ],
        [
         "Yeh Mera India",
         "Anupam Kher"
        ],
        [
         "Yeh Lamhe Judaai Ke",
         "Shah Rukh Khan"
        ],
        [
         "Yeh Khula Aasmaan",
         "Anya Anand"
        ],
        [
         "Yeh Jawaani Hai Deewani",
         "Ranbir Kapoor"
        ],
        [
         "Yeh Hai India",
         "Gavie Chahal"
        ],
        [
         "Yeh Hai Bakrapur",
         "Anshuman Jha"
        ],
        [
         "Yeh Dooriyan",
         "Deepshika Nagpal"
        ],
        [
         "Yeh Dil",
         "Tusshar Kapoor"
        ],
        [
         "Yatra (2007 film)",
         "Rekha"
        ],
        [
         "Yamla Pagla Deewana: Phir Se",
         "Dharmendra"
        ],
        [
         "Yamla Pagla Deewana",
         "Nafisa Ali"
        ],
        [
         "Yakeen (2005 film)",
         "Arjun Rampal"
        ],
        [
         "Yadvi – The Dignified Princess",
         "Prisha Aneja"
        ],
        [
         "Yaaram (2019 film)",
         "Siddhanth Kapoor"
        ],
        [
         "Ya Rab",
         "Indrapal Ahuja"
        ],
        [
         "Xcuse Me",
         "Sharman Joshi"
        ],
        [
         "Woodstock Villa",
         "Sikander Kher"
        ],
        [
         "Woh Lamhe...",
         "Kangana Ranaut"
        ],
        [
         "Why Cheat India",
         "Emraan Hashmi"
        ],
        [
         "What's Your Raashee?",
         "Harman Baweja"
        ],
        [
         "What the Fish",
         "Manu Rishi Chadha"
        ],
        [
         "Well Done Abba",
         "Boman Irani"
        ],
        [
         "Welcome to Sajjanpur",
         "Shreyas Talpade"
        ],
        [
         "Welcome Back (film)",
         "Anil Kapoor"
        ],
        [
         "Welcome 2 Karachi",
         "Arshad Warsi"
        ],
        [
         "Welcome (2007 film)",
         "Akshay Kumar"
        ],
        [
         "Wedding Pullav",
         "Diganth"
        ],
        [
         "Wedding Anniversary",
         "Nana Patekar"
        ],
        [
         "Waris Shah: Ishq Daa Waaris",
         "Gurdas Maan"
        ],
        [
         "War Chhod Na Yaar",
         "Sharman Joshi"
        ]
       ],
       "shape": {
        "columns": 1,
        "rows": 1500
       }
      },
      "text/html": [
       "<div>\n",
       "<style scoped>\n",
       "    .dataframe tbody tr th:only-of-type {\n",
       "        vertical-align: middle;\n",
       "    }\n",
       "\n",
       "    .dataframe tbody tr th {\n",
       "        vertical-align: top;\n",
       "    }\n",
       "\n",
       "    .dataframe thead th {\n",
       "        text-align: right;\n",
       "    }\n",
       "</style>\n",
       "<table border=\"1\" class=\"dataframe\">\n",
       "  <thead>\n",
       "    <tr style=\"text-align: right;\">\n",
       "      <th></th>\n",
       "      <th>lead</th>\n",
       "    </tr>\n",
       "    <tr>\n",
       "      <th>movie</th>\n",
       "      <th></th>\n",
       "    </tr>\n",
       "  </thead>\n",
       "  <tbody>\n",
       "    <tr>\n",
       "      <th>Zor Lagaa Ke...Haiya!</th>\n",
       "      <td>Meghan Jadhav</td>\n",
       "    </tr>\n",
       "    <tr>\n",
       "      <th>Zokkomon</th>\n",
       "      <td>Darsheel Safary</td>\n",
       "    </tr>\n",
       "    <tr>\n",
       "      <th>Zindagi Tere Naam</th>\n",
       "      <td>Mithun Chakraborty</td>\n",
       "    </tr>\n",
       "    <tr>\n",
       "      <th>Zindagi Na Milegi Dobara</th>\n",
       "      <td>Hrithik Roshan</td>\n",
       "    </tr>\n",
       "    <tr>\n",
       "      <th>Zindagi 50-50</th>\n",
       "      <td>Veena Malik</td>\n",
       "    </tr>\n",
       "    <tr>\n",
       "      <th>...</th>\n",
       "      <td>...</td>\n",
       "    </tr>\n",
       "    <tr>\n",
       "      <th>2 States (2014 film)</th>\n",
       "      <td>Arjun Kapoor</td>\n",
       "    </tr>\n",
       "    <tr>\n",
       "      <th>1971 (2007 film)</th>\n",
       "      <td>Manoj Bajpayee</td>\n",
       "    </tr>\n",
       "    <tr>\n",
       "      <th>1920: The Evil Returns</th>\n",
       "      <td>Vicky Ahuja</td>\n",
       "    </tr>\n",
       "    <tr>\n",
       "      <th>1920: London</th>\n",
       "      <td>Sharman Joshi</td>\n",
       "    </tr>\n",
       "    <tr>\n",
       "      <th>1920 (film)</th>\n",
       "      <td>Rajniesh Duggall</td>\n",
       "    </tr>\n",
       "  </tbody>\n",
       "</table>\n",
       "<p>1500 rows × 1 columns</p>\n",
       "</div>"
      ],
      "text/plain": [
       "                                        lead\n",
       "movie                                       \n",
       "Zor Lagaa Ke...Haiya!          Meghan Jadhav\n",
       "Zokkomon                     Darsheel Safary\n",
       "Zindagi Tere Naam         Mithun Chakraborty\n",
       "Zindagi Na Milegi Dobara      Hrithik Roshan\n",
       "Zindagi 50-50                    Veena Malik\n",
       "...                                      ...\n",
       "2 States (2014 film)            Arjun Kapoor\n",
       "1971 (2007 film)              Manoj Bajpayee\n",
       "1920: The Evil Returns           Vicky Ahuja\n",
       "1920: London                   Sharman Joshi\n",
       "1920 (film)                 Rajniesh Duggall\n",
       "\n",
       "[1500 rows x 1 columns]"
      ]
     },
     "execution_count": 64,
     "metadata": {},
     "output_type": "execute_result"
    }
   ],
   "source": [
    "movies.sort_index(ascending=False,inplace=True)\n",
    "movies"
   ]
  },
  {
   "cell_type": "code",
   "execution_count": 65,
   "metadata": {},
   "outputs": [
    {
     "data": {
      "application/vnd.microsoft.datawrangler.viewer.v0+json": {
       "columns": [
        {
         "name": "index",
         "rawType": "object",
         "type": "string"
        },
        {
         "name": "lead",
         "rawType": "object",
         "type": "unknown"
        }
       ],
       "conversionMethod": "pd.DataFrame",
       "ref": "67a0cd30-639c-4a3a-88c5-ff0b68aea940",
       "rows": [
        [
         "count",
         "1500"
        ],
        [
         "unique",
         "566"
        ],
        [
         "top",
         "Akshay Kumar"
        ],
        [
         "freq",
         "48"
        ]
       ],
       "shape": {
        "columns": 1,
        "rows": 4
       }
      },
      "text/html": [
       "<div>\n",
       "<style scoped>\n",
       "    .dataframe tbody tr th:only-of-type {\n",
       "        vertical-align: middle;\n",
       "    }\n",
       "\n",
       "    .dataframe tbody tr th {\n",
       "        vertical-align: top;\n",
       "    }\n",
       "\n",
       "    .dataframe thead th {\n",
       "        text-align: right;\n",
       "    }\n",
       "</style>\n",
       "<table border=\"1\" class=\"dataframe\">\n",
       "  <thead>\n",
       "    <tr style=\"text-align: right;\">\n",
       "      <th></th>\n",
       "      <th>lead</th>\n",
       "    </tr>\n",
       "  </thead>\n",
       "  <tbody>\n",
       "    <tr>\n",
       "      <th>count</th>\n",
       "      <td>1500</td>\n",
       "    </tr>\n",
       "    <tr>\n",
       "      <th>unique</th>\n",
       "      <td>566</td>\n",
       "    </tr>\n",
       "    <tr>\n",
       "      <th>top</th>\n",
       "      <td>Akshay Kumar</td>\n",
       "    </tr>\n",
       "    <tr>\n",
       "      <th>freq</th>\n",
       "      <td>48</td>\n",
       "    </tr>\n",
       "  </tbody>\n",
       "</table>\n",
       "</div>"
      ],
      "text/plain": [
       "                lead\n",
       "count           1500\n",
       "unique           566\n",
       "top     Akshay Kumar\n",
       "freq              48"
      ]
     },
     "execution_count": 65,
     "metadata": {},
     "output_type": "execute_result"
    }
   ],
   "source": [
    "movies.describe()"
   ]
  },
  {
   "cell_type": "code",
   "execution_count": 66,
   "metadata": {},
   "outputs": [
    {
     "data": {
      "application/vnd.microsoft.datawrangler.viewer.v0+json": {
       "columns": [
        {
         "name": "movie",
         "rawType": "object",
         "type": "string"
        },
        {
         "name": "lead",
         "rawType": "object",
         "type": "string"
        }
       ],
       "conversionMethod": "pd.DataFrame",
       "ref": "04dd3b16-9426-44f8-8a6f-594fd8f7795b",
       "rows": [
        [
         "Zor Lagaa Ke...Haiya!",
         "Meghan Jadhav"
        ],
        [
         "Zindagi Tere Naam",
         "Mithun Chakraborty"
        ],
        [
         "Zindagi 50-50",
         "Veena Malik"
        ],
        [
         "Zinda (film)",
         "Sanjay Dutt"
        ],
        [
         "Zid (2014 film)",
         "Mannara Chopra"
        ],
        [
         "Zeher",
         "Emraan Hashmi"
        ],
        [
         "Zameer: The Fire Within",
         "Ajay Devgn"
        ],
        [
         "Zamaanat",
         "Jeetendra"
        ],
        [
         "Yuva",
         "Ajay Devgn"
        ],
        [
         "Youngistaan",
         "Jackky Bhagnani"
        ],
        [
         "Yeh Mera India",
         "Anupam Kher"
        ],
        [
         "Yeh Khula Aasmaan",
         "Anya Anand"
        ],
        [
         "Yeh Hai India",
         "Gavie Chahal"
        ],
        [
         "Yeh Dooriyan",
         "Deepshika Nagpal"
        ],
        [
         "Yatra (2007 film)",
         "Rekha"
        ],
        [
         "Yamla Pagla Deewana",
         "Nafisa Ali"
        ],
        [
         "Yadvi – The Dignified Princess",
         "Prisha Aneja"
        ],
        [
         "Ya Rab",
         "Indrapal Ahuja"
        ],
        [
         "Woodstock Villa",
         "Sikander Kher"
        ],
        [
         "Why Cheat India",
         "Emraan Hashmi"
        ],
        [
         "What the Fish",
         "Manu Rishi Chadha"
        ],
        [
         "Welcome to Sajjanpur",
         "Shreyas Talpade"
        ],
        [
         "Welcome 2 Karachi",
         "Arshad Warsi"
        ],
        [
         "Wedding Pullav",
         "Diganth"
        ],
        [
         "Waris Shah: Ishq Daa Waaris",
         "Gurdas Maan"
        ],
        [
         "Waqt: The Race Against Time",
         "Amitabh Bachchan"
        ],
        [
         "Wake Up Sid",
         "Ranbir Kapoor"
        ],
        [
         "Wajah Tum Ho",
         "Sharman Joshi"
        ],
        [
         "Waisa Bhi Hota Hai Part II",
         "Arshad Warsi"
        ],
        [
         "Wafa: A Deadly Love Story",
         "Rajesh Khanna"
        ],
        [
         "W (2014 film)",
         "Leeza Mangaldas"
        ],
        [
         "Vivah",
         "Shahid Kapoor"
        ],
        [
         "Viruddh... Family Comes First",
         "Amitabh Bachchan"
        ],
        [
         "Victory (2009 film)",
         "Harman Baweja"
        ],
        [
         "Viceroy's House (film)",
         "Hugh Bonneville"
        ],
        [
         "Veerey Ki Wedding",
         "Pulkit Samrat"
        ],
        [
         "Veer-Zaara",
         "Shah Rukh Khan"
        ],
        [
         "Valentine's Night",
         "Shikhi Gupta"
        ],
        [
         "Vaah! Life Ho Toh Aisi!",
         "Shahid Kapoor"
        ],
        [
         "Vaada (film)",
         "Arjun Rampal"
        ],
        [
         "Utthaan",
         "Priyanshu Chatterjee"
        ],
        [
         "Uri: The Surgical Strike",
         "Vicky Kaushal"
        ],
        [
         "Union Leader (film)",
         "Rahul Bhat"
        ],
        [
         "Umrika",
         "Aashish Bhatt"
        ],
        [
         "Umar (film)",
         "Jimmy Sheirgill"
        ],
        [
         "Ugly (film)",
         "Rahul Bhat"
        ],
        [
         "Udaan (2010 film)",
         "Rajat Barmecha"
        ],
        [
         "U Me Aur Hum",
         "Ajay Devgn"
        ],
        [
         "Tumsa Nahin Dekha: A Love Story",
         "Emraan Hashmi"
        ],
        [
         "Tumbbad",
         "Sohum Shah"
        ]
       ],
       "shape": {
        "columns": 1,
        "rows": 750
       }
      },
      "text/html": [
       "<div>\n",
       "<style scoped>\n",
       "    .dataframe tbody tr th:only-of-type {\n",
       "        vertical-align: middle;\n",
       "    }\n",
       "\n",
       "    .dataframe tbody tr th {\n",
       "        vertical-align: top;\n",
       "    }\n",
       "\n",
       "    .dataframe thead th {\n",
       "        text-align: right;\n",
       "    }\n",
       "</style>\n",
       "<table border=\"1\" class=\"dataframe\">\n",
       "  <thead>\n",
       "    <tr style=\"text-align: right;\">\n",
       "      <th></th>\n",
       "      <th>lead</th>\n",
       "    </tr>\n",
       "    <tr>\n",
       "      <th>movie</th>\n",
       "      <th></th>\n",
       "    </tr>\n",
       "  </thead>\n",
       "  <tbody>\n",
       "    <tr>\n",
       "      <th>Zor Lagaa Ke...Haiya!</th>\n",
       "      <td>Meghan Jadhav</td>\n",
       "    </tr>\n",
       "    <tr>\n",
       "      <th>Zindagi Tere Naam</th>\n",
       "      <td>Mithun Chakraborty</td>\n",
       "    </tr>\n",
       "    <tr>\n",
       "      <th>Zindagi 50-50</th>\n",
       "      <td>Veena Malik</td>\n",
       "    </tr>\n",
       "    <tr>\n",
       "      <th>Zinda (film)</th>\n",
       "      <td>Sanjay Dutt</td>\n",
       "    </tr>\n",
       "    <tr>\n",
       "      <th>Zid (2014 film)</th>\n",
       "      <td>Mannara Chopra</td>\n",
       "    </tr>\n",
       "    <tr>\n",
       "      <th>...</th>\n",
       "      <td>...</td>\n",
       "    </tr>\n",
       "    <tr>\n",
       "      <th>3 Storeys</th>\n",
       "      <td>Aisha Ahmed</td>\n",
       "    </tr>\n",
       "    <tr>\n",
       "      <th>3 Deewarein</th>\n",
       "      <td>Naseeruddin Shah</td>\n",
       "    </tr>\n",
       "    <tr>\n",
       "      <th>22 Yards</th>\n",
       "      <td>Barun Sobti</td>\n",
       "    </tr>\n",
       "    <tr>\n",
       "      <th>1971 (2007 film)</th>\n",
       "      <td>Manoj Bajpayee</td>\n",
       "    </tr>\n",
       "    <tr>\n",
       "      <th>1920: London</th>\n",
       "      <td>Sharman Joshi</td>\n",
       "    </tr>\n",
       "  </tbody>\n",
       "</table>\n",
       "<p>750 rows × 1 columns</p>\n",
       "</div>"
      ],
      "text/plain": [
       "                                     lead\n",
       "movie                                    \n",
       "Zor Lagaa Ke...Haiya!       Meghan Jadhav\n",
       "Zindagi Tere Naam      Mithun Chakraborty\n",
       "Zindagi 50-50                 Veena Malik\n",
       "Zinda (film)                  Sanjay Dutt\n",
       "Zid (2014 film)            Mannara Chopra\n",
       "...                                   ...\n",
       "3 Storeys                     Aisha Ahmed\n",
       "3 Deewarein              Naseeruddin Shah\n",
       "22 Yards                      Barun Sobti\n",
       "1971 (2007 film)           Manoj Bajpayee\n",
       "1920: London                Sharman Joshi\n",
       "\n",
       "[750 rows x 1 columns]"
      ]
     },
     "execution_count": 66,
     "metadata": {},
     "output_type": "execute_result"
    }
   ],
   "source": [
    "movies[::2]"
   ]
  },
  {
   "cell_type": "code",
   "execution_count": 67,
   "metadata": {},
   "outputs": [
    {
     "data": {
      "text/plain": [
       "lead            \n",
       "Akshay Kumar        48\n",
       "Amitabh Bachchan    45\n",
       "Ajay Devgn          38\n",
       "Salman Khan         31\n",
       "Sanjay Dutt         26\n",
       "Shah Rukh Khan      22\n",
       "Emraan Hashmi       21\n",
       "Name: count, dtype: int64"
      ]
     },
     "execution_count": 67,
     "metadata": {},
     "output_type": "execute_result"
    }
   ],
   "source": [
    "# find actors who have done more than 20 movies\n",
    "num_movies = movies.value_counts()\n",
    "num_movies[num_movies > 20]"
   ]
  },
  {
   "cell_type": "code",
   "execution_count": 68,
   "metadata": {},
   "outputs": [
    {
     "data": {
      "text/plain": [
       "lead    Ranbir Kapoor\n",
       "Name: Yeh Jawaani Hai Deewani, dtype: object"
      ]
     },
     "execution_count": 68,
     "metadata": {},
     "output_type": "execute_result"
    }
   ],
   "source": [
    "movies.loc['Yeh Jawaani Hai Deewani']"
   ]
  },
  {
   "cell_type": "code",
   "execution_count": 69,
   "metadata": {},
   "outputs": [
    {
     "data": {
      "application/vnd.microsoft.datawrangler.viewer.v0+json": {
       "columns": [
        {
         "name": "movie",
         "rawType": "object",
         "type": "string"
        },
        {
         "name": "lead",
         "rawType": "object",
         "type": "string"
        }
       ],
       "conversionMethod": "pd.DataFrame",
       "ref": "93536dac-53e1-4591-9e4f-a92c32ae003c",
       "rows": [
        [
         "2 States (2014 film)",
         "Arjun Kapoor"
        ],
        [
         "1971 (2007 film)",
         "Manoj Bajpayee"
        ],
        [
         "1920: The Evil Returns",
         "Vicky Ahuja"
        ],
        [
         "1920: London",
         "Sharman Joshi"
        ],
        [
         "1920 (film)",
         "Rajniesh Duggall"
        ]
       ],
       "shape": {
        "columns": 1,
        "rows": 5
       }
      },
      "text/html": [
       "<div>\n",
       "<style scoped>\n",
       "    .dataframe tbody tr th:only-of-type {\n",
       "        vertical-align: middle;\n",
       "    }\n",
       "\n",
       "    .dataframe tbody tr th {\n",
       "        vertical-align: top;\n",
       "    }\n",
       "\n",
       "    .dataframe thead th {\n",
       "        text-align: right;\n",
       "    }\n",
       "</style>\n",
       "<table border=\"1\" class=\"dataframe\">\n",
       "  <thead>\n",
       "    <tr style=\"text-align: right;\">\n",
       "      <th></th>\n",
       "      <th>lead</th>\n",
       "    </tr>\n",
       "    <tr>\n",
       "      <th>movie</th>\n",
       "      <th></th>\n",
       "    </tr>\n",
       "  </thead>\n",
       "  <tbody>\n",
       "    <tr>\n",
       "      <th>2 States (2014 film)</th>\n",
       "      <td>Arjun Kapoor</td>\n",
       "    </tr>\n",
       "    <tr>\n",
       "      <th>1971 (2007 film)</th>\n",
       "      <td>Manoj Bajpayee</td>\n",
       "    </tr>\n",
       "    <tr>\n",
       "      <th>1920: The Evil Returns</th>\n",
       "      <td>Vicky Ahuja</td>\n",
       "    </tr>\n",
       "    <tr>\n",
       "      <th>1920: London</th>\n",
       "      <td>Sharman Joshi</td>\n",
       "    </tr>\n",
       "    <tr>\n",
       "      <th>1920 (film)</th>\n",
       "      <td>Rajniesh Duggall</td>\n",
       "    </tr>\n",
       "  </tbody>\n",
       "</table>\n",
       "</div>"
      ],
      "text/plain": [
       "                                    lead\n",
       "movie                                   \n",
       "2 States (2014 film)        Arjun Kapoor\n",
       "1971 (2007 film)          Manoj Bajpayee\n",
       "1920: The Evil Returns       Vicky Ahuja\n",
       "1920: London               Sharman Joshi\n",
       "1920 (film)             Rajniesh Duggall"
      ]
     },
     "execution_count": 69,
     "metadata": {},
     "output_type": "execute_result"
    }
   ],
   "source": [
    "movies[-5:]"
   ]
  },
  {
   "cell_type": "code",
   "execution_count": 70,
   "metadata": {},
   "outputs": [
    {
     "data": {
      "text/plain": [
       "<Axes: ylabel='count'>"
      ]
     },
     "execution_count": 70,
     "metadata": {},
     "output_type": "execute_result"
    },
    {
     "data": {
      "image/png": "[encoded data removed]",
      "text/plain": [
       "<Figure size 640x480 with 1 Axes>"
      ]
     },
     "metadata": {},
     "output_type": "display_data"
    }
   ],
   "source": [
    "movies.value_counts().head(20).plot(kind='pie')"
   ]
  },
  {
   "cell_type": "code",
   "execution_count": 71,
   "metadata": {},
   "outputs": [
    {
     "data": {
      "text/plain": [
       "0     1.0\n",
       "1     2.0\n",
       "2     3.0\n",
       "3     NaN\n",
       "4     5.0\n",
       "5     6.0\n",
       "6     NaN\n",
       "7     8.0\n",
       "8     NaN\n",
       "9    10.0\n",
       "dtype: float64"
      ]
     },
     "execution_count": 71,
     "metadata": {},
     "output_type": "execute_result"
    }
   ],
   "source": [
    "temp = pd.Series([1,2,3,np.nan,5,6,np.nan,8,np.nan,10])\n",
    "temp"
   ]
  },
  {
   "cell_type": "code",
   "execution_count": null,
   "metadata": {},
   "outputs": [],
   "source": []
  },
  {
   "cell_type": "markdown",
   "metadata": {},
   "source": [
    "### Imp Series Methods\n",
    "- astype\n",
    "- between\n",
    "- clip\n",
    "- drop_duplicates\n",
    "- isnull\n",
    "- dropna\n",
    "- fillna\n",
    "- isin\n",
    "- apply\n",
    "- copy"
   ]
  },
  {
   "cell_type": "code",
   "execution_count": 75,
   "metadata": {},
   "outputs": [
    {
     "data": {
      "application/vnd.microsoft.datawrangler.viewer.v0+json": {
       "columns": [
        {
         "name": "movie",
         "rawType": "object",
         "type": "string"
        },
        {
         "name": "lead",
         "rawType": "object",
         "type": "string"
        }
       ],
       "conversionMethod": "pd.DataFrame",
       "ref": "19ac5997-a58f-4c15-a42b-f44400fd17a2",
       "rows": [
        [
         "Uri: The Surgical Strike",
         "VICKY"
        ],
        [
         "Battalion 609",
         "VICKY"
        ],
        [
         "The Accidental Prime Minister (film)",
         "ANUPAM"
        ],
        [
         "Why Cheat India",
         "EMRAAN"
        ],
        [
         "Evening Shadows",
         "MONA"
        ],
        [
         "Soni (film)",
         "GEETIKA"
        ],
        [
         "Fraud Saiyaan",
         "ARSHAD"
        ],
        [
         "Bombairiya",
         "RADHIKA"
        ],
        [
         "Manikarnika: The Queen of Jhansi",
         "KANGANA"
        ],
        [
         "Thackeray (film)",
         "NAWAZUDDIN"
        ],
        [
         "Amavas",
         "ALI"
        ],
        [
         "Gully Boy",
         "RANVEER"
        ],
        [
         "Hum Chaar",
         "PRIT"
        ],
        [
         "Total Dhamaal",
         "AJAY"
        ],
        [
         "Sonchiriya",
         "SUSHANT"
        ],
        [
         "Badla (2019 film)",
         "AMITABH"
        ],
        [
         "Mard Ko Dard Nahi Hota",
         "ABHIMANYU"
        ],
        [
         "Hamid (film)",
         "TALHA"
        ],
        [
         "Photograph (film)",
         "NAWAZUDDIN"
        ],
        [
         "Risknamaa",
         "GARIMA"
        ],
        [
         "Mere Pyare Prime Minister",
         "RASIKA"
        ],
        [
         "22 Yards",
         "BARUN"
        ],
        [
         "Kesari (film)",
         "AKSHAY"
        ],
        [
         "Notebook (2019 film)",
         "ZAHEER"
        ],
        [
         "Junglee (2019 film)",
         "VIDYUT"
        ],
        [
         "Gone Kesh",
         "DEEPIKA"
        ],
        [
         "Albert Pinto Ko Gussa Kyun Aata Hai?",
         "MANAV"
        ],
        [
         "The Tashkent Files",
         "NASEERUDDIN"
        ],
        [
         "Kalank",
         "VARUN"
        ],
        [
         "Setters (film)",
         "SHREYAS"
        ],
        [
         "Student of the Year 2",
         "TIGER"
        ],
        [
         "PM Narendra Modi",
         "BOMAN"
        ],
        [
         "De De Pyaar De",
         "AJAY"
        ],
        [
         "India's Most Wanted (film)",
         "ARJUN"
        ],
        [
         "Yeh Hai India",
         "GAVIE"
        ],
        [
         "Khamoshi (2019 film)",
         "PRABHU"
        ],
        [
         "Kabir Singh",
         "SHAHID"
        ],
        [
         "Article 15 (film)",
         "AYUSHMANN"
        ],
        [
         "One Day: Justice Delivered",
         "ANUPAM"
        ],
        [
         "Hume Tumse Pyaar Kitna",
         "KARANVIR"
        ],
        [
         "Super 30 (film)",
         "HRITHIK"
        ],
        [
         "Family of Thakurganj",
         "JIMMY"
        ],
        [
         "Batla House",
         "JOHN"
        ],
        [
         "Jhootha Kahin Ka",
         "RISHI"
        ],
        [
         "Judgementall Hai Kya",
         "KANGANA"
        ],
        [
         "Chicken Curry Law",
         "NATALIA"
        ],
        [
         "Arjun Patiala",
         "DILJIT"
        ],
        [
         "Jabariya Jodi",
         "SIDHARTH"
        ],
        [
         "Pranaam",
         "RAJEEV"
        ],
        [
         "The Sky Is Pink",
         "ZAIRA"
        ]
       ],
       "shape": {
        "columns": 1,
        "rows": 1500
       }
      },
      "text/html": [
       "<div>\n",
       "<style scoped>\n",
       "    .dataframe tbody tr th:only-of-type {\n",
       "        vertical-align: middle;\n",
       "    }\n",
       "\n",
       "    .dataframe tbody tr th {\n",
       "        vertical-align: top;\n",
       "    }\n",
       "\n",
       "    .dataframe thead th {\n",
       "        text-align: right;\n",
       "    }\n",
       "</style>\n",
       "<table border=\"1\" class=\"dataframe\">\n",
       "  <thead>\n",
       "    <tr style=\"text-align: right;\">\n",
       "      <th></th>\n",
       "      <th>lead</th>\n",
       "    </tr>\n",
       "    <tr>\n",
       "      <th>movie</th>\n",
       "      <th></th>\n",
       "    </tr>\n",
       "  </thead>\n",
       "  <tbody>\n",
       "    <tr>\n",
       "      <th>Uri: The Surgical Strike</th>\n",
       "      <td>VICKY</td>\n",
       "    </tr>\n",
       "    <tr>\n",
       "      <th>Battalion 609</th>\n",
       "      <td>VICKY</td>\n",
       "    </tr>\n",
       "    <tr>\n",
       "      <th>The Accidental Prime Minister (film)</th>\n",
       "      <td>ANUPAM</td>\n",
       "    </tr>\n",
       "    <tr>\n",
       "      <th>Why Cheat India</th>\n",
       "      <td>EMRAAN</td>\n",
       "    </tr>\n",
       "    <tr>\n",
       "      <th>Evening Shadows</th>\n",
       "      <td>MONA</td>\n",
       "    </tr>\n",
       "    <tr>\n",
       "      <th>...</th>\n",
       "      <td>...</td>\n",
       "    </tr>\n",
       "    <tr>\n",
       "      <th>Hum Tumhare Hain Sanam</th>\n",
       "      <td>SHAH</td>\n",
       "    </tr>\n",
       "    <tr>\n",
       "      <th>Aankhen (2002 film)</th>\n",
       "      <td>AMITABH</td>\n",
       "    </tr>\n",
       "    <tr>\n",
       "      <th>Saathiya (film)</th>\n",
       "      <td>VIVEK</td>\n",
       "    </tr>\n",
       "    <tr>\n",
       "      <th>Company (film)</th>\n",
       "      <td>AJAY</td>\n",
       "    </tr>\n",
       "    <tr>\n",
       "      <th>Awara Paagal Deewana</th>\n",
       "      <td>AKSHAY</td>\n",
       "    </tr>\n",
       "  </tbody>\n",
       "</table>\n",
       "<p>1500 rows × 1 columns</p>\n",
       "</div>"
      ],
      "text/plain": [
       "                                         lead\n",
       "movie                                        \n",
       "Uri: The Surgical Strike                VICKY\n",
       "Battalion 609                           VICKY\n",
       "The Accidental Prime Minister (film)   ANUPAM\n",
       "Why Cheat India                        EMRAAN\n",
       "Evening Shadows                          MONA\n",
       "...                                       ...\n",
       "Hum Tumhare Hain Sanam                   SHAH\n",
       "Aankhen (2002 film)                   AMITABH\n",
       "Saathiya (film)                         VIVEK\n",
       "Company (film)                           AJAY\n",
       "Awara Paagal Deewana                   AKSHAY\n",
       "\n",
       "[1500 rows x 1 columns]"
      ]
     },
     "execution_count": 75,
     "metadata": {},
     "output_type": "execute_result"
    }
   ],
   "source": [
    "movies = pd.read_csv('bollywood.csv', index_col='movie')\n",
    "movies['lead'] = movies['lead'].apply(lambda x: x.split()[0].upper())\n",
    "movies"
   ]
  },
  {
   "cell_type": "code",
   "execution_count": null,
   "metadata": {},
   "outputs": [],
   "source": []
  }
 ],
 "metadata": {
  "kernelspec": {
   "display_name": "Python 3",
   "language": "python",
   "name": "python3"
  },
  "language_info": {
   "codemirror_mode": {
    "name": "ipython",
    "version": 3
   },
   "file_extension": ".py",
   "mimetype": "text/x-python",
   "name": "python",
   "nbconvert_exporter": "python",
   "pygments_lexer": "ipython3",
   "version": "3.12.4"
  }
 },
 "nbformat": 4,
 "nbformat_minor": 2
}

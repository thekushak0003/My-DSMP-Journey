{
 "cells": [
  {
   "cell_type": "markdown",
   "metadata": {},
   "source": [
    "### Pandas\n",
    "- Pandas is a fast, powerful, flexible and easy to use open source data analysis and manipulation tool, built on top of the Python programming language."
   ]
  },
  {
   "cell_type": "code",
   "execution_count": 46,
   "metadata": {},
   "outputs": [],
   "source": [
    "import pandas as pd \n",
    "import numpy as np "
   ]
  },
  {
   "cell_type": "code",
   "execution_count": 47,
   "metadata": {},
   "outputs": [
    {
     "data": {
      "text/plain": [
       "Maths       67\n",
       "English     57\n",
       "Science     89\n",
       "Hindi      100\n",
       "dtype: int64"
      ]
     },
     "execution_count": 47,
     "metadata": {},
     "output_type": "execute_result"
    }
   ],
   "source": [
    "# custom index\n",
    "marks = [67,57,89,100]\n",
    "subjects = ['Maths','English','Science','Hindi']\n",
    "\n",
    "pd.Series(marks,index=subjects)"
   ]
  },
  {
   "cell_type": "code",
   "execution_count": 48,
   "metadata": {},
   "outputs": [
    {
     "data": {
      "text/plain": [
       "Maths       67\n",
       "English     57\n",
       "Science     89\n",
       "Hindi      100\n",
       "Name: Abhay ke marks, dtype: int64"
      ]
     },
     "execution_count": 48,
     "metadata": {},
     "output_type": "execute_result"
    }
   ],
   "source": [
    "marks = {\n",
    "    'Maths':67,\n",
    "    'English':57,\n",
    "    'Science':89,\n",
    "    'Hindi':100\n",
    "}\n",
    "marks_series = pd.Series(marks,name='Abhay ke marks')\n",
    "marks_series"
   ]
  },
  {
   "cell_type": "code",
   "execution_count": 49,
   "metadata": {},
   "outputs": [
    {
     "data": {
      "application/vnd.microsoft.datawrangler.viewer.v0+json": {
       "columns": [
        {
         "name": "movie",
         "rawType": "object",
         "type": "string"
        },
        {
         "name": "lead",
         "rawType": "object",
         "type": "string"
        }
       ],
       "conversionMethod": "pd.DataFrame",
       "ref": "fc5f8160-84d8-4204-ab30-5c9b6b34cbe2",
       "rows": [
        [
         "Uri: The Surgical Strike",
         "Vicky Kaushal"
        ],
        [
         "Battalion 609",
         "Vicky Ahuja"
        ],
        [
         "The Accidental Prime Minister (film)",
         "Anupam Kher"
        ],
        [
         "Why Cheat India",
         "Emraan Hashmi"
        ],
        [
         "Evening Shadows",
         "Mona Ambegaonkar"
        ],
        [
         "Soni (film)",
         "Geetika Vidya Ohlyan"
        ],
        [
         "Fraud Saiyaan",
         "Arshad Warsi"
        ],
        [
         "Bombairiya",
         "Radhika Apte"
        ],
        [
         "Manikarnika: The Queen of Jhansi",
         "Kangana Ranaut"
        ],
        [
         "Thackeray (film)",
         "Nawazuddin Siddiqui"
        ],
        [
         "Amavas",
         "Ali Asgar"
        ],
        [
         "Gully Boy",
         "Ranveer Singh"
        ],
        [
         "Hum Chaar",
         "Prit Kamani"
        ],
        [
         "Total Dhamaal",
         "Ajay Devgn"
        ],
        [
         "Sonchiriya",
         "Sushant Singh Rajput"
        ],
        [
         "Badla (2019 film)",
         "Amitabh Bachchan"
        ],
        [
         "Mard Ko Dard Nahi Hota",
         "Abhimanyu Dasani"
        ],
        [
         "Hamid (film)",
         "Talha Arshad Reshi"
        ],
        [
         "Photograph (film)",
         "Nawazuddin Siddiqui"
        ],
        [
         "Risknamaa",
         "Garima Agarwal"
        ],
        [
         "Mere Pyare Prime Minister",
         "Rasika Agashe"
        ],
        [
         "22 Yards",
         "Barun Sobti"
        ],
        [
         "Kesari (film)",
         "Akshay Kumar"
        ],
        [
         "Notebook (2019 film)",
         "Zaheer Iqbal"
        ],
        [
         "Junglee (2019 film)",
         "Vidyut Jammwal"
        ],
        [
         "Gone Kesh",
         "Deepika Amin"
        ],
        [
         "Albert Pinto Ko Gussa Kyun Aata Hai?",
         "Manav Kaul"
        ],
        [
         "The Tashkent Files",
         "Naseeruddin Shah"
        ],
        [
         "Kalank",
         "Varun Dhawan"
        ],
        [
         "Setters (film)",
         "Shreyas Talpade"
        ],
        [
         "Student of the Year 2",
         "Tiger Shroff"
        ],
        [
         "PM Narendra Modi",
         "Boman Irani"
        ],
        [
         "De De Pyaar De",
         "Ajay Devgn"
        ],
        [
         "India's Most Wanted (film)",
         "Arjun Kapoor"
        ],
        [
         "Yeh Hai India",
         "Gavie Chahal"
        ],
        [
         "Khamoshi (2019 film)",
         "Prabhu Deva"
        ],
        [
         "Kabir Singh",
         "Shahid Kapoor"
        ],
        [
         "Article 15 (film)",
         "Ayushmann Khurrana"
        ],
        [
         "One Day: Justice Delivered",
         "Anupam Kher"
        ],
        [
         "Hume Tumse Pyaar Kitna",
         "Karanvir Bohra"
        ],
        [
         "Super 30 (film)",
         "Hrithik Roshan"
        ],
        [
         "Family of Thakurganj",
         "Jimmy Sheirgill"
        ],
        [
         "Batla House",
         "John Abraham"
        ],
        [
         "Jhootha Kahin Ka",
         "Rishi Kapoor"
        ],
        [
         "Judgementall Hai Kya",
         "Kangana Ranaut"
        ],
        [
         "Chicken Curry Law",
         "Natalia Janoszek"
        ],
        [
         "Arjun Patiala",
         "Diljit Dosanjh"
        ],
        [
         "Jabariya Jodi",
         "Sidharth Malhotra"
        ],
        [
         "Pranaam",
         "Rajeev Khandelwal"
        ],
        [
         "The Sky Is Pink",
         "Zaira Wasim"
        ]
       ],
       "shape": {
        "columns": 1,
        "rows": 1500
       }
      },
      "text/html": [
       "<div>\n",
       "<style scoped>\n",
       "    .dataframe tbody tr th:only-of-type {\n",
       "        vertical-align: middle;\n",
       "    }\n",
       "\n",
       "    .dataframe tbody tr th {\n",
       "        vertical-align: top;\n",
       "    }\n",
       "\n",
       "    .dataframe thead th {\n",
       "        text-align: right;\n",
       "    }\n",
       "</style>\n",
       "<table border=\"1\" class=\"dataframe\">\n",
       "  <thead>\n",
       "    <tr style=\"text-align: right;\">\n",
       "      <th></th>\n",
       "      <th>lead</th>\n",
       "    </tr>\n",
       "    <tr>\n",
       "      <th>movie</th>\n",
       "      <th></th>\n",
       "    </tr>\n",
       "  </thead>\n",
       "  <tbody>\n",
       "    <tr>\n",
       "      <th>Uri: The Surgical Strike</th>\n",
       "      <td>Vicky Kaushal</td>\n",
       "    </tr>\n",
       "    <tr>\n",
       "      <th>Battalion 609</th>\n",
       "      <td>Vicky Ahuja</td>\n",
       "    </tr>\n",
       "    <tr>\n",
       "      <th>The Accidental Prime Minister (film)</th>\n",
       "      <td>Anupam Kher</td>\n",
       "    </tr>\n",
       "    <tr>\n",
       "      <th>Why Cheat India</th>\n",
       "      <td>Emraan Hashmi</td>\n",
       "    </tr>\n",
       "    <tr>\n",
       "      <th>Evening Shadows</th>\n",
       "      <td>Mona Ambegaonkar</td>\n",
       "    </tr>\n",
       "    <tr>\n",
       "      <th>...</th>\n",
       "      <td>...</td>\n",
       "    </tr>\n",
       "    <tr>\n",
       "      <th>Hum Tumhare Hain Sanam</th>\n",
       "      <td>Shah Rukh Khan</td>\n",
       "    </tr>\n",
       "    <tr>\n",
       "      <th>Aankhen (2002 film)</th>\n",
       "      <td>Amitabh Bachchan</td>\n",
       "    </tr>\n",
       "    <tr>\n",
       "      <th>Saathiya (film)</th>\n",
       "      <td>Vivek Oberoi</td>\n",
       "    </tr>\n",
       "    <tr>\n",
       "      <th>Company (film)</th>\n",
       "      <td>Ajay Devgn</td>\n",
       "    </tr>\n",
       "    <tr>\n",
       "      <th>Awara Paagal Deewana</th>\n",
       "      <td>Akshay Kumar</td>\n",
       "    </tr>\n",
       "  </tbody>\n",
       "</table>\n",
       "<p>1500 rows × 1 columns</p>\n",
       "</div>"
      ],
      "text/plain": [
       "                                                  lead\n",
       "movie                                                 \n",
       "Uri: The Surgical Strike                 Vicky Kaushal\n",
       "Battalion 609                              Vicky Ahuja\n",
       "The Accidental Prime Minister (film)       Anupam Kher\n",
       "Why Cheat India                          Emraan Hashmi\n",
       "Evening Shadows                       Mona Ambegaonkar\n",
       "...                                                ...\n",
       "Hum Tumhare Hain Sanam                  Shah Rukh Khan\n",
       "Aankhen (2002 film)                   Amitabh Bachchan\n",
       "Saathiya (film)                           Vivek Oberoi\n",
       "Company (film)                              Ajay Devgn\n",
       "Awara Paagal Deewana                      Akshay Kumar\n",
       "\n",
       "[1500 rows x 1 columns]"
      ]
     },
     "execution_count": 49,
     "metadata": {},
     "output_type": "execute_result"
    }
   ],
   "source": [
    "movies = pd.read_csv('bollywood.csv',index_col='movie')\n",
    "movies"
   ]
  },
  {
   "cell_type": "code",
   "execution_count": 50,
   "metadata": {},
   "outputs": [
    {
     "data": {
      "text/plain": [
       "lead            \n",
       "Akshay Kumar        48\n",
       "Amitabh Bachchan    45\n",
       "Ajay Devgn          38\n",
       "Salman Khan         31\n",
       "Sanjay Dutt         26\n",
       "                    ..\n",
       "Kashmira Shah        1\n",
       "Kartik Elangovan     1\n",
       "Karisma Kapoor       1\n",
       "Karan Sharma         1\n",
       "Zulfi Sayed          1\n",
       "Name: count, Length: 566, dtype: int64"
      ]
     },
     "execution_count": 50,
     "metadata": {},
     "output_type": "execute_result"
    }
   ],
   "source": [
    "movies.value_counts()"
   ]
  },
  {
   "cell_type": "code",
   "execution_count": 54,
   "metadata": {},
   "outputs": [
    {
     "data": {
      "application/vnd.microsoft.datawrangler.viewer.v0+json": {
       "columns": [
        {
         "name": "movie",
         "rawType": "object",
         "type": "string"
        },
        {
         "name": "lead",
         "rawType": "object",
         "type": "string"
        }
       ],
       "conversionMethod": "pd.DataFrame",
       "ref": "0c6bb447-1f8b-4c16-829f-5bb63ca6d512",
       "rows": [
        [
         "Zor Lagaa Ke...Haiya!",
         "Meghan Jadhav"
        ],
        [
         "Zokkomon",
         "Darsheel Safary"
        ],
        [
         "Zindagi Tere Naam",
         "Mithun Chakraborty"
        ],
        [
         "Zindagi Na Milegi Dobara",
         "Hrithik Roshan"
        ],
        [
         "Zindagi 50-50",
         "Veena Malik"
        ],
        [
         "Zindaggi Rocks",
         "Sushmita Sen"
        ],
        [
         "Zinda (film)",
         "Sanjay Dutt"
        ],
        [
         "Zila Ghaziabad",
         "Vivek Oberoi"
        ],
        [
         "Zid (2014 film)",
         "Mannara Chopra"
        ],
        [
         "Zero (2018 film)",
         "Shah Rukh Khan"
        ],
        [
         "Zeher",
         "Emraan Hashmi"
        ],
        [
         "Zed Plus",
         "Vinod Acharya"
        ],
        [
         "Zameer: The Fire Within",
         "Ajay Devgn"
        ],
        [
         "Zameen (2003 film)",
         "Ajay Devgn"
        ],
        [
         "Zamaanat",
         "Jeetendra"
        ],
        [
         "Yuvvraaj",
         "Salman Khan"
        ],
        [
         "Yuva",
         "Ajay Devgn"
        ],
        [
         "Yun Hota Toh Kya Hota",
         "Paresh Rawal"
        ],
        [
         "Youngistaan",
         "Jackky Bhagnani"
        ],
        [
         "Yeh Saali Aashiqui",
         "Vardhan Puri"
        ],
        [
         "Yeh Mera India",
         "Anupam Kher"
        ],
        [
         "Yeh Lamhe Judaai Ke",
         "Shah Rukh Khan"
        ],
        [
         "Yeh Khula Aasmaan",
         "Anya Anand"
        ],
        [
         "Yeh Jawaani Hai Deewani",
         "Ranbir Kapoor"
        ],
        [
         "Yeh Hai India",
         "Gavie Chahal"
        ],
        [
         "Yeh Hai Bakrapur",
         "Anshuman Jha"
        ],
        [
         "Yeh Dooriyan",
         "Deepshika Nagpal"
        ],
        [
         "Yeh Dil",
         "Tusshar Kapoor"
        ],
        [
         "Yatra (2007 film)",
         "Rekha"
        ],
        [
         "Yamla Pagla Deewana: Phir Se",
         "Dharmendra"
        ],
        [
         "Yamla Pagla Deewana",
         "Nafisa Ali"
        ],
        [
         "Yakeen (2005 film)",
         "Arjun Rampal"
        ],
        [
         "Yadvi – The Dignified Princess",
         "Prisha Aneja"
        ],
        [
         "Yaaram (2019 film)",
         "Siddhanth Kapoor"
        ],
        [
         "Ya Rab",
         "Indrapal Ahuja"
        ],
        [
         "Xcuse Me",
         "Sharman Joshi"
        ],
        [
         "Woodstock Villa",
         "Sikander Kher"
        ],
        [
         "Woh Lamhe...",
         "Kangana Ranaut"
        ],
        [
         "Why Cheat India",
         "Emraan Hashmi"
        ],
        [
         "What's Your Raashee?",
         "Harman Baweja"
        ],
        [
         "What the Fish",
         "Manu Rishi Chadha"
        ],
        [
         "Well Done Abba",
         "Boman Irani"
        ],
        [
         "Welcome to Sajjanpur",
         "Shreyas Talpade"
        ],
        [
         "Welcome Back (film)",
         "Anil Kapoor"
        ],
        [
         "Welcome 2 Karachi",
         "Arshad Warsi"
        ],
        [
         "Welcome (2007 film)",
         "Akshay Kumar"
        ],
        [
         "Wedding Pullav",
         "Diganth"
        ],
        [
         "Wedding Anniversary",
         "Nana Patekar"
        ],
        [
         "Waris Shah: Ishq Daa Waaris",
         "Gurdas Maan"
        ],
        [
         "War Chhod Na Yaar",
         "Sharman Joshi"
        ]
       ],
       "shape": {
        "columns": 1,
        "rows": 1500
       }
      },
      "text/html": [
       "<div>\n",
       "<style scoped>\n",
       "    .dataframe tbody tr th:only-of-type {\n",
       "        vertical-align: middle;\n",
       "    }\n",
       "\n",
       "    .dataframe tbody tr th {\n",
       "        vertical-align: top;\n",
       "    }\n",
       "\n",
       "    .dataframe thead th {\n",
       "        text-align: right;\n",
       "    }\n",
       "</style>\n",
       "<table border=\"1\" class=\"dataframe\">\n",
       "  <thead>\n",
       "    <tr style=\"text-align: right;\">\n",
       "      <th></th>\n",
       "      <th>lead</th>\n",
       "    </tr>\n",
       "    <tr>\n",
       "      <th>movie</th>\n",
       "      <th></th>\n",
       "    </tr>\n",
       "  </thead>\n",
       "  <tbody>\n",
       "    <tr>\n",
       "      <th>Zor Lagaa Ke...Haiya!</th>\n",
       "      <td>Meghan Jadhav</td>\n",
       "    </tr>\n",
       "    <tr>\n",
       "      <th>Zokkomon</th>\n",
       "      <td>Darsheel Safary</td>\n",
       "    </tr>\n",
       "    <tr>\n",
       "      <th>Zindagi Tere Naam</th>\n",
       "      <td>Mithun Chakraborty</td>\n",
       "    </tr>\n",
       "    <tr>\n",
       "      <th>Zindagi Na Milegi Dobara</th>\n",
       "      <td>Hrithik Roshan</td>\n",
       "    </tr>\n",
       "    <tr>\n",
       "      <th>Zindagi 50-50</th>\n",
       "      <td>Veena Malik</td>\n",
       "    </tr>\n",
       "    <tr>\n",
       "      <th>...</th>\n",
       "      <td>...</td>\n",
       "    </tr>\n",
       "    <tr>\n",
       "      <th>2 States (2014 film)</th>\n",
       "      <td>Arjun Kapoor</td>\n",
       "    </tr>\n",
       "    <tr>\n",
       "      <th>1971 (2007 film)</th>\n",
       "      <td>Manoj Bajpayee</td>\n",
       "    </tr>\n",
       "    <tr>\n",
       "      <th>1920: The Evil Returns</th>\n",
       "      <td>Vicky Ahuja</td>\n",
       "    </tr>\n",
       "    <tr>\n",
       "      <th>1920: London</th>\n",
       "      <td>Sharman Joshi</td>\n",
       "    </tr>\n",
       "    <tr>\n",
       "      <th>1920 (film)</th>\n",
       "      <td>Rajniesh Duggall</td>\n",
       "    </tr>\n",
       "  </tbody>\n",
       "</table>\n",
       "<p>1500 rows × 1 columns</p>\n",
       "</div>"
      ],
      "text/plain": [
       "                                        lead\n",
       "movie                                       \n",
       "Zor Lagaa Ke...Haiya!          Meghan Jadhav\n",
       "Zokkomon                     Darsheel Safary\n",
       "Zindagi Tere Naam         Mithun Chakraborty\n",
       "Zindagi Na Milegi Dobara      Hrithik Roshan\n",
       "Zindagi 50-50                    Veena Malik\n",
       "...                                      ...\n",
       "2 States (2014 film)            Arjun Kapoor\n",
       "1971 (2007 film)              Manoj Bajpayee\n",
       "1920: The Evil Returns           Vicky Ahuja\n",
       "1920: London                   Sharman Joshi\n",
       "1920 (film)                 Rajniesh Duggall\n",
       "\n",
       "[1500 rows x 1 columns]"
      ]
     },
     "execution_count": 54,
     "metadata": {},
     "output_type": "execute_result"
    }
   ],
   "source": [
    "movies.sort_index(ascending=False,inplace=True)\n",
    "movies"
   ]
  },
  {
   "cell_type": "code",
   "execution_count": null,
   "metadata": {},
   "outputs": [],
   "source": []
  }
 ],
 "metadata": {
  "kernelspec": {
   "display_name": "Python 3",
   "language": "python",
   "name": "python3"
  },
  "language_info": {
   "codemirror_mode": {
    "name": "ipython",
    "version": 3
   },
   "file_extension": ".py",
   "mimetype": "text/x-python",
   "name": "python",
   "nbconvert_exporter": "python",
   "pygments_lexer": "ipython3",
   "version": "3.12.4"
  }
 },
 "nbformat": 4,
 "nbformat_minor": 2
}

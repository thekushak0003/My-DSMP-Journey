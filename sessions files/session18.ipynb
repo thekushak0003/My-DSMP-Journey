{
 "cells": [
  {
   "cell_type": "markdown",
   "metadata": {},
   "source": [
    "### DataFrame Methods"
   ]
  },
  {
   "cell_type": "code",
   "execution_count": 21,
   "metadata": {},
   "outputs": [],
   "source": [
    "import pandas as pd \n",
    "import numpy as np"
   ]
  },
  {
   "cell_type": "markdown",
   "metadata": {},
   "source": [
    "#### value_counts"
   ]
  },
  {
   "cell_type": "code",
   "execution_count": 22,
   "metadata": {},
   "outputs": [
    {
     "data": {
      "application/vnd.microsoft.datawrangler.viewer.v0+json": {
       "columns": [
        {
         "name": "index",
         "rawType": "int64",
         "type": "integer"
        },
        {
         "name": "iq",
         "rawType": "int64",
         "type": "integer"
        },
        {
         "name": "marks",
         "rawType": "int64",
         "type": "integer"
        },
        {
         "name": "package",
         "rawType": "int64",
         "type": "integer"
        }
       ],
       "conversionMethod": "pd.DataFrame",
       "ref": "2b8ba93f-e2f5-4bf9-a5c4-3b4f64db21d2",
       "rows": [
        [
         "0",
         "100",
         "80",
         "10"
        ],
        [
         "1",
         "90",
         "70",
         "7"
        ],
        [
         "2",
         "120",
         "100",
         "14"
        ],
        [
         "3",
         "80",
         "70",
         "14"
        ],
        [
         "4",
         "80",
         "70",
         "14"
        ]
       ],
       "shape": {
        "columns": 3,
        "rows": 5
       }
      },
      "text/html": [
       "<div>\n",
       "<style scoped>\n",
       "    .dataframe tbody tr th:only-of-type {\n",
       "        vertical-align: middle;\n",
       "    }\n",
       "\n",
       "    .dataframe tbody tr th {\n",
       "        vertical-align: top;\n",
       "    }\n",
       "\n",
       "    .dataframe thead th {\n",
       "        text-align: right;\n",
       "    }\n",
       "</style>\n",
       "<table border=\"1\" class=\"dataframe\">\n",
       "  <thead>\n",
       "    <tr style=\"text-align: right;\">\n",
       "      <th></th>\n",
       "      <th>iq</th>\n",
       "      <th>marks</th>\n",
       "      <th>package</th>\n",
       "    </tr>\n",
       "  </thead>\n",
       "  <tbody>\n",
       "    <tr>\n",
       "      <th>0</th>\n",
       "      <td>100</td>\n",
       "      <td>80</td>\n",
       "      <td>10</td>\n",
       "    </tr>\n",
       "    <tr>\n",
       "      <th>1</th>\n",
       "      <td>90</td>\n",
       "      <td>70</td>\n",
       "      <td>7</td>\n",
       "    </tr>\n",
       "    <tr>\n",
       "      <th>2</th>\n",
       "      <td>120</td>\n",
       "      <td>100</td>\n",
       "      <td>14</td>\n",
       "    </tr>\n",
       "    <tr>\n",
       "      <th>3</th>\n",
       "      <td>80</td>\n",
       "      <td>70</td>\n",
       "      <td>14</td>\n",
       "    </tr>\n",
       "    <tr>\n",
       "      <th>4</th>\n",
       "      <td>80</td>\n",
       "      <td>70</td>\n",
       "      <td>14</td>\n",
       "    </tr>\n",
       "  </tbody>\n",
       "</table>\n",
       "</div>"
      ],
      "text/plain": [
       "    iq  marks  package\n",
       "0  100     80       10\n",
       "1   90     70        7\n",
       "2  120    100       14\n",
       "3   80     70       14\n",
       "4   80     70       14"
      ]
     },
     "execution_count": 22,
     "metadata": {},
     "output_type": "execute_result"
    }
   ],
   "source": [
    "# value_counts(series and dataframe)\n",
    "marks = pd.DataFrame([\n",
    "    [100,80,10],\n",
    "    [90,70,7],\n",
    "    [120,100,14],\n",
    "    [80,70,14],\n",
    "    [80,70,14]\n",
    "],columns=['iq','marks','package'])\n",
    "marks"
   ]
  },
  {
   "cell_type": "code",
   "execution_count": 23,
   "metadata": {},
   "outputs": [
    {
     "data": {
      "text/plain": [
       "Player_of_Match\n",
       "KA Pollard      3\n",
       "F du Plessis    3\n",
       "SK Raina        3\n",
       "A Kumble        2\n",
       "MK Pandey       2\n",
       "YK Pathan       2\n",
       "M Vijay         2\n",
       "Name: count, dtype: int64"
      ]
     },
     "execution_count": 23,
     "metadata": {},
     "output_type": "execute_result"
    }
   ],
   "source": [
    "# Find which player has won most POTM -> in finals and qualifiers\n",
    "ipl = pd.read_csv('ipl-matches.csv')\n",
    "ipl[~ipl['MatchNumber'].str.isdigit()]['Player_of_Match'].value_counts().head(7)"
   ]
  },
  {
   "cell_type": "code",
   "execution_count": 24,
   "metadata": {},
   "outputs": [
    {
     "data": {
      "text/plain": [
       "<Axes: ylabel='count'>"
      ]
     },
     "execution_count": 24,
     "metadata": {},
     "output_type": "execute_result"
    },
    {
     "data": {
      "image/png": "[encoded data removed]",
      "text/plain": [
       "<Figure size 640x480 with 1 Axes>"
      ]
     },
     "metadata": {},
     "output_type": "display_data"
    }
   ],
   "source": [
    "# Toss decision plot\n",
    "ipl['TossDecision'].value_counts().plot(kind='pie')"
   ]
  },
  {
   "cell_type": "code",
   "execution_count": 25,
   "metadata": {},
   "outputs": [
    {
     "data": {
      "text/plain": [
       "Mumbai Indians                 231\n",
       "Royal Challengers Bangalore    226\n",
       "Kolkata Knight Riders          223\n",
       "Chennai Super Kings            208\n",
       "Rajasthan Royals               192\n",
       "Kings XI Punjab                190\n",
       "Delhi Daredevils               161\n",
       "Sunrisers Hyderabad            152\n",
       "Deccan Chargers                 75\n",
       "Delhi Capitals                  63\n",
       "Pune Warriors                   46\n",
       "Gujarat Lions                   30\n",
       "Punjab Kings                    28\n",
       "Gujarat Titans                  16\n",
       "Rising Pune Supergiant          16\n",
       "Lucknow Super Giants            15\n",
       "Kochi Tuskers Kerala            14\n",
       "Rising Pune Supergiants         14\n",
       "Name: count, dtype: int64"
      ]
     },
     "execution_count": 25,
     "metadata": {},
     "output_type": "execute_result"
    }
   ],
   "source": [
    "# How many matches each team has played\n",
    "(ipl['Team1'].value_counts()+ipl['Team2'].value_counts()).sort_values(ascending=False)"
   ]
  },
  {
   "cell_type": "markdown",
   "metadata": {},
   "source": [
    "#### sort_values"
   ]
  },
  {
   "cell_type": "code",
   "execution_count": 26,
   "metadata": {},
   "outputs": [
    {
     "data": {
      "application/vnd.microsoft.datawrangler.viewer.v0+json": {
       "columns": [
        {
         "name": "index",
         "rawType": "int64",
         "type": "integer"
        },
        {
         "name": "original_title",
         "rawType": "object",
         "type": "string"
        },
        {
         "name": "year_of_release",
         "rawType": "int64",
         "type": "integer"
        }
       ],
       "conversionMethod": "pd.DataFrame",
       "ref": "4fa6a038-061f-4b62-8b83-750ae27e962b",
       "rows": [
        [
         "1623",
         "Zubeidaa",
         "2001"
        ],
        [
         "939",
         "Zor Lagaa Ke... Haiya!",
         "2009"
        ],
        [
         "756",
         "Zokkomon",
         "2011"
        ],
        [
         "670",
         "Zindagi Tere Naam",
         "2012"
        ],
        [
         "778",
         "Zindagi Na Milegi Dobara",
         "2011"
        ],
        [
         "1564",
         "Zindagi Khoobsoorat Hai",
         "2002"
        ],
        [
         "602",
         "Zindagi 50 50",
         "2013"
        ],
        [
         "1214",
         "Zindaggi Rocks",
         "2006"
        ],
        [
         "1224",
         "Zinda",
         "2006"
        ],
        [
         "580",
         "Zila Ghaziabad",
         "2013"
        ],
        [
         "560",
         "Zid",
         "2014"
        ],
        [
         "157",
         "Zero",
         "2018"
        ],
        [
         "1312",
         "Zeher",
         "2005"
        ],
        [
         "559",
         "Zed Plus",
         "2014"
        ],
        [
         "1315",
         "Zameer",
         "2005"
        ],
        [
         "1488",
         "Zameen",
         "2003"
        ],
        [
         "1035",
         "Yuvvraaj",
         "2008"
        ],
        [
         "1322",
         "Yuva",
         "2004"
        ],
        [
         "1212",
         "Yun Hota Toh Kya Hota",
         "2006"
        ],
        [
         "489",
         "Youngistaan",
         "2014"
        ],
        [
         "1625",
         "Yeh Zindagi Ka Safar",
         "2001"
        ],
        [
         "1622",
         "Yeh Teraa Ghar Yeh Meraa Ghar",
         "2001"
        ],
        [
         "73",
         "Yeh Saali Aashiqui",
         "2019"
        ],
        [
         "1620",
         "Yeh Raaste Hain Pyaar Ke",
         "2001"
        ],
        [
         "1560",
         "Yeh Mohabbat Hai",
         "2002"
        ],
        [
         "948",
         "Y.M.I. Yeh Mera India",
         "2008"
        ],
        [
         "1390",
         "Yeh Lamhe Judaai Ke",
         "2004"
        ],
        [
         "1566",
         "Yeh Kya Ho Raha Hai?",
         "2002"
        ],
        [
         "691",
         "Yeh Khula Aasmaan",
         "2012"
        ],
        [
         "1559",
         "Yeh Kaisi Mohabbat",
         "2002"
        ],
        [
         "603",
         "Yeh Jawaani Hai Deewani",
         "2013"
        ],
        [
         "1563",
         "Yeh Hai Jalwa",
         "2002"
        ],
        [
         "34",
         "Yeh Hai India",
         "2017"
        ],
        [
         "509",
         "Yeh Hai Bakrapur",
         "2014"
        ],
        [
         "792",
         "Yeh Dooriyan",
         "2011"
        ],
        [
         "1558",
         "Yeh Dil Aashiqanaa",
         "2002"
        ],
        [
         "1485",
         "Yeh Dil",
         "2003"
        ],
        [
         "1143",
         "Yatra",
         "2006"
        ],
        [
         "126",
         "Yamla Pagla Deewana Phir Se...",
         "2018"
        ],
        [
         "737",
         "Yamla Pagla Deewana",
         "2011"
        ],
        [
         "1311",
         "Yakeen",
         "2005"
        ],
        [
         "216",
         "YADVI: The Dignified Princess",
         "2017"
        ],
        [
         "60",
         "#Yaaram",
         "2019"
        ],
        [
         "1573",
         "Yaadein...",
         "2001"
        ],
        [
         "461",
         "Ya Rab",
         "2014"
        ],
        [
         "1486",
         "Xcuse Me",
         "2003"
        ],
        [
         "1000",
         "Woodstock Villa",
         "2008"
        ],
        [
         "1211",
         "Woh Lamhe",
         "2006"
        ],
        [
         "3",
         "Why Cheat India",
         "2019"
        ],
        [
         "957",
         "What's Your Raashee?",
         "2009"
        ]
       ],
       "shape": {
        "columns": 2,
        "rows": 1629
       }
      },
      "text/html": [
       "<div>\n",
       "<style scoped>\n",
       "    .dataframe tbody tr th:only-of-type {\n",
       "        vertical-align: middle;\n",
       "    }\n",
       "\n",
       "    .dataframe tbody tr th {\n",
       "        vertical-align: top;\n",
       "    }\n",
       "\n",
       "    .dataframe thead th {\n",
       "        text-align: right;\n",
       "    }\n",
       "</style>\n",
       "<table border=\"1\" class=\"dataframe\">\n",
       "  <thead>\n",
       "    <tr style=\"text-align: right;\">\n",
       "      <th></th>\n",
       "      <th>original_title</th>\n",
       "      <th>year_of_release</th>\n",
       "    </tr>\n",
       "  </thead>\n",
       "  <tbody>\n",
       "    <tr>\n",
       "      <th>1623</th>\n",
       "      <td>Zubeidaa</td>\n",
       "      <td>2001</td>\n",
       "    </tr>\n",
       "    <tr>\n",
       "      <th>939</th>\n",
       "      <td>Zor Lagaa Ke... Haiya!</td>\n",
       "      <td>2009</td>\n",
       "    </tr>\n",
       "    <tr>\n",
       "      <th>756</th>\n",
       "      <td>Zokkomon</td>\n",
       "      <td>2011</td>\n",
       "    </tr>\n",
       "    <tr>\n",
       "      <th>670</th>\n",
       "      <td>Zindagi Tere Naam</td>\n",
       "      <td>2012</td>\n",
       "    </tr>\n",
       "    <tr>\n",
       "      <th>778</th>\n",
       "      <td>Zindagi Na Milegi Dobara</td>\n",
       "      <td>2011</td>\n",
       "    </tr>\n",
       "    <tr>\n",
       "      <th>...</th>\n",
       "      <td>...</td>\n",
       "      <td>...</td>\n",
       "    </tr>\n",
       "    <tr>\n",
       "      <th>1039</th>\n",
       "      <td>1971</td>\n",
       "      <td>2007</td>\n",
       "    </tr>\n",
       "    <tr>\n",
       "      <th>723</th>\n",
       "      <td>1920: Evil Returns</td>\n",
       "      <td>2012</td>\n",
       "    </tr>\n",
       "    <tr>\n",
       "      <th>287</th>\n",
       "      <td>1920 London</td>\n",
       "      <td>2016</td>\n",
       "    </tr>\n",
       "    <tr>\n",
       "      <th>1021</th>\n",
       "      <td>1920</td>\n",
       "      <td>2008</td>\n",
       "    </tr>\n",
       "    <tr>\n",
       "      <th>1498</th>\n",
       "      <td>16-Dec</td>\n",
       "      <td>2002</td>\n",
       "    </tr>\n",
       "  </tbody>\n",
       "</table>\n",
       "<p>1629 rows × 2 columns</p>\n",
       "</div>"
      ],
      "text/plain": [
       "                original_title  year_of_release\n",
       "1623                  Zubeidaa             2001\n",
       "939     Zor Lagaa Ke... Haiya!             2009\n",
       "756                   Zokkomon             2011\n",
       "670          Zindagi Tere Naam             2012\n",
       "778   Zindagi Na Milegi Dobara             2011\n",
       "...                        ...              ...\n",
       "1039                      1971             2007\n",
       "723         1920: Evil Returns             2012\n",
       "287                1920 London             2016\n",
       "1021                      1920             2008\n",
       "1498                    16-Dec             2002\n",
       "\n",
       "[1629 rows x 2 columns]"
      ]
     },
     "execution_count": 26,
     "metadata": {},
     "output_type": "execute_result"
    }
   ],
   "source": [
    "# sort_values(series and dataframe) -> ascending -> na_position -> inplace -> multiple cols\n",
    "movies = pd.read_csv('movies.csv')\n",
    "movies.sort_values('title_x',ascending=False).iloc[:,[5,7]]"
   ]
  },
  {
   "cell_type": "code",
   "execution_count": 27,
   "metadata": {},
   "outputs": [
    {
     "data": {
      "application/vnd.microsoft.datawrangler.viewer.v0+json": {
       "columns": [
        {
         "name": "index",
         "rawType": "int64",
         "type": "integer"
        },
        {
         "name": "original_title",
         "rawType": "object",
         "type": "string"
        },
        {
         "name": "year_of_release",
         "rawType": "int64",
         "type": "integer"
        }
       ],
       "conversionMethod": "pd.DataFrame",
       "ref": "1a69c5a3-0af5-416b-84b9-1036c3c1785e",
       "rows": [
        [
         "1623",
         "Zubeidaa",
         "2001"
        ],
        [
         "1625",
         "Yeh Zindagi Ka Safar",
         "2001"
        ],
        [
         "1622",
         "Yeh Teraa Ghar Yeh Meraa Ghar",
         "2001"
        ],
        [
         "1620",
         "Yeh Raaste Hain Pyaar Ke",
         "2001"
        ],
        [
         "1573",
         "Yaadein...",
         "2001"
        ],
        [
         "1621",
         "Tum Bin...: Love Will Find a Way",
         "2001"
        ],
        [
         "1624",
         "Tera Mera Saath Rahen",
         "2001"
        ],
        [
         "1615",
         "Style",
         "2001"
        ],
        [
         "1616",
         "Rehnaa Hai Terre Dil Mein",
         "2001"
        ],
        [
         "1618",
         "Rahul",
         "2001"
        ],
        [
         "1619",
         "Pyaar Zindagi Hai",
         "2001"
        ],
        [
         "1612",
         "Pyaar Tune Kya Kiya...",
         "2001"
        ],
        [
         "1611",
         "Pyaar Ishq Aur Mohabbat",
         "2001"
        ],
        [
         "1613",
         "Paagalpan",
         "2001"
        ],
        [
         "1608",
         "One 2 Ka 4",
         "2001"
        ],
        [
         "1617",
         "Officer",
         "2001"
        ],
        [
         "1607",
         "Nayak: The Real Hero",
         "2001"
        ],
        [
         "1604",
         "Mujhe Meri Biwi Se Bachaao",
         "2001"
        ],
        [
         "1605",
         "Mujhe Kucch Kehna Hai",
         "2001"
        ],
        [
         "1614",
         "Moksha: Salvation",
         "2001"
        ],
        [
         "1603",
         "Mitti",
         "2001"
        ],
        [
         "1601",
         "Maya",
         "2001"
        ],
        [
         "1610",
         "Love Ke Liye Kuch Bhi Karega",
         "2001"
        ],
        [
         "1574",
         "Lajja",
         "2001"
        ],
        [
         "1567",
         "Lagaan: Once Upon a Time in India",
         "2001"
        ],
        [
         "1568",
         "Lagaan: Once Upon a Time in India",
         "2001"
        ],
        [
         "1609",
         "Kyo Kii... Main Jhuth Nahin Bolta",
         "2001"
        ],
        [
         "1599",
         "Kuch Khatti Kuch Meethi",
         "2001"
        ],
        [
         "1600",
         "Kasoor",
         "2001"
        ],
        [
         "1598",
         "Kasam",
         "2001"
        ],
        [
         "1565",
         "Kabhi Khushi Kabhie Gham...",
         "2001"
        ],
        [
         "1596",
         "Jodi No.1",
         "2001"
        ],
        [
         "1602",
         "Ittefaq",
         "2001"
        ],
        [
         "1570",
         "Indian",
         "2001"
        ],
        [
         "1597",
         "Hum Ho Gaye Aap Ke",
         "2001"
        ],
        [
         "1606",
         "Hadh: Life on the Edge of Death",
         "2001"
        ],
        [
         "1594",
         "Grahan",
         "2001"
        ],
        [
         "1569",
         "Gadar: Ek Prem Katha",
         "2001"
        ],
        [
         "1593",
         "Farz",
         "2001"
        ],
        [
         "1584",
         "Ek Rishtaa: The Bond of Love",
         "2001"
        ],
        [
         "1592",
         "Ehsaas: The Feeling",
         "2001"
        ],
        [
         "1591",
         "Dil Ne Phir Yaad Kiya",
         "2001"
        ],
        [
         "1571",
         "Dil Chahta Hai",
         "2001"
        ],
        [
         "1590",
         "Deewaanapan",
         "2001"
        ],
        [
         "1595",
         "Dattak",
         "2001"
        ],
        [
         "1588",
         "Daman: A Victim of Marital Violence",
         "2001"
        ],
        [
         "1572",
         "Chori Chori Chupke Chupke",
         "2001"
        ],
        [
         "1587",
         "Chhupa Rustam: A Musical Thriller",
         "2001"
        ],
        [
         "1589",
         "Chandni Bar",
         "2001"
        ],
        [
         "1580",
         "Censor",
         "2001"
        ]
       ],
       "shape": {
        "columns": 2,
        "rows": 1629
       }
      },
      "text/html": [
       "<div>\n",
       "<style scoped>\n",
       "    .dataframe tbody tr th:only-of-type {\n",
       "        vertical-align: middle;\n",
       "    }\n",
       "\n",
       "    .dataframe tbody tr th {\n",
       "        vertical-align: top;\n",
       "    }\n",
       "\n",
       "    .dataframe thead th {\n",
       "        text-align: right;\n",
       "    }\n",
       "</style>\n",
       "<table border=\"1\" class=\"dataframe\">\n",
       "  <thead>\n",
       "    <tr style=\"text-align: right;\">\n",
       "      <th></th>\n",
       "      <th>original_title</th>\n",
       "      <th>year_of_release</th>\n",
       "    </tr>\n",
       "  </thead>\n",
       "  <tbody>\n",
       "    <tr>\n",
       "      <th>1623</th>\n",
       "      <td>Zubeidaa</td>\n",
       "      <td>2001</td>\n",
       "    </tr>\n",
       "    <tr>\n",
       "      <th>1625</th>\n",
       "      <td>Yeh Zindagi Ka Safar</td>\n",
       "      <td>2001</td>\n",
       "    </tr>\n",
       "    <tr>\n",
       "      <th>1622</th>\n",
       "      <td>Yeh Teraa Ghar Yeh Meraa Ghar</td>\n",
       "      <td>2001</td>\n",
       "    </tr>\n",
       "    <tr>\n",
       "      <th>1620</th>\n",
       "      <td>Yeh Raaste Hain Pyaar Ke</td>\n",
       "      <td>2001</td>\n",
       "    </tr>\n",
       "    <tr>\n",
       "      <th>1573</th>\n",
       "      <td>Yaadein...</td>\n",
       "      <td>2001</td>\n",
       "    </tr>\n",
       "    <tr>\n",
       "      <th>...</th>\n",
       "      <td>...</td>\n",
       "      <td>...</td>\n",
       "    </tr>\n",
       "    <tr>\n",
       "      <th>37</th>\n",
       "      <td>Article 15</td>\n",
       "      <td>2019</td>\n",
       "    </tr>\n",
       "    <tr>\n",
       "      <th>46</th>\n",
       "      <td>Arjun Patiala</td>\n",
       "      <td>2019</td>\n",
       "    </tr>\n",
       "    <tr>\n",
       "      <th>10</th>\n",
       "      <td>Amavas</td>\n",
       "      <td>2019</td>\n",
       "    </tr>\n",
       "    <tr>\n",
       "      <th>26</th>\n",
       "      <td>Albert Pinto Ko Gussa Kyun Aata Hai?</td>\n",
       "      <td>2019</td>\n",
       "    </tr>\n",
       "    <tr>\n",
       "      <th>21</th>\n",
       "      <td>22 Yards</td>\n",
       "      <td>2019</td>\n",
       "    </tr>\n",
       "  </tbody>\n",
       "</table>\n",
       "<p>1629 rows × 2 columns</p>\n",
       "</div>"
      ],
      "text/plain": [
       "                            original_title  year_of_release\n",
       "1623                              Zubeidaa             2001\n",
       "1625                  Yeh Zindagi Ka Safar             2001\n",
       "1622         Yeh Teraa Ghar Yeh Meraa Ghar             2001\n",
       "1620              Yeh Raaste Hain Pyaar Ke             2001\n",
       "1573                            Yaadein...             2001\n",
       "...                                    ...              ...\n",
       "37                              Article 15             2019\n",
       "46                           Arjun Patiala             2019\n",
       "10                                  Amavas             2019\n",
       "26    Albert Pinto Ko Gussa Kyun Aata Hai?             2019\n",
       "21                                22 Yards             2019\n",
       "\n",
       "[1629 rows x 2 columns]"
      ]
     },
     "execution_count": 27,
     "metadata": {},
     "output_type": "execute_result"
    }
   ],
   "source": [
    "movies.sort_values(['year_of_release','title_x'],ascending=[True,False]).iloc[:,[5,7]]"
   ]
  },
  {
   "cell_type": "markdown",
   "metadata": {},
   "source": [
    "#### Rank(series)"
   ]
  },
  {
   "cell_type": "code",
   "execution_count": 28,
   "metadata": {},
   "outputs": [
    {
     "data": {
      "application/vnd.microsoft.datawrangler.viewer.v0+json": {
       "columns": [
        {
         "name": "index",
         "rawType": "int64",
         "type": "integer"
        },
        {
         "name": "batter",
         "rawType": "object",
         "type": "string"
        },
        {
         "name": "batsman_run",
         "rawType": "int64",
         "type": "integer"
        },
        {
         "name": "batting_rank",
         "rawType": "float64",
         "type": "float"
        }
       ],
       "conversionMethod": "pd.DataFrame",
       "ref": "15f836f0-6752-4d0d-8a74-b01175fbf304",
       "rows": [
        [
         "569",
         "V Kohli",
         "6634",
         "1.0"
        ],
        [
         "462",
         "S Dhawan",
         "6244",
         "2.0"
        ],
        [
         "130",
         "DA Warner",
         "5883",
         "3.0"
        ],
        [
         "430",
         "RG Sharma",
         "5881",
         "4.0"
        ],
        [
         "493",
         "SK Raina",
         "5536",
         "5.0"
        ],
        [
         "27",
         "AB de Villiers",
         "5181",
         "6.0"
        ],
        [
         "108",
         "CH Gayle",
         "4997",
         "7.0"
        ],
        [
         "339",
         "MS Dhoni",
         "4978",
         "8.0"
        ],
        [
         "452",
         "RV Uthappa",
         "4954",
         "9.0"
        ],
        [
         "256",
         "KD Karthik",
         "4377",
         "10.0"
        ],
        [
         "174",
         "G Gambhir",
         "4217",
         "11.0"
        ],
        [
         "60",
         "AT Rayudu",
         "4190",
         "12.0"
        ],
        [
         "46",
         "AM Rahane",
         "4074",
         "13.0"
        ],
        [
         "263",
         "KL Rahul",
         "3895",
         "14.0"
        ],
        [
         "511",
         "SR Watson",
         "3880",
         "15.0"
        ],
        [
         "328",
         "MK Pandey",
         "3657",
         "16.0"
        ],
        [
         "519",
         "SV Samson",
         "3526",
         "17.0"
        ],
        [
         "251",
         "KA Pollard",
         "3437",
         "18.0"
        ],
        [
         "169",
         "F du Plessis",
         "3403",
         "19.0"
        ],
        [
         "597",
         "YK Pathan",
         "3222",
         "20.0"
        ],
        [
         "88",
         "BB McCullum",
         "2882",
         "21.0"
        ],
        [
         "441",
         "RR Pant",
         "2851",
         "22.0"
        ],
        [
         "384",
         "PA Patel",
         "2848",
         "23.0"
        ],
        [
         "219",
         "JC Buttler",
         "2832",
         "24.0"
        ],
        [
         "513",
         "SS Iyer",
         "2780",
         "25.0"
        ],
        [
         "404",
         "Q de Kock",
         "2767",
         "26.0"
        ],
        [
         "603",
         "Yuvraj Singh",
         "2754",
         "27.0"
        ],
        [
         "571",
         "V Sehwag",
         "2728",
         "28.0"
        ],
        [
         "480",
         "SA Yadav",
         "2644",
         "29.0"
        ],
        [
         "308",
         "M Vijay",
         "2619",
         "30.0"
        ],
        [
         "423",
         "RA Jadeja",
         "2502",
         "31.0"
        ],
        [
         "509",
         "SPD Smith",
         "2495",
         "32.0"
        ],
        [
         "490",
         "SE Marsh",
         "2489",
         "33.0"
        ],
        [
         "129",
         "DA Miller",
         "2455",
         "34.0"
        ],
        [
         "226",
         "JH Kallis",
         "2427",
         "35.5"
        ],
        [
         "587",
         "WP Saha",
         "2427",
         "35.5"
        ],
        [
         "159",
         "DR Smith",
         "2385",
         "37.0"
        ],
        [
         "311",
         "MA Agarwal",
         "2335",
         "38.0"
        ],
        [
         "510",
         "SR Tendulkar",
         "2334",
         "39.0"
        ],
        [
         "183",
         "GJ Maxwell",
         "2320",
         "40.0"
        ],
        [
         "358",
         "N Rana",
         "2181",
         "41.0"
        ],
        [
         "409",
         "R Dravid",
         "2174",
         "42.0"
        ],
        [
         "272",
         "KS Williamson",
         "2105",
         "43.0"
        ],
        [
         "40",
         "AJ Finch",
         "2092",
         "44.0"
        ],
        [
         "29",
         "AC Gilchrist",
         "2069",
         "45.0"
        ],
        [
         "36",
         "AD Russell",
         "2039",
         "46.0"
        ],
        [
         "236",
         "JP Duminy",
         "2029",
         "47.0"
        ],
        [
         "319",
         "MEK Hussey",
         "1977",
         "48.0"
        ],
        [
         "191",
         "HH Pandya",
         "1972",
         "49.0"
        ],
        [
         "534",
         "Shubman Gill",
         "1900",
         "50.0"
        ]
       ],
       "shape": {
        "columns": 3,
        "rows": 605
       }
      },
      "text/html": [
       "<div>\n",
       "<style scoped>\n",
       "    .dataframe tbody tr th:only-of-type {\n",
       "        vertical-align: middle;\n",
       "    }\n",
       "\n",
       "    .dataframe tbody tr th {\n",
       "        vertical-align: top;\n",
       "    }\n",
       "\n",
       "    .dataframe thead th {\n",
       "        text-align: right;\n",
       "    }\n",
       "</style>\n",
       "<table border=\"1\" class=\"dataframe\">\n",
       "  <thead>\n",
       "    <tr style=\"text-align: right;\">\n",
       "      <th></th>\n",
       "      <th>batter</th>\n",
       "      <th>batsman_run</th>\n",
       "      <th>batting_rank</th>\n",
       "    </tr>\n",
       "  </thead>\n",
       "  <tbody>\n",
       "    <tr>\n",
       "      <th>569</th>\n",
       "      <td>V Kohli</td>\n",
       "      <td>6634</td>\n",
       "      <td>1.0</td>\n",
       "    </tr>\n",
       "    <tr>\n",
       "      <th>462</th>\n",
       "      <td>S Dhawan</td>\n",
       "      <td>6244</td>\n",
       "      <td>2.0</td>\n",
       "    </tr>\n",
       "    <tr>\n",
       "      <th>130</th>\n",
       "      <td>DA Warner</td>\n",
       "      <td>5883</td>\n",
       "      <td>3.0</td>\n",
       "    </tr>\n",
       "    <tr>\n",
       "      <th>430</th>\n",
       "      <td>RG Sharma</td>\n",
       "      <td>5881</td>\n",
       "      <td>4.0</td>\n",
       "    </tr>\n",
       "    <tr>\n",
       "      <th>493</th>\n",
       "      <td>SK Raina</td>\n",
       "      <td>5536</td>\n",
       "      <td>5.0</td>\n",
       "    </tr>\n",
       "    <tr>\n",
       "      <th>...</th>\n",
       "      <td>...</td>\n",
       "      <td>...</td>\n",
       "      <td>...</td>\n",
       "    </tr>\n",
       "    <tr>\n",
       "      <th>512</th>\n",
       "      <td>SS Cottrell</td>\n",
       "      <td>0</td>\n",
       "      <td>594.0</td>\n",
       "    </tr>\n",
       "    <tr>\n",
       "      <th>466</th>\n",
       "      <td>S Kaushik</td>\n",
       "      <td>0</td>\n",
       "      <td>594.0</td>\n",
       "    </tr>\n",
       "    <tr>\n",
       "      <th>203</th>\n",
       "      <td>IC Pandey</td>\n",
       "      <td>0</td>\n",
       "      <td>594.0</td>\n",
       "    </tr>\n",
       "    <tr>\n",
       "      <th>467</th>\n",
       "      <td>S Ladda</td>\n",
       "      <td>0</td>\n",
       "      <td>594.0</td>\n",
       "    </tr>\n",
       "    <tr>\n",
       "      <th>468</th>\n",
       "      <td>S Lamichhane</td>\n",
       "      <td>0</td>\n",
       "      <td>594.0</td>\n",
       "    </tr>\n",
       "  </tbody>\n",
       "</table>\n",
       "<p>605 rows × 3 columns</p>\n",
       "</div>"
      ],
      "text/plain": [
       "           batter  batsman_run  batting_rank\n",
       "569       V Kohli         6634           1.0\n",
       "462      S Dhawan         6244           2.0\n",
       "130     DA Warner         5883           3.0\n",
       "430     RG Sharma         5881           4.0\n",
       "493      SK Raina         5536           5.0\n",
       "..            ...          ...           ...\n",
       "512   SS Cottrell            0         594.0\n",
       "466     S Kaushik            0         594.0\n",
       "203     IC Pandey            0         594.0\n",
       "467       S Ladda            0         594.0\n",
       "468  S Lamichhane            0         594.0\n",
       "\n",
       "[605 rows x 3 columns]"
      ]
     },
     "execution_count": 28,
     "metadata": {},
     "output_type": "execute_result"
    }
   ],
   "source": [
    "batsman = pd.read_csv('batsman_runs_ipl.csv')\n",
    "batsman['batting_rank'] = batsman['batsman_run'].rank(ascending=False)\n",
    "batsman.sort_values('batting_rank')"
   ]
  },
  {
   "cell_type": "markdown",
   "metadata": {},
   "source": [
    "#### sort_index(series and dataframe)"
   ]
  },
  {
   "cell_type": "code",
   "execution_count": 29,
   "metadata": {},
   "outputs": [
    {
     "data": {
      "application/vnd.microsoft.datawrangler.viewer.v0+json": {
       "columns": [
        {
         "name": "index",
         "rawType": "int64",
         "type": "integer"
        },
        {
         "name": "original_title",
         "rawType": "object",
         "type": "string"
        },
        {
         "name": "is_adult",
         "rawType": "int64",
         "type": "integer"
        },
        {
         "name": "year_of_release",
         "rawType": "int64",
         "type": "integer"
        },
        {
         "name": "runtime",
         "rawType": "object",
         "type": "string"
        }
       ],
       "conversionMethod": "pd.DataFrame",
       "ref": "99539beb-5d8e-41fe-b81e-26637d7dacce",
       "rows": [
        [
         "1628",
         "Humsafar",
         "0",
         "2011",
         "35"
        ],
        [
         "1627",
         "Daaka",
         "0",
         "2019",
         "136"
        ],
        [
         "1626",
         "Sabse Bada Sukh",
         "0",
         "2018",
         "\\N"
        ],
        [
         "1625",
         "Yeh Zindagi Ka Safar",
         "0",
         "2001",
         "146"
        ],
        [
         "1624",
         "Tera Mera Saath Rahen",
         "0",
         "2001",
         "148"
        ],
        [
         "1623",
         "Zubeidaa",
         "0",
         "2001",
         "153"
        ],
        [
         "1622",
         "Yeh Teraa Ghar Yeh Meraa Ghar",
         "0",
         "2001",
         "175"
        ],
        [
         "1621",
         "Tum Bin...: Love Will Find a Way",
         "0",
         "2001",
         "158"
        ],
        [
         "1620",
         "Yeh Raaste Hain Pyaar Ke",
         "0",
         "2001",
         "149"
        ],
        [
         "1619",
         "Pyaar Zindagi Hai",
         "0",
         "2001",
         "157"
        ],
        [
         "1618",
         "Rahul",
         "0",
         "2001",
         "151"
        ],
        [
         "1617",
         "Officer",
         "0",
         "2001",
         "\\N"
        ],
        [
         "1616",
         "Rehnaa Hai Terre Dil Mein",
         "0",
         "2001",
         "160"
        ],
        [
         "1615",
         "Style",
         "0",
         "2001",
         "157"
        ],
        [
         "1614",
         "Moksha: Salvation",
         "0",
         "2001",
         "150"
        ],
        [
         "1613",
         "Paagalpan",
         "0",
         "2001",
         "146"
        ],
        [
         "1612",
         "Pyaar Tune Kya Kiya...",
         "0",
         "2001",
         "123"
        ],
        [
         "1611",
         "Pyaar Ishq Aur Mohabbat",
         "0",
         "2001",
         "\\N"
        ],
        [
         "1610",
         "Love Ke Liye Kuch Bhi Karega",
         "0",
         "2001",
         "131"
        ],
        [
         "1609",
         "Kyo Kii... Main Jhuth Nahin Bolta",
         "0",
         "2001",
         "131"
        ],
        [
         "1608",
         "One 2 Ka 4",
         "0",
         "2001",
         "169"
        ],
        [
         "1607",
         "Nayak: The Real Hero",
         "0",
         "2001",
         "187"
        ],
        [
         "1606",
         "Hadh: Life on the Edge of Death",
         "0",
         "2001",
         "\\N"
        ],
        [
         "1605",
         "Mujhe Kucch Kehna Hai",
         "0",
         "2001",
         "135"
        ],
        [
         "1604",
         "Mujhe Meri Biwi Se Bachaao",
         "0",
         "2001",
         "\\N"
        ],
        [
         "1603",
         "Mitti",
         "0",
         "2001",
         "155"
        ],
        [
         "1602",
         "Ittefaq",
         "0",
         "2001",
         "138"
        ],
        [
         "1601",
         "Maya",
         "0",
         "2001",
         "105"
        ],
        [
         "1600",
         "Kasoor",
         "0",
         "2001",
         "151"
        ],
        [
         "1599",
         "Kuch Khatti Kuch Meethi",
         "0",
         "2001",
         "120"
        ],
        [
         "1598",
         "Kasam",
         "0",
         "2001",
         "\\N"
        ],
        [
         "1597",
         "Hum Ho Gaye Aap Ke",
         "0",
         "2001",
         "168"
        ],
        [
         "1596",
         "Jodi No.1",
         "0",
         "2001",
         "140"
        ],
        [
         "1595",
         "Dattak",
         "0",
         "2001",
         "125"
        ],
        [
         "1594",
         "Grahan",
         "0",
         "2001",
         "110"
        ],
        [
         "1593",
         "Farz",
         "0",
         "2001",
         "\\N"
        ],
        [
         "1592",
         "Ehsaas: The Feeling",
         "0",
         "2001",
         "116"
        ],
        [
         "1591",
         "Dil Ne Phir Yaad Kiya",
         "0",
         "2001",
         "\\N"
        ],
        [
         "1590",
         "Deewaanapan",
         "0",
         "2001",
         "153"
        ],
        [
         "1589",
         "Chandni Bar",
         "0",
         "2001",
         "150"
        ],
        [
         "1588",
         "Daman: A Victim of Marital Violence",
         "0",
         "2001",
         "\\N"
        ],
        [
         "1587",
         "Chhupa Rustam: A Musical Thriller",
         "0",
         "2001",
         "127"
        ],
        [
         "1586",
         "Bengal Tiger",
         "0",
         "2001",
         "121"
        ],
        [
         "1585",
         "Bhairav",
         "0",
         "2001",
         "133"
        ],
        [
         "1584",
         "Ek Rishtaa: The Bond of Love",
         "0",
         "2001",
         "174"
        ],
        [
         "1583",
         "Bas Itna Sa Khwaab Hai...",
         "0",
         "2001",
         "\\N"
        ],
        [
         "1582",
         "Albela",
         "0",
         "2001",
         "145"
        ],
        [
         "1581",
         "Asoka",
         "0",
         "2001",
         "176"
        ],
        [
         "1580",
         "Censor",
         "0",
         "2001",
         "165"
        ],
        [
         "1579",
         "Ajnabee",
         "0",
         "2001",
         "165"
        ]
       ],
       "shape": {
        "columns": 4,
        "rows": 1629
       }
      },
      "text/html": [
       "<div>\n",
       "<style scoped>\n",
       "    .dataframe tbody tr th:only-of-type {\n",
       "        vertical-align: middle;\n",
       "    }\n",
       "\n",
       "    .dataframe tbody tr th {\n",
       "        vertical-align: top;\n",
       "    }\n",
       "\n",
       "    .dataframe thead th {\n",
       "        text-align: right;\n",
       "    }\n",
       "</style>\n",
       "<table border=\"1\" class=\"dataframe\">\n",
       "  <thead>\n",
       "    <tr style=\"text-align: right;\">\n",
       "      <th></th>\n",
       "      <th>original_title</th>\n",
       "      <th>is_adult</th>\n",
       "      <th>year_of_release</th>\n",
       "      <th>runtime</th>\n",
       "    </tr>\n",
       "  </thead>\n",
       "  <tbody>\n",
       "    <tr>\n",
       "      <th>1628</th>\n",
       "      <td>Humsafar</td>\n",
       "      <td>0</td>\n",
       "      <td>2011</td>\n",
       "      <td>35</td>\n",
       "    </tr>\n",
       "    <tr>\n",
       "      <th>1627</th>\n",
       "      <td>Daaka</td>\n",
       "      <td>0</td>\n",
       "      <td>2019</td>\n",
       "      <td>136</td>\n",
       "    </tr>\n",
       "    <tr>\n",
       "      <th>1626</th>\n",
       "      <td>Sabse Bada Sukh</td>\n",
       "      <td>0</td>\n",
       "      <td>2018</td>\n",
       "      <td>\\N</td>\n",
       "    </tr>\n",
       "    <tr>\n",
       "      <th>1625</th>\n",
       "      <td>Yeh Zindagi Ka Safar</td>\n",
       "      <td>0</td>\n",
       "      <td>2001</td>\n",
       "      <td>146</td>\n",
       "    </tr>\n",
       "    <tr>\n",
       "      <th>1624</th>\n",
       "      <td>Tera Mera Saath Rahen</td>\n",
       "      <td>0</td>\n",
       "      <td>2001</td>\n",
       "      <td>148</td>\n",
       "    </tr>\n",
       "    <tr>\n",
       "      <th>...</th>\n",
       "      <td>...</td>\n",
       "      <td>...</td>\n",
       "      <td>...</td>\n",
       "      <td>...</td>\n",
       "    </tr>\n",
       "    <tr>\n",
       "      <th>4</th>\n",
       "      <td>Evening Shadows</td>\n",
       "      <td>0</td>\n",
       "      <td>2018</td>\n",
       "      <td>102</td>\n",
       "    </tr>\n",
       "    <tr>\n",
       "      <th>3</th>\n",
       "      <td>Why Cheat India</td>\n",
       "      <td>0</td>\n",
       "      <td>2019</td>\n",
       "      <td>121</td>\n",
       "    </tr>\n",
       "    <tr>\n",
       "      <th>2</th>\n",
       "      <td>The Accidental Prime Minister</td>\n",
       "      <td>0</td>\n",
       "      <td>2019</td>\n",
       "      <td>112</td>\n",
       "    </tr>\n",
       "    <tr>\n",
       "      <th>1</th>\n",
       "      <td>Battalion 609</td>\n",
       "      <td>0</td>\n",
       "      <td>2019</td>\n",
       "      <td>131</td>\n",
       "    </tr>\n",
       "    <tr>\n",
       "      <th>0</th>\n",
       "      <td>Uri: The Surgical Strike</td>\n",
       "      <td>0</td>\n",
       "      <td>2019</td>\n",
       "      <td>138</td>\n",
       "    </tr>\n",
       "  </tbody>\n",
       "</table>\n",
       "<p>1629 rows × 4 columns</p>\n",
       "</div>"
      ],
      "text/plain": [
       "                     original_title  is_adult  year_of_release runtime\n",
       "1628                       Humsafar         0             2011      35\n",
       "1627                          Daaka         0             2019     136\n",
       "1626                Sabse Bada Sukh         0             2018      \\N\n",
       "1625           Yeh Zindagi Ka Safar         0             2001     146\n",
       "1624          Tera Mera Saath Rahen         0             2001     148\n",
       "...                             ...       ...              ...     ...\n",
       "4                   Evening Shadows         0             2018     102\n",
       "3                   Why Cheat India         0             2019     121\n",
       "2     The Accidental Prime Minister         0             2019     112\n",
       "1                     Battalion 609         0             2019     131\n",
       "0          Uri: The Surgical Strike         0             2019     138\n",
       "\n",
       "[1629 rows x 4 columns]"
      ]
     },
     "execution_count": 29,
     "metadata": {},
     "output_type": "execute_result"
    }
   ],
   "source": [
    "movies.sort_index(ascending=False).iloc[0:,5:9]"
   ]
  },
  {
   "cell_type": "markdown",
   "metadata": {},
   "source": [
    "#### set_index(dataframe) -> inplace"
   ]
  },
  {
   "cell_type": "code",
   "execution_count": 30,
   "metadata": {},
   "outputs": [
    {
     "data": {
      "application/vnd.microsoft.datawrangler.viewer.v0+json": {
       "columns": [
        {
         "name": "batter",
         "rawType": "object",
         "type": "string"
        },
        {
         "name": "batsman_run",
         "rawType": "int64",
         "type": "integer"
        },
        {
         "name": "batting_rank",
         "rawType": "float64",
         "type": "float"
        }
       ],
       "conversionMethod": "pd.DataFrame",
       "ref": "52fdd438-3fe9-4252-a975-93340fc19018",
       "rows": [
        [
         "V Kohli",
         "6634",
         "1.0"
        ],
        [
         "S Dhawan",
         "6244",
         "2.0"
        ],
        [
         "DA Warner",
         "5883",
         "3.0"
        ],
        [
         "RG Sharma",
         "5881",
         "4.0"
        ],
        [
         "SK Raina",
         "5536",
         "5.0"
        ],
        [
         "AB de Villiers",
         "5181",
         "6.0"
        ],
        [
         "CH Gayle",
         "4997",
         "7.0"
        ],
        [
         "MS Dhoni",
         "4978",
         "8.0"
        ],
        [
         "RV Uthappa",
         "4954",
         "9.0"
        ],
        [
         "KD Karthik",
         "4377",
         "10.0"
        ],
        [
         "G Gambhir",
         "4217",
         "11.0"
        ],
        [
         "AT Rayudu",
         "4190",
         "12.0"
        ],
        [
         "AM Rahane",
         "4074",
         "13.0"
        ],
        [
         "KL Rahul",
         "3895",
         "14.0"
        ],
        [
         "SR Watson",
         "3880",
         "15.0"
        ],
        [
         "MK Pandey",
         "3657",
         "16.0"
        ],
        [
         "SV Samson",
         "3526",
         "17.0"
        ],
        [
         "KA Pollard",
         "3437",
         "18.0"
        ],
        [
         "F du Plessis",
         "3403",
         "19.0"
        ],
        [
         "YK Pathan",
         "3222",
         "20.0"
        ],
        [
         "BB McCullum",
         "2882",
         "21.0"
        ],
        [
         "RR Pant",
         "2851",
         "22.0"
        ],
        [
         "PA Patel",
         "2848",
         "23.0"
        ],
        [
         "JC Buttler",
         "2832",
         "24.0"
        ],
        [
         "SS Iyer",
         "2780",
         "25.0"
        ],
        [
         "Q de Kock",
         "2767",
         "26.0"
        ],
        [
         "Yuvraj Singh",
         "2754",
         "27.0"
        ],
        [
         "V Sehwag",
         "2728",
         "28.0"
        ],
        [
         "SA Yadav",
         "2644",
         "29.0"
        ],
        [
         "M Vijay",
         "2619",
         "30.0"
        ],
        [
         "RA Jadeja",
         "2502",
         "31.0"
        ],
        [
         "SPD Smith",
         "2495",
         "32.0"
        ],
        [
         "SE Marsh",
         "2489",
         "33.0"
        ],
        [
         "DA Miller",
         "2455",
         "34.0"
        ],
        [
         "JH Kallis",
         "2427",
         "35.5"
        ],
        [
         "WP Saha",
         "2427",
         "35.5"
        ],
        [
         "DR Smith",
         "2385",
         "37.0"
        ],
        [
         "MA Agarwal",
         "2335",
         "38.0"
        ],
        [
         "SR Tendulkar",
         "2334",
         "39.0"
        ],
        [
         "GJ Maxwell",
         "2320",
         "40.0"
        ],
        [
         "N Rana",
         "2181",
         "41.0"
        ],
        [
         "R Dravid",
         "2174",
         "42.0"
        ],
        [
         "KS Williamson",
         "2105",
         "43.0"
        ],
        [
         "AJ Finch",
         "2092",
         "44.0"
        ],
        [
         "AC Gilchrist",
         "2069",
         "45.0"
        ],
        [
         "AD Russell",
         "2039",
         "46.0"
        ],
        [
         "JP Duminy",
         "2029",
         "47.0"
        ],
        [
         "MEK Hussey",
         "1977",
         "48.0"
        ],
        [
         "HH Pandya",
         "1972",
         "49.0"
        ],
        [
         "Shubman Gill",
         "1900",
         "50.0"
        ]
       ],
       "shape": {
        "columns": 2,
        "rows": 605
       }
      },
      "text/html": [
       "<div>\n",
       "<style scoped>\n",
       "    .dataframe tbody tr th:only-of-type {\n",
       "        vertical-align: middle;\n",
       "    }\n",
       "\n",
       "    .dataframe tbody tr th {\n",
       "        vertical-align: top;\n",
       "    }\n",
       "\n",
       "    .dataframe thead th {\n",
       "        text-align: right;\n",
       "    }\n",
       "</style>\n",
       "<table border=\"1\" class=\"dataframe\">\n",
       "  <thead>\n",
       "    <tr style=\"text-align: right;\">\n",
       "      <th></th>\n",
       "      <th>batsman_run</th>\n",
       "      <th>batting_rank</th>\n",
       "    </tr>\n",
       "    <tr>\n",
       "      <th>batter</th>\n",
       "      <th></th>\n",
       "      <th></th>\n",
       "    </tr>\n",
       "  </thead>\n",
       "  <tbody>\n",
       "    <tr>\n",
       "      <th>V Kohli</th>\n",
       "      <td>6634</td>\n",
       "      <td>1.0</td>\n",
       "    </tr>\n",
       "    <tr>\n",
       "      <th>S Dhawan</th>\n",
       "      <td>6244</td>\n",
       "      <td>2.0</td>\n",
       "    </tr>\n",
       "    <tr>\n",
       "      <th>DA Warner</th>\n",
       "      <td>5883</td>\n",
       "      <td>3.0</td>\n",
       "    </tr>\n",
       "    <tr>\n",
       "      <th>RG Sharma</th>\n",
       "      <td>5881</td>\n",
       "      <td>4.0</td>\n",
       "    </tr>\n",
       "    <tr>\n",
       "      <th>SK Raina</th>\n",
       "      <td>5536</td>\n",
       "      <td>5.0</td>\n",
       "    </tr>\n",
       "    <tr>\n",
       "      <th>...</th>\n",
       "      <td>...</td>\n",
       "      <td>...</td>\n",
       "    </tr>\n",
       "    <tr>\n",
       "      <th>SS Cottrell</th>\n",
       "      <td>0</td>\n",
       "      <td>594.0</td>\n",
       "    </tr>\n",
       "    <tr>\n",
       "      <th>S Kaushik</th>\n",
       "      <td>0</td>\n",
       "      <td>594.0</td>\n",
       "    </tr>\n",
       "    <tr>\n",
       "      <th>IC Pandey</th>\n",
       "      <td>0</td>\n",
       "      <td>594.0</td>\n",
       "    </tr>\n",
       "    <tr>\n",
       "      <th>S Ladda</th>\n",
       "      <td>0</td>\n",
       "      <td>594.0</td>\n",
       "    </tr>\n",
       "    <tr>\n",
       "      <th>S Lamichhane</th>\n",
       "      <td>0</td>\n",
       "      <td>594.0</td>\n",
       "    </tr>\n",
       "  </tbody>\n",
       "</table>\n",
       "<p>605 rows × 2 columns</p>\n",
       "</div>"
      ],
      "text/plain": [
       "              batsman_run  batting_rank\n",
       "batter                                 \n",
       "V Kohli              6634           1.0\n",
       "S Dhawan             6244           2.0\n",
       "DA Warner            5883           3.0\n",
       "RG Sharma            5881           4.0\n",
       "SK Raina             5536           5.0\n",
       "...                   ...           ...\n",
       "SS Cottrell             0         594.0\n",
       "S Kaushik               0         594.0\n",
       "IC Pandey               0         594.0\n",
       "S Ladda                 0         594.0\n",
       "S Lamichhane            0         594.0\n",
       "\n",
       "[605 rows x 2 columns]"
      ]
     },
     "execution_count": 30,
     "metadata": {},
     "output_type": "execute_result"
    }
   ],
   "source": [
    "batsman.set_index('batter').sort_values('batting_rank')"
   ]
  },
  {
   "cell_type": "markdown",
   "metadata": {},
   "source": [
    "#### how to replace existing index without loosing"
   ]
  },
  {
   "cell_type": "code",
   "execution_count": 31,
   "metadata": {},
   "outputs": [
    {
     "data": {
      "application/vnd.microsoft.datawrangler.viewer.v0+json": {
       "columns": [
        {
         "name": "batting_rank",
         "rawType": "float64",
         "type": "float"
        },
        {
         "name": "batter",
         "rawType": "object",
         "type": "string"
        },
        {
         "name": "batsman_run",
         "rawType": "int64",
         "type": "integer"
        }
       ],
       "conversionMethod": "pd.DataFrame",
       "ref": "a5dedc12-0373-47b3-8e51-d39bb8eca8e7",
       "rows": [
        [
         "1.0",
         "V Kohli",
         "6634"
        ],
        [
         "2.0",
         "S Dhawan",
         "6244"
        ],
        [
         "3.0",
         "DA Warner",
         "5883"
        ],
        [
         "4.0",
         "RG Sharma",
         "5881"
        ],
        [
         "5.0",
         "SK Raina",
         "5536"
        ],
        [
         "6.0",
         "AB de Villiers",
         "5181"
        ],
        [
         "7.0",
         "CH Gayle",
         "4997"
        ],
        [
         "8.0",
         "MS Dhoni",
         "4978"
        ],
        [
         "9.0",
         "RV Uthappa",
         "4954"
        ],
        [
         "10.0",
         "KD Karthik",
         "4377"
        ],
        [
         "11.0",
         "G Gambhir",
         "4217"
        ],
        [
         "12.0",
         "AT Rayudu",
         "4190"
        ],
        [
         "13.0",
         "AM Rahane",
         "4074"
        ],
        [
         "14.0",
         "KL Rahul",
         "3895"
        ],
        [
         "15.0",
         "SR Watson",
         "3880"
        ],
        [
         "16.0",
         "MK Pandey",
         "3657"
        ],
        [
         "17.0",
         "SV Samson",
         "3526"
        ],
        [
         "18.0",
         "KA Pollard",
         "3437"
        ],
        [
         "19.0",
         "F du Plessis",
         "3403"
        ],
        [
         "20.0",
         "YK Pathan",
         "3222"
        ],
        [
         "21.0",
         "BB McCullum",
         "2882"
        ],
        [
         "22.0",
         "RR Pant",
         "2851"
        ],
        [
         "23.0",
         "PA Patel",
         "2848"
        ],
        [
         "24.0",
         "JC Buttler",
         "2832"
        ],
        [
         "25.0",
         "SS Iyer",
         "2780"
        ],
        [
         "26.0",
         "Q de Kock",
         "2767"
        ],
        [
         "27.0",
         "Yuvraj Singh",
         "2754"
        ],
        [
         "28.0",
         "V Sehwag",
         "2728"
        ],
        [
         "29.0",
         "SA Yadav",
         "2644"
        ],
        [
         "30.0",
         "M Vijay",
         "2619"
        ],
        [
         "31.0",
         "RA Jadeja",
         "2502"
        ],
        [
         "32.0",
         "SPD Smith",
         "2495"
        ],
        [
         "33.0",
         "SE Marsh",
         "2489"
        ],
        [
         "34.0",
         "DA Miller",
         "2455"
        ],
        [
         "35.5",
         "JH Kallis",
         "2427"
        ],
        [
         "35.5",
         "WP Saha",
         "2427"
        ],
        [
         "37.0",
         "DR Smith",
         "2385"
        ],
        [
         "38.0",
         "MA Agarwal",
         "2335"
        ],
        [
         "39.0",
         "SR Tendulkar",
         "2334"
        ],
        [
         "40.0",
         "GJ Maxwell",
         "2320"
        ],
        [
         "41.0",
         "N Rana",
         "2181"
        ],
        [
         "42.0",
         "R Dravid",
         "2174"
        ],
        [
         "43.0",
         "KS Williamson",
         "2105"
        ],
        [
         "44.0",
         "AJ Finch",
         "2092"
        ],
        [
         "45.0",
         "AC Gilchrist",
         "2069"
        ],
        [
         "46.0",
         "AD Russell",
         "2039"
        ],
        [
         "47.0",
         "JP Duminy",
         "2029"
        ],
        [
         "48.0",
         "MEK Hussey",
         "1977"
        ],
        [
         "49.0",
         "HH Pandya",
         "1972"
        ],
        [
         "50.0",
         "Shubman Gill",
         "1900"
        ]
       ],
       "shape": {
        "columns": 2,
        "rows": 605
       }
      },
      "text/html": [
       "<div>\n",
       "<style scoped>\n",
       "    .dataframe tbody tr th:only-of-type {\n",
       "        vertical-align: middle;\n",
       "    }\n",
       "\n",
       "    .dataframe tbody tr th {\n",
       "        vertical-align: top;\n",
       "    }\n",
       "\n",
       "    .dataframe thead th {\n",
       "        text-align: right;\n",
       "    }\n",
       "</style>\n",
       "<table border=\"1\" class=\"dataframe\">\n",
       "  <thead>\n",
       "    <tr style=\"text-align: right;\">\n",
       "      <th></th>\n",
       "      <th>batter</th>\n",
       "      <th>batsman_run</th>\n",
       "    </tr>\n",
       "    <tr>\n",
       "      <th>batting_rank</th>\n",
       "      <th></th>\n",
       "      <th></th>\n",
       "    </tr>\n",
       "  </thead>\n",
       "  <tbody>\n",
       "    <tr>\n",
       "      <th>1.0</th>\n",
       "      <td>V Kohli</td>\n",
       "      <td>6634</td>\n",
       "    </tr>\n",
       "    <tr>\n",
       "      <th>2.0</th>\n",
       "      <td>S Dhawan</td>\n",
       "      <td>6244</td>\n",
       "    </tr>\n",
       "    <tr>\n",
       "      <th>3.0</th>\n",
       "      <td>DA Warner</td>\n",
       "      <td>5883</td>\n",
       "    </tr>\n",
       "    <tr>\n",
       "      <th>4.0</th>\n",
       "      <td>RG Sharma</td>\n",
       "      <td>5881</td>\n",
       "    </tr>\n",
       "    <tr>\n",
       "      <th>5.0</th>\n",
       "      <td>SK Raina</td>\n",
       "      <td>5536</td>\n",
       "    </tr>\n",
       "    <tr>\n",
       "      <th>...</th>\n",
       "      <td>...</td>\n",
       "      <td>...</td>\n",
       "    </tr>\n",
       "    <tr>\n",
       "      <th>594.0</th>\n",
       "      <td>SS Cottrell</td>\n",
       "      <td>0</td>\n",
       "    </tr>\n",
       "    <tr>\n",
       "      <th>594.0</th>\n",
       "      <td>S Kaushik</td>\n",
       "      <td>0</td>\n",
       "    </tr>\n",
       "    <tr>\n",
       "      <th>594.0</th>\n",
       "      <td>IC Pandey</td>\n",
       "      <td>0</td>\n",
       "    </tr>\n",
       "    <tr>\n",
       "      <th>594.0</th>\n",
       "      <td>S Ladda</td>\n",
       "      <td>0</td>\n",
       "    </tr>\n",
       "    <tr>\n",
       "      <th>594.0</th>\n",
       "      <td>S Lamichhane</td>\n",
       "      <td>0</td>\n",
       "    </tr>\n",
       "  </tbody>\n",
       "</table>\n",
       "<p>605 rows × 2 columns</p>\n",
       "</div>"
      ],
      "text/plain": [
       "                    batter  batsman_run\n",
       "batting_rank                           \n",
       "1.0                V Kohli         6634\n",
       "2.0               S Dhawan         6244\n",
       "3.0              DA Warner         5883\n",
       "4.0              RG Sharma         5881\n",
       "5.0               SK Raina         5536\n",
       "...                    ...          ...\n",
       "594.0          SS Cottrell            0\n",
       "594.0            S Kaushik            0\n",
       "594.0            IC Pandey            0\n",
       "594.0              S Ladda            0\n",
       "594.0         S Lamichhane            0\n",
       "\n",
       "[605 rows x 2 columns]"
      ]
     },
     "execution_count": 31,
     "metadata": {},
     "output_type": "execute_result"
    }
   ],
   "source": [
    "batsman.reset_index().set_index('batting_rank').sort_values('batting_rank').iloc[:,[1,2]]"
   ]
  },
  {
   "cell_type": "markdown",
   "metadata": {},
   "source": [
    "#### rename(dataframe) -> index\n",
    "- Applicable only for DataFrames"
   ]
  },
  {
   "cell_type": "code",
   "execution_count": 32,
   "metadata": {},
   "outputs": [
    {
     "data": {
      "application/vnd.microsoft.datawrangler.viewer.v0+json": {
       "columns": [
        {
         "name": "index",
         "rawType": "int64",
         "type": "integer"
        },
        {
         "name": "title_x",
         "rawType": "object",
         "type": "string"
        },
        {
         "name": "imdb_id",
         "rawType": "object",
         "type": "string"
        },
        {
         "name": "poster_path",
         "rawType": "object",
         "type": "unknown"
        },
        {
         "name": "wiki_link",
         "rawType": "object",
         "type": "string"
        },
        {
         "name": "title_y",
         "rawType": "object",
         "type": "string"
        },
        {
         "name": "original_title",
         "rawType": "object",
         "type": "string"
        },
        {
         "name": "is_adult",
         "rawType": "int64",
         "type": "integer"
        },
        {
         "name": "year_of_release",
         "rawType": "int64",
         "type": "integer"
        },
        {
         "name": "runtime",
         "rawType": "object",
         "type": "string"
        },
        {
         "name": "genres",
         "rawType": "object",
         "type": "string"
        },
        {
         "name": "imdb_rating",
         "rawType": "float64",
         "type": "float"
        },
        {
         "name": "imdb_votes",
         "rawType": "int64",
         "type": "integer"
        },
        {
         "name": "story",
         "rawType": "object",
         "type": "unknown"
        },
        {
         "name": "summary",
         "rawType": "object",
         "type": "string"
        },
        {
         "name": "tagline",
         "rawType": "object",
         "type": "unknown"
        },
        {
         "name": "actors",
         "rawType": "object",
         "type": "unknown"
        },
        {
         "name": "wins_nominations",
         "rawType": "object",
         "type": "unknown"
        },
        {
         "name": "release_date",
         "rawType": "object",
         "type": "unknown"
        }
       ],
       "conversionMethod": "pd.DataFrame",
       "ref": "053daa26-bb64-4e77-8a3b-c6091be02c24",
       "rows": [
        [
         "0",
         "Uri: The Surgical Strike",
         "tt8291224",
         "https://upload.wikimedia.org/wikipedia/en/thumb/3/3b/URI_-_New_poster.jpg/220px-URI_-_New_poster.jpg",
         "https://en.wikipedia.org/wiki/Uri:_The_Surgical_Strike",
         "Uri: The Surgical Strike",
         "Uri: The Surgical Strike",
         "0",
         "2019",
         "138",
         "Action|Drama|War",
         "8.4",
         "35112",
         "Divided over five chapters  the film chronicles the events of the surgical strike conducted by the Indian military against suspected militants in Pakistan occupied Kashmir. It tells the story of the 11 tumultuous events over which the operation was carried out. Indian army special forces carry out a covert operation to avenge the killing of fellow army men at their base by a terrorist group.",
         "Indian army special forces execute a covert operation  avenging the killing of fellow army men at their base by a terrorist group.",
         null,
         "Vicky Kaushal|Paresh Rawal|Mohit Raina|Yami Gautam|Kirti Kulhari|Rajit Kapoor|Ivan Rodrigues|Manasi Parekh|Swaroop Sampat|Riva Arora|Yogesh Soman|Fareed Ahmed|Akashdeep Arora|Kallol Banerjee|",
         "4 wins",
         "11 January 2019 (USA)"
        ],
        [
         "1",
         "Battalion 609",
         "tt9472208",
         null,
         "https://en.wikipedia.org/wiki/Battalion_609",
         "Battalion 609",
         "Battalion 609",
         "0",
         "2019",
         "131",
         "War",
         "4.1",
         "73",
         "The story revolves around a cricket match between the Indian Army and the Pakistan Army gone wrong and narrates the tale of the soldiers of Battalion 609 putting up a fight with Taliban. After an attack on Indian Army that is Battalion 609 near the LOC  the match which was to be played between India and Pakistan is cancelled. Anwar Hussein  a Pakistani soldier who is very fond of cricket and was looking forward to the match  throws a cricket bat at the other end of the LOC and calls the Indian army and Indians a bunch of cowards. In anger  the Indian army throws a ball towards them. Soon  a verbal fight breaks between them which leads to the two teams deciding to play a cricket match. The losing team will take their post eighteen kilometres back.",
         "The story of Battalion 609 revolves around a cricket match between the Indian Army and the Pakistan army gone wrong and narrates the tale of the brave soldiers of Battalion 609 putting up a fight with the mighty Taliban.",
         null,
         "Vicky Ahuja|Shoaib Ibrahim|Shrikant Kamat|Elena Kazan|Vishwas Kini|Major Kishore|Jashn Kohli|Rammy C. Pandey|Manish Sharma|Sparsh Sharma|Farnaz Shetty|Vikas Shrivastav|Chandraprakash Thakur|Brajesh Tiwari|",
         null,
         "11 January 2019 (India)"
        ],
        [
         "2",
         "The Accidental Prime Minister (film)",
         "tt6986710",
         "https://upload.wikimedia.org/wikipedia/en/thumb/a/a1/The_Accidental_Prime_Minister_film.jpg/220px-The_Accidental_Prime_Minister_film.jpg",
         "https://en.wikipedia.org/wiki/The_Accidental_Prime_Minister_(film)",
         "The Accidental Prime Minister",
         "The Accidental Prime Minister",
         "0",
         "2019",
         "112",
         "Biography|Drama",
         "6.1",
         "5549",
         "Based on the memoir by Indian policy analyst Sanjaya Baru  The Accidental Prime Minister explores Manmohan Singh's tenure as the Prime Minister of India  and the interference of Congress Party in contradicting his decisions during his first tenure. He details how Singh fell a victim to Congress Party's dynastic approach. It highlights how Manmohan Singh was constantly ignored by Congress to maintain turf for Rahul Gandhi  the son of Sonia Gandhi and Rajiv Gandhi.",
         "Explores Manmohan Singh's tenure as the Prime Minister of India and the kind of control he had over the cabinet and the country.",
         null,
         "Anupam Kher|Akshaye Khanna|Aahana Kumra|Atul Sharma|Manoj Anand|Arjun Mathur|Suzanne Bernert|Abdul Quadir Amin|Bharat Mistri|Divya Seth|Anil Rastogi|Ramesh Bhatkar|Parrgash Kaur|Jess Kaur|",
         null,
         "11 January 2019 (USA)"
        ],
        [
         "3",
         "Why Cheat India",
         "tt8108208",
         "https://upload.wikimedia.org/wikipedia/en/thumb/a/a2/Why_Cheat_India_poster.jpg/220px-Why_Cheat_India_poster.jpg",
         "https://en.wikipedia.org/wiki/Why_Cheat_India",
         "Why Cheat India",
         "Why Cheat India",
         "0",
         "2019",
         "121",
         "Crime|Drama",
         "6.0",
         "1891",
         "The movie focuses on existing malpractices in country's education system  the whole concept of buying your way through education  jobs and earnings. Even with an evolving education system  the country faces scams like SSC and HSC paper leaks  CBSE re-examination  Vyaapam  etc. The movie tries to shift the attention of people to understand the vulnerability of hardworking and gifted students who get left out.",
         "The movie focuses on existing malpractices in country's education system  the whole concept of buying your way through education  jobs and earnings. Even with an evolving education system  ...                    ",
         null,
         "Emraan Hashmi|Shreya Dhanwanthary|Snighdadeep Chatterji|Navneet Srivastava|Nanda Yadav|",
         null,
         "18 January 2019 (USA)"
        ],
        [
         "4",
         "Evening Shadows",
         "tt6028796",
         null,
         "https://en.wikipedia.org/wiki/Evening_Shadows",
         "Evening Shadows",
         "Evening Shadows",
         "0",
         "2018",
         "102",
         "Drama",
         "7.3",
         "280",
         "While gay rights and marriage equality has been embraced by most countries  a small town in Southern India lives within a cocoon of traditions and social morality. In such a milieu when a young gay man Kartik  comes out to his mother Vasudha  her entire world comes crashing down. She has no one to turn to dispel her fears and doubts  to understand her loving son's truth. Moreover as a woman  trapped within a patriarchal conservative society  her biggest challenge is to deal with her dogmatic husband Damodar  and the conservative society around her. 'Evening Shadows' is a universal story about a mother-son bonding and its emotional strength to withstand the ravages of time and harsh realities.",
         "Under the 'Evening Shadows'  truth often plays hide and seek. Set in South India and Mumbai  'Evening Shadows' is a tender heartwarming story about a mother-son bond that has to withstand the ravages of time  distance and truths.",
         null,
         "Mona Ambegaonkar|Ananth Narayan Mahadevan|Devansh Doshi|Arpit Chaudhary|Yamini Singh|Abhay Kulkarni|Veena Nair|Disha Thakur|Kala Ramanathan|Sushant Divgikar|",
         "17 wins & 1 nomination",
         "11 January 2019 (India)"
        ],
        [
         "5",
         "Soni (film)",
         "tt6078866",
         "https://upload.wikimedia.org/wikipedia/en/thumb/d/de/Soni_India_Netflix_Movie_Poster.jpg/220px-Soni_India_Netflix_Movie_Poster.jpg",
         "https://en.wikipedia.org/wiki/Soni_(film)",
         "Soni",
         "Soni",
         "0",
         "2018",
         "97",
         "Drama",
         "7.2",
         "1595",
         "Soni  a young policewoman in Delhi  and her superintendent  Kalpana  have collectively taken on a growing crisis of violent crimes against women. However  their alliance suffers a major setback when Soni is transferred out for alleged misconduct on duty.",
         "While fighting crimes against women in Delhi  a short-fused policewoman and her level-headed female boss grapple with gender issues in their own lives.",
         null,
         "Geetika Vidya Ohlyan|Saloni Batra|Vikas Shukla|Mohit Chauhan|Himanshu Kohli|Gauri Chakraborty|Mohinder Gujral|Upasya Goswami|Simrat Kaur|Dimple Kaur|Prateek Pachori|Kalpana Jha|Samar|",
         "3 wins & 5 nominations",
         "18 January 2019 (USA)"
        ],
        [
         "6",
         "Fraud Saiyaan",
         "tt5013008",
         "https://upload.wikimedia.org/wikipedia/en/thumb/4/48/Fraud_Saiyyan_film_poster.jpg/220px-Fraud_Saiyyan_film_poster.jpg",
         "https://en.wikipedia.org/wiki/Fraud_Saiyaan",
         "Fraud Saiyaan",
         "Fraud Saiyyan",
         "0",
         "2019",
         "109",
         "Comedy|Drama",
         "4.2",
         "504",
         "Fraud Saiyyan is the story of a con artist in North India who convinces women to marry him just so he can live off their money.",
         "Fraud Saiyyan is the story of a con artist in North India who convinces women to marry him just so he can live off their money.",
         null,
         "Arshad Warsi|Saurabh Shukla|Flora Saini|Sara Loren|Varun Badola|Deepali Pansare|Nivedita Tiwari|Peeyush Suhaney|Preeti Sood|Parag Tyagi|Anangsha Biswas|Amanda Rosario|Elli Avrram|",
         null,
         "18 January 2019 (India)"
        ],
        [
         "7",
         "Bombairiya",
         "tt4971258",
         "https://upload.wikimedia.org/wikipedia/en/thumb/b/bb/Bombairiya_poster.jpg/220px-Bombairiya_poster.jpg",
         "https://en.wikipedia.org/wiki/Bombairiya",
         "Bombairiya",
         "Bombairiya",
         "0",
         "2019",
         "104",
         "Comedy|Crime|Drama",
         "4.3",
         "295",
         "It follows the story of Meghna  who gets embroiled in a series of events after her phone gets stolen.",
         "It follows the story of Meghna  who gets embroiled in a series of events after her phone gets stolen.",
         "They didn't mean to change the world.",
         "Radhika Apte|Akshay Oberoi|Siddhanth Kapoor|Ravi Kishan|Adil Hussain|Shilpa Shukla|Ajinkya Deo|Amit Sial|",
         null,
         "18 January 2019 (India)"
        ],
        [
         "8",
         "Manikarnika: The Queen of Jhansi",
         "tt6903440",
         "https://upload.wikimedia.org/wikipedia/en/thumb/4/44/Manikarnika_Poster.jpg/220px-Manikarnika_Poster.jpg",
         "https://en.wikipedia.org/wiki/Manikarnika:_The_Queen_of_Jhansi",
         "Manikarnika: The Queen of Jhansi",
         "Manikarnika: The Queen of Jhansi",
         "0",
         "2019",
         "148",
         "Action|Biography|Drama",
         "6.5",
         "7361",
         "Manikarnika born in Varanasi when Dixt a minister in Jhansi princely state sees her he proposes her marriage to Gangadar Rao prince of Jhansi.Sadashiv Rao plots along with British officers to conquer Jhansi as he Is promised a stake in it after conquering Jhansi.After the birth of Lakshmi and Gangadar Rao's son Sadashiv Rao sees his place in fear and poison the holy water during the naming ceremony of the child following which he passes away and also leaves Gangadar Rao on death bed.Gangadar Rao decides to adopt a son and Sadashiv Rao feels guilty of not adopting his son instead a toddler who comes running to Lakshmi Bai.After death of Gangadar Rao.The East India Company decides to conquer on Jhansi as there is no male ruler.But Lakshmi Bai decides to take the throne on herself and fight for Jhansi.",
         "Story of Rani Lakshmibai  one of the leading figures of the Indian Rebellion of 1857 and her resistance to the British Rule.",
         null,
         "Kangana Ranaut|Rimi Sen|Atul Kulkarni|Nalneesh Neel|Danny Denzongpa|Mishti|Kulbhushan Kharbanda|Mohammed Zeeshan Ayyub|Anil George|Vikram Kochhar|Edward Sonnenblick|Ankita Lokhande|Richard Keep|Jishu Sengupta|",
         null,
         "25 January 2019 (USA)"
        ],
        [
         "9",
         "Thackeray (film)",
         "tt7777196",
         "https://upload.wikimedia.org/wikipedia/en/thumb/8/8e/Thackeray_film_poster.jpeg/220px-Thackeray_film_poster.jpeg",
         "https://en.wikipedia.org/wiki/Thackeray_(film)",
         "Thackeray",
         "Thackeray",
         "0",
         "2019",
         "120",
         "Biography|Drama",
         "5.1",
         "2301",
         "Balasaheb Thackrey works as a cartoonist for a newspaper. But his editor isn't happy with it as he creates cartoons of politician which affects the sales of his paper.He is asked to try something else but he quits his job and now his only aim is to fight for the rights of Marathi people. He sees that Marathi people don't have any respect and are made to do all odd works. With a few people  he starts to help the needy and gains respect. To fight for the rights he also goes against the law and comes in the eye of politics. After entering politics he starts his own party named after Shivaji Maharaj as Shiv Sena. After giving Marathi Manoos his equal rights his only wish is that one day the Chief Minister of Maharashtra should be a Marathi Manoos.",
         "Biographical account of Shiv Sena Supremo  Balasaheb Thackeray.",
         null,
         "Nawazuddin Siddiqui|Amrita Rao|Abdul Quadir Amin|Sanjay Narvekar|Prakash Belawadi|Vineet Sharma|Radha Sagar|Sonamoni Jayant Gadekar|Satish Alekar|Micky Makhija|Nikhil Mahajan|Resh Lamba|Jaywant Wadkar|Laxman Singh Rajput|",
         null,
         "25 January 2019 (India)"
        ],
        [
         "10",
         "Amavas",
         "tt8396186",
         "https://upload.wikimedia.org/wikipedia/en/thumb/b/b3/Amavas_official_poster.jpg/220px-Amavas_official_poster.jpg",
         "https://en.wikipedia.org/wiki/Amavas",
         "Amavas",
         "Amavas",
         "0",
         "2019",
         "134",
         "Horror|Thriller",
         "2.8",
         "235",
         "Far away from the bustle of the city  a young couple is looking forward to their stay in a once-abandoned palatial mansion. But their lives are about to turn into a nightmare  as dark forces lie in wait beneath the shadows of the haunted bungalow.",
         "The lives of a couple turn into a nightmare  as dark forces lie in wait beneath the shadows of the haunted bungalow in which they have decided to stay.",
         null,
         "Ali Asgar|Vivan Bhatena|Nargis Fakhri|Sachiin Joshi|Shabnam Karimzada|Kevin Matadeen|",
         null,
         "8 February 2019 (India)"
        ],
        [
         "11",
         "Gully Boy",
         "tt2395469",
         "https://upload.wikimedia.org/wikipedia/en/thumb/0/07/Gully_Boy_poster.jpg/220px-Gully_Boy_poster.jpg",
         "https://en.wikipedia.org/wiki/Gully_Boy",
         "Gully Boy",
         "Gully Boy",
         "0",
         "2019",
         "153",
         "Drama|Music",
         "8.2",
         "22440",
         "Gully Boy is a film about a 22-year-old boy \"Murad\" from a ghetto in Mumbai  India. The son of a driver  his parents worked hard to get him educated so that he could have a white collar job. Meanwhile  Murad realizes his calling to be a rapper. Authentic Hip Hop in India is a recent phenomenon and like anywhere else in the world  is rising from the streets. Art is a distant dream for the colonized poor of India and this story is about Murad's journey from realizing his love for rap and chasing his dream to inadvertently transcending his class. The film showcases street rap from the crevices of Mumbai's by lanes. The poetry is conscious of the city's socio-economic fabric and highlights the challenges faced by the disenfranchised youth in the minority population.",
         "A coming-of-age story based on the lives of street rappers in Mumbai.",
         "Apna Time Aayega!",
         "Ranveer Singh|Alia Bhatt|Siddhant Chaturvedi|Vijay Raaz|Amruta Subhash|Vijay Varma|Kalki Koechlin|Ikhlaque Khan|Sheeba Chaddha|Jyoti Subhash|Rahul Piske|Nakul Sachdeva|Shruti Chauhan|Aishwarya Desai|",
         "6 wins & 3 nominations",
         "14 February 2019 (USA)"
        ],
        [
         "12",
         "Hum Chaar",
         "tt9319812",
         "https://upload.wikimedia.org/wikipedia/en/thumb/8/88/Hum_Chaar_poster.jpg/220px-Hum_Chaar_poster.jpg",
         "https://en.wikipedia.org/wiki/Hum_Chaar",
         "Hum chaar",
         "Hum chaar",
         "0",
         "2019",
         "143",
         "Drama",
         "5.6",
         "183",
         "The story of the film revolves around four college friends went their own direction in life  but remained inseparable from each other.",
         "The story of the film revolves around four college friends went their own direction in life  but remained inseparable from each other.",
         null,
         "Prit Kamani|Simran Sharma|Anshuman Malhotra|Tushar Pandey|Vibha Anand|Jatin Goswami|Jagat Rawat|Sonal Jha|Shailesh Datar|Jayshankar Tripathi|Alok Pandey|Sushant Mohindru|Shahnawaz Pradhan|Amit Kumar Jha|",
         null,
         "15 February 2019 (India)"
        ],
        [
         "13",
         "Total Dhamaal",
         "tt7639372",
         "https://upload.wikimedia.org/wikipedia/en/thumb/e/e7/Total_Dhamaal_poster.jpg/220px-Total_Dhamaal_poster.jpg",
         "https://en.wikipedia.org/wiki/Total_Dhamaal",
         "Total Dhamaal",
         "Total Dhamaal",
         "0",
         "2019",
         "130",
         "Action|Adventure|Comedy",
         "4.3",
         "4817",
         "Total Dhamaal is the third instalment in the Dhamaal franchise. A hidden booty of 50 crore leads to a mad chase amongst a bunch of greedy and eccentric characters. In them  are a bickering couple on the verge of a divorce  greedy siblings  local goons  a police commissioner and the mastermind of the loot. Will they finally discover the hidden treasure?",
         "A group of people learn about a hidden treasure and then they race to find it and claim it.",
         "The Wildest Adventure Ever",
         "Ajay Devgn|Madhuri Dixit|Anil Kapoor|Riteish Deshmukh|Arshad Warsi|Javed Jaffrey|Esha Gupta|Boman Irani|Sanjay Mishra|Vijay Patkar|Pitobash|Mahesh Manjrekar|Ali|",
         null,
         "22 February 2019 (India)"
        ],
        [
         "14",
         "Sonchiriya",
         "tt8108200",
         "https://upload.wikimedia.org/wikipedia/en/thumb/4/46/Sonchiriya_poster.jpg/220px-Sonchiriya_poster.jpg",
         "https://en.wikipedia.org/wiki/Sonchiriya",
         "Sonchiriya",
         "Sonchiriya",
         "0",
         "2019",
         "143",
         "Action|Crime|Drama",
         "7.5",
         "2322",
         "This is the story of a group of rebels in Chambal. The year is 1975. The Prime Minister  Indira Gandhi  has declared Emergency in the country. Man Singh (Manoj Bajpayee) meanwhile leads a gang in Chambal  a region that more or less is lawless. Vakil Singh (Ranvir Shorey) and Lakhna (Sushant Singh Rajput) are important members of this gang. Man Singh is in need of money to procure new arms. Based on a tip from Lacchu (Jaspal Sharma)  he and his men descend to Brahmpuri village. A marriage is taking place in this hamlet where the groom is about to get a huge amount of gold and cash. Man Singh and his gang reaches the marriage venue in order to loot this wealth. However  the cops  led by Virender Gujjar (Ashutosh Rana) ambush the gang. In the tough fight  Man Singh and half of the gang get killed. Vakil  Lakhna and others escape. Vakil  now the leader of the gang  accuses Lakhna of betraying them and calling the cops. Lakhna is fed up of being a rebel and wants to surrender. Meanwhile  ...",
         "Set in the Chambal valley  the film follows the story of a legion of dreaded  warring dacoits who once terrorized the Indian heartlands.",
         null,
         "Sushant Singh Rajput|Bhumi Pednekar|Manoj Bajpayee|Ranvir Shorey|Ashutosh Rana|Gagandev Riar|",
         null,
         "1 March 2019 (India)"
        ],
        [
         "15",
         "Badla (2019 film)",
         "tt8130968",
         "https://upload.wikimedia.org/wikipedia/en/0/0c/Badla_poster.jpg",
         "https://en.wikipedia.org/wiki/Badla_(2019_film)",
         "Badla",
         "Badla",
         "0",
         "2019",
         "118",
         "Crime|Drama|Mystery",
         "7.9",
         "15499",
         "Naina Sethi a successful entrepreneur finds herself locked in a hotel room.When she gains conscious she finds herself lying to corpse of her lover Arjun she is arrested for the murder.But left on bail her lawyer Jimmy hires a defense lawyer Badal Gupta who hasn't lost a case since last 40 years.Badal and Naina discuss about the events that happened during that day.But Badal feels that there are lot many loopholes in Naina's story.",
         "A dynamic young entrepreneur finds herself locked in a hotel room with the corpse of her dead lover. She hires a prestigious lawyer to defend her and they work together to figure out what actually happened.",
         null,
         "Amitabh Bachchan|Taapsee Pannu|Amrita Singh|Antonio Aakeel|Tony Luke|Tanveer Ghani|Tariqsafdar Hussain|Mark Mansfield|",
         "1 win",
         "8 March 2019 (India)"
        ],
        [
         "16",
         "Mard Ko Dard Nahi Hota",
         "tt8055888",
         "https://upload.wikimedia.org/wikipedia/en/thumb/e/ef/Mard_Ko_Dard_Nahi_Hota.jpg/220px-Mard_Ko_Dard_Nahi_Hota.jpg",
         "https://en.wikipedia.org/wiki/Mard_Ko_Dard_Nahi_Hota",
         "Mard Ko Dard Nahin Hota",
         "Mard Ko Dard Nahin Hota",
         "0",
         "2018",
         "134",
         "Action|Comedy",
         "7.4",
         "3969",
         "It is a story of a young boy Surya who has a rare condition of Congenital Insensitivity to pain meaning he can not feel pain  and he sets out to learn martial arts and hunt down muggers.",
         "It is a story of a young boy Surya who has a rare condition of Congenital Insensitivity to pain meaning he can not feel pain  and he sets out to learn martial arts and hunt down muggers.",
         null,
         "Abhimanyu Dasani|Radhika Madan|Prateek Parmar|Satyajit Ganu|",
         "2 wins & 2 nominations",
         "22 March 2019 (USA)"
        ],
        [
         "17",
         "Hamid (film)",
         "tt7527082",
         "https://upload.wikimedia.org/wikipedia/en/thumb/8/87/Hamid_film_poster.jpg/220px-Hamid_film_poster.jpg",
         "https://en.wikipedia.org/wiki/Hamid_(film)",
         "Hamid",
         "Hamid",
         "0",
         "2018",
         "108",
         "Drama",
         "7.7",
         "560",
         "Hamid's (8) father has gone missing. His mother Ishrat has turned indifferent towards Hamid and the entire world after the incident. Neglected and lonely  with a heart searching for answers  Hamid star gazes in the hope of meeting his father. The number 786 always bewildered Hamid. One day a teacher tells Hamid that this is God's number. Using his father's old mobile phone  after trying different combinations  he finally manages to connect to a person  who he is convinced is God. On the other side is Abhay  a hard-knuckled CRPF Jawaan. Hamid's phone call  though surprising at first  intrigues Abhay who engages in humouring Hamid. These two  unknowingly and unintentionally  change each other's world for the better.",
         "Eight year-old Hamid learns that 786 is God's number and decides to try and reach out to God  by dialing this number. He wants to talk to his father  who his mother tells him has gone to Allah. One fine day the phone call is answered.",
         null,
         "Talha Arshad Reshi|Vikas Kumar|Rasika Dugal|Sumit Kaul|Bashir Lone|Gurveer Singh|Ashraf Nagoo|Mir Sarwar|Qazi Faiz|Umar Adil|",
         null,
         "15 March 2019 (India)"
        ],
        [
         "18",
         "Photograph (film)",
         "tt7778680",
         "https://upload.wikimedia.org/wikipedia/en/7/71/Photograph_%282019_poster%29.png",
         "https://en.wikipedia.org/wiki/Photograph_(film)",
         "Photograph",
         "Photograph",
         "0",
         "2019",
         "110",
         "Drama|Romance",
         "6.9",
         "2391",
         "Two lives intersect in Mumbai and go along together. A struggling street photographer  pressured to marry by his grandmother  convinces a shy stranger to pose as his fiancée. The pair develops a connection that transforms them in ways that they could not expect. From Ritesh Batra (The Lunchbox).",
         "A struggling street photographer in Mumbai  pressured to marry by his grandmother  convinces a shy stranger to pose as his fiancée. The pair develop a connection that transforms them in ways they could not expect.",
         null,
         "Nawazuddin Siddiqui|Sanya Malhotra|Sachin Khedekar|Denzil Smith|Brinda Trivedi|Lubna Salim|Rajesh Kumar Sharma|Shihaan Bakshi|Akash Sinha|Seema Pravin Shende|Robin Das|Bhagwan Das Patel|Ashok Pathak|Amarjeet Singh|",
         null,
         "17 May 2019 (USA)"
        ],
        [
         "19",
         "Risknamaa",
         "tt9795264",
         null,
         "https://en.wikipedia.org/wiki/Risknamaa",
         "Risknamaa",
         "Risknamaa",
         "0",
         "2019",
         "123",
         "Thriller",
         "6.7",
         "11",
         "Sher Singh is the Sarpanch of his village. Whose same order for all  that whoever loves  will get the death punishment only. In this way Sher Singh has killed so many boys and girls  who loves each other. But one day that Sarpanch also falls in love and the girl whom Sher Singh loves  that girl is the wife of her younger brother.",
         "Sher Singh is the Sarpanch of his village. Whose same order for all  that whoever loves  will get the death punishment only. In this way Sher Singh has killed so many boys and girls  who ...                    ",
         null,
         "Garima Agarwal|Anupama|Parveen Bansala|Mahaveer Singh Fauji|Javed Haider|Shahbaaz Khan|Sachin Khari|Pramod Moutho|Aarun Nagar|Khyati Sharma|Ravi Sharma|Shashikant Sharma|",
         null,
         "15 March 2019 (India)"
        ],
        [
         "20",
         "Mere Pyare Prime Minister",
         "tt8207768",
         "https://upload.wikimedia.org/wikipedia/en/thumb/2/24/Mere_Pyare_Prime_Minister_poster.jpg/220px-Mere_Pyare_Prime_Minister_poster.jpg",
         "https://en.wikipedia.org/wiki/Mere_Pyare_Prime_Minister",
         "Mere Pyare Prime Minister",
         "Mere Pyare Prime Minister",
         "0",
         "2018",
         "104",
         "Drama",
         "6.8",
         "344",
         "A story about four children living in a Mumbai slum in India. An eight-year old Kanhu writes a letter to the Prime Minister after a dramatic incident with his mother. A small boy has to achieve the impossible.",
         "A story about four children living in a Mumbai slum in India. An eight-year old Kanhu writes a letter to the Prime Minister after a dramatic incident with his mother. A small boy has to achieve the impossible.",
         "Meri Ek Arzi Sun Lo Zara",
         "Rasika Agashe|Sonia Albizuri|Syna Anand|Adarsh Bharti|Makrand Deshpande|Om Kanojiya|Atul Kulkarni|Anjali Patil|Prasad|Nachiket Purnapatre|Niteesh Wadhwa|",
         null,
         "15 March 2019 (India)"
        ],
        [
         "21",
         "22 Yards",
         "tt9496212",
         "https://upload.wikimedia.org/wikipedia/en/thumb/f/f2/22_Yards_film_poster.jpeg/220px-22_Yards_film_poster.jpeg",
         "https://en.wikipedia.org/wiki/22_Yards",
         "22 Yards",
         "22 Yards",
         "0",
         "2019",
         "126",
         "Sport",
         "5.3",
         "124",
         "A dramatic portrayal of a victorious tale of a fallen cricket agent and a young cricketer.",
         "A dramatic portrayal of a victorious tale of a fallen cricket agent and a young cricketer.",
         null,
         "Barun Sobti|Rajit Kapur|Panchhi Bora|Kartikey Tripathi|",
         null,
         "15 March 2019 (India)"
        ],
        [
         "22",
         "Kesari (film)",
         "tt6264938",
         "https://upload.wikimedia.org/wikipedia/en/thumb/c/c4/Kesari_poster.jpg/220px-Kesari_poster.jpg",
         "https://en.wikipedia.org/wiki/Kesari_(film)",
         "Kesari",
         "Kesari",
         "0",
         "2019",
         "150",
         "Action|Drama|History",
         "7.4",
         "10653",
         "This period war-drama showcases the 1897 Battle of Saragarhi. The plot focuses on Havildar Ishar Singh who led a platoon of 21 Sikhs against an invading army of 10 000 Afghans to defend the North-West Frontier Province. The event is considered as one of the greatest last-stands in history.",
         "Based on an incredible true story of the Battle of Saragarhi in which an army of 21 Sikhs fought against 10 000 Afghans in 1897.",
         null,
         "Akshay Kumar|Parineeti Chopra|Suvinder Vicky|Vansh Bhardwaj|Sumeet Basran|Ajit Singh|Sandeep Nahar|Harwinder Singh Aujla|Rakesh Sharma|Adhrit Sharma|Vivek Saini|Harbhagwan Singh|Rajdeep Singh Dhaliwal|Gurpreet Toti|",
         null,
         "21 March 2019 (USA)"
        ],
        [
         "23",
         "Notebook (2019 film)",
         "tt9105014",
         "https://upload.wikimedia.org/wikipedia/en/thumb/7/7f/Notebook_film_poster.jpg/220px-Notebook_film_poster.jpg",
         "https://en.wikipedia.org/wiki/Notebook_(2019_film)",
         "Notebook",
         "Notebook",
         "0",
         "2019",
         "115",
         "Drama|Romance",
         "6.8",
         "1335",
         "In the Kashmir valley Kabir a former army officer comes as a teacher in a school which was once run by his father.The school has no facilities and is soon to be shut without a teacher.After finding about the new teacher students start to attend the school. But the they don't like Kabir as he is strict.Kabir then comes across the diary of previous teacher Firdaus and adopts her way of teaching and becomes friend of the students.He gets to know more about Firdaus and wants to know where and what she is doing presently.",
         "An ex-army officer  Kabir  becomes a teacher in Kashmir in a school that is in a miserable condition. Things take a turn when Kabir finds a notebook  left behind by the previous year's teacher Firdaus (Pranutan Bahl).",
         null,
         "Zaheer Iqbal|Pranutan Bahl|Mir Mohammed Mehroos|Mir Mohammed Zayan|Soliha Maqbool|Baba Hatim|Adiba Bhat|Hafsa Ashraf|Madikha|Bareen|Mozim Bhat|Mir Sarwar|Hemant Kher|Shrysh Zutshi|",
         null,
         "29 March 2019 (USA)"
        ],
        [
         "24",
         "Junglee (2019 film)",
         "tt7463730",
         "https://upload.wikimedia.org/wikipedia/en/e/e2/Junglee_film_poster.jpg",
         "https://en.wikipedia.org/wiki/Junglee_(2019_film)",
         "Junglee",
         "Junglee",
         "0",
         "2019",
         "115",
         "Action|Adventure",
         "5.3",
         "1064",
         "Dipankar Nair runs a Elephant sanctuary but things have turned bad as hunters are frequently killing Elephants for their tusks.His son Raj a Vet in Mumbai arrives for 10th death anniversary of his mother befriends his childhood animals Bhola and Didi.Keshav an hunter has an eye on huge tusks of Bhola which could fetch good money.Keshav kills Bhola for his tusks and also Dipankar who tries to save him.The cops arrive at funeral of Dipankar and falsely implicate him of being with hunters and also frame Raj for it.",
         "The story revolves around a vet  who on his homecoming to his father's elephant reserve  encounters and fights an international poachers racket.",
         null,
         "Vidyut Jammwal|Lars Kjeldsen|",
         null,
         "29 March 2019 (USA)"
        ],
        [
         "25",
         "Gone Kesh",
         "tt10017956",
         "https://upload.wikimedia.org/wikipedia/en/thumb/d/d1/Gone_Kesh_film_poster.jpg/220px-Gone_Kesh_film_poster.jpg",
         "https://en.wikipedia.org/wiki/Gone_Kesh",
         "Gone Kesh",
         "Gone Kesh",
         "0",
         "2019",
         "110",
         "Drama",
         "7.1",
         "178",
         "Enakshi is diagnosed with Alopecia  where she begins to lose hair from her scalp. Although she finds her temporary fix to this  it begins to steal previous years of her youth and takes her life by a storm. Will she be able to find a cure?",
         "Enakshi is diagnosed with Alopecia  where she begins to lose hair from her scalp. Although she finds her temporary fix to this  it begins to steal previous years of her youth and takes her life by a storm. Will she be able to find a cure?",
         null,
         "Deepika Amin|Kumar Kanchan Ghosh|Brijendra Kala|Jitendra Kumar|Mukesh Pandey|Santosh Rai|Vipin Sharma|",
         "9 wins",
         "29 March 2019 (India)"
        ],
        [
         "26",
         "Albert Pinto Ko Gussa Kyun Aata Hai?",
         "tt4355838",
         "https://upload.wikimedia.org/wikipedia/en/thumb/f/f5/Albert_Pinto_Ko_Gussa_Kyun_Aata_Hai_film_poster.jpg/220px-Albert_Pinto_Ko_Gussa_Kyun_Aata_Hai_film_poster.jpg",
         "https://en.wikipedia.org/wiki/Albert_Pinto_Ko_Gussa_Kyun_Aata_Hai%3F",
         "Albert Pinto Ko Gussa Kyun Aata Hai?",
         "Albert Pinto Ko Gussa Kyun Aata Hai?",
         "0",
         "2019",
         "100",
         "Drama",
         "4.8",
         "56",
         "Albert leaves his house one morning without telling anyone where he is going. His girlfriend Stella files a complaint with the police and when he doesn't return after days  she begins to fear. What she doesn't know is that Albert is traversing a road journey from Mumbai to Goa. Nayar who drives the vehicle accompanies him on his mission. Punctuating their cynical  witty and devastating conversations  we see Albert's flashbacks of a world where he and Stella try and weave a life together. Albert's anger stems from experiences that life has presented to him. It is this anger that is taking him on a journey to settle a score and enable him to lead a life of dignity and hope.",
         "Albert Pinto goes missing one day and his girlfriend and family start making rounds at the police station to track him down. Unknown to them  he is on his way to Goa to carry out his first assignment as a hitman.",
         null,
         "Manav Kaul|Nandita Das|",
         null,
         "12 April 2019 (India)"
        ],
        [
         "27",
         "The Tashkent Files",
         "tt8108268",
         "https://upload.wikimedia.org/wikipedia/en/7/79/The_Tashkent_Files_poster.jpg",
         "https://en.wikipedia.org/wiki/The_Tashkent_Files",
         "The Tashkent Files",
         "The Tashkent Files",
         "0",
         "2019",
         "134",
         "Drama|Mystery|Thriller",
         "8.0",
         "5524",
         "The Tashkent Files is a thriller that revolves around the mysterious death of India's 2nd Prime Minister Shri Lal Bahadur Shastri and attempts to uncover if he had actually died a natural death  or  as alleged  was assassinated.",
         "The Tashkent Files is a thriller that revolves around the mysterious death of India's 2nd Prime Minister Shri Lal Bahadur Shastri and attempts to uncover if he had actually died a natural death  or  as alleged  was assassinated.",
         null,
         "Naseeruddin Shah|Mithun Chakraborty|Shweta Basu Prasad|Pankaj Tripathi|Vinay Pathak|Mandira Bedi|Rajesh Sharma|Prakash Belawadi|Ankur Rathee|",
         null,
         "12 April 2019 (India)"
        ],
        [
         "28",
         "Kalank",
         "tt6988116",
         "https://upload.wikimedia.org/wikipedia/en/thumb/8/80/Kalank_Poster.jpg/220px-Kalank_Poster.jpg",
         "https://en.wikipedia.org/wiki/Kalank",
         "Kalank",
         "Kalank",
         "0",
         "2019",
         "166",
         "Drama|Romance",
         "3.6",
         "9106",
         "Set in 1945  in Pre-Independent India  the elite  opulent and solemn world of the Chaudhry family  and the wild  mysterious and musical underbelly of the town  Hira Mandi  clash when Roop Chaudhry encounters Zafar  a daredevil from Hira Mandi  unleashing deep-buried truths  secrets of betrayal and affairs that threaten to bring the both worlds crashing down.",
         "The lives of six enigmatic characters become entangled whilst in search of love  but separated by the dichotomy between the two worlds of Husnabad  a town in North India.",
         null,
         "Varun Dhawan|Alia Bhatt|Aditya Roy Kapoor|Madhuri Dixit|Sonakshi Sinha|Sanjay Dutt|Kunal Khemu|Pawan Chopra|",
         null,
         "17 April 2019 (USA)"
        ],
        [
         "29",
         "Setters (film)",
         "tt9239772",
         "https://upload.wikimedia.org/wikipedia/en/thumb/0/08/Setters_Official_Poster.png/220px-Setters_Official_Poster.png",
         "https://en.wikipedia.org/wiki/Setters_(film)",
         "Setters",
         "Setters",
         "0",
         "2019",
         "126",
         "Thriller",
         "5.1",
         "158",
         "A thriller set in Benares  Jaipur  Mumbai and Delhi  Setters is about a racket profiteering from academic scams. The film follows a cat-and-mouse game between two good friends: one a cop  and the other a \"setter\" who arranges brilliant students in place of weak students to appear in examinations.",
         "A thriller set in Benares  Jaipur  Mumbai and Delhi  Setters is about a racket profiteering from academic scams. The film follows a cat-and-mouse game between two good friends: one a cop  ...                    ",
         null,
         "Shreyas Talpade|Aftab Shivdasani|Sonnalli Seygall|Ishita Dutta|Pavan Malhotra|Vijay Raaz|Manu Rishi Chadha|Anil Charanjeett|Pankaj Jha|Jameel Khan|Niharika Kundu|Tanuka Laghate|Venus Singh|Neeraj Sood|",
         null,
         "3 May 2019 (India)"
        ],
        [
         "30",
         "Student of the Year 2",
         "tt7255568",
         "https://upload.wikimedia.org/wikipedia/en/thumb/3/3c/Student_of_the_year_2_Poster.jpg/220px-Student_of_the_year_2_Poster.jpg",
         "https://en.wikipedia.org/wiki/Student_of_the_Year_2",
         "Student of the Year 2",
         "Student of the Year 2",
         "0",
         "2019",
         "146",
         "Drama|Romance|Sport",
         "2.5",
         "12671",
         "A student must face off against bullies and overcome hurdles  both academic and romantic  to win his college's coveted Student of the Year trophy.",
         "A student must face off against bullies and overcome hurdles  both academic and romantic  to win his college's coveted Student of the Year trophy.",
         null,
         "Tiger Shroff|Ananya Panday|Tara Sutaria|Aditya Seal|Manoj Pahwa|Ayesha Raza|Rajesh Kumar|Manasi Joshi Roy|Samir Soni|Gul Panag|Manjot Singh|Sahil Anand|Harsh Beniwal|Daljeet Singh Gujral|",
         null,
         "10 May 2019 (USA)"
        ],
        [
         "31",
         "PM Narendra Modi",
         "tt9558612",
         "https://upload.wikimedia.org/wikipedia/en/thumb/8/80/PM_Narendra_Modi.jpg/220px-PM_Narendra_Modi.jpg",
         "https://en.wikipedia.org/wiki/PM_Narendra_Modi",
         "PM Narendra Modi",
         "PM Narendra Modi",
         "0",
         "2019",
         "136",
         "Biography|Drama",
         "3.3",
         "4484",
         "Biography of India's Prime Minister Shri Narendra Modi.",
         "Biography of India's Prime Minister Shri Narendra Modi.",
         null,
         "Boman Irani|Vivek Oberoi|Barkha Bisht|Darshan Kumaar|Zarina Wahab|Manoj Joshi|Suresh Oberoi|Prashant Narayanan|Yatin Karyekar|Rajendra Gupta|Anjan Srivastav|Imran Hasnee|Jay Bhatt|Akshat R Saluja|",
         null,
         "24 May 2019 (USA)"
        ],
        [
         "32",
         "De De Pyaar De",
         "tt8647400",
         "https://upload.wikimedia.org/wikipedia/en/thumb/c/c4/De_De_Pyaar_De_Poster.jpg/220px-De_De_Pyaar_De_Poster.jpg",
         "https://en.wikipedia.org/wiki/De_De_Pyaar_De",
         "De De Pyaar De",
         "De De Pyaar De",
         "0",
         "2019",
         "135",
         "Comedy|Romance",
         "6.6",
         "5387",
         "a 50 year old Aashish living London away from his family fro many years He falls in love with a 26 year Ayesha.Thou officially not divorced from his first wife Manju.Aashish wants her permission to get married to Ayesha.Upon reaching his house in India  Ayesha finds that Aashish kids are of the same age as her.Aashish introduces Ayesha as his secretary to his family he also finds that his daughter is about to get married and VK whose become close family friend is trying to woo her Manju.",
         "A 50-year-old single father faces disapproval from his family and his ex-wife when he falls in love with a 26-year-old woman.",
         null,
         "Ajay Devgn|Tabu|Rakul Preet Singh|Jimmy Sheirgill|Alok Nath|Madhumalti Kapoor|Harry Anton|Gergo Baranyi|Sammy John Heaney|Bhavin Bhanushali|Gandharv Dewan|Gulnaaz Khan|Kumud Mishra|Sunny Singh Nijjar|",
         null,
         "17 May 2019 (USA)"
        ],
        [
         "33",
         "India's Most Wanted (film)",
         "tt8484942",
         "https://upload.wikimedia.org/wikipedia/en/a/ae/India%27s_Most_Wanted_poster.jpg",
         "https://en.wikipedia.org/wiki/India%27s_Most_Wanted_(film)",
         "India's Most Wanted",
         "India's Most Wanted",
         "0",
         "2019",
         "123",
         "Action|Thriller",
         "4.4",
         "1449",
         "India's Most Wanted is a Bollywood action thriller film directed by Raj Kumar Gupta and starring Arjun Kapoor. The film is about tracking a terrorist in a secret mission and arresting him without firing bullets. It pays tribute to unsung heroes of our society.",
         "A group of intelligence officers embark on a top secret mission to track down a wanted international criminal.",
         null,
         "Arjun Kapoor|Sudev Nair|Rajesh Sharma|Prasanth|Santilal Mukherjee|",
         null,
         "24 May 2019 (USA)"
        ],
        [
         "34",
         "Yeh Hai India",
         "tt5525846",
         "https://upload.wikimedia.org/wikipedia/en/thumb/d/db/Yeh_Hai_India_Official_Poster.jpg/220px-Yeh_Hai_India_Official_Poster.jpg",
         "https://en.wikipedia.org/wiki/Yeh_Hai_India",
         "Yeh Hai India",
         "Yeh Hai India",
         "0",
         "2017",
         "128",
         "Action|Adventure|Drama",
         "5.7",
         "169",
         "Yeh Hai India  follows the story of a 25 years old NRI  who is born and brought up in U.K and shares the same stereotype views of India  which is known for its vast population  pollution and poverty. However protagonist finds new development in media or probably an 'other side of same coin' of India  which is also known for successful mars mission in first attempt  a nation which proudly holds title 'God of Cricket' for Sachin Tendulkar  who is again an Indian and a nation which is known for its holy generosity with icons like Mother Teresa\".",
         "Yeh Hai India  follows the story of a 25 years old NRI  who is born and brought up in UK. He shares the same stereotypical views about India that most NRIs have and how his perception changes.",
         "A Film for Every Indian",
         "Gavie Chahal|Mohan Agashe|Mohan Joshi|Lom Harsh|",
         "2 wins & 1 nomination",
         "24 May 2019 (India)"
        ],
        [
         "35",
         "Khamoshi (2019 film)",
         "tt8268972",
         "https://upload.wikimedia.org/wikipedia/en/e/ef/Khamoshi_2019.jpg",
         "https://en.wikipedia.org/wiki/Khamoshi_(2019_film)",
         "Khamoshi",
         "Khamoshi",
         "0",
         "2019",
         "96",
         "Horror|Thriller",
         "3.7",
         "153",
         "A remake of an English movie Hush (2016)  where a deaf and mute girl must fight for her life when a killer appears at her door.",
         "A remake of an English movie Hush (2016)  where a deaf and mute girl must fight for her life when a killer appears at her door.",
         null,
         "Prabhu Deva|Tamannaah Bhatia|Bhoomika Chawla|",
         null,
         "14 June 2019 (India)"
        ],
        [
         "36",
         "Kabir Singh",
         "tt8983202",
         "https://upload.wikimedia.org/wikipedia/en/thumb/d/dc/Kabir_Singh.jpg/220px-Kabir_Singh.jpg",
         "https://en.wikipedia.org/wiki/Kabir_Singh",
         "Kabir Singh",
         "Kabir Singh",
         "0",
         "2019",
         "173",
         "Drama|Romance",
         "7.2",
         "20535",
         "This Sandeep Vanga directorial is a remake of the 2017 Telugu movie Arjun Reddy. The plot revolves around an alcoholic surgeon battling temper issues. Things get worse as he watches the love of his life marry another man. High on emotions coupled with impressive action the film promises an intense watch.",
         "Kabir Singh is a remake of a Telugu movie Arjun Reddy (2017)  where a short-tempered house surgeon gets used to drugs and drinks when his girlfriend is forced to marry another person.",
         null,
         "Shahid Kapoor|Kiara Advani|Soham Majumdar|Arjan Bajwa|Suresh Oberoi|Kamini Kaushal|Adil Hussain|Nikita Dutta|Amit Sharma|Anurag Arora|Dolly Mattoo|Aanchal Chauhan|Suparna Marwah|Swati Seth|",
         null,
         "20 June 2019 (USA)"
        ],
        [
         "37",
         "Article 15 (film)",
         "tt10324144",
         "https://upload.wikimedia.org/wikipedia/en/thumb/1/11/Article_15_Poster.jpg/220px-Article_15_Poster.jpg",
         "https://en.wikipedia.org/wiki/Article_15_(film)",
         "Article 15",
         "Article 15",
         "0",
         "2019",
         "130",
         "Crime|Drama",
         "8.3",
         "13417",
         "In the rural heartlands of India  an upright police officer sets out on a crusade against violent caste-based crimes and discrimination.",
         "In the rural heartlands of India  an upright police officer sets out on a crusade against violent caste-based crimes and discrimination.",
         "Farq Bahut Kar Liya| Ab Farq Laayenge.",
         "Ayushmann Khurrana|Nassar|Manoj Pahwa|Kumud Mishra|Isha Talwar|Sayani Gupta|Mohammed Zeeshan Ayyub|Subhrajyoti Barat|Sushil Pandey|Aakash Dabhade|Ashish Verma|Ronjini Chakraborty|Veen|Sumbul Touqueer|",
         "1 win",
         "28 June 2019 (USA)"
        ],
        [
         "38",
         "One Day: Justice Delivered",
         "tt8130558",
         "https://upload.wikimedia.org/wikipedia/en/f/f7/One_Day-_Justice_Delivered.jpg",
         "https://en.wikipedia.org/wiki/One_Day:_Justice_Delivered",
         "One Day: Justice Delivered",
         "One Day: Justice Delivered",
         "0",
         "2019",
         "124",
         "Action|Crime|Thriller",
         "6.8",
         "590",
         "A Crime Branch Special Officer Investigates the Serial disappearance of high profile individuals in a state capital.",
         "A Crime Branch Special Officer Investigates the Serial disappearance of high profile individuals in a state capital.",
         null,
         "Anupam Kher|Kumud Mishra|Esha Gupta|Zakir Hussain|Rajesh Sharma|Murli Sharma|Deepshika Nagpal|",
         null,
         "5 July 2019 (India)"
        ],
        [
         "39",
         "Hume Tumse Pyaar Kitna",
         "tt6862542",
         "https://upload.wikimedia.org/wikipedia/en/thumb/2/2c/Hume_Tumse_Pyaar_Kitna.jpg/220px-Hume_Tumse_Pyaar_Kitna.jpg",
         "https://en.wikipedia.org/wiki/Hume_Tumse_Pyaar_Kitna",
         "Hume Tumse Pyaar Kitna",
         "Hume Tumse Pyaar Kitna",
         "0",
         "2019",
         "91",
         "Action|Drama|Romance",
         "7.4",
         "85",
         "It is about limerence of Dhruv (played by Bohra) resulting from an obsessive attraction to Ananya (played by Banerjee).",
         "It is about limerence of Dhruv (played by Bohra) resulting from an obsessive attraction to Ananya (played by Banerjee).",
         null,
         "Karanvir Bohra|Priya Banerjee|",
         null,
         "5 July 2019 (India)"
        ],
        [
         "40",
         "Super 30 (film)",
         "tt7485048",
         "https://upload.wikimedia.org/wikipedia/en/thumb/2/29/Super_30_The_Film.jpg/220px-Super_30_The_Film.jpg",
         "https://en.wikipedia.org/wiki/Super_30_(film)",
         "Super 30",
         "Super 30",
         "0",
         "2019",
         "154",
         "Biography|Drama",
         "8.2",
         "13972",
         "Anand Kumar  a Mathematics genius from a modest family in Bihar who is made to believe that only a King's son can become a king is on a mission to prove that even the poor man can create some of the world's most genius minds. He starts a training program named 'Super 30' to help 30 IIT aspirants crack the entrance test and make them highly successful professionals.",
         "Based on life of Patna-based mathematician Anand Kumar who runs the famed Super 30 program for IIT aspirants in Patna.",
         "Inspired by the Life of Anand Kumar & His Students",
         "Hrithik Roshan|Mrunal Thakur|Nandish Singh|Virendra Saxena|Sadhana Singh|Aditya Srivastava|Sanket Deshpande|Pankaj Tripathi|Vaibhav Gupta|Ali Haji|Rajesh Sharma|Deepali Kumar|Chittaranjan Giri|Ganesh Kumar|",
         null,
         "12 July 2019 (USA)"
        ],
        [
         "41",
         "Family of Thakurganj",
         "tt8897986",
         "https://upload.wikimedia.org/wikipedia/en/9/99/Family_of_Thakurganj.jpg",
         "https://en.wikipedia.org/wiki/Family_of_Thakurganj",
         "Family of Thakurganj",
         "Family of Thakurganj",
         "0",
         "2019",
         "127",
         "Action|Drama",
         "9.4",
         "895",
         "The film is based on small town of North India. Film's story is about confrontation of love and thoughts. Along with entertainment.",
         "The film is based on small town of North India. Film's story is about confrontation of love and thoughts. Along with entertainment.",
         null,
         "Jimmy Sheirgill|Mahie Gill|Nandish Singh|Pranati Rai Prakash|Saurabh Shukla|Sudhir Pandey|Supriya Pilgaonkar|Pavan Malhotra|Yashpal Sharma|Mukesh Tiwari|Raj Zutshi|Salil Acharya|Shivika Rishi|Lokesh Tilakdhari|",
         null,
         "19 July 2019 (India)"
        ],
        [
         "42",
         "Batla House",
         "tt8869978",
         "https://upload.wikimedia.org/wikipedia/en/e/ed/Batla_House_poster.jpg",
         "https://en.wikipedia.org/wiki/Batla_House",
         "Batla House",
         "Batla House",
         "0",
         "2019",
         "146",
         "Action|Drama|Thriller",
         "7.3",
         "5556",
         "This action thriller is based on the real-life incident of 'Batla House Encounter'  officially known as Operation Batla House  to the silver screen. The incident took place on September 19  2008  against Indian Mujahideen (IM) terrorists in Batla House locality in Jamia Nagar  Delhi.",
         "After a deadly encounter  a police officer works to prove that the police acted lawfully.",
         "The Story of India's Most Decorated / Controversial Cop",
         "John Abraham|Nora Fatehi|Mrunal Thakur|Rajesh Sharma|Ravi Kishan|Sonam Arora|Sahidur Rahaman|Manish Chaudhary|Anil Rastogi|Kranti Prakash Jha|Amruta Sant|Anil Khopkar|Aditi Gulati|Jitendra Trehan|",
         null,
         "15 August 2019 (USA)"
        ],
        [
         "43",
         "Jhootha Kahin Ka",
         "tt8206760",
         "https://upload.wikimedia.org/wikipedia/en/a/a6/Jhootha_Kahin_Ka_Poster.jpg",
         "https://en.wikipedia.org/wiki/Jhootha_Kahin_Ka",
         "Jhootha Kahin Ka",
         "Jhootha Kahin Ka",
         "0",
         "2019",
         "133",
         "Comedy",
         "4.8",
         "215",
         "Two boys go to Mauritius to study and love it so much there  that they are reluctant to return home. Rishi plays Omkar's dad who turns up from the village to surprise him and is in turn surprised by his son's lifestyle.",
         "Two boys go to Mauritius to study and love it so much there  that they are reluctant to return home. Rishi plays Omkar's dad who turns up from the village to surprise him and is in turn surprised by his son's lifestyle.",
         null,
         "Rishi Kapoor|Jimmy Sheirgill|Sunny Singh Nijjar|Omkar Kapoor|Nimisha Mehta|Rucha Vaidya|Manoj Joshi|Lillete Dubey|Rajesh Sharma|Gurbachan Singh|Rakesh Bedi|Neelu Kohli|Shobha Singh|Sunny Leone|",
         null,
         "19 July 2019 (India)"
        ],
        [
         "44",
         "Judgementall Hai Kya",
         "tt8108196",
         "https://upload.wikimedia.org/wikipedia/en/c/c8/Judgementall_Hai_Kya_poster.jpg",
         "https://en.wikipedia.org/wiki/Judgementall_Hai_Kya",
         "Judgementall Hai Kya",
         "Judgementall Hai Kya",
         "0",
         "2019",
         "121",
         "Comedy|Drama|Thriller",
         "6.0",
         "3269",
         "Following the story of two quirky individuals whose lives pivot between reality and illusions.",
         "Following the story of two quirky individuals whose lives pivot between reality and illusions.",
         null,
         "Kangana Ranaut|Rajkummar Rao|Amyra Dastur|Amrita Puri|Jimmy Sheirgill|",
         null,
         "26 July 2019 (USA)"
        ],
        [
         "45",
         "Chicken Curry Law",
         "tt7189494",
         "https://upload.wikimedia.org/wikipedia/en/thumb/4/4d/Chicken_Curry_Law_Poster.jpg/220px-Chicken_Curry_Law_Poster.jpg",
         "https://en.wikipedia.org/wiki/Chicken_Curry_Law",
         "Chicken Curry Law",
         "Chicken Curry Law",
         "0",
         "2019",
         "127",
         "Drama",
         "6.0",
         "19",
         "Maya a foreigner who comes to India for her career gets kidnapped and raped by two politically influential men Makiya and Nana. She is left on the streets of Mumbai half naked by them. She is helped by Satya Deshmukh  a local social activist. Satya Deshmukh helps Maya find Sitapati Shukla who fights her case in the court against the political goons. But in every step  Maya is proven wrong and her behaviour is blamed for being raped. With all the drama unfolding  Sitapati tries to find the proof against Makiya and Nana. With an interesting and unexpected climax  will Maya get justice? Ashutosh Rana  Nivedita Bhattacharya  Makarand Deshpande  Zakir Hussain  Aman Verma  and Polish actress  Nataliya Janoszek star in this tale to shatter stereotypical assumptions faced by foreign women in India and upholds our cultural tradition of Atithi Devo Bhava.",
         "An ambitious and innocent girl falls prey to the power of money and politics.",
         null,
         "Natalia Janoszek|Ashutosh Rana|Makrand Deshpande|Nivedita Bhattacharya|Mukesh Hariawala|Zakir Hussain|Aman Verma|",
         null,
         "9 August 2019 (India)"
        ],
        [
         "46",
         "Arjun Patiala",
         "tt7881524",
         "https://upload.wikimedia.org/wikipedia/en/thumb/8/83/Arjun_Patiala_poster.jpg/220px-Arjun_Patiala_poster.jpg",
         "https://en.wikipedia.org/wiki/Arjun_Patiala",
         "Arjun Patiala",
         "Arjun Patiala",
         "0",
         "2019",
         "107",
         "Action|Comedy",
         "4.1",
         "676",
         "Arjun Patiala(Diljit Dosanjh)has recently been initiated into the police service. A man who has spend most of his early life disciplining himself in Judo and getting into the forces now decides its time to take it easy. He's introduced to his loyal \"chita munshi\" who soon turns into a confidant- Onida Singh. ( Varun Sharma) We quickly realise Arjun Patiala's quirks - That he is fond of women  and even fonder of his drink. But his quirky  original and unusual ideas help him reduce the crime rate in the city without even moving a finger. Along the way Arjun falls in love with a firebrand news reporter - Ritu Randhawa (Kriti Sanon) who might pull the curtain on his deeds. A laugh riot film  Arjun Patiala will leave you in splits.These unforgettable characters are definitely here to stay.",
         "This spoof comedy narrates the story of a cop Arjun Patiala (Diljit Dosanjh) and his sidekick Onidda Singh (Varun Sharma). Together  will they be able to accomplish their mission of a crime-free town with their goofy style of policing?",
         null,
         "Diljit Dosanjh|Kriti Sanon|Varun Sharma|Ronit Roy|Seema Bhargava|Mohammed Zeeshan Ayyub|Amit Mehra|",
         null,
         "26 July 2019 (USA)"
        ],
        [
         "47",
         "Jabariya Jodi",
         "tt8785426",
         "https://upload.wikimedia.org/wikipedia/en/9/97/Jabariya_Jodi_poster.jpg",
         "https://en.wikipedia.org/wiki/Jabariya_Jodi",
         "Jabariya Jodi",
         "Jabariya Jodi",
         "0",
         "2019",
         "125",
         "Action|Comedy|Drama",
         "4.2",
         "767",
         "A thug helps kidnap grooms in order to avoid paying out dowries for their upcoming marriage.",
         "A thug helps kidnap grooms in order to avoid paying out dowries for their upcoming marriage.",
         null,
         "Sidharth Malhotra|Parineeti Chopra|Javed Jaffrey|Sanjay Mishra|Aparshakti Khurana|",
         null,
         "9 August 2019 (USA)"
        ],
        [
         "48",
         "Pranaam",
         "tt7228072",
         "https://upload.wikimedia.org/wikipedia/en/thumb/0/09/Pranaam_poster.jpg/220px-Pranaam_poster.jpg",
         "https://en.wikipedia.org/wiki/Pranaam",
         "Pranaam",
         "Pranaam",
         "0",
         "2019",
         "\\N",
         "Action|Crime|Drama",
         "7.0",
         "43",
         "A peon's son who is an aspiring IAS officer is compelled to change his path leading him to turn into a gangster.",
         "A peon's son who is an aspiring IAS officer is compelled to change his path leading him to turn into a gangster.",
         null,
         "Rajeev Khandelwal|Atul Kulkarni|Abhimanyu Singh|Sameksha|Vikram Gokhale|Aniruddh Dave|Apoorva Arora|S.M. Zaheer|",
         null,
         null
        ],
        [
         "49",
         "The Sky Is Pink",
         "tt8902990",
         "https://upload.wikimedia.org/wikipedia/en/thumb/9/93/The_Sky_Is_Pink.jpg/220px-The_Sky_Is_Pink.jpg",
         "https://en.wikipedia.org/wiki/The_Sky_Is_Pink",
         "The Sky Is Pink",
         "The Sky Is Pink",
         "0",
         "2019",
         "143",
         "Drama|Family|Romance",
         "6.6",
         "1659",
         "The Sky Is Pink is the incredible love story of a couple spanning 25 years  told through the lens of their teenage daughter. She is sassy  sardonic  spunky and also...dead. A fact she nonchalantly mentions at the very outset. \"Get over it. It's quite cool actually. You'll see when you get here (which you do know you will right?!)\" Unexpectedly humorous  warm and heart wrenching all at once as the magic of life and beauty of death manifest in one family's unusual  courageous journey in this 100% true story.",
         "It is based on the love story of a couple spanning 25 years  told through the lens of their spunky teenage daughter Aisha Chaudhary  who was diagnosed with a Pulmonary fibrosis .",
         "Har Ek Ka Apna Sky Hota Hain",
         "Zaira Wasim|Priyanka Chopra|Farhan Akhtar|Rohit Saraf|",
         null,
         "11 October 2019 (USA)"
        ]
       ],
       "shape": {
        "columns": 18,
        "rows": 1629
       }
      },
      "text/html": [
       "<div>\n",
       "<style scoped>\n",
       "    .dataframe tbody tr th:only-of-type {\n",
       "        vertical-align: middle;\n",
       "    }\n",
       "\n",
       "    .dataframe tbody tr th {\n",
       "        vertical-align: top;\n",
       "    }\n",
       "\n",
       "    .dataframe thead th {\n",
       "        text-align: right;\n",
       "    }\n",
       "</style>\n",
       "<table border=\"1\" class=\"dataframe\">\n",
       "  <thead>\n",
       "    <tr style=\"text-align: right;\">\n",
       "      <th></th>\n",
       "      <th>title_x</th>\n",
       "      <th>imdb_id</th>\n",
       "      <th>poster_path</th>\n",
       "      <th>wiki_link</th>\n",
       "      <th>title_y</th>\n",
       "      <th>original_title</th>\n",
       "      <th>is_adult</th>\n",
       "      <th>year_of_release</th>\n",
       "      <th>runtime</th>\n",
       "      <th>genres</th>\n",
       "      <th>imdb_rating</th>\n",
       "      <th>imdb_votes</th>\n",
       "      <th>story</th>\n",
       "      <th>summary</th>\n",
       "      <th>tagline</th>\n",
       "      <th>actors</th>\n",
       "      <th>wins_nominations</th>\n",
       "      <th>release_date</th>\n",
       "    </tr>\n",
       "  </thead>\n",
       "  <tbody>\n",
       "    <tr>\n",
       "      <th>0</th>\n",
       "      <td>Uri: The Surgical Strike</td>\n",
       "      <td>tt8291224</td>\n",
       "      <td>https://upload.wikimedia.org/wikipedia/en/thum...</td>\n",
       "      <td>https://en.wikipedia.org/wiki/Uri:_The_Surgica...</td>\n",
       "      <td>Uri: The Surgical Strike</td>\n",
       "      <td>Uri: The Surgical Strike</td>\n",
       "      <td>0</td>\n",
       "      <td>2019</td>\n",
       "      <td>138</td>\n",
       "      <td>Action|Drama|War</td>\n",
       "      <td>8.4</td>\n",
       "      <td>35112</td>\n",
       "      <td>Divided over five chapters  the film chronicle...</td>\n",
       "      <td>Indian army special forces execute a covert op...</td>\n",
       "      <td>NaN</td>\n",
       "      <td>Vicky Kaushal|Paresh Rawal|Mohit Raina|Yami Ga...</td>\n",
       "      <td>4 wins</td>\n",
       "      <td>11 January 2019 (USA)</td>\n",
       "    </tr>\n",
       "    <tr>\n",
       "      <th>1</th>\n",
       "      <td>Battalion 609</td>\n",
       "      <td>tt9472208</td>\n",
       "      <td>NaN</td>\n",
       "      <td>https://en.wikipedia.org/wiki/Battalion_609</td>\n",
       "      <td>Battalion 609</td>\n",
       "      <td>Battalion 609</td>\n",
       "      <td>0</td>\n",
       "      <td>2019</td>\n",
       "      <td>131</td>\n",
       "      <td>War</td>\n",
       "      <td>4.1</td>\n",
       "      <td>73</td>\n",
       "      <td>The story revolves around a cricket match betw...</td>\n",
       "      <td>The story of Battalion 609 revolves around a c...</td>\n",
       "      <td>NaN</td>\n",
       "      <td>Vicky Ahuja|Shoaib Ibrahim|Shrikant Kamat|Elen...</td>\n",
       "      <td>NaN</td>\n",
       "      <td>11 January 2019 (India)</td>\n",
       "    </tr>\n",
       "    <tr>\n",
       "      <th>2</th>\n",
       "      <td>The Accidental Prime Minister (film)</td>\n",
       "      <td>tt6986710</td>\n",
       "      <td>https://upload.wikimedia.org/wikipedia/en/thum...</td>\n",
       "      <td>https://en.wikipedia.org/wiki/The_Accidental_P...</td>\n",
       "      <td>The Accidental Prime Minister</td>\n",
       "      <td>The Accidental Prime Minister</td>\n",
       "      <td>0</td>\n",
       "      <td>2019</td>\n",
       "      <td>112</td>\n",
       "      <td>Biography|Drama</td>\n",
       "      <td>6.1</td>\n",
       "      <td>5549</td>\n",
       "      <td>Based on the memoir by Indian policy analyst S...</td>\n",
       "      <td>Explores Manmohan Singh's tenure as the Prime ...</td>\n",
       "      <td>NaN</td>\n",
       "      <td>Anupam Kher|Akshaye Khanna|Aahana Kumra|Atul S...</td>\n",
       "      <td>NaN</td>\n",
       "      <td>11 January 2019 (USA)</td>\n",
       "    </tr>\n",
       "    <tr>\n",
       "      <th>3</th>\n",
       "      <td>Why Cheat India</td>\n",
       "      <td>tt8108208</td>\n",
       "      <td>https://upload.wikimedia.org/wikipedia/en/thum...</td>\n",
       "      <td>https://en.wikipedia.org/wiki/Why_Cheat_India</td>\n",
       "      <td>Why Cheat India</td>\n",
       "      <td>Why Cheat India</td>\n",
       "      <td>0</td>\n",
       "      <td>2019</td>\n",
       "      <td>121</td>\n",
       "      <td>Crime|Drama</td>\n",
       "      <td>6.0</td>\n",
       "      <td>1891</td>\n",
       "      <td>The movie focuses on existing malpractices in ...</td>\n",
       "      <td>The movie focuses on existing malpractices in ...</td>\n",
       "      <td>NaN</td>\n",
       "      <td>Emraan Hashmi|Shreya Dhanwanthary|Snighdadeep ...</td>\n",
       "      <td>NaN</td>\n",
       "      <td>18 January 2019 (USA)</td>\n",
       "    </tr>\n",
       "    <tr>\n",
       "      <th>4</th>\n",
       "      <td>Evening Shadows</td>\n",
       "      <td>tt6028796</td>\n",
       "      <td>NaN</td>\n",
       "      <td>https://en.wikipedia.org/wiki/Evening_Shadows</td>\n",
       "      <td>Evening Shadows</td>\n",
       "      <td>Evening Shadows</td>\n",
       "      <td>0</td>\n",
       "      <td>2018</td>\n",
       "      <td>102</td>\n",
       "      <td>Drama</td>\n",
       "      <td>7.3</td>\n",
       "      <td>280</td>\n",
       "      <td>While gay rights and marriage equality has bee...</td>\n",
       "      <td>Under the 'Evening Shadows'  truth often plays...</td>\n",
       "      <td>NaN</td>\n",
       "      <td>Mona Ambegaonkar|Ananth Narayan Mahadevan|Deva...</td>\n",
       "      <td>17 wins &amp; 1 nomination</td>\n",
       "      <td>11 January 2019 (India)</td>\n",
       "    </tr>\n",
       "    <tr>\n",
       "      <th>...</th>\n",
       "      <td>...</td>\n",
       "      <td>...</td>\n",
       "      <td>...</td>\n",
       "      <td>...</td>\n",
       "      <td>...</td>\n",
       "      <td>...</td>\n",
       "      <td>...</td>\n",
       "      <td>...</td>\n",
       "      <td>...</td>\n",
       "      <td>...</td>\n",
       "      <td>...</td>\n",
       "      <td>...</td>\n",
       "      <td>...</td>\n",
       "      <td>...</td>\n",
       "      <td>...</td>\n",
       "      <td>...</td>\n",
       "      <td>...</td>\n",
       "      <td>...</td>\n",
       "    </tr>\n",
       "    <tr>\n",
       "      <th>1624</th>\n",
       "      <td>Tera Mera Saath Rahen</td>\n",
       "      <td>tt0301250</td>\n",
       "      <td>https://upload.wikimedia.org/wikipedia/en/2/2b...</td>\n",
       "      <td>https://en.wikipedia.org/wiki/Tera_Mera_Saath_...</td>\n",
       "      <td>Tera Mera Saath Rahen</td>\n",
       "      <td>Tera Mera Saath Rahen</td>\n",
       "      <td>0</td>\n",
       "      <td>2001</td>\n",
       "      <td>148</td>\n",
       "      <td>Drama</td>\n",
       "      <td>4.9</td>\n",
       "      <td>278</td>\n",
       "      <td>Raj Dixit lives with his younger brother  Rahu...</td>\n",
       "      <td>A man is torn between his handicapped brother ...</td>\n",
       "      <td>NaN</td>\n",
       "      <td>Ajay Devgn|Sonali Bendre|Namrata Shirodkar|Pre...</td>\n",
       "      <td>NaN</td>\n",
       "      <td>7 November 2001 (India)</td>\n",
       "    </tr>\n",
       "    <tr>\n",
       "      <th>1625</th>\n",
       "      <td>Yeh Zindagi Ka Safar</td>\n",
       "      <td>tt0298607</td>\n",
       "      <td>https://upload.wikimedia.org/wikipedia/en/thum...</td>\n",
       "      <td>https://en.wikipedia.org/wiki/Yeh_Zindagi_Ka_S...</td>\n",
       "      <td>Yeh Zindagi Ka Safar</td>\n",
       "      <td>Yeh Zindagi Ka Safar</td>\n",
       "      <td>0</td>\n",
       "      <td>2001</td>\n",
       "      <td>146</td>\n",
       "      <td>Drama</td>\n",
       "      <td>3.0</td>\n",
       "      <td>133</td>\n",
       "      <td>Hindi pop-star  Sarina Devan  lives a wealthy ...</td>\n",
       "      <td>A singer finds out she was adopted when the ed...</td>\n",
       "      <td>NaN</td>\n",
       "      <td>Ameesha Patel|Jimmy Sheirgill|Nafisa Ali|Gulsh...</td>\n",
       "      <td>NaN</td>\n",
       "      <td>16 November 2001 (India)</td>\n",
       "    </tr>\n",
       "    <tr>\n",
       "      <th>1626</th>\n",
       "      <td>Sabse Bada Sukh</td>\n",
       "      <td>tt0069204</td>\n",
       "      <td>NaN</td>\n",
       "      <td>https://en.wikipedia.org/wiki/Sabse_Bada_Sukh</td>\n",
       "      <td>Sabse Bada Sukh</td>\n",
       "      <td>Sabse Bada Sukh</td>\n",
       "      <td>0</td>\n",
       "      <td>2018</td>\n",
       "      <td>\\N</td>\n",
       "      <td>Comedy|Drama</td>\n",
       "      <td>6.1</td>\n",
       "      <td>13</td>\n",
       "      <td>Village born Lalloo re-locates to Bombay  and ...</td>\n",
       "      <td>Village born Lalloo re-locates to Bombay  and ...</td>\n",
       "      <td>NaN</td>\n",
       "      <td>Vijay Arora|Asrani|Rajni Bala|Kumud Damle|Utpa...</td>\n",
       "      <td>NaN</td>\n",
       "      <td>NaN</td>\n",
       "    </tr>\n",
       "    <tr>\n",
       "      <th>1627</th>\n",
       "      <td>Daaka</td>\n",
       "      <td>tt10833860</td>\n",
       "      <td>https://upload.wikimedia.org/wikipedia/en/thum...</td>\n",
       "      <td>https://en.wikipedia.org/wiki/Daaka</td>\n",
       "      <td>Daaka</td>\n",
       "      <td>Daaka</td>\n",
       "      <td>0</td>\n",
       "      <td>2019</td>\n",
       "      <td>136</td>\n",
       "      <td>Action</td>\n",
       "      <td>7.4</td>\n",
       "      <td>38</td>\n",
       "      <td>Shinda tries robbing a bank so he can be wealt...</td>\n",
       "      <td>Shinda tries robbing a bank so he can be wealt...</td>\n",
       "      <td>NaN</td>\n",
       "      <td>Gippy Grewal|Zareen Khan|</td>\n",
       "      <td>NaN</td>\n",
       "      <td>1 November 2019 (USA)</td>\n",
       "    </tr>\n",
       "    <tr>\n",
       "      <th>1628</th>\n",
       "      <td>Humsafar</td>\n",
       "      <td>tt2403201</td>\n",
       "      <td>https://upload.wikimedia.org/wikipedia/en/thum...</td>\n",
       "      <td>https://en.wikipedia.org/wiki/Humsafar</td>\n",
       "      <td>Humsafar</td>\n",
       "      <td>Humsafar</td>\n",
       "      <td>0</td>\n",
       "      <td>2011</td>\n",
       "      <td>35</td>\n",
       "      <td>Drama|Romance</td>\n",
       "      <td>9.0</td>\n",
       "      <td>2968</td>\n",
       "      <td>Sara and Ashar are childhood friends who share...</td>\n",
       "      <td>Ashar and Khirad are forced to get married due...</td>\n",
       "      <td>NaN</td>\n",
       "      <td>Fawad Khan|</td>\n",
       "      <td>NaN</td>\n",
       "      <td>TV Series (2011–2012)</td>\n",
       "    </tr>\n",
       "  </tbody>\n",
       "</table>\n",
       "<p>1629 rows × 18 columns</p>\n",
       "</div>"
      ],
      "text/plain": [
       "                                   title_x     imdb_id  \\\n",
       "0                 Uri: The Surgical Strike   tt8291224   \n",
       "1                            Battalion 609   tt9472208   \n",
       "2     The Accidental Prime Minister (film)   tt6986710   \n",
       "3                          Why Cheat India   tt8108208   \n",
       "4                          Evening Shadows   tt6028796   \n",
       "...                                    ...         ...   \n",
       "1624                 Tera Mera Saath Rahen   tt0301250   \n",
       "1625                  Yeh Zindagi Ka Safar   tt0298607   \n",
       "1626                       Sabse Bada Sukh   tt0069204   \n",
       "1627                                 Daaka  tt10833860   \n",
       "1628                              Humsafar   tt2403201   \n",
       "\n",
       "                                            poster_path  \\\n",
       "0     https://upload.wikimedia.org/wikipedia/en/thum...   \n",
       "1                                                   NaN   \n",
       "2     https://upload.wikimedia.org/wikipedia/en/thum...   \n",
       "3     https://upload.wikimedia.org/wikipedia/en/thum...   \n",
       "4                                                   NaN   \n",
       "...                                                 ...   \n",
       "1624  https://upload.wikimedia.org/wikipedia/en/2/2b...   \n",
       "1625  https://upload.wikimedia.org/wikipedia/en/thum...   \n",
       "1626                                                NaN   \n",
       "1627  https://upload.wikimedia.org/wikipedia/en/thum...   \n",
       "1628  https://upload.wikimedia.org/wikipedia/en/thum...   \n",
       "\n",
       "                                              wiki_link  \\\n",
       "0     https://en.wikipedia.org/wiki/Uri:_The_Surgica...   \n",
       "1           https://en.wikipedia.org/wiki/Battalion_609   \n",
       "2     https://en.wikipedia.org/wiki/The_Accidental_P...   \n",
       "3         https://en.wikipedia.org/wiki/Why_Cheat_India   \n",
       "4         https://en.wikipedia.org/wiki/Evening_Shadows   \n",
       "...                                                 ...   \n",
       "1624  https://en.wikipedia.org/wiki/Tera_Mera_Saath_...   \n",
       "1625  https://en.wikipedia.org/wiki/Yeh_Zindagi_Ka_S...   \n",
       "1626      https://en.wikipedia.org/wiki/Sabse_Bada_Sukh   \n",
       "1627                https://en.wikipedia.org/wiki/Daaka   \n",
       "1628             https://en.wikipedia.org/wiki/Humsafar   \n",
       "\n",
       "                            title_y                 original_title  is_adult  \\\n",
       "0          Uri: The Surgical Strike       Uri: The Surgical Strike         0   \n",
       "1                     Battalion 609                  Battalion 609         0   \n",
       "2     The Accidental Prime Minister  The Accidental Prime Minister         0   \n",
       "3                   Why Cheat India                Why Cheat India         0   \n",
       "4                   Evening Shadows                Evening Shadows         0   \n",
       "...                             ...                            ...       ...   \n",
       "1624          Tera Mera Saath Rahen          Tera Mera Saath Rahen         0   \n",
       "1625           Yeh Zindagi Ka Safar           Yeh Zindagi Ka Safar         0   \n",
       "1626                Sabse Bada Sukh                Sabse Bada Sukh         0   \n",
       "1627                          Daaka                          Daaka         0   \n",
       "1628                       Humsafar                       Humsafar         0   \n",
       "\n",
       "      year_of_release runtime            genres  imdb_rating  imdb_votes  \\\n",
       "0                2019     138  Action|Drama|War          8.4       35112   \n",
       "1                2019     131               War          4.1          73   \n",
       "2                2019     112   Biography|Drama          6.1        5549   \n",
       "3                2019     121       Crime|Drama          6.0        1891   \n",
       "4                2018     102             Drama          7.3         280   \n",
       "...               ...     ...               ...          ...         ...   \n",
       "1624             2001     148             Drama          4.9         278   \n",
       "1625             2001     146             Drama          3.0         133   \n",
       "1626             2018      \\N      Comedy|Drama          6.1          13   \n",
       "1627             2019     136            Action          7.4          38   \n",
       "1628             2011      35     Drama|Romance          9.0        2968   \n",
       "\n",
       "                                                  story  \\\n",
       "0     Divided over five chapters  the film chronicle...   \n",
       "1     The story revolves around a cricket match betw...   \n",
       "2     Based on the memoir by Indian policy analyst S...   \n",
       "3     The movie focuses on existing malpractices in ...   \n",
       "4     While gay rights and marriage equality has bee...   \n",
       "...                                                 ...   \n",
       "1624  Raj Dixit lives with his younger brother  Rahu...   \n",
       "1625  Hindi pop-star  Sarina Devan  lives a wealthy ...   \n",
       "1626  Village born Lalloo re-locates to Bombay  and ...   \n",
       "1627  Shinda tries robbing a bank so he can be wealt...   \n",
       "1628  Sara and Ashar are childhood friends who share...   \n",
       "\n",
       "                                                summary tagline  \\\n",
       "0     Indian army special forces execute a covert op...     NaN   \n",
       "1     The story of Battalion 609 revolves around a c...     NaN   \n",
       "2     Explores Manmohan Singh's tenure as the Prime ...     NaN   \n",
       "3     The movie focuses on existing malpractices in ...     NaN   \n",
       "4     Under the 'Evening Shadows'  truth often plays...     NaN   \n",
       "...                                                 ...     ...   \n",
       "1624  A man is torn between his handicapped brother ...     NaN   \n",
       "1625  A singer finds out she was adopted when the ed...     NaN   \n",
       "1626  Village born Lalloo re-locates to Bombay  and ...     NaN   \n",
       "1627  Shinda tries robbing a bank so he can be wealt...     NaN   \n",
       "1628  Ashar and Khirad are forced to get married due...     NaN   \n",
       "\n",
       "                                                 actors  \\\n",
       "0     Vicky Kaushal|Paresh Rawal|Mohit Raina|Yami Ga...   \n",
       "1     Vicky Ahuja|Shoaib Ibrahim|Shrikant Kamat|Elen...   \n",
       "2     Anupam Kher|Akshaye Khanna|Aahana Kumra|Atul S...   \n",
       "3     Emraan Hashmi|Shreya Dhanwanthary|Snighdadeep ...   \n",
       "4     Mona Ambegaonkar|Ananth Narayan Mahadevan|Deva...   \n",
       "...                                                 ...   \n",
       "1624  Ajay Devgn|Sonali Bendre|Namrata Shirodkar|Pre...   \n",
       "1625  Ameesha Patel|Jimmy Sheirgill|Nafisa Ali|Gulsh...   \n",
       "1626  Vijay Arora|Asrani|Rajni Bala|Kumud Damle|Utpa...   \n",
       "1627                          Gippy Grewal|Zareen Khan|   \n",
       "1628                                        Fawad Khan|   \n",
       "\n",
       "            wins_nominations              release_date  \n",
       "0                     4 wins     11 January 2019 (USA)  \n",
       "1                        NaN   11 January 2019 (India)  \n",
       "2                        NaN     11 January 2019 (USA)  \n",
       "3                        NaN     18 January 2019 (USA)  \n",
       "4     17 wins & 1 nomination   11 January 2019 (India)  \n",
       "...                      ...                       ...  \n",
       "1624                     NaN   7 November 2001 (India)  \n",
       "1625                     NaN  16 November 2001 (India)  \n",
       "1626                     NaN                       NaN  \n",
       "1627                     NaN     1 November 2019 (USA)  \n",
       "1628                     NaN     TV Series (2011–2012)  \n",
       "\n",
       "[1629 rows x 18 columns]"
      ]
     },
     "execution_count": 32,
     "metadata": {},
     "output_type": "execute_result"
    }
   ],
   "source": [
    "movies.rename(index={'Uri: The Surgical Strike':'Uri','Battalion 609':'Battalion'})"
   ]
  },
  {
   "cell_type": "markdown",
   "metadata": {},
   "source": [
    "#### unique(series)"
   ]
  },
  {
   "cell_type": "code",
   "execution_count": 33,
   "metadata": {},
   "outputs": [
    {
     "name": "stdout",
     "output_type": "stream",
     "text": [
      "0     1.0\n",
      "1     1.0\n",
      "2     2.0\n",
      "3     2.0\n",
      "4     3.0\n",
      "5     3.0\n",
      "6     4.0\n",
      "7     4.0\n",
      "8     5.0\n",
      "9     5.0\n",
      "10    NaN\n",
      "11    NaN\n",
      "dtype: float64\n"
     ]
    },
    {
     "data": {
      "text/plain": [
       "5"
      ]
     },
     "execution_count": 33,
     "metadata": {},
     "output_type": "execute_result"
    }
   ],
   "source": [
    "temp = pd.Series([1,1,2,2,3,3,4,4,5,5,np.nan,np.nan])\n",
    "print(temp)\n",
    "temp.nunique()"
   ]
  },
  {
   "cell_type": "markdown",
   "metadata": {},
   "source": [
    "#### Handling missing values"
   ]
  },
  {
   "cell_type": "code",
   "execution_count": 34,
   "metadata": {},
   "outputs": [
    {
     "data": {
      "application/vnd.microsoft.datawrangler.viewer.v0+json": {
       "columns": [
        {
         "name": "index",
         "rawType": "int64",
         "type": "integer"
        },
        {
         "name": "name",
         "rawType": "object",
         "type": "unknown"
        },
        {
         "name": "college",
         "rawType": "object",
         "type": "unknown"
        },
        {
         "name": "branch",
         "rawType": "object",
         "type": "unknown"
        },
        {
         "name": "cgpa",
         "rawType": "float64",
         "type": "float"
        },
        {
         "name": "package",
         "rawType": "float64",
         "type": "float"
        }
       ],
       "conversionMethod": "pd.DataFrame",
       "ref": "7ff344aa-7198-43aa-8726-58d8ecee164d",
       "rows": [
        [
         "0",
         "Abhay",
         "MNNIT",
         "eee",
         "6.66",
         "4.0"
        ],
        [
         "1",
         "Rohit",
         "IET",
         "it",
         "8.25",
         "5.0"
        ],
        [
         "2",
         "Ayush",
         "NITD",
         "cse",
         "6.41",
         "6.0"
        ],
        [
         "3",
         null,
         null,
         null,
         null,
         null
        ],
        [
         "4",
         "Shivansh",
         null,
         "me",
         "5.6",
         "6.0"
        ],
        [
         "5",
         null,
         "MMMUT",
         "ce",
         "9.0",
         "7.0"
        ],
        [
         "6",
         "Rishabh",
         "MANIT",
         "civ",
         "7.4",
         "8.0"
        ],
        [
         "7",
         null,
         null,
         "cse",
         "10.0",
         "9.0"
        ],
        [
         "8",
         "Ansh",
         null,
         "bio",
         "7.4",
         null
        ],
        [
         "9",
         null,
         "RECM",
         null,
         null,
         null
        ]
       ],
       "shape": {
        "columns": 5,
        "rows": 10
       }
      },
      "text/html": [
       "<div>\n",
       "<style scoped>\n",
       "    .dataframe tbody tr th:only-of-type {\n",
       "        vertical-align: middle;\n",
       "    }\n",
       "\n",
       "    .dataframe tbody tr th {\n",
       "        vertical-align: top;\n",
       "    }\n",
       "\n",
       "    .dataframe thead th {\n",
       "        text-align: right;\n",
       "    }\n",
       "</style>\n",
       "<table border=\"1\" class=\"dataframe\">\n",
       "  <thead>\n",
       "    <tr style=\"text-align: right;\">\n",
       "      <th></th>\n",
       "      <th>name</th>\n",
       "      <th>college</th>\n",
       "      <th>branch</th>\n",
       "      <th>cgpa</th>\n",
       "      <th>package</th>\n",
       "    </tr>\n",
       "  </thead>\n",
       "  <tbody>\n",
       "    <tr>\n",
       "      <th>0</th>\n",
       "      <td>Abhay</td>\n",
       "      <td>MNNIT</td>\n",
       "      <td>eee</td>\n",
       "      <td>6.66</td>\n",
       "      <td>4.0</td>\n",
       "    </tr>\n",
       "    <tr>\n",
       "      <th>1</th>\n",
       "      <td>Rohit</td>\n",
       "      <td>IET</td>\n",
       "      <td>it</td>\n",
       "      <td>8.25</td>\n",
       "      <td>5.0</td>\n",
       "    </tr>\n",
       "    <tr>\n",
       "      <th>2</th>\n",
       "      <td>Ayush</td>\n",
       "      <td>NITD</td>\n",
       "      <td>cse</td>\n",
       "      <td>6.41</td>\n",
       "      <td>6.0</td>\n",
       "    </tr>\n",
       "    <tr>\n",
       "      <th>3</th>\n",
       "      <td>NaN</td>\n",
       "      <td>NaN</td>\n",
       "      <td>NaN</td>\n",
       "      <td>NaN</td>\n",
       "      <td>NaN</td>\n",
       "    </tr>\n",
       "    <tr>\n",
       "      <th>4</th>\n",
       "      <td>Shivansh</td>\n",
       "      <td>NaN</td>\n",
       "      <td>me</td>\n",
       "      <td>5.60</td>\n",
       "      <td>6.0</td>\n",
       "    </tr>\n",
       "    <tr>\n",
       "      <th>5</th>\n",
       "      <td>NaN</td>\n",
       "      <td>MMMUT</td>\n",
       "      <td>ce</td>\n",
       "      <td>9.00</td>\n",
       "      <td>7.0</td>\n",
       "    </tr>\n",
       "    <tr>\n",
       "      <th>6</th>\n",
       "      <td>Rishabh</td>\n",
       "      <td>MANIT</td>\n",
       "      <td>civ</td>\n",
       "      <td>7.40</td>\n",
       "      <td>8.0</td>\n",
       "    </tr>\n",
       "    <tr>\n",
       "      <th>7</th>\n",
       "      <td>NaN</td>\n",
       "      <td>NaN</td>\n",
       "      <td>cse</td>\n",
       "      <td>10.00</td>\n",
       "      <td>9.0</td>\n",
       "    </tr>\n",
       "    <tr>\n",
       "      <th>8</th>\n",
       "      <td>Ansh</td>\n",
       "      <td>NaN</td>\n",
       "      <td>bio</td>\n",
       "      <td>7.40</td>\n",
       "      <td>NaN</td>\n",
       "    </tr>\n",
       "    <tr>\n",
       "      <th>9</th>\n",
       "      <td>NaN</td>\n",
       "      <td>RECM</td>\n",
       "      <td>NaN</td>\n",
       "      <td>NaN</td>\n",
       "      <td>NaN</td>\n",
       "    </tr>\n",
       "  </tbody>\n",
       "</table>\n",
       "</div>"
      ],
      "text/plain": [
       "       name college branch   cgpa  package\n",
       "0     Abhay   MNNIT    eee   6.66      4.0\n",
       "1     Rohit     IET     it   8.25      5.0\n",
       "2     Ayush    NITD    cse   6.41      6.0\n",
       "3       NaN     NaN    NaN    NaN      NaN\n",
       "4  Shivansh     NaN     me   5.60      6.0\n",
       "5       NaN   MMMUT     ce   9.00      7.0\n",
       "6   Rishabh   MANIT    civ   7.40      8.0\n",
       "7       NaN     NaN    cse  10.00      9.0\n",
       "8      Ansh     NaN    bio   7.40      NaN\n",
       "9       NaN    RECM    NaN    NaN      NaN"
      ]
     },
     "execution_count": 34,
     "metadata": {},
     "output_type": "execute_result"
    }
   ],
   "source": [
    "students = pd.DataFrame(\n",
    "    {\n",
    "        'name':['Abhay','Rohit','Ayush',np.nan,'Shivansh',np.nan,'Rishabh',np.nan,'Ansh',np.nan],\n",
    "        'college':['MNNIT','IET','NITD',np.nan,np.nan,'MMMUT','MANIT',np.nan,np.nan,'RECM'],\n",
    "        'branch':['eee','it','cse',np.nan,'me','ce','civ','cse','bio',np.nan],\n",
    "        'cgpa':[6.66,8.25,6.41,np.nan,5.6,9.0,7.4,10,7.4,np.nan],\n",
    "        'package':[4,5,6,np.nan,6,7,8,9,np.nan,np.nan]\n",
    "\n",
    "    }\n",
    ")\n",
    "students"
   ]
  },
  {
   "cell_type": "code",
   "execution_count": 35,
   "metadata": {},
   "outputs": [
    {
     "data": {
      "application/vnd.microsoft.datawrangler.viewer.v0+json": {
       "columns": [
        {
         "name": "index",
         "rawType": "int64",
         "type": "integer"
        },
        {
         "name": "name",
         "rawType": "object",
         "type": "unknown"
        },
        {
         "name": "college",
         "rawType": "object",
         "type": "unknown"
        },
        {
         "name": "branch",
         "rawType": "object",
         "type": "unknown"
        },
        {
         "name": "cgpa",
         "rawType": "float64",
         "type": "float"
        },
        {
         "name": "package",
         "rawType": "float64",
         "type": "float"
        }
       ],
       "conversionMethod": "pd.DataFrame",
       "ref": "e9b2643d-610f-47f9-85e3-2c24b26e05c0",
       "rows": [
        [
         "0",
         "Abhay",
         "MNNIT",
         "eee",
         "6.66",
         "4.0"
        ],
        [
         "1",
         "Rohit",
         "IET",
         "it",
         "8.25",
         "5.0"
        ],
        [
         "2",
         "Ayush",
         "NITD",
         "cse",
         "6.41",
         "6.0"
        ],
        [
         "4",
         "Shivansh",
         null,
         "me",
         "5.6",
         "6.0"
        ],
        [
         "5",
         null,
         "MMMUT",
         "ce",
         "9.0",
         "7.0"
        ],
        [
         "6",
         "Rishabh",
         "MANIT",
         "civ",
         "7.4",
         "8.0"
        ],
        [
         "7",
         null,
         null,
         "cse",
         "10.0",
         "9.0"
        ],
        [
         "8",
         "Ansh",
         null,
         "bio",
         "7.4",
         null
        ],
        [
         "9",
         null,
         "RECM",
         null,
         null,
         null
        ]
       ],
       "shape": {
        "columns": 5,
        "rows": 9
       }
      },
      "text/html": [
       "<div>\n",
       "<style scoped>\n",
       "    .dataframe tbody tr th:only-of-type {\n",
       "        vertical-align: middle;\n",
       "    }\n",
       "\n",
       "    .dataframe tbody tr th {\n",
       "        vertical-align: top;\n",
       "    }\n",
       "\n",
       "    .dataframe thead th {\n",
       "        text-align: right;\n",
       "    }\n",
       "</style>\n",
       "<table border=\"1\" class=\"dataframe\">\n",
       "  <thead>\n",
       "    <tr style=\"text-align: right;\">\n",
       "      <th></th>\n",
       "      <th>name</th>\n",
       "      <th>college</th>\n",
       "      <th>branch</th>\n",
       "      <th>cgpa</th>\n",
       "      <th>package</th>\n",
       "    </tr>\n",
       "  </thead>\n",
       "  <tbody>\n",
       "    <tr>\n",
       "      <th>0</th>\n",
       "      <td>Abhay</td>\n",
       "      <td>MNNIT</td>\n",
       "      <td>eee</td>\n",
       "      <td>6.66</td>\n",
       "      <td>4.0</td>\n",
       "    </tr>\n",
       "    <tr>\n",
       "      <th>1</th>\n",
       "      <td>Rohit</td>\n",
       "      <td>IET</td>\n",
       "      <td>it</td>\n",
       "      <td>8.25</td>\n",
       "      <td>5.0</td>\n",
       "    </tr>\n",
       "    <tr>\n",
       "      <th>2</th>\n",
       "      <td>Ayush</td>\n",
       "      <td>NITD</td>\n",
       "      <td>cse</td>\n",
       "      <td>6.41</td>\n",
       "      <td>6.0</td>\n",
       "    </tr>\n",
       "    <tr>\n",
       "      <th>4</th>\n",
       "      <td>Shivansh</td>\n",
       "      <td>NaN</td>\n",
       "      <td>me</td>\n",
       "      <td>5.60</td>\n",
       "      <td>6.0</td>\n",
       "    </tr>\n",
       "    <tr>\n",
       "      <th>5</th>\n",
       "      <td>NaN</td>\n",
       "      <td>MMMUT</td>\n",
       "      <td>ce</td>\n",
       "      <td>9.00</td>\n",
       "      <td>7.0</td>\n",
       "    </tr>\n",
       "    <tr>\n",
       "      <th>6</th>\n",
       "      <td>Rishabh</td>\n",
       "      <td>MANIT</td>\n",
       "      <td>civ</td>\n",
       "      <td>7.40</td>\n",
       "      <td>8.0</td>\n",
       "    </tr>\n",
       "    <tr>\n",
       "      <th>7</th>\n",
       "      <td>NaN</td>\n",
       "      <td>NaN</td>\n",
       "      <td>cse</td>\n",
       "      <td>10.00</td>\n",
       "      <td>9.0</td>\n",
       "    </tr>\n",
       "    <tr>\n",
       "      <th>8</th>\n",
       "      <td>Ansh</td>\n",
       "      <td>NaN</td>\n",
       "      <td>bio</td>\n",
       "      <td>7.40</td>\n",
       "      <td>NaN</td>\n",
       "    </tr>\n",
       "    <tr>\n",
       "      <th>9</th>\n",
       "      <td>NaN</td>\n",
       "      <td>RECM</td>\n",
       "      <td>NaN</td>\n",
       "      <td>NaN</td>\n",
       "      <td>NaN</td>\n",
       "    </tr>\n",
       "  </tbody>\n",
       "</table>\n",
       "</div>"
      ],
      "text/plain": [
       "       name college branch   cgpa  package\n",
       "0     Abhay   MNNIT    eee   6.66      4.0\n",
       "1     Rohit     IET     it   8.25      5.0\n",
       "2     Ayush    NITD    cse   6.41      6.0\n",
       "4  Shivansh     NaN     me   5.60      6.0\n",
       "5       NaN   MMMUT     ce   9.00      7.0\n",
       "6   Rishabh   MANIT    civ   7.40      8.0\n",
       "7       NaN     NaN    cse  10.00      9.0\n",
       "8      Ansh     NaN    bio   7.40      NaN\n",
       "9       NaN    RECM    NaN    NaN      NaN"
      ]
     },
     "execution_count": 35,
     "metadata": {},
     "output_type": "execute_result"
    }
   ],
   "source": [
    "students.dropna(how='all')"
   ]
  },
  {
   "cell_type": "code",
   "execution_count": 36,
   "metadata": {},
   "outputs": [
    {
     "data": {
      "text/plain": [
       "0       Abhay\n",
       "1       Rohit\n",
       "2       Ayush\n",
       "3     unknown\n",
       "4    Shivansh\n",
       "5     unknown\n",
       "6     Rishabh\n",
       "7     unknown\n",
       "8        Ansh\n",
       "9     unknown\n",
       "Name: name, dtype: object"
      ]
     },
     "execution_count": 36,
     "metadata": {},
     "output_type": "execute_result"
    }
   ],
   "source": [
    "# fillna(series + dataframe)\n",
    "students['name'].fillna('unknown')"
   ]
  },
  {
   "cell_type": "code",
   "execution_count": 37,
   "metadata": {},
   "outputs": [
    {
     "data": {
      "application/vnd.microsoft.datawrangler.viewer.v0+json": {
       "columns": [
        {
         "name": "index",
         "rawType": "int64",
         "type": "integer"
        },
        {
         "name": "name",
         "rawType": "object",
         "type": "string"
        },
        {
         "name": "college",
         "rawType": "object",
         "type": "string"
        },
        {
         "name": "branch",
         "rawType": "object",
         "type": "string"
        },
        {
         "name": "cgpa",
         "rawType": "float64",
         "type": "float"
        },
        {
         "name": "package",
         "rawType": "float64",
         "type": "float"
        }
       ],
       "conversionMethod": "pd.DataFrame",
       "ref": "6b7d2a15-59e0-44ca-802a-7c6ddfb1c1be",
       "rows": [
        [
         "0",
         "Abhay",
         "MNNIT",
         "eee",
         "6.66",
         "4.0"
        ],
        [
         "1",
         "Rohit",
         "IET",
         "it",
         "8.25",
         "5.0"
        ],
        [
         "2",
         "Ayush",
         "NITD",
         "cse",
         "6.41",
         "6.0"
        ],
        [
         "6",
         "Rishabh",
         "MANIT",
         "civ",
         "7.4",
         "8.0"
        ]
       ],
       "shape": {
        "columns": 5,
        "rows": 4
       }
      },
      "text/html": [
       "<div>\n",
       "<style scoped>\n",
       "    .dataframe tbody tr th:only-of-type {\n",
       "        vertical-align: middle;\n",
       "    }\n",
       "\n",
       "    .dataframe tbody tr th {\n",
       "        vertical-align: top;\n",
       "    }\n",
       "\n",
       "    .dataframe thead th {\n",
       "        text-align: right;\n",
       "    }\n",
       "</style>\n",
       "<table border=\"1\" class=\"dataframe\">\n",
       "  <thead>\n",
       "    <tr style=\"text-align: right;\">\n",
       "      <th></th>\n",
       "      <th>name</th>\n",
       "      <th>college</th>\n",
       "      <th>branch</th>\n",
       "      <th>cgpa</th>\n",
       "      <th>package</th>\n",
       "    </tr>\n",
       "  </thead>\n",
       "  <tbody>\n",
       "    <tr>\n",
       "      <th>0</th>\n",
       "      <td>Abhay</td>\n",
       "      <td>MNNIT</td>\n",
       "      <td>eee</td>\n",
       "      <td>6.66</td>\n",
       "      <td>4.0</td>\n",
       "    </tr>\n",
       "    <tr>\n",
       "      <th>1</th>\n",
       "      <td>Rohit</td>\n",
       "      <td>IET</td>\n",
       "      <td>it</td>\n",
       "      <td>8.25</td>\n",
       "      <td>5.0</td>\n",
       "    </tr>\n",
       "    <tr>\n",
       "      <th>2</th>\n",
       "      <td>Ayush</td>\n",
       "      <td>NITD</td>\n",
       "      <td>cse</td>\n",
       "      <td>6.41</td>\n",
       "      <td>6.0</td>\n",
       "    </tr>\n",
       "    <tr>\n",
       "      <th>6</th>\n",
       "      <td>Rishabh</td>\n",
       "      <td>MANIT</td>\n",
       "      <td>civ</td>\n",
       "      <td>7.40</td>\n",
       "      <td>8.0</td>\n",
       "    </tr>\n",
       "  </tbody>\n",
       "</table>\n",
       "</div>"
      ],
      "text/plain": [
       "      name college branch  cgpa  package\n",
       "0    Abhay   MNNIT    eee  6.66      4.0\n",
       "1    Rohit     IET     it  8.25      5.0\n",
       "2    Ayush    NITD    cse  6.41      6.0\n",
       "6  Rishabh   MANIT    civ  7.40      8.0"
      ]
     },
     "execution_count": 37,
     "metadata": {},
     "output_type": "execute_result"
    }
   ],
   "source": [
    "students.dropna(subset=['name','college'])"
   ]
  },
  {
   "cell_type": "markdown",
   "metadata": {},
   "source": [
    "#### Find the last match played by Virat Kohli in Delhi"
   ]
  },
  {
   "cell_type": "code",
   "execution_count": 38,
   "metadata": {},
   "outputs": [
    {
     "data": {
      "text/plain": [
       "0      ['YBK Jaiswal', 'JC Buttler', 'SV Samson', 'D ...\n",
       "1      ['V Kohli', 'F du Plessis', 'RM Patidar', 'GJ ...\n",
       "2      ['V Kohli', 'F du Plessis', 'RM Patidar', 'GJ ...\n",
       "3      ['YBK Jaiswal', 'JC Buttler', 'SV Samson', 'D ...\n",
       "4      ['PK Garg', 'Abhishek Sharma', 'RA Tripathi', ...\n",
       "                             ...                        \n",
       "945    ['WP Saha', 'BB McCullum', 'RT Ponting', 'SC G...\n",
       "946    ['L Ronchi', 'ST Jayasuriya', 'DJ Thornely', '...\n",
       "947    ['G Gambhir', 'V Sehwag', 'S Dhawan', 'MK Tiwa...\n",
       "948    ['K Goel', 'JR Hopes', 'KC Sangakkara', 'Yuvra...\n",
       "949    ['R Dravid', 'W Jaffer', 'V Kohli', 'JH Kallis...\n",
       "Name: all_players, Length: 950, dtype: object"
      ]
     },
     "execution_count": 38,
     "metadata": {},
     "output_type": "execute_result"
    }
   ],
   "source": [
    "ipl['all_players']=ipl['Team1Players']+ipl['Team2Players']\n",
    "ipl['all_players']"
   ]
  },
  {
   "cell_type": "code",
   "execution_count": 39,
   "metadata": {},
   "outputs": [],
   "source": [
    "def kohli_played(players_list):\n",
    "    return 'V Kohli' in players_list   "
   ]
  },
  {
   "cell_type": "code",
   "execution_count": 40,
   "metadata": {},
   "outputs": [
    {
     "data": {
      "application/vnd.microsoft.datawrangler.viewer.v0+json": {
       "columns": [
        {
         "name": "index",
         "rawType": "int64",
         "type": "integer"
        },
        {
         "name": "ID",
         "rawType": "int64",
         "type": "integer"
        },
        {
         "name": "City",
         "rawType": "object",
         "type": "string"
        },
        {
         "name": "Date",
         "rawType": "object",
         "type": "string"
        },
        {
         "name": "Season",
         "rawType": "object",
         "type": "string"
        },
        {
         "name": "MatchNumber",
         "rawType": "object",
         "type": "string"
        },
        {
         "name": "Team1",
         "rawType": "object",
         "type": "string"
        },
        {
         "name": "Team2",
         "rawType": "object",
         "type": "string"
        },
        {
         "name": "Venue",
         "rawType": "object",
         "type": "string"
        },
        {
         "name": "TossWinner",
         "rawType": "object",
         "type": "string"
        },
        {
         "name": "TossDecision",
         "rawType": "object",
         "type": "string"
        },
        {
         "name": "SuperOver",
         "rawType": "object",
         "type": "string"
        },
        {
         "name": "WinningTeam",
         "rawType": "object",
         "type": "string"
        },
        {
         "name": "WonBy",
         "rawType": "object",
         "type": "string"
        },
        {
         "name": "Margin",
         "rawType": "float64",
         "type": "float"
        },
        {
         "name": "method",
         "rawType": "object",
         "type": "unknown"
        },
        {
         "name": "Player_of_Match",
         "rawType": "object",
         "type": "string"
        },
        {
         "name": "Team1Players",
         "rawType": "object",
         "type": "string"
        },
        {
         "name": "Team2Players",
         "rawType": "object",
         "type": "string"
        },
        {
         "name": "Umpire1",
         "rawType": "object",
         "type": "string"
        },
        {
         "name": "Umpire2",
         "rawType": "object",
         "type": "string"
        },
        {
         "name": "all_players",
         "rawType": "object",
         "type": "string"
        },
        {
         "name": "kohli_played",
         "rawType": "bool",
         "type": "boolean"
        }
       ],
       "conversionMethod": "pd.DataFrame",
       "ref": "c1364eb6-c7fc-4316-b554-77f97499a917",
       "rows": [
        [
         "208",
         "1178421",
         "Delhi",
         "2019-04-28",
         "2019",
         "46",
         "Delhi Capitals",
         "Royal Challengers Bangalore",
         "Arun Jaitley Stadium",
         "Delhi Capitals",
         "bat",
         "N",
         "Delhi Capitals",
         "Runs",
         "16.0",
         null,
         "S Dhawan",
         "['PP Shaw', 'S Dhawan', 'SS Iyer', 'RR Pant', 'CA Ingram', 'SE Rutherford', 'AR Patel', 'S Lamichhane', 'A Mishra', 'K Rabada', 'I Sharma']",
         "['PA Patel', 'V Kohli', 'AB de Villiers', 'S Dube', 'H Klaasen', 'Gurkeerat Singh', 'MP Stoinis', 'Washington Sundar', 'UT Yadav', 'YS Chahal', 'Navdeep Saini']",
         "BNJ Oxenford",
         "KN Ananthapadmanabhan",
         "['PP Shaw', 'S Dhawan', 'SS Iyer', 'RR Pant', 'CA Ingram', 'SE Rutherford', 'AR Patel', 'S Lamichhane', 'A Mishra', 'K Rabada', 'I Sharma']['PA Patel', 'V Kohli', 'AB de Villiers', 'S Dube', 'H Klaasen', 'Gurkeerat Singh', 'MP Stoinis', 'Washington Sundar', 'UT Yadav', 'YS Chahal', 'Navdeep Saini']",
         "True"
        ]
       ],
       "shape": {
        "columns": 22,
        "rows": 1
       }
      },
      "text/html": [
       "<div>\n",
       "<style scoped>\n",
       "    .dataframe tbody tr th:only-of-type {\n",
       "        vertical-align: middle;\n",
       "    }\n",
       "\n",
       "    .dataframe tbody tr th {\n",
       "        vertical-align: top;\n",
       "    }\n",
       "\n",
       "    .dataframe thead th {\n",
       "        text-align: right;\n",
       "    }\n",
       "</style>\n",
       "<table border=\"1\" class=\"dataframe\">\n",
       "  <thead>\n",
       "    <tr style=\"text-align: right;\">\n",
       "      <th></th>\n",
       "      <th>ID</th>\n",
       "      <th>City</th>\n",
       "      <th>Date</th>\n",
       "      <th>Season</th>\n",
       "      <th>MatchNumber</th>\n",
       "      <th>Team1</th>\n",
       "      <th>Team2</th>\n",
       "      <th>Venue</th>\n",
       "      <th>TossWinner</th>\n",
       "      <th>TossDecision</th>\n",
       "      <th>...</th>\n",
       "      <th>WonBy</th>\n",
       "      <th>Margin</th>\n",
       "      <th>method</th>\n",
       "      <th>Player_of_Match</th>\n",
       "      <th>Team1Players</th>\n",
       "      <th>Team2Players</th>\n",
       "      <th>Umpire1</th>\n",
       "      <th>Umpire2</th>\n",
       "      <th>all_players</th>\n",
       "      <th>kohli_played</th>\n",
       "    </tr>\n",
       "  </thead>\n",
       "  <tbody>\n",
       "    <tr>\n",
       "      <th>208</th>\n",
       "      <td>1178421</td>\n",
       "      <td>Delhi</td>\n",
       "      <td>2019-04-28</td>\n",
       "      <td>2019</td>\n",
       "      <td>46</td>\n",
       "      <td>Delhi Capitals</td>\n",
       "      <td>Royal Challengers Bangalore</td>\n",
       "      <td>Arun Jaitley Stadium</td>\n",
       "      <td>Delhi Capitals</td>\n",
       "      <td>bat</td>\n",
       "      <td>...</td>\n",
       "      <td>Runs</td>\n",
       "      <td>16.0</td>\n",
       "      <td>NaN</td>\n",
       "      <td>S Dhawan</td>\n",
       "      <td>['PP Shaw', 'S Dhawan', 'SS Iyer', 'RR Pant', ...</td>\n",
       "      <td>['PA Patel', 'V Kohli', 'AB de Villiers', 'S D...</td>\n",
       "      <td>BNJ Oxenford</td>\n",
       "      <td>KN Ananthapadmanabhan</td>\n",
       "      <td>['PP Shaw', 'S Dhawan', 'SS Iyer', 'RR Pant', ...</td>\n",
       "      <td>True</td>\n",
       "    </tr>\n",
       "  </tbody>\n",
       "</table>\n",
       "<p>1 rows × 22 columns</p>\n",
       "</div>"
      ],
      "text/plain": [
       "          ID   City        Date Season MatchNumber           Team1  \\\n",
       "208  1178421  Delhi  2019-04-28   2019          46  Delhi Capitals   \n",
       "\n",
       "                           Team2                 Venue      TossWinner  \\\n",
       "208  Royal Challengers Bangalore  Arun Jaitley Stadium  Delhi Capitals   \n",
       "\n",
       "    TossDecision  ... WonBy Margin method  Player_of_Match  \\\n",
       "208          bat  ...  Runs   16.0    NaN         S Dhawan   \n",
       "\n",
       "                                          Team1Players  \\\n",
       "208  ['PP Shaw', 'S Dhawan', 'SS Iyer', 'RR Pant', ...   \n",
       "\n",
       "                                          Team2Players       Umpire1  \\\n",
       "208  ['PA Patel', 'V Kohli', 'AB de Villiers', 'S D...  BNJ Oxenford   \n",
       "\n",
       "                   Umpire2                                        all_players  \\\n",
       "208  KN Ananthapadmanabhan  ['PP Shaw', 'S Dhawan', 'SS Iyer', 'RR Pant', ...   \n",
       "\n",
       "    kohli_played  \n",
       "208         True  \n",
       "\n",
       "[1 rows x 22 columns]"
      ]
     },
     "execution_count": 40,
     "metadata": {},
     "output_type": "execute_result"
    }
   ],
   "source": [
    "ipl['kohli_played']=ipl['all_players'].apply(kohli_played)\n",
    "ipl[(ipl['City']=='Delhi')&(ipl['kohli_played']==True)].drop_duplicates(subset=['City','kohli_played'])"
   ]
  },
  {
   "cell_type": "code",
   "execution_count": null,
   "metadata": {},
   "outputs": [],
   "source": []
  }
 ],
 "metadata": {
  "kernelspec": {
   "display_name": "Python 3",
   "language": "python",
   "name": "python3"
  },
  "language_info": {
   "codemirror_mode": {
    "name": "ipython",
    "version": 3
   },
   "file_extension": ".py",
   "mimetype": "text/x-python",
   "name": "python",
   "nbconvert_exporter": "python",
   "pygments_lexer": "ipython3",
   "version": "3.12.4"
  }
 },
 "nbformat": 4,
 "nbformat_minor": 2
}

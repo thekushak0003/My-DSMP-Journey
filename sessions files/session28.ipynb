{
 "cells": [
  {
   "cell_type": "code",
   "execution_count": 2,
   "metadata": {},
   "outputs": [],
   "source": [
    "import pandas as pd\n",
    "import numpy as np"
   ]
  },
  {
   "cell_type": "code",
   "execution_count": 3,
   "metadata": {},
   "outputs": [],
   "source": [
    "patients = pd.read_csv('patients.csv')\n",
    "treatments = pd.read_csv('treatments.csv')\n",
    "adverse_reactions = pd.read_csv('adverse_reactions.csv')\n",
    "treatments_cut = pd.read_csv('treatments_cut.csv')"
   ]
  },
  {
   "cell_type": "code",
   "execution_count": 4,
   "metadata": {},
   "outputs": [
    {
     "data": {
      "application/vnd.microsoft.datawrangler.viewer.v0+json": {
       "columns": [
        {
         "name": "index",
         "rawType": "int64",
         "type": "integer"
        },
        {
         "name": "patient_id",
         "rawType": "int64",
         "type": "integer"
        },
        {
         "name": "assigned_sex",
         "rawType": "object",
         "type": "string"
        },
        {
         "name": "given_name",
         "rawType": "object",
         "type": "string"
        },
        {
         "name": "surname",
         "rawType": "object",
         "type": "string"
        },
        {
         "name": "address",
         "rawType": "object",
         "type": "string"
        },
        {
         "name": "city",
         "rawType": "object",
         "type": "string"
        },
        {
         "name": "state",
         "rawType": "object",
         "type": "string"
        },
        {
         "name": "zip_code",
         "rawType": "float64",
         "type": "float"
        },
        {
         "name": "country",
         "rawType": "object",
         "type": "string"
        },
        {
         "name": "contact",
         "rawType": "object",
         "type": "string"
        },
        {
         "name": "birthdate",
         "rawType": "object",
         "type": "string"
        },
        {
         "name": "weight",
         "rawType": "float64",
         "type": "float"
        },
        {
         "name": "height",
         "rawType": "int64",
         "type": "integer"
        },
        {
         "name": "bmi",
         "rawType": "float64",
         "type": "float"
        }
       ],
       "conversionMethod": "pd.DataFrame",
       "ref": "df4e0996-5f64-43c0-84c2-6d8ec3c9721c",
       "rows": [
        [
         "0",
         "1",
         "female",
         "Zoe",
         "Wellish",
         "576 Brown Bear Drive",
         "Rancho California",
         "California",
         "92390.0",
         "United States",
         "951-719-9170ZoeWellish@superrito.com",
         "7/10/1976",
         "121.7",
         "66",
         "19.6"
        ],
        [
         "1",
         "2",
         "female",
         "Pamela",
         "Hill",
         "2370 University Hill Road",
         "Armstrong",
         "Illinois",
         "61812.0",
         "United States",
         "PamelaSHill@cuvox.de+1 (217) 569-3204",
         "4/3/1967",
         "118.8",
         "66",
         "19.2"
        ],
        [
         "2",
         "3",
         "male",
         "Jae",
         "Debord",
         "1493 Poling Farm Road",
         "York",
         "Nebraska",
         "68467.0",
         "United States",
         "402-363-6804JaeMDebord@gustr.com",
         "2/19/1980",
         "177.8",
         "71",
         "24.8"
        ],
        [
         "3",
         "4",
         "male",
         "Liêm",
         "Phan",
         "2335 Webster Street",
         "Woodbridge",
         "NJ",
         "7095.0",
         "United States",
         "PhanBaLiem@jourrapide.com+1 (732) 636-8246",
         "7/26/1951",
         "220.9",
         "70",
         "31.7"
        ],
        [
         "4",
         "5",
         "male",
         "Tim",
         "Neudorf",
         "1428 Turkey Pen Lane",
         "Dothan",
         "AL",
         "36303.0",
         "United States",
         "334-515-7487TimNeudorf@cuvox.de",
         "2/18/1928",
         "192.3",
         "27",
         "26.1"
        ]
       ],
       "shape": {
        "columns": 14,
        "rows": 5
       }
      },
      "text/html": [
       "<div>\n",
       "<style scoped>\n",
       "    .dataframe tbody tr th:only-of-type {\n",
       "        vertical-align: middle;\n",
       "    }\n",
       "\n",
       "    .dataframe tbody tr th {\n",
       "        vertical-align: top;\n",
       "    }\n",
       "\n",
       "    .dataframe thead th {\n",
       "        text-align: right;\n",
       "    }\n",
       "</style>\n",
       "<table border=\"1\" class=\"dataframe\">\n",
       "  <thead>\n",
       "    <tr style=\"text-align: right;\">\n",
       "      <th></th>\n",
       "      <th>patient_id</th>\n",
       "      <th>assigned_sex</th>\n",
       "      <th>given_name</th>\n",
       "      <th>surname</th>\n",
       "      <th>address</th>\n",
       "      <th>city</th>\n",
       "      <th>state</th>\n",
       "      <th>zip_code</th>\n",
       "      <th>country</th>\n",
       "      <th>contact</th>\n",
       "      <th>birthdate</th>\n",
       "      <th>weight</th>\n",
       "      <th>height</th>\n",
       "      <th>bmi</th>\n",
       "    </tr>\n",
       "  </thead>\n",
       "  <tbody>\n",
       "    <tr>\n",
       "      <th>0</th>\n",
       "      <td>1</td>\n",
       "      <td>female</td>\n",
       "      <td>Zoe</td>\n",
       "      <td>Wellish</td>\n",
       "      <td>576 Brown Bear Drive</td>\n",
       "      <td>Rancho California</td>\n",
       "      <td>California</td>\n",
       "      <td>92390.0</td>\n",
       "      <td>United States</td>\n",
       "      <td>951-719-9170ZoeWellish@superrito.com</td>\n",
       "      <td>7/10/1976</td>\n",
       "      <td>121.7</td>\n",
       "      <td>66</td>\n",
       "      <td>19.6</td>\n",
       "    </tr>\n",
       "    <tr>\n",
       "      <th>1</th>\n",
       "      <td>2</td>\n",
       "      <td>female</td>\n",
       "      <td>Pamela</td>\n",
       "      <td>Hill</td>\n",
       "      <td>2370 University Hill Road</td>\n",
       "      <td>Armstrong</td>\n",
       "      <td>Illinois</td>\n",
       "      <td>61812.0</td>\n",
       "      <td>United States</td>\n",
       "      <td>PamelaSHill@cuvox.de+1 (217) 569-3204</td>\n",
       "      <td>4/3/1967</td>\n",
       "      <td>118.8</td>\n",
       "      <td>66</td>\n",
       "      <td>19.2</td>\n",
       "    </tr>\n",
       "    <tr>\n",
       "      <th>2</th>\n",
       "      <td>3</td>\n",
       "      <td>male</td>\n",
       "      <td>Jae</td>\n",
       "      <td>Debord</td>\n",
       "      <td>1493 Poling Farm Road</td>\n",
       "      <td>York</td>\n",
       "      <td>Nebraska</td>\n",
       "      <td>68467.0</td>\n",
       "      <td>United States</td>\n",
       "      <td>402-363-6804JaeMDebord@gustr.com</td>\n",
       "      <td>2/19/1980</td>\n",
       "      <td>177.8</td>\n",
       "      <td>71</td>\n",
       "      <td>24.8</td>\n",
       "    </tr>\n",
       "    <tr>\n",
       "      <th>3</th>\n",
       "      <td>4</td>\n",
       "      <td>male</td>\n",
       "      <td>Liêm</td>\n",
       "      <td>Phan</td>\n",
       "      <td>2335 Webster Street</td>\n",
       "      <td>Woodbridge</td>\n",
       "      <td>NJ</td>\n",
       "      <td>7095.0</td>\n",
       "      <td>United States</td>\n",
       "      <td>PhanBaLiem@jourrapide.com+1 (732) 636-8246</td>\n",
       "      <td>7/26/1951</td>\n",
       "      <td>220.9</td>\n",
       "      <td>70</td>\n",
       "      <td>31.7</td>\n",
       "    </tr>\n",
       "    <tr>\n",
       "      <th>4</th>\n",
       "      <td>5</td>\n",
       "      <td>male</td>\n",
       "      <td>Tim</td>\n",
       "      <td>Neudorf</td>\n",
       "      <td>1428 Turkey Pen Lane</td>\n",
       "      <td>Dothan</td>\n",
       "      <td>AL</td>\n",
       "      <td>36303.0</td>\n",
       "      <td>United States</td>\n",
       "      <td>334-515-7487TimNeudorf@cuvox.de</td>\n",
       "      <td>2/18/1928</td>\n",
       "      <td>192.3</td>\n",
       "      <td>27</td>\n",
       "      <td>26.1</td>\n",
       "    </tr>\n",
       "  </tbody>\n",
       "</table>\n",
       "</div>"
      ],
      "text/plain": [
       "   patient_id assigned_sex given_name  surname                    address  \\\n",
       "0           1       female        Zoe  Wellish       576 Brown Bear Drive   \n",
       "1           2       female     Pamela     Hill  2370 University Hill Road   \n",
       "2           3         male        Jae   Debord      1493 Poling Farm Road   \n",
       "3           4         male       Liêm     Phan        2335 Webster Street   \n",
       "4           5         male        Tim  Neudorf       1428 Turkey Pen Lane   \n",
       "\n",
       "                city       state  zip_code        country  \\\n",
       "0  Rancho California  California   92390.0  United States   \n",
       "1          Armstrong    Illinois   61812.0  United States   \n",
       "2               York    Nebraska   68467.0  United States   \n",
       "3         Woodbridge          NJ    7095.0  United States   \n",
       "4             Dothan          AL   36303.0  United States   \n",
       "\n",
       "                                      contact  birthdate  weight  height   bmi  \n",
       "0        951-719-9170ZoeWellish@superrito.com  7/10/1976   121.7      66  19.6  \n",
       "1       PamelaSHill@cuvox.de+1 (217) 569-3204   4/3/1967   118.8      66  19.2  \n",
       "2            402-363-6804JaeMDebord@gustr.com  2/19/1980   177.8      71  24.8  \n",
       "3  PhanBaLiem@jourrapide.com+1 (732) 636-8246  7/26/1951   220.9      70  31.7  \n",
       "4             334-515-7487TimNeudorf@cuvox.de  2/18/1928   192.3      27  26.1  "
      ]
     },
     "execution_count": 4,
     "metadata": {},
     "output_type": "execute_result"
    }
   ],
   "source": [
    "# view datasets\n",
    "patients.head()"
   ]
  },
  {
   "cell_type": "code",
   "execution_count": 5,
   "metadata": {},
   "outputs": [
    {
     "data": {
      "application/vnd.microsoft.datawrangler.viewer.v0+json": {
       "columns": [
        {
         "name": "index",
         "rawType": "int64",
         "type": "integer"
        },
        {
         "name": "given_name",
         "rawType": "object",
         "type": "string"
        },
        {
         "name": "surname",
         "rawType": "object",
         "type": "string"
        },
        {
         "name": "auralin",
         "rawType": "object",
         "type": "string"
        },
        {
         "name": "novodra",
         "rawType": "object",
         "type": "string"
        },
        {
         "name": "hba1c_start",
         "rawType": "float64",
         "type": "float"
        },
        {
         "name": "hba1c_end",
         "rawType": "float64",
         "type": "float"
        },
        {
         "name": "hba1c_change",
         "rawType": "float64",
         "type": "float"
        }
       ],
       "conversionMethod": "pd.DataFrame",
       "ref": "b7d51496-48c4-4624-a91e-f5156957d063",
       "rows": [
        [
         "0",
         "veronika",
         "jindrová",
         "41u - 48u",
         "-",
         "7.63",
         "7.2",
         null
        ],
        [
         "1",
         "elliot",
         "richardson",
         "-",
         "40u - 45u",
         "7.56",
         "7.09",
         "0.97"
        ],
        [
         "2",
         "yukitaka",
         "takenaka",
         "-",
         "39u - 36u",
         "7.68",
         "7.25",
         null
        ],
        [
         "3",
         "skye",
         "gormanston",
         "33u - 36u",
         "-",
         "7.97",
         "7.62",
         "0.35"
        ],
        [
         "4",
         "alissa",
         "montez",
         "-",
         "33u - 29u",
         "7.78",
         "7.46",
         "0.32"
        ]
       ],
       "shape": {
        "columns": 7,
        "rows": 5
       }
      },
      "text/html": [
       "<div>\n",
       "<style scoped>\n",
       "    .dataframe tbody tr th:only-of-type {\n",
       "        vertical-align: middle;\n",
       "    }\n",
       "\n",
       "    .dataframe tbody tr th {\n",
       "        vertical-align: top;\n",
       "    }\n",
       "\n",
       "    .dataframe thead th {\n",
       "        text-align: right;\n",
       "    }\n",
       "</style>\n",
       "<table border=\"1\" class=\"dataframe\">\n",
       "  <thead>\n",
       "    <tr style=\"text-align: right;\">\n",
       "      <th></th>\n",
       "      <th>given_name</th>\n",
       "      <th>surname</th>\n",
       "      <th>auralin</th>\n",
       "      <th>novodra</th>\n",
       "      <th>hba1c_start</th>\n",
       "      <th>hba1c_end</th>\n",
       "      <th>hba1c_change</th>\n",
       "    </tr>\n",
       "  </thead>\n",
       "  <tbody>\n",
       "    <tr>\n",
       "      <th>0</th>\n",
       "      <td>veronika</td>\n",
       "      <td>jindrová</td>\n",
       "      <td>41u - 48u</td>\n",
       "      <td>-</td>\n",
       "      <td>7.63</td>\n",
       "      <td>7.20</td>\n",
       "      <td>NaN</td>\n",
       "    </tr>\n",
       "    <tr>\n",
       "      <th>1</th>\n",
       "      <td>elliot</td>\n",
       "      <td>richardson</td>\n",
       "      <td>-</td>\n",
       "      <td>40u - 45u</td>\n",
       "      <td>7.56</td>\n",
       "      <td>7.09</td>\n",
       "      <td>0.97</td>\n",
       "    </tr>\n",
       "    <tr>\n",
       "      <th>2</th>\n",
       "      <td>yukitaka</td>\n",
       "      <td>takenaka</td>\n",
       "      <td>-</td>\n",
       "      <td>39u - 36u</td>\n",
       "      <td>7.68</td>\n",
       "      <td>7.25</td>\n",
       "      <td>NaN</td>\n",
       "    </tr>\n",
       "    <tr>\n",
       "      <th>3</th>\n",
       "      <td>skye</td>\n",
       "      <td>gormanston</td>\n",
       "      <td>33u - 36u</td>\n",
       "      <td>-</td>\n",
       "      <td>7.97</td>\n",
       "      <td>7.62</td>\n",
       "      <td>0.35</td>\n",
       "    </tr>\n",
       "    <tr>\n",
       "      <th>4</th>\n",
       "      <td>alissa</td>\n",
       "      <td>montez</td>\n",
       "      <td>-</td>\n",
       "      <td>33u - 29u</td>\n",
       "      <td>7.78</td>\n",
       "      <td>7.46</td>\n",
       "      <td>0.32</td>\n",
       "    </tr>\n",
       "  </tbody>\n",
       "</table>\n",
       "</div>"
      ],
      "text/plain": [
       "  given_name     surname    auralin    novodra  hba1c_start  hba1c_end  \\\n",
       "0   veronika    jindrová  41u - 48u          -         7.63       7.20   \n",
       "1     elliot  richardson          -  40u - 45u         7.56       7.09   \n",
       "2   yukitaka    takenaka          -  39u - 36u         7.68       7.25   \n",
       "3       skye  gormanston  33u - 36u          -         7.97       7.62   \n",
       "4     alissa      montez          -  33u - 29u         7.78       7.46   \n",
       "\n",
       "   hba1c_change  \n",
       "0           NaN  \n",
       "1          0.97  \n",
       "2           NaN  \n",
       "3          0.35  \n",
       "4          0.32  "
      ]
     },
     "execution_count": 5,
     "metadata": {},
     "output_type": "execute_result"
    }
   ],
   "source": [
    "treatments.head()"
   ]
  },
  {
   "cell_type": "code",
   "execution_count": 6,
   "metadata": {},
   "outputs": [
    {
     "data": {
      "text/plain": [
       "(70, 7)"
      ]
     },
     "execution_count": 6,
     "metadata": {},
     "output_type": "execute_result"
    }
   ],
   "source": [
    "treatments_cut.shape"
   ]
  },
  {
   "cell_type": "code",
   "execution_count": 7,
   "metadata": {},
   "outputs": [
    {
     "data": {
      "application/vnd.microsoft.datawrangler.viewer.v0+json": {
       "columns": [
        {
         "name": "index",
         "rawType": "int64",
         "type": "integer"
        },
        {
         "name": "given_name",
         "rawType": "object",
         "type": "string"
        },
        {
         "name": "surname",
         "rawType": "object",
         "type": "string"
        },
        {
         "name": "adverse_reaction",
         "rawType": "object",
         "type": "string"
        }
       ],
       "conversionMethod": "pd.DataFrame",
       "ref": "c0f9bbb6-ca57-4cae-8cb0-5d7b7c7c244f",
       "rows": [
        [
         "0",
         "berta",
         "napolitani",
         "injection site discomfort"
        ],
        [
         "1",
         "lena",
         "baer",
         "hypoglycemia"
        ],
        [
         "2",
         "joseph",
         "day",
         "hypoglycemia"
        ],
        [
         "3",
         "flavia",
         "fiorentino",
         "cough"
        ],
        [
         "4",
         "manouck",
         "wubbels",
         "throat irritation"
        ],
        [
         "5",
         "jasmine",
         "sykes",
         "hypoglycemia"
        ],
        [
         "6",
         "louise",
         "johnson",
         "hypoglycemia"
        ],
        [
         "7",
         "albinca",
         "komavec",
         "hypoglycemia"
        ],
        [
         "8",
         "noe",
         "aranda",
         "hypoglycemia"
        ],
        [
         "9",
         "sofia",
         "hermansen",
         "injection site discomfort"
        ],
        [
         "10",
         "tegan",
         "johnson",
         "headache"
        ],
        [
         "11",
         "abel",
         "yonatan",
         "cough"
        ],
        [
         "12",
         "abdul-nur",
         "isa",
         "hypoglycemia"
        ],
        [
         "13",
         "leon",
         "scholz",
         "injection site discomfort"
        ],
        [
         "14",
         "gabriele",
         "saenger",
         "hypoglycemia"
        ],
        [
         "15",
         "jia li",
         "teng",
         "nausea"
        ],
        [
         "16",
         "jakob",
         "jakobsen",
         "hypoglycemia"
        ],
        [
         "17",
         "christopher",
         "woodward",
         "nausea"
        ],
        [
         "18",
         "ole",
         "petersen",
         "hypoglycemia"
        ],
        [
         "19",
         "finley",
         "chandler",
         "headache"
        ],
        [
         "20",
         "anenechi",
         "chidi",
         "hypoglycemia"
        ],
        [
         "21",
         "miłosław",
         "wiśniewski",
         "injection site discomfort"
        ],
        [
         "22",
         "lixue",
         "hsueh",
         "injection site discomfort"
        ],
        [
         "23",
         "merci",
         "leroux",
         "hypoglycemia"
        ],
        [
         "24",
         "kang",
         "mai",
         "injection site discomfort"
        ],
        [
         "25",
         "elliot",
         "richardson",
         "hypoglycemia"
        ],
        [
         "26",
         "clinton",
         "miller",
         "throat irritation"
        ],
        [
         "27",
         "idalia",
         "moore",
         "hypoglycemia"
        ],
        [
         "28",
         "xiuxiu",
         "chang",
         "hypoglycemia"
        ],
        [
         "29",
         "alex",
         "crawford",
         "hypoglycemia"
        ],
        [
         "30",
         "monika",
         "lončar",
         "hypoglycemia"
        ],
        [
         "31",
         "steven",
         "roy",
         "headache"
        ],
        [
         "32",
         "cecilie",
         "nilsen",
         "hypoglycemia"
        ],
        [
         "33",
         "krisztina",
         "magyar",
         "hypoglycemia"
        ]
       ],
       "shape": {
        "columns": 3,
        "rows": 34
       }
      },
      "text/html": [
       "<div>\n",
       "<style scoped>\n",
       "    .dataframe tbody tr th:only-of-type {\n",
       "        vertical-align: middle;\n",
       "    }\n",
       "\n",
       "    .dataframe tbody tr th {\n",
       "        vertical-align: top;\n",
       "    }\n",
       "\n",
       "    .dataframe thead th {\n",
       "        text-align: right;\n",
       "    }\n",
       "</style>\n",
       "<table border=\"1\" class=\"dataframe\">\n",
       "  <thead>\n",
       "    <tr style=\"text-align: right;\">\n",
       "      <th></th>\n",
       "      <th>given_name</th>\n",
       "      <th>surname</th>\n",
       "      <th>adverse_reaction</th>\n",
       "    </tr>\n",
       "  </thead>\n",
       "  <tbody>\n",
       "    <tr>\n",
       "      <th>0</th>\n",
       "      <td>berta</td>\n",
       "      <td>napolitani</td>\n",
       "      <td>injection site discomfort</td>\n",
       "    </tr>\n",
       "    <tr>\n",
       "      <th>1</th>\n",
       "      <td>lena</td>\n",
       "      <td>baer</td>\n",
       "      <td>hypoglycemia</td>\n",
       "    </tr>\n",
       "    <tr>\n",
       "      <th>2</th>\n",
       "      <td>joseph</td>\n",
       "      <td>day</td>\n",
       "      <td>hypoglycemia</td>\n",
       "    </tr>\n",
       "    <tr>\n",
       "      <th>3</th>\n",
       "      <td>flavia</td>\n",
       "      <td>fiorentino</td>\n",
       "      <td>cough</td>\n",
       "    </tr>\n",
       "    <tr>\n",
       "      <th>4</th>\n",
       "      <td>manouck</td>\n",
       "      <td>wubbels</td>\n",
       "      <td>throat irritation</td>\n",
       "    </tr>\n",
       "    <tr>\n",
       "      <th>5</th>\n",
       "      <td>jasmine</td>\n",
       "      <td>sykes</td>\n",
       "      <td>hypoglycemia</td>\n",
       "    </tr>\n",
       "    <tr>\n",
       "      <th>6</th>\n",
       "      <td>louise</td>\n",
       "      <td>johnson</td>\n",
       "      <td>hypoglycemia</td>\n",
       "    </tr>\n",
       "    <tr>\n",
       "      <th>7</th>\n",
       "      <td>albinca</td>\n",
       "      <td>komavec</td>\n",
       "      <td>hypoglycemia</td>\n",
       "    </tr>\n",
       "    <tr>\n",
       "      <th>8</th>\n",
       "      <td>noe</td>\n",
       "      <td>aranda</td>\n",
       "      <td>hypoglycemia</td>\n",
       "    </tr>\n",
       "    <tr>\n",
       "      <th>9</th>\n",
       "      <td>sofia</td>\n",
       "      <td>hermansen</td>\n",
       "      <td>injection site discomfort</td>\n",
       "    </tr>\n",
       "    <tr>\n",
       "      <th>10</th>\n",
       "      <td>tegan</td>\n",
       "      <td>johnson</td>\n",
       "      <td>headache</td>\n",
       "    </tr>\n",
       "    <tr>\n",
       "      <th>11</th>\n",
       "      <td>abel</td>\n",
       "      <td>yonatan</td>\n",
       "      <td>cough</td>\n",
       "    </tr>\n",
       "    <tr>\n",
       "      <th>12</th>\n",
       "      <td>abdul-nur</td>\n",
       "      <td>isa</td>\n",
       "      <td>hypoglycemia</td>\n",
       "    </tr>\n",
       "    <tr>\n",
       "      <th>13</th>\n",
       "      <td>leon</td>\n",
       "      <td>scholz</td>\n",
       "      <td>injection site discomfort</td>\n",
       "    </tr>\n",
       "    <tr>\n",
       "      <th>14</th>\n",
       "      <td>gabriele</td>\n",
       "      <td>saenger</td>\n",
       "      <td>hypoglycemia</td>\n",
       "    </tr>\n",
       "    <tr>\n",
       "      <th>15</th>\n",
       "      <td>jia li</td>\n",
       "      <td>teng</td>\n",
       "      <td>nausea</td>\n",
       "    </tr>\n",
       "    <tr>\n",
       "      <th>16</th>\n",
       "      <td>jakob</td>\n",
       "      <td>jakobsen</td>\n",
       "      <td>hypoglycemia</td>\n",
       "    </tr>\n",
       "    <tr>\n",
       "      <th>17</th>\n",
       "      <td>christopher</td>\n",
       "      <td>woodward</td>\n",
       "      <td>nausea</td>\n",
       "    </tr>\n",
       "    <tr>\n",
       "      <th>18</th>\n",
       "      <td>ole</td>\n",
       "      <td>petersen</td>\n",
       "      <td>hypoglycemia</td>\n",
       "    </tr>\n",
       "    <tr>\n",
       "      <th>19</th>\n",
       "      <td>finley</td>\n",
       "      <td>chandler</td>\n",
       "      <td>headache</td>\n",
       "    </tr>\n",
       "    <tr>\n",
       "      <th>20</th>\n",
       "      <td>anenechi</td>\n",
       "      <td>chidi</td>\n",
       "      <td>hypoglycemia</td>\n",
       "    </tr>\n",
       "    <tr>\n",
       "      <th>21</th>\n",
       "      <td>miłosław</td>\n",
       "      <td>wiśniewski</td>\n",
       "      <td>injection site discomfort</td>\n",
       "    </tr>\n",
       "    <tr>\n",
       "      <th>22</th>\n",
       "      <td>lixue</td>\n",
       "      <td>hsueh</td>\n",
       "      <td>injection site discomfort</td>\n",
       "    </tr>\n",
       "    <tr>\n",
       "      <th>23</th>\n",
       "      <td>merci</td>\n",
       "      <td>leroux</td>\n",
       "      <td>hypoglycemia</td>\n",
       "    </tr>\n",
       "    <tr>\n",
       "      <th>24</th>\n",
       "      <td>kang</td>\n",
       "      <td>mai</td>\n",
       "      <td>injection site discomfort</td>\n",
       "    </tr>\n",
       "    <tr>\n",
       "      <th>25</th>\n",
       "      <td>elliot</td>\n",
       "      <td>richardson</td>\n",
       "      <td>hypoglycemia</td>\n",
       "    </tr>\n",
       "    <tr>\n",
       "      <th>26</th>\n",
       "      <td>clinton</td>\n",
       "      <td>miller</td>\n",
       "      <td>throat irritation</td>\n",
       "    </tr>\n",
       "    <tr>\n",
       "      <th>27</th>\n",
       "      <td>idalia</td>\n",
       "      <td>moore</td>\n",
       "      <td>hypoglycemia</td>\n",
       "    </tr>\n",
       "    <tr>\n",
       "      <th>28</th>\n",
       "      <td>xiuxiu</td>\n",
       "      <td>chang</td>\n",
       "      <td>hypoglycemia</td>\n",
       "    </tr>\n",
       "    <tr>\n",
       "      <th>29</th>\n",
       "      <td>alex</td>\n",
       "      <td>crawford</td>\n",
       "      <td>hypoglycemia</td>\n",
       "    </tr>\n",
       "    <tr>\n",
       "      <th>30</th>\n",
       "      <td>monika</td>\n",
       "      <td>lončar</td>\n",
       "      <td>hypoglycemia</td>\n",
       "    </tr>\n",
       "    <tr>\n",
       "      <th>31</th>\n",
       "      <td>steven</td>\n",
       "      <td>roy</td>\n",
       "      <td>headache</td>\n",
       "    </tr>\n",
       "    <tr>\n",
       "      <th>32</th>\n",
       "      <td>cecilie</td>\n",
       "      <td>nilsen</td>\n",
       "      <td>hypoglycemia</td>\n",
       "    </tr>\n",
       "    <tr>\n",
       "      <th>33</th>\n",
       "      <td>krisztina</td>\n",
       "      <td>magyar</td>\n",
       "      <td>hypoglycemia</td>\n",
       "    </tr>\n",
       "  </tbody>\n",
       "</table>\n",
       "</div>"
      ],
      "text/plain": [
       "     given_name     surname           adverse_reaction\n",
       "0         berta  napolitani  injection site discomfort\n",
       "1          lena        baer               hypoglycemia\n",
       "2        joseph         day               hypoglycemia\n",
       "3        flavia  fiorentino                      cough\n",
       "4       manouck     wubbels          throat irritation\n",
       "5       jasmine       sykes               hypoglycemia\n",
       "6        louise     johnson               hypoglycemia\n",
       "7       albinca     komavec               hypoglycemia\n",
       "8           noe      aranda               hypoglycemia\n",
       "9         sofia   hermansen  injection site discomfort\n",
       "10        tegan     johnson                   headache\n",
       "11         abel     yonatan                      cough\n",
       "12    abdul-nur         isa               hypoglycemia\n",
       "13         leon      scholz  injection site discomfort\n",
       "14     gabriele     saenger               hypoglycemia\n",
       "15       jia li        teng                     nausea\n",
       "16        jakob    jakobsen               hypoglycemia\n",
       "17  christopher    woodward                     nausea\n",
       "18          ole    petersen               hypoglycemia\n",
       "19       finley    chandler                   headache\n",
       "20     anenechi       chidi               hypoglycemia\n",
       "21     miłosław  wiśniewski  injection site discomfort\n",
       "22        lixue       hsueh  injection site discomfort\n",
       "23        merci      leroux               hypoglycemia\n",
       "24         kang         mai  injection site discomfort\n",
       "25       elliot  richardson               hypoglycemia\n",
       "26      clinton      miller          throat irritation\n",
       "27       idalia       moore               hypoglycemia\n",
       "28       xiuxiu       chang               hypoglycemia\n",
       "29         alex    crawford               hypoglycemia\n",
       "30       monika      lončar               hypoglycemia\n",
       "31       steven         roy                   headache\n",
       "32      cecilie      nilsen               hypoglycemia\n",
       "33    krisztina      magyar               hypoglycemia"
      ]
     },
     "execution_count": 7,
     "metadata": {},
     "output_type": "execute_result"
    }
   ],
   "source": [
    "adverse_reactions"
   ]
  },
  {
   "cell_type": "markdown",
   "metadata": {},
   "source": [
    "##### 1. Write a summary for your data\n",
    "\n",
    "This is a dataset about 500 patients of which 350 patients participated in a clinical trial. None of the patients were using Novodra (a popular injectable insulin) or Auralin (the oral insulin being researched) as their primary source of insulin before. All were experiencing elevated HbA1c levels.\n",
    "\n",
    "All 350 patients were treated with Novodra to establish a baseline HbA1c level and insulin dose. After 4 weeks, which isn’t enough time to capture all the change in HbA1c that can be attributed by the switch to Auralin or Novodra:\n",
    "\n",
    "- 175 patients switched to Auralin for 24 weeks\n",
    "- 175 patients continued using Novodra for 24 weeks\n",
    "\n",
    "Data about patients feeling some adverse effects is also recorded."
   ]
  },
  {
   "cell_type": "markdown",
   "metadata": {},
   "source": [
    "##### Types of Assessment\n",
    "There are 2 types of assessment styles\n",
    "\n",
    "- `Manual` - Looking through the data manually in google sheets\n",
    "- `Programmatic` - By using pandas functions such as info(), describe() or sample()\n",
    "\n",
    "##### Steps in Assessment\n",
    "There are 2 steps involved in Assessment\n",
    "\n",
    "- Discover\n",
    "- Document"
   ]
  },
  {
   "cell_type": "code",
   "execution_count": 8,
   "metadata": {},
   "outputs": [],
   "source": [
    "# export data for manual assessment\n",
    "\n",
    "with pd.ExcelWriter('clinical_trials.xlsx') as writer:\n",
    "  patients.to_excel(writer,sheet_name='patients')\n",
    "  treatments.to_excel(writer,sheet_name='treatments')\n",
    "  treatments_cut.to_excel(writer,sheet_name='treatment_cut')\n",
    "  adverse_reactions.to_excel(writer,sheet_name='adverse_reactions')"
   ]
  },
  {
   "cell_type": "markdown",
   "metadata": {},
   "source": [
    "#### Issues with the dataset\n",
    "\n",
    "1. Dirty Data\n",
    "\n",
    "  Table - `Patients`\n",
    "\n",
    "    - patient_id = 9 has misspelled name 'Dsvid' instead of David `accuracy`\n",
    "    - state col sometimes contain full name and some times abbrivietation `consistency`\n",
    "    - zip code col has entries with 4 digit `validity`\n",
    "    - data missing for 12 patients in address,city,\tstate,zip_code\t,country,\tcontact `completion`\n",
    "    - incorrect data type assigned to sex, zip code, birthdate `validity`\n",
    "    - duplicate entries by the name of John Doe `accuracy`\n",
    "    - one patient has weight = 48 pounds `accuracy`\n",
    "    - one patient has height = 27 inches `accuracy`\n",
    "\n",
    "  Table - `Treatments` & `Treatments_cut`\n",
    "\n",
    "    - given_name and surname col is is all lower case `consistency`\n",
    "    - remove u from Auralin and Novadra cols `validity`\n",
    "    - '-' in novadra and Auralin col treated as nan `validity`\n",
    "    - missing values in hba1c_change col `completion`\n",
    "    - 1 duplicate entry by the name Joseph day `accuracy`\n",
    "    - in hba1c_change 9 instead of 4 `accuracy`\n",
    "\n",
    "  Table - `Adverse_reactions`\n",
    "\n",
    "    - given_name and surname are all in lower case `consistency`\n",
    "\n",
    "2. Messy Data\n",
    "\n",
    "  Table - `Patients`\n",
    "\n",
    "    - contact col contains both phone and email\n",
    "\n",
    "  Table - `Treatments` & `Treatments_cut`\n",
    "\n",
    "    - Auralin and Novadra col should be split into 2 cols start and end dose\n",
    "    - merge both the tables\n",
    "\n",
    "  Table - `Adverse_reactions`\n",
    "\n",
    "    - This table should not exist independently"
   ]
  },
  {
   "cell_type": "code",
   "execution_count": 9,
   "metadata": {},
   "outputs": [
    {
     "name": "stdout",
     "output_type": "stream",
     "text": [
      "<class 'pandas.core.frame.DataFrame'>\n",
      "RangeIndex: 503 entries, 0 to 502\n",
      "Data columns (total 14 columns):\n",
      " #   Column        Non-Null Count  Dtype  \n",
      "---  ------        --------------  -----  \n",
      " 0   patient_id    503 non-null    int64  \n",
      " 1   assigned_sex  503 non-null    object \n",
      " 2   given_name    503 non-null    object \n",
      " 3   surname       503 non-null    object \n",
      " 4   address       491 non-null    object \n",
      " 5   city          491 non-null    object \n",
      " 6   state         491 non-null    object \n",
      " 7   zip_code      491 non-null    float64\n",
      " 8   country       491 non-null    object \n",
      " 9   contact       491 non-null    object \n",
      " 10  birthdate     503 non-null    object \n",
      " 11  weight        503 non-null    float64\n",
      " 12  height        503 non-null    int64  \n",
      " 13  bmi           503 non-null    float64\n",
      "dtypes: float64(3), int64(2), object(9)\n",
      "memory usage: 55.1+ KB\n"
     ]
    }
   ],
   "source": [
    "patients.info()"
   ]
  },
  {
   "cell_type": "code",
   "execution_count": 10,
   "metadata": {},
   "outputs": [
    {
     "data": {
      "application/vnd.microsoft.datawrangler.viewer.v0+json": {
       "columns": [
        {
         "name": "index",
         "rawType": "int64",
         "type": "integer"
        },
        {
         "name": "patient_id",
         "rawType": "int64",
         "type": "integer"
        },
        {
         "name": "assigned_sex",
         "rawType": "object",
         "type": "string"
        },
        {
         "name": "given_name",
         "rawType": "object",
         "type": "string"
        },
        {
         "name": "surname",
         "rawType": "object",
         "type": "string"
        },
        {
         "name": "address",
         "rawType": "object",
         "type": "unknown"
        },
        {
         "name": "city",
         "rawType": "object",
         "type": "unknown"
        },
        {
         "name": "state",
         "rawType": "object",
         "type": "unknown"
        },
        {
         "name": "zip_code",
         "rawType": "float64",
         "type": "float"
        },
        {
         "name": "country",
         "rawType": "object",
         "type": "unknown"
        },
        {
         "name": "contact",
         "rawType": "object",
         "type": "unknown"
        },
        {
         "name": "birthdate",
         "rawType": "object",
         "type": "string"
        },
        {
         "name": "weight",
         "rawType": "float64",
         "type": "float"
        },
        {
         "name": "height",
         "rawType": "int64",
         "type": "integer"
        },
        {
         "name": "bmi",
         "rawType": "float64",
         "type": "float"
        }
       ],
       "conversionMethod": "pd.DataFrame",
       "ref": "9f03b0f4-047c-4bd8-983b-62069f78472d",
       "rows": [
        [
         "209",
         "210",
         "female",
         "Lalita",
         "Eldarkhanov",
         null,
         null,
         null,
         null,
         null,
         null,
         "8/14/1950",
         "143.4",
         "62",
         "26.2"
        ],
        [
         "219",
         "220",
         "male",
         "Mỹ",
         "Quynh",
         null,
         null,
         null,
         null,
         null,
         null,
         "4/9/1978",
         "237.8",
         "69",
         "35.1"
        ],
        [
         "230",
         "231",
         "female",
         "Elisabeth",
         "Knudsen",
         null,
         null,
         null,
         null,
         null,
         null,
         "9/23/1976",
         "165.9",
         "63",
         "29.4"
        ],
        [
         "234",
         "235",
         "female",
         "Martina",
         "Tománková",
         null,
         null,
         null,
         null,
         null,
         null,
         "4/7/1936",
         "199.5",
         "65",
         "33.2"
        ],
        [
         "242",
         "243",
         "male",
         "John",
         "O'Brian",
         null,
         null,
         null,
         null,
         null,
         null,
         "2/25/1957",
         "205.3",
         "74",
         "26.4"
        ],
        [
         "249",
         "250",
         "male",
         "Benjamin",
         "Mehler",
         null,
         null,
         null,
         null,
         null,
         null,
         "10/30/1951",
         "146.5",
         "69",
         "21.6"
        ],
        [
         "257",
         "258",
         "male",
         "Jin",
         "Kung",
         null,
         null,
         null,
         null,
         null,
         null,
         "5/17/1995",
         "231.7",
         "69",
         "34.2"
        ],
        [
         "264",
         "265",
         "female",
         "Wafiyyah",
         "Asfour",
         null,
         null,
         null,
         null,
         null,
         null,
         "11/3/1989",
         "158.6",
         "63",
         "28.1"
        ],
        [
         "269",
         "270",
         "female",
         "Flavia",
         "Fiorentino",
         null,
         null,
         null,
         null,
         null,
         null,
         "10/9/1937",
         "175.2",
         "61",
         "33.1"
        ],
        [
         "278",
         "279",
         "female",
         "Generosa",
         "Cabán",
         null,
         null,
         null,
         null,
         null,
         null,
         "12/16/1962",
         "124.3",
         "69",
         "18.4"
        ],
        [
         "286",
         "287",
         "male",
         "Lewis",
         "Webb",
         null,
         null,
         null,
         null,
         null,
         null,
         "4/1/1979",
         "155.3",
         "68",
         "23.6"
        ],
        [
         "296",
         "297",
         "female",
         "Chỉ",
         "Lâm",
         null,
         null,
         null,
         null,
         null,
         null,
         "5/14/1990",
         "181.1",
         "63",
         "32.1"
        ]
       ],
       "shape": {
        "columns": 14,
        "rows": 12
       }
      },
      "text/html": [
       "<div>\n",
       "<style scoped>\n",
       "    .dataframe tbody tr th:only-of-type {\n",
       "        vertical-align: middle;\n",
       "    }\n",
       "\n",
       "    .dataframe tbody tr th {\n",
       "        vertical-align: top;\n",
       "    }\n",
       "\n",
       "    .dataframe thead th {\n",
       "        text-align: right;\n",
       "    }\n",
       "</style>\n",
       "<table border=\"1\" class=\"dataframe\">\n",
       "  <thead>\n",
       "    <tr style=\"text-align: right;\">\n",
       "      <th></th>\n",
       "      <th>patient_id</th>\n",
       "      <th>assigned_sex</th>\n",
       "      <th>given_name</th>\n",
       "      <th>surname</th>\n",
       "      <th>address</th>\n",
       "      <th>city</th>\n",
       "      <th>state</th>\n",
       "      <th>zip_code</th>\n",
       "      <th>country</th>\n",
       "      <th>contact</th>\n",
       "      <th>birthdate</th>\n",
       "      <th>weight</th>\n",
       "      <th>height</th>\n",
       "      <th>bmi</th>\n",
       "    </tr>\n",
       "  </thead>\n",
       "  <tbody>\n",
       "    <tr>\n",
       "      <th>209</th>\n",
       "      <td>210</td>\n",
       "      <td>female</td>\n",
       "      <td>Lalita</td>\n",
       "      <td>Eldarkhanov</td>\n",
       "      <td>NaN</td>\n",
       "      <td>NaN</td>\n",
       "      <td>NaN</td>\n",
       "      <td>NaN</td>\n",
       "      <td>NaN</td>\n",
       "      <td>NaN</td>\n",
       "      <td>8/14/1950</td>\n",
       "      <td>143.4</td>\n",
       "      <td>62</td>\n",
       "      <td>26.2</td>\n",
       "    </tr>\n",
       "    <tr>\n",
       "      <th>219</th>\n",
       "      <td>220</td>\n",
       "      <td>male</td>\n",
       "      <td>Mỹ</td>\n",
       "      <td>Quynh</td>\n",
       "      <td>NaN</td>\n",
       "      <td>NaN</td>\n",
       "      <td>NaN</td>\n",
       "      <td>NaN</td>\n",
       "      <td>NaN</td>\n",
       "      <td>NaN</td>\n",
       "      <td>4/9/1978</td>\n",
       "      <td>237.8</td>\n",
       "      <td>69</td>\n",
       "      <td>35.1</td>\n",
       "    </tr>\n",
       "    <tr>\n",
       "      <th>230</th>\n",
       "      <td>231</td>\n",
       "      <td>female</td>\n",
       "      <td>Elisabeth</td>\n",
       "      <td>Knudsen</td>\n",
       "      <td>NaN</td>\n",
       "      <td>NaN</td>\n",
       "      <td>NaN</td>\n",
       "      <td>NaN</td>\n",
       "      <td>NaN</td>\n",
       "      <td>NaN</td>\n",
       "      <td>9/23/1976</td>\n",
       "      <td>165.9</td>\n",
       "      <td>63</td>\n",
       "      <td>29.4</td>\n",
       "    </tr>\n",
       "    <tr>\n",
       "      <th>234</th>\n",
       "      <td>235</td>\n",
       "      <td>female</td>\n",
       "      <td>Martina</td>\n",
       "      <td>Tománková</td>\n",
       "      <td>NaN</td>\n",
       "      <td>NaN</td>\n",
       "      <td>NaN</td>\n",
       "      <td>NaN</td>\n",
       "      <td>NaN</td>\n",
       "      <td>NaN</td>\n",
       "      <td>4/7/1936</td>\n",
       "      <td>199.5</td>\n",
       "      <td>65</td>\n",
       "      <td>33.2</td>\n",
       "    </tr>\n",
       "    <tr>\n",
       "      <th>242</th>\n",
       "      <td>243</td>\n",
       "      <td>male</td>\n",
       "      <td>John</td>\n",
       "      <td>O'Brian</td>\n",
       "      <td>NaN</td>\n",
       "      <td>NaN</td>\n",
       "      <td>NaN</td>\n",
       "      <td>NaN</td>\n",
       "      <td>NaN</td>\n",
       "      <td>NaN</td>\n",
       "      <td>2/25/1957</td>\n",
       "      <td>205.3</td>\n",
       "      <td>74</td>\n",
       "      <td>26.4</td>\n",
       "    </tr>\n",
       "    <tr>\n",
       "      <th>249</th>\n",
       "      <td>250</td>\n",
       "      <td>male</td>\n",
       "      <td>Benjamin</td>\n",
       "      <td>Mehler</td>\n",
       "      <td>NaN</td>\n",
       "      <td>NaN</td>\n",
       "      <td>NaN</td>\n",
       "      <td>NaN</td>\n",
       "      <td>NaN</td>\n",
       "      <td>NaN</td>\n",
       "      <td>10/30/1951</td>\n",
       "      <td>146.5</td>\n",
       "      <td>69</td>\n",
       "      <td>21.6</td>\n",
       "    </tr>\n",
       "    <tr>\n",
       "      <th>257</th>\n",
       "      <td>258</td>\n",
       "      <td>male</td>\n",
       "      <td>Jin</td>\n",
       "      <td>Kung</td>\n",
       "      <td>NaN</td>\n",
       "      <td>NaN</td>\n",
       "      <td>NaN</td>\n",
       "      <td>NaN</td>\n",
       "      <td>NaN</td>\n",
       "      <td>NaN</td>\n",
       "      <td>5/17/1995</td>\n",
       "      <td>231.7</td>\n",
       "      <td>69</td>\n",
       "      <td>34.2</td>\n",
       "    </tr>\n",
       "    <tr>\n",
       "      <th>264</th>\n",
       "      <td>265</td>\n",
       "      <td>female</td>\n",
       "      <td>Wafiyyah</td>\n",
       "      <td>Asfour</td>\n",
       "      <td>NaN</td>\n",
       "      <td>NaN</td>\n",
       "      <td>NaN</td>\n",
       "      <td>NaN</td>\n",
       "      <td>NaN</td>\n",
       "      <td>NaN</td>\n",
       "      <td>11/3/1989</td>\n",
       "      <td>158.6</td>\n",
       "      <td>63</td>\n",
       "      <td>28.1</td>\n",
       "    </tr>\n",
       "    <tr>\n",
       "      <th>269</th>\n",
       "      <td>270</td>\n",
       "      <td>female</td>\n",
       "      <td>Flavia</td>\n",
       "      <td>Fiorentino</td>\n",
       "      <td>NaN</td>\n",
       "      <td>NaN</td>\n",
       "      <td>NaN</td>\n",
       "      <td>NaN</td>\n",
       "      <td>NaN</td>\n",
       "      <td>NaN</td>\n",
       "      <td>10/9/1937</td>\n",
       "      <td>175.2</td>\n",
       "      <td>61</td>\n",
       "      <td>33.1</td>\n",
       "    </tr>\n",
       "    <tr>\n",
       "      <th>278</th>\n",
       "      <td>279</td>\n",
       "      <td>female</td>\n",
       "      <td>Generosa</td>\n",
       "      <td>Cabán</td>\n",
       "      <td>NaN</td>\n",
       "      <td>NaN</td>\n",
       "      <td>NaN</td>\n",
       "      <td>NaN</td>\n",
       "      <td>NaN</td>\n",
       "      <td>NaN</td>\n",
       "      <td>12/16/1962</td>\n",
       "      <td>124.3</td>\n",
       "      <td>69</td>\n",
       "      <td>18.4</td>\n",
       "    </tr>\n",
       "    <tr>\n",
       "      <th>286</th>\n",
       "      <td>287</td>\n",
       "      <td>male</td>\n",
       "      <td>Lewis</td>\n",
       "      <td>Webb</td>\n",
       "      <td>NaN</td>\n",
       "      <td>NaN</td>\n",
       "      <td>NaN</td>\n",
       "      <td>NaN</td>\n",
       "      <td>NaN</td>\n",
       "      <td>NaN</td>\n",
       "      <td>4/1/1979</td>\n",
       "      <td>155.3</td>\n",
       "      <td>68</td>\n",
       "      <td>23.6</td>\n",
       "    </tr>\n",
       "    <tr>\n",
       "      <th>296</th>\n",
       "      <td>297</td>\n",
       "      <td>female</td>\n",
       "      <td>Chỉ</td>\n",
       "      <td>Lâm</td>\n",
       "      <td>NaN</td>\n",
       "      <td>NaN</td>\n",
       "      <td>NaN</td>\n",
       "      <td>NaN</td>\n",
       "      <td>NaN</td>\n",
       "      <td>NaN</td>\n",
       "      <td>5/14/1990</td>\n",
       "      <td>181.1</td>\n",
       "      <td>63</td>\n",
       "      <td>32.1</td>\n",
       "    </tr>\n",
       "  </tbody>\n",
       "</table>\n",
       "</div>"
      ],
      "text/plain": [
       "     patient_id assigned_sex given_name      surname address city state  \\\n",
       "209         210       female     Lalita  Eldarkhanov     NaN  NaN   NaN   \n",
       "219         220         male         Mỹ        Quynh     NaN  NaN   NaN   \n",
       "230         231       female  Elisabeth      Knudsen     NaN  NaN   NaN   \n",
       "234         235       female    Martina    Tománková     NaN  NaN   NaN   \n",
       "242         243         male       John      O'Brian     NaN  NaN   NaN   \n",
       "249         250         male   Benjamin       Mehler     NaN  NaN   NaN   \n",
       "257         258         male        Jin         Kung     NaN  NaN   NaN   \n",
       "264         265       female   Wafiyyah       Asfour     NaN  NaN   NaN   \n",
       "269         270       female     Flavia   Fiorentino     NaN  NaN   NaN   \n",
       "278         279       female   Generosa        Cabán     NaN  NaN   NaN   \n",
       "286         287         male      Lewis         Webb     NaN  NaN   NaN   \n",
       "296         297       female        Chỉ          Lâm     NaN  NaN   NaN   \n",
       "\n",
       "     zip_code country contact   birthdate  weight  height   bmi  \n",
       "209       NaN     NaN     NaN   8/14/1950   143.4      62  26.2  \n",
       "219       NaN     NaN     NaN    4/9/1978   237.8      69  35.1  \n",
       "230       NaN     NaN     NaN   9/23/1976   165.9      63  29.4  \n",
       "234       NaN     NaN     NaN    4/7/1936   199.5      65  33.2  \n",
       "242       NaN     NaN     NaN   2/25/1957   205.3      74  26.4  \n",
       "249       NaN     NaN     NaN  10/30/1951   146.5      69  21.6  \n",
       "257       NaN     NaN     NaN   5/17/1995   231.7      69  34.2  \n",
       "264       NaN     NaN     NaN   11/3/1989   158.6      63  28.1  \n",
       "269       NaN     NaN     NaN   10/9/1937   175.2      61  33.1  \n",
       "278       NaN     NaN     NaN  12/16/1962   124.3      69  18.4  \n",
       "286       NaN     NaN     NaN    4/1/1979   155.3      68  23.6  \n",
       "296       NaN     NaN     NaN   5/14/1990   181.1      63  32.1  "
      ]
     },
     "execution_count": 10,
     "metadata": {},
     "output_type": "execute_result"
    }
   ],
   "source": [
    "patients[patients['address'].isnull()]"
   ]
  },
  {
   "cell_type": "code",
   "execution_count": 11,
   "metadata": {},
   "outputs": [
    {
     "data": {
      "application/vnd.microsoft.datawrangler.viewer.v0+json": {
       "columns": [
        {
         "name": "index",
         "rawType": "int64",
         "type": "integer"
        },
        {
         "name": "given_name",
         "rawType": "object",
         "type": "string"
        },
        {
         "name": "surname",
         "rawType": "object",
         "type": "string"
        },
        {
         "name": "auralin",
         "rawType": "object",
         "type": "string"
        },
        {
         "name": "novodra",
         "rawType": "object",
         "type": "string"
        },
        {
         "name": "hba1c_start",
         "rawType": "float64",
         "type": "float"
        },
        {
         "name": "hba1c_end",
         "rawType": "float64",
         "type": "float"
        },
        {
         "name": "hba1c_change",
         "rawType": "float64",
         "type": "float"
        }
       ],
       "conversionMethod": "pd.DataFrame",
       "ref": "0b20dfca-89f5-4cbe-993f-81feeab82186",
       "rows": [
        [
         "136",
         "joseph",
         "day",
         "29u - 36u",
         "-",
         "7.7",
         "7.19",
         null
        ]
       ],
       "shape": {
        "columns": 7,
        "rows": 1
       }
      },
      "text/html": [
       "<div>\n",
       "<style scoped>\n",
       "    .dataframe tbody tr th:only-of-type {\n",
       "        vertical-align: middle;\n",
       "    }\n",
       "\n",
       "    .dataframe tbody tr th {\n",
       "        vertical-align: top;\n",
       "    }\n",
       "\n",
       "    .dataframe thead th {\n",
       "        text-align: right;\n",
       "    }\n",
       "</style>\n",
       "<table border=\"1\" class=\"dataframe\">\n",
       "  <thead>\n",
       "    <tr style=\"text-align: right;\">\n",
       "      <th></th>\n",
       "      <th>given_name</th>\n",
       "      <th>surname</th>\n",
       "      <th>auralin</th>\n",
       "      <th>novodra</th>\n",
       "      <th>hba1c_start</th>\n",
       "      <th>hba1c_end</th>\n",
       "      <th>hba1c_change</th>\n",
       "    </tr>\n",
       "  </thead>\n",
       "  <tbody>\n",
       "    <tr>\n",
       "      <th>136</th>\n",
       "      <td>joseph</td>\n",
       "      <td>day</td>\n",
       "      <td>29u - 36u</td>\n",
       "      <td>-</td>\n",
       "      <td>7.7</td>\n",
       "      <td>7.19</td>\n",
       "      <td>NaN</td>\n",
       "    </tr>\n",
       "  </tbody>\n",
       "</table>\n",
       "</div>"
      ],
      "text/plain": [
       "    given_name surname    auralin novodra  hba1c_start  hba1c_end  \\\n",
       "136     joseph     day  29u - 36u       -          7.7       7.19   \n",
       "\n",
       "     hba1c_change  \n",
       "136           NaN  "
      ]
     },
     "execution_count": 11,
     "metadata": {},
     "output_type": "execute_result"
    }
   ],
   "source": [
    "treatments[treatments.duplicated(subset=['given_name','surname'])]"
   ]
  },
  {
   "cell_type": "code",
   "execution_count": 12,
   "metadata": {},
   "outputs": [
    {
     "data": {
      "application/vnd.microsoft.datawrangler.viewer.v0+json": {
       "columns": [
        {
         "name": "index",
         "rawType": "int64",
         "type": "integer"
        },
        {
         "name": "given_name",
         "rawType": "object",
         "type": "string"
        },
        {
         "name": "surname",
         "rawType": "object",
         "type": "string"
        },
        {
         "name": "auralin",
         "rawType": "object",
         "type": "string"
        },
        {
         "name": "novodra",
         "rawType": "object",
         "type": "string"
        },
        {
         "name": "hba1c_start",
         "rawType": "float64",
         "type": "float"
        },
        {
         "name": "hba1c_end",
         "rawType": "float64",
         "type": "float"
        },
        {
         "name": "hba1c_change",
         "rawType": "float64",
         "type": "float"
        }
       ],
       "conversionMethod": "pd.DataFrame",
       "ref": "e73ed533-c4ad-43c7-b73f-35370d81b405",
       "rows": [],
       "shape": {
        "columns": 7,
        "rows": 0
       }
      },
      "text/html": [
       "<div>\n",
       "<style scoped>\n",
       "    .dataframe tbody tr th:only-of-type {\n",
       "        vertical-align: middle;\n",
       "    }\n",
       "\n",
       "    .dataframe tbody tr th {\n",
       "        vertical-align: top;\n",
       "    }\n",
       "\n",
       "    .dataframe thead th {\n",
       "        text-align: right;\n",
       "    }\n",
       "</style>\n",
       "<table border=\"1\" class=\"dataframe\">\n",
       "  <thead>\n",
       "    <tr style=\"text-align: right;\">\n",
       "      <th></th>\n",
       "      <th>given_name</th>\n",
       "      <th>surname</th>\n",
       "      <th>auralin</th>\n",
       "      <th>novodra</th>\n",
       "      <th>hba1c_start</th>\n",
       "      <th>hba1c_end</th>\n",
       "      <th>hba1c_change</th>\n",
       "    </tr>\n",
       "  </thead>\n",
       "  <tbody>\n",
       "  </tbody>\n",
       "</table>\n",
       "</div>"
      ],
      "text/plain": [
       "Empty DataFrame\n",
       "Columns: [given_name, surname, auralin, novodra, hba1c_start, hba1c_end, hba1c_change]\n",
       "Index: []"
      ]
     },
     "execution_count": 12,
     "metadata": {},
     "output_type": "execute_result"
    }
   ],
   "source": [
    "treatments_cut[treatments_cut.duplicated(subset=['given_name','surname'])]"
   ]
  },
  {
   "cell_type": "code",
   "execution_count": 13,
   "metadata": {},
   "outputs": [
    {
     "data": {
      "text/plain": [
       "0"
      ]
     },
     "execution_count": 13,
     "metadata": {},
     "output_type": "execute_result"
    }
   ],
   "source": [
    "adverse_reactions.duplicated().sum()"
   ]
  },
  {
   "cell_type": "code",
   "execution_count": 14,
   "metadata": {},
   "outputs": [
    {
     "data": {
      "application/vnd.microsoft.datawrangler.viewer.v0+json": {
       "columns": [
        {
         "name": "index",
         "rawType": "object",
         "type": "string"
        },
        {
         "name": "patient_id",
         "rawType": "float64",
         "type": "float"
        },
        {
         "name": "zip_code",
         "rawType": "float64",
         "type": "float"
        },
        {
         "name": "weight",
         "rawType": "float64",
         "type": "float"
        },
        {
         "name": "height",
         "rawType": "float64",
         "type": "float"
        },
        {
         "name": "bmi",
         "rawType": "float64",
         "type": "float"
        }
       ],
       "conversionMethod": "pd.DataFrame",
       "ref": "33b55d2f-e807-4466-86dc-694ed8d6c357",
       "rows": [
        [
         "count",
         "503.0",
         "491.0",
         "503.0",
         "503.0",
         "503.0"
        ],
        [
         "mean",
         "252.0",
         "49084.118126272915",
         "173.43499005964213",
         "66.63419483101391",
         "27.48389662027833"
        ],
        [
         "std",
         "145.34785860135676",
         "30265.80744180444",
         "33.91674139657365",
         "4.4112974866528925",
         "5.2764378079801695"
        ],
        [
         "min",
         "1.0",
         "1002.0",
         "48.8",
         "27.0",
         "17.1"
        ],
        [
         "25%",
         "126.5",
         "21920.5",
         "149.3",
         "63.0",
         "23.3"
        ],
        [
         "50%",
         "252.0",
         "48057.0",
         "175.3",
         "67.0",
         "27.2"
        ],
        [
         "75%",
         "377.5",
         "75679.0",
         "199.5",
         "70.0",
         "31.75"
        ],
        [
         "max",
         "503.0",
         "99701.0",
         "255.9",
         "79.0",
         "37.7"
        ]
       ],
       "shape": {
        "columns": 5,
        "rows": 8
       }
      },
      "text/html": [
       "<div>\n",
       "<style scoped>\n",
       "    .dataframe tbody tr th:only-of-type {\n",
       "        vertical-align: middle;\n",
       "    }\n",
       "\n",
       "    .dataframe tbody tr th {\n",
       "        vertical-align: top;\n",
       "    }\n",
       "\n",
       "    .dataframe thead th {\n",
       "        text-align: right;\n",
       "    }\n",
       "</style>\n",
       "<table border=\"1\" class=\"dataframe\">\n",
       "  <thead>\n",
       "    <tr style=\"text-align: right;\">\n",
       "      <th></th>\n",
       "      <th>patient_id</th>\n",
       "      <th>zip_code</th>\n",
       "      <th>weight</th>\n",
       "      <th>height</th>\n",
       "      <th>bmi</th>\n",
       "    </tr>\n",
       "  </thead>\n",
       "  <tbody>\n",
       "    <tr>\n",
       "      <th>count</th>\n",
       "      <td>503.000000</td>\n",
       "      <td>491.000000</td>\n",
       "      <td>503.000000</td>\n",
       "      <td>503.000000</td>\n",
       "      <td>503.000000</td>\n",
       "    </tr>\n",
       "    <tr>\n",
       "      <th>mean</th>\n",
       "      <td>252.000000</td>\n",
       "      <td>49084.118126</td>\n",
       "      <td>173.434990</td>\n",
       "      <td>66.634195</td>\n",
       "      <td>27.483897</td>\n",
       "    </tr>\n",
       "    <tr>\n",
       "      <th>std</th>\n",
       "      <td>145.347859</td>\n",
       "      <td>30265.807442</td>\n",
       "      <td>33.916741</td>\n",
       "      <td>4.411297</td>\n",
       "      <td>5.276438</td>\n",
       "    </tr>\n",
       "    <tr>\n",
       "      <th>min</th>\n",
       "      <td>1.000000</td>\n",
       "      <td>1002.000000</td>\n",
       "      <td>48.800000</td>\n",
       "      <td>27.000000</td>\n",
       "      <td>17.100000</td>\n",
       "    </tr>\n",
       "    <tr>\n",
       "      <th>25%</th>\n",
       "      <td>126.500000</td>\n",
       "      <td>21920.500000</td>\n",
       "      <td>149.300000</td>\n",
       "      <td>63.000000</td>\n",
       "      <td>23.300000</td>\n",
       "    </tr>\n",
       "    <tr>\n",
       "      <th>50%</th>\n",
       "      <td>252.000000</td>\n",
       "      <td>48057.000000</td>\n",
       "      <td>175.300000</td>\n",
       "      <td>67.000000</td>\n",
       "      <td>27.200000</td>\n",
       "    </tr>\n",
       "    <tr>\n",
       "      <th>75%</th>\n",
       "      <td>377.500000</td>\n",
       "      <td>75679.000000</td>\n",
       "      <td>199.500000</td>\n",
       "      <td>70.000000</td>\n",
       "      <td>31.750000</td>\n",
       "    </tr>\n",
       "    <tr>\n",
       "      <th>max</th>\n",
       "      <td>503.000000</td>\n",
       "      <td>99701.000000</td>\n",
       "      <td>255.900000</td>\n",
       "      <td>79.000000</td>\n",
       "      <td>37.700000</td>\n",
       "    </tr>\n",
       "  </tbody>\n",
       "</table>\n",
       "</div>"
      ],
      "text/plain": [
       "       patient_id      zip_code      weight      height         bmi\n",
       "count  503.000000    491.000000  503.000000  503.000000  503.000000\n",
       "mean   252.000000  49084.118126  173.434990   66.634195   27.483897\n",
       "std    145.347859  30265.807442   33.916741    4.411297    5.276438\n",
       "min      1.000000   1002.000000   48.800000   27.000000   17.100000\n",
       "25%    126.500000  21920.500000  149.300000   63.000000   23.300000\n",
       "50%    252.000000  48057.000000  175.300000   67.000000   27.200000\n",
       "75%    377.500000  75679.000000  199.500000   70.000000   31.750000\n",
       "max    503.000000  99701.000000  255.900000   79.000000   37.700000"
      ]
     },
     "execution_count": 14,
     "metadata": {},
     "output_type": "execute_result"
    }
   ],
   "source": [
    "patients.describe()"
   ]
  },
  {
   "cell_type": "code",
   "execution_count": 15,
   "metadata": {},
   "outputs": [
    {
     "data": {
      "application/vnd.microsoft.datawrangler.viewer.v0+json": {
       "columns": [
        {
         "name": "index",
         "rawType": "int64",
         "type": "integer"
        },
        {
         "name": "patient_id",
         "rawType": "int64",
         "type": "integer"
        },
        {
         "name": "assigned_sex",
         "rawType": "object",
         "type": "string"
        },
        {
         "name": "given_name",
         "rawType": "object",
         "type": "string"
        },
        {
         "name": "surname",
         "rawType": "object",
         "type": "string"
        },
        {
         "name": "address",
         "rawType": "object",
         "type": "string"
        },
        {
         "name": "city",
         "rawType": "object",
         "type": "string"
        },
        {
         "name": "state",
         "rawType": "object",
         "type": "string"
        },
        {
         "name": "zip_code",
         "rawType": "float64",
         "type": "float"
        },
        {
         "name": "country",
         "rawType": "object",
         "type": "string"
        },
        {
         "name": "contact",
         "rawType": "object",
         "type": "string"
        },
        {
         "name": "birthdate",
         "rawType": "object",
         "type": "string"
        },
        {
         "name": "weight",
         "rawType": "float64",
         "type": "float"
        },
        {
         "name": "height",
         "rawType": "int64",
         "type": "integer"
        },
        {
         "name": "bmi",
         "rawType": "float64",
         "type": "float"
        }
       ],
       "conversionMethod": "pd.DataFrame",
       "ref": "0e43335b-e9e6-4612-9838-422f3b20cc3e",
       "rows": [
        [
         "4",
         "5",
         "male",
         "Tim",
         "Neudorf",
         "1428 Turkey Pen Lane",
         "Dothan",
         "AL",
         "36303.0",
         "United States",
         "334-515-7487TimNeudorf@cuvox.de",
         "2/18/1928",
         "192.3",
         "27",
         "26.1"
        ]
       ],
       "shape": {
        "columns": 14,
        "rows": 1
       }
      },
      "text/html": [
       "<div>\n",
       "<style scoped>\n",
       "    .dataframe tbody tr th:only-of-type {\n",
       "        vertical-align: middle;\n",
       "    }\n",
       "\n",
       "    .dataframe tbody tr th {\n",
       "        vertical-align: top;\n",
       "    }\n",
       "\n",
       "    .dataframe thead th {\n",
       "        text-align: right;\n",
       "    }\n",
       "</style>\n",
       "<table border=\"1\" class=\"dataframe\">\n",
       "  <thead>\n",
       "    <tr style=\"text-align: right;\">\n",
       "      <th></th>\n",
       "      <th>patient_id</th>\n",
       "      <th>assigned_sex</th>\n",
       "      <th>given_name</th>\n",
       "      <th>surname</th>\n",
       "      <th>address</th>\n",
       "      <th>city</th>\n",
       "      <th>state</th>\n",
       "      <th>zip_code</th>\n",
       "      <th>country</th>\n",
       "      <th>contact</th>\n",
       "      <th>birthdate</th>\n",
       "      <th>weight</th>\n",
       "      <th>height</th>\n",
       "      <th>bmi</th>\n",
       "    </tr>\n",
       "  </thead>\n",
       "  <tbody>\n",
       "    <tr>\n",
       "      <th>4</th>\n",
       "      <td>5</td>\n",
       "      <td>male</td>\n",
       "      <td>Tim</td>\n",
       "      <td>Neudorf</td>\n",
       "      <td>1428 Turkey Pen Lane</td>\n",
       "      <td>Dothan</td>\n",
       "      <td>AL</td>\n",
       "      <td>36303.0</td>\n",
       "      <td>United States</td>\n",
       "      <td>334-515-7487TimNeudorf@cuvox.de</td>\n",
       "      <td>2/18/1928</td>\n",
       "      <td>192.3</td>\n",
       "      <td>27</td>\n",
       "      <td>26.1</td>\n",
       "    </tr>\n",
       "  </tbody>\n",
       "</table>\n",
       "</div>"
      ],
      "text/plain": [
       "   patient_id assigned_sex given_name  surname               address    city  \\\n",
       "4           5         male        Tim  Neudorf  1428 Turkey Pen Lane  Dothan   \n",
       "\n",
       "  state  zip_code        country                          contact  birthdate  \\\n",
       "4    AL   36303.0  United States  334-515-7487TimNeudorf@cuvox.de  2/18/1928   \n",
       "\n",
       "   weight  height   bmi  \n",
       "4   192.3      27  26.1  "
      ]
     },
     "execution_count": 15,
     "metadata": {},
     "output_type": "execute_result"
    }
   ],
   "source": [
    "patients[patients['height'] == 27]"
   ]
  },
  {
   "cell_type": "code",
   "execution_count": 16,
   "metadata": {},
   "outputs": [
    {
     "data": {
      "application/vnd.microsoft.datawrangler.viewer.v0+json": {
       "columns": [
        {
         "name": "index",
         "rawType": "object",
         "type": "string"
        },
        {
         "name": "hba1c_start",
         "rawType": "float64",
         "type": "float"
        },
        {
         "name": "hba1c_end",
         "rawType": "float64",
         "type": "float"
        },
        {
         "name": "hba1c_change",
         "rawType": "float64",
         "type": "float"
        }
       ],
       "conversionMethod": "pd.DataFrame",
       "ref": "22a083d7-17e8-4c2a-a09c-468a82c27b1f",
       "rows": [
        [
         "count",
         "70.0",
         "70.0",
         "42.0"
        ],
        [
         "mean",
         "7.837999999999999",
         "7.443142857142857",
         "0.5188095238095238"
        ],
        [
         "std",
         "0.4230071777922547",
         "0.41870588361906946",
         "0.270719027964801"
        ],
        [
         "min",
         "7.51",
         "7.02",
         "0.28"
        ],
        [
         "25%",
         "7.64",
         "7.2325",
         "0.34"
        ],
        [
         "50%",
         "7.73",
         "7.345",
         "0.37"
        ],
        [
         "75%",
         "7.86",
         "7.467499999999999",
         "0.9075"
        ],
        [
         "max",
         "9.91",
         "9.46",
         "0.97"
        ]
       ],
       "shape": {
        "columns": 3,
        "rows": 8
       }
      },
      "text/html": [
       "<div>\n",
       "<style scoped>\n",
       "    .dataframe tbody tr th:only-of-type {\n",
       "        vertical-align: middle;\n",
       "    }\n",
       "\n",
       "    .dataframe tbody tr th {\n",
       "        vertical-align: top;\n",
       "    }\n",
       "\n",
       "    .dataframe thead th {\n",
       "        text-align: right;\n",
       "    }\n",
       "</style>\n",
       "<table border=\"1\" class=\"dataframe\">\n",
       "  <thead>\n",
       "    <tr style=\"text-align: right;\">\n",
       "      <th></th>\n",
       "      <th>hba1c_start</th>\n",
       "      <th>hba1c_end</th>\n",
       "      <th>hba1c_change</th>\n",
       "    </tr>\n",
       "  </thead>\n",
       "  <tbody>\n",
       "    <tr>\n",
       "      <th>count</th>\n",
       "      <td>70.000000</td>\n",
       "      <td>70.000000</td>\n",
       "      <td>42.000000</td>\n",
       "    </tr>\n",
       "    <tr>\n",
       "      <th>mean</th>\n",
       "      <td>7.838000</td>\n",
       "      <td>7.443143</td>\n",
       "      <td>0.518810</td>\n",
       "    </tr>\n",
       "    <tr>\n",
       "      <th>std</th>\n",
       "      <td>0.423007</td>\n",
       "      <td>0.418706</td>\n",
       "      <td>0.270719</td>\n",
       "    </tr>\n",
       "    <tr>\n",
       "      <th>min</th>\n",
       "      <td>7.510000</td>\n",
       "      <td>7.020000</td>\n",
       "      <td>0.280000</td>\n",
       "    </tr>\n",
       "    <tr>\n",
       "      <th>25%</th>\n",
       "      <td>7.640000</td>\n",
       "      <td>7.232500</td>\n",
       "      <td>0.340000</td>\n",
       "    </tr>\n",
       "    <tr>\n",
       "      <th>50%</th>\n",
       "      <td>7.730000</td>\n",
       "      <td>7.345000</td>\n",
       "      <td>0.370000</td>\n",
       "    </tr>\n",
       "    <tr>\n",
       "      <th>75%</th>\n",
       "      <td>7.860000</td>\n",
       "      <td>7.467500</td>\n",
       "      <td>0.907500</td>\n",
       "    </tr>\n",
       "    <tr>\n",
       "      <th>max</th>\n",
       "      <td>9.910000</td>\n",
       "      <td>9.460000</td>\n",
       "      <td>0.970000</td>\n",
       "    </tr>\n",
       "  </tbody>\n",
       "</table>\n",
       "</div>"
      ],
      "text/plain": [
       "       hba1c_start  hba1c_end  hba1c_change\n",
       "count    70.000000  70.000000     42.000000\n",
       "mean      7.838000   7.443143      0.518810\n",
       "std       0.423007   0.418706      0.270719\n",
       "min       7.510000   7.020000      0.280000\n",
       "25%       7.640000   7.232500      0.340000\n",
       "50%       7.730000   7.345000      0.370000\n",
       "75%       7.860000   7.467500      0.907500\n",
       "max       9.910000   9.460000      0.970000"
      ]
     },
     "execution_count": 16,
     "metadata": {},
     "output_type": "execute_result"
    }
   ],
   "source": [
    "treatments_cut.describe()"
   ]
  },
  {
   "cell_type": "code",
   "execution_count": 17,
   "metadata": {},
   "outputs": [
    {
     "data": {
      "application/vnd.microsoft.datawrangler.viewer.v0+json": {
       "columns": [
        {
         "name": "index",
         "rawType": "int64",
         "type": "integer"
        },
        {
         "name": "given_name",
         "rawType": "object",
         "type": "string"
        },
        {
         "name": "surname",
         "rawType": "object",
         "type": "string"
        },
        {
         "name": "auralin",
         "rawType": "object",
         "type": "string"
        },
        {
         "name": "novodra",
         "rawType": "object",
         "type": "string"
        },
        {
         "name": "hba1c_start",
         "rawType": "float64",
         "type": "float"
        },
        {
         "name": "hba1c_end",
         "rawType": "float64",
         "type": "float"
        },
        {
         "name": "hba1c_change",
         "rawType": "float64",
         "type": "float"
        }
       ],
       "conversionMethod": "pd.DataFrame",
       "ref": "a71b4e94-ca6f-49c7-9c95-6780c55c9bf3",
       "rows": [
        [
         "0",
         "veronika",
         "jindrová",
         "41u - 48u",
         "-",
         "7.63",
         "7.2",
         null
        ],
        [
         "2",
         "yukitaka",
         "takenaka",
         "-",
         "39u - 36u",
         "7.68",
         "7.25",
         null
        ],
        [
         "8",
         "saber",
         "ménard",
         "-",
         "54u - 54u",
         "8.08",
         "7.7",
         null
        ],
        [
         "9",
         "asia",
         "woźniak",
         "30u - 36u",
         "-",
         "7.76",
         "7.37",
         null
        ],
        [
         "10",
         "joseph",
         "day",
         "29u - 36u",
         "-",
         "7.7",
         "7.19",
         null
        ],
        [
         "12",
         "roxanne",
         "andreyeva",
         "29u - 38u",
         "-",
         "9.54",
         "9.14",
         null
        ],
        [
         "14",
         "simone",
         "baumgaertner",
         "27u - 37u",
         "-",
         "7.74",
         "7.3",
         null
        ],
        [
         "15",
         "enco",
         "žibrik",
         "55u - 68u",
         "-",
         "7.78",
         "7.34",
         null
        ],
        [
         "16",
         "camilla",
         "zaitseva",
         "28u - 37u",
         "-",
         "7.53",
         "7.13",
         null
        ],
        [
         "18",
         "addolorata",
         "lombardi",
         "-",
         "49u - 46u",
         "7.75",
         "7.33",
         null
        ],
        [
         "19",
         "khalid",
         "johnsrud",
         "-",
         "54u - 54u",
         "8.35",
         "7.94",
         null
        ],
        [
         "22",
         "brancaleone",
         "russo",
         "53u - 60u",
         "-",
         "8.61",
         "8.18",
         null
        ],
        [
         "23",
         "chiemela",
         "tobeolisa",
         "-",
         "43u - 47u",
         "7.59",
         "7.17",
         null
        ],
        [
         "31",
         "bao",
         "she",
         "-",
         "48u - 45u",
         "9.09",
         "8.62",
         null
        ],
        [
         "33",
         "cannan",
         "cabrera",
         "-",
         "40u - 31u",
         "7.94",
         "7.58",
         null
        ],
        [
         "34",
         "alexander",
         "mathiesen",
         "47u - 58u",
         "-",
         "7.96",
         "7.55",
         null
        ],
        [
         "36",
         "chỉ",
         "lâm",
         "45u - 48u",
         "-",
         "7.68",
         "7.24",
         null
        ],
        [
         "37",
         "władysław",
         "wieczorek",
         "24u - 37u",
         "-",
         "7.92",
         "7.47",
         null
        ],
        [
         "45",
         "zdeněk",
         "synek",
         "-",
         "31u - 31u",
         "7.67",
         "7.32",
         null
        ],
        [
         "47",
         "jad allah",
         "gaber",
         "-",
         "38u - 41u",
         "7.97",
         "7.52",
         null
        ],
        [
         "48",
         "zak",
         "kelly",
         "-",
         "38u - 38u",
         "7.66",
         "7.26",
         null
        ],
        [
         "50",
         "albinca",
         "komavec",
         "-",
         "41u - 39u",
         "7.89",
         "7.46",
         null
        ],
        [
         "51",
         "kristoffer",
         "martinsen",
         "29u - 37u",
         "-",
         "9.18",
         "8.64",
         null
        ],
        [
         "52",
         "mỹ",
         "quynh",
         "57u - 64u",
         "-",
         "7.61",
         "7.16",
         null
        ],
        [
         "54",
         "oles",
         "zhdanov",
         "54u - 67u",
         "-",
         "7.52",
         "7.11",
         null
        ],
        [
         "58",
         "gabryŝ",
         "tomaszewski",
         "29u - 37u",
         "-",
         "7.87",
         "7.47",
         null
        ],
        [
         "59",
         "leixandre",
         "alanis",
         "61u - 67u",
         "-",
         "7.74",
         "7.32",
         null
        ],
        [
         "60",
         "onyekachukwu",
         "obinna",
         "37u - 46u",
         "-",
         "7.58",
         "7.12",
         null
        ],
        [
         "62",
         "hanka",
         "gegič",
         "-",
         "19u - 27u",
         "7.67",
         "7.29",
         null
        ],
        [
         "68",
         "fatimah",
         "kinfe",
         "-",
         "43u - 42u",
         "7.88",
         "7.56",
         null
        ],
        [
         "73",
         "mette",
         "sandgreen",
         "36u - 46u",
         "-",
         "7.56",
         "7.08",
         null
        ],
        [
         "74",
         "ole",
         "petersen",
         "-",
         "29u - 32u",
         "7.95",
         "7.55",
         null
        ],
        [
         "79",
         "avdei",
         "tikhonov",
         "27u - 36u",
         "-",
         "7.77",
         "7.27",
         null
        ],
        [
         "82",
         "maya",
         "isaksson",
         "33u - 41u",
         "-",
         "7.66",
         "7.17",
         null
        ],
        [
         "83",
         "else",
         "andersen",
         "-",
         "36u - 38u",
         "7.98",
         "7.6",
         null
        ],
        [
         "89",
         "stefanie",
         "herman",
         "44u - 55u",
         "-",
         "7.72",
         "7.3",
         null
        ],
        [
         "94",
         "kwasi",
         "mensa",
         "-",
         "40u - 36u",
         "8.29",
         "7.89",
         null
        ],
        [
         "97",
         "niels",
         "lange",
         "-",
         "43u - 38u",
         "7.58",
         "7.21",
         null
        ],
        [
         "98",
         "idalia",
         "moore",
         "25u - 31u",
         "-",
         "8.34",
         "7.9",
         null
        ],
        [
         "99",
         "abel",
         "yonatan",
         "-",
         "38u - 39u",
         "7.88",
         "7.5",
         null
        ],
        [
         "109",
         "marius",
         "hansen",
         "41u - 47u",
         "-",
         "7.97",
         "7.53",
         null
        ],
        [
         "110",
         "suoma",
         "koivunen",
         "-",
         "26u - 25u",
         "7.59",
         "7.13",
         null
        ],
        [
         "112",
         "olof",
         "holm",
         "39u - 52u",
         "-",
         "7.85",
         "7.43",
         null
        ],
        [
         "113",
         "kari",
         "laatikainen",
         "39u - 43u",
         "-",
         "7.5",
         "7.11",
         null
        ],
        [
         "114",
         "sabr",
         "amari",
         "-",
         "32u - 27u",
         "7.94",
         "7.57",
         null
        ],
        [
         "115",
         "xiuxiu",
         "chang",
         "32u - 41u",
         "-",
         "7.64",
         "7.23",
         null
        ],
        [
         "116",
         "yasmin",
         "silva",
         "36u - 44u",
         "-",
         "8.88",
         "8.46",
         null
        ],
        [
         "121",
         "habte",
         "kifle",
         "42u - 48u",
         "-",
         "7.59",
         "7.13",
         null
        ],
        [
         "123",
         "mgbankwo",
         "afamefuna",
         "-",
         "36u - 37u",
         "7.55",
         "7.18",
         null
        ],
        [
         "132",
         "urso",
         "aranda",
         "30u - 38u",
         "-",
         "7.6",
         "7.16",
         null
        ]
       ],
       "shape": {
        "columns": 7,
        "rows": 280
       }
      },
      "text/html": [
       "<div>\n",
       "<style scoped>\n",
       "    .dataframe tbody tr th:only-of-type {\n",
       "        vertical-align: middle;\n",
       "    }\n",
       "\n",
       "    .dataframe tbody tr th {\n",
       "        vertical-align: top;\n",
       "    }\n",
       "\n",
       "    .dataframe thead th {\n",
       "        text-align: right;\n",
       "    }\n",
       "</style>\n",
       "<table border=\"1\" class=\"dataframe\">\n",
       "  <thead>\n",
       "    <tr style=\"text-align: right;\">\n",
       "      <th></th>\n",
       "      <th>given_name</th>\n",
       "      <th>surname</th>\n",
       "      <th>auralin</th>\n",
       "      <th>novodra</th>\n",
       "      <th>hba1c_start</th>\n",
       "      <th>hba1c_end</th>\n",
       "      <th>hba1c_change</th>\n",
       "    </tr>\n",
       "  </thead>\n",
       "  <tbody>\n",
       "    <tr>\n",
       "      <th>0</th>\n",
       "      <td>veronika</td>\n",
       "      <td>jindrová</td>\n",
       "      <td>41u - 48u</td>\n",
       "      <td>-</td>\n",
       "      <td>7.63</td>\n",
       "      <td>7.20</td>\n",
       "      <td>NaN</td>\n",
       "    </tr>\n",
       "    <tr>\n",
       "      <th>2</th>\n",
       "      <td>yukitaka</td>\n",
       "      <td>takenaka</td>\n",
       "      <td>-</td>\n",
       "      <td>39u - 36u</td>\n",
       "      <td>7.68</td>\n",
       "      <td>7.25</td>\n",
       "      <td>NaN</td>\n",
       "    </tr>\n",
       "    <tr>\n",
       "      <th>8</th>\n",
       "      <td>saber</td>\n",
       "      <td>ménard</td>\n",
       "      <td>-</td>\n",
       "      <td>54u - 54u</td>\n",
       "      <td>8.08</td>\n",
       "      <td>7.70</td>\n",
       "      <td>NaN</td>\n",
       "    </tr>\n",
       "    <tr>\n",
       "      <th>9</th>\n",
       "      <td>asia</td>\n",
       "      <td>woźniak</td>\n",
       "      <td>30u - 36u</td>\n",
       "      <td>-</td>\n",
       "      <td>7.76</td>\n",
       "      <td>7.37</td>\n",
       "      <td>NaN</td>\n",
       "    </tr>\n",
       "    <tr>\n",
       "      <th>10</th>\n",
       "      <td>joseph</td>\n",
       "      <td>day</td>\n",
       "      <td>29u - 36u</td>\n",
       "      <td>-</td>\n",
       "      <td>7.70</td>\n",
       "      <td>7.19</td>\n",
       "      <td>NaN</td>\n",
       "    </tr>\n",
       "    <tr>\n",
       "      <th>...</th>\n",
       "      <td>...</td>\n",
       "      <td>...</td>\n",
       "      <td>...</td>\n",
       "      <td>...</td>\n",
       "      <td>...</td>\n",
       "      <td>...</td>\n",
       "      <td>...</td>\n",
       "    </tr>\n",
       "    <tr>\n",
       "      <th>49</th>\n",
       "      <td>jackson</td>\n",
       "      <td>addison</td>\n",
       "      <td>-</td>\n",
       "      <td>42u - 42u</td>\n",
       "      <td>7.99</td>\n",
       "      <td>7.51</td>\n",
       "      <td>0.98</td>\n",
       "    </tr>\n",
       "    <tr>\n",
       "      <th>17</th>\n",
       "      <td>gina</td>\n",
       "      <td>cain</td>\n",
       "      <td>-</td>\n",
       "      <td>36u - 36u</td>\n",
       "      <td>7.88</td>\n",
       "      <td>7.40</td>\n",
       "      <td>0.98</td>\n",
       "    </tr>\n",
       "    <tr>\n",
       "      <th>32</th>\n",
       "      <td>laura</td>\n",
       "      <td>ehrlichmann</td>\n",
       "      <td>-</td>\n",
       "      <td>43u - 40u</td>\n",
       "      <td>7.95</td>\n",
       "      <td>7.46</td>\n",
       "      <td>0.99</td>\n",
       "    </tr>\n",
       "    <tr>\n",
       "      <th>245</th>\n",
       "      <td>wu</td>\n",
       "      <td>sung</td>\n",
       "      <td>-</td>\n",
       "      <td>47u - 48u</td>\n",
       "      <td>7.61</td>\n",
       "      <td>7.12</td>\n",
       "      <td>0.99</td>\n",
       "    </tr>\n",
       "    <tr>\n",
       "      <th>138</th>\n",
       "      <td>giovana</td>\n",
       "      <td>rocha</td>\n",
       "      <td>-</td>\n",
       "      <td>23u - 21u</td>\n",
       "      <td>7.87</td>\n",
       "      <td>7.38</td>\n",
       "      <td>0.99</td>\n",
       "    </tr>\n",
       "  </tbody>\n",
       "</table>\n",
       "<p>280 rows × 7 columns</p>\n",
       "</div>"
      ],
      "text/plain": [
       "    given_name      surname    auralin    novodra  hba1c_start  hba1c_end  \\\n",
       "0     veronika     jindrová  41u - 48u          -         7.63       7.20   \n",
       "2     yukitaka     takenaka          -  39u - 36u         7.68       7.25   \n",
       "8        saber       ménard          -  54u - 54u         8.08       7.70   \n",
       "9         asia      woźniak  30u - 36u          -         7.76       7.37   \n",
       "10      joseph          day  29u - 36u          -         7.70       7.19   \n",
       "..         ...          ...        ...        ...          ...        ...   \n",
       "49     jackson      addison          -  42u - 42u         7.99       7.51   \n",
       "17        gina         cain          -  36u - 36u         7.88       7.40   \n",
       "32       laura  ehrlichmann          -  43u - 40u         7.95       7.46   \n",
       "245         wu         sung          -  47u - 48u         7.61       7.12   \n",
       "138    giovana        rocha          -  23u - 21u         7.87       7.38   \n",
       "\n",
       "     hba1c_change  \n",
       "0             NaN  \n",
       "2             NaN  \n",
       "8             NaN  \n",
       "9             NaN  \n",
       "10            NaN  \n",
       "..            ...  \n",
       "49           0.98  \n",
       "17           0.98  \n",
       "32           0.99  \n",
       "245          0.99  \n",
       "138          0.99  \n",
       "\n",
       "[280 rows x 7 columns]"
      ]
     },
     "execution_count": 17,
     "metadata": {},
     "output_type": "execute_result"
    }
   ],
   "source": [
    "treatments.sort_values('hba1c_change',na_position='first')"
   ]
  },
  {
   "cell_type": "markdown",
   "metadata": {},
   "source": [
    "#### Data Cleaning Order\n",
    "\n",
    "1. Quality -> Completeness\n",
    "2. Tidiness\n",
    "3. Quality -> Validity\n",
    "4. Quality -> Accuracy\n",
    "5. Quality -> Consistency\n",
    "\n",
    "##### Steps involved in Data cleaning\n",
    "- Define\n",
    "- Code\n",
    "- Test\n",
    "\n",
    "`Always make sure to create a copy of your pandas dataframe before you start the cleaning process`"
   ]
  },
  {
   "cell_type": "code",
   "execution_count": 18,
   "metadata": {},
   "outputs": [],
   "source": [
    "patients_df = patients.copy()\n",
    "treatments_df = treatments.copy()\n",
    "treatments_cut_df = treatments_cut.copy()\n",
    "adverse_reactions_df = adverse_reactions.copy()"
   ]
  },
  {
   "cell_type": "code",
   "execution_count": 19,
   "metadata": {},
   "outputs": [
    {
     "name": "stderr",
     "output_type": "stream",
     "text": [
      "C:\\Users\\mahes\\AppData\\Local\\Temp\\ipykernel_19580\\115453354.py:2: FutureWarning: Setting an item of incompatible dtype is deprecated and will raise an error in a future version of pandas. Value 'No data' has dtype incompatible with float64, please explicitly cast to a compatible dtype first.\n",
      "  patients_df.fillna('No data',inplace=True)\n"
     ]
    }
   ],
   "source": [
    "# code\n",
    "patients_df.fillna('No data',inplace=True)"
   ]
  },
  {
   "cell_type": "code",
   "execution_count": 20,
   "metadata": {},
   "outputs": [],
   "source": [
    "# code \n",
    "treatments_df['hba1c_change'] = treatments_df['hba1c_start'] - treatments_df['hba1c_end']\n",
    "treatments_cut_df['hba1c_change'] = treatments_cut_df['hba1c_start'] - treatments_cut_df['hba1c_end']"
   ]
  },
  {
   "cell_type": "code",
   "execution_count": 21,
   "metadata": {},
   "outputs": [
    {
     "name": "stdout",
     "output_type": "stream",
     "text": [
      "<class 'pandas.core.frame.DataFrame'>\n",
      "RangeIndex: 70 entries, 0 to 69\n",
      "Data columns (total 7 columns):\n",
      " #   Column        Non-Null Count  Dtype  \n",
      "---  ------        --------------  -----  \n",
      " 0   given_name    70 non-null     object \n",
      " 1   surname       70 non-null     object \n",
      " 2   auralin       70 non-null     object \n",
      " 3   novodra       70 non-null     object \n",
      " 4   hba1c_start   70 non-null     float64\n",
      " 5   hba1c_end     70 non-null     float64\n",
      " 6   hba1c_change  70 non-null     float64\n",
      "dtypes: float64(3), object(4)\n",
      "memory usage: 4.0+ KB\n"
     ]
    }
   ],
   "source": [
    "# test\n",
    "treatments_cut_df.info()"
   ]
  },
  {
   "cell_type": "code",
   "execution_count": 22,
   "metadata": {},
   "outputs": [],
   "source": [
    "def find_contact_details(text: str) -> tuple:\n",
    "    # it the value is NaN, then return it\n",
    "    if pd.isna(text):\n",
    "        return np.nan\n",
    "    \n",
    "    # create the phone number pattern\n",
    "    phone_number_pattern = re.compile(r\"(\\+[\\d]{1,3}\\s)?(\\(?[\\d]{3}\\)?\\s?-?[\\d]{3}\\s?-?[\\d]{4})\")\n",
    "    # find the phone number from the value/text, as a result we will get a list\n",
    "    phone_number  = re.findall(phone_number_pattern, text)\n",
    "\n",
    "    # if length is 0, then the regex can't find any ph number, then define with NaN\n",
    "    if len(phone_number) <= 0:\n",
    "        phone_number = np.nan\n",
    "    # if the country code is attached with the ph number, for that case, the first\n",
    "    # element will be the country code and the 2nd element will be the actual ph\n",
    "    # number. So, get that ph number\n",
    "    elif len(phone_number) >= 2:\n",
    "        phone_number = phone_number[1]\n",
    "    # else, we will get the ph number. Grab it.\n",
    "    else:\n",
    "        phone_number = phone_number[0]\n",
    "\n",
    "    # if we found the ph number (with/without country code), then remove that part from the actual value.\n",
    "    # after removing the ph number, the remaining string might be the email address.\n",
    "    possible_email_add = re.sub(phone_number_pattern, \"\", text).strip()\n",
    "\n",
    "    # then return the ph number and the email address\n",
    "    return phone_number, possible_email_add"
   ]
  },
  {
   "cell_type": "code",
   "execution_count": null,
   "metadata": {},
   "outputs": [],
   "source": []
  }
 ],
 "metadata": {
  "kernelspec": {
   "display_name": "Python 3",
   "language": "python",
   "name": "python3"
  },
  "language_info": {
   "codemirror_mode": {
    "name": "ipython",
    "version": 3
   },
   "file_extension": ".py",
   "mimetype": "text/x-python",
   "name": "python",
   "nbconvert_exporter": "python",
   "pygments_lexer": "ipython3",
   "version": "3.12.4"
  }
 },
 "nbformat": 4,
 "nbformat_minor": 2
}

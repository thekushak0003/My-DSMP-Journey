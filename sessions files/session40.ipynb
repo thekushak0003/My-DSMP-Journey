{
 "cells": [
  {
   "cell_type": "code",
   "execution_count": 205,
   "id": "7c3261e1",
   "metadata": {},
   "outputs": [],
   "source": [
    "import numpy as np\n",
    "import pandas as pd\n",
    "import matplotlib.pyplot as plt\n",
    "import plotly.express as px"
   ]
  },
  {
   "cell_type": "code",
   "execution_count": 206,
   "id": "f5dd55ce",
   "metadata": {},
   "outputs": [],
   "source": [
    "import random\n",
    "L1=[]\n",
    "for i in range(1000):\n",
    "    L1.append(random.randint(1,6))   "
   ]
  },
  {
   "cell_type": "code",
   "execution_count": 207,
   "id": "c908f6b5",
   "metadata": {},
   "outputs": [
    {
     "data": {
      "text/plain": [
       "1000"
      ]
     },
     "execution_count": 207,
     "metadata": {},
     "output_type": "execute_result"
    }
   ],
   "source": [
    "len(L1)"
   ]
  },
  {
   "cell_type": "code",
   "execution_count": 208,
   "id": "20f663d3",
   "metadata": {},
   "outputs": [
    {
     "data": {
      "text/plain": [
       "[5, 6, 1, 6, 5, 5]"
      ]
     },
     "execution_count": 208,
     "metadata": {},
     "output_type": "execute_result"
    }
   ],
   "source": [
    "L1[:6]"
   ]
  },
  {
   "cell_type": "code",
   "execution_count": 209,
   "id": "4d8766c3",
   "metadata": {},
   "outputs": [],
   "source": [
    "s=pd.Series(L1).value_counts()/pd.Series(L1).value_counts().sum()"
   ]
  },
  {
   "cell_type": "code",
   "execution_count": 210,
   "id": "66e2e906",
   "metadata": {},
   "outputs": [
    {
     "data": {
      "text/plain": [
       "<Axes: >"
      ]
     },
     "execution_count": 210,
     "metadata": {},
     "output_type": "execute_result"
    },
    {
     "data": {
      "image/png": "[encoded data removed]",
      "text/plain": [
       "<Figure size 640x480 with 1 Axes>"
      ]
     },
     "metadata": {},
     "output_type": "display_data"
    }
   ],
   "source": [
    "s.plot(kind='bar')"
   ]
  },
  {
   "cell_type": "code",
   "execution_count": 211,
   "id": "6a3133b6",
   "metadata": {},
   "outputs": [],
   "source": [
    "L2=[]\n",
    "for i in range(1000):\n",
    "    a=random.randint(1,6)\n",
    "    b=random.randint(1,6)\n",
    "    L2.append(a+b)"
   ]
  },
  {
   "cell_type": "code",
   "execution_count": 212,
   "id": "07823643",
   "metadata": {},
   "outputs": [
    {
     "data": {
      "text/plain": [
       "[5, 6, 6, 3, 2, 9]"
      ]
     },
     "execution_count": 212,
     "metadata": {},
     "output_type": "execute_result"
    }
   ],
   "source": [
    "L2[:6]"
   ]
  },
  {
   "cell_type": "code",
   "execution_count": 213,
   "id": "32a92c65",
   "metadata": {},
   "outputs": [],
   "source": [
    "r=pd.Series(L2).value_counts()/pd.Series(L2).value_counts().sum()"
   ]
  },
  {
   "cell_type": "code",
   "execution_count": 214,
   "id": "be8abf48",
   "metadata": {},
   "outputs": [
    {
     "data": {
      "application/vnd.plotly.v1+json": {
       "config": {
        "plotlyServerURL": "https://plot.ly"
       },
       "data": [
        {
         "alignmentgroup": "True",
         "hovertemplate": "x=%{x}<br>y=%{y}<extra></extra>",
         "legendgroup": "",
         "marker": {
          "color": "#636efa",
          "pattern": {
           "shape": ""
          }
         },
         "name": "",
         "offsetgroup": "",
         "orientation": "v",
         "showlegend": false,
         "textposition": "auto",
         "type": "bar",
         "x": [
          7,
          8,
          6,
          9,
          5,
          10,
          4,
          11,
          3,
          2,
          12
         ],
         "xaxis": "x",
         "y": [
          0.165,
          0.138,
          0.132,
          0.12,
          0.109,
          0.093,
          0.081,
          0.053,
          0.052,
          0.031,
          0.026
         ],
         "yaxis": "y"
        }
       ],
       "layout": {
        "barmode": "relative",
        "legend": {
         "tracegroupgap": 0
        },
        "margin": {
         "t": 60
        },
        "template": {
         "data": {
          "bar": [
           {
            "error_x": {
             "color": "#2a3f5f"
            },
            "error_y": {
             "color": "#2a3f5f"
            },
            "marker": {
             "line": {
              "color": "#E5ECF6",
              "width": 0.5
             },
             "pattern": {
              "fillmode": "overlay",
              "size": 10,
              "solidity": 0.2
             }
            },
            "type": "bar"
           }
          ],
          "barpolar": [
           {
            "marker": {
             "line": {
              "color": "#E5ECF6",
              "width": 0.5
             },
             "pattern": {
              "fillmode": "overlay",
              "size": 10,
              "solidity": 0.2
             }
            },
            "type": "barpolar"
           }
          ],
          "carpet": [
           {
            "aaxis": {
             "endlinecolor": "#2a3f5f",
             "gridcolor": "white",
             "linecolor": "white",
             "minorgridcolor": "white",
             "startlinecolor": "#2a3f5f"
            },
            "baxis": {
             "endlinecolor": "#2a3f5f",
             "gridcolor": "white",
             "linecolor": "white",
             "minorgridcolor": "white",
             "startlinecolor": "#2a3f5f"
            },
            "type": "carpet"
           }
          ],
          "choropleth": [
           {
            "colorbar": {
             "outlinewidth": 0,
             "ticks": ""
            },
            "type": "choropleth"
           }
          ],
          "contour": [
           {
            "colorbar": {
             "outlinewidth": 0,
             "ticks": ""
            },
            "colorscale": [
             [
              0,
              "#0d0887"
             ],
             [
              0.1111111111111111,
              "#46039f"
             ],
             [
              0.2222222222222222,
              "#7201a8"
             ],
             [
              0.3333333333333333,
              "#9c179e"
             ],
             [
              0.4444444444444444,
              "#bd3786"
             ],
             [
              0.5555555555555556,
              "#d8576b"
             ],
             [
              0.6666666666666666,
              "#ed7953"
             ],
             [
              0.7777777777777778,
              "#fb9f3a"
             ],
             [
              0.8888888888888888,
              "#fdca26"
             ],
             [
              1,
              "#f0f921"
             ]
            ],
            "type": "contour"
           }
          ],
          "contourcarpet": [
           {
            "colorbar": {
             "outlinewidth": 0,
             "ticks": ""
            },
            "type": "contourcarpet"
           }
          ],
          "heatmap": [
           {
            "colorbar": {
             "outlinewidth": 0,
             "ticks": ""
            },
            "colorscale": [
             [
              0,
              "#0d0887"
             ],
             [
              0.1111111111111111,
              "#46039f"
             ],
             [
              0.2222222222222222,
              "#7201a8"
             ],
             [
              0.3333333333333333,
              "#9c179e"
             ],
             [
              0.4444444444444444,
              "#bd3786"
             ],
             [
              0.5555555555555556,
              "#d8576b"
             ],
             [
              0.6666666666666666,
              "#ed7953"
             ],
             [
              0.7777777777777778,
              "#fb9f3a"
             ],
             [
              0.8888888888888888,
              "#fdca26"
             ],
             [
              1,
              "#f0f921"
             ]
            ],
            "type": "heatmap"
           }
          ],
          "heatmapgl": [
           {
            "colorbar": {
             "outlinewidth": 0,
             "ticks": ""
            },
            "colorscale": [
             [
              0,
              "#0d0887"
             ],
             [
              0.1111111111111111,
              "#46039f"
             ],
             [
              0.2222222222222222,
              "#7201a8"
             ],
             [
              0.3333333333333333,
              "#9c179e"
             ],
             [
              0.4444444444444444,
              "#bd3786"
             ],
             [
              0.5555555555555556,
              "#d8576b"
             ],
             [
              0.6666666666666666,
              "#ed7953"
             ],
             [
              0.7777777777777778,
              "#fb9f3a"
             ],
             [
              0.8888888888888888,
              "#fdca26"
             ],
             [
              1,
              "#f0f921"
             ]
            ],
            "type": "heatmapgl"
           }
          ],
          "histogram": [
           {
            "marker": {
             "pattern": {
              "fillmode": "overlay",
              "size": 10,
              "solidity": 0.2
             }
            },
            "type": "histogram"
           }
          ],
          "histogram2d": [
           {
            "colorbar": {
             "outlinewidth": 0,
             "ticks": ""
            },
            "colorscale": [
             [
              0,
              "#0d0887"
             ],
             [
              0.1111111111111111,
              "#46039f"
             ],
             [
              0.2222222222222222,
              "#7201a8"
             ],
             [
              0.3333333333333333,
              "#9c179e"
             ],
             [
              0.4444444444444444,
              "#bd3786"
             ],
             [
              0.5555555555555556,
              "#d8576b"
             ],
             [
              0.6666666666666666,
              "#ed7953"
             ],
             [
              0.7777777777777778,
              "#fb9f3a"
             ],
             [
              0.8888888888888888,
              "#fdca26"
             ],
             [
              1,
              "#f0f921"
             ]
            ],
            "type": "histogram2d"
           }
          ],
          "histogram2dcontour": [
           {
            "colorbar": {
             "outlinewidth": 0,
             "ticks": ""
            },
            "colorscale": [
             [
              0,
              "#0d0887"
             ],
             [
              0.1111111111111111,
              "#46039f"
             ],
             [
              0.2222222222222222,
              "#7201a8"
             ],
             [
              0.3333333333333333,
              "#9c179e"
             ],
             [
              0.4444444444444444,
              "#bd3786"
             ],
             [
              0.5555555555555556,
              "#d8576b"
             ],
             [
              0.6666666666666666,
              "#ed7953"
             ],
             [
              0.7777777777777778,
              "#fb9f3a"
             ],
             [
              0.8888888888888888,
              "#fdca26"
             ],
             [
              1,
              "#f0f921"
             ]
            ],
            "type": "histogram2dcontour"
           }
          ],
          "mesh3d": [
           {
            "colorbar": {
             "outlinewidth": 0,
             "ticks": ""
            },
            "type": "mesh3d"
           }
          ],
          "parcoords": [
           {
            "line": {
             "colorbar": {
              "outlinewidth": 0,
              "ticks": ""
             }
            },
            "type": "parcoords"
           }
          ],
          "pie": [
           {
            "automargin": true,
            "type": "pie"
           }
          ],
          "scatter": [
           {
            "fillpattern": {
             "fillmode": "overlay",
             "size": 10,
             "solidity": 0.2
            },
            "type": "scatter"
           }
          ],
          "scatter3d": [
           {
            "line": {
             "colorbar": {
              "outlinewidth": 0,
              "ticks": ""
             }
            },
            "marker": {
             "colorbar": {
              "outlinewidth": 0,
              "ticks": ""
             }
            },
            "type": "scatter3d"
           }
          ],
          "scattercarpet": [
           {
            "marker": {
             "colorbar": {
              "outlinewidth": 0,
              "ticks": ""
             }
            },
            "type": "scattercarpet"
           }
          ],
          "scattergeo": [
           {
            "marker": {
             "colorbar": {
              "outlinewidth": 0,
              "ticks": ""
             }
            },
            "type": "scattergeo"
           }
          ],
          "scattergl": [
           {
            "marker": {
             "colorbar": {
              "outlinewidth": 0,
              "ticks": ""
             }
            },
            "type": "scattergl"
           }
          ],
          "scattermapbox": [
           {
            "marker": {
             "colorbar": {
              "outlinewidth": 0,
              "ticks": ""
             }
            },
            "type": "scattermapbox"
           }
          ],
          "scatterpolar": [
           {
            "marker": {
             "colorbar": {
              "outlinewidth": 0,
              "ticks": ""
             }
            },
            "type": "scatterpolar"
           }
          ],
          "scatterpolargl": [
           {
            "marker": {
             "colorbar": {
              "outlinewidth": 0,
              "ticks": ""
             }
            },
            "type": "scatterpolargl"
           }
          ],
          "scatterternary": [
           {
            "marker": {
             "colorbar": {
              "outlinewidth": 0,
              "ticks": ""
             }
            },
            "type": "scatterternary"
           }
          ],
          "surface": [
           {
            "colorbar": {
             "outlinewidth": 0,
             "ticks": ""
            },
            "colorscale": [
             [
              0,
              "#0d0887"
             ],
             [
              0.1111111111111111,
              "#46039f"
             ],
             [
              0.2222222222222222,
              "#7201a8"
             ],
             [
              0.3333333333333333,
              "#9c179e"
             ],
             [
              0.4444444444444444,
              "#bd3786"
             ],
             [
              0.5555555555555556,
              "#d8576b"
             ],
             [
              0.6666666666666666,
              "#ed7953"
             ],
             [
              0.7777777777777778,
              "#fb9f3a"
             ],
             [
              0.8888888888888888,
              "#fdca26"
             ],
             [
              1,
              "#f0f921"
             ]
            ],
            "type": "surface"
           }
          ],
          "table": [
           {
            "cells": {
             "fill": {
              "color": "#EBF0F8"
             },
             "line": {
              "color": "white"
             }
            },
            "header": {
             "fill": {
              "color": "#C8D4E3"
             },
             "line": {
              "color": "white"
             }
            },
            "type": "table"
           }
          ]
         },
         "layout": {
          "annotationdefaults": {
           "arrowcolor": "#2a3f5f",
           "arrowhead": 0,
           "arrowwidth": 1
          },
          "autotypenumbers": "strict",
          "coloraxis": {
           "colorbar": {
            "outlinewidth": 0,
            "ticks": ""
           }
          },
          "colorscale": {
           "diverging": [
            [
             0,
             "#8e0152"
            ],
            [
             0.1,
             "#c51b7d"
            ],
            [
             0.2,
             "#de77ae"
            ],
            [
             0.3,
             "#f1b6da"
            ],
            [
             0.4,
             "#fde0ef"
            ],
            [
             0.5,
             "#f7f7f7"
            ],
            [
             0.6,
             "#e6f5d0"
            ],
            [
             0.7,
             "#b8e186"
            ],
            [
             0.8,
             "#7fbc41"
            ],
            [
             0.9,
             "#4d9221"
            ],
            [
             1,
             "#276419"
            ]
           ],
           "sequential": [
            [
             0,
             "#0d0887"
            ],
            [
             0.1111111111111111,
             "#46039f"
            ],
            [
             0.2222222222222222,
             "#7201a8"
            ],
            [
             0.3333333333333333,
             "#9c179e"
            ],
            [
             0.4444444444444444,
             "#bd3786"
            ],
            [
             0.5555555555555556,
             "#d8576b"
            ],
            [
             0.6666666666666666,
             "#ed7953"
            ],
            [
             0.7777777777777778,
             "#fb9f3a"
            ],
            [
             0.8888888888888888,
             "#fdca26"
            ],
            [
             1,
             "#f0f921"
            ]
           ],
           "sequentialminus": [
            [
             0,
             "#0d0887"
            ],
            [
             0.1111111111111111,
             "#46039f"
            ],
            [
             0.2222222222222222,
             "#7201a8"
            ],
            [
             0.3333333333333333,
             "#9c179e"
            ],
            [
             0.4444444444444444,
             "#bd3786"
            ],
            [
             0.5555555555555556,
             "#d8576b"
            ],
            [
             0.6666666666666666,
             "#ed7953"
            ],
            [
             0.7777777777777778,
             "#fb9f3a"
            ],
            [
             0.8888888888888888,
             "#fdca26"
            ],
            [
             1,
             "#f0f921"
            ]
           ]
          },
          "colorway": [
           "#636efa",
           "#EF553B",
           "#00cc96",
           "#ab63fa",
           "#FFA15A",
           "#19d3f3",
           "#FF6692",
           "#B6E880",
           "#FF97FF",
           "#FECB52"
          ],
          "font": {
           "color": "#2a3f5f"
          },
          "geo": {
           "bgcolor": "white",
           "lakecolor": "white",
           "landcolor": "#E5ECF6",
           "showlakes": true,
           "showland": true,
           "subunitcolor": "white"
          },
          "hoverlabel": {
           "align": "left"
          },
          "hovermode": "closest",
          "mapbox": {
           "style": "light"
          },
          "paper_bgcolor": "white",
          "plot_bgcolor": "#E5ECF6",
          "polar": {
           "angularaxis": {
            "gridcolor": "white",
            "linecolor": "white",
            "ticks": ""
           },
           "bgcolor": "#E5ECF6",
           "radialaxis": {
            "gridcolor": "white",
            "linecolor": "white",
            "ticks": ""
           }
          },
          "scene": {
           "xaxis": {
            "backgroundcolor": "#E5ECF6",
            "gridcolor": "white",
            "gridwidth": 2,
            "linecolor": "white",
            "showbackground": true,
            "ticks": "",
            "zerolinecolor": "white"
           },
           "yaxis": {
            "backgroundcolor": "#E5ECF6",
            "gridcolor": "white",
            "gridwidth": 2,
            "linecolor": "white",
            "showbackground": true,
            "ticks": "",
            "zerolinecolor": "white"
           },
           "zaxis": {
            "backgroundcolor": "#E5ECF6",
            "gridcolor": "white",
            "gridwidth": 2,
            "linecolor": "white",
            "showbackground": true,
            "ticks": "",
            "zerolinecolor": "white"
           }
          },
          "shapedefaults": {
           "line": {
            "color": "#2a3f5f"
           }
          },
          "ternary": {
           "aaxis": {
            "gridcolor": "white",
            "linecolor": "white",
            "ticks": ""
           },
           "baxis": {
            "gridcolor": "white",
            "linecolor": "white",
            "ticks": ""
           },
           "bgcolor": "#E5ECF6",
           "caxis": {
            "gridcolor": "white",
            "linecolor": "white",
            "ticks": ""
           }
          },
          "title": {
           "x": 0.05
          },
          "xaxis": {
           "automargin": true,
           "gridcolor": "white",
           "linecolor": "white",
           "ticks": "",
           "title": {
            "standoff": 15
           },
           "zerolinecolor": "white",
           "zerolinewidth": 2
          },
          "yaxis": {
           "automargin": true,
           "gridcolor": "white",
           "linecolor": "white",
           "ticks": "",
           "title": {
            "standoff": 15
           },
           "zerolinecolor": "white",
           "zerolinewidth": 2
          }
         }
        },
        "xaxis": {
         "anchor": "y",
         "domain": [
          0,
          1
         ],
         "title": {
          "text": "x"
         }
        },
        "yaxis": {
         "anchor": "x",
         "domain": [
          0,
          1
         ],
         "title": {
          "text": "y"
         }
        }
       }
      }
     },
     "metadata": {},
     "output_type": "display_data"
    }
   ],
   "source": [
    "fig = px.bar(x=r.index, y=r.values)\n",
    "fig.show()"
   ]
  },
  {
   "cell_type": "markdown",
   "id": "279dcf8f",
   "metadata": {},
   "source": [
    "##### Parametric Density Estimation"
   ]
  },
  {
   "cell_type": "code",
   "execution_count": 215,
   "id": "a6cad29a",
   "metadata": {},
   "outputs": [],
   "source": [
    "from numpy.random import normal\n",
    "sample = normal(loc=50, scale=5,size=1000)"
   ]
  },
  {
   "cell_type": "code",
   "execution_count": 216,
   "id": "c24c67f4",
   "metadata": {},
   "outputs": [
    {
     "data": {
      "text/plain": [
       "49.73905740944914"
      ]
     },
     "execution_count": 216,
     "metadata": {},
     "output_type": "execute_result"
    }
   ],
   "source": [
    "sample.mean()"
   ]
  },
  {
   "cell_type": "code",
   "execution_count": 220,
   "id": "db2c444f",
   "metadata": {},
   "outputs": [
    {
     "data": {
      "application/vnd.plotly.v1+json": {
       "config": {
        "plotlyServerURL": "https://plot.ly"
       },
       "data": [
        {
         "alignmentgroup": "True",
         "bingroup": "x",
         "hovertemplate": "variable=0<br>value=%{x}<br>count=%{y}<extra></extra>",
         "legendgroup": "0",
         "marker": {
          "color": "#636efa",
          "pattern": {
           "shape": ""
          }
         },
         "name": "0",
         "nbinsx": 15,
         "offsetgroup": "0",
         "orientation": "v",
         "showlegend": true,
         "type": "histogram",
         "x": [
          44.574595782830485,
          43.68221045112658,
          52.90163723975947,
          47.92116116165306,
          41.883246552965176,
          47.527319166681714,
          48.10393110023567,
          43.12497870011487,
          47.4638933072266,
          47.877607556831464,
          56.773496473705286,
          39.92919008259862,
          41.99270768820532,
          42.234707041664834,
          52.488949772528684,
          52.52321683078813,
          45.819433217270124,
          45.88897110472469,
          54.68080354417847,
          50.32687207655048,
          45.42150462247517,
          42.61359009308794,
          49.14453106942161,
          49.16641615468522,
          48.481196592386254,
          53.05680039587597,
          54.903664035307536,
          44.106725024934676,
          44.03635455523646,
          46.658912811896485,
          46.783312425005896,
          47.438465989474636,
          53.149920970781565,
          48.408904608695075,
          39.260661054126984,
          50.79776025748243,
          52.53264193623282,
          37.60346633578091,
          48.77440592762206,
          53.174960626200736,
          48.744205526001025,
          47.04504174192958,
          49.99020679067297,
          47.653727240636286,
          51.823878895064624,
          60.3687889219187,
          56.68234851289469,
          51.98900329138695,
          45.940102160121995,
          53.75508856397658,
          50.56959650964755,
          46.576361055230684,
          52.895734084049394,
          44.35596213270378,
          56.47554176528675,
          49.70712941971749,
          50.66954154698386,
          41.46419824761181,
          46.07818511807374,
          53.85531478830692,
          40.19301499898721,
          47.00091470016699,
          52.18147441907611,
          47.622376345485726,
          53.422776671533704,
          53.08440567842317,
          48.07783456451322,
          42.8058458870959,
          57.55538600545487,
          53.766299006867534,
          51.12210292719469,
          47.0574796227841,
          51.807743597909806,
          50.015271906349476,
          42.6454585584553,
          46.305321659501104,
          54.59913139878745,
          53.84690629235092,
          37.21606055366807,
          56.149941062552976,
          49.76123580560857,
          39.25970626533184,
          52.89721731320848,
          51.807652696413435,
          51.43362704288524,
          53.53191425514393,
          43.05330081374022,
          53.297232330538236,
          39.54273191337202,
          49.95034449142804,
          49.339699742348955,
          46.60726228495076,
          47.155952553124294,
          53.95733353201987,
          47.12313223798028,
          41.09038331227176,
          48.924102260328254,
          43.032584224475784,
          51.77714744354794,
          48.01310366077818,
          52.268565491276725,
          47.40649312692365,
          52.475817956356835,
          49.611848048899994,
          42.60169092834317,
          52.78663226459933,
          52.62337778212673,
          53.08413398376013,
          54.96440411546619,
          53.810257150890315,
          45.58049530273554,
          54.962002658941834,
          46.17670279531654,
          49.00317976322701,
          57.411818374312624,
          47.586695790463985,
          51.974186119837405,
          49.92116636205159,
          51.324112204922386,
          48.623976184366384,
          46.37675443879857,
          50.14531595752082,
          48.176814615917145,
          51.793476985623876,
          42.674005304166144,
          54.6259541663647,
          44.835847821993255,
          50.33847346161144,
          45.12511348879023,
          43.70823760018013,
          49.13314456196731,
          43.26347926059146,
          46.85134857551171,
          55.83179663587433,
          53.73348775668901,
          51.44700494620889,
          52.053950283920436,
          48.4728348195343,
          50.096777340352595,
          46.050978060821464,
          49.60630984708304,
          51.528013697689005,
          55.56956814723334,
          50.62183626649738,
          48.969591091646734,
          48.673489875139204,
          55.01525288963556,
          49.98887806511597,
          52.15667685827473,
          39.33685496714339,
          53.54360579652656,
          48.581324953306584,
          51.01426994184661,
          52.946513067530084,
          55.419397285277824,
          45.86795579214315,
          46.89251074490178,
          47.89474493414953,
          53.48483642443645,
          51.55350750542857,
          58.845578730716824,
          44.66101392644714,
          52.059451226526356,
          50.958486797095915,
          51.47299493090307,
          50.63198778123333,
          50.3637760668912,
          45.33293111362709,
          53.9235296329551,
          53.84680800491676,
          48.32088658484079,
          46.33140882505246,
          51.171442576872764,
          43.64174066778097,
          53.00503164974882,
          45.89338734951938,
          39.02972740214556,
          55.747343380252254,
          57.65763997990863,
          49.58174843487355,
          49.03693969834871,
          43.26047202359741,
          53.656681071936724,
          48.05949657138771,
          37.06154923073579,
          48.55169231743532,
          45.73677774425511,
          47.4339969908239,
          51.77303261340839,
          43.84746383323275,
          48.4133997942582,
          46.28400809685307,
          46.73947151373597,
          47.99174591105366,
          58.236191156777494,
          44.88051200729492,
          49.236544704554454,
          56.487932178925554,
          59.196343011106165,
          50.481955559542875,
          48.4187397245719,
          38.54730539986647,
          50.68299708868883,
          49.04180585554028,
          48.35235387493976,
          62.4357015675439,
          44.73418948644935,
          46.21865650612662,
          52.314253957493314,
          52.2120214390619,
          50.99712870686112,
          42.04589526440515,
          45.310280410818244,
          55.716883450744064,
          50.68836151536388,
          61.375173190047484,
          54.10791736807816,
          43.303780494087704,
          48.93197520225483,
          51.61291909804678,
          52.91806761291656,
          43.45205950365559,
          63.49677245655401,
          46.086705383599835,
          50.11754237219051,
          43.032092892740685,
          48.19528286316896,
          48.543794862678254,
          48.27958367936152,
          44.650685256183806,
          52.5330789568482,
          51.78999713962733,
          51.24929431071316,
          46.26131913291591,
          53.60633693432193,
          53.645640135263726,
          49.95029698311255,
          57.25363115537495,
          54.474614320977174,
          49.15931934481601,
          45.980090524441025,
          49.66502294069518,
          54.94734058278645,
          53.39617372999299,
          55.8834805187155,
          37.355372094987175,
          46.80534505886496,
          42.793750686907,
          56.69187126179483,
          56.85093112412153,
          43.41268063326621,
          48.87040579844879,
          56.09869298721709,
          49.31322645282671,
          46.764992690952845,
          51.89884925892733,
          43.2368761040885,
          47.58089537969939,
          49.09406710507741,
          47.4956773020055,
          54.19040999666021,
          54.00653128185743,
          55.91319842781512,
          42.61861419506558,
          53.807837735152944,
          50.79966424858189,
          53.12683252917982,
          50.421813727195754,
          54.14220088213403,
          52.81199765645945,
          42.88295565906821,
          43.15637645001516,
          51.56844366757933,
          45.17603698793798,
          60.78046619492826,
          49.39857061117527,
          53.22348445266993,
          47.930427131419215,
          53.32322453221854,
          45.989689570134196,
          44.86775170911115,
          47.199582938135435,
          48.20957066664847,
          47.654573188163354,
          53.10348842154853,
          56.45627826353354,
          53.86750124520427,
          44.31439156027774,
          55.388996776085314,
          56.67834567981303,
          44.82709069653654,
          54.34812257553476,
          48.67039236074976,
          58.8387056909519,
          57.12578411441914,
          46.06685289091024,
          56.22065548145557,
          55.08960825471452,
          55.52691767399644,
          53.68837035449371,
          53.60040582006283,
          45.478407273020125,
          52.57184285575199,
          54.00110655445656,
          52.319307469354925,
          50.80496251055474,
          51.478872330617826,
          53.32274509179145,
          48.53623055024219,
          60.2533321817065,
          57.41577538831487,
          45.05783207404465,
          48.866419261716764,
          41.111214559421725,
          57.26242639778807,
          47.69908310660883,
          44.40356566340362,
          48.119814308437675,
          42.599748931270746,
          46.25555328166436,
          45.14018512931496,
          51.62134871098606,
          49.49923266405786,
          52.07299280318375,
          51.67992877216534,
          42.16307210267369,
          44.522887479618355,
          41.84703681796081,
          51.052822678701084,
          62.424358225894714,
          47.682860333377114,
          51.145305161584105,
          52.44149104970474,
          40.20629331526556,
          46.88278188287647,
          48.03936587127836,
          54.807265381569096,
          53.84222637757098,
          49.598268388930144,
          53.71333562950484,
          50.44327375704404,
          46.42016172339967,
          46.92502662422898,
          45.189518693576346,
          46.74351912034631,
          50.422729951635,
          53.12125777501918,
          52.027670878842024,
          49.00399871972805,
          50.50461768399455,
          60.56347171009293,
          50.36128439278771,
          43.70830646360864,
          54.937241107515746,
          52.706088316864225,
          47.176647638082,
          56.47621126438462,
          38.78483621563734,
          57.52883608601314,
          48.52972170857445,
          52.89042342061764,
          45.75095631098759,
          46.760111316685645,
          56.69584583697242,
          52.57714883406071,
          46.65921988578238,
          46.598334610590356,
          45.44790679260596,
          46.595314448806015,
          54.13093120028924,
          44.85152108633926,
          51.78312817654032,
          44.428768591118654,
          52.67871871767141,
          47.48345519563682,
          55.09338713733432,
          44.302855677904596,
          45.90804012792219,
          56.728093136351525,
          51.91131418862148,
          39.989646386536684,
          43.190492573262105,
          58.05489446437933,
          54.65381585039171,
          45.92185053437336,
          56.00089281216697,
          52.52844323779589,
          58.844036358252865,
          45.0071092420529,
          43.99442071746939,
          43.913518917496056,
          59.70267996409797,
          57.06260625651376,
          56.647382116530395,
          52.52938971790287,
          42.913869025846964,
          37.04024219565365,
          50.14173856995454,
          49.31100492801797,
          41.11147719819641,
          42.32501631989429,
          49.12828396389539,
          45.689031963592406,
          49.410857297793314,
          48.74692143339021,
          42.28471534152348,
          42.25066063037333,
          43.447383333371086,
          48.151210229149555,
          49.83673626969219,
          47.09486528612567,
          45.750423155398714,
          49.44505839646428,
          46.398165288159674,
          40.82017774747135,
          51.97891946225855,
          43.20801719201643,
          42.55366255284199,
          57.57770387423046,
          47.0886219883125,
          50.44515250213892,
          46.34514689716147,
          46.370442368207,
          48.5874597099776,
          47.14486582368736,
          58.558066364421606,
          39.03732583620845,
          57.31727380203981,
          51.33955651036859,
          55.727584738471,
          48.559373691085895,
          59.37299054593024,
          50.56125587138295,
          54.82429567506727,
          55.885244894619255,
          57.29894658568766,
          47.515193772157346,
          45.34510870007292,
          50.21478856845962,
          50.55727363965853,
          47.131744217400346,
          46.43175073075538,
          50.05151001777518,
          49.22361039379903,
          52.34945921167059,
          51.78758069778419,
          46.31208776824361,
          40.8889681260726,
          46.77616373391009,
          50.21262498863692,
          52.97981078880427,
          51.92662138467761,
          51.71230784968078,
          53.55707925584472,
          48.03489746299678,
          60.935361461668414,
          55.91584209367142,
          53.31970605360469,
          45.718637097909195,
          46.37507844587547,
          45.21403330712609,
          50.112653859957014,
          51.778335743051436,
          51.95104618840904,
          49.575747074775585,
          57.86263295856211,
          45.22193481601619,
          47.42819702191149,
          46.950435288894994,
          46.26650213994875,
          52.370320118237686,
          58.0141856667406,
          50.64988487781756,
          56.08184504369075,
          51.51055587657075,
          47.04699324983662,
          50.28720756261295,
          49.4616932081589,
          49.97198925581746,
          53.252021253167364,
          46.96640600196846,
          46.68080577052383,
          43.58337360321218,
          48.57172273750571,
          45.49068013012695,
          47.88898194514459,
          45.526422013640904,
          50.272410407875014,
          56.229836134957594,
          45.506595429232554,
          51.87807689092734,
          51.46966950816708,
          57.72482183973727,
          56.55051369690909,
          51.12549927652349,
          53.18673275664398,
          58.961888018775895,
          45.044859836323425,
          53.33918299956652,
          45.20433020991627,
          47.79009861259563,
          46.35219435103775,
          52.76524409994457,
          60.926451655109496,
          36.779894280354284,
          52.232271086936855,
          52.28019743242098,
          45.106961889336276,
          49.738178916273796,
          47.3310326916546,
          52.22521170840606,
          58.520646555986275,
          47.30835262913891,
          50.05135491798115,
          37.01663410185723,
          51.41737837576263,
          49.622782521191375,
          46.57084164359296,
          51.041611400898795,
          52.603669207912375,
          52.64957465960103,
          47.60998309318466,
          54.409353288762006,
          54.0046521869977,
          47.75991439955823,
          44.83128237861966,
          41.44254775513906,
          53.127829309038965,
          46.38887222678072,
          43.237406657906824,
          48.73554105967377,
          54.11009800508474,
          50.411099013604634,
          57.88005873833677,
          48.79646234699386,
          47.79857702211712,
          49.042555907953876,
          46.36628906363229,
          50.249863165932695,
          47.54631762311567,
          56.544881167079346,
          48.462931497087176,
          50.65128413193135,
          52.08929604728512,
          47.88429152061388,
          44.1239702894252,
          50.64509686863765,
          46.62736907679106,
          44.321057337341635,
          51.59375487160487,
          59.71096129071872,
          48.77202844026951,
          56.55323944952079,
          48.97543525104266,
          55.47281507180739,
          56.20462552058606,
          50.8317249098081,
          42.826811019331046,
          45.66877687702459,
          54.086963065712006,
          48.06350550732063,
          50.65955278256107,
          45.97623296623282,
          52.27774193765425,
          56.01502445364127,
          52.22198824576907,
          50.13779650924208,
          58.8508415427153,
          48.3417297342248,
          59.92920191106184,
          42.232221986668165,
          62.59850528603785,
          60.956497775976615,
          51.86600606852225,
          51.458018271004185,
          42.31162258045366,
          45.84664221013152,
          47.49182850780163,
          50.63853404093524,
          53.83026445128091,
          45.85310535700066,
          53.79533276468256,
          48.61635309243521,
          60.92084672203016,
          47.603601312768596,
          56.25762527939768,
          55.231727255993775,
          56.21944991557193,
          55.44527348244672,
          48.003108443165615,
          53.587669050947696,
          54.10951283775442,
          47.71470039222951,
          53.75351799241711,
          55.60041515281287,
          52.23054179094032,
          46.45839911726566,
          52.08873926727642,
          50.59945367113553,
          45.51841659707609,
          51.217550838413466,
          47.66086506392254,
          45.75449790945466,
          58.18009829097487,
          50.459693288480516,
          37.678228788713895,
          53.77230621846921,
          56.403604828705156,
          46.02469503243606,
          49.96168016118906,
          45.8214056329716,
          46.16438603452174,
          50.62773508678474,
          50.36993737537247,
          39.71945050570715,
          52.942499143470606,
          49.64637858283477,
          45.16448087094059,
          43.99508745529937,
          49.272955844926265,
          43.8001592979458,
          53.222165687197034,
          47.2593770977049,
          49.65234456457137,
          50.55302066192269,
          53.849117652493426,
          52.592401239171885,
          55.49424001718048,
          47.52956009337629,
          53.667967779008045,
          53.134858345203256,
          53.167700051163116,
          43.134165385801325,
          45.89207292572353,
          44.40103259696059,
          47.105896094584814,
          49.521885413341,
          44.326143908109295,
          53.860079923198334,
          57.147208889866505,
          55.58962885151749,
          57.31592880532996,
          51.68774001665585,
          51.35174023535816,
          47.83587633622807,
          54.550368748887855,
          41.9798259147367,
          52.199506172873036,
          58.56862065734859,
          53.89481602367808,
          49.89458231084023,
          53.071692015258826,
          44.236100273310655,
          50.360955178713546,
          46.210629574587905,
          44.43589659184941,
          50.24715598777248,
          42.534970115169614,
          44.775912673485024,
          49.92346802644063,
          49.88248935718923,
          42.45659481012725,
          48.54311276996842,
          51.761747189991176,
          47.672207512950294,
          39.798901447321555,
          43.22530294623027,
          43.882040351954586,
          52.80640788594488,
          49.02957021859289,
          51.055414308597065,
          44.29950585018945,
          50.35257564730899,
          45.77022176872887,
          46.995107587811546,
          45.653293104133006,
          45.36338312310199,
          40.06053326241006,
          55.03325021892793,
          52.007005759683025,
          45.66611168651468,
          47.813279198895344,
          43.48628521317916,
          53.26214414343067,
          52.8427468269729,
          51.04785330852183,
          38.34392808587642,
          52.54902197650893,
          61.357586170711556,
          46.14584847068852,
          55.23966255195151,
          42.41209131295481,
          45.74094089554373,
          45.37635501078878,
          46.65769767409341,
          49.19674215281105,
          51.145680554799604,
          51.00126406602137,
          57.47311405832898,
          51.26170573016967,
          56.56275096818129,
          46.77967293854855,
          53.25580447153565,
          59.84915985048849,
          52.656109655913184,
          49.00191196987948,
          57.619585195389575,
          39.952616559499404,
          48.029337886829445,
          43.267658429499406,
          56.16415768543851,
          57.479665364323594,
          44.79405827073002,
          50.8631533550511,
          43.634008244230394,
          52.27293248087394,
          47.21908235765958,
          44.86413723526212,
          49.58863203544844,
          56.128720339687334,
          56.421493315261536,
          41.675268283593965,
          44.67024969578339,
          50.785130824576534,
          50.01636092597735,
          57.52372016420031,
          53.0450839284513,
          50.36547495580864,
          49.952781818478506,
          51.00669742781659,
          54.546677901742434,
          51.09895991956201,
          53.12436222265674,
          49.160657547701355,
          43.04956978932478,
          49.32473187195961,
          52.162057906070956,
          45.51412930061949,
          49.10451666662428,
          50.56640872283553,
          55.8487489416085,
          53.62061489475718,
          47.26075592313086,
          60.135006568846926,
          46.78355204061524,
          52.35902755317069,
          44.82453650606199,
          44.1177955467995,
          46.55517799535866,
          52.49771958563746,
          52.74438421303772,
          54.92631593351156,
          47.492463213347634,
          53.64170831718528,
          46.29439675789273,
          55.310879632518194,
          57.29814096053346,
          45.35293254629753,
          43.09325854498169,
          49.45959826991461,
          50.34358670834686,
          52.650741526297985,
          52.10797035875662,
          55.60198849094658,
          46.1286791226457,
          40.9544192227992,
          50.75318396058521,
          61.33980450589533,
          47.63357283433835,
          45.540137447526305,
          56.98988508827351,
          47.916843238146186,
          57.19940753002884,
          51.147604712793814,
          46.53010203907514,
          54.07781613976407,
          52.60129937941344,
          47.57388623795731,
          50.702371693530964,
          56.59728868869761,
          57.03275214158193,
          39.41229246375721,
          49.0589935641286,
          55.047751055747575,
          47.31090599518725,
          51.92225381276247,
          46.053801141034846,
          44.57064666811633,
          48.5115286761552,
          58.95562858634229,
          60.25940482937693,
          45.61982262685923,
          43.14346594078058,
          45.525841442160875,
          49.742678099157715,
          51.956442051822684,
          50.74983945313576,
          53.04429868156478,
          47.31307604149562,
          44.12835393861436,
          41.143755082161704,
          51.86991576109326,
          45.086854841772364,
          50.07152502422832,
          54.04904053180702,
          45.02902688158976,
          48.6460788576658,
          46.350616407464884,
          42.911001124360524,
          53.955334594313456,
          51.85044546564573,
          39.85626689876863,
          51.2482839255161,
          51.178124555244565,
          52.66355924458219,
          51.2665805392484,
          40.806537173597704,
          46.74029779579098,
          45.73130457589701,
          56.03217271449919,
          52.193761965230514,
          49.9506438489836,
          53.12404085023266,
          42.86225356089007,
          46.363026101599516,
          46.59667406882551,
          44.157449723725115,
          48.5655852205865,
          52.957374153388955,
          55.82164956784248,
          49.42103412896641,
          41.063973823113535,
          39.63843385429146,
          52.78377054282964,
          51.368848923301826,
          55.88908997413546,
          58.11981277937098,
          61.64961078005288,
          52.67929447346866,
          53.553416523576715,
          46.32742092728224,
          52.277330917777576,
          39.67882304358799,
          56.536079431823346,
          55.240077388454914,
          51.1558133997717,
          46.26610734008029,
          40.25381421147053,
          53.080354698557045,
          57.23086997152812,
          53.26884751299565,
          47.33234467870159,
          47.37924108431124,
          51.968005488232706,
          57.947805133662776,
          51.763646789567396,
          43.25464604860058,
          41.036979705597915,
          52.8582778372096,
          47.67402474631712,
          39.28542311518609,
          48.361802195371205,
          48.683844902286225,
          49.55928457100042,
          53.40366936296854,
          53.57739119554077,
          45.23615934324562,
          49.33384061190151,
          55.98912931696811,
          48.29669412159752,
          38.35543913568472,
          57.3145235602424,
          50.356211894479614,
          44.9969498501859,
          46.04933280217183,
          44.17560342895759,
          51.468209309816466,
          40.69254597888698,
          52.26204778285187,
          60.95456364633826,
          51.22004157975629,
          50.95483380507107,
          41.57118366211665,
          59.009075296688124,
          56.69361871072704,
          46.23517601142051,
          56.91554841406361,
          45.35864960236722,
          51.74049820304056,
          48.04366466995956,
          50.708575375978846,
          45.48991547405819,
          48.21366944553356,
          48.444307500311986,
          47.103325556051644,
          50.83143174216544,
          42.21227931908436,
          46.780022902866314,
          46.640046003464654,
          47.18113600073391,
          50.08007682131637,
          52.66167620970182,
          42.44130518717362,
          49.35379284273695,
          47.81950040725186,
          35.26661713066488,
          47.81898603354085,
          46.10957557976251,
          50.97705038182994,
          51.05764081529678,
          51.12357490779876,
          48.817275546664476,
          54.624101421712545,
          50.57401828920384,
          37.5502306450333,
          49.85649698733401,
          48.62989460958541,
          54.997713055132756,
          49.89366447286175,
          43.18509581300569,
          53.25667522026889,
          44.67417624296152,
          48.73535044510808,
          60.757168942728725,
          49.65432525466593,
          48.08665023847035,
          51.22785661251265,
          48.004999652236975,
          55.69951006089627,
          50.11020934394408,
          48.96259265543143,
          45.89545067187866,
          55.98432073281702,
          58.59768107319267,
          53.56355340027418,
          44.77606613418862,
          44.182638499181664,
          59.1905964336767,
          41.19858186209345,
          48.18633002482957,
          42.2590621783747,
          53.48338711771864,
          56.10209264416141,
          52.19433710254278,
          40.20523850530112,
          52.55672657300167,
          50.50904034327404,
          46.37625076321583,
          51.20951370530294,
          51.94893292254978,
          45.202855327659016,
          55.75101180859447,
          46.24265790274667,
          51.090339792944604,
          46.82808542207326,
          52.7529261961827,
          47.01244514720669,
          44.66969344337541,
          38.02137941413943,
          49.22577182338761,
          54.76555197716808,
          46.54528412826686,
          50.360445627572524,
          48.80478937401781,
          57.96386484298471,
          43.86685073252845,
          41.63533295908352,
          51.71556384584901,
          45.134803511375026,
          55.567209225907924,
          52.49501161226513,
          64.00694035452862,
          50.3263644181718,
          55.236127374823305,
          43.20763193246903,
          55.28157688469002,
          58.668894963635644,
          53.95029731564468,
          48.039937112193584,
          58.49571663975213,
          54.94631885767205,
          48.09968273549792,
          52.52323025139569,
          56.92698859011025,
          58.54504810877657,
          45.12125942452034,
          49.90671712339424,
          44.18771073432205,
          57.59281493406036,
          50.30877697415826,
          43.61844843399285,
          49.85897101866868,
          51.041345331467454,
          39.3244713350014,
          51.288424169524816,
          54.1374649620633,
          47.74972363964583,
          50.308757769963904,
          53.46061621356554,
          54.321135057843264
         ],
         "xaxis": "x",
         "yaxis": "y"
        }
       ],
       "layout": {
        "barmode": "relative",
        "legend": {
         "title": {
          "text": "variable"
         },
         "tracegroupgap": 0
        },
        "margin": {
         "t": 60
        },
        "template": {
         "data": {
          "bar": [
           {
            "error_x": {
             "color": "#2a3f5f"
            },
            "error_y": {
             "color": "#2a3f5f"
            },
            "marker": {
             "line": {
              "color": "#E5ECF6",
              "width": 0.5
             },
             "pattern": {
              "fillmode": "overlay",
              "size": 10,
              "solidity": 0.2
             }
            },
            "type": "bar"
           }
          ],
          "barpolar": [
           {
            "marker": {
             "line": {
              "color": "#E5ECF6",
              "width": 0.5
             },
             "pattern": {
              "fillmode": "overlay",
              "size": 10,
              "solidity": 0.2
             }
            },
            "type": "barpolar"
           }
          ],
          "carpet": [
           {
            "aaxis": {
             "endlinecolor": "#2a3f5f",
             "gridcolor": "white",
             "linecolor": "white",
             "minorgridcolor": "white",
             "startlinecolor": "#2a3f5f"
            },
            "baxis": {
             "endlinecolor": "#2a3f5f",
             "gridcolor": "white",
             "linecolor": "white",
             "minorgridcolor": "white",
             "startlinecolor": "#2a3f5f"
            },
            "type": "carpet"
           }
          ],
          "choropleth": [
           {
            "colorbar": {
             "outlinewidth": 0,
             "ticks": ""
            },
            "type": "choropleth"
           }
          ],
          "contour": [
           {
            "colorbar": {
             "outlinewidth": 0,
             "ticks": ""
            },
            "colorscale": [
             [
              0,
              "#0d0887"
             ],
             [
              0.1111111111111111,
              "#46039f"
             ],
             [
              0.2222222222222222,
              "#7201a8"
             ],
             [
              0.3333333333333333,
              "#9c179e"
             ],
             [
              0.4444444444444444,
              "#bd3786"
             ],
             [
              0.5555555555555556,
              "#d8576b"
             ],
             [
              0.6666666666666666,
              "#ed7953"
             ],
             [
              0.7777777777777778,
              "#fb9f3a"
             ],
             [
              0.8888888888888888,
              "#fdca26"
             ],
             [
              1,
              "#f0f921"
             ]
            ],
            "type": "contour"
           }
          ],
          "contourcarpet": [
           {
            "colorbar": {
             "outlinewidth": 0,
             "ticks": ""
            },
            "type": "contourcarpet"
           }
          ],
          "heatmap": [
           {
            "colorbar": {
             "outlinewidth": 0,
             "ticks": ""
            },
            "colorscale": [
             [
              0,
              "#0d0887"
             ],
             [
              0.1111111111111111,
              "#46039f"
             ],
             [
              0.2222222222222222,
              "#7201a8"
             ],
             [
              0.3333333333333333,
              "#9c179e"
             ],
             [
              0.4444444444444444,
              "#bd3786"
             ],
             [
              0.5555555555555556,
              "#d8576b"
             ],
             [
              0.6666666666666666,
              "#ed7953"
             ],
             [
              0.7777777777777778,
              "#fb9f3a"
             ],
             [
              0.8888888888888888,
              "#fdca26"
             ],
             [
              1,
              "#f0f921"
             ]
            ],
            "type": "heatmap"
           }
          ],
          "heatmapgl": [
           {
            "colorbar": {
             "outlinewidth": 0,
             "ticks": ""
            },
            "colorscale": [
             [
              0,
              "#0d0887"
             ],
             [
              0.1111111111111111,
              "#46039f"
             ],
             [
              0.2222222222222222,
              "#7201a8"
             ],
             [
              0.3333333333333333,
              "#9c179e"
             ],
             [
              0.4444444444444444,
              "#bd3786"
             ],
             [
              0.5555555555555556,
              "#d8576b"
             ],
             [
              0.6666666666666666,
              "#ed7953"
             ],
             [
              0.7777777777777778,
              "#fb9f3a"
             ],
             [
              0.8888888888888888,
              "#fdca26"
             ],
             [
              1,
              "#f0f921"
             ]
            ],
            "type": "heatmapgl"
           }
          ],
          "histogram": [
           {
            "marker": {
             "pattern": {
              "fillmode": "overlay",
              "size": 10,
              "solidity": 0.2
             }
            },
            "type": "histogram"
           }
          ],
          "histogram2d": [
           {
            "colorbar": {
             "outlinewidth": 0,
             "ticks": ""
            },
            "colorscale": [
             [
              0,
              "#0d0887"
             ],
             [
              0.1111111111111111,
              "#46039f"
             ],
             [
              0.2222222222222222,
              "#7201a8"
             ],
             [
              0.3333333333333333,
              "#9c179e"
             ],
             [
              0.4444444444444444,
              "#bd3786"
             ],
             [
              0.5555555555555556,
              "#d8576b"
             ],
             [
              0.6666666666666666,
              "#ed7953"
             ],
             [
              0.7777777777777778,
              "#fb9f3a"
             ],
             [
              0.8888888888888888,
              "#fdca26"
             ],
             [
              1,
              "#f0f921"
             ]
            ],
            "type": "histogram2d"
           }
          ],
          "histogram2dcontour": [
           {
            "colorbar": {
             "outlinewidth": 0,
             "ticks": ""
            },
            "colorscale": [
             [
              0,
              "#0d0887"
             ],
             [
              0.1111111111111111,
              "#46039f"
             ],
             [
              0.2222222222222222,
              "#7201a8"
             ],
             [
              0.3333333333333333,
              "#9c179e"
             ],
             [
              0.4444444444444444,
              "#bd3786"
             ],
             [
              0.5555555555555556,
              "#d8576b"
             ],
             [
              0.6666666666666666,
              "#ed7953"
             ],
             [
              0.7777777777777778,
              "#fb9f3a"
             ],
             [
              0.8888888888888888,
              "#fdca26"
             ],
             [
              1,
              "#f0f921"
             ]
            ],
            "type": "histogram2dcontour"
           }
          ],
          "mesh3d": [
           {
            "colorbar": {
             "outlinewidth": 0,
             "ticks": ""
            },
            "type": "mesh3d"
           }
          ],
          "parcoords": [
           {
            "line": {
             "colorbar": {
              "outlinewidth": 0,
              "ticks": ""
             }
            },
            "type": "parcoords"
           }
          ],
          "pie": [
           {
            "automargin": true,
            "type": "pie"
           }
          ],
          "scatter": [
           {
            "fillpattern": {
             "fillmode": "overlay",
             "size": 10,
             "solidity": 0.2
            },
            "type": "scatter"
           }
          ],
          "scatter3d": [
           {
            "line": {
             "colorbar": {
              "outlinewidth": 0,
              "ticks": ""
             }
            },
            "marker": {
             "colorbar": {
              "outlinewidth": 0,
              "ticks": ""
             }
            },
            "type": "scatter3d"
           }
          ],
          "scattercarpet": [
           {
            "marker": {
             "colorbar": {
              "outlinewidth": 0,
              "ticks": ""
             }
            },
            "type": "scattercarpet"
           }
          ],
          "scattergeo": [
           {
            "marker": {
             "colorbar": {
              "outlinewidth": 0,
              "ticks": ""
             }
            },
            "type": "scattergeo"
           }
          ],
          "scattergl": [
           {
            "marker": {
             "colorbar": {
              "outlinewidth": 0,
              "ticks": ""
             }
            },
            "type": "scattergl"
           }
          ],
          "scattermapbox": [
           {
            "marker": {
             "colorbar": {
              "outlinewidth": 0,
              "ticks": ""
             }
            },
            "type": "scattermapbox"
           }
          ],
          "scatterpolar": [
           {
            "marker": {
             "colorbar": {
              "outlinewidth": 0,
              "ticks": ""
             }
            },
            "type": "scatterpolar"
           }
          ],
          "scatterpolargl": [
           {
            "marker": {
             "colorbar": {
              "outlinewidth": 0,
              "ticks": ""
             }
            },
            "type": "scatterpolargl"
           }
          ],
          "scatterternary": [
           {
            "marker": {
             "colorbar": {
              "outlinewidth": 0,
              "ticks": ""
             }
            },
            "type": "scatterternary"
           }
          ],
          "surface": [
           {
            "colorbar": {
             "outlinewidth": 0,
             "ticks": ""
            },
            "colorscale": [
             [
              0,
              "#0d0887"
             ],
             [
              0.1111111111111111,
              "#46039f"
             ],
             [
              0.2222222222222222,
              "#7201a8"
             ],
             [
              0.3333333333333333,
              "#9c179e"
             ],
             [
              0.4444444444444444,
              "#bd3786"
             ],
             [
              0.5555555555555556,
              "#d8576b"
             ],
             [
              0.6666666666666666,
              "#ed7953"
             ],
             [
              0.7777777777777778,
              "#fb9f3a"
             ],
             [
              0.8888888888888888,
              "#fdca26"
             ],
             [
              1,
              "#f0f921"
             ]
            ],
            "type": "surface"
           }
          ],
          "table": [
           {
            "cells": {
             "fill": {
              "color": "#EBF0F8"
             },
             "line": {
              "color": "white"
             }
            },
            "header": {
             "fill": {
              "color": "#C8D4E3"
             },
             "line": {
              "color": "white"
             }
            },
            "type": "table"
           }
          ]
         },
         "layout": {
          "annotationdefaults": {
           "arrowcolor": "#2a3f5f",
           "arrowhead": 0,
           "arrowwidth": 1
          },
          "autotypenumbers": "strict",
          "coloraxis": {
           "colorbar": {
            "outlinewidth": 0,
            "ticks": ""
           }
          },
          "colorscale": {
           "diverging": [
            [
             0,
             "#8e0152"
            ],
            [
             0.1,
             "#c51b7d"
            ],
            [
             0.2,
             "#de77ae"
            ],
            [
             0.3,
             "#f1b6da"
            ],
            [
             0.4,
             "#fde0ef"
            ],
            [
             0.5,
             "#f7f7f7"
            ],
            [
             0.6,
             "#e6f5d0"
            ],
            [
             0.7,
             "#b8e186"
            ],
            [
             0.8,
             "#7fbc41"
            ],
            [
             0.9,
             "#4d9221"
            ],
            [
             1,
             "#276419"
            ]
           ],
           "sequential": [
            [
             0,
             "#0d0887"
            ],
            [
             0.1111111111111111,
             "#46039f"
            ],
            [
             0.2222222222222222,
             "#7201a8"
            ],
            [
             0.3333333333333333,
             "#9c179e"
            ],
            [
             0.4444444444444444,
             "#bd3786"
            ],
            [
             0.5555555555555556,
             "#d8576b"
            ],
            [
             0.6666666666666666,
             "#ed7953"
            ],
            [
             0.7777777777777778,
             "#fb9f3a"
            ],
            [
             0.8888888888888888,
             "#fdca26"
            ],
            [
             1,
             "#f0f921"
            ]
           ],
           "sequentialminus": [
            [
             0,
             "#0d0887"
            ],
            [
             0.1111111111111111,
             "#46039f"
            ],
            [
             0.2222222222222222,
             "#7201a8"
            ],
            [
             0.3333333333333333,
             "#9c179e"
            ],
            [
             0.4444444444444444,
             "#bd3786"
            ],
            [
             0.5555555555555556,
             "#d8576b"
            ],
            [
             0.6666666666666666,
             "#ed7953"
            ],
            [
             0.7777777777777778,
             "#fb9f3a"
            ],
            [
             0.8888888888888888,
             "#fdca26"
            ],
            [
             1,
             "#f0f921"
            ]
           ]
          },
          "colorway": [
           "#636efa",
           "#EF553B",
           "#00cc96",
           "#ab63fa",
           "#FFA15A",
           "#19d3f3",
           "#FF6692",
           "#B6E880",
           "#FF97FF",
           "#FECB52"
          ],
          "font": {
           "color": "#2a3f5f"
          },
          "geo": {
           "bgcolor": "white",
           "lakecolor": "white",
           "landcolor": "#E5ECF6",
           "showlakes": true,
           "showland": true,
           "subunitcolor": "white"
          },
          "hoverlabel": {
           "align": "left"
          },
          "hovermode": "closest",
          "mapbox": {
           "style": "light"
          },
          "paper_bgcolor": "white",
          "plot_bgcolor": "#E5ECF6",
          "polar": {
           "angularaxis": {
            "gridcolor": "white",
            "linecolor": "white",
            "ticks": ""
           },
           "bgcolor": "#E5ECF6",
           "radialaxis": {
            "gridcolor": "white",
            "linecolor": "white",
            "ticks": ""
           }
          },
          "scene": {
           "xaxis": {
            "backgroundcolor": "#E5ECF6",
            "gridcolor": "white",
            "gridwidth": 2,
            "linecolor": "white",
            "showbackground": true,
            "ticks": "",
            "zerolinecolor": "white"
           },
           "yaxis": {
            "backgroundcolor": "#E5ECF6",
            "gridcolor": "white",
            "gridwidth": 2,
            "linecolor": "white",
            "showbackground": true,
            "ticks": "",
            "zerolinecolor": "white"
           },
           "zaxis": {
            "backgroundcolor": "#E5ECF6",
            "gridcolor": "white",
            "gridwidth": 2,
            "linecolor": "white",
            "showbackground": true,
            "ticks": "",
            "zerolinecolor": "white"
           }
          },
          "shapedefaults": {
           "line": {
            "color": "#2a3f5f"
           }
          },
          "ternary": {
           "aaxis": {
            "gridcolor": "white",
            "linecolor": "white",
            "ticks": ""
           },
           "baxis": {
            "gridcolor": "white",
            "linecolor": "white",
            "ticks": ""
           },
           "bgcolor": "#E5ECF6",
           "caxis": {
            "gridcolor": "white",
            "linecolor": "white",
            "ticks": ""
           }
          },
          "title": {
           "x": 0.05
          },
          "xaxis": {
           "automargin": true,
           "gridcolor": "white",
           "linecolor": "white",
           "ticks": "",
           "title": {
            "standoff": 15
           },
           "zerolinecolor": "white",
           "zerolinewidth": 2
          },
          "yaxis": {
           "automargin": true,
           "gridcolor": "white",
           "linecolor": "white",
           "ticks": "",
           "title": {
            "standoff": 15
           },
           "zerolinecolor": "white",
           "zerolinewidth": 2
          }
         }
        },
        "xaxis": {
         "anchor": "y",
         "domain": [
          0,
          1
         ],
         "title": {
          "text": "value"
         }
        },
        "yaxis": {
         "anchor": "x",
         "domain": [
          0,
          1
         ],
         "title": {
          "text": "count"
         }
        }
       }
      }
     },
     "metadata": {},
     "output_type": "display_data"
    }
   ],
   "source": [
    "# plot histogram to understand the distribution of data\n",
    "fig=px.histogram(sample,nbins=15)\n",
    "fig.show()"
   ]
  },
  {
   "cell_type": "code",
   "execution_count": 221,
   "id": "9f62c9fe",
   "metadata": {},
   "outputs": [],
   "source": [
    "# calculate sample mean and sample std dev\n",
    "sample_mean = sample.mean()\n",
    "sample_std = sample.std()"
   ]
  },
  {
   "cell_type": "code",
   "execution_count": 222,
   "id": "558eae8e",
   "metadata": {},
   "outputs": [],
   "source": [
    "# fit the distribution with the above parameters\n",
    "from scipy.stats import norm\n",
    "dist = norm(60, 12)"
   ]
  },
  {
   "cell_type": "code",
   "execution_count": 223,
   "id": "01246526",
   "metadata": {},
   "outputs": [],
   "source": [
    "values = np.linspace(sample.min(),sample.max(),100)"
   ]
  },
  {
   "cell_type": "code",
   "execution_count": 224,
   "id": "817febd1",
   "metadata": {},
   "outputs": [
    {
     "data": {
      "text/plain": [
       "64.00694035452862"
      ]
     },
     "execution_count": 224,
     "metadata": {},
     "output_type": "execute_result"
    }
   ],
   "source": [
    "sample.max()"
   ]
  },
  {
   "cell_type": "code",
   "execution_count": 225,
   "id": "3c4d740b",
   "metadata": {},
   "outputs": [],
   "source": [
    "prob_densities = [dist.pdf(value) for value in values]"
   ]
  },
  {
   "cell_type": "code",
   "execution_count": 226,
   "id": "c0d17583",
   "metadata": {},
   "outputs": [
    {
     "data": {
      "text/plain": [
       "[<matplotlib.lines.Line2D at 0x1fb2d473020>]"
      ]
     },
     "execution_count": 226,
     "metadata": {},
     "output_type": "execute_result"
    },
    {
     "data": {
      "image/png": "[encoded data removed]",
      "text/plain": [
       "<Figure size 640x480 with 1 Axes>"
      ]
     },
     "metadata": {},
     "output_type": "display_data"
    }
   ],
   "source": [
    "# plot the histogram and pdf\n",
    "plt.hist(sample,bins=10,density=True)\n",
    "plt.plot(values,prob_densities)"
   ]
  },
  {
   "cell_type": "code",
   "execution_count": 228,
   "id": "778d7c0f",
   "metadata": {},
   "outputs": [
    {
     "data": {
      "text/plain": [
       "<Axes: ylabel='Count'>"
      ]
     },
     "execution_count": 228,
     "metadata": {},
     "output_type": "execute_result"
    },
    {
     "data": {
      "image/png": "[encoded data removed]",
      "text/plain": [
       "<Figure size 640x480 with 1 Axes>"
      ]
     },
     "metadata": {},
     "output_type": "display_data"
    }
   ],
   "source": [
    "import seaborn as sns\n",
    "sns.histplot(sample)"
   ]
  },
  {
   "cell_type": "code",
   "execution_count": 229,
   "id": "8692fee8",
   "metadata": {},
   "outputs": [],
   "source": [
    "df = sns.load_dataset('iris')"
   ]
  },
  {
   "cell_type": "code",
   "execution_count": 230,
   "id": "473f7906",
   "metadata": {},
   "outputs": [
    {
     "data": {
      "application/vnd.plotly.v1+json": {
       "config": {
        "plotlyServerURL": "https://plot.ly"
       },
       "data": [
        {
         "contours": {
          "coloring": "none"
         },
         "hovertemplate": "species=setosa<br>sepal_length=%{x}<br>index=%{y}<br>count=%{z}<extra></extra>",
         "legendgroup": "setosa",
         "line": {
          "color": "#636efa"
         },
         "name": "setosa",
         "showlegend": true,
         "type": "histogram2dcontour",
         "x": [
          5.1,
          4.9,
          4.7,
          4.6,
          5,
          5.4,
          4.6,
          5,
          4.4,
          4.9,
          5.4,
          4.8,
          4.8,
          4.3,
          5.8,
          5.7,
          5.4,
          5.1,
          5.7,
          5.1,
          5.4,
          5.1,
          4.6,
          5.1,
          4.8,
          5,
          5,
          5.2,
          5.2,
          4.7,
          4.8,
          5.4,
          5.2,
          5.5,
          4.9,
          5,
          5.5,
          4.9,
          4.4,
          5.1,
          5,
          4.5,
          4.4,
          5,
          5.1,
          4.8,
          5.1,
          4.6,
          5.3,
          5
         ],
         "xaxis": "x",
         "xbingroup": "x",
         "y": [
          0,
          1,
          2,
          3,
          4,
          5,
          6,
          7,
          8,
          9,
          10,
          11,
          12,
          13,
          14,
          15,
          16,
          17,
          18,
          19,
          20,
          21,
          22,
          23,
          24,
          25,
          26,
          27,
          28,
          29,
          30,
          31,
          32,
          33,
          34,
          35,
          36,
          37,
          38,
          39,
          40,
          41,
          42,
          43,
          44,
          45,
          46,
          47,
          48,
          49
         ],
         "yaxis": "y",
         "ybingroup": "y"
        },
        {
         "contours": {
          "coloring": "none"
         },
         "hovertemplate": "species=versicolor<br>sepal_length=%{x}<br>index=%{y}<br>count=%{z}<extra></extra>",
         "legendgroup": "versicolor",
         "line": {
          "color": "#EF553B"
         },
         "name": "versicolor",
         "showlegend": true,
         "type": "histogram2dcontour",
         "x": [
          7,
          6.4,
          6.9,
          5.5,
          6.5,
          5.7,
          6.3,
          4.9,
          6.6,
          5.2,
          5,
          5.9,
          6,
          6.1,
          5.6,
          6.7,
          5.6,
          5.8,
          6.2,
          5.6,
          5.9,
          6.1,
          6.3,
          6.1,
          6.4,
          6.6,
          6.8,
          6.7,
          6,
          5.7,
          5.5,
          5.5,
          5.8,
          6,
          5.4,
          6,
          6.7,
          6.3,
          5.6,
          5.5,
          5.5,
          6.1,
          5.8,
          5,
          5.6,
          5.7,
          5.7,
          6.2,
          5.1,
          5.7
         ],
         "xaxis": "x",
         "xbingroup": "x",
         "y": [
          50,
          51,
          52,
          53,
          54,
          55,
          56,
          57,
          58,
          59,
          60,
          61,
          62,
          63,
          64,
          65,
          66,
          67,
          68,
          69,
          70,
          71,
          72,
          73,
          74,
          75,
          76,
          77,
          78,
          79,
          80,
          81,
          82,
          83,
          84,
          85,
          86,
          87,
          88,
          89,
          90,
          91,
          92,
          93,
          94,
          95,
          96,
          97,
          98,
          99
         ],
         "yaxis": "y",
         "ybingroup": "y"
        },
        {
         "contours": {
          "coloring": "none"
         },
         "hovertemplate": "species=virginica<br>sepal_length=%{x}<br>index=%{y}<br>count=%{z}<extra></extra>",
         "legendgroup": "virginica",
         "line": {
          "color": "#00cc96"
         },
         "name": "virginica",
         "showlegend": true,
         "type": "histogram2dcontour",
         "x": [
          6.3,
          5.8,
          7.1,
          6.3,
          6.5,
          7.6,
          4.9,
          7.3,
          6.7,
          7.2,
          6.5,
          6.4,
          6.8,
          5.7,
          5.8,
          6.4,
          6.5,
          7.7,
          7.7,
          6,
          6.9,
          5.6,
          7.7,
          6.3,
          6.7,
          7.2,
          6.2,
          6.1,
          6.4,
          7.2,
          7.4,
          7.9,
          6.4,
          6.3,
          6.1,
          7.7,
          6.3,
          6.4,
          6,
          6.9,
          6.7,
          6.9,
          5.8,
          6.8,
          6.7,
          6.7,
          6.3,
          6.5,
          6.2,
          5.9
         ],
         "xaxis": "x",
         "xbingroup": "x",
         "y": [
          100,
          101,
          102,
          103,
          104,
          105,
          106,
          107,
          108,
          109,
          110,
          111,
          112,
          113,
          114,
          115,
          116,
          117,
          118,
          119,
          120,
          121,
          122,
          123,
          124,
          125,
          126,
          127,
          128,
          129,
          130,
          131,
          132,
          133,
          134,
          135,
          136,
          137,
          138,
          139,
          140,
          141,
          142,
          143,
          144,
          145,
          146,
          147,
          148,
          149
         ],
         "yaxis": "y",
         "ybingroup": "y"
        }
       ],
       "layout": {
        "legend": {
         "title": {
          "text": "species"
         },
         "tracegroupgap": 0
        },
        "margin": {
         "t": 60
        },
        "template": {
         "data": {
          "bar": [
           {
            "error_x": {
             "color": "#2a3f5f"
            },
            "error_y": {
             "color": "#2a3f5f"
            },
            "marker": {
             "line": {
              "color": "#E5ECF6",
              "width": 0.5
             },
             "pattern": {
              "fillmode": "overlay",
              "size": 10,
              "solidity": 0.2
             }
            },
            "type": "bar"
           }
          ],
          "barpolar": [
           {
            "marker": {
             "line": {
              "color": "#E5ECF6",
              "width": 0.5
             },
             "pattern": {
              "fillmode": "overlay",
              "size": 10,
              "solidity": 0.2
             }
            },
            "type": "barpolar"
           }
          ],
          "carpet": [
           {
            "aaxis": {
             "endlinecolor": "#2a3f5f",
             "gridcolor": "white",
             "linecolor": "white",
             "minorgridcolor": "white",
             "startlinecolor": "#2a3f5f"
            },
            "baxis": {
             "endlinecolor": "#2a3f5f",
             "gridcolor": "white",
             "linecolor": "white",
             "minorgridcolor": "white",
             "startlinecolor": "#2a3f5f"
            },
            "type": "carpet"
           }
          ],
          "choropleth": [
           {
            "colorbar": {
             "outlinewidth": 0,
             "ticks": ""
            },
            "type": "choropleth"
           }
          ],
          "contour": [
           {
            "colorbar": {
             "outlinewidth": 0,
             "ticks": ""
            },
            "colorscale": [
             [
              0,
              "#0d0887"
             ],
             [
              0.1111111111111111,
              "#46039f"
             ],
             [
              0.2222222222222222,
              "#7201a8"
             ],
             [
              0.3333333333333333,
              "#9c179e"
             ],
             [
              0.4444444444444444,
              "#bd3786"
             ],
             [
              0.5555555555555556,
              "#d8576b"
             ],
             [
              0.6666666666666666,
              "#ed7953"
             ],
             [
              0.7777777777777778,
              "#fb9f3a"
             ],
             [
              0.8888888888888888,
              "#fdca26"
             ],
             [
              1,
              "#f0f921"
             ]
            ],
            "type": "contour"
           }
          ],
          "contourcarpet": [
           {
            "colorbar": {
             "outlinewidth": 0,
             "ticks": ""
            },
            "type": "contourcarpet"
           }
          ],
          "heatmap": [
           {
            "colorbar": {
             "outlinewidth": 0,
             "ticks": ""
            },
            "colorscale": [
             [
              0,
              "#0d0887"
             ],
             [
              0.1111111111111111,
              "#46039f"
             ],
             [
              0.2222222222222222,
              "#7201a8"
             ],
             [
              0.3333333333333333,
              "#9c179e"
             ],
             [
              0.4444444444444444,
              "#bd3786"
             ],
             [
              0.5555555555555556,
              "#d8576b"
             ],
             [
              0.6666666666666666,
              "#ed7953"
             ],
             [
              0.7777777777777778,
              "#fb9f3a"
             ],
             [
              0.8888888888888888,
              "#fdca26"
             ],
             [
              1,
              "#f0f921"
             ]
            ],
            "type": "heatmap"
           }
          ],
          "heatmapgl": [
           {
            "colorbar": {
             "outlinewidth": 0,
             "ticks": ""
            },
            "colorscale": [
             [
              0,
              "#0d0887"
             ],
             [
              0.1111111111111111,
              "#46039f"
             ],
             [
              0.2222222222222222,
              "#7201a8"
             ],
             [
              0.3333333333333333,
              "#9c179e"
             ],
             [
              0.4444444444444444,
              "#bd3786"
             ],
             [
              0.5555555555555556,
              "#d8576b"
             ],
             [
              0.6666666666666666,
              "#ed7953"
             ],
             [
              0.7777777777777778,
              "#fb9f3a"
             ],
             [
              0.8888888888888888,
              "#fdca26"
             ],
             [
              1,
              "#f0f921"
             ]
            ],
            "type": "heatmapgl"
           }
          ],
          "histogram": [
           {
            "marker": {
             "pattern": {
              "fillmode": "overlay",
              "size": 10,
              "solidity": 0.2
             }
            },
            "type": "histogram"
           }
          ],
          "histogram2d": [
           {
            "colorbar": {
             "outlinewidth": 0,
             "ticks": ""
            },
            "colorscale": [
             [
              0,
              "#0d0887"
             ],
             [
              0.1111111111111111,
              "#46039f"
             ],
             [
              0.2222222222222222,
              "#7201a8"
             ],
             [
              0.3333333333333333,
              "#9c179e"
             ],
             [
              0.4444444444444444,
              "#bd3786"
             ],
             [
              0.5555555555555556,
              "#d8576b"
             ],
             [
              0.6666666666666666,
              "#ed7953"
             ],
             [
              0.7777777777777778,
              "#fb9f3a"
             ],
             [
              0.8888888888888888,
              "#fdca26"
             ],
             [
              1,
              "#f0f921"
             ]
            ],
            "type": "histogram2d"
           }
          ],
          "histogram2dcontour": [
           {
            "colorbar": {
             "outlinewidth": 0,
             "ticks": ""
            },
            "colorscale": [
             [
              0,
              "#0d0887"
             ],
             [
              0.1111111111111111,
              "#46039f"
             ],
             [
              0.2222222222222222,
              "#7201a8"
             ],
             [
              0.3333333333333333,
              "#9c179e"
             ],
             [
              0.4444444444444444,
              "#bd3786"
             ],
             [
              0.5555555555555556,
              "#d8576b"
             ],
             [
              0.6666666666666666,
              "#ed7953"
             ],
             [
              0.7777777777777778,
              "#fb9f3a"
             ],
             [
              0.8888888888888888,
              "#fdca26"
             ],
             [
              1,
              "#f0f921"
             ]
            ],
            "type": "histogram2dcontour"
           }
          ],
          "mesh3d": [
           {
            "colorbar": {
             "outlinewidth": 0,
             "ticks": ""
            },
            "type": "mesh3d"
           }
          ],
          "parcoords": [
           {
            "line": {
             "colorbar": {
              "outlinewidth": 0,
              "ticks": ""
             }
            },
            "type": "parcoords"
           }
          ],
          "pie": [
           {
            "automargin": true,
            "type": "pie"
           }
          ],
          "scatter": [
           {
            "fillpattern": {
             "fillmode": "overlay",
             "size": 10,
             "solidity": 0.2
            },
            "type": "scatter"
           }
          ],
          "scatter3d": [
           {
            "line": {
             "colorbar": {
              "outlinewidth": 0,
              "ticks": ""
             }
            },
            "marker": {
             "colorbar": {
              "outlinewidth": 0,
              "ticks": ""
             }
            },
            "type": "scatter3d"
           }
          ],
          "scattercarpet": [
           {
            "marker": {
             "colorbar": {
              "outlinewidth": 0,
              "ticks": ""
             }
            },
            "type": "scattercarpet"
           }
          ],
          "scattergeo": [
           {
            "marker": {
             "colorbar": {
              "outlinewidth": 0,
              "ticks": ""
             }
            },
            "type": "scattergeo"
           }
          ],
          "scattergl": [
           {
            "marker": {
             "colorbar": {
              "outlinewidth": 0,
              "ticks": ""
             }
            },
            "type": "scattergl"
           }
          ],
          "scattermapbox": [
           {
            "marker": {
             "colorbar": {
              "outlinewidth": 0,
              "ticks": ""
             }
            },
            "type": "scattermapbox"
           }
          ],
          "scatterpolar": [
           {
            "marker": {
             "colorbar": {
              "outlinewidth": 0,
              "ticks": ""
             }
            },
            "type": "scatterpolar"
           }
          ],
          "scatterpolargl": [
           {
            "marker": {
             "colorbar": {
              "outlinewidth": 0,
              "ticks": ""
             }
            },
            "type": "scatterpolargl"
           }
          ],
          "scatterternary": [
           {
            "marker": {
             "colorbar": {
              "outlinewidth": 0,
              "ticks": ""
             }
            },
            "type": "scatterternary"
           }
          ],
          "surface": [
           {
            "colorbar": {
             "outlinewidth": 0,
             "ticks": ""
            },
            "colorscale": [
             [
              0,
              "#0d0887"
             ],
             [
              0.1111111111111111,
              "#46039f"
             ],
             [
              0.2222222222222222,
              "#7201a8"
             ],
             [
              0.3333333333333333,
              "#9c179e"
             ],
             [
              0.4444444444444444,
              "#bd3786"
             ],
             [
              0.5555555555555556,
              "#d8576b"
             ],
             [
              0.6666666666666666,
              "#ed7953"
             ],
             [
              0.7777777777777778,
              "#fb9f3a"
             ],
             [
              0.8888888888888888,
              "#fdca26"
             ],
             [
              1,
              "#f0f921"
             ]
            ],
            "type": "surface"
           }
          ],
          "table": [
           {
            "cells": {
             "fill": {
              "color": "#EBF0F8"
             },
             "line": {
              "color": "white"
             }
            },
            "header": {
             "fill": {
              "color": "#C8D4E3"
             },
             "line": {
              "color": "white"
             }
            },
            "type": "table"
           }
          ]
         },
         "layout": {
          "annotationdefaults": {
           "arrowcolor": "#2a3f5f",
           "arrowhead": 0,
           "arrowwidth": 1
          },
          "autotypenumbers": "strict",
          "coloraxis": {
           "colorbar": {
            "outlinewidth": 0,
            "ticks": ""
           }
          },
          "colorscale": {
           "diverging": [
            [
             0,
             "#8e0152"
            ],
            [
             0.1,
             "#c51b7d"
            ],
            [
             0.2,
             "#de77ae"
            ],
            [
             0.3,
             "#f1b6da"
            ],
            [
             0.4,
             "#fde0ef"
            ],
            [
             0.5,
             "#f7f7f7"
            ],
            [
             0.6,
             "#e6f5d0"
            ],
            [
             0.7,
             "#b8e186"
            ],
            [
             0.8,
             "#7fbc41"
            ],
            [
             0.9,
             "#4d9221"
            ],
            [
             1,
             "#276419"
            ]
           ],
           "sequential": [
            [
             0,
             "#0d0887"
            ],
            [
             0.1111111111111111,
             "#46039f"
            ],
            [
             0.2222222222222222,
             "#7201a8"
            ],
            [
             0.3333333333333333,
             "#9c179e"
            ],
            [
             0.4444444444444444,
             "#bd3786"
            ],
            [
             0.5555555555555556,
             "#d8576b"
            ],
            [
             0.6666666666666666,
             "#ed7953"
            ],
            [
             0.7777777777777778,
             "#fb9f3a"
            ],
            [
             0.8888888888888888,
             "#fdca26"
            ],
            [
             1,
             "#f0f921"
            ]
           ],
           "sequentialminus": [
            [
             0,
             "#0d0887"
            ],
            [
             0.1111111111111111,
             "#46039f"
            ],
            [
             0.2222222222222222,
             "#7201a8"
            ],
            [
             0.3333333333333333,
             "#9c179e"
            ],
            [
             0.4444444444444444,
             "#bd3786"
            ],
            [
             0.5555555555555556,
             "#d8576b"
            ],
            [
             0.6666666666666666,
             "#ed7953"
            ],
            [
             0.7777777777777778,
             "#fb9f3a"
            ],
            [
             0.8888888888888888,
             "#fdca26"
            ],
            [
             1,
             "#f0f921"
            ]
           ]
          },
          "colorway": [
           "#636efa",
           "#EF553B",
           "#00cc96",
           "#ab63fa",
           "#FFA15A",
           "#19d3f3",
           "#FF6692",
           "#B6E880",
           "#FF97FF",
           "#FECB52"
          ],
          "font": {
           "color": "#2a3f5f"
          },
          "geo": {
           "bgcolor": "white",
           "lakecolor": "white",
           "landcolor": "#E5ECF6",
           "showlakes": true,
           "showland": true,
           "subunitcolor": "white"
          },
          "hoverlabel": {
           "align": "left"
          },
          "hovermode": "closest",
          "mapbox": {
           "style": "light"
          },
          "paper_bgcolor": "white",
          "plot_bgcolor": "#E5ECF6",
          "polar": {
           "angularaxis": {
            "gridcolor": "white",
            "linecolor": "white",
            "ticks": ""
           },
           "bgcolor": "#E5ECF6",
           "radialaxis": {
            "gridcolor": "white",
            "linecolor": "white",
            "ticks": ""
           }
          },
          "scene": {
           "xaxis": {
            "backgroundcolor": "#E5ECF6",
            "gridcolor": "white",
            "gridwidth": 2,
            "linecolor": "white",
            "showbackground": true,
            "ticks": "",
            "zerolinecolor": "white"
           },
           "yaxis": {
            "backgroundcolor": "#E5ECF6",
            "gridcolor": "white",
            "gridwidth": 2,
            "linecolor": "white",
            "showbackground": true,
            "ticks": "",
            "zerolinecolor": "white"
           },
           "zaxis": {
            "backgroundcolor": "#E5ECF6",
            "gridcolor": "white",
            "gridwidth": 2,
            "linecolor": "white",
            "showbackground": true,
            "ticks": "",
            "zerolinecolor": "white"
           }
          },
          "shapedefaults": {
           "line": {
            "color": "#2a3f5f"
           }
          },
          "ternary": {
           "aaxis": {
            "gridcolor": "white",
            "linecolor": "white",
            "ticks": ""
           },
           "baxis": {
            "gridcolor": "white",
            "linecolor": "white",
            "ticks": ""
           },
           "bgcolor": "#E5ECF6",
           "caxis": {
            "gridcolor": "white",
            "linecolor": "white",
            "ticks": ""
           }
          },
          "title": {
           "x": 0.05
          },
          "xaxis": {
           "automargin": true,
           "gridcolor": "white",
           "linecolor": "white",
           "ticks": "",
           "title": {
            "standoff": 15
           },
           "zerolinecolor": "white",
           "zerolinewidth": 2
          },
          "yaxis": {
           "automargin": true,
           "gridcolor": "white",
           "linecolor": "white",
           "ticks": "",
           "title": {
            "standoff": 15
           },
           "zerolinecolor": "white",
           "zerolinewidth": 2
          }
         }
        },
        "xaxis": {
         "anchor": "y",
         "domain": [
          0,
          1
         ],
         "title": {
          "text": "sepal_length"
         }
        },
        "yaxis": {
         "anchor": "x",
         "domain": [
          0,
          1
         ],
         "title": {
          "text": "index"
         }
        }
       }
      }
     },
     "metadata": {},
     "output_type": "display_data"
    }
   ],
   "source": [
    "fig = px.density_contour(data_frame=df, x='sepal_length', color='species')\n",
    "fig.show()"
   ]
  },
  {
   "cell_type": "code",
   "execution_count": 231,
   "id": "7e92a02f",
   "metadata": {},
   "outputs": [
    {
     "data": {
      "text/plain": [
       "<Axes: xlabel='sepal_width', ylabel='Density'>"
      ]
     },
     "execution_count": 231,
     "metadata": {},
     "output_type": "execute_result"
    },
    {
     "data": {
      "image/png": "[encoded data removed]",
      "text/plain": [
       "<Figure size 640x480 with 1 Axes>"
      ]
     },
     "metadata": {},
     "output_type": "display_data"
    }
   ],
   "source": [
    "sns.kdeplot(data=df,x='sepal_width',hue='species')"
   ]
  },
  {
   "cell_type": "code",
   "execution_count": 232,
   "id": "49b9ba42",
   "metadata": {},
   "outputs": [
    {
     "data": {
      "text/plain": [
       "<Axes: xlabel='petal_length', ylabel='Density'>"
      ]
     },
     "execution_count": 232,
     "metadata": {},
     "output_type": "execute_result"
    },
    {
     "data": {
      "image/png": "[encoded data removed]",
      "text/plain": [
       "<Figure size 640x480 with 1 Axes>"
      ]
     },
     "metadata": {},
     "output_type": "display_data"
    }
   ],
   "source": [
    "sns.kdeplot(data=df,x='petal_length',hue='species')"
   ]
  },
  {
   "cell_type": "code",
   "execution_count": 233,
   "id": "a32eb5d0",
   "metadata": {},
   "outputs": [
    {
     "data": {
      "text/plain": [
       "<Axes: xlabel='petal_width', ylabel='Density'>"
      ]
     },
     "execution_count": 233,
     "metadata": {},
     "output_type": "execute_result"
    },
    {
     "data": {
      "image/png": "[encoded data removed]",
      "text/plain": [
       "<Figure size 640x480 with 1 Axes>"
      ]
     },
     "metadata": {},
     "output_type": "display_data"
    }
   ],
   "source": [
    "sns.kdeplot(data=df,x='petal_width',hue='species')"
   ]
  },
  {
   "cell_type": "code",
   "execution_count": 235,
   "id": "e80f42f4",
   "metadata": {},
   "outputs": [
    {
     "data": {
      "text/plain": [
       "<Axes: xlabel='petal_width', ylabel='Density'>"
      ]
     },
     "execution_count": 235,
     "metadata": {},
     "output_type": "execute_result"
    },
    {
     "data": {
      "image/png": "[encoded data removed]",
      "text/plain": [
       "<Figure size 640x480 with 1 Axes>"
      ]
     },
     "metadata": {},
     "output_type": "display_data"
    }
   ],
   "source": [
    "sns.kdeplot(data=df, x='petal_width', hue='species')\n",
    "sns.ecdfplot(data=df, x='petal_width', hue='species')"
   ]
  },
  {
   "cell_type": "code",
   "execution_count": null,
   "id": "a3b3dd55",
   "metadata": {},
   "outputs": [],
   "source": []
  }
 ],
 "metadata": {
  "kernelspec": {
   "display_name": "Python 3",
   "language": "python",
   "name": "python3"
  },
  "language_info": {
   "codemirror_mode": {
    "name": "ipython",
    "version": 3
   },
   "file_extension": ".py",
   "mimetype": "text/x-python",
   "name": "python",
   "nbconvert_exporter": "python",
   "pygments_lexer": "ipython3",
   "version": "3.12.4"
  }
 },
 "nbformat": 4,
 "nbformat_minor": 5
}

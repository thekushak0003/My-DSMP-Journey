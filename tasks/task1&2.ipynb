{
 "cells": [
  {
   "cell_type": "code",
   "execution_count": 1,
   "metadata": {},
   "outputs": [
    {
     "name": "stdout",
     "output_type": "stream",
     "text": [
      "0\n",
      "1\n",
      "1\n",
      "2\n",
      "3\n"
     ]
    }
   ],
   "source": [
    "# Fibonacci series\n",
    "num1,num2=0,1\n",
    "n=int(input(\"Enter your number:- \"))\n",
    "for i in range(n):\n",
    "    print(num1)\n",
    "    next=num1+num2\n",
    "    num1=num2\n",
    "    num2=next"
   ]
  },
  {
   "cell_type": "code",
   "execution_count": 2,
   "metadata": {},
   "outputs": [
    {
     "name": "stdout",
     "output_type": "stream",
     "text": [
      "120\n"
     ]
    }
   ],
   "source": [
    "# Factorial\n",
    "num=int(input(\"Enter your number:- \"))\n",
    "fact=1\n",
    "for i in range(1,num+1):\n",
    "    fact=fact*i\n",
    "print(fact)    "
   ]
  },
  {
   "cell_type": "code",
   "execution_count": 3,
   "metadata": {},
   "outputs": [
    {
     "name": "stdout",
     "output_type": "stream",
     "text": [
      "51\n"
     ]
    }
   ],
   "source": [
    "# Reverse a given integer number.\n",
    "num=int(input(\"Enter your number:- \"))\n",
    "rev=0\n",
    "while num>0:\n",
    "    last=num%10\n",
    "    rev=rev*10+last\n",
    "    num=num//10\n",
    "print(rev)    "
   ]
  },
  {
   "cell_type": "code",
   "execution_count": 4,
   "metadata": {},
   "outputs": [
    {
     "name": "stdout",
     "output_type": "stream",
     "text": [
      "90\n"
     ]
    }
   ],
   "source": [
    "# Take a user input as integer N. Find out the sum from 1 to N.\n",
    "# If any number if divisible by 5, then skip that number. \n",
    "# And if the sum is greater than 300, don't need to calculate the sum further more. \n",
    "# Print the final result. And don't use for loop to solve this problem.\n",
    "N=int(input(\"Enter your number:- \"))\n",
    "sum=0\n",
    "i=1\n",
    "while i<N+1:\n",
    "  if i%5==0:\n",
    "    i+=1\n",
    "    continue\n",
    "  sum+=i\n",
    "  if sum>300:\n",
    "    sum=sum-i\n",
    "    break\n",
    "  i+=1\n",
    "print(sum)\n"
   ]
  },
  {
   "cell_type": "code",
   "execution_count": null,
   "metadata": {},
   "outputs": [],
   "source": []
  }
 ],
 "metadata": {
  "kernelspec": {
   "display_name": "Python 3",
   "language": "python",
   "name": "python3"
  },
  "language_info": {
   "codemirror_mode": {
    "name": "ipython",
    "version": 3
   },
   "file_extension": ".py",
   "mimetype": "text/x-python",
   "name": "python",
   "nbconvert_exporter": "python",
   "pygments_lexer": "ipython3",
   "version": "3.12.4"
  }
 },
 "nbformat": 4,
 "nbformat_minor": 2
}

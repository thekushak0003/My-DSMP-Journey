{
 "cells": [
  {
   "cell_type": "code",
   "execution_count": 40,
   "metadata": {},
   "outputs": [
    {
     "data": {
      "text/plain": [
       "'Rabbit with pink eyes ran close by her.'"
      ]
     },
     "execution_count": 40,
     "metadata": {},
     "output_type": "execute_result"
    }
   ],
   "source": [
    "def get_final_line(filename):\n",
    "    final_line = ''\n",
    "    for current_line in open(filename, 'r'):\n",
    "        final_line = current_line\n",
    "    return final_line\n",
    "get_final_line(\"sample.txt\")"
   ]
  },
  {
   "cell_type": "code",
   "execution_count": 41,
   "metadata": {},
   "outputs": [
    {
     "data": {
      "text/plain": [
       "{'a': 29, 'e': 56, 'i': 40, 'o': 36, 'u': 13}"
      ]
     },
     "execution_count": 41,
     "metadata": {},
     "output_type": "execute_result"
    }
   ],
   "source": [
    "def vowel_count_table(filename):\n",
    "    vowels=['a','e','i','o','u']\n",
    "    dict={i:0 for i in vowels}\n",
    "    for current_line in open(filename, 'r'):\n",
    "        for ch in current_line:\n",
    "            if ch in vowels:\n",
    "                dict[ch]+=1\n",
    "    return dict                            \n",
    "vowel_count_table('sample.txt')    "
   ]
  },
  {
   "cell_type": "code",
   "execution_count": 42,
   "metadata": {},
   "outputs": [],
   "source": [
    "file_name = \"test-1.txt\"\n",
    "with open(file_name, \"w\") as f:\n",
    "    for i in range(1, 11, 2):\n",
    "        f.write(f\"{i}\\t{i+1}\\n\")  \n",
    "total = 0\n",
    "with open(file_name, \"r+\") as f:  \n",
    "    lines = f.readlines()  \n",
    "    f.seek(0)    \n",
    "    for line in lines:\n",
    "        a, b = map(int, line.strip().split(\"\\t\"))\n",
    "        res = a * b\n",
    "        total += res\n",
    "        f.write(f\"{a}\\t{b}\\t{res}\\n\")  \n",
    "    f.write(f\"Total\\t{total}\\n\")  \n",
    "    f.truncate() "
   ]
  },
  {
   "cell_type": "code",
   "execution_count": 43,
   "metadata": {},
   "outputs": [],
   "source": [
    "input_file = \"sample.txt\"\n",
    "output_file = \"sample_reversed.txt\"\n",
    "def reverse_lines(infilename, outfilename):\n",
    "    with open(infilename, 'r') as infile, open(outfilename, \"w\") as outfile:\n",
    "        for one_line in infile:\n",
    "            outfile.write(one_line.rstrip()[::-1]+\"\\n\")\n",
    "reverse_lines(input_file, output_file)"
   ]
  },
  {
   "cell_type": "code",
   "execution_count": 44,
   "metadata": {},
   "outputs": [
    {
     "name": "stdout",
     "output_type": "stream",
     "text": [
      "alice 3\n",
      "the 12\n",
      "and 7\n",
      "rabbit 4\n",
      "her 7\n",
      "for 2\n",
      "with 3\n"
     ]
    }
   ],
   "source": [
    "strings = \"\"\"Alice was beginning to get very tired of sitting by her sister\n",
    "            on the bank, and of having nothing to do:  once or twice she had\n",
    "            peeped into the book her sister was reading, but it had no\n",
    "            pictures or conversations in it, `and what is the use of a book,'\n",
    "            thought Alice `without pictures or conversation?'\n",
    "\n",
    "            So she was considering in her own mind (as well as she could,\n",
    "            for the hot day made her feel very sleepy and stupid), whether\n",
    "            the pleasure of making a daisy-chain would be worth the trouble\n",
    "            of getting up and picking the daisies, when suddenly a White\n",
    "            Rabbit with pink eyes ran close by her.\n",
    "\n",
    "            There was nothing so VERY remarkable in that; nor did Alice\n",
    "            think it so VERY much out of the way to hear the Rabbit say to\n",
    "            itself, `Oh dear!  Oh dear!  I shall be late!'  (when she thought\n",
    "            it over afterwards, it occurred to her that she ought to have\n",
    "            wondered at this, but at the time it all seemed quite natural);\n",
    "            but when the Rabbit actually TOOK A WATCH OUT OF ITS WAISTCOAT-\n",
    "            POCKET, and looked at it, and then hurried on, Alice started to\n",
    "            her feet, for it flashed across her mind that she had never\n",
    "            before seen a rabbit with either a waistcoat-pocket, or a watch to\n",
    "            take out of it, and burning with curiosity, she ran across the\n",
    "            field after it, and fortunately was just in time to see it pop\n",
    "            down a large rabbit-hole under the hedge.\"\"\"\n",
    "\n",
    "word_list = ['alice', 'the', 'and','rabbit','her','for','with']\n",
    "word_count_dict=dict()\n",
    "for word in strings.lower().split(' '):\n",
    "    try:\n",
    "        word_count_dict[word] += 1\n",
    "    except:\n",
    "        word_count_dict[word] = 1\n",
    "import pickle as pkl\n",
    "pkl.dump(word_count_dict, open(\"word_count_dict.pkl\", \"wb\"))\n",
    "word_count = pkl.load(open(\"word_count_dict.pkl\", \"rb\"))\n",
    "for s in word_list:\n",
    "    try:\n",
    "        print(s, word_count[s])\n",
    "    except:\n",
    "        print(s, 0)"
   ]
  },
  {
   "cell_type": "code",
   "execution_count": 45,
   "metadata": {},
   "outputs": [
    {
     "data": {
      "text/plain": [
       "62"
      ]
     },
     "execution_count": 45,
     "metadata": {},
     "output_type": "execute_result"
    }
   ],
   "source": [
    "string  = 'Alice was beginning to get very tired of sitting by her sister'\n",
    "def string_length(s):\n",
    "    if s == \"\":\n",
    "        return 0\n",
    "    else:\n",
    "        return 1 + string_length(s[1:])\n",
    "string_length(string)"
   ]
  },
  {
   "cell_type": "code",
   "execution_count": 46,
   "metadata": {},
   "outputs": [
    {
     "name": "stdout",
     "output_type": "stream",
     "text": [
      "['A', 1, 'l', 1, 'i', 1, 'c', 1, 'e', 1, ' ', 1, 'w', 1, 'a', 1, 's', 1, ' ', 1, 'b', 1, 'e', 1, 'g', 1, 'i', 1, 'n', 2, 'i', 1, 'n', 1, 'g', 1, ' ', 1, 't', 1, 'o', 1, ' ', 1, 'g', 1, 'e', 1, 't', 1, ' ', 1, 'v', 1, 'e', 1, 'r', 1, 'y', 1, ' ', 1, 't', 1, 'i', 1, 'r', 1, 'e', 1, 'd', 1, ' ', 1, 'o', 1, 'f', 1, ' ', 1, 's', 1, 'i', 1, 't', 2, 'i', 1, 'n', 1, 'g', 1, ' ', 1, 'b', 1, 'y', 1, ' ', 1, 'h', 1, 'e', 1, 'r', 1, ' ', 1, 's', 1, 'i', 1, 's', 1, 't', 1, 'e', 1, 'r', 1]\n"
     ]
    }
   ],
   "source": [
    "\n",
    "string = \"Alice was beginning to get very tired of sitting by her sister\"\n",
    "def runEncode(s):\n",
    "    if len(s) == 0:\n",
    "        return []\n",
    "    else:\n",
    "        index = 1\n",
    "        while index < len(s) and s[index] == s[index-1]:\n",
    "            index += 1\n",
    "        compressed = [s[0], index]        \n",
    "        return compressed + runEncode(s[index:])      \n",
    "print(runEncode(string))"
   ]
  },
  {
   "cell_type": "code",
   "execution_count": null,
   "metadata": {},
   "outputs": [],
   "source": []
  }
 ],
 "metadata": {
  "kernelspec": {
   "display_name": "Python 3",
   "language": "python",
   "name": "python3"
  },
  "language_info": {
   "codemirror_mode": {
    "name": "ipython",
    "version": 3
   },
   "file_extension": ".py",
   "mimetype": "text/x-python",
   "name": "python",
   "nbconvert_exporter": "python",
   "pygments_lexer": "ipython3",
   "version": "3.12.4"
  }
 },
 "nbformat": 4,
 "nbformat_minor": 2
}

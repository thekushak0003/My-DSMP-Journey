{
 "cells": [
  {
   "cell_type": "code",
   "execution_count": 6,
   "metadata": {},
   "outputs": [
    {
     "name": "stdout",
     "output_type": "stream",
     "text": [
      "Result: 452.0\n",
      "Thank you\n"
     ]
    }
   ],
   "source": [
    "def function(l: list, s, **args):\n",
    "    last_element = l[-1]   \n",
    "    l[int(s)]=10\n",
    "    any_element = l[int(s)+10]\n",
    "    l[s]=10    \n",
    "    res = sum(l)    \n",
    "    p = args['p']\n",
    "    # print(p)\n",
    "    return res/last_element * p + any_element\n",
    "try:\n",
    "    res = function([1,2,1]*9, 12, p=10)\n",
    "except IndexError as i:\n",
    "    print(type(i))\n",
    "    print(i)\n",
    "except ValueError as v:\n",
    "    print(type(v))\n",
    "    print(v)\n",
    "except TypeError as t:\n",
    "    print(type(t))\n",
    "    print(t)\n",
    "except KeyError as k:\n",
    "    print(type(k))\n",
    "    print(k)\n",
    "except ZeroDivisionError as z:\n",
    "    print(type(z))\n",
    "    print(z)\n",
    "else:\n",
    "    print(\"Result:\", res)\n",
    "finally:\n",
    "    print(\"Thank you\")"
   ]
  },
  {
   "cell_type": "code",
   "execution_count": 7,
   "metadata": {},
   "outputs": [
    {
     "name": "stdout",
     "output_type": "stream",
     "text": [
      "26\n"
     ]
    }
   ],
   "source": [
    "l = [{0:2},2,3,4,'5', {5:10}]\n",
    "s=0\n",
    "for i in range(len(l)):\n",
    "    try:\n",
    "        s += l[i]\n",
    "    except TypeError:\n",
    "        try:\n",
    "            s += l[i].get(i)\n",
    "        except AttributeError:\n",
    "            s += int(l[i])\n",
    "print(s)    "
   ]
  },
  {
   "cell_type": "code",
   "execution_count": 8,
   "metadata": {},
   "outputs": [
    {
     "name": "stdout",
     "output_type": "stream",
     "text": [
      "File written succesfully\n"
     ]
    }
   ],
   "source": [
    "try:\n",
    "    with open('test-2.txt','w') as f:\n",
    "        f.write('Hellow Good Morning!!!')\n",
    "except IOError:\n",
    "    print('Error working with file...')\n",
    "else:\n",
    "    print('File written succesfully')            "
   ]
  },
  {
   "cell_type": "code",
   "execution_count": 9,
   "metadata": {},
   "outputs": [
    {
     "name": "stdout",
     "output_type": "stream",
     "text": [
      "Input is too large.\n",
      "Input is too small.\n",
      "Input is too small.\n",
      "Input is too large.\n",
      "Input is too small.\n",
      "Input is too large.\n",
      "You have succeeded!!!\n"
     ]
    }
   ],
   "source": [
    "import random\n",
    "class ValueTooLarge(Exception):\n",
    "    def display(self):\n",
    "        print('Input is too large.')\n",
    "class ValueTooSmall(Exception):\n",
    "    def display(self):\n",
    "        print('Input is too small.')     \n",
    "class GuessError(Exception):\n",
    "    def display(self):\n",
    "        print('Guess the number b/w 1 to 100')\n",
    "num=random.randint(1,100)\n",
    "while 1:\n",
    "    try:\n",
    "        guess=int(input('Enter your number'))\n",
    "        if guess<1:\n",
    "            raise GuessError\n",
    "        if guess==num:\n",
    "            print(\"You have succeeded!!!\")\n",
    "            break       \n",
    "        if guess<num:\n",
    "            raise ValueTooSmall\n",
    "        if guess>num:\n",
    "            raise ValueTooLarge\n",
    "    except ValueTooLarge as l:\n",
    "        l.display()\n",
    "    except ValueTooSmall as s:\n",
    "        s.display()\n",
    "    except GuessError as g:\n",
    "        g.display()                        "
   ]
  },
  {
   "cell_type": "code",
   "execution_count": 10,
   "metadata": {},
   "outputs": [
    {
     "name": "stdout",
     "output_type": "stream",
     "text": [
      "Your vote is accepted successfully\n",
      "Thank You\n"
     ]
    }
   ],
   "source": [
    "class InvalidAge(Exception):\n",
    "    def display(self):\n",
    "        print(\"Sorry!! Age cannot be below 18. Please come after that\")\n",
    "class InvalidName(Exception):\n",
    "    def display(self):\n",
    "        print(\"Please enter a valid name...\")\n",
    "try:\n",
    "    name = input(\"Enter your name: \")\n",
    "    if len(name) == 0 or len(name.split()) < 2:\n",
    "        raise InvalidName\n",
    "\n",
    "    age = int(input(\"Enter your age: \"))\n",
    "    if age < 18:\n",
    "        raise InvalidAge\n",
    "except InvalidName as i:\n",
    "    i.display()\n",
    "except InvalidAge as a:\n",
    "    a.display()\n",
    "else:\n",
    "    print(\"Your vote is accepted successfully\")\n",
    "finally:\n",
    "    print(\"Thank You\")"
   ]
  },
  {
   "cell_type": "code",
   "execution_count": 11,
   "metadata": {},
   "outputs": [
    {
     "name": "stdout",
     "output_type": "stream",
     "text": [
      "101 102 103 104 105 106 107 108 109 110 111 112 113 114 115 116 117 118 119 120 "
     ]
    }
   ],
   "source": [
    "def display(n):\n",
    "    i=0\n",
    "    while True:\n",
    "        try:\n",
    "            n+=1\n",
    "            i+=1\n",
    "            if i==21:\n",
    "                raise StopIteration\n",
    "        except StopIteration:\n",
    "            break\n",
    "        else:\n",
    "            print(n, end =' ')\n",
    "display(100)"
   ]
  },
  {
   "cell_type": "code",
   "execution_count": null,
   "metadata": {},
   "outputs": [],
   "source": []
  }
 ],
 "metadata": {
  "kernelspec": {
   "display_name": "Python 3",
   "language": "python",
   "name": "python3"
  },
  "language_info": {
   "codemirror_mode": {
    "name": "ipython",
    "version": 3
   },
   "file_extension": ".py",
   "mimetype": "text/x-python",
   "name": "python",
   "nbconvert_exporter": "python",
   "pygments_lexer": "ipython3",
   "version": "3.12.4"
  }
 },
 "nbformat": 4,
 "nbformat_minor": 2
}

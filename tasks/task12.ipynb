{
 "cells": [
  {
   "cell_type": "markdown",
   "metadata": {},
   "source": [
    "#### Iterators"
   ]
  },
  {
   "cell_type": "code",
   "execution_count": 16,
   "metadata": {},
   "outputs": [
    {
     "name": "stdout",
     "output_type": "stream",
     "text": [
      "__module__\n",
      "__init__\n",
      "set_city\n",
      "get_city\n",
      "set_age\n",
      "get_age\n",
      "address\n",
      "__dict__\n",
      "__weakref__\n",
      "__doc__\n"
     ]
    }
   ],
   "source": [
    "class Person:\n",
    "    def __init__(self,name,state):\n",
    "        self.name=name\n",
    "        self.state=state\n",
    "        self.__city=None\n",
    "        self.__age=None\n",
    "    def set_city(self,city):\n",
    "        self.__city=city\n",
    "    def get_city(self):\n",
    "        return self.__city\n",
    "    def set_age(self,age):\n",
    "        self.__age=age\n",
    "    def get_age(self):\n",
    "        return self.__age\n",
    "    def address(self):\n",
    "        return f'{self.name},{self.__city},{self.state}'   \n",
    "for i in Person.__dict__:\n",
    "    print(i)             "
   ]
  },
  {
   "cell_type": "code",
   "execution_count": 17,
   "metadata": {},
   "outputs": [
    {
     "name": "stdout",
     "output_type": "stream",
     "text": [
      "Address:  Abhay,Mirzapur,UP\n",
      "name\n",
      "state\n",
      "_Person__city\n",
      "_Person__age\n"
     ]
    }
   ],
   "source": [
    "p=Person('Abhay','UP')\n",
    "p.set_age(19)\n",
    "p.set_city('Mirzapur')\n",
    "print(\"Address: \", p.address())\n",
    "for i in p.__dict__:\n",
    "    print(i)"
   ]
  },
  {
   "cell_type": "code",
   "execution_count": 18,
   "metadata": {},
   "outputs": [
    {
     "name": "stdout",
     "output_type": "stream",
     "text": [
      "5 2\n"
     ]
    }
   ],
   "source": [
    "counter = 0\n",
    "def gcd(a,b):\n",
    "    global counter\n",
    "    counter += 1\n",
    "    if b == 0:\n",
    "        return a\n",
    "    else:\n",
    "        return gcd(b, a%b)\n",
    "print(gcd(10, 5), counter)"
   ]
  },
  {
   "cell_type": "code",
   "execution_count": 19,
   "metadata": {},
   "outputs": [
    {
     "name": "stdout",
     "output_type": "stream",
     "text": [
      "0 :  \n",
      "1 : A\n",
      "2 : b\n",
      "3 : H\n",
      "4 : a\n",
      "5 : Y\n"
     ]
    }
   ],
   "source": [
    "class MyEnumerate:\n",
    "    def __init__(self,data):\n",
    "        self.data=data\n",
    "        self.index=0\n",
    "    def __iter__(self):\n",
    "        return self\n",
    "    def __next__(self):\n",
    "        if self.index>=len(self.data):\n",
    "            raise StopIteration\n",
    "        value=(self.index,self.data[self.index])\n",
    "        self.index+=1\n",
    "        return value\n",
    "for index, letter in MyEnumerate(' AbHaY'):\n",
    "    print(f'{index} : {letter}')        "
   ]
  },
  {
   "cell_type": "code",
   "execution_count": 20,
   "metadata": {},
   "outputs": [
    {
     "name": "stdout",
     "output_type": "stream",
     "text": [
      "['a', 'b', 'c', 'a', 'b']\n",
      "['a', 'b', 'c', 'a', 'b', 'c', 'a']\n"
     ]
    }
   ],
   "source": [
    "class Circle:\n",
    "    def __init__(self,data,max_iters):\n",
    "        self.data=data\n",
    "        self.max_iters=max_iters\n",
    "        self.index=0\n",
    "    def __iter__(self):\n",
    "        return self\n",
    "    def __next__(self):\n",
    "        if self.index>=self.max_iters:\n",
    "            raise StopIteration\n",
    "        value = self.data[self.index % len(self.data)]\n",
    "        self.index += 1\n",
    "        return value\n",
    "c = Circle('abc', 5)\n",
    "d = Circle('abc', 7)\n",
    "print(list(c))\n",
    "print(list(d))   "
   ]
  },
  {
   "cell_type": "code",
   "execution_count": 22,
   "metadata": {},
   "outputs": [
    {
     "name": "stdout",
     "output_type": "stream",
     "text": [
      "(6.998889148235321e-07, 'a')\n",
      "(2.0003400000277907, 'b')\n",
      "(2.0007422000635415, 'c')\n",
      "(2.000371400034055, 'd')\n"
     ]
    }
   ],
   "source": [
    "import time\n",
    "def elapsed_since(data):\n",
    "    last_time = time.perf_counter()\n",
    "    for item in data:\n",
    "        current_time = time.perf_counter()\n",
    "        delta = current_time - last_time\n",
    "        last_time = current_time\n",
    "        yield (delta, item)\n",
    "for t in elapsed_since('abcd'):\n",
    "    print(t)\n",
    "    time.sleep(2)"
   ]
  },
  {
   "cell_type": "markdown",
   "metadata": {},
   "source": [
    "#### Decorators"
   ]
  },
  {
   "cell_type": "code",
   "execution_count": 23,
   "metadata": {},
   "outputs": [
    {
     "name": "stdout",
     "output_type": "stream",
     "text": [
      "<b><i><u>hello world</u></i></b>\n"
     ]
    }
   ],
   "source": [
    "def make_bold(func):\n",
    "    def wrapped():\n",
    "        return \"<b>\"+ func() + \"</b>\"\n",
    "    return wrapped\n",
    "def make_italic(func):\n",
    "    def wrapped():\n",
    "        return \"<i>\"+ func() + \"</i>\"\n",
    "    return wrapped\n",
    "def make_underline(func):\n",
    "    def wrapped():\n",
    "        return \"<u>\"+ func() + \"</u>\"\n",
    "    return wrapped\n",
    "@make_bold\n",
    "@make_italic\n",
    "@make_underline\n",
    "def hello():\n",
    "    return \"hello world\"\n",
    "print(hello())   "
   ]
  },
  {
   "cell_type": "code",
   "execution_count": 25,
   "metadata": {},
   "outputs": [
    {
     "name": "stdout",
     "output_type": "stream",
     "text": [
      "Hello Abhay\n"
     ]
    },
    {
     "data": {
      "text/plain": [
       "'Hello Abhay'"
      ]
     },
     "execution_count": 25,
     "metadata": {},
     "output_type": "execute_result"
    }
   ],
   "source": [
    "from functools import wraps\n",
    "def printer(func):\n",
    "    @wraps(func)\n",
    "    def inner(*args, **kwargs):\n",
    "        return_value = func(*args, **kwargs)\n",
    "        if return_value is not None:\n",
    "            print(return_value)\n",
    "        return return_value\n",
    "    return inner\n",
    "@printer\n",
    "def hello(string):\n",
    "    return string\n",
    "hello(\"Hello Abhay\")"
   ]
  },
  {
   "cell_type": "code",
   "execution_count": 26,
   "metadata": {},
   "outputs": [
    {
     "name": "stdout",
     "output_type": "stream",
     "text": [
      "Values are matching\n"
     ]
    }
   ],
   "source": [
    "def double(func):\n",
    "    @wraps(func)\n",
    "    def inner(*args, **kwargs):\n",
    "        return func(*args, **kwargs) * 2\n",
    "    return inner\n",
    "@double\n",
    "def add_withDeco(a,b):\n",
    "    return a+b\n",
    "def add(a,b):\n",
    "    return a+b\n",
    "a=2\n",
    "b=3\n",
    "assert add(a,b)*2 == add_withDeco(a,b), \"Values are not matching\"\n",
    "print(\"Values are matching\")"
   ]
  },
  {
   "cell_type": "code",
   "execution_count": null,
   "metadata": {},
   "outputs": [],
   "source": []
  }
 ],
 "metadata": {
  "kernelspec": {
   "display_name": "Python 3",
   "language": "python",
   "name": "python3"
  },
  "language_info": {
   "codemirror_mode": {
    "name": "ipython",
    "version": 3
   },
   "file_extension": ".py",
   "mimetype": "text/x-python",
   "name": "python",
   "nbconvert_exporter": "python",
   "pygments_lexer": "ipython3",
   "version": "3.12.4"
  }
 },
 "nbformat": 4,
 "nbformat_minor": 2
}

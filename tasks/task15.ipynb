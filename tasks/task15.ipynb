{
 "cells": [
  {
   "cell_type": "code",
   "execution_count": 70,
   "metadata": {},
   "outputs": [],
   "source": [
    "import numpy as np "
   ]
  },
  {
   "cell_type": "code",
   "execution_count": 71,
   "metadata": {},
   "outputs": [
    {
     "name": "stdout",
     "output_type": "stream",
     "text": [
      "[[21 25 77]\n",
      " [71 75 89]\n",
      " [18  5 38]\n",
      " [45 39 90]]\n",
      "\n",
      "[[21 25 77]\n",
      " [71 75 89]\n",
      " [ 5 18 38]\n",
      " [39 45 90]]\n",
      "\n",
      "[[18  5 38]\n",
      " [21 25 77]\n",
      " [45 39 90]\n",
      " [71 75 89]]\n",
      "\n",
      "[[18  5 38]\n",
      " [21 25 77]\n",
      " [71 75 89]\n",
      " [45 39 90]]\n",
      "\n",
      "[[ 5 18 21]\n",
      " [25 38 39]\n",
      " [45 71 75]\n",
      " [77 89 90]]\n"
     ]
    }
   ],
   "source": [
    "arr = np.random.randint(0, 100, (4,3))\n",
    "print(arr)\n",
    "print()\n",
    "print(np.sort(arr))\n",
    "print()\n",
    "print(arr[arr[:, 1].argsort()])\n",
    "print()\n",
    "print(np.array(sorted(arr, key = lambda x: max(x))))\n",
    "print()\n",
    "print(np.sort(arr, axis = None).reshape(4,3))"
   ]
  },
  {
   "cell_type": "code",
   "execution_count": 72,
   "metadata": {},
   "outputs": [
    {
     "name": "stdout",
     "output_type": "stream",
     "text": [
      "[[ 77  83  98  95  89 442]\n",
      " [ 92  71  52  61  53 329]\n",
      " [ 63  46  90  42  87 328]\n",
      " [ 67  61  59  36  92 315]\n",
      " [ 82   9  29  78  36 234]\n",
      " [ 39  76  13  29  72 229]\n",
      " [ 13  10   9  33  41 106]]\n"
     ]
    }
   ],
   "source": [
    "marks = np.array([[13, 10,  9, 33],\n",
    "       [63, 46, 90, 42],\n",
    "       [39, 76, 13, 29],\n",
    "       [82,  9, 29, 78],\n",
    "       [67, 61, 59, 36]])\n",
    "# Add marks every student of an extra subject in the same array.\n",
    "extra_subject = np.array([41, 87, 72, 36, 92]).reshape(-1, 1)\n",
    "marks = np.concatenate([marks, extra_subject], axis = 1)\n",
    "# Add two new students marks in respective 5 subjects.\n",
    "rec1 = np.array([77, 83, 98, 95, 89]).reshape(1, -1)\n",
    "rec2 = np.array( [92, 71, 52, 61, 53]).reshape(1, -1)\n",
    "marks = np.concatenate([marks, rec1, rec2], axis = 0)\n",
    "# Add extra column with sum of all subjects\n",
    "sum_of_stud = marks.sum(axis = 1, keepdims=True)\n",
    "marks = np.concatenate([marks, sum_of_stud], axis = 1)\n",
    "# Sort the array(non-ascending order) on total marks column\n",
    "print(np.array(sorted(marks, key = lambda x: x[-1], reverse=True)))"
   ]
  },
  {
   "cell_type": "code",
   "execution_count": 73,
   "metadata": {},
   "outputs": [
    {
     "name": "stdout",
     "output_type": "stream",
     "text": [
      "[[0 9 1 2 8 8]\n",
      " [1 2 3 3 1 1]\n",
      " [1 2 3 8 8 8]]\n",
      "\n",
      "[[1 1 2 3 3]\n",
      " [0 8 9 1 2]\n",
      " [1 8 2 3 8]\n",
      " [1 1 2 3 3]]\n"
     ]
    }
   ],
   "source": [
    "arr = np.array([[1,2,3,3,1,1],\n",
    "                [0,9,1,2,8,8],\n",
    "                [1,2,3,8,8,8],\n",
    "                [1,2,3,3,1,1]])\n",
    "print(np.unique(arr, axis = 0))\n",
    "print()\n",
    "print(np.unique(arr, axis = 1))"
   ]
  },
  {
   "cell_type": "code",
   "execution_count": 74,
   "metadata": {},
   "outputs": [
    {
     "data": {
      "text/plain": [
       "array([[-1,  8, -2, 14, 19, 10],\n",
       "       [ 7, 11,  2,  1,  6,  0],\n",
       "       [ 1,  1,  3,  3,  2,  1],\n",
       "       [ 8,  8,  8,  3,  2,  1],\n",
       "       [ 8,  8,  2,  1,  9,  0],\n",
       "       [ 1,  1,  3,  3,  2,  1]])"
      ]
     },
     "execution_count": 74,
     "metadata": {},
     "output_type": "execute_result"
    }
   ],
   "source": [
    "arr = np.array([[1,2,3,3,1,1],\n",
    "               [0,9,1,2,8,8],\n",
    "               [1,2,3,8,8,8],\n",
    "               [1,2,3,3,1,1],\n",
    "               [0,6,1,2,11,7],\n",
    "               [10,19,14,-2,8,-1]])\n",
    "np.flip(arr, axis = [0, 1])"
   ]
  },
  {
   "cell_type": "code",
   "execution_count": 75,
   "metadata": {},
   "outputs": [
    {
     "data": {
      "text/plain": [
       "(array([1, 3], dtype=int64),)"
      ]
     },
     "execution_count": 75,
     "metadata": {},
     "output_type": "execute_result"
    }
   ],
   "source": [
    "arr = np.array([[1,2,3,4,5], \n",
    "      [10,-3,30,4,5], \n",
    "      [3,2,5,-4,5], \n",
    "      [9,7,3,6,5]] )\n",
    "X = 6\n",
    "\n",
    "np.where(np.any(arr > X, axis = 1))"
   ]
  },
  {
   "cell_type": "code",
   "execution_count": 76,
   "metadata": {},
   "outputs": [],
   "source": [
    "arr1 = np.arange(3)\n",
    "arr2 = np.arange(3,7)\n",
    "arr3 = np.arange(7,11)"
   ]
  },
  {
   "cell_type": "code",
   "execution_count": 77,
   "metadata": {},
   "outputs": [
    {
     "data": {
      "text/plain": [
       "array([ 0,  1,  2,  3,  4,  5,  6,  7,  8,  9, 10])"
      ]
     },
     "execution_count": 77,
     "metadata": {},
     "output_type": "execute_result"
    }
   ],
   "source": [
    "np.concatenate([arr1,arr2,arr3])"
   ]
  },
  {
   "cell_type": "code",
   "execution_count": 78,
   "metadata": {},
   "outputs": [
    {
     "name": "stdout",
     "output_type": "stream",
     "text": [
      "[[448 563 418 240 507 362 345 236 719 291 298 639 458 387 262 613 267 882\n",
      "  181 425 790 635 889 818 872 967 277 470 336 920 917 295 557 830 506 385\n",
      "  353 975 592 997 137 340 222 215 472 459 617 649 935 956 914 932 645 952\n",
      "  921 490 527 972 278 307 840 958 246 449 251 957 103 627 920 824 356 825\n",
      "  173 323 372 960 710 464 244 782 763 635 436 774 171 469 178 458 624 211\n",
      "  771 270 308 231 952 514 699 702 433 900 373 318 998 265 503 320 230 324\n",
      "  922 967 620 743 527 117 566 804 123 946 587 227 853 757 944 328 855 930\n",
      "  325 729 426 514 296 879 575 936 705 209 191 743 510 513 628 559 658 528\n",
      "  395 525 922 136 496 225 895 975 263 908 420 711 800 976 786 235 930 859\n",
      "  618 226 695 460 218 483 490 803 621 453 193 607 677 637 728 724 534 748\n",
      "  291 194 761 875 687 569 228 482 781 554 654 739 885 197 266 228 892 207\n",
      "  883 588]]\n",
      "998 103\n",
      "997 117\n"
     ]
    }
   ],
   "source": [
    "np.random.seed(400)\n",
    "arr = np.random.randint(100, 1000, 200).reshape((1, 200))\n",
    "print(arr)\n",
    "max_element = arr.argmax()\n",
    "min_element = arr.argmin()\n",
    "print(arr.max(), arr.min())\n",
    "arr = np.delete(arr, max_element, axis = 1)\n",
    "arr = np.delete(arr, min_element, axis = 1)\n",
    "print(arr.max(), arr.min())"
   ]
  },
  {
   "cell_type": "code",
   "execution_count": null,
   "metadata": {},
   "outputs": [],
   "source": []
  }
 ],
 "metadata": {
  "kernelspec": {
   "display_name": "Python 3",
   "language": "python",
   "name": "python3"
  },
  "language_info": {
   "codemirror_mode": {
    "name": "ipython",
    "version": 3
   },
   "file_extension": ".py",
   "mimetype": "text/x-python",
   "name": "python",
   "nbconvert_exporter": "python",
   "pygments_lexer": "ipython3",
   "version": "3.12.4"
  }
 },
 "nbformat": 4,
 "nbformat_minor": 2
}

{
 "cells": [
  {
   "cell_type": "code",
   "execution_count": null,
   "metadata": {},
   "outputs": [
    {
     "name": "stdout",
     "output_type": "stream",
     "text": [
      "5 4 3 2 1 \n",
      "4 3 2 1 \n",
      "3 2 1 \n",
      "2 1 \n",
      "1 \n"
     ]
    }
   ],
   "source": [
    "rows=int(input(\"Enter no of rows:-\" ))\n",
    "for i in range(0,rows):\n",
    "    for j in range(rows-i,0,-1):\n",
    "        print(j,end=' ')\n",
    "    print()    \n"
   ]
  },
  {
   "cell_type": "code",
   "execution_count": null,
   "metadata": {},
   "outputs": [
    {
     "name": "stdout",
     "output_type": "stream",
     "text": [
      "* \n",
      "* * \n",
      "* * * \n",
      "* * * * \n",
      "* * * * * \n",
      "* * * * \n",
      "* * * \n",
      "* * \n",
      "* \n",
      "\n"
     ]
    }
   ],
   "source": [
    "rows=int(input(\"Enter no of rows:-\" ))\n",
    "for i in range(1,rows+1):\n",
    "    for j in range(0,i):\n",
    "        print('*',end=' ')\n",
    "    print() \n",
    "for k in range(0,rows):\n",
    "    for l in range(rows-k,1,-1):\n",
    "        print('*',end=' ')\n",
    "    print()         "
   ]
  },
  {
   "cell_type": "code",
   "execution_count": 14,
   "metadata": {},
   "outputs": [
    {
     "name": "stdout",
     "output_type": "stream",
     "text": [
      "* \n",
      "* * \n",
      "* * * \n",
      "* * * * \n",
      "* * * * * \n",
      "* * * * \n",
      "* * * \n",
      "* * \n",
      "* \n"
     ]
    }
   ],
   "source": [
    "# More efficient code in terms of time complexity\n",
    "# Using string multiplication\n",
    "rows = int(input(\"Enter no of rows:- \"))\n",
    "for i in range(1, rows + 1):\n",
    "    print('* ' * i)  \n",
    "for i in range(rows - 1, 0, -1):\n",
    "    print('* ' * i)\n"
   ]
  },
  {
   "cell_type": "code",
   "execution_count": 16,
   "metadata": {},
   "outputs": [
    {
     "name": "stdout",
     "output_type": "stream",
     "text": [
      "     * \n",
      "    * * \n",
      "   * * * \n",
      "  * * * * \n",
      " * * * * * \n"
     ]
    }
   ],
   "source": [
    "rows=5\n",
    "for i in range(1,rows+1):\n",
    "    print(' '*rows,end='')\n",
    "    print('* '*i)\n",
    "    rows=rows-1\n",
    "    "
   ]
  },
  {
   "cell_type": "code",
   "execution_count": 27,
   "metadata": {},
   "outputs": [
    {
     "name": "stdout",
     "output_type": "stream",
     "text": [
      "1 \n",
      "2 1 \n",
      "3 2 1 \n",
      "4 3 2 1 \n",
      "5 4 3 2 1 \n"
     ]
    }
   ],
   "source": [
    "rows=5\n",
    "for i in range(1,rows+1):\n",
    "    for j in range(i,0,-1):\n",
    "        print(j,end=' ')\n",
    "    print()"
   ]
  },
  {
   "cell_type": "code",
   "execution_count": 33,
   "metadata": {},
   "outputs": [
    {
     "name": "stdout",
     "output_type": "stream",
     "text": [
      "1+x^2/2+x^3/3+x^4/4+x^5/5+x^6/6\n",
      "189551.0\n"
     ]
    }
   ],
   "source": [
    "x=10\n",
    "n=6\n",
    "sum=1\n",
    "str=''\n",
    "print('1+',end='')\n",
    "for i in range(2,n+1):\n",
    "    sum=sum+x**i/i\n",
    "    str=str+'x^{}/{}+'.format(i,i)\n",
    "print(str[:-1])  \n",
    "print(sum)  "
   ]
  },
  {
   "cell_type": "code",
   "execution_count": 38,
   "metadata": {},
   "outputs": [
    {
     "name": "stdout",
     "output_type": "stream",
     "text": [
      "10001"
     ]
    }
   ],
   "source": [
    "num=int(input(\"Enter your no:- \"))\n",
    "binary=[]\n",
    "while num>0:\n",
    "    binary.append(num%2)\n",
    "    num=num//2\n",
    "for i in binary[::-1]:\n",
    "  print(i,end='')   "
   ]
  },
  {
   "cell_type": "code",
   "execution_count": 47,
   "metadata": {},
   "outputs": [
    {
     "name": "stdout",
     "output_type": "stream",
     "text": [
      "MNNITA"
     ]
    }
   ],
   "source": [
    "text = 'Motilal Nehru National Institute of Technology Allahabad'\n",
    "result = ''\n",
    "for i in text.split():\n",
    "    if i.lower() != 'of': \n",
    "        print(i[0].upper(), end='')  \n"
   ]
  },
  {
   "cell_type": "code",
   "execution_count": 49,
   "metadata": {},
   "outputs": [
    {
     "name": "stdout",
     "output_type": "stream",
     "text": [
      "yaivePNT\n"
     ]
    }
   ],
   "source": [
    "str='PyNaTive'\n",
    "upper=''\n",
    "lower=''\n",
    "for i in str:\n",
    "  if i.islower():\n",
    "    lower=lower+i\n",
    "  else:\n",
    "    upper=upper+i\n",
    "print(lower+upper)"
   ]
  },
  {
   "cell_type": "code",
   "execution_count": null,
   "metadata": {},
   "outputs": [
    {
     "name": "stdout",
     "output_type": "stream",
     "text": [
      "22\n",
      "3.142857142857143\n",
      "7\n"
     ]
    }
   ],
   "source": [
    "str='hel123O4every093'\n",
    "sum=0\n",
    "count=0\n",
    "for i in str:\n",
    "    if i.isdigit():\n",
    "        sum=sum+int(i)\n",
    "        count+=1\n",
    "print(sum)\n",
    "print(sum/count)\n",
    "print(count)              "
   ]
  },
  {
   "cell_type": "code",
   "execution_count": 55,
   "metadata": {},
   "outputs": [
    {
     "name": "stdout",
     "output_type": "stream",
     "text": [
      "Allahabad Technology of Institute National Nehru Motilal\n"
     ]
    }
   ],
   "source": [
    "text='Motilal Nehru National Institute of Technology Allahabad'\n",
    "l=[]\n",
    "for i in text.split():\n",
    "    l.append(i)\n",
    "l=l[::-1]\n",
    "print(' '.join(l))    "
   ]
  },
  {
   "cell_type": "code",
   "execution_count": null,
   "metadata": {},
   "outputs": [],
   "source": []
  }
 ],
 "metadata": {
  "kernelspec": {
   "display_name": "Python 3",
   "language": "python",
   "name": "python3"
  },
  "language_info": {
   "codemirror_mode": {
    "name": "ipython",
    "version": 3
   },
   "file_extension": ".py",
   "mimetype": "text/x-python",
   "name": "python",
   "nbconvert_exporter": "python",
   "pygments_lexer": "ipython3",
   "version": "3.12.4"
  }
 },
 "nbformat": 4,
 "nbformat_minor": 2
}

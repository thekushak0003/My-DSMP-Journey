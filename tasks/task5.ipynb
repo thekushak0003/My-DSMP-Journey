{
 "cells": [
  {
   "cell_type": "code",
   "execution_count": 28,
   "metadata": {},
   "outputs": [
    {
     "name": "stdout",
     "output_type": "stream",
     "text": [
      "[(5, 6, 7, 8), (6, 10), (7, 13)]\n"
     ]
    }
   ],
   "source": [
    "test_list = [(5, 6),(5, 7),(5, 8),(6, 10),(7, 13)]\n",
    "unique = []\n",
    "for i in test_list:\n",
    "  unique.append(i[0])\n",
    "unique = set(unique)\n",
    "result = []\n",
    "for i in unique:\n",
    "  result.append([i])\n",
    "  for j in test_list:\n",
    "    if j[0] == i:\n",
    "      result[-1].append(j[1])\n",
    "print(list(map(tuple,result)))"
   ]
  },
  {
   "cell_type": "code",
   "execution_count": 29,
   "metadata": {},
   "outputs": [
    {
     "name": "stdout",
     "output_type": "stream",
     "text": [
      "[5, 40, 91, 136, 80]\n"
     ]
    }
   ],
   "source": [
    "t = (1, 5, 7, 8, 10)\n",
    "L = []\n",
    "L.append(t[0]*t[1])\n",
    "for i in range(1,len(t)-1):\n",
    "    L.append(t[i]*t[i-1]+t[i]*t[i+1])\n",
    "L.append(t[-1]*t[-2])\n",
    "print(L)    \n",
    "    "
   ]
  },
  {
   "cell_type": "code",
   "execution_count": 30,
   "metadata": {},
   "outputs": [
    {
     "name": "stdout",
     "output_type": "stream",
     "text": [
      "Lists-2\n",
      "Sets-2\n",
      "Tuples-1\n"
     ]
    }
   ],
   "source": [
    "L = [{'hi', 'bye'},{'Geeks', 'forGeeks'},('a', 'b'),['hi', 'bye'],['a', 'b']]\n",
    "output=[0,0,0]\n",
    "for i in L:\n",
    "    if type(i)==list:\n",
    "        output[0]=output[0]+1\n",
    "    elif type(i)==set:\n",
    "        output[1]=output[1]+1\n",
    "    else:\n",
    "        output[2]=output[2]+1 \n",
    "print('Lists-{}\\nSets-{}\\nTuples-{}'.format(output[0],output[1],output[2]))             "
   ]
  },
  {
   "cell_type": "code",
   "execution_count": 31,
   "metadata": {},
   "outputs": [
    {
     "name": "stdout",
     "output_type": "stream",
     "text": [
      "No of unique vowels- 6\n"
     ]
    }
   ],
   "source": [
    "vowels=set('aeiouAEIOU')\n",
    "\n",
    "s=set(\"hands-on data science mentorship progrAm with live classes at affordable fee only on CampusX\")\n",
    "\n",
    "print('No of unique vowels-',len(s&vowels))"
   ]
  },
  {
   "cell_type": "code",
   "execution_count": 32,
   "metadata": {},
   "outputs": [
    {
     "name": "stdout",
     "output_type": "stream",
     "text": [
      "Best\n"
     ]
    }
   ],
   "source": [
    "test_dict = {\"CampusX\" : [5, 7, 7, 7, 7], \"is\" : [6, 7, 7, 7], \"Best\" : [9, 9, 6, 5, 5]}\n",
    "max_val = 0\n",
    "max_key = ''\n",
    "for i in test_dict:\n",
    "  if max_val < len(set(test_dict[i])):\n",
    "    max_val = len(set(test_dict[i]))\n",
    "    max_key = i\n",
    "print(max_key)"
   ]
  },
  {
   "cell_type": "code",
   "execution_count": 33,
   "metadata": {},
   "outputs": [
    {
     "name": "stdout",
     "output_type": "stream",
     "text": [
      "CampusX is the best channel for Data-Science students.\n"
     ]
    }
   ],
   "source": [
    "test_str='CampusX best for DS students.'\n",
    "repl_dict={\"best\":\"is the best channel\",\"DS\":\"Data-Science\"}\n",
    "res=[]\n",
    "for i in test_str.split():\n",
    "  if i in repl_dict:\n",
    "    res.append(repl_dict[i])\n",
    "  else:\n",
    "    res.append(i)\n",
    "print(\" \".join(res))"
   ]
  },
  {
   "cell_type": "code",
   "execution_count": 34,
   "metadata": {},
   "outputs": [
    {
     "name": "stdout",
     "output_type": "stream",
     "text": [
      "[{'name': 'DataScience', 'id': 3}, {'name': 'is', 'id': 8}]\n"
     ]
    }
   ],
   "source": [
    "test_list=[\"DataScience\",3,\"is\",8]\n",
    "key_list=[\"name\",\"id\"]\n",
    "n=len(test_list)\n",
    "res=[]\n",
    "for i in range(0,n,2):\n",
    "  res.append({key_list[0]: test_list[i],key_list[1]:test_list[i+1]})\n",
    "print(res)"
   ]
  },
  {
   "cell_type": "code",
   "execution_count": 35,
   "metadata": {},
   "outputs": [
    {
     "name": "stdout",
     "output_type": "stream",
     "text": [
      "{'A': [1], 'B': [2], 'C': [3]}\n"
     ]
    }
   ],
   "source": [
    "L1=[(\"akash\",10),(\"gaurav\",12),(\"anand\",14),(\"suraj\",20),(\"akhil\",25),(\"ashish\",30)]\n",
    "L = [('A', 1), ('B', 2), ('C', 3)]\n",
    "d = {}\n",
    "for i,j in L:\n",
    "  d[i] = [j]\n",
    "print(d)"
   ]
  },
  {
   "cell_type": "code",
   "execution_count": 36,
   "metadata": {},
   "outputs": [
    {
     "name": "stdout",
     "output_type": "stream",
     "text": [
      "{'a': [4, 19], 'b': [10, 12], 'c': [3]}\n"
     ]
    }
   ],
   "source": [
    "d={'c':[3],'b':[12, 10],'a':[19, 4]}\n",
    "res = {}\n",
    "for i in sorted(d):\n",
    "  res[i] = sorted(d[i])\n",
    "print(res)"
   ]
  },
  {
   "cell_type": "code",
   "execution_count": null,
   "metadata": {},
   "outputs": [],
   "source": []
  }
 ],
 "metadata": {
  "kernelspec": {
   "display_name": "Python 3",
   "language": "python",
   "name": "python3"
  },
  "language_info": {
   "codemirror_mode": {
    "name": "ipython",
    "version": 3
   },
   "file_extension": ".py",
   "mimetype": "text/x-python",
   "name": "python",
   "nbconvert_exporter": "python",
   "pygments_lexer": "ipython3",
   "version": "3.12.4"
  }
 },
 "nbformat": 4,
 "nbformat_minor": 2
}

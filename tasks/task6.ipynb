{
 "cells": [
  {
   "cell_type": "code",
   "execution_count": 45,
   "metadata": {},
   "outputs": [
    {
     "data": {
      "text/plain": [
       "[1, 2, 3, 4, 5]"
      ]
     },
     "execution_count": 45,
     "metadata": {},
     "output_type": "execute_result"
    }
   ],
   "source": [
    "def return_unique(L):\n",
    "  res = []\n",
    "  for i in L:\n",
    "    if i not in res:\n",
    "      res.append(i)\n",
    "  return res\n",
    "L = [1,2,3,3,3,3,4,5]\n",
    "return_unique(L)"
   ]
  },
  {
   "cell_type": "code",
   "execution_count": 46,
   "metadata": {},
   "outputs": [
    {
     "data": {
      "text/plain": [
       "'black-green-red-white-yellow'"
      ]
     },
     "execution_count": 46,
     "metadata": {},
     "output_type": "execute_result"
    }
   ],
   "source": [
    "def sort_sequence(seq):\n",
    "  temp = []\n",
    "  for i in sorted(seq.split('-')):\n",
    "    temp.append(i)\n",
    "  return \"-\".join(temp)\n",
    "s = 'green-red-yellow-black-white'\n",
    "sort_sequence(s)"
   ]
  },
  {
   "cell_type": "code",
   "execution_count": 47,
   "metadata": {},
   "outputs": [
    {
     "name": "stdout",
     "output_type": "stream",
     "text": [
      "No. of Lower case characters: 47\n",
      "No. of Upper case Characters: 9\n"
     ]
    }
   ],
   "source": [
    "def lower_upper(str):\n",
    "    upper_count=0\n",
    "    lower_count=0\n",
    "    for i in str:\n",
    "        if i.islower():\n",
    "            lower_count+=1\n",
    "        elif i.isupper():\n",
    "            upper_count+=1 \n",
    "        else:\n",
    "            pass       \n",
    "    return lower_count,upper_count        \n",
    "str='CampusX is an Online Mentorship Program fOr EnginEering studentS.'  \n",
    "x,y = lower_upper(str)\n",
    "print('No. of Lower case characters:', x)\n",
    "print('No. of Upper case Characters:', y)          "
   ]
  },
  {
   "cell_type": "code",
   "execution_count": 48,
   "metadata": {},
   "outputs": [
    {
     "data": {
      "text/plain": [
       "True"
      ]
     },
     "execution_count": 48,
     "metadata": {},
     "output_type": "execute_result"
    }
   ],
   "source": [
    "def perfect_num(num):\n",
    "  sum = 0\n",
    "  for i in range(1,num):\n",
    "    if num % i == 0:\n",
    "      sum += i\n",
    "  return sum == num\n",
    "perfect_num(28)"
   ]
  },
  {
   "cell_type": "code",
   "execution_count": 49,
   "metadata": {},
   "outputs": [
    {
     "data": {
      "text/plain": [
       "{1: 10, 2: 20, 3: 30, 4: 40, 5: 50, 6: 60}"
      ]
     },
     "execution_count": 49,
     "metadata": {},
     "output_type": "execute_result"
    }
   ],
   "source": [
    "def merge_dict(*kwargs):\n",
    "  dict = {}\n",
    "  for i in kwargs:\n",
    "    dict.update(i)\n",
    "  return dict\n",
    "dic1={1:10, 2:20}\n",
    "dic2={3:30, 4:40}\n",
    "dic3={5:50,6:60}\n",
    "merge_dict(dic1,dic2,dic3)"
   ]
  },
  {
   "cell_type": "code",
   "execution_count": 50,
   "metadata": {},
   "outputs": [
    {
     "name": "stdout",
     "output_type": "stream",
     "text": [
      "{'hello': 3, 'how': 1, 'are': 1, 'you': 2, 'i': 1, 'am': 1, 'fine': 1, 'thank': 1}\n"
     ]
    }
   ],
   "source": [
    "def most_used(str):\n",
    "    dict={}\n",
    "    for i in str.split():\n",
    "        if i in dict:\n",
    "            dict[i]+=1\n",
    "        else:\n",
    "            dict[i]=1\n",
    "    print(dict)        \n",
    "most_used('hello hello hello how are you i am fine thank you')            "
   ]
  },
  {
   "cell_type": "code",
   "execution_count": 51,
   "metadata": {},
   "outputs": [
    {
     "name": "stdout",
     "output_type": "stream",
     "text": [
      "{'11-20': 2, '21-30': 1, '31-40': 2, '41-50': 3}\n"
     ]
    }
   ],
   "source": [
    "import math\n",
    "def histogram(L):\n",
    "    min_bin = math.floor(min(L) / 10) * 10  \n",
    "    max_bin = math.ceil(max(L) / 10) * 10   \n",
    "    d = {}\n",
    "    for i in range(min_bin, max_bin, 10): \n",
    "        count = 0\n",
    "        for j in L:\n",
    "            if i < j <= i + 10: \n",
    "                count += 1\n",
    "        d[f\"{i+1}-{i+10}\"] = count \n",
    "    return d\n",
    "print(histogram([13, 42, 15, 37, 22, 39, 41, 50]))\n"
   ]
  },
  {
   "cell_type": "code",
   "execution_count": 52,
   "metadata": {},
   "outputs": [
    {
     "data": {
      "text/plain": [
       "(2, -2)"
      ]
     },
     "execution_count": 52,
     "metadata": {},
     "output_type": "execute_result"
    }
   ],
   "source": [
    "def shortest_dist(points,query):\n",
    "  temp = []\n",
    "  for i in points:\n",
    "    distance = ((i[0] - query[0])**2 + (i[1] - query[1])**2)**0.5\n",
    "    temp.append(distance)\n",
    "  return points[sorted(list(enumerate(temp)),key=lambda x:x[1])[0][0]]\n",
    "points = [(1,4),(2,-2),(13,3),(14,4)]\n",
    "query = (0,0)\n",
    "shortest_dist(points,query)"
   ]
  },
  {
   "cell_type": "code",
   "execution_count": 53,
   "metadata": {},
   "outputs": [
    {
     "name": "stdout",
     "output_type": "stream",
     "text": [
      "{'rat', 'mat', 'fat', 'sat', 'pat', 'bat', 'cat'}\n"
     ]
    },
    {
     "data": {
      "text/plain": [
       "[[1, 1, 0, 0, 0, 0, 2], [1, 0, 1, 1, 0, 1, 1], [1, 1, 0, 0, 1, 0, 1]]"
      ]
     },
     "execution_count": 53,
     "metadata": {},
     "output_type": "execute_result"
    }
   ],
   "source": [
    "def bow(L):\n",
    "  vocab = set()\n",
    "  for i in L:\n",
    "    vocab.update(i.split())\n",
    "  result = []\n",
    "  for i in L:\n",
    "    result.append([])\n",
    "    for j in vocab:\n",
    "      result[-1].append(i.count(j))\n",
    "  print(vocab)\n",
    "  return result\n",
    "L = [\n",
    "    'cat mat rat cat',\n",
    "     'sat bat fat cat rat',\n",
    "     'pat cat mat rat'\n",
    "]\n",
    "bow(L)"
   ]
  },
  {
   "cell_type": "code",
   "execution_count": 55,
   "metadata": {},
   "outputs": [
    {
     "data": {
      "text/plain": [
       "[1, 2, 3, 3, 6, 7, 7, 5, 4]"
      ]
     },
     "execution_count": 55,
     "metadata": {},
     "output_type": "execute_result"
    }
   ],
   "source": [
    "initial_list = [[1, 2, 3],\n",
    "            [3, 6, 7],\n",
    "            [7, 5, 4]]\n",
    "import functools\n",
    "functools.reduce(lambda x,y:x+y,initial_list)"
   ]
  },
  {
   "cell_type": "code",
   "execution_count": null,
   "metadata": {},
   "outputs": [],
   "source": []
  }
 ],
 "metadata": {
  "kernelspec": {
   "display_name": "Python 3",
   "language": "python",
   "name": "python3"
  },
  "language_info": {
   "codemirror_mode": {
    "name": "ipython",
    "version": 3
   },
   "file_extension": ".py",
   "mimetype": "text/x-python",
   "name": "python",
   "nbconvert_exporter": "python",
   "pygments_lexer": "ipython3",
   "version": "3.12.4"
  }
 },
 "nbformat": 4,
 "nbformat_minor": 2
}

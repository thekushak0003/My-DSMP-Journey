{
 "cells": [
  {
   "cell_type": "code",
   "execution_count": 10,
   "metadata": {},
   "outputs": [
    {
     "name": "stdout",
     "output_type": "stream",
     "text": [
      "length 4\n",
      "width 5\n",
      "perimeter 18\n",
      "area 20\n"
     ]
    }
   ],
   "source": [
    "class Rectangle:\n",
    "    def __init__(self,l,b):\n",
    "        self.__length = l\n",
    "        self.__width = b\n",
    "    def __perimeter(self):\n",
    "        return 2*(self.__length + self.__width)\n",
    "    def __area(self):\n",
    "        return self.__length * self.__width\n",
    "    def display(self):\n",
    "        print('length',self.__length)\n",
    "        print('width',self.__width)\n",
    "        print('perimeter',self.__perimeter())\n",
    "        print('area',self.__area())\n",
    "obj = Rectangle(4,5)\n",
    "obj.display()"
   ]
  },
  {
   "cell_type": "code",
   "execution_count": 11,
   "metadata": {},
   "outputs": [
    {
     "name": "stdout",
     "output_type": "stream",
     "text": [
      "Account Number : 936472856954\n",
      "Account Name : Abhay\n",
      "Account Balance : ₹ 52155.0\n"
     ]
    }
   ],
   "source": [
    "\n",
    "class Bank:\n",
    "    def __init__(self,name,acc_no,balance):\n",
    "        self.__name=name\n",
    "        self.__acc_no=acc_no\n",
    "        self.__balance=balance\n",
    "    def display(self):\n",
    "        print('Account Number :',self.__acc_no)\n",
    "        print('Account Name :',self.__name)\n",
    "        print('Account Balance :','₹',self.__balance) \n",
    "    def deposit(self,amount):\n",
    "        self.__balance=self.__balance+amount\n",
    "    def withdrawl(self,amount):\n",
    "        if amount>self.__balance:\n",
    "            print('Insufficient Amount')\n",
    "        else:\n",
    "            self.__balance=self.__balance-amount\n",
    "            reduction=self.__bankFees()  \n",
    "            self.__balance=self.__balance-reduction\n",
    "    def __bankFees(self):\n",
    "        return 0.05*self.__balance\n",
    "cust = Bank('Abhay',936472856954,50000)\n",
    "cust.deposit(5000)\n",
    "cust.withdrawl(100)\n",
    "cust.display()                    "
   ]
  },
  {
   "cell_type": "code",
   "execution_count": 14,
   "metadata": {},
   "outputs": [
    {
     "name": "stdout",
     "output_type": "stream",
     "text": [
      "The numbers 13 and 7 are co-primes\n",
      "List of divisors of 18: [1, 2, 3, 6, 9, 18]\n",
      "List of prime divisors of 18: [2, 3]\n",
      "\n",
      "the multiplication table of: 1 is:\n",
      "1 x 1 = 1\n",
      "2 x 1 = 2\n",
      "3 x 1 = 3\n",
      "4 x 1 = 4\n",
      "5 x 1 = 5\n",
      "\n",
      "the multiplication table of: 2 is:\n",
      "1 x 2 = 2\n",
      "2 x 2 = 4\n",
      "3 x 2 = 6\n",
      "4 x 2 = 8\n",
      "5 x 2 = 10\n",
      "\n",
      "the multiplication table of: 3 is:\n",
      "1 x 3 = 3\n",
      "2 x 3 = 6\n",
      "3 x 3 = 9\n",
      "4 x 3 = 12\n",
      "5 x 3 = 15\n",
      "\n",
      "the multiplication table of: 4 is:\n",
      "1 x 4 = 4\n",
      "2 x 4 = 8\n",
      "3 x 4 = 12\n",
      "4 x 4 = 16\n",
      "5 x 4 = 20\n",
      "\n",
      "the multiplication table of: 5 is:\n",
      "1 x 5 = 5\n",
      "2 x 5 = 10\n",
      "3 x 5 = 15\n",
      "4 x 5 = 20\n",
      "5 x 5 = 25\n"
     ]
    }
   ],
   "source": [
    "# Compution Class\n",
    "class Computation:\n",
    "    def __init__ (self):\n",
    "        pass\n",
    "# --- Factorial ------------\n",
    "    def factorial(self, n):\n",
    "        j = 1\n",
    "        for i in range (1, n + 1):\n",
    "            j = j * i\n",
    "        return j   \n",
    "# --- Sum of the first n numbers ----\n",
    "    def naturalSum(self, n):\n",
    "        j = 1\n",
    "        for i in range (1, n + 1):\n",
    "            j = j + i\n",
    "        return j   \n",
    "# --- Primality test of a number ------------\n",
    "    def testPrime(self, n):\n",
    "        j = 0\n",
    "        for i in range (1, n + 1):\n",
    "            if (n% i == 0):\n",
    "                j = j + 1\n",
    "        if (j == 2):\n",
    "            return True\n",
    "        else:\n",
    "            return False\n",
    "# --- Primality test of two integers ------------\n",
    "    def testPrims(self, n, m):      \n",
    "        # initialize the number of commons divisors\n",
    "        commonDiv = 0\n",
    "        for i in range (1, n + 1):\n",
    "            if (n% i == 0 and m% i == 0):\n",
    "                commonDiv = commonDiv + 1\n",
    "        if commonDiv == 1:\n",
    "            print (\"The numbers\", n, \"and\", m, \"are co-primes\")\n",
    "        else:\n",
    "            print (\"The numbers\", n, \"and\", m, \"are not co-primes\")\n",
    "#---Multiplication table-------------\n",
    "    def tableMult(self, k):\n",
    "        for i in range (1,3):\n",
    "            print (i, \"x\", k, \"=\", i * k)\n",
    "# --- All multiplication tables of the numbers 1, 2, .., 9\n",
    "    def allTables(self):\n",
    "        for k in range (1,6):\n",
    "            print (\"\\nthe multiplication table of:\", k, \"is:\")\n",
    "            for i in range (1,6):\n",
    "                print (i, \"x\", k, \"=\", i * k)\n",
    "# ----- list of divisors of an integer\n",
    "    def listDivisor(self, n):\n",
    "        # initialization of the list of divisors\n",
    "        lDiv = []\n",
    "        for i in range (1, n + 1):\n",
    "            if (n% i == 0):\n",
    "                lDiv.append (i)\n",
    "        return lDiv\n",
    "# ------ list of prime divisors of an integer ----------------\n",
    "    def listPrimeDivisor(self, n):\n",
    "        # initialization of the list of divisors\n",
    "        lDiv = []\n",
    "        for i in range (1, n + 1):\n",
    "            if (n% i == 0 and self.testPrime(i)):\n",
    "                lDiv.append(i)\n",
    "        return lDiv\n",
    "# Instantiation example\n",
    "Comput= Computation ()\n",
    "Comput.testPrims(13, 7)\n",
    "print (\"List of divisors of 18:\", Comput.listDivisor(18))\n",
    "print (\"List of prime divisors of 18:\", Comput.listPrimeDivisor(18))\n",
    "Comput.allTables()"
   ]
  },
  {
   "cell_type": "code",
   "execution_count": 17,
   "metadata": {},
   "outputs": [
    {
     "name": "stdout",
     "output_type": "stream",
     "text": [
      "Welcome to the fruit quiz\n",
      "What is the color of strawberry\n",
      "Galat jawab\n",
      "What is the color of banana\n",
      "Sahi jawab\n",
      "What is the color of apple\n",
      "Galat jawab\n"
     ]
    }
   ],
   "source": [
    "# Flashcard using OOPs in python\n",
    "import random \n",
    "class FlashCard:\n",
    "    def __init__(self):\n",
    "        self.__fruits = {\n",
    "            'apple':'red',\n",
    "            'banana':'yellow',\n",
    "            'watermelon':'green',\n",
    "            'strawberry':'pink',\n",
    "            'guava':'green'\n",
    "        }\n",
    "    def quiz(self):\n",
    "        while True:\n",
    "            fruit,color = random.choices(list(self.__fruits.items()))[0]\n",
    "            print('What is the color of {}'.format(fruit))\n",
    "            user_answer = input()\n",
    "            if user_answer.lower() == color:\n",
    "                print('Sahi jawab')\n",
    "            else:\n",
    "                print('Galat jawab')\n",
    "            option = input('enter 0 to play again 1 to exit')\n",
    "            if option.isdigit() and int(option) == 1:\n",
    "                break\n",
    "print('Welcome to the fruit quiz')\n",
    "fc = FlashCard()\n",
    "fc.quiz()"
   ]
  },
  {
   "cell_type": "code",
   "execution_count": 18,
   "metadata": {},
   "outputs": [
    {
     "data": {
      "text/plain": [
       "'Ye to usko aata hi nai hai'"
      ]
     },
     "execution_count": 18,
     "metadata": {},
     "output_type": "execute_result"
    }
   ],
   "source": [
    "class Instructor:\n",
    "    def __init__(self,name,technology,experience,feedback):\n",
    "        self.__name = name\n",
    "        self.__technology = technology\n",
    "        self.__experience = experience\n",
    "        self.__feedback = feedback\n",
    "\n",
    "    def check_eligibility(self):\n",
    "        if self.__experience > 3 and self.__feedback >= 4.5:\n",
    "            return True\n",
    "        elif self.__experience <= 3 and self.__feedback >= 4:\n",
    "            return True\n",
    "        else:\n",
    "            return False\n",
    "    def allocate_course(self,tech):\n",
    "        is_eligible = self.check_eligibility()\n",
    "\n",
    "        if is_eligible:\n",
    "            if tech in self.__technology:\n",
    "                return 'Padha sakta hai'\n",
    "            else:\n",
    "                return 'Ye to usko aata hi nai hai'\n",
    "        else:\n",
    "            return 'acha nai padhata hai'\n",
    "ins = Instructor('Nitish',['Data Science','Web Development'],5,4.9)\n",
    "ins.allocate_course('Android Dev')"
   ]
  },
  {
   "cell_type": "code",
   "execution_count": null,
   "metadata": {},
   "outputs": [],
   "source": []
  }
 ],
 "metadata": {
  "kernelspec": {
   "display_name": "Python 3",
   "language": "python",
   "name": "python3"
  },
  "language_info": {
   "codemirror_mode": {
    "name": "ipython",
    "version": 3
   },
   "file_extension": ".py",
   "mimetype": "text/x-python",
   "name": "python",
   "nbconvert_exporter": "python",
   "pygments_lexer": "ipython3",
   "version": "3.12.4"
  }
 },
 "nbformat": 4,
 "nbformat_minor": 2
}

{
 "cells": [
  {
   "cell_type": "code",
   "execution_count": 36,
   "metadata": {},
   "outputs": [
    {
     "name": "stdout",
     "output_type": "stream",
     "text": [
      "4\n"
     ]
    }
   ],
   "source": [
    "class Car:\n",
    "  __counter = 0\n",
    "  def __init__(self):\n",
    "    Car.__counter += 1\n",
    "  def get_counter():\n",
    "    return Car.__counter\n",
    "o1 = Car()\n",
    "o2 = Car()\n",
    "o3 = Car()\n",
    "o4 = Car()\n",
    "print(Car.get_counter())"
   ]
  },
  {
   "cell_type": "code",
   "execution_count": 37,
   "metadata": {},
   "outputs": [
    {
     "name": "stdout",
     "output_type": "stream",
     "text": [
      "Clubs-> 2\n",
      "Clubs-> Q\n",
      "Cards left 50\n"
     ]
    }
   ],
   "source": [
    "import random\n",
    "class Card:\n",
    "  def __init__(self,suit,value):\n",
    "    self.suit = suit\n",
    "    self.value = value\n",
    "  def __repr__(self):\n",
    "    return \"{}-> {}\".format(self.suit,self.value)\n",
    "class Deck:\n",
    "  def __init__(self):\n",
    "    suits = ['Hearts','Diamonds','Clubs','Spades']\n",
    "    values = ['A','2','3','4','5','6','7','8','9','10','J','K','Q']\n",
    "    self.cards = [Card(suit,value) for suit in suits for value in values]\n",
    "  def __str__(self):\n",
    "    return \"Cards left \" + str(len(self.cards))\n",
    "  def shuffle(self):\n",
    "    if len(self.cards) < 52:\n",
    "      print('only full deck can be shuffled')\n",
    "    else:\n",
    "      random.shuffle(self.cards)\n",
    "    return self.cards\n",
    "  def deal(self):\n",
    "    if len(self.cards) == 0:\n",
    "      print('All cards have been dealt')\n",
    "    return self.cards.pop()\n",
    "deck = Deck()\n",
    "deck.shuffle()\n",
    "print(deck.deal())\n",
    "print(deck.deal())\n",
    "print(deck)"
   ]
  },
  {
   "cell_type": "code",
   "execution_count": 38,
   "metadata": {},
   "outputs": [
    {
     "name": "stdout",
     "output_type": "stream",
     "text": [
      "16\n",
      "True\n"
     ]
    }
   ],
   "source": [
    "class Rectangle:\n",
    "  def __init__(self,l,b):\n",
    "    self.length = l\n",
    "    self.breadth = b\n",
    "  @classmethod\n",
    "  def property(cls,len,bre):\n",
    "    return cls(len,bre)\n",
    "  def area(self):\n",
    "    return self.length*self.breadth\n",
    "  def is_square(self):\n",
    "    return True if self.length == self.breadth else False\n",
    "r = Rectangle.property(4,4)\n",
    "print(r.area())\n",
    "print(r.is_square())"
   ]
  },
  {
   "cell_type": "code",
   "execution_count": 40,
   "metadata": {},
   "outputs": [
    {
     "name": "stdout",
     "output_type": "stream",
     "text": [
      "153006 days, 0:00:00\n"
     ]
    }
   ],
   "source": [
    "import datetime\n",
    "class Product:\n",
    "  def __init__(self):\n",
    "    while True:\n",
    "      try:\n",
    "        self.manufacture_date = input('enter manufacturing date (MM/DD/YYYY): ')\n",
    "        self.manufacture_date = datetime.datetime.strptime(self.manufacture_date, '%m/%d/%Y')\n",
    "        break\n",
    "      except ValueError:\n",
    "        print(\"Incorrect format. Please enter date in MM/DD/YYYY format.\")\n",
    "    while True:\n",
    "      try:\n",
    "        self.expiry_date = input('enter expiry date (MM/DD/YYYY): ')\n",
    "        self.expiry_date = datetime.datetime.strptime(self.expiry_date, '%m/%d/%Y')\n",
    "        break\n",
    "      except ValueError:\n",
    "        print(\"Incorrect format. Please enter date in MM/DD/YYYY format.\")\n",
    "  def time_to_expire(self):\n",
    "    today = datetime.datetime.now()\n",
    "    if today > self.expiry_date:\n",
    "      print('product expired already')\n",
    "    else:\n",
    "      time_left = self.expiry_date.date() - today.date()\n",
    "      print(time_left)\n",
    "obj = Product()\n",
    "obj.time_to_expire()"
   ]
  },
  {
   "cell_type": "code",
   "execution_count": 41,
   "metadata": {},
   "outputs": [
    {
     "name": "stdout",
     "output_type": "stream",
     "text": [
      "101\n",
      "66\n",
      "19\n"
     ]
    },
    {
     "data": {
      "text/plain": [
       "False"
      ]
     },
     "execution_count": 41,
     "metadata": {},
     "output_type": "execute_result"
    }
   ],
   "source": [
    "class Student:\n",
    "  def __init__(self):\n",
    "    self.__sid = None\n",
    "    self.__marks = None\n",
    "    self.__age = None\n",
    "  # setter methods\n",
    "  def set_sid(self,sid):\n",
    "    self.__sid = sid\n",
    "  def set_marks(self,marks):\n",
    "    self.__marks = marks\n",
    "  def set_age(self,age):\n",
    "   self.__age = age\n",
    "  # getters\n",
    "  def get_sid(self):\n",
    "    return self.__sid\n",
    "  def get_marks(self):\n",
    "    return self.__marks\n",
    "  def get_age(self):\n",
    "    return self.__age\n",
    "  def validate_age(self):\n",
    "    return self.__age>20\n",
    "  def validate_marks(self):\n",
    "    return self.__marks>=0 and self.__marks<=100\n",
    "  def check_qualification(self):\n",
    "    if self.validate_age() and self.validate_marks():\n",
    "      return self.__marks>= 65\n",
    "    else:\n",
    "      return False\n",
    "stu1 = Student()\n",
    "stu1.set_sid(101)\n",
    "stu1.set_marks(66)\n",
    "stu1.set_age(19)\n",
    "print(stu1.get_sid())\n",
    "print(stu1.get_marks())\n",
    "print(stu1.get_age())\n",
    "stu1.check_qualification()"
   ]
  },
  {
   "cell_type": "code",
   "execution_count": 42,
   "metadata": {},
   "outputs": [],
   "source": [
    "class Scoop:\n",
    "\n",
    "  __counter = 0\n",
    "\n",
    "  def __init__(self,flavor,num_scoops=1):\n",
    "    self.flavor = flavor\n",
    "    self.__price = None\n",
    "    self.num_scoops = num_scoops\n",
    "    Scoop.__counter += 1\n",
    "\n",
    "\n",
    "  def get_price(self):\n",
    "    return self.__price\n",
    "\n",
    "  def set_price(self,price):\n",
    "    self.__price = price\n",
    "\n",
    "  def __str__(self):\n",
    "    return \"Flavor - {} and Price - {}\".format(self.flavor,self.__price)\n",
    "\n",
    "  @staticmethod\n",
    "  def sold():\n",
    "    return Scoop.__counter\n",
    "\n",
    "\n",
    "class Bowl:\n",
    "\n",
    "  __counter = 0\n",
    "\n",
    "  def __init__(self,max_scoops=3):\n",
    "    self.__scoop_list = []\n",
    "    Bowl.__counter += 1\n",
    "    self.scoops_added = 0\n",
    "    self.max_scoops = max_scoops\n",
    "\n",
    "  def add_scoops(self,*new_scoops):\n",
    "    for scoop in new_scoops:\n",
    "      if self.scoops_added + scoop.num_scoops <= self.max_scoops:\n",
    "        self.__scoop_list.append(scoop)\n",
    "        self.scoops_added = self.scoops_added + scoop.num_scoops\n",
    "        print(scoop.flavor,'added!')\n",
    "      else:\n",
    "        print('Bowl is full')\n",
    "        break\n",
    "\n",
    "  def display(self):\n",
    "    total = 0\n",
    "    for scoop in self.__scoop_list:\n",
    "      print(scoop)\n",
    "      total = total + scoop.get_price()\n",
    "\n",
    "    print('total price',total)\n",
    "\n",
    "  @staticmethod\n",
    "  def sold():\n",
    "    return Bowl.__count"
   ]
  },
  {
   "cell_type": "code",
   "execution_count": 43,
   "metadata": {},
   "outputs": [
    {
     "name": "stdout",
     "output_type": "stream",
     "text": [
      "Flavor - chocolate and Price - 100\n",
      "Flavor - berry and Price - 120\n",
      "Flavor - vanilla and Price - 150\n",
      "chocolate added!\n",
      "berry added!\n",
      "Bowl is full\n",
      "Flavor - chocolate and Price - 100\n",
      "Flavor - berry and Price - 120\n",
      "total price 220\n"
     ]
    }
   ],
   "source": [
    "choco = Scoop('chocolate', 1)\n",
    "choco.set_price(100)\n",
    "print(choco)\n",
    "\n",
    "\n",
    "berry = Scoop('berry', 2)\n",
    "berry.set_price(120)\n",
    "print(berry)\n",
    "\n",
    "vanilla = Scoop('vanilla') # no of scoop parameter not given, will take default value\n",
    "vanilla.set_price(150)\n",
    "print(vanilla)\n",
    "\n",
    "bowl1 = Bowl() # max_scoop parameter not given, will take default value\n",
    "bowl1.add_scoops(choco) # Giving one parameter\n",
    "bowl1.add_scoops(berry, vanilla) # Multiple\n",
    "bowl1.display()"
   ]
  },
  {
   "cell_type": "code",
   "execution_count": null,
   "metadata": {},
   "outputs": [],
   "source": []
  }
 ],
 "metadata": {
  "kernelspec": {
   "display_name": "Python 3",
   "language": "python",
   "name": "python3"
  },
  "language_info": {
   "codemirror_mode": {
    "name": "ipython",
    "version": 3
   },
   "file_extension": ".py",
   "mimetype": "text/x-python",
   "name": "python",
   "nbconvert_exporter": "python",
   "pygments_lexer": "ipython3",
   "version": "3.12.4"
  }
 },
 "nbformat": 4,
 "nbformat_minor": 2
}

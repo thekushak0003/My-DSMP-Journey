{
 "cells": [
  {
   "cell_type": "code",
   "execution_count": 66,
   "metadata": {},
   "outputs": [
    {
     "name": "stdout",
     "output_type": "stream",
     "text": [
      "5500.0\n"
     ]
    }
   ],
   "source": [
    "class Vehicle:\n",
    "    def __init__(self,type,capacity):\n",
    "        self.type=type\n",
    "        self.capacity=capacity\n",
    "    def fare(self):\n",
    "        return 100*self.capacity\n",
    "\n",
    "class Bus(Vehicle):\n",
    "    def fare(self):\n",
    "        base_fare=super().fare()\n",
    "        bus_fare=base_fare+0.1*base_fare\n",
    "        return bus_fare\n",
    "bus=Bus('School bus',50) \n",
    "print(bus.fare())             "
   ]
  },
  {
   "cell_type": "code",
   "execution_count": 67,
   "metadata": {},
   "outputs": [
    {
     "name": "stdout",
     "output_type": "stream",
     "text": [
      "Source is:- (1,2)\n",
      "Destination is:- (4,5)\n",
      "Reflection is:- (4,-5)\n"
     ]
    }
   ],
   "source": [
    "class Point:\n",
    "    def __init__(self,x,y):\n",
    "        self.x=x\n",
    "        self.y=y\n",
    "    def show_point(self):\n",
    "        return '({},{})'.format(self.x,self.y)    \n",
    "class Location:\n",
    "    def __init__(self,x1,y1,x2,y2):\n",
    "        self.source=Point(x1,y1) \n",
    "        self.destination=Point(x2,y2)\n",
    "    def show(self):\n",
    "        print('Source is:-',self.source.show_point()) \n",
    "        print('Destination is:-',self.destination.show_point())\n",
    "    def reflection(self):\n",
    "        self.destination.y= -self.destination.y\n",
    "        print('Reflection is:-',self.destination.show_point())   \n",
    "        \n",
    "L=Location(1,2,4,5)\n",
    "L.show()\n",
    "L.reflection()                   "
   ]
  },
  {
   "cell_type": "code",
   "execution_count": 68,
   "metadata": {},
   "outputs": [
    {
     "name": "stdout",
     "output_type": "stream",
     "text": [
      "20\n"
     ]
    },
    {
     "data": {
      "text/plain": [
       "3.0"
      ]
     },
     "execution_count": 68,
     "metadata": {},
     "output_type": "execute_result"
    }
   ],
   "source": [
    "from abc import ABC,abstractmethod\n",
    "class Polygon(ABC):\n",
    "    @abstractmethod\n",
    "    def get_data():\n",
    "        pass\n",
    "    @abstractmethod\n",
    "    def area():\n",
    "        pass\n",
    "class Rectangle(Polygon):\n",
    "    def get_data(self,l,b):\n",
    "        self.l=l \n",
    "        self.b=b\n",
    "    def area(self):\n",
    "        return self.l*self.b\n",
    "class Triangle(Polygon):\n",
    "    def get_data(self,base,h):\n",
    "        self.base=base \n",
    "        self.h=h \n",
    "    def area(self):\n",
    "        return 0.5*(self.base*self.h)     \n",
    "rect=Rectangle()\n",
    "rect.get_data(4,5)\n",
    "print(rect.area())\n",
    "tri=Triangle()\n",
    "tri.get_data(3,2)\n",
    "tri.area()            \n"
   ]
  },
  {
   "cell_type": "code",
   "execution_count": 69,
   "metadata": {},
   "outputs": [],
   "source": [
    "class Bill:\n",
    "    def __init__(self,items,price):\n",
    "        self.total=0\n",
    "        self.items=items\n",
    "        self.price=price\n",
    "        for i in self.price:\n",
    "            self.total=self.total+i\n",
    "    def display(self):\n",
    "        print('Items \\t\\t Price')\n",
    "        for i in range(len(self.items)):\n",
    "            print(self.items[i],'\\t',self.price[i])\n",
    "        print('*'*20)\n",
    "        print('Total',self.total)\n",
    "        \n",
    "class CashPayment(Bill):\n",
    "    def __init__(self, items, price,deno,value):\n",
    "        super().__init__(items, price)\n",
    "        self.deno=deno\n",
    "        self.value=value\n",
    "    def show_cash_payment(self):\n",
    "        super().display()\n",
    "        for i in range(len(self.deno)):\n",
    "            print(self.deno[i],'*',self.value[i],'=',self.deno[i]*self.value[i])\n",
    "            \n",
    "class ChequePayment(Bill):\n",
    "    def __init__(self, items, price,cno,name):\n",
    "        super().__init__(items, price)\n",
    "        self.cno=cno\n",
    "        self.name=name\n",
    "    def show_cheque_payment(self):\n",
    "        super().display()\n",
    "        print('Cheque no:-',self.cno)\n",
    "        print('Bank name:-',self.name)                           \n",
    "            "
   ]
  },
  {
   "cell_type": "code",
   "execution_count": null,
   "metadata": {},
   "outputs": [
    {
     "name": "stdout",
     "output_type": "stream",
     "text": [
      "Items \t\t Price\n",
      "Hard Disk \t 5000\n",
      "R A M \t 2000\n",
      "Printer \t 6000\n",
      "Pen Drive \t 8000\n",
      "********************\n",
      "Total 21000\n",
      "Cheque no:- 123456\n",
      "Bank name:- State Bank of India\n"
     ]
    }
   ],
   "source": [
    "items = [\"Hard Disk\", \"RAM\", \"Printer\", \"Pen Drive\"]\n",
    "price = [5000, 2000, 6000, 8000]\n",
    "option = int(input(\"Would you like to pay by cheque or cash (1/2): \"))\n",
    "if option == 1:\n",
    "    name = input(\"Enter the name of the bank: \")\n",
    "    cno = input(\"Enter the cheque number: \")\n",
    "    cheque = ChequePayment(items, price, cno, name)\n",
    "    cheque.show_cheque_payment()\n",
    "else:\n",
    "    deno = [10, 20, 50, 100, 500, 2000]\n",
    "    value = [1, 1, 1, 20, 4, 5]\n",
    "    cash = CashPayment(items, price, deno, value)\n",
    "    cash.show_cash_payment()"
   ]
  },
  {
   "cell_type": "code",
   "execution_count": null,
   "metadata": {},
   "outputs": [],
   "source": []
  }
 ],
 "metadata": {
  "kernelspec": {
   "display_name": "Python 3",
   "language": "python",
   "name": "python3"
  },
  "language_info": {
   "codemirror_mode": {
    "name": "ipython",
    "version": 3
   },
   "file_extension": ".py",
   "mimetype": "text/x-python",
   "name": "python",
   "nbconvert_exporter": "python",
   "pygments_lexer": "ipython3",
   "version": "3.12.4"
  }
 },
 "nbformat": 4,
 "nbformat_minor": 2
}

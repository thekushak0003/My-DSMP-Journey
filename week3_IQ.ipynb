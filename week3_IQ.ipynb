{
 "cells": [
  {
   "cell_type": "markdown",
   "metadata": {},
   "source": [
    "- How indexing works in sets\n",
    "- Why dict key cant be mutable data types\n",
    "- Enumerate\n",
    "- destructor\n",
    "- dir/isinstance/issubclass\n",
    "- classmethod vs staticmethod\n",
    "- The diamond problem\n",
    "- What’s the meaning of single and double underscores in Python variable and method names\n",
    "- Magic Methods (repr vs str)\n",
    "- How can objects be stored in sets even though they are mutable"
   ]
  },
  {
   "cell_type": "code",
   "execution_count": 4,
   "metadata": {},
   "outputs": [
    {
     "data": {
      "text/plain": [
       "{10, 13, 22, 34, 55}"
      ]
     },
     "execution_count": 4,
     "metadata": {},
     "output_type": "execute_result"
    }
   ],
   "source": [
    "s = {10,34,55,22,13}\n",
    "s"
   ]
  },
  {
   "cell_type": "code",
   "execution_count": 5,
   "metadata": {},
   "outputs": [
    {
     "data": {
      "text/plain": [
       "[('Ankita', 40), ('Ankit', 31), ('Abhay', 19)]"
      ]
     },
     "execution_count": 5,
     "metadata": {},
     "output_type": "execute_result"
    }
   ],
   "source": [
    "# Enumerate\n",
    "# The enumerate() method adds a counter to an iterable and returns it (the enumerate object).\n",
    "L = [('Abhay',19),('Ankit',31),('Ankita',40)]\n",
    "\n",
    "sorted(L,key=lambda x:x[1],reverse=True)"
   ]
  },
  {
   "cell_type": "code",
   "execution_count": null,
   "metadata": {},
   "outputs": [],
   "source": []
  }
 ],
 "metadata": {
  "kernelspec": {
   "display_name": "Python 3",
   "language": "python",
   "name": "python3"
  },
  "language_info": {
   "codemirror_mode": {
    "name": "ipython",
    "version": 3
   },
   "file_extension": ".py",
   "mimetype": "text/x-python",
   "name": "python",
   "nbconvert_exporter": "python",
   "pygments_lexer": "ipython3",
   "version": "3.12.4"
  }
 },
 "nbformat": 4,
 "nbformat_minor": 2
}

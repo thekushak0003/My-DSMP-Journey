{
 "cells": [
  {
   "cell_type": "markdown",
   "metadata": {},
   "source": [
    "- How indexing works in sets\n",
    "- Why dict key cant be mutable data types\n",
    "- Enumerate\n",
    "- destructor\n",
    "- dir/isinstance/issubclass\n",
    "- classmethod vs staticmethod\n",
    "- The diamond problem\n",
    "- What’s the meaning of single and double underscores in Python variable and method names\n",
    "- Magic Methods (repr vs str)\n",
    "- How can objects be stored in sets even though they are mutable"
   ]
  },
  {
   "cell_type": "code",
   "execution_count": null,
   "metadata": {},
   "outputs": [],
   "source": []
  }
 ],
 "metadata": {
  "kernelspec": {
   "display_name": "Python 3",
   "language": "python",
   "name": "python3"
  },
  "language_info": {
   "codemirror_mode": {
    "name": "ipython",
    "version": 3
   },
   "file_extension": ".py",
   "mimetype": "text/x-python",
   "name": "python",
   "nbconvert_exporter": "python",
   "pygments_lexer": "ipython3",
   "version": "3.12.4"
  }
 },
 "nbformat": 4,
 "nbformat_minor": 2
}
